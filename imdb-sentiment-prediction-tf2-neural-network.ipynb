{
 "cells": [
  {
   "cell_type": "markdown",
   "id": "8df455da",
   "metadata": {
    "papermill": {
     "duration": 0.024047,
     "end_time": "2023-01-04T14:25:51.326241",
     "exception": false,
     "start_time": "2023-01-04T14:25:51.302194",
     "status": "completed"
    },
    "tags": []
   },
   "source": [
    "# IMDB Dataset of 50K Movie Reviews \n",
    "\n",
    "Welcome to the notebook on building a prediction model in classifying sentiments from movie reviews with TensorFlow 2.0 :D\n"
   ]
  },
  {
   "cell_type": "markdown",
   "id": "5ea114b5",
   "metadata": {
    "papermill": {
     "duration": 0.019159,
     "end_time": "2023-01-04T14:25:51.365573",
     "exception": false,
     "start_time": "2023-01-04T14:25:51.346414",
     "status": "completed"
    },
    "tags": []
   },
   "source": [
    "# Dataset\n",
    "This IMDB dataset was published by Maas et al for binary sentiment classification studies. It contains 50k movie reviews in English and is considered as haviing more data from some other datasets. The dataset provides 50000 highly polar movie reviews and sentiment labels (positive/negative)\n",
    "\n",
    "For the original dataset and paper please read Learning Word Vectors for Sentiment Analysis (Maas et al., ACL2011) http://ai.stanford.edu/~amaas/data/sentiment/\n",
    "# Method\n",
    "Sentiment labels were transformed into binary labels (0,1). Movie reviews were tokenized with gensim functionality by mapping words to the top 5000 frequent words in the reviews. The tokenized reviews were one hot encoded and standardized. A artifical neural network with 2 hidden layers was constructed and compiled. To reduce overfitting, adam (adaptative moment estimated) was used to adjust learning rate. Dropout and early stopping were adopted as well. The resultant model has test accuracy of ~85% with >0.9 recall and >0.7 precision. "
   ]
  },
  {
   "cell_type": "markdown",
   "id": "f702094c",
   "metadata": {
    "papermill": {
     "duration": 0.019526,
     "end_time": "2023-01-04T14:25:51.408252",
     "exception": false,
     "start_time": "2023-01-04T14:25:51.388726",
     "status": "completed"
    },
    "tags": []
   },
   "source": [
    "# Hardware check"
   ]
  },
  {
   "cell_type": "code",
   "execution_count": 1,
   "id": "6b0ab20f",
   "metadata": {
    "execution": {
     "iopub.execute_input": "2023-01-04T14:25:51.449899Z",
     "iopub.status.busy": "2023-01-04T14:25:51.449299Z",
     "iopub.status.idle": "2023-01-04T14:25:51.465560Z",
     "shell.execute_reply": "2023-01-04T14:25:51.464217Z"
    },
    "papermill": {
     "duration": 0.039537,
     "end_time": "2023-01-04T14:25:51.468343",
     "exception": false,
     "start_time": "2023-01-04T14:25:51.428806",
     "status": "completed"
    },
    "tags": []
   },
   "outputs": [
    {
     "name": "stdout",
     "output_type": "stream",
     "text": [
      "23.6\n",
      "svmem(total=33670017024, available=32600338432, percent=3.2, used=591564800, free=27379937280, active=1351544832, inactive=4353429504, buffers=1105920000, cached=4592594944, shared=987136, slab=427974656)\n",
      "memory % used: 3.2\n"
     ]
    }
   ],
   "source": [
    "from __future__ import print_function\n",
    "import psutil\n",
    "print(psutil.cpu_percent())\n",
    "print(psutil.virtual_memory())  # physical memory usage\n",
    "print('memory % used:', psutil.virtual_memory()[2])"
   ]
  },
  {
   "cell_type": "code",
   "execution_count": 2,
   "id": "a40a79c8",
   "metadata": {
    "execution": {
     "iopub.execute_input": "2023-01-04T14:25:51.510768Z",
     "iopub.status.busy": "2023-01-04T14:25:51.509784Z",
     "iopub.status.idle": "2023-01-04T14:25:57.261442Z",
     "shell.execute_reply": "2023-01-04T14:25:57.259842Z"
    },
    "papermill": {
     "duration": 5.775324,
     "end_time": "2023-01-04T14:25:57.264229",
     "exception": false,
     "start_time": "2023-01-04T14:25:51.488905",
     "status": "completed"
    },
    "tags": []
   },
   "outputs": [
    {
     "name": "stdout",
     "output_type": "stream",
     "text": [
      "Num GPUs Available:  0\n"
     ]
    }
   ],
   "source": [
    "import tensorflow as tf\n",
    "print(\"Num GPUs Available: \", len(tf.config.list_physical_devices('GPU')))"
   ]
  },
  {
   "cell_type": "markdown",
   "id": "5840d906",
   "metadata": {
    "papermill": {
     "duration": 0.019181,
     "end_time": "2023-01-04T14:25:57.304595",
     "exception": false,
     "start_time": "2023-01-04T14:25:57.285414",
     "status": "completed"
    },
    "tags": []
   },
   "source": [
    "# Import modules"
   ]
  },
  {
   "cell_type": "code",
   "execution_count": 3,
   "id": "25296645",
   "metadata": {
    "execution": {
     "iopub.execute_input": "2023-01-04T14:25:57.351216Z",
     "iopub.status.busy": "2023-01-04T14:25:57.350018Z",
     "iopub.status.idle": "2023-01-04T14:26:20.727467Z",
     "shell.execute_reply": "2023-01-04T14:26:20.725880Z"
    },
    "papermill": {
     "duration": 23.404801,
     "end_time": "2023-01-04T14:26:20.730362",
     "exception": false,
     "start_time": "2023-01-04T14:25:57.325561",
     "status": "completed"
    },
    "tags": []
   },
   "outputs": [
    {
     "name": "stdout",
     "output_type": "stream",
     "text": [
      "Collecting git+https://github.com/tensorflow/docs\r\n",
      "  Cloning https://github.com/tensorflow/docs to /tmp/pip-req-build-9_qxxtyf\r\n",
      "  Running command git clone --filter=blob:none --quiet https://github.com/tensorflow/docs /tmp/pip-req-build-9_qxxtyf\r\n",
      "  Resolved https://github.com/tensorflow/docs to commit 881afa31a959c86c39664c1d81d00e453eddf3f2\r\n",
      "  Preparing metadata (setup.py) ... \u001b[?25l-\b \b\\\b \bdone\r\n",
      "\u001b[?25hCollecting astor\r\n",
      "  Downloading astor-0.8.1-py2.py3-none-any.whl (27 kB)\r\n",
      "Requirement already satisfied: absl-py in /opt/conda/lib/python3.7/site-packages (from tensorflow-docs==0.0.0.dev0) (0.15.0)\r\n",
      "Requirement already satisfied: jinja2 in /opt/conda/lib/python3.7/site-packages (from tensorflow-docs==0.0.0.dev0) (3.1.2)\r\n",
      "Requirement already satisfied: nbformat in /opt/conda/lib/python3.7/site-packages (from tensorflow-docs==0.0.0.dev0) (5.4.0)\r\n",
      "Requirement already satisfied: protobuf<3.20,>=3.12.0 in /opt/conda/lib/python3.7/site-packages (from tensorflow-docs==0.0.0.dev0) (3.19.4)\r\n",
      "Requirement already satisfied: pyyaml in /opt/conda/lib/python3.7/site-packages (from tensorflow-docs==0.0.0.dev0) (6.0)\r\n",
      "Requirement already satisfied: six in /opt/conda/lib/python3.7/site-packages (from absl-py->tensorflow-docs==0.0.0.dev0) (1.15.0)\r\n",
      "Requirement already satisfied: MarkupSafe>=2.0 in /opt/conda/lib/python3.7/site-packages (from jinja2->tensorflow-docs==0.0.0.dev0) (2.1.1)\r\n",
      "Requirement already satisfied: traitlets>=5.1 in /opt/conda/lib/python3.7/site-packages (from nbformat->tensorflow-docs==0.0.0.dev0) (5.3.0)\r\n",
      "Requirement already satisfied: jupyter-core in /opt/conda/lib/python3.7/site-packages (from nbformat->tensorflow-docs==0.0.0.dev0) (4.10.0)\r\n",
      "Requirement already satisfied: jsonschema>=2.6 in /opt/conda/lib/python3.7/site-packages (from nbformat->tensorflow-docs==0.0.0.dev0) (4.6.1)\r\n",
      "Requirement already satisfied: fastjsonschema in /opt/conda/lib/python3.7/site-packages (from nbformat->tensorflow-docs==0.0.0.dev0) (2.15.3)\r\n",
      "Requirement already satisfied: attrs>=17.4.0 in /opt/conda/lib/python3.7/site-packages (from jsonschema>=2.6->nbformat->tensorflow-docs==0.0.0.dev0) (21.4.0)\r\n",
      "Requirement already satisfied: importlib-resources>=1.4.0 in /opt/conda/lib/python3.7/site-packages (from jsonschema>=2.6->nbformat->tensorflow-docs==0.0.0.dev0) (5.8.0)\r\n",
      "Requirement already satisfied: importlib-metadata in /opt/conda/lib/python3.7/site-packages (from jsonschema>=2.6->nbformat->tensorflow-docs==0.0.0.dev0) (4.13.0)\r\n",
      "Requirement already satisfied: pyrsistent!=0.17.0,!=0.17.1,!=0.17.2,>=0.14.0 in /opt/conda/lib/python3.7/site-packages (from jsonschema>=2.6->nbformat->tensorflow-docs==0.0.0.dev0) (0.18.1)\r\n",
      "Requirement already satisfied: typing-extensions in /opt/conda/lib/python3.7/site-packages (from jsonschema>=2.6->nbformat->tensorflow-docs==0.0.0.dev0) (4.4.0)\r\n",
      "Requirement already satisfied: zipp>=3.1.0 in /opt/conda/lib/python3.7/site-packages (from importlib-resources>=1.4.0->jsonschema>=2.6->nbformat->tensorflow-docs==0.0.0.dev0) (3.8.0)\r\n",
      "Building wheels for collected packages: tensorflow-docs\r\n",
      "  Building wheel for tensorflow-docs (setup.py) ... \u001b[?25l-\b \b\\\b \b|\b \b/\b \bdone\r\n",
      "\u001b[?25h  Created wheel for tensorflow-docs: filename=tensorflow_docs-0.0.0.dev0-py3-none-any.whl size=184469 sha256=ef9c3df6613316f759e52648c84322cc54f2bd3ca7d1251f8272734074a16cf3\r\n",
      "  Stored in directory: /tmp/pip-ephem-wheel-cache-7cw8213o/wheels/cc/c4/d8/5341e93b6376c5c929c49469fce21155eb69cef1a4da4ce32c\r\n",
      "Successfully built tensorflow-docs\r\n",
      "Installing collected packages: astor, tensorflow-docs\r\n",
      "Successfully installed astor-0.8.1 tensorflow-docs-0.0.0.dev0\r\n",
      "\u001b[33mWARNING: Running pip as the 'root' user can result in broken permissions and conflicting behaviour with the system package manager. It is recommended to use a virtual environment instead: https://pip.pypa.io/warnings/venv\u001b[0m\u001b[33m\r\n",
      "\u001b[0m"
     ]
    }
   ],
   "source": [
    "!pip install git+https://github.com/tensorflow/docs"
   ]
  },
  {
   "cell_type": "code",
   "execution_count": 4,
   "id": "a9e2b13d",
   "metadata": {
    "execution": {
     "iopub.execute_input": "2023-01-04T14:26:20.775375Z",
     "iopub.status.busy": "2023-01-04T14:26:20.774939Z",
     "iopub.status.idle": "2023-01-04T14:26:24.218125Z",
     "shell.execute_reply": "2023-01-04T14:26:24.216011Z"
    },
    "papermill": {
     "duration": 3.468831,
     "end_time": "2023-01-04T14:26:24.221118",
     "exception": false,
     "start_time": "2023-01-04T14:26:20.752287",
     "status": "completed"
    },
    "tags": []
   },
   "outputs": [
    {
     "name": "stderr",
     "output_type": "stream",
     "text": [
      "[nltk_data] Downloading package punkt to /usr/share/nltk_data...\n",
      "[nltk_data]   Package punkt is already up-to-date!\n"
     ]
    },
    {
     "data": {
      "text/plain": [
       "True"
      ]
     },
     "execution_count": 4,
     "metadata": {},
     "output_type": "execute_result"
    }
   ],
   "source": [
    "import numpy as np\n",
    "import pandas as pd\n",
    "import matplotlib.pyplot as plt\n",
    "import seaborn as sns\n",
    "import nltk\n",
    "from gensim.corpora.dictionary import Dictionary as gdict\n",
    "from sklearn.preprocessing import StandardScaler\n",
    "from sklearn.model_selection import train_test_split\n",
    "import tensorflow as tf\n",
    "import tensorflow_docs as tfdocs\n",
    "import tensorflow_docs.modeling\n",
    "import tensorflow_docs.plots\n",
    "import pathlib\n",
    "import shutil\n",
    "import tempfile\n",
    "import gc\n",
    "\n",
    "nltk.download('punkt')"
   ]
  },
  {
   "cell_type": "code",
   "execution_count": 5,
   "id": "09525810",
   "metadata": {
    "execution": {
     "iopub.execute_input": "2023-01-04T14:26:24.265105Z",
     "iopub.status.busy": "2023-01-04T14:26:24.264676Z",
     "iopub.status.idle": "2023-01-04T14:26:24.270287Z",
     "shell.execute_reply": "2023-01-04T14:26:24.269319Z"
    },
    "papermill": {
     "duration": 0.030461,
     "end_time": "2023-01-04T14:26:24.272823",
     "exception": false,
     "start_time": "2023-01-04T14:26:24.242362",
     "status": "completed"
    },
    "tags": []
   },
   "outputs": [],
   "source": [
    "logdir = pathlib.Path(tempfile.mkdtemp())/\"tensorboard_logs\"\n",
    "shutil.rmtree(logdir, ignore_errors=True)"
   ]
  },
  {
   "cell_type": "code",
   "execution_count": 6,
   "id": "721db2c5",
   "metadata": {
    "execution": {
     "iopub.execute_input": "2023-01-04T14:26:24.316265Z",
     "iopub.status.busy": "2023-01-04T14:26:24.315851Z",
     "iopub.status.idle": "2023-01-04T14:26:24.320810Z",
     "shell.execute_reply": "2023-01-04T14:26:24.319543Z"
    },
    "papermill": {
     "duration": 0.029214,
     "end_time": "2023-01-04T14:26:24.323086",
     "exception": false,
     "start_time": "2023-01-04T14:26:24.293872",
     "status": "completed"
    },
    "tags": []
   },
   "outputs": [],
   "source": [
    "# uncomment this cell to run locally\n",
    "#df_raw = pd.read_csv('IMDBDataset.csv')"
   ]
  },
  {
   "cell_type": "code",
   "execution_count": 7,
   "id": "85aa58f1",
   "metadata": {
    "execution": {
     "iopub.execute_input": "2023-01-04T14:26:24.366655Z",
     "iopub.status.busy": "2023-01-04T14:26:24.366270Z",
     "iopub.status.idle": "2023-01-04T14:26:24.377461Z",
     "shell.execute_reply": "2023-01-04T14:26:24.376144Z"
    },
    "papermill": {
     "duration": 0.036014,
     "end_time": "2023-01-04T14:26:24.379820",
     "exception": false,
     "start_time": "2023-01-04T14:26:24.343806",
     "status": "completed"
    },
    "tags": []
   },
   "outputs": [
    {
     "name": "stdout",
     "output_type": "stream",
     "text": [
      "/kaggle/input/imdb-dataset-of-50k-movie-reviews/IMDB Dataset.csv\n"
     ]
    }
   ],
   "source": [
    "# uncomment this cell to run on kaggle\n",
    "import os\n",
    "for dirname, _, filenames in os.walk('/kaggle/input'):\n",
    "    for filename in filenames:\n",
    "        print(os.path.join(dirname, filename))"
   ]
  },
  {
   "cell_type": "code",
   "execution_count": 8,
   "id": "4c85a720",
   "metadata": {
    "execution": {
     "iopub.execute_input": "2023-01-04T14:26:24.423428Z",
     "iopub.status.busy": "2023-01-04T14:26:24.423050Z",
     "iopub.status.idle": "2023-01-04T14:26:26.043127Z",
     "shell.execute_reply": "2023-01-04T14:26:26.041854Z"
    },
    "papermill": {
     "duration": 1.645114,
     "end_time": "2023-01-04T14:26:26.045948",
     "exception": false,
     "start_time": "2023-01-04T14:26:24.400834",
     "status": "completed"
    },
    "tags": []
   },
   "outputs": [],
   "source": [
    "df_raw = pd.read_csv(\"/kaggle/input/imdb-dataset-of-50k-movie-reviews/IMDB Dataset.csv\")"
   ]
  },
  {
   "cell_type": "code",
   "execution_count": 9,
   "id": "71ec7252",
   "metadata": {
    "execution": {
     "iopub.execute_input": "2023-01-04T14:26:26.091485Z",
     "iopub.status.busy": "2023-01-04T14:26:26.090356Z",
     "iopub.status.idle": "2023-01-04T14:26:26.097846Z",
     "shell.execute_reply": "2023-01-04T14:26:26.096708Z"
    },
    "papermill": {
     "duration": 0.032876,
     "end_time": "2023-01-04T14:26:26.100212",
     "exception": false,
     "start_time": "2023-01-04T14:26:26.067336",
     "status": "completed"
    },
    "tags": []
   },
   "outputs": [
    {
     "data": {
      "text/plain": [
       "(50000, 2)"
      ]
     },
     "execution_count": 9,
     "metadata": {},
     "output_type": "execute_result"
    }
   ],
   "source": [
    "df_raw.shape"
   ]
  },
  {
   "cell_type": "code",
   "execution_count": 10,
   "id": "2d8003be",
   "metadata": {
    "execution": {
     "iopub.execute_input": "2023-01-04T14:26:26.145306Z",
     "iopub.status.busy": "2023-01-04T14:26:26.144905Z",
     "iopub.status.idle": "2023-01-04T14:26:26.164577Z",
     "shell.execute_reply": "2023-01-04T14:26:26.163160Z"
    },
    "papermill": {
     "duration": 0.045309,
     "end_time": "2023-01-04T14:26:26.167290",
     "exception": false,
     "start_time": "2023-01-04T14:26:26.121981",
     "status": "completed"
    },
    "tags": []
   },
   "outputs": [
    {
     "data": {
      "text/html": [
       "<div>\n",
       "<style scoped>\n",
       "    .dataframe tbody tr th:only-of-type {\n",
       "        vertical-align: middle;\n",
       "    }\n",
       "\n",
       "    .dataframe tbody tr th {\n",
       "        vertical-align: top;\n",
       "    }\n",
       "\n",
       "    .dataframe thead th {\n",
       "        text-align: right;\n",
       "    }\n",
       "</style>\n",
       "<table border=\"1\" class=\"dataframe\">\n",
       "  <thead>\n",
       "    <tr style=\"text-align: right;\">\n",
       "      <th></th>\n",
       "      <th>review</th>\n",
       "      <th>sentiment</th>\n",
       "    </tr>\n",
       "  </thead>\n",
       "  <tbody>\n",
       "    <tr>\n",
       "      <th>0</th>\n",
       "      <td>One of the other reviewers has mentioned that ...</td>\n",
       "      <td>positive</td>\n",
       "    </tr>\n",
       "    <tr>\n",
       "      <th>1</th>\n",
       "      <td>A wonderful little production. &lt;br /&gt;&lt;br /&gt;The...</td>\n",
       "      <td>positive</td>\n",
       "    </tr>\n",
       "    <tr>\n",
       "      <th>2</th>\n",
       "      <td>I thought this was a wonderful way to spend ti...</td>\n",
       "      <td>positive</td>\n",
       "    </tr>\n",
       "    <tr>\n",
       "      <th>3</th>\n",
       "      <td>Basically there's a family where a little boy ...</td>\n",
       "      <td>negative</td>\n",
       "    </tr>\n",
       "    <tr>\n",
       "      <th>4</th>\n",
       "      <td>Petter Mattei's \"Love in the Time of Money\" is...</td>\n",
       "      <td>positive</td>\n",
       "    </tr>\n",
       "  </tbody>\n",
       "</table>\n",
       "</div>"
      ],
      "text/plain": [
       "                                              review sentiment\n",
       "0  One of the other reviewers has mentioned that ...  positive\n",
       "1  A wonderful little production. <br /><br />The...  positive\n",
       "2  I thought this was a wonderful way to spend ti...  positive\n",
       "3  Basically there's a family where a little boy ...  negative\n",
       "4  Petter Mattei's \"Love in the Time of Money\" is...  positive"
      ]
     },
     "execution_count": 10,
     "metadata": {},
     "output_type": "execute_result"
    }
   ],
   "source": [
    "df_raw.head()"
   ]
  },
  {
   "cell_type": "code",
   "execution_count": 11,
   "id": "dbac2618",
   "metadata": {
    "execution": {
     "iopub.execute_input": "2023-01-04T14:26:26.211817Z",
     "iopub.status.busy": "2023-01-04T14:26:26.211320Z",
     "iopub.status.idle": "2023-01-04T14:26:26.229823Z",
     "shell.execute_reply": "2023-01-04T14:26:26.228628Z"
    },
    "papermill": {
     "duration": 0.043845,
     "end_time": "2023-01-04T14:26:26.232346",
     "exception": false,
     "start_time": "2023-01-04T14:26:26.188501",
     "status": "completed"
    },
    "tags": []
   },
   "outputs": [
    {
     "data": {
      "text/plain": [
       "positive    25000\n",
       "negative    25000\n",
       "Name: sentiment, dtype: int64"
      ]
     },
     "execution_count": 11,
     "metadata": {},
     "output_type": "execute_result"
    }
   ],
   "source": [
    "df_raw['sentiment'].value_counts()"
   ]
  },
  {
   "cell_type": "markdown",
   "id": "ed8738bd",
   "metadata": {
    "papermill": {
     "duration": 0.021385,
     "end_time": "2023-01-04T14:26:26.275280",
     "exception": false,
     "start_time": "2023-01-04T14:26:26.253895",
     "status": "completed"
    },
    "tags": []
   },
   "source": [
    "# Data preparation"
   ]
  },
  {
   "cell_type": "code",
   "execution_count": 12,
   "id": "aeb8de56",
   "metadata": {
    "execution": {
     "iopub.execute_input": "2023-01-04T14:26:26.320195Z",
     "iopub.status.busy": "2023-01-04T14:26:26.319764Z",
     "iopub.status.idle": "2023-01-04T14:26:26.326169Z",
     "shell.execute_reply": "2023-01-04T14:26:26.325275Z"
    },
    "papermill": {
     "duration": 0.031202,
     "end_time": "2023-01-04T14:26:26.328356",
     "exception": false,
     "start_time": "2023-01-04T14:26:26.297154",
     "status": "completed"
    },
    "tags": []
   },
   "outputs": [],
   "source": [
    "df = df_raw.copy()"
   ]
  },
  {
   "cell_type": "code",
   "execution_count": 13,
   "id": "bd20a374",
   "metadata": {
    "execution": {
     "iopub.execute_input": "2023-01-04T14:26:26.373039Z",
     "iopub.status.busy": "2023-01-04T14:26:26.372581Z",
     "iopub.status.idle": "2023-01-04T14:26:26.389390Z",
     "shell.execute_reply": "2023-01-04T14:26:26.388102Z"
    },
    "papermill": {
     "duration": 0.042195,
     "end_time": "2023-01-04T14:26:26.392142",
     "exception": false,
     "start_time": "2023-01-04T14:26:26.349947",
     "status": "completed"
    },
    "tags": []
   },
   "outputs": [],
   "source": [
    "# map sentiment into binary variables\n",
    "\n",
    "binary_map =  {'negative':0, 'positive': 1}\n",
    "df['sentiment'] = df['sentiment'].map(binary_map)"
   ]
  },
  {
   "cell_type": "code",
   "execution_count": 14,
   "id": "e6c70a00",
   "metadata": {
    "execution": {
     "iopub.execute_input": "2023-01-04T14:26:26.437277Z",
     "iopub.status.busy": "2023-01-04T14:26:26.436834Z",
     "iopub.status.idle": "2023-01-04T14:26:26.443220Z",
     "shell.execute_reply": "2023-01-04T14:26:26.441804Z"
    },
    "papermill": {
     "duration": 0.031896,
     "end_time": "2023-01-04T14:26:26.445839",
     "exception": false,
     "start_time": "2023-01-04T14:26:26.413943",
     "status": "completed"
    },
    "tags": []
   },
   "outputs": [],
   "source": [
    "reviews_raw = df['review']"
   ]
  },
  {
   "cell_type": "code",
   "execution_count": 15,
   "id": "3b1a2a5c",
   "metadata": {
    "execution": {
     "iopub.execute_input": "2023-01-04T14:26:26.492636Z",
     "iopub.status.busy": "2023-01-04T14:26:26.492227Z",
     "iopub.status.idle": "2023-01-04T14:26:26.502304Z",
     "shell.execute_reply": "2023-01-04T14:26:26.501403Z"
    },
    "papermill": {
     "duration": 0.03773,
     "end_time": "2023-01-04T14:26:26.504898",
     "exception": false,
     "start_time": "2023-01-04T14:26:26.467168",
     "status": "completed"
    },
    "tags": []
   },
   "outputs": [
    {
     "data": {
      "text/plain": [
       "0        One of the other reviewers has mentioned that ...\n",
       "1        A wonderful little production. <br /><br />The...\n",
       "2        I thought this was a wonderful way to spend ti...\n",
       "3        Basically there's a family where a little boy ...\n",
       "4        Petter Mattei's \"Love in the Time of Money\" is...\n",
       "                               ...                        \n",
       "49995    I thought this movie did a down right good job...\n",
       "49996    Bad plot, bad dialogue, bad acting, idiotic di...\n",
       "49997    I am a Catholic taught in parochial elementary...\n",
       "49998    I'm going to have to disagree with the previou...\n",
       "49999    No one expects the Star Trek movies to be high...\n",
       "Name: review, Length: 50000, dtype: object"
      ]
     },
     "execution_count": 15,
     "metadata": {},
     "output_type": "execute_result"
    }
   ],
   "source": [
    "reviews_raw"
   ]
  },
  {
   "cell_type": "code",
   "execution_count": 16,
   "id": "6ca96254",
   "metadata": {
    "execution": {
     "iopub.execute_input": "2023-01-04T14:26:26.549537Z",
     "iopub.status.busy": "2023-01-04T14:26:26.549109Z",
     "iopub.status.idle": "2023-01-04T14:26:26.558054Z",
     "shell.execute_reply": "2023-01-04T14:26:26.557243Z"
    },
    "papermill": {
     "duration": 0.034144,
     "end_time": "2023-01-04T14:26:26.560582",
     "exception": false,
     "start_time": "2023-01-04T14:26:26.526438",
     "status": "completed"
    },
    "tags": []
   },
   "outputs": [
    {
     "data": {
      "text/plain": [
       "1    25000\n",
       "0    25000\n",
       "Name: sentiment, dtype: int64"
      ]
     },
     "execution_count": 16,
     "metadata": {},
     "output_type": "execute_result"
    }
   ],
   "source": [
    "df['sentiment'].value_counts()"
   ]
  },
  {
   "cell_type": "code",
   "execution_count": 17,
   "id": "bb7a3a84",
   "metadata": {
    "execution": {
     "iopub.execute_input": "2023-01-04T14:26:26.607019Z",
     "iopub.status.busy": "2023-01-04T14:26:26.606599Z",
     "iopub.status.idle": "2023-01-04T14:26:26.612085Z",
     "shell.execute_reply": "2023-01-04T14:26:26.610845Z"
    },
    "papermill": {
     "duration": 0.032194,
     "end_time": "2023-01-04T14:26:26.614433",
     "exception": false,
     "start_time": "2023-01-04T14:26:26.582239",
     "status": "completed"
    },
    "tags": []
   },
   "outputs": [],
   "source": [
    "def convert_lower(text):\n",
    "    return text.lower()"
   ]
  },
  {
   "cell_type": "code",
   "execution_count": 18,
   "id": "a50c0440",
   "metadata": {
    "execution": {
     "iopub.execute_input": "2023-01-04T14:26:26.660849Z",
     "iopub.status.busy": "2023-01-04T14:26:26.660416Z",
     "iopub.status.idle": "2023-01-04T14:26:26.813313Z",
     "shell.execute_reply": "2023-01-04T14:26:26.812071Z"
    },
    "papermill": {
     "duration": 0.180067,
     "end_time": "2023-01-04T14:26:26.816467",
     "exception": false,
     "start_time": "2023-01-04T14:26:26.636400",
     "status": "completed"
    },
    "tags": []
   },
   "outputs": [],
   "source": [
    "df['review'] = df['review'].apply(convert_lower)"
   ]
  },
  {
   "cell_type": "code",
   "execution_count": 19,
   "id": "851ecb9a",
   "metadata": {
    "execution": {
     "iopub.execute_input": "2023-01-04T14:26:26.862326Z",
     "iopub.status.busy": "2023-01-04T14:26:26.861227Z",
     "iopub.status.idle": "2023-01-04T14:26:26.872087Z",
     "shell.execute_reply": "2023-01-04T14:26:26.870997Z"
    },
    "papermill": {
     "duration": 0.036533,
     "end_time": "2023-01-04T14:26:26.874558",
     "exception": false,
     "start_time": "2023-01-04T14:26:26.838025",
     "status": "completed"
    },
    "tags": []
   },
   "outputs": [
    {
     "data": {
      "text/html": [
       "<div>\n",
       "<style scoped>\n",
       "    .dataframe tbody tr th:only-of-type {\n",
       "        vertical-align: middle;\n",
       "    }\n",
       "\n",
       "    .dataframe tbody tr th {\n",
       "        vertical-align: top;\n",
       "    }\n",
       "\n",
       "    .dataframe thead th {\n",
       "        text-align: right;\n",
       "    }\n",
       "</style>\n",
       "<table border=\"1\" class=\"dataframe\">\n",
       "  <thead>\n",
       "    <tr style=\"text-align: right;\">\n",
       "      <th></th>\n",
       "      <th>review</th>\n",
       "      <th>sentiment</th>\n",
       "    </tr>\n",
       "  </thead>\n",
       "  <tbody>\n",
       "    <tr>\n",
       "      <th>0</th>\n",
       "      <td>one of the other reviewers has mentioned that ...</td>\n",
       "      <td>1</td>\n",
       "    </tr>\n",
       "    <tr>\n",
       "      <th>1</th>\n",
       "      <td>a wonderful little production. &lt;br /&gt;&lt;br /&gt;the...</td>\n",
       "      <td>1</td>\n",
       "    </tr>\n",
       "    <tr>\n",
       "      <th>2</th>\n",
       "      <td>i thought this was a wonderful way to spend ti...</td>\n",
       "      <td>1</td>\n",
       "    </tr>\n",
       "    <tr>\n",
       "      <th>3</th>\n",
       "      <td>basically there's a family where a little boy ...</td>\n",
       "      <td>0</td>\n",
       "    </tr>\n",
       "    <tr>\n",
       "      <th>4</th>\n",
       "      <td>petter mattei's \"love in the time of money\" is...</td>\n",
       "      <td>1</td>\n",
       "    </tr>\n",
       "  </tbody>\n",
       "</table>\n",
       "</div>"
      ],
      "text/plain": [
       "                                              review  sentiment\n",
       "0  one of the other reviewers has mentioned that ...          1\n",
       "1  a wonderful little production. <br /><br />the...          1\n",
       "2  i thought this was a wonderful way to spend ti...          1\n",
       "3  basically there's a family where a little boy ...          0\n",
       "4  petter mattei's \"love in the time of money\" is...          1"
      ]
     },
     "execution_count": 19,
     "metadata": {},
     "output_type": "execute_result"
    }
   ],
   "source": [
    "df.head()"
   ]
  },
  {
   "cell_type": "code",
   "execution_count": 20,
   "id": "ed3cb61a",
   "metadata": {
    "execution": {
     "iopub.execute_input": "2023-01-04T14:26:26.921315Z",
     "iopub.status.busy": "2023-01-04T14:26:26.920169Z",
     "iopub.status.idle": "2023-01-04T14:26:27.130459Z",
     "shell.execute_reply": "2023-01-04T14:26:27.129307Z"
    },
    "papermill": {
     "duration": 0.236802,
     "end_time": "2023-01-04T14:26:27.133081",
     "exception": false,
     "start_time": "2023-01-04T14:26:26.896279",
     "status": "completed"
    },
    "tags": []
   },
   "outputs": [
    {
     "data": {
      "text/plain": [
       "105"
      ]
     },
     "execution_count": 20,
     "metadata": {},
     "output_type": "execute_result"
    }
   ],
   "source": [
    "del df_raw\n",
    "del reviews_raw\n",
    "gc.collect()"
   ]
  },
  {
   "cell_type": "markdown",
   "id": "25560243",
   "metadata": {
    "papermill": {
     "duration": 0.021769,
     "end_time": "2023-01-04T14:26:27.176953",
     "exception": false,
     "start_time": "2023-01-04T14:26:27.155184",
     "status": "completed"
    },
    "tags": []
   },
   "source": [
    "# Tokenize to map the words into integers"
   ]
  },
  {
   "cell_type": "code",
   "execution_count": 21,
   "id": "adace42e",
   "metadata": {
    "execution": {
     "iopub.execute_input": "2023-01-04T14:26:27.222500Z",
     "iopub.status.busy": "2023-01-04T14:26:27.221882Z",
     "iopub.status.idle": "2023-01-04T14:26:28.719289Z",
     "shell.execute_reply": "2023-01-04T14:26:28.718037Z"
    },
    "papermill": {
     "duration": 1.523253,
     "end_time": "2023-01-04T14:26:28.721840",
     "exception": false,
     "start_time": "2023-01-04T14:26:27.198587",
     "status": "completed"
    },
    "tags": []
   },
   "outputs": [],
   "source": [
    "df[\"review\"] = df[\"review\"].map(lambda x: x.split(' '))"
   ]
  },
  {
   "cell_type": "code",
   "execution_count": 22,
   "id": "63baf09c",
   "metadata": {
    "execution": {
     "iopub.execute_input": "2023-01-04T14:26:28.767666Z",
     "iopub.status.busy": "2023-01-04T14:26:28.767045Z",
     "iopub.status.idle": "2023-01-04T14:26:48.862951Z",
     "shell.execute_reply": "2023-01-04T14:26:48.861905Z"
    },
    "papermill": {
     "duration": 20.122184,
     "end_time": "2023-01-04T14:26:48.866121",
     "exception": false,
     "start_time": "2023-01-04T14:26:28.743937",
     "status": "completed"
    },
    "tags": []
   },
   "outputs": [],
   "source": [
    "my_dict = gdict(df['review'])"
   ]
  },
  {
   "cell_type": "code",
   "execution_count": 23,
   "id": "ad886b4f",
   "metadata": {
    "execution": {
     "iopub.execute_input": "2023-01-04T14:26:48.916203Z",
     "iopub.status.busy": "2023-01-04T14:26:48.915130Z",
     "iopub.status.idle": "2023-01-04T14:26:48.923425Z",
     "shell.execute_reply": "2023-01-04T14:26:48.922168Z"
    },
    "papermill": {
     "duration": 0.037302,
     "end_time": "2023-01-04T14:26:48.926817",
     "exception": false,
     "start_time": "2023-01-04T14:26:48.889515",
     "status": "completed"
    },
    "tags": []
   },
   "outputs": [
    {
     "data": {
      "text/plain": [
       "392053"
      ]
     },
     "execution_count": 23,
     "metadata": {},
     "output_type": "execute_result"
    }
   ],
   "source": [
    "len(my_dict)"
   ]
  },
  {
   "cell_type": "code",
   "execution_count": 24,
   "id": "784bb83b",
   "metadata": {
    "execution": {
     "iopub.execute_input": "2023-01-04T14:26:48.985796Z",
     "iopub.status.busy": "2023-01-04T14:26:48.985384Z",
     "iopub.status.idle": "2023-01-04T14:26:50.103568Z",
     "shell.execute_reply": "2023-01-04T14:26:50.102179Z"
    },
    "papermill": {
     "duration": 1.153234,
     "end_time": "2023-01-04T14:26:50.106484",
     "exception": false,
     "start_time": "2023-01-04T14:26:48.953250",
     "status": "completed"
    },
    "tags": []
   },
   "outputs": [],
   "source": [
    "my_dict.filter_extremes(no_below=1, no_above=1, keep_n=5000)"
   ]
  },
  {
   "cell_type": "code",
   "execution_count": 25,
   "id": "18798a1d",
   "metadata": {
    "execution": {
     "iopub.execute_input": "2023-01-04T14:26:50.155040Z",
     "iopub.status.busy": "2023-01-04T14:26:50.154617Z",
     "iopub.status.idle": "2023-01-04T14:26:57.910443Z",
     "shell.execute_reply": "2023-01-04T14:26:57.909419Z"
    },
    "papermill": {
     "duration": 7.783851,
     "end_time": "2023-01-04T14:26:57.913087",
     "exception": false,
     "start_time": "2023-01-04T14:26:50.129236",
     "status": "completed"
    },
    "tags": []
   },
   "outputs": [],
   "source": [
    "df[\"bow\"] = df[\"review\"].map(my_dict.doc2bow)"
   ]
  },
  {
   "cell_type": "code",
   "execution_count": 26,
   "id": "b38a9374",
   "metadata": {
    "execution": {
     "iopub.execute_input": "2023-01-04T14:26:57.958986Z",
     "iopub.status.busy": "2023-01-04T14:26:57.958197Z",
     "iopub.status.idle": "2023-01-04T14:26:58.098442Z",
     "shell.execute_reply": "2023-01-04T14:26:58.097177Z"
    },
    "papermill": {
     "duration": 0.166204,
     "end_time": "2023-01-04T14:26:58.101156",
     "exception": false,
     "start_time": "2023-01-04T14:26:57.934952",
     "status": "completed"
    },
    "tags": []
   },
   "outputs": [
    {
     "data": {
      "text/html": [
       "<div>\n",
       "<style scoped>\n",
       "    .dataframe tbody tr th:only-of-type {\n",
       "        vertical-align: middle;\n",
       "    }\n",
       "\n",
       "    .dataframe tbody tr th {\n",
       "        vertical-align: top;\n",
       "    }\n",
       "\n",
       "    .dataframe thead th {\n",
       "        text-align: right;\n",
       "    }\n",
       "</style>\n",
       "<table border=\"1\" class=\"dataframe\">\n",
       "  <thead>\n",
       "    <tr style=\"text-align: right;\">\n",
       "      <th></th>\n",
       "      <th>review</th>\n",
       "      <th>sentiment</th>\n",
       "      <th>bow</th>\n",
       "    </tr>\n",
       "  </thead>\n",
       "  <tbody>\n",
       "    <tr>\n",
       "      <th>0</th>\n",
       "      <td>[one, of, the, other, reviewers, has, mentione...</td>\n",
       "      <td>1</td>\n",
       "      <td>[(0, 3), (1, 1), (2, 1), (3, 1), (4, 1), (5, 3...</td>\n",
       "    </tr>\n",
       "    <tr>\n",
       "      <th>1</th>\n",
       "      <td>[a, wonderful, little, production., &lt;br, /&gt;&lt;br...</td>\n",
       "      <td>1</td>\n",
       "      <td>[(0, 3), (3, 3), (5, 4), (6, 1), (8, 2), (10, ...</td>\n",
       "    </tr>\n",
       "    <tr>\n",
       "      <th>2</th>\n",
       "      <td>[i, thought, this, was, a, wonderful, way, to,...</td>\n",
       "      <td>1</td>\n",
       "      <td>[(0, 2), (5, 6), (10, 4), (12, 1), (16, 2), (1...</td>\n",
       "    </tr>\n",
       "    <tr>\n",
       "      <th>3</th>\n",
       "      <td>[basically, there's, a, family, where, a, litt...</td>\n",
       "      <td>0</td>\n",
       "      <td>[(0, 3), (5, 10), (8, 3), (10, 4), (12, 2), (1...</td>\n",
       "    </tr>\n",
       "    <tr>\n",
       "      <th>4</th>\n",
       "      <td>[petter, mattei's, \"love, in, the, time, of, m...</td>\n",
       "      <td>1</td>\n",
       "      <td>[(0, 4), (3, 2), (5, 6), (6, 2), (8, 2), (10, ...</td>\n",
       "    </tr>\n",
       "  </tbody>\n",
       "</table>\n",
       "</div>"
      ],
      "text/plain": [
       "                                              review  sentiment  \\\n",
       "0  [one, of, the, other, reviewers, has, mentione...          1   \n",
       "1  [a, wonderful, little, production., <br, /><br...          1   \n",
       "2  [i, thought, this, was, a, wonderful, way, to,...          1   \n",
       "3  [basically, there's, a, family, where, a, litt...          0   \n",
       "4  [petter, mattei's, \"love, in, the, time, of, m...          1   \n",
       "\n",
       "                                                 bow  \n",
       "0  [(0, 3), (1, 1), (2, 1), (3, 1), (4, 1), (5, 3...  \n",
       "1  [(0, 3), (3, 3), (5, 4), (6, 1), (8, 2), (10, ...  \n",
       "2  [(0, 2), (5, 6), (10, 4), (12, 1), (16, 2), (1...  \n",
       "3  [(0, 3), (5, 10), (8, 3), (10, 4), (12, 2), (1...  \n",
       "4  [(0, 4), (3, 2), (5, 6), (6, 2), (8, 2), (10, ...  "
      ]
     },
     "execution_count": 26,
     "metadata": {},
     "output_type": "execute_result"
    }
   ],
   "source": [
    "df.head()"
   ]
  },
  {
   "cell_type": "code",
   "execution_count": 27,
   "id": "21ba1ba4",
   "metadata": {
    "execution": {
     "iopub.execute_input": "2023-01-04T14:26:58.148406Z",
     "iopub.status.busy": "2023-01-04T14:26:58.148015Z",
     "iopub.status.idle": "2023-01-04T14:28:02.036730Z",
     "shell.execute_reply": "2023-01-04T14:28:02.035521Z"
    },
    "papermill": {
     "duration": 63.915879,
     "end_time": "2023-01-04T14:28:02.039358",
     "exception": false,
     "start_time": "2023-01-04T14:26:58.123479",
     "status": "completed"
    },
    "tags": []
   },
   "outputs": [],
   "source": [
    "df2 = pd.concat([pd.DataFrame(s).set_index(0) for s in df[\"bow\"]], axis=1).fillna(0).T.set_index(df.index)"
   ]
  },
  {
   "cell_type": "code",
   "execution_count": 28,
   "id": "c937e805",
   "metadata": {
    "execution": {
     "iopub.execute_input": "2023-01-04T14:28:02.088088Z",
     "iopub.status.busy": "2023-01-04T14:28:02.086900Z",
     "iopub.status.idle": "2023-01-04T14:28:02.120798Z",
     "shell.execute_reply": "2023-01-04T14:28:02.119600Z"
    },
    "papermill": {
     "duration": 0.06115,
     "end_time": "2023-01-04T14:28:02.123313",
     "exception": false,
     "start_time": "2023-01-04T14:28:02.062163",
     "status": "completed"
    },
    "tags": []
   },
   "outputs": [
    {
     "data": {
      "text/html": [
       "<div>\n",
       "<style scoped>\n",
       "    .dataframe tbody tr th:only-of-type {\n",
       "        vertical-align: middle;\n",
       "    }\n",
       "\n",
       "    .dataframe tbody tr th {\n",
       "        vertical-align: top;\n",
       "    }\n",
       "\n",
       "    .dataframe thead th {\n",
       "        text-align: right;\n",
       "    }\n",
       "</style>\n",
       "<table border=\"1\" class=\"dataframe\">\n",
       "  <thead>\n",
       "    <tr style=\"text-align: right;\">\n",
       "      <th></th>\n",
       "      <th>0</th>\n",
       "      <th>1</th>\n",
       "      <th>2</th>\n",
       "      <th>3</th>\n",
       "      <th>4</th>\n",
       "      <th>5</th>\n",
       "      <th>6</th>\n",
       "      <th>7</th>\n",
       "      <th>8</th>\n",
       "      <th>9</th>\n",
       "      <th>...</th>\n",
       "      <th>4990</th>\n",
       "      <th>4991</th>\n",
       "      <th>4992</th>\n",
       "      <th>4993</th>\n",
       "      <th>4994</th>\n",
       "      <th>4995</th>\n",
       "      <th>4996</th>\n",
       "      <th>4997</th>\n",
       "      <th>4998</th>\n",
       "      <th>4999</th>\n",
       "    </tr>\n",
       "  </thead>\n",
       "  <tbody>\n",
       "    <tr>\n",
       "      <th>0</th>\n",
       "      <td>3.0</td>\n",
       "      <td>1.0</td>\n",
       "      <td>1.0</td>\n",
       "      <td>1.0</td>\n",
       "      <td>1.0</td>\n",
       "      <td>3.0</td>\n",
       "      <td>1.0</td>\n",
       "      <td>1.0</td>\n",
       "      <td>1.0</td>\n",
       "      <td>1.0</td>\n",
       "      <td>...</td>\n",
       "      <td>0.0</td>\n",
       "      <td>0.0</td>\n",
       "      <td>0.0</td>\n",
       "      <td>0.0</td>\n",
       "      <td>0.0</td>\n",
       "      <td>0.0</td>\n",
       "      <td>0.0</td>\n",
       "      <td>0.0</td>\n",
       "      <td>0.0</td>\n",
       "      <td>0.0</td>\n",
       "    </tr>\n",
       "    <tr>\n",
       "      <th>1</th>\n",
       "      <td>3.0</td>\n",
       "      <td>0.0</td>\n",
       "      <td>0.0</td>\n",
       "      <td>3.0</td>\n",
       "      <td>0.0</td>\n",
       "      <td>4.0</td>\n",
       "      <td>1.0</td>\n",
       "      <td>0.0</td>\n",
       "      <td>2.0</td>\n",
       "      <td>0.0</td>\n",
       "      <td>...</td>\n",
       "      <td>0.0</td>\n",
       "      <td>0.0</td>\n",
       "      <td>0.0</td>\n",
       "      <td>0.0</td>\n",
       "      <td>0.0</td>\n",
       "      <td>0.0</td>\n",
       "      <td>0.0</td>\n",
       "      <td>0.0</td>\n",
       "      <td>0.0</td>\n",
       "      <td>0.0</td>\n",
       "    </tr>\n",
       "    <tr>\n",
       "      <th>2</th>\n",
       "      <td>2.0</td>\n",
       "      <td>0.0</td>\n",
       "      <td>0.0</td>\n",
       "      <td>0.0</td>\n",
       "      <td>0.0</td>\n",
       "      <td>6.0</td>\n",
       "      <td>0.0</td>\n",
       "      <td>0.0</td>\n",
       "      <td>0.0</td>\n",
       "      <td>0.0</td>\n",
       "      <td>...</td>\n",
       "      <td>0.0</td>\n",
       "      <td>0.0</td>\n",
       "      <td>0.0</td>\n",
       "      <td>0.0</td>\n",
       "      <td>0.0</td>\n",
       "      <td>0.0</td>\n",
       "      <td>0.0</td>\n",
       "      <td>0.0</td>\n",
       "      <td>0.0</td>\n",
       "      <td>0.0</td>\n",
       "    </tr>\n",
       "    <tr>\n",
       "      <th>3</th>\n",
       "      <td>3.0</td>\n",
       "      <td>0.0</td>\n",
       "      <td>0.0</td>\n",
       "      <td>0.0</td>\n",
       "      <td>0.0</td>\n",
       "      <td>10.0</td>\n",
       "      <td>0.0</td>\n",
       "      <td>0.0</td>\n",
       "      <td>3.0</td>\n",
       "      <td>0.0</td>\n",
       "      <td>...</td>\n",
       "      <td>0.0</td>\n",
       "      <td>0.0</td>\n",
       "      <td>0.0</td>\n",
       "      <td>0.0</td>\n",
       "      <td>0.0</td>\n",
       "      <td>0.0</td>\n",
       "      <td>0.0</td>\n",
       "      <td>0.0</td>\n",
       "      <td>0.0</td>\n",
       "      <td>0.0</td>\n",
       "    </tr>\n",
       "    <tr>\n",
       "      <th>4</th>\n",
       "      <td>4.0</td>\n",
       "      <td>0.0</td>\n",
       "      <td>0.0</td>\n",
       "      <td>2.0</td>\n",
       "      <td>0.0</td>\n",
       "      <td>6.0</td>\n",
       "      <td>2.0</td>\n",
       "      <td>0.0</td>\n",
       "      <td>2.0</td>\n",
       "      <td>0.0</td>\n",
       "      <td>...</td>\n",
       "      <td>0.0</td>\n",
       "      <td>0.0</td>\n",
       "      <td>0.0</td>\n",
       "      <td>0.0</td>\n",
       "      <td>0.0</td>\n",
       "      <td>0.0</td>\n",
       "      <td>0.0</td>\n",
       "      <td>0.0</td>\n",
       "      <td>0.0</td>\n",
       "      <td>0.0</td>\n",
       "    </tr>\n",
       "  </tbody>\n",
       "</table>\n",
       "<p>5 rows × 5000 columns</p>\n",
       "</div>"
      ],
      "text/plain": [
       "0  0     1     2     3     4     5     6     7     8     9     ...  4990  \\\n",
       "0   3.0   1.0   1.0   1.0   1.0   3.0   1.0   1.0   1.0   1.0  ...   0.0   \n",
       "1   3.0   0.0   0.0   3.0   0.0   4.0   1.0   0.0   2.0   0.0  ...   0.0   \n",
       "2   2.0   0.0   0.0   0.0   0.0   6.0   0.0   0.0   0.0   0.0  ...   0.0   \n",
       "3   3.0   0.0   0.0   0.0   0.0  10.0   0.0   0.0   3.0   0.0  ...   0.0   \n",
       "4   4.0   0.0   0.0   2.0   0.0   6.0   2.0   0.0   2.0   0.0  ...   0.0   \n",
       "\n",
       "0  4991  4992  4993  4994  4995  4996  4997  4998  4999  \n",
       "0   0.0   0.0   0.0   0.0   0.0   0.0   0.0   0.0   0.0  \n",
       "1   0.0   0.0   0.0   0.0   0.0   0.0   0.0   0.0   0.0  \n",
       "2   0.0   0.0   0.0   0.0   0.0   0.0   0.0   0.0   0.0  \n",
       "3   0.0   0.0   0.0   0.0   0.0   0.0   0.0   0.0   0.0  \n",
       "4   0.0   0.0   0.0   0.0   0.0   0.0   0.0   0.0   0.0  \n",
       "\n",
       "[5 rows x 5000 columns]"
      ]
     },
     "execution_count": 28,
     "metadata": {},
     "output_type": "execute_result"
    }
   ],
   "source": [
    "df2.head()"
   ]
  },
  {
   "cell_type": "code",
   "execution_count": 29,
   "id": "5de70d3d",
   "metadata": {
    "execution": {
     "iopub.execute_input": "2023-01-04T14:28:02.170330Z",
     "iopub.status.busy": "2023-01-04T14:28:02.169918Z",
     "iopub.status.idle": "2023-01-04T14:28:02.696845Z",
     "shell.execute_reply": "2023-01-04T14:28:02.695059Z"
    },
    "papermill": {
     "duration": 0.55368,
     "end_time": "2023-01-04T14:28:02.699466",
     "exception": false,
     "start_time": "2023-01-04T14:28:02.145786",
     "status": "completed"
    },
    "tags": []
   },
   "outputs": [
    {
     "data": {
      "text/html": [
       "<div>\n",
       "<style scoped>\n",
       "    .dataframe tbody tr th:only-of-type {\n",
       "        vertical-align: middle;\n",
       "    }\n",
       "\n",
       "    .dataframe tbody tr th {\n",
       "        vertical-align: top;\n",
       "    }\n",
       "\n",
       "    .dataframe thead th {\n",
       "        text-align: right;\n",
       "    }\n",
       "</style>\n",
       "<table border=\"1\" class=\"dataframe\">\n",
       "  <thead>\n",
       "    <tr style=\"text-align: right;\">\n",
       "      <th></th>\n",
       "      <th>0</th>\n",
       "      <th>1</th>\n",
       "      <th>2</th>\n",
       "      <th>3</th>\n",
       "      <th>4</th>\n",
       "      <th>5</th>\n",
       "      <th>6</th>\n",
       "      <th>7</th>\n",
       "      <th>8</th>\n",
       "      <th>9</th>\n",
       "      <th>...</th>\n",
       "      <th>4990</th>\n",
       "      <th>4991</th>\n",
       "      <th>4992</th>\n",
       "      <th>4993</th>\n",
       "      <th>4994</th>\n",
       "      <th>4995</th>\n",
       "      <th>4996</th>\n",
       "      <th>4997</th>\n",
       "      <th>4998</th>\n",
       "      <th>4999</th>\n",
       "    </tr>\n",
       "  </thead>\n",
       "  <tbody>\n",
       "    <tr>\n",
       "      <th>0</th>\n",
       "      <td>3</td>\n",
       "      <td>1</td>\n",
       "      <td>1</td>\n",
       "      <td>1</td>\n",
       "      <td>1</td>\n",
       "      <td>3</td>\n",
       "      <td>1</td>\n",
       "      <td>1</td>\n",
       "      <td>1</td>\n",
       "      <td>1</td>\n",
       "      <td>...</td>\n",
       "      <td>0</td>\n",
       "      <td>0</td>\n",
       "      <td>0</td>\n",
       "      <td>0</td>\n",
       "      <td>0</td>\n",
       "      <td>0</td>\n",
       "      <td>0</td>\n",
       "      <td>0</td>\n",
       "      <td>0</td>\n",
       "      <td>0</td>\n",
       "    </tr>\n",
       "    <tr>\n",
       "      <th>1</th>\n",
       "      <td>3</td>\n",
       "      <td>0</td>\n",
       "      <td>0</td>\n",
       "      <td>3</td>\n",
       "      <td>0</td>\n",
       "      <td>4</td>\n",
       "      <td>1</td>\n",
       "      <td>0</td>\n",
       "      <td>2</td>\n",
       "      <td>0</td>\n",
       "      <td>...</td>\n",
       "      <td>0</td>\n",
       "      <td>0</td>\n",
       "      <td>0</td>\n",
       "      <td>0</td>\n",
       "      <td>0</td>\n",
       "      <td>0</td>\n",
       "      <td>0</td>\n",
       "      <td>0</td>\n",
       "      <td>0</td>\n",
       "      <td>0</td>\n",
       "    </tr>\n",
       "    <tr>\n",
       "      <th>2</th>\n",
       "      <td>2</td>\n",
       "      <td>0</td>\n",
       "      <td>0</td>\n",
       "      <td>0</td>\n",
       "      <td>0</td>\n",
       "      <td>6</td>\n",
       "      <td>0</td>\n",
       "      <td>0</td>\n",
       "      <td>0</td>\n",
       "      <td>0</td>\n",
       "      <td>...</td>\n",
       "      <td>0</td>\n",
       "      <td>0</td>\n",
       "      <td>0</td>\n",
       "      <td>0</td>\n",
       "      <td>0</td>\n",
       "      <td>0</td>\n",
       "      <td>0</td>\n",
       "      <td>0</td>\n",
       "      <td>0</td>\n",
       "      <td>0</td>\n",
       "    </tr>\n",
       "    <tr>\n",
       "      <th>3</th>\n",
       "      <td>3</td>\n",
       "      <td>0</td>\n",
       "      <td>0</td>\n",
       "      <td>0</td>\n",
       "      <td>0</td>\n",
       "      <td>10</td>\n",
       "      <td>0</td>\n",
       "      <td>0</td>\n",
       "      <td>3</td>\n",
       "      <td>0</td>\n",
       "      <td>...</td>\n",
       "      <td>0</td>\n",
       "      <td>0</td>\n",
       "      <td>0</td>\n",
       "      <td>0</td>\n",
       "      <td>0</td>\n",
       "      <td>0</td>\n",
       "      <td>0</td>\n",
       "      <td>0</td>\n",
       "      <td>0</td>\n",
       "      <td>0</td>\n",
       "    </tr>\n",
       "    <tr>\n",
       "      <th>4</th>\n",
       "      <td>4</td>\n",
       "      <td>0</td>\n",
       "      <td>0</td>\n",
       "      <td>2</td>\n",
       "      <td>0</td>\n",
       "      <td>6</td>\n",
       "      <td>2</td>\n",
       "      <td>0</td>\n",
       "      <td>2</td>\n",
       "      <td>0</td>\n",
       "      <td>...</td>\n",
       "      <td>0</td>\n",
       "      <td>0</td>\n",
       "      <td>0</td>\n",
       "      <td>0</td>\n",
       "      <td>0</td>\n",
       "      <td>0</td>\n",
       "      <td>0</td>\n",
       "      <td>0</td>\n",
       "      <td>0</td>\n",
       "      <td>0</td>\n",
       "    </tr>\n",
       "    <tr>\n",
       "      <th>...</th>\n",
       "      <td>...</td>\n",
       "      <td>...</td>\n",
       "      <td>...</td>\n",
       "      <td>...</td>\n",
       "      <td>...</td>\n",
       "      <td>...</td>\n",
       "      <td>...</td>\n",
       "      <td>...</td>\n",
       "      <td>...</td>\n",
       "      <td>...</td>\n",
       "      <td>...</td>\n",
       "      <td>...</td>\n",
       "      <td>...</td>\n",
       "      <td>...</td>\n",
       "      <td>...</td>\n",
       "      <td>...</td>\n",
       "      <td>...</td>\n",
       "      <td>...</td>\n",
       "      <td>...</td>\n",
       "      <td>...</td>\n",
       "      <td>...</td>\n",
       "    </tr>\n",
       "    <tr>\n",
       "      <th>49995</th>\n",
       "      <td>2</td>\n",
       "      <td>0</td>\n",
       "      <td>0</td>\n",
       "      <td>0</td>\n",
       "      <td>0</td>\n",
       "      <td>5</td>\n",
       "      <td>1</td>\n",
       "      <td>0</td>\n",
       "      <td>0</td>\n",
       "      <td>0</td>\n",
       "      <td>...</td>\n",
       "      <td>0</td>\n",
       "      <td>0</td>\n",
       "      <td>0</td>\n",
       "      <td>0</td>\n",
       "      <td>0</td>\n",
       "      <td>0</td>\n",
       "      <td>0</td>\n",
       "      <td>0</td>\n",
       "      <td>0</td>\n",
       "      <td>0</td>\n",
       "    </tr>\n",
       "    <tr>\n",
       "      <th>49996</th>\n",
       "      <td>2</td>\n",
       "      <td>0</td>\n",
       "      <td>0</td>\n",
       "      <td>1</td>\n",
       "      <td>0</td>\n",
       "      <td>3</td>\n",
       "      <td>0</td>\n",
       "      <td>0</td>\n",
       "      <td>1</td>\n",
       "      <td>0</td>\n",
       "      <td>...</td>\n",
       "      <td>0</td>\n",
       "      <td>0</td>\n",
       "      <td>0</td>\n",
       "      <td>0</td>\n",
       "      <td>0</td>\n",
       "      <td>0</td>\n",
       "      <td>0</td>\n",
       "      <td>0</td>\n",
       "      <td>0</td>\n",
       "      <td>0</td>\n",
       "    </tr>\n",
       "    <tr>\n",
       "      <th>49997</th>\n",
       "      <td>2</td>\n",
       "      <td>0</td>\n",
       "      <td>0</td>\n",
       "      <td>0</td>\n",
       "      <td>0</td>\n",
       "      <td>7</td>\n",
       "      <td>0</td>\n",
       "      <td>0</td>\n",
       "      <td>1</td>\n",
       "      <td>1</td>\n",
       "      <td>...</td>\n",
       "      <td>0</td>\n",
       "      <td>0</td>\n",
       "      <td>0</td>\n",
       "      <td>0</td>\n",
       "      <td>0</td>\n",
       "      <td>0</td>\n",
       "      <td>0</td>\n",
       "      <td>0</td>\n",
       "      <td>0</td>\n",
       "      <td>0</td>\n",
       "    </tr>\n",
       "    <tr>\n",
       "      <th>49998</th>\n",
       "      <td>0</td>\n",
       "      <td>0</td>\n",
       "      <td>0</td>\n",
       "      <td>0</td>\n",
       "      <td>0</td>\n",
       "      <td>3</td>\n",
       "      <td>1</td>\n",
       "      <td>0</td>\n",
       "      <td>1</td>\n",
       "      <td>0</td>\n",
       "      <td>...</td>\n",
       "      <td>0</td>\n",
       "      <td>0</td>\n",
       "      <td>0</td>\n",
       "      <td>0</td>\n",
       "      <td>0</td>\n",
       "      <td>0</td>\n",
       "      <td>0</td>\n",
       "      <td>0</td>\n",
       "      <td>0</td>\n",
       "      <td>0</td>\n",
       "    </tr>\n",
       "    <tr>\n",
       "      <th>49999</th>\n",
       "      <td>1</td>\n",
       "      <td>1</td>\n",
       "      <td>0</td>\n",
       "      <td>0</td>\n",
       "      <td>0</td>\n",
       "      <td>3</td>\n",
       "      <td>1</td>\n",
       "      <td>0</td>\n",
       "      <td>1</td>\n",
       "      <td>0</td>\n",
       "      <td>...</td>\n",
       "      <td>0</td>\n",
       "      <td>0</td>\n",
       "      <td>0</td>\n",
       "      <td>0</td>\n",
       "      <td>0</td>\n",
       "      <td>0</td>\n",
       "      <td>0</td>\n",
       "      <td>0</td>\n",
       "      <td>0</td>\n",
       "      <td>0</td>\n",
       "    </tr>\n",
       "  </tbody>\n",
       "</table>\n",
       "<p>50000 rows × 5000 columns</p>\n",
       "</div>"
      ],
      "text/plain": [
       "0      0     1     2     3     4     5     6     7     8     9     ...  4990  \\\n",
       "0         3     1     1     1     1     3     1     1     1     1  ...     0   \n",
       "1         3     0     0     3     0     4     1     0     2     0  ...     0   \n",
       "2         2     0     0     0     0     6     0     0     0     0  ...     0   \n",
       "3         3     0     0     0     0    10     0     0     3     0  ...     0   \n",
       "4         4     0     0     2     0     6     2     0     2     0  ...     0   \n",
       "...     ...   ...   ...   ...   ...   ...   ...   ...   ...   ...  ...   ...   \n",
       "49995     2     0     0     0     0     5     1     0     0     0  ...     0   \n",
       "49996     2     0     0     1     0     3     0     0     1     0  ...     0   \n",
       "49997     2     0     0     0     0     7     0     0     1     1  ...     0   \n",
       "49998     0     0     0     0     0     3     1     0     1     0  ...     0   \n",
       "49999     1     1     0     0     0     3     1     0     1     0  ...     0   \n",
       "\n",
       "0      4991  4992  4993  4994  4995  4996  4997  4998  4999  \n",
       "0         0     0     0     0     0     0     0     0     0  \n",
       "1         0     0     0     0     0     0     0     0     0  \n",
       "2         0     0     0     0     0     0     0     0     0  \n",
       "3         0     0     0     0     0     0     0     0     0  \n",
       "4         0     0     0     0     0     0     0     0     0  \n",
       "...     ...   ...   ...   ...   ...   ...   ...   ...   ...  \n",
       "49995     0     0     0     0     0     0     0     0     0  \n",
       "49996     0     0     0     0     0     0     0     0     0  \n",
       "49997     0     0     0     0     0     0     0     0     0  \n",
       "49998     0     0     0     0     0     0     0     0     0  \n",
       "49999     0     0     0     0     0     0     0     0     0  \n",
       "\n",
       "[50000 rows x 5000 columns]"
      ]
     },
     "execution_count": 29,
     "metadata": {},
     "output_type": "execute_result"
    }
   ],
   "source": [
    "df2.astype('int32')"
   ]
  },
  {
   "cell_type": "code",
   "execution_count": 30,
   "id": "ee17f0c1",
   "metadata": {
    "execution": {
     "iopub.execute_input": "2023-01-04T14:28:02.749486Z",
     "iopub.status.busy": "2023-01-04T14:28:02.748604Z",
     "iopub.status.idle": "2023-01-04T14:28:02.756265Z",
     "shell.execute_reply": "2023-01-04T14:28:02.755092Z"
    },
    "papermill": {
     "duration": 0.035457,
     "end_time": "2023-01-04T14:28:02.758665",
     "exception": false,
     "start_time": "2023-01-04T14:28:02.723208",
     "status": "completed"
    },
    "tags": []
   },
   "outputs": [
    {
     "data": {
      "text/plain": [
       "(50000, 5000)"
      ]
     },
     "execution_count": 30,
     "metadata": {},
     "output_type": "execute_result"
    }
   ],
   "source": [
    "df2.shape"
   ]
  },
  {
   "cell_type": "code",
   "execution_count": 31,
   "id": "3ace6a4e",
   "metadata": {
    "execution": {
     "iopub.execute_input": "2023-01-04T14:28:02.806996Z",
     "iopub.status.busy": "2023-01-04T14:28:02.806562Z",
     "iopub.status.idle": "2023-01-04T14:28:02.815315Z",
     "shell.execute_reply": "2023-01-04T14:28:02.814298Z"
    },
    "papermill": {
     "duration": 0.036017,
     "end_time": "2023-01-04T14:28:02.817550",
     "exception": false,
     "start_time": "2023-01-04T14:28:02.781533",
     "status": "completed"
    },
    "tags": []
   },
   "outputs": [
    {
     "data": {
      "text/plain": [
       "0        1\n",
       "1        1\n",
       "2        1\n",
       "3        0\n",
       "4        1\n",
       "        ..\n",
       "49995    1\n",
       "49996    0\n",
       "49997    0\n",
       "49998    0\n",
       "49999    0\n",
       "Name: sentiment, Length: 50000, dtype: int64"
      ]
     },
     "execution_count": 31,
     "metadata": {},
     "output_type": "execute_result"
    }
   ],
   "source": [
    "df['sentiment']"
   ]
  },
  {
   "cell_type": "code",
   "execution_count": 32,
   "id": "01930372",
   "metadata": {
    "execution": {
     "iopub.execute_input": "2023-01-04T14:28:02.866796Z",
     "iopub.status.busy": "2023-01-04T14:28:02.866354Z",
     "iopub.status.idle": "2023-01-04T14:28:03.666327Z",
     "shell.execute_reply": "2023-01-04T14:28:03.665119Z"
    },
    "papermill": {
     "duration": 0.82782,
     "end_time": "2023-01-04T14:28:03.669182",
     "exception": false,
     "start_time": "2023-01-04T14:28:02.841362",
     "status": "completed"
    },
    "tags": []
   },
   "outputs": [],
   "source": [
    "df_preprocessed = pd.concat([df2,df['sentiment']], axis=1)"
   ]
  },
  {
   "cell_type": "code",
   "execution_count": 33,
   "id": "6c9ed1e8",
   "metadata": {
    "execution": {
     "iopub.execute_input": "2023-01-04T14:28:03.717823Z",
     "iopub.status.busy": "2023-01-04T14:28:03.717383Z",
     "iopub.status.idle": "2023-01-04T14:28:03.936177Z",
     "shell.execute_reply": "2023-01-04T14:28:03.934777Z"
    },
    "papermill": {
     "duration": 0.245693,
     "end_time": "2023-01-04T14:28:03.938510",
     "exception": false,
     "start_time": "2023-01-04T14:28:03.692817",
     "status": "completed"
    },
    "tags": []
   },
   "outputs": [
    {
     "name": "stdout",
     "output_type": "stream",
     "text": [
      "<class 'pandas.core.frame.DataFrame'>\n",
      "RangeIndex: 50000 entries, 0 to 49999\n",
      "Columns: 5001 entries, 0 to sentiment\n",
      "dtypes: float64(5000), int64(1)\n",
      "memory usage: 1.9 GB\n"
     ]
    }
   ],
   "source": [
    "df_preprocessed.info()"
   ]
  },
  {
   "cell_type": "code",
   "execution_count": 34,
   "id": "3f2b8b83",
   "metadata": {
    "execution": {
     "iopub.execute_input": "2023-01-04T14:28:03.987119Z",
     "iopub.status.busy": "2023-01-04T14:28:03.986516Z",
     "iopub.status.idle": "2023-01-04T14:28:04.022192Z",
     "shell.execute_reply": "2023-01-04T14:28:04.020948Z"
    },
    "papermill": {
     "duration": 0.063217,
     "end_time": "2023-01-04T14:28:04.025116",
     "exception": false,
     "start_time": "2023-01-04T14:28:03.961899",
     "status": "completed"
    },
    "tags": []
   },
   "outputs": [
    {
     "data": {
      "text/html": [
       "<div>\n",
       "<style scoped>\n",
       "    .dataframe tbody tr th:only-of-type {\n",
       "        vertical-align: middle;\n",
       "    }\n",
       "\n",
       "    .dataframe tbody tr th {\n",
       "        vertical-align: top;\n",
       "    }\n",
       "\n",
       "    .dataframe thead th {\n",
       "        text-align: right;\n",
       "    }\n",
       "</style>\n",
       "<table border=\"1\" class=\"dataframe\">\n",
       "  <thead>\n",
       "    <tr style=\"text-align: right;\">\n",
       "      <th></th>\n",
       "      <th>0</th>\n",
       "      <th>1</th>\n",
       "      <th>2</th>\n",
       "      <th>3</th>\n",
       "      <th>4</th>\n",
       "      <th>5</th>\n",
       "      <th>6</th>\n",
       "      <th>7</th>\n",
       "      <th>8</th>\n",
       "      <th>9</th>\n",
       "      <th>...</th>\n",
       "      <th>4991</th>\n",
       "      <th>4992</th>\n",
       "      <th>4993</th>\n",
       "      <th>4994</th>\n",
       "      <th>4995</th>\n",
       "      <th>4996</th>\n",
       "      <th>4997</th>\n",
       "      <th>4998</th>\n",
       "      <th>4999</th>\n",
       "      <th>sentiment</th>\n",
       "    </tr>\n",
       "  </thead>\n",
       "  <tbody>\n",
       "    <tr>\n",
       "      <th>0</th>\n",
       "      <td>3.0</td>\n",
       "      <td>1.0</td>\n",
       "      <td>1.0</td>\n",
       "      <td>1.0</td>\n",
       "      <td>1.0</td>\n",
       "      <td>3.0</td>\n",
       "      <td>1.0</td>\n",
       "      <td>1.0</td>\n",
       "      <td>1.0</td>\n",
       "      <td>1.0</td>\n",
       "      <td>...</td>\n",
       "      <td>0.0</td>\n",
       "      <td>0.0</td>\n",
       "      <td>0.0</td>\n",
       "      <td>0.0</td>\n",
       "      <td>0.0</td>\n",
       "      <td>0.0</td>\n",
       "      <td>0.0</td>\n",
       "      <td>0.0</td>\n",
       "      <td>0.0</td>\n",
       "      <td>1</td>\n",
       "    </tr>\n",
       "    <tr>\n",
       "      <th>1</th>\n",
       "      <td>3.0</td>\n",
       "      <td>0.0</td>\n",
       "      <td>0.0</td>\n",
       "      <td>3.0</td>\n",
       "      <td>0.0</td>\n",
       "      <td>4.0</td>\n",
       "      <td>1.0</td>\n",
       "      <td>0.0</td>\n",
       "      <td>2.0</td>\n",
       "      <td>0.0</td>\n",
       "      <td>...</td>\n",
       "      <td>0.0</td>\n",
       "      <td>0.0</td>\n",
       "      <td>0.0</td>\n",
       "      <td>0.0</td>\n",
       "      <td>0.0</td>\n",
       "      <td>0.0</td>\n",
       "      <td>0.0</td>\n",
       "      <td>0.0</td>\n",
       "      <td>0.0</td>\n",
       "      <td>1</td>\n",
       "    </tr>\n",
       "    <tr>\n",
       "      <th>2</th>\n",
       "      <td>2.0</td>\n",
       "      <td>0.0</td>\n",
       "      <td>0.0</td>\n",
       "      <td>0.0</td>\n",
       "      <td>0.0</td>\n",
       "      <td>6.0</td>\n",
       "      <td>0.0</td>\n",
       "      <td>0.0</td>\n",
       "      <td>0.0</td>\n",
       "      <td>0.0</td>\n",
       "      <td>...</td>\n",
       "      <td>0.0</td>\n",
       "      <td>0.0</td>\n",
       "      <td>0.0</td>\n",
       "      <td>0.0</td>\n",
       "      <td>0.0</td>\n",
       "      <td>0.0</td>\n",
       "      <td>0.0</td>\n",
       "      <td>0.0</td>\n",
       "      <td>0.0</td>\n",
       "      <td>1</td>\n",
       "    </tr>\n",
       "    <tr>\n",
       "      <th>3</th>\n",
       "      <td>3.0</td>\n",
       "      <td>0.0</td>\n",
       "      <td>0.0</td>\n",
       "      <td>0.0</td>\n",
       "      <td>0.0</td>\n",
       "      <td>10.0</td>\n",
       "      <td>0.0</td>\n",
       "      <td>0.0</td>\n",
       "      <td>3.0</td>\n",
       "      <td>0.0</td>\n",
       "      <td>...</td>\n",
       "      <td>0.0</td>\n",
       "      <td>0.0</td>\n",
       "      <td>0.0</td>\n",
       "      <td>0.0</td>\n",
       "      <td>0.0</td>\n",
       "      <td>0.0</td>\n",
       "      <td>0.0</td>\n",
       "      <td>0.0</td>\n",
       "      <td>0.0</td>\n",
       "      <td>0</td>\n",
       "    </tr>\n",
       "    <tr>\n",
       "      <th>4</th>\n",
       "      <td>4.0</td>\n",
       "      <td>0.0</td>\n",
       "      <td>0.0</td>\n",
       "      <td>2.0</td>\n",
       "      <td>0.0</td>\n",
       "      <td>6.0</td>\n",
       "      <td>2.0</td>\n",
       "      <td>0.0</td>\n",
       "      <td>2.0</td>\n",
       "      <td>0.0</td>\n",
       "      <td>...</td>\n",
       "      <td>0.0</td>\n",
       "      <td>0.0</td>\n",
       "      <td>0.0</td>\n",
       "      <td>0.0</td>\n",
       "      <td>0.0</td>\n",
       "      <td>0.0</td>\n",
       "      <td>0.0</td>\n",
       "      <td>0.0</td>\n",
       "      <td>0.0</td>\n",
       "      <td>1</td>\n",
       "    </tr>\n",
       "  </tbody>\n",
       "</table>\n",
       "<p>5 rows × 5001 columns</p>\n",
       "</div>"
      ],
      "text/plain": [
       "     0    1    2    3    4     5    6    7    8    9  ...  4991  4992  4993  \\\n",
       "0  3.0  1.0  1.0  1.0  1.0   3.0  1.0  1.0  1.0  1.0  ...   0.0   0.0   0.0   \n",
       "1  3.0  0.0  0.0  3.0  0.0   4.0  1.0  0.0  2.0  0.0  ...   0.0   0.0   0.0   \n",
       "2  2.0  0.0  0.0  0.0  0.0   6.0  0.0  0.0  0.0  0.0  ...   0.0   0.0   0.0   \n",
       "3  3.0  0.0  0.0  0.0  0.0  10.0  0.0  0.0  3.0  0.0  ...   0.0   0.0   0.0   \n",
       "4  4.0  0.0  0.0  2.0  0.0   6.0  2.0  0.0  2.0  0.0  ...   0.0   0.0   0.0   \n",
       "\n",
       "   4994  4995  4996  4997  4998  4999  sentiment  \n",
       "0   0.0   0.0   0.0   0.0   0.0   0.0          1  \n",
       "1   0.0   0.0   0.0   0.0   0.0   0.0          1  \n",
       "2   0.0   0.0   0.0   0.0   0.0   0.0          1  \n",
       "3   0.0   0.0   0.0   0.0   0.0   0.0          0  \n",
       "4   0.0   0.0   0.0   0.0   0.0   0.0          1  \n",
       "\n",
       "[5 rows x 5001 columns]"
      ]
     },
     "execution_count": 34,
     "metadata": {},
     "output_type": "execute_result"
    }
   ],
   "source": [
    "df_preprocessed.head()"
   ]
  },
  {
   "cell_type": "code",
   "execution_count": 35,
   "id": "6582e0d5",
   "metadata": {
    "execution": {
     "iopub.execute_input": "2023-01-04T14:28:04.073980Z",
     "iopub.status.busy": "2023-01-04T14:28:04.073562Z",
     "iopub.status.idle": "2023-01-04T14:28:04.644525Z",
     "shell.execute_reply": "2023-01-04T14:28:04.643369Z"
    },
    "papermill": {
     "duration": 0.598156,
     "end_time": "2023-01-04T14:28:04.646929",
     "exception": false,
     "start_time": "2023-01-04T14:28:04.048773",
     "status": "completed"
    },
    "tags": []
   },
   "outputs": [
    {
     "data": {
      "text/plain": [
       "42"
      ]
     },
     "execution_count": 35,
     "metadata": {},
     "output_type": "execute_result"
    }
   ],
   "source": [
    "del df\n",
    "del df2\n",
    "del my_dict\n",
    "gc.collect()"
   ]
  },
  {
   "cell_type": "markdown",
   "id": "2aadd720",
   "metadata": {
    "papermill": {
     "duration": 0.023228,
     "end_time": "2023-01-04T14:28:04.693643",
     "exception": false,
     "start_time": "2023-01-04T14:28:04.670415",
     "status": "completed"
    },
    "tags": []
   },
   "source": [
    "## Check balance"
   ]
  },
  {
   "cell_type": "code",
   "execution_count": 36,
   "id": "69ba9b0d",
   "metadata": {
    "execution": {
     "iopub.execute_input": "2023-01-04T14:28:04.744266Z",
     "iopub.status.busy": "2023-01-04T14:28:04.743854Z",
     "iopub.status.idle": "2023-01-04T14:28:04.753504Z",
     "shell.execute_reply": "2023-01-04T14:28:04.752283Z"
    },
    "papermill": {
     "duration": 0.037499,
     "end_time": "2023-01-04T14:28:04.755670",
     "exception": false,
     "start_time": "2023-01-04T14:28:04.718171",
     "status": "completed"
    },
    "tags": []
   },
   "outputs": [
    {
     "data": {
      "text/plain": [
       "1    25000\n",
       "0    25000\n",
       "Name: sentiment, dtype: int64"
      ]
     },
     "execution_count": 36,
     "metadata": {},
     "output_type": "execute_result"
    }
   ],
   "source": [
    "df_preprocessed['sentiment'].value_counts()"
   ]
  },
  {
   "cell_type": "code",
   "execution_count": 37,
   "id": "2c71d7e9",
   "metadata": {
    "execution": {
     "iopub.execute_input": "2023-01-04T14:28:04.805213Z",
     "iopub.status.busy": "2023-01-04T14:28:04.804501Z",
     "iopub.status.idle": "2023-01-04T14:28:06.108549Z",
     "shell.execute_reply": "2023-01-04T14:28:06.107251Z"
    },
    "papermill": {
     "duration": 1.334393,
     "end_time": "2023-01-04T14:28:06.113522",
     "exception": false,
     "start_time": "2023-01-04T14:28:04.779129",
     "status": "completed"
    },
    "tags": []
   },
   "outputs": [],
   "source": [
    "sum_token = df_preprocessed.iloc[:, :5000].sum(axis=1)"
   ]
  },
  {
   "cell_type": "code",
   "execution_count": 38,
   "id": "83f89e7e",
   "metadata": {
    "execution": {
     "iopub.execute_input": "2023-01-04T14:28:06.175557Z",
     "iopub.status.busy": "2023-01-04T14:28:06.174844Z",
     "iopub.status.idle": "2023-01-04T14:28:06.181007Z",
     "shell.execute_reply": "2023-01-04T14:28:06.180111Z"
    },
    "papermill": {
     "duration": 0.03952,
     "end_time": "2023-01-04T14:28:06.184002",
     "exception": false,
     "start_time": "2023-01-04T14:28:06.144482",
     "status": "completed"
    },
    "tags": []
   },
   "outputs": [],
   "source": [
    "df_check_token_balanced = pd.concat([sum_token, df_preprocessed['sentiment']], axis=1)"
   ]
  },
  {
   "cell_type": "code",
   "execution_count": 39,
   "id": "8a07f0b5",
   "metadata": {
    "execution": {
     "iopub.execute_input": "2023-01-04T14:28:06.245931Z",
     "iopub.status.busy": "2023-01-04T14:28:06.245128Z",
     "iopub.status.idle": "2023-01-04T14:28:06.253154Z",
     "shell.execute_reply": "2023-01-04T14:28:06.252150Z"
    },
    "papermill": {
     "duration": 0.039811,
     "end_time": "2023-01-04T14:28:06.255697",
     "exception": false,
     "start_time": "2023-01-04T14:28:06.215886",
     "status": "completed"
    },
    "tags": []
   },
   "outputs": [
    {
     "data": {
      "text/plain": [
       "Index([0, 'sentiment'], dtype='object')"
      ]
     },
     "execution_count": 39,
     "metadata": {},
     "output_type": "execute_result"
    }
   ],
   "source": [
    "df_check_token_balanced.columns"
   ]
  },
  {
   "cell_type": "code",
   "execution_count": 40,
   "id": "958a83f0",
   "metadata": {
    "execution": {
     "iopub.execute_input": "2023-01-04T14:28:06.314243Z",
     "iopub.status.busy": "2023-01-04T14:28:06.313714Z",
     "iopub.status.idle": "2023-01-04T14:28:06.324333Z",
     "shell.execute_reply": "2023-01-04T14:28:06.323131Z"
    },
    "papermill": {
     "duration": 0.040139,
     "end_time": "2023-01-04T14:28:06.326653",
     "exception": false,
     "start_time": "2023-01-04T14:28:06.286514",
     "status": "completed"
    },
    "tags": []
   },
   "outputs": [
    {
     "data": {
      "text/plain": [
       "array([116.,   0.])"
      ]
     },
     "execution_count": 40,
     "metadata": {},
     "output_type": "execute_result"
    }
   ],
   "source": [
    "df_check_token_balanced.iloc[-1].unique()"
   ]
  },
  {
   "cell_type": "code",
   "execution_count": 41,
   "id": "0734f665",
   "metadata": {
    "execution": {
     "iopub.execute_input": "2023-01-04T14:28:06.376851Z",
     "iopub.status.busy": "2023-01-04T14:28:06.376132Z",
     "iopub.status.idle": "2023-01-04T14:28:06.392303Z",
     "shell.execute_reply": "2023-01-04T14:28:06.391155Z"
    },
    "papermill": {
     "duration": 0.044102,
     "end_time": "2023-01-04T14:28:06.394729",
     "exception": false,
     "start_time": "2023-01-04T14:28:06.350627",
     "status": "completed"
    },
    "tags": []
   },
   "outputs": [
    {
     "data": {
      "text/plain": [
       "0       sentiment\n",
       "117.0   1            212\n",
       "115.0   0            210\n",
       "111.0   0            207\n",
       "113.0   0            202\n",
       "119.0   0            197\n",
       "                    ... \n",
       "740.0   0              1\n",
       "741.0   1              1\n",
       "743.0   1              1\n",
       "744.0   1              1\n",
       "1909.0  1              1\n",
       "Length: 1676, dtype: int64"
      ]
     },
     "execution_count": 41,
     "metadata": {},
     "output_type": "execute_result"
    }
   ],
   "source": [
    "df_check_token_balanced.value_counts()"
   ]
  },
  {
   "cell_type": "code",
   "execution_count": 42,
   "id": "cf027873",
   "metadata": {
    "execution": {
     "iopub.execute_input": "2023-01-04T14:28:06.459732Z",
     "iopub.status.busy": "2023-01-04T14:28:06.458464Z",
     "iopub.status.idle": "2023-01-04T14:28:06.465225Z",
     "shell.execute_reply": "2023-01-04T14:28:06.464031Z"
    },
    "papermill": {
     "duration": 0.038092,
     "end_time": "2023-01-04T14:28:06.467533",
     "exception": false,
     "start_time": "2023-01-04T14:28:06.429441",
     "status": "completed"
    },
    "tags": []
   },
   "outputs": [],
   "source": [
    "df_check_token_balanced.columns =['sum_token', 'sentiment']"
   ]
  },
  {
   "cell_type": "code",
   "execution_count": 43,
   "id": "2410562b",
   "metadata": {
    "execution": {
     "iopub.execute_input": "2023-01-04T14:28:06.520024Z",
     "iopub.status.busy": "2023-01-04T14:28:06.519274Z",
     "iopub.status.idle": "2023-01-04T14:28:06.530538Z",
     "shell.execute_reply": "2023-01-04T14:28:06.529288Z"
    },
    "papermill": {
     "duration": 0.040365,
     "end_time": "2023-01-04T14:28:06.532920",
     "exception": false,
     "start_time": "2023-01-04T14:28:06.492555",
     "status": "completed"
    },
    "tags": []
   },
   "outputs": [
    {
     "data": {
      "text/html": [
       "<div>\n",
       "<style scoped>\n",
       "    .dataframe tbody tr th:only-of-type {\n",
       "        vertical-align: middle;\n",
       "    }\n",
       "\n",
       "    .dataframe tbody tr th {\n",
       "        vertical-align: top;\n",
       "    }\n",
       "\n",
       "    .dataframe thead th {\n",
       "        text-align: right;\n",
       "    }\n",
       "</style>\n",
       "<table border=\"1\" class=\"dataframe\">\n",
       "  <thead>\n",
       "    <tr style=\"text-align: right;\">\n",
       "      <th></th>\n",
       "      <th>sum_token</th>\n",
       "      <th>sentiment</th>\n",
       "    </tr>\n",
       "  </thead>\n",
       "  <tbody>\n",
       "    <tr>\n",
       "      <th>0</th>\n",
       "      <td>248.0</td>\n",
       "      <td>1</td>\n",
       "    </tr>\n",
       "    <tr>\n",
       "      <th>1</th>\n",
       "      <td>133.0</td>\n",
       "      <td>1</td>\n",
       "    </tr>\n",
       "    <tr>\n",
       "      <th>2</th>\n",
       "      <td>140.0</td>\n",
       "      <td>1</td>\n",
       "    </tr>\n",
       "    <tr>\n",
       "      <th>3</th>\n",
       "      <td>117.0</td>\n",
       "      <td>0</td>\n",
       "    </tr>\n",
       "    <tr>\n",
       "      <th>4</th>\n",
       "      <td>193.0</td>\n",
       "      <td>1</td>\n",
       "    </tr>\n",
       "  </tbody>\n",
       "</table>\n",
       "</div>"
      ],
      "text/plain": [
       "   sum_token  sentiment\n",
       "0      248.0          1\n",
       "1      133.0          1\n",
       "2      140.0          1\n",
       "3      117.0          0\n",
       "4      193.0          1"
      ]
     },
     "execution_count": 43,
     "metadata": {},
     "output_type": "execute_result"
    }
   ],
   "source": [
    "df_check_token_balanced.head()"
   ]
  },
  {
   "cell_type": "code",
   "execution_count": 44,
   "id": "49fae448",
   "metadata": {
    "execution": {
     "iopub.execute_input": "2023-01-04T14:28:06.584435Z",
     "iopub.status.busy": "2023-01-04T14:28:06.583696Z",
     "iopub.status.idle": "2023-01-04T14:28:07.450185Z",
     "shell.execute_reply": "2023-01-04T14:28:07.449086Z"
    },
    "papermill": {
     "duration": 0.895246,
     "end_time": "2023-01-04T14:28:07.452788",
     "exception": false,
     "start_time": "2023-01-04T14:28:06.557542",
     "status": "completed"
    },
    "tags": []
   },
   "outputs": [
    {
     "data": {
      "text/plain": [
       "<AxesSubplot:xlabel='sentiment', ylabel='sum_token'>"
      ]
     },
     "execution_count": 44,
     "metadata": {},
     "output_type": "execute_result"
    },
    {
     "data": {
      "image/png": "[encoded data removed]",
      "text/plain": [
       "<Figure size 432x288 with 1 Axes>"
      ]
     },
     "metadata": {
      "needs_background": "light"
     },
     "output_type": "display_data"
    }
   ],
   "source": [
    "sns.barplot(data = df_check_token_balanced, x = \"sentiment\" , y =\"sum_token\")"
   ]
  },
  {
   "cell_type": "code",
   "execution_count": 45,
   "id": "a0665f0c",
   "metadata": {
    "execution": {
     "iopub.execute_input": "2023-01-04T14:28:07.506911Z",
     "iopub.status.busy": "2023-01-04T14:28:07.506268Z",
     "iopub.status.idle": "2023-01-04T14:28:07.923512Z",
     "shell.execute_reply": "2023-01-04T14:28:07.922541Z"
    },
    "papermill": {
     "duration": 0.446383,
     "end_time": "2023-01-04T14:28:07.925976",
     "exception": false,
     "start_time": "2023-01-04T14:28:07.479593",
     "status": "completed"
    },
    "tags": []
   },
   "outputs": [
    {
     "data": {
      "text/plain": [
       "<AxesSubplot:xlabel='sentiment', ylabel='sum_token'>"
      ]
     },
     "execution_count": 45,
     "metadata": {},
     "output_type": "execute_result"
    },
    {
     "data": {
      "image/png": "[encoded data removed]",
      "text/plain": [
       "<Figure size 432x288 with 1 Axes>"
      ]
     },
     "metadata": {
      "needs_background": "light"
     },
     "output_type": "display_data"
    }
   ],
   "source": [
    "sns.scatterplot(data = df_check_token_balanced, x = \"sentiment\" , y =\"sum_token\")"
   ]
  },
  {
   "cell_type": "code",
   "execution_count": 46,
   "id": "78667167",
   "metadata": {
    "execution": {
     "iopub.execute_input": "2023-01-04T14:28:07.978343Z",
     "iopub.status.busy": "2023-01-04T14:28:07.977729Z",
     "iopub.status.idle": "2023-01-04T14:28:07.981808Z",
     "shell.execute_reply": "2023-01-04T14:28:07.980729Z"
    },
    "papermill": {
     "duration": 0.03335,
     "end_time": "2023-01-04T14:28:07.984181",
     "exception": false,
     "start_time": "2023-01-04T14:28:07.950831",
     "status": "completed"
    },
    "tags": []
   },
   "outputs": [],
   "source": [
    "# this line takes 5mins+ and may use up all memories\n",
    "# df_preprocessed.to_csv('data_processed.csv', header=0)"
   ]
  },
  {
   "cell_type": "code",
   "execution_count": 47,
   "id": "5e0044e7",
   "metadata": {
    "execution": {
     "iopub.execute_input": "2023-01-04T14:28:08.036120Z",
     "iopub.status.busy": "2023-01-04T14:28:08.034912Z",
     "iopub.status.idle": "2023-01-04T14:28:08.623659Z",
     "shell.execute_reply": "2023-01-04T14:28:08.622288Z"
    },
    "papermill": {
     "duration": 0.617625,
     "end_time": "2023-01-04T14:28:08.626915",
     "exception": false,
     "start_time": "2023-01-04T14:28:08.009290",
     "status": "completed"
    },
    "tags": []
   },
   "outputs": [
    {
     "data": {
      "text/plain": [
       "42"
      ]
     },
     "execution_count": 47,
     "metadata": {},
     "output_type": "execute_result"
    }
   ],
   "source": [
    "del df_check_token_balanced\n",
    "gc.collect()"
   ]
  },
  {
   "cell_type": "markdown",
   "id": "c63192a0",
   "metadata": {
    "papermill": {
     "duration": 0.026251,
     "end_time": "2023-01-04T14:28:08.678466",
     "exception": false,
     "start_time": "2023-01-04T14:28:08.652215",
     "status": "completed"
    },
    "tags": []
   },
   "source": [
    "# Declaring observations and targets"
   ]
  },
  {
   "cell_type": "code",
   "execution_count": 48,
   "id": "8a597c5f",
   "metadata": {
    "execution": {
     "iopub.execute_input": "2023-01-04T14:28:08.733415Z",
     "iopub.status.busy": "2023-01-04T14:28:08.732690Z",
     "iopub.status.idle": "2023-01-04T14:28:08.739539Z",
     "shell.execute_reply": "2023-01-04T14:28:08.737965Z"
    },
    "papermill": {
     "duration": 0.03623,
     "end_time": "2023-01-04T14:28:08.742491",
     "exception": false,
     "start_time": "2023-01-04T14:28:08.706261",
     "status": "completed"
    },
    "tags": []
   },
   "outputs": [
    {
     "data": {
      "text/plain": [
       "(50000, 5001)"
      ]
     },
     "execution_count": 48,
     "metadata": {},
     "output_type": "execute_result"
    }
   ],
   "source": [
    "df_preprocessed.shape"
   ]
  },
  {
   "cell_type": "code",
   "execution_count": 49,
   "id": "f1ef0ea8",
   "metadata": {
    "execution": {
     "iopub.execute_input": "2023-01-04T14:28:08.795239Z",
     "iopub.status.busy": "2023-01-04T14:28:08.794822Z",
     "iopub.status.idle": "2023-01-04T14:28:09.200030Z",
     "shell.execute_reply": "2023-01-04T14:28:09.198578Z"
    },
    "papermill": {
     "duration": 0.434282,
     "end_time": "2023-01-04T14:28:09.202689",
     "exception": false,
     "start_time": "2023-01-04T14:28:08.768407",
     "status": "completed"
    },
    "tags": []
   },
   "outputs": [],
   "source": [
    "df_preprocessed = df_preprocessed.astype('float32')"
   ]
  },
  {
   "cell_type": "code",
   "execution_count": 50,
   "id": "d62fa6ef",
   "metadata": {
    "execution": {
     "iopub.execute_input": "2023-01-04T14:28:09.256143Z",
     "iopub.status.busy": "2023-01-04T14:28:09.255705Z",
     "iopub.status.idle": "2023-01-04T14:28:09.260632Z",
     "shell.execute_reply": "2023-01-04T14:28:09.259595Z"
    },
    "papermill": {
     "duration": 0.034356,
     "end_time": "2023-01-04T14:28:09.262739",
     "exception": false,
     "start_time": "2023-01-04T14:28:09.228383",
     "status": "completed"
    },
    "tags": []
   },
   "outputs": [],
   "source": [
    "#df_preprocessed.iloc[-1]"
   ]
  },
  {
   "cell_type": "code",
   "execution_count": 51,
   "id": "967e0f32",
   "metadata": {
    "execution": {
     "iopub.execute_input": "2023-01-04T14:28:09.316244Z",
     "iopub.status.busy": "2023-01-04T14:28:09.315271Z",
     "iopub.status.idle": "2023-01-04T14:28:09.616453Z",
     "shell.execute_reply": "2023-01-04T14:28:09.615241Z"
    },
    "papermill": {
     "duration": 0.330901,
     "end_time": "2023-01-04T14:28:09.619206",
     "exception": false,
     "start_time": "2023-01-04T14:28:09.288305",
     "status": "completed"
    },
    "tags": []
   },
   "outputs": [],
   "source": [
    "X = df_preprocessed.iloc[:, :5000]"
   ]
  },
  {
   "cell_type": "code",
   "execution_count": 52,
   "id": "38141781",
   "metadata": {
    "execution": {
     "iopub.execute_input": "2023-01-04T14:28:09.673421Z",
     "iopub.status.busy": "2023-01-04T14:28:09.672898Z",
     "iopub.status.idle": "2023-01-04T14:28:09.678512Z",
     "shell.execute_reply": "2023-01-04T14:28:09.677430Z"
    },
    "papermill": {
     "duration": 0.035092,
     "end_time": "2023-01-04T14:28:09.680966",
     "exception": false,
     "start_time": "2023-01-04T14:28:09.645874",
     "status": "completed"
    },
    "tags": []
   },
   "outputs": [],
   "source": [
    "y = df_preprocessed.iloc[:, -1].copy()"
   ]
  },
  {
   "cell_type": "code",
   "execution_count": 53,
   "id": "316531c1",
   "metadata": {
    "execution": {
     "iopub.execute_input": "2023-01-04T14:28:09.735181Z",
     "iopub.status.busy": "2023-01-04T14:28:09.734690Z",
     "iopub.status.idle": "2023-01-04T14:28:09.763129Z",
     "shell.execute_reply": "2023-01-04T14:28:09.761806Z"
    },
    "papermill": {
     "duration": 0.059224,
     "end_time": "2023-01-04T14:28:09.765593",
     "exception": false,
     "start_time": "2023-01-04T14:28:09.706369",
     "status": "completed"
    },
    "tags": []
   },
   "outputs": [
    {
     "data": {
      "text/html": [
       "<div>\n",
       "<style scoped>\n",
       "    .dataframe tbody tr th:only-of-type {\n",
       "        vertical-align: middle;\n",
       "    }\n",
       "\n",
       "    .dataframe tbody tr th {\n",
       "        vertical-align: top;\n",
       "    }\n",
       "\n",
       "    .dataframe thead th {\n",
       "        text-align: right;\n",
       "    }\n",
       "</style>\n",
       "<table border=\"1\" class=\"dataframe\">\n",
       "  <thead>\n",
       "    <tr style=\"text-align: right;\">\n",
       "      <th></th>\n",
       "      <th>0</th>\n",
       "      <th>1</th>\n",
       "      <th>2</th>\n",
       "      <th>3</th>\n",
       "      <th>4</th>\n",
       "      <th>5</th>\n",
       "      <th>6</th>\n",
       "      <th>7</th>\n",
       "      <th>8</th>\n",
       "      <th>9</th>\n",
       "      <th>...</th>\n",
       "      <th>4990</th>\n",
       "      <th>4991</th>\n",
       "      <th>4992</th>\n",
       "      <th>4993</th>\n",
       "      <th>4994</th>\n",
       "      <th>4995</th>\n",
       "      <th>4996</th>\n",
       "      <th>4997</th>\n",
       "      <th>4998</th>\n",
       "      <th>4999</th>\n",
       "    </tr>\n",
       "  </thead>\n",
       "  <tbody>\n",
       "    <tr>\n",
       "      <th>0</th>\n",
       "      <td>3.0</td>\n",
       "      <td>1.0</td>\n",
       "      <td>1.0</td>\n",
       "      <td>1.0</td>\n",
       "      <td>1.0</td>\n",
       "      <td>3.0</td>\n",
       "      <td>1.0</td>\n",
       "      <td>1.0</td>\n",
       "      <td>1.0</td>\n",
       "      <td>1.0</td>\n",
       "      <td>...</td>\n",
       "      <td>0.0</td>\n",
       "      <td>0.0</td>\n",
       "      <td>0.0</td>\n",
       "      <td>0.0</td>\n",
       "      <td>0.0</td>\n",
       "      <td>0.0</td>\n",
       "      <td>0.0</td>\n",
       "      <td>0.0</td>\n",
       "      <td>0.0</td>\n",
       "      <td>0.0</td>\n",
       "    </tr>\n",
       "    <tr>\n",
       "      <th>1</th>\n",
       "      <td>3.0</td>\n",
       "      <td>0.0</td>\n",
       "      <td>0.0</td>\n",
       "      <td>3.0</td>\n",
       "      <td>0.0</td>\n",
       "      <td>4.0</td>\n",
       "      <td>1.0</td>\n",
       "      <td>0.0</td>\n",
       "      <td>2.0</td>\n",
       "      <td>0.0</td>\n",
       "      <td>...</td>\n",
       "      <td>0.0</td>\n",
       "      <td>0.0</td>\n",
       "      <td>0.0</td>\n",
       "      <td>0.0</td>\n",
       "      <td>0.0</td>\n",
       "      <td>0.0</td>\n",
       "      <td>0.0</td>\n",
       "      <td>0.0</td>\n",
       "      <td>0.0</td>\n",
       "      <td>0.0</td>\n",
       "    </tr>\n",
       "  </tbody>\n",
       "</table>\n",
       "<p>2 rows × 5000 columns</p>\n",
       "</div>"
      ],
      "text/plain": [
       "   0     1     2     3     4     5     6     7     8     9     ...  4990  \\\n",
       "0   3.0   1.0   1.0   1.0   1.0   3.0   1.0   1.0   1.0   1.0  ...   0.0   \n",
       "1   3.0   0.0   0.0   3.0   0.0   4.0   1.0   0.0   2.0   0.0  ...   0.0   \n",
       "\n",
       "   4991  4992  4993  4994  4995  4996  4997  4998  4999  \n",
       "0   0.0   0.0   0.0   0.0   0.0   0.0   0.0   0.0   0.0  \n",
       "1   0.0   0.0   0.0   0.0   0.0   0.0   0.0   0.0   0.0  \n",
       "\n",
       "[2 rows x 5000 columns]"
      ]
     },
     "execution_count": 53,
     "metadata": {},
     "output_type": "execute_result"
    }
   ],
   "source": [
    "X.head(2)"
   ]
  },
  {
   "cell_type": "code",
   "execution_count": 54,
   "id": "a0119d82",
   "metadata": {
    "execution": {
     "iopub.execute_input": "2023-01-04T14:28:09.818143Z",
     "iopub.status.busy": "2023-01-04T14:28:09.817694Z",
     "iopub.status.idle": "2023-01-04T14:28:09.827351Z",
     "shell.execute_reply": "2023-01-04T14:28:09.825964Z"
    },
    "papermill": {
     "duration": 0.03896,
     "end_time": "2023-01-04T14:28:09.829893",
     "exception": false,
     "start_time": "2023-01-04T14:28:09.790933",
     "status": "completed"
    },
    "tags": []
   },
   "outputs": [
    {
     "data": {
      "text/plain": [
       "0    1.0\n",
       "1    1.0\n",
       "Name: sentiment, dtype: float32"
      ]
     },
     "execution_count": 54,
     "metadata": {},
     "output_type": "execute_result"
    }
   ],
   "source": [
    "y.head(2)"
   ]
  },
  {
   "cell_type": "code",
   "execution_count": 55,
   "id": "100dbf08",
   "metadata": {
    "execution": {
     "iopub.execute_input": "2023-01-04T14:28:09.884232Z",
     "iopub.status.busy": "2023-01-04T14:28:09.883799Z",
     "iopub.status.idle": "2023-01-04T14:28:10.446853Z",
     "shell.execute_reply": "2023-01-04T14:28:10.445900Z"
    },
    "papermill": {
     "duration": 0.592652,
     "end_time": "2023-01-04T14:28:10.449034",
     "exception": false,
     "start_time": "2023-01-04T14:28:09.856382",
     "status": "completed"
    },
    "tags": []
   },
   "outputs": [
    {
     "data": {
      "text/plain": [
       "168"
      ]
     },
     "execution_count": 55,
     "metadata": {},
     "output_type": "execute_result"
    }
   ],
   "source": [
    "del df_preprocessed\n",
    "gc.collect()"
   ]
  },
  {
   "cell_type": "markdown",
   "id": "ce1e1782",
   "metadata": {
    "papermill": {
     "duration": 0.02607,
     "end_time": "2023-01-04T14:28:10.500553",
     "exception": false,
     "start_time": "2023-01-04T14:28:10.474483",
     "status": "completed"
    },
    "tags": []
   },
   "source": [
    "# Standardize X"
   ]
  },
  {
   "cell_type": "code",
   "execution_count": 56,
   "id": "e32f47e8",
   "metadata": {
    "execution": {
     "iopub.execute_input": "2023-01-04T14:28:10.555551Z",
     "iopub.status.busy": "2023-01-04T14:28:10.555118Z",
     "iopub.status.idle": "2023-01-04T14:28:14.126558Z",
     "shell.execute_reply": "2023-01-04T14:28:14.125451Z"
    },
    "papermill": {
     "duration": 3.601248,
     "end_time": "2023-01-04T14:28:14.129375",
     "exception": false,
     "start_time": "2023-01-04T14:28:10.528127",
     "status": "completed"
    },
    "tags": []
   },
   "outputs": [],
   "source": [
    "scaler = StandardScaler()\n",
    "X_scaled = scaler.fit_transform(X)"
   ]
  },
  {
   "cell_type": "markdown",
   "id": "095cef29",
   "metadata": {
    "papermill": {
     "duration": 0.025102,
     "end_time": "2023-01-04T14:28:14.180253",
     "exception": false,
     "start_time": "2023-01-04T14:28:14.155151",
     "status": "completed"
    },
    "tags": []
   },
   "source": [
    "# Train test split"
   ]
  },
  {
   "cell_type": "code",
   "execution_count": 57,
   "id": "147d1ca1",
   "metadata": {
    "execution": {
     "iopub.execute_input": "2023-01-04T14:28:14.233485Z",
     "iopub.status.busy": "2023-01-04T14:28:14.232594Z",
     "iopub.status.idle": "2023-01-04T14:28:17.005313Z",
     "shell.execute_reply": "2023-01-04T14:28:17.004025Z"
    },
    "papermill": {
     "duration": 2.802731,
     "end_time": "2023-01-04T14:28:17.008344",
     "exception": false,
     "start_time": "2023-01-04T14:28:14.205613",
     "status": "completed"
    },
    "tags": []
   },
   "outputs": [],
   "source": [
    "X_train, X_test, y_train, y_test = train_test_split(X_scaled,y, test_size= 0.2, random_state = 42)"
   ]
  },
  {
   "cell_type": "code",
   "execution_count": 58,
   "id": "cb1c6b76",
   "metadata": {
    "execution": {
     "iopub.execute_input": "2023-01-04T14:28:17.068559Z",
     "iopub.status.busy": "2023-01-04T14:28:17.068166Z",
     "iopub.status.idle": "2023-01-04T14:28:17.072764Z",
     "shell.execute_reply": "2023-01-04T14:28:17.071780Z"
    },
    "papermill": {
     "duration": 0.03578,
     "end_time": "2023-01-04T14:28:17.075117",
     "exception": false,
     "start_time": "2023-01-04T14:28:17.039337",
     "status": "completed"
    },
    "tags": []
   },
   "outputs": [],
   "source": [
    "#y_train.info()"
   ]
  },
  {
   "cell_type": "code",
   "execution_count": 59,
   "id": "68a80c21",
   "metadata": {
    "execution": {
     "iopub.execute_input": "2023-01-04T14:28:17.128596Z",
     "iopub.status.busy": "2023-01-04T14:28:17.128204Z",
     "iopub.status.idle": "2023-01-04T14:28:17.132985Z",
     "shell.execute_reply": "2023-01-04T14:28:17.132016Z"
    },
    "papermill": {
     "duration": 0.034197,
     "end_time": "2023-01-04T14:28:17.135117",
     "exception": false,
     "start_time": "2023-01-04T14:28:17.100920",
     "status": "completed"
    },
    "tags": []
   },
   "outputs": [],
   "source": [
    "y_train = y_train.astype('float32')\n",
    "y_test = y_test.astype('float32')"
   ]
  },
  {
   "cell_type": "code",
   "execution_count": 60,
   "id": "a759821a",
   "metadata": {
    "execution": {
     "iopub.execute_input": "2023-01-04T14:28:17.188125Z",
     "iopub.status.busy": "2023-01-04T14:28:17.187652Z",
     "iopub.status.idle": "2023-01-04T14:28:17.194046Z",
     "shell.execute_reply": "2023-01-04T14:28:17.192840Z"
    },
    "papermill": {
     "duration": 0.036032,
     "end_time": "2023-01-04T14:28:17.196487",
     "exception": false,
     "start_time": "2023-01-04T14:28:17.160455",
     "status": "completed"
    },
    "tags": []
   },
   "outputs": [
    {
     "name": "stdout",
     "output_type": "stream",
     "text": [
      "(40000, 5000)\n",
      "(10000, 5000)\n",
      "(40000,)\n",
      "(10000,)\n"
     ]
    }
   ],
   "source": [
    "print(X_train.shape)\n",
    "print(X_test.shape)\n",
    "print(y_train.shape)\n",
    "print(y_test.shape)"
   ]
  },
  {
   "cell_type": "code",
   "execution_count": 61,
   "id": "885555f4",
   "metadata": {
    "execution": {
     "iopub.execute_input": "2023-01-04T14:28:17.250702Z",
     "iopub.status.busy": "2023-01-04T14:28:17.250342Z",
     "iopub.status.idle": "2023-01-04T14:28:17.823219Z",
     "shell.execute_reply": "2023-01-04T14:28:17.822189Z"
    },
    "papermill": {
     "duration": 0.603514,
     "end_time": "2023-01-04T14:28:17.825484",
     "exception": false,
     "start_time": "2023-01-04T14:28:17.221970",
     "status": "completed"
    },
    "tags": []
   },
   "outputs": [
    {
     "data": {
      "text/plain": [
       "126"
      ]
     },
     "execution_count": 61,
     "metadata": {},
     "output_type": "execute_result"
    }
   ],
   "source": [
    "del X_scaled,y\n",
    "gc.collect()"
   ]
  },
  {
   "cell_type": "markdown",
   "id": "ec45655c",
   "metadata": {
    "papermill": {
     "duration": 0.025165,
     "end_time": "2023-01-04T14:28:17.875945",
     "exception": false,
     "start_time": "2023-01-04T14:28:17.850780",
     "status": "completed"
    },
    "tags": []
   },
   "source": [
    "# Network functions"
   ]
  },
  {
   "cell_type": "code",
   "execution_count": 62,
   "id": "b3822990",
   "metadata": {
    "execution": {
     "iopub.execute_input": "2023-01-04T14:28:17.929384Z",
     "iopub.status.busy": "2023-01-04T14:28:17.929009Z",
     "iopub.status.idle": "2023-01-04T14:28:17.933888Z",
     "shell.execute_reply": "2023-01-04T14:28:17.932684Z"
    },
    "papermill": {
     "duration": 0.034131,
     "end_time": "2023-01-04T14:28:17.936153",
     "exception": false,
     "start_time": "2023-01-04T14:28:17.902022",
     "status": "completed"
    },
    "tags": []
   },
   "outputs": [],
   "source": [
    "BATCH_SIZE = 500\n",
    "STEPS_PER_EPOCH = 40000/BATCH_SIZE"
   ]
  },
  {
   "cell_type": "code",
   "execution_count": 63,
   "id": "dc406794",
   "metadata": {
    "execution": {
     "iopub.execute_input": "2023-01-04T14:28:17.989792Z",
     "iopub.status.busy": "2023-01-04T14:28:17.988950Z",
     "iopub.status.idle": "2023-01-04T14:28:17.994560Z",
     "shell.execute_reply": "2023-01-04T14:28:17.993800Z"
    },
    "papermill": {
     "duration": 0.035332,
     "end_time": "2023-01-04T14:28:17.996946",
     "exception": false,
     "start_time": "2023-01-04T14:28:17.961614",
     "status": "completed"
    },
    "tags": []
   },
   "outputs": [],
   "source": [
    "lr_schedule = tf.keras.optimizers.schedules.InverseTimeDecay(\n",
    "  0.001,\n",
    "  decay_steps=STEPS_PER_EPOCH*1000,\n",
    "  decay_rate=1,\n",
    "  staircase=False)"
   ]
  },
  {
   "cell_type": "code",
   "execution_count": 64,
   "id": "a7bab12e",
   "metadata": {
    "execution": {
     "iopub.execute_input": "2023-01-04T14:28:18.051531Z",
     "iopub.status.busy": "2023-01-04T14:28:18.050731Z",
     "iopub.status.idle": "2023-01-04T14:28:18.055769Z",
     "shell.execute_reply": "2023-01-04T14:28:18.055010Z"
    },
    "papermill": {
     "duration": 0.035184,
     "end_time": "2023-01-04T14:28:18.058063",
     "exception": false,
     "start_time": "2023-01-04T14:28:18.022879",
     "status": "completed"
    },
    "tags": []
   },
   "outputs": [],
   "source": [
    "def get_optimizer():\n",
    "    return tf.keras.optimizers.Adam(lr_schedule)"
   ]
  },
  {
   "cell_type": "code",
   "execution_count": 65,
   "id": "d3995b61",
   "metadata": {
    "execution": {
     "iopub.execute_input": "2023-01-04T14:28:18.111701Z",
     "iopub.status.busy": "2023-01-04T14:28:18.110899Z",
     "iopub.status.idle": "2023-01-04T14:28:18.117562Z",
     "shell.execute_reply": "2023-01-04T14:28:18.116190Z"
    },
    "papermill": {
     "duration": 0.036729,
     "end_time": "2023-01-04T14:28:18.120158",
     "exception": false,
     "start_time": "2023-01-04T14:28:18.083429",
     "status": "completed"
    },
    "tags": []
   },
   "outputs": [],
   "source": [
    "def get_callbacks(name):\n",
    "    return [\n",
    "        tfdocs.modeling.EpochDots(),\n",
    "        tf.keras.callbacks.EarlyStopping(monitor='val_binary_crossentropy', patience=150),\n",
    "        tf.keras.callbacks.TensorBoard(logdir/name),\n",
    "  ]"
   ]
  },
  {
   "cell_type": "code",
   "execution_count": 66,
   "id": "9f3f911e",
   "metadata": {
    "execution": {
     "iopub.execute_input": "2023-01-04T14:28:18.174829Z",
     "iopub.status.busy": "2023-01-04T14:28:18.174395Z",
     "iopub.status.idle": "2023-01-04T14:28:18.182300Z",
     "shell.execute_reply": "2023-01-04T14:28:18.181127Z"
    },
    "papermill": {
     "duration": 0.038209,
     "end_time": "2023-01-04T14:28:18.184590",
     "exception": false,
     "start_time": "2023-01-04T14:28:18.146381",
     "status": "completed"
    },
    "tags": []
   },
   "outputs": [],
   "source": [
    "def compile_and_fit(model, name, f_xtrain, f_ytrain, f_xval, f_yval, optimizer=None, max_epochs=10000):\n",
    "\n",
    "    if optimizer is None:\n",
    "        optimizer = get_optimizer()\n",
    "    \n",
    "    model.compile(optimizer=optimizer,\n",
    "                    loss=tf.keras.losses.BinaryCrossentropy(),\n",
    "                    metrics=[tf.keras.metrics.BinaryCrossentropy(\n",
    "                              name='binary_crossentropy'),\n",
    "                              'accuracy'])\n",
    "\n",
    "    history = model.fit(\n",
    "        x = X_train,\n",
    "        y = y_train,\n",
    "        steps_per_epoch = STEPS_PER_EPOCH,\n",
    "        epochs=max_epochs,\n",
    "        validation_data=(X_val, y_val) ,\n",
    "        callbacks=get_callbacks(name),\n",
    "        verbose=2)\n",
    "    \n",
    "    return history"
   ]
  },
  {
   "cell_type": "markdown",
   "id": "10b7f064",
   "metadata": {
    "papermill": {
     "duration": 0.025117,
     "end_time": "2023-01-04T14:28:18.235115",
     "exception": false,
     "start_time": "2023-01-04T14:28:18.209998",
     "status": "completed"
    },
    "tags": []
   },
   "source": [
    "# Model performance"
   ]
  },
  {
   "cell_type": "code",
   "execution_count": 67,
   "id": "ecefe84a",
   "metadata": {
    "execution": {
     "iopub.execute_input": "2023-01-04T14:28:18.288013Z",
     "iopub.status.busy": "2023-01-04T14:28:18.287248Z",
     "iopub.status.idle": "2023-01-04T14:28:18.423128Z",
     "shell.execute_reply": "2023-01-04T14:28:18.421576Z"
    },
    "papermill": {
     "duration": 0.166323,
     "end_time": "2023-01-04T14:28:18.426680",
     "exception": false,
     "start_time": "2023-01-04T14:28:18.260357",
     "status": "completed"
    },
    "tags": []
   },
   "outputs": [
    {
     "name": "stderr",
     "output_type": "stream",
     "text": [
      "2023-01-04 14:28:18.334362: I tensorflow/core/common_runtime/process_util.cc:146] Creating new thread pool with default inter op setting: 2. Tune using inter_op_parallelism_threads for best performance.\n"
     ]
    }
   ],
   "source": [
    "model_1 = tf.keras.Sequential([\n",
    "    tf.keras.layers.Dense(units=16, activation='relu',input_shape=(5000,)),\n",
    "    tf.keras.layers.Dense(units=16, activation='relu'),\n",
    "    tf.keras.layers.Dropout(0.2),\n",
    "    tf.keras.layers.Dense(units=1,activation='sigmoid')\n",
    "])"
   ]
  },
  {
   "cell_type": "code",
   "execution_count": 68,
   "id": "ecaa339e",
   "metadata": {
    "execution": {
     "iopub.execute_input": "2023-01-04T14:28:18.482350Z",
     "iopub.status.busy": "2023-01-04T14:28:18.481247Z",
     "iopub.status.idle": "2023-01-04T14:28:18.486868Z",
     "shell.execute_reply": "2023-01-04T14:28:18.485575Z"
    },
    "papermill": {
     "duration": 0.036397,
     "end_time": "2023-01-04T14:28:18.489546",
     "exception": false,
     "start_time": "2023-01-04T14:28:18.453149",
     "status": "completed"
    },
    "tags": []
   },
   "outputs": [],
   "source": [
    "dict_histories = {}"
   ]
  },
  {
   "cell_type": "code",
   "execution_count": 69,
   "id": "42a4304b",
   "metadata": {
    "execution": {
     "iopub.execute_input": "2023-01-04T14:28:18.545660Z",
     "iopub.status.busy": "2023-01-04T14:28:18.545269Z",
     "iopub.status.idle": "2023-01-04T14:28:18.550717Z",
     "shell.execute_reply": "2023-01-04T14:28:18.549838Z"
    },
    "papermill": {
     "duration": 0.037326,
     "end_time": "2023-01-04T14:28:18.552978",
     "exception": false,
     "start_time": "2023-01-04T14:28:18.515652",
     "status": "completed"
    },
    "tags": []
   },
   "outputs": [],
   "source": [
    "X_train_1 = X_train[3000:]\n",
    "X_val = X_train[:3000]\n",
    "y_train_1 = y_train[3000:]\n",
    "y_val = y_train[:3000]"
   ]
  },
  {
   "cell_type": "code",
   "execution_count": 70,
   "id": "59facccb",
   "metadata": {
    "execution": {
     "iopub.execute_input": "2023-01-04T14:28:18.608951Z",
     "iopub.status.busy": "2023-01-04T14:28:18.608091Z",
     "iopub.status.idle": "2023-01-04T14:32:16.285776Z",
     "shell.execute_reply": "2023-01-04T14:32:16.284789Z"
    },
    "papermill": {
     "duration": 237.708808,
     "end_time": "2023-01-04T14:32:16.288471",
     "exception": false,
     "start_time": "2023-01-04T14:28:18.579663",
     "status": "completed"
    },
    "tags": []
   },
   "outputs": [
    {
     "name": "stderr",
     "output_type": "stream",
     "text": [
      "2023-01-04 14:28:18.628938: I tensorflow/core/profiler/lib/profiler_session.cc:131] Profiler session initializing.\n",
      "2023-01-04 14:28:18.629169: I tensorflow/core/profiler/lib/profiler_session.cc:146] Profiler session started.\n",
      "2023-01-04 14:28:18.630454: I tensorflow/core/profiler/lib/profiler_session.cc:164] Profiler session tear down.\n",
      "2023-01-04 14:28:19.480164: I tensorflow/compiler/mlir/mlir_graph_optimization_pass.cc:185] None of the MLIR Optimization Passes are enabled (registered 2)\n"
     ]
    },
    {
     "name": "stdout",
     "output_type": "stream",
     "text": [
      "Epoch 1/10000\n"
     ]
    },
    {
     "name": "stderr",
     "output_type": "stream",
     "text": [
      "2023-01-04 14:28:20.326631: I tensorflow/core/profiler/lib/profiler_session.cc:131] Profiler session initializing.\n",
      "2023-01-04 14:28:20.326866: I tensorflow/core/profiler/lib/profiler_session.cc:146] Profiler session started.\n",
      "2023-01-04 14:28:20.337438: I tensorflow/core/profiler/lib/profiler_session.cc:66] Profiler session collecting data.\n",
      "2023-01-04 14:28:20.344328: I tensorflow/core/profiler/lib/profiler_session.cc:164] Profiler session tear down.\n",
      "2023-01-04 14:28:20.355333: I tensorflow/core/profiler/rpc/client/save_profile.cc:136] Creating directory: /tmp/tmpgtu4s27u/tensorboard_logs/ver1/train/plugins/profile/2023_01_04_14_28_20\n",
      "\n",
      "2023-01-04 14:28:20.356712: I tensorflow/core/profiler/rpc/client/save_profile.cc:142] Dumped gzipped tool data for trace.json.gz to /tmp/tmpgtu4s27u/tensorboard_logs/ver1/train/plugins/profile/2023_01_04_14_28_20/c98c85295f29.trace.json.gz\n",
      "2023-01-04 14:28:20.369032: I tensorflow/core/profiler/rpc/client/save_profile.cc:136] Creating directory: /tmp/tmpgtu4s27u/tensorboard_logs/ver1/train/plugins/profile/2023_01_04_14_28_20\n",
      "\n",
      "2023-01-04 14:28:20.369599: I tensorflow/core/profiler/rpc/client/save_profile.cc:142] Dumped gzipped tool data for memory_profile.json.gz to /tmp/tmpgtu4s27u/tensorboard_logs/ver1/train/plugins/profile/2023_01_04_14_28_20/c98c85295f29.memory_profile.json.gz\n",
      "2023-01-04 14:28:20.370033: I tensorflow/core/profiler/rpc/client/capture_profile.cc:251] Creating directory: /tmp/tmpgtu4s27u/tensorboard_logs/ver1/train/plugins/profile/2023_01_04_14_28_20\n",
      "Dumped tool data for xplane.pb to /tmp/tmpgtu4s27u/tensorboard_logs/ver1/train/plugins/profile/2023_01_04_14_28_20/c98c85295f29.xplane.pb\n",
      "Dumped tool data for overview_page.pb to /tmp/tmpgtu4s27u/tensorboard_logs/ver1/train/plugins/profile/2023_01_04_14_28_20/c98c85295f29.overview_page.pb\n",
      "Dumped tool data for input_pipeline.pb to /tmp/tmpgtu4s27u/tensorboard_logs/ver1/train/plugins/profile/2023_01_04_14_28_20/c98c85295f29.input_pipeline.pb\n",
      "Dumped tool data for tensorflow_stats.pb to /tmp/tmpgtu4s27u/tensorboard_logs/ver1/train/plugins/profile/2023_01_04_14_28_20/c98c85295f29.tensorflow_stats.pb\n",
      "Dumped tool data for kernel_stats.pb to /tmp/tmpgtu4s27u/tensorboard_logs/ver1/train/plugins/profile/2023_01_04_14_28_20/c98c85295f29.kernel_stats.pb\n",
      "\n"
     ]
    },
    {
     "name": "stdout",
     "output_type": "stream",
     "text": [
      "80/80 - 2s - loss: 0.4640 - binary_crossentropy: 0.4640 - accuracy: 0.7766 - val_loss: 0.2387 - val_binary_crossentropy: 0.2387 - val_accuracy: 0.9190\n",
      "\n",
      "Epoch: 0, accuracy:0.7766,  binary_crossentropy:0.4640,  loss:0.4640,  val_accuracy:0.9190,  val_binary_crossentropy:0.2387,  val_loss:0.2387,  \n",
      ".Epoch 2/10000\n",
      "80/80 - 1s - loss: 0.2442 - binary_crossentropy: 0.2442 - accuracy: 0.9054 - val_loss: 0.1565 - val_binary_crossentropy: 0.1565 - val_accuracy: 0.9530\n",
      ".Epoch 3/10000\n",
      "80/80 - 1s - loss: 0.1717 - binary_crossentropy: 0.1717 - accuracy: 0.9377 - val_loss: 0.1055 - val_binary_crossentropy: 0.1055 - val_accuracy: 0.9690\n",
      ".Epoch 4/10000\n",
      "80/80 - 1s - loss: 0.1281 - binary_crossentropy: 0.1281 - accuracy: 0.9563 - val_loss: 0.0749 - val_binary_crossentropy: 0.0749 - val_accuracy: 0.9803\n",
      ".Epoch 5/10000\n",
      "80/80 - 1s - loss: 0.0946 - binary_crossentropy: 0.0946 - accuracy: 0.9700 - val_loss: 0.0515 - val_binary_crossentropy: 0.0515 - val_accuracy: 0.9887\n",
      ".Epoch 6/10000\n",
      "80/80 - 1s - loss: 0.0693 - binary_crossentropy: 0.0693 - accuracy: 0.9783 - val_loss: 0.0362 - val_binary_crossentropy: 0.0362 - val_accuracy: 0.9933\n",
      ".Epoch 7/10000\n",
      "80/80 - 1s - loss: 0.0528 - binary_crossentropy: 0.0528 - accuracy: 0.9835 - val_loss: 0.0276 - val_binary_crossentropy: 0.0276 - val_accuracy: 0.9953\n",
      ".Epoch 8/10000\n",
      "80/80 - 1s - loss: 0.0439 - binary_crossentropy: 0.0439 - accuracy: 0.9863 - val_loss: 0.0211 - val_binary_crossentropy: 0.0211 - val_accuracy: 0.9953\n",
      ".Epoch 9/10000\n",
      "80/80 - 1s - loss: 0.0388 - binary_crossentropy: 0.0388 - accuracy: 0.9877 - val_loss: 0.0210 - val_binary_crossentropy: 0.0210 - val_accuracy: 0.9943\n",
      ".Epoch 10/10000\n",
      "80/80 - 1s - loss: 0.0407 - binary_crossentropy: 0.0407 - accuracy: 0.9867 - val_loss: 0.0215 - val_binary_crossentropy: 0.0215 - val_accuracy: 0.9933\n",
      ".Epoch 11/10000\n",
      "80/80 - 1s - loss: 0.0380 - binary_crossentropy: 0.0380 - accuracy: 0.9878 - val_loss: 0.0173 - val_binary_crossentropy: 0.0173 - val_accuracy: 0.9967\n",
      ".Epoch 12/10000\n",
      "80/80 - 1s - loss: 0.0271 - binary_crossentropy: 0.0271 - accuracy: 0.9917 - val_loss: 0.0143 - val_binary_crossentropy: 0.0143 - val_accuracy: 0.9977\n",
      ".Epoch 13/10000\n",
      "80/80 - 1s - loss: 0.0196 - binary_crossentropy: 0.0196 - accuracy: 0.9941 - val_loss: 0.0095 - val_binary_crossentropy: 0.0095 - val_accuracy: 0.9983\n",
      ".Epoch 14/10000\n",
      "80/80 - 1s - loss: 0.0168 - binary_crossentropy: 0.0168 - accuracy: 0.9947 - val_loss: 0.0103 - val_binary_crossentropy: 0.0103 - val_accuracy: 0.9980\n",
      ".Epoch 15/10000\n",
      "80/80 - 1s - loss: 0.0143 - binary_crossentropy: 0.0143 - accuracy: 0.9955 - val_loss: 0.0097 - val_binary_crossentropy: 0.0097 - val_accuracy: 0.9973\n",
      ".Epoch 16/10000\n",
      "80/80 - 1s - loss: 0.0188 - binary_crossentropy: 0.0188 - accuracy: 0.9938 - val_loss: 0.0101 - val_binary_crossentropy: 0.0101 - val_accuracy: 0.9973\n",
      ".Epoch 17/10000\n",
      "80/80 - 1s - loss: 0.0254 - binary_crossentropy: 0.0254 - accuracy: 0.9914 - val_loss: 0.0199 - val_binary_crossentropy: 0.0199 - val_accuracy: 0.9937\n",
      ".Epoch 18/10000\n",
      "80/80 - 1s - loss: 0.0287 - binary_crossentropy: 0.0287 - accuracy: 0.9911 - val_loss: 0.0124 - val_binary_crossentropy: 0.0124 - val_accuracy: 0.9970\n",
      ".Epoch 19/10000\n",
      "80/80 - 1s - loss: 0.0196 - binary_crossentropy: 0.0196 - accuracy: 0.9942 - val_loss: 0.0099 - val_binary_crossentropy: 0.0099 - val_accuracy: 0.9970\n",
      ".Epoch 20/10000\n",
      "80/80 - 1s - loss: 0.0121 - binary_crossentropy: 0.0121 - accuracy: 0.9964 - val_loss: 0.0077 - val_binary_crossentropy: 0.0077 - val_accuracy: 0.9980\n",
      ".Epoch 21/10000\n",
      "80/80 - 1s - loss: 0.0081 - binary_crossentropy: 0.0081 - accuracy: 0.9976 - val_loss: 0.0040 - val_binary_crossentropy: 0.0040 - val_accuracy: 0.9987\n",
      ".Epoch 22/10000\n",
      "80/80 - 1s - loss: 0.0054 - binary_crossentropy: 0.0054 - accuracy: 0.9983 - val_loss: 0.0033 - val_binary_crossentropy: 0.0033 - val_accuracy: 0.9987\n",
      ".Epoch 23/10000\n",
      "80/80 - 1s - loss: 0.0040 - binary_crossentropy: 0.0040 - accuracy: 0.9985 - val_loss: 0.0025 - val_binary_crossentropy: 0.0025 - val_accuracy: 0.9987\n",
      ".Epoch 24/10000\n",
      "80/80 - 1s - loss: 0.0037 - binary_crossentropy: 0.0037 - accuracy: 0.9987 - val_loss: 0.0023 - val_binary_crossentropy: 0.0023 - val_accuracy: 0.9987\n",
      ".Epoch 25/10000\n",
      "80/80 - 1s - loss: 0.0032 - binary_crossentropy: 0.0032 - accuracy: 0.9989 - val_loss: 0.0019 - val_binary_crossentropy: 0.0019 - val_accuracy: 0.9987\n",
      ".Epoch 26/10000\n",
      "80/80 - 1s - loss: 0.0033 - binary_crossentropy: 0.0033 - accuracy: 0.9986 - val_loss: 0.0016 - val_binary_crossentropy: 0.0016 - val_accuracy: 0.9987\n",
      ".Epoch 27/10000\n",
      "80/80 - 1s - loss: 0.0034 - binary_crossentropy: 0.0034 - accuracy: 0.9989 - val_loss: 0.0013 - val_binary_crossentropy: 0.0013 - val_accuracy: 0.9987\n",
      ".Epoch 28/10000\n",
      "80/80 - 1s - loss: 0.0027 - binary_crossentropy: 0.0027 - accuracy: 0.9988 - val_loss: 0.0011 - val_binary_crossentropy: 0.0011 - val_accuracy: 0.9990\n",
      ".Epoch 29/10000\n",
      "80/80 - 1s - loss: 0.0027 - binary_crossentropy: 0.0027 - accuracy: 0.9986 - val_loss: 0.0011 - val_binary_crossentropy: 0.0011 - val_accuracy: 0.9990\n",
      ".Epoch 30/10000\n",
      "80/80 - 1s - loss: 0.0026 - binary_crossentropy: 0.0026 - accuracy: 0.9990 - val_loss: 0.0010 - val_binary_crossentropy: 0.0010 - val_accuracy: 0.9997\n",
      ".Epoch 31/10000\n",
      "80/80 - 1s - loss: 0.0026 - binary_crossentropy: 0.0026 - accuracy: 0.9991 - val_loss: 0.0010 - val_binary_crossentropy: 0.0010 - val_accuracy: 0.9997\n",
      ".Epoch 32/10000\n",
      "80/80 - 1s - loss: 0.0024 - binary_crossentropy: 0.0024 - accuracy: 0.9990 - val_loss: 0.0010 - val_binary_crossentropy: 0.0010 - val_accuracy: 0.9997\n",
      ".Epoch 33/10000\n",
      "80/80 - 1s - loss: 0.0022 - binary_crossentropy: 0.0022 - accuracy: 0.9989 - val_loss: 9.8725e-04 - val_binary_crossentropy: 9.8725e-04 - val_accuracy: 0.9997\n",
      ".Epoch 34/10000\n",
      "80/80 - 1s - loss: 0.0023 - binary_crossentropy: 0.0023 - accuracy: 0.9990 - val_loss: 9.6234e-04 - val_binary_crossentropy: 9.6234e-04 - val_accuracy: 0.9997\n",
      ".Epoch 35/10000\n",
      "80/80 - 1s - loss: 0.0023 - binary_crossentropy: 0.0023 - accuracy: 0.9988 - val_loss: 9.4602e-04 - val_binary_crossentropy: 9.4602e-04 - val_accuracy: 0.9997\n",
      ".Epoch 36/10000\n",
      "80/80 - 1s - loss: 0.0021 - binary_crossentropy: 0.0021 - accuracy: 0.9990 - val_loss: 9.3326e-04 - val_binary_crossentropy: 9.3326e-04 - val_accuracy: 0.9997\n",
      ".Epoch 37/10000\n",
      "80/80 - 1s - loss: 0.0022 - binary_crossentropy: 0.0022 - accuracy: 0.9990 - val_loss: 0.0010 - val_binary_crossentropy: 0.0010 - val_accuracy: 0.9993\n",
      ".Epoch 38/10000\n",
      "80/80 - 1s - loss: 0.0024 - binary_crossentropy: 0.0024 - accuracy: 0.9988 - val_loss: 9.4180e-04 - val_binary_crossentropy: 9.4180e-04 - val_accuracy: 0.9997\n",
      ".Epoch 39/10000\n",
      "80/80 - 1s - loss: 0.0024 - binary_crossentropy: 0.0024 - accuracy: 0.9990 - val_loss: 9.4111e-04 - val_binary_crossentropy: 9.4111e-04 - val_accuracy: 0.9997\n",
      ".Epoch 40/10000\n",
      "80/80 - 1s - loss: 0.0038 - binary_crossentropy: 0.0038 - accuracy: 0.9983 - val_loss: 0.0053 - val_binary_crossentropy: 0.0053 - val_accuracy: 0.9983\n",
      ".Epoch 41/10000\n",
      "80/80 - 1s - loss: 0.0774 - binary_crossentropy: 0.0774 - accuracy: 0.9822 - val_loss: 0.0750 - val_binary_crossentropy: 0.0750 - val_accuracy: 0.9767\n",
      ".Epoch 42/10000\n",
      "80/80 - 1s - loss: 0.0820 - binary_crossentropy: 0.0820 - accuracy: 0.9725 - val_loss: 0.0210 - val_binary_crossentropy: 0.0210 - val_accuracy: 0.9960\n",
      ".Epoch 43/10000\n",
      "80/80 - 1s - loss: 0.0202 - binary_crossentropy: 0.0202 - accuracy: 0.9950 - val_loss: 0.0047 - val_binary_crossentropy: 0.0047 - val_accuracy: 0.9987\n",
      ".Epoch 44/10000\n",
      "80/80 - 1s - loss: 0.0071 - binary_crossentropy: 0.0071 - accuracy: 0.9980 - val_loss: 0.0024 - val_binary_crossentropy: 0.0024 - val_accuracy: 0.9997\n",
      ".Epoch 45/10000\n",
      "80/80 - 1s - loss: 0.0042 - binary_crossentropy: 0.0042 - accuracy: 0.9988 - val_loss: 0.0018 - val_binary_crossentropy: 0.0018 - val_accuracy: 0.9993\n",
      ".Epoch 46/10000\n",
      "80/80 - 1s - loss: 0.0034 - binary_crossentropy: 0.0034 - accuracy: 0.9989 - val_loss: 0.0014 - val_binary_crossentropy: 0.0014 - val_accuracy: 0.9997\n",
      ".Epoch 47/10000\n",
      "80/80 - 1s - loss: 0.0028 - binary_crossentropy: 0.0028 - accuracy: 0.9994 - val_loss: 0.0012 - val_binary_crossentropy: 0.0012 - val_accuracy: 0.9997\n",
      ".Epoch 48/10000\n",
      "80/80 - 1s - loss: 0.0027 - binary_crossentropy: 0.0027 - accuracy: 0.9993 - val_loss: 0.0011 - val_binary_crossentropy: 0.0011 - val_accuracy: 0.9997\n",
      ".Epoch 49/10000\n",
      "80/80 - 1s - loss: 0.0023 - binary_crossentropy: 0.0023 - accuracy: 0.9991 - val_loss: 0.0010 - val_binary_crossentropy: 0.0010 - val_accuracy: 0.9997\n",
      ".Epoch 50/10000\n",
      "80/80 - 1s - loss: 0.0023 - binary_crossentropy: 0.0023 - accuracy: 0.9991 - val_loss: 9.9999e-04 - val_binary_crossentropy: 9.9999e-04 - val_accuracy: 0.9997\n",
      ".Epoch 51/10000\n",
      "80/80 - 1s - loss: 0.0021 - binary_crossentropy: 0.0021 - accuracy: 0.9991 - val_loss: 9.5581e-04 - val_binary_crossentropy: 9.5581e-04 - val_accuracy: 0.9997\n",
      ".Epoch 52/10000\n",
      "80/80 - 1s - loss: 0.0021 - binary_crossentropy: 0.0021 - accuracy: 0.9992 - val_loss: 9.2987e-04 - val_binary_crossentropy: 9.2987e-04 - val_accuracy: 0.9997\n",
      ".Epoch 53/10000\n",
      "80/80 - 1s - loss: 0.0021 - binary_crossentropy: 0.0021 - accuracy: 0.9992 - val_loss: 9.1019e-04 - val_binary_crossentropy: 9.1019e-04 - val_accuracy: 0.9997\n",
      ".Epoch 54/10000\n",
      "80/80 - 1s - loss: 0.0019 - binary_crossentropy: 0.0019 - accuracy: 0.9993 - val_loss: 9.0930e-04 - val_binary_crossentropy: 9.0930e-04 - val_accuracy: 0.9997\n",
      ".Epoch 55/10000\n",
      "80/80 - 1s - loss: 0.0019 - binary_crossentropy: 0.0019 - accuracy: 0.9992 - val_loss: 8.8813e-04 - val_binary_crossentropy: 8.8813e-04 - val_accuracy: 0.9997\n",
      ".Epoch 56/10000\n",
      "80/80 - 1s - loss: 0.0019 - binary_crossentropy: 0.0019 - accuracy: 0.9993 - val_loss: 8.7875e-04 - val_binary_crossentropy: 8.7875e-04 - val_accuracy: 0.9997\n",
      ".Epoch 57/10000\n",
      "80/80 - 1s - loss: 0.0018 - binary_crossentropy: 0.0018 - accuracy: 0.9993 - val_loss: 8.7262e-04 - val_binary_crossentropy: 8.7262e-04 - val_accuracy: 0.9997\n",
      ".Epoch 58/10000\n",
      "80/80 - 1s - loss: 0.0017 - binary_crossentropy: 0.0017 - accuracy: 0.9992 - val_loss: 8.5045e-04 - val_binary_crossentropy: 8.5045e-04 - val_accuracy: 0.9997\n",
      ".Epoch 59/10000\n",
      "80/80 - 1s - loss: 0.0019 - binary_crossentropy: 0.0019 - accuracy: 0.9992 - val_loss: 8.5391e-04 - val_binary_crossentropy: 8.5391e-04 - val_accuracy: 0.9997\n",
      ".Epoch 60/10000\n",
      "80/80 - 1s - loss: 0.0019 - binary_crossentropy: 0.0019 - accuracy: 0.9992 - val_loss: 8.4177e-04 - val_binary_crossentropy: 8.4177e-04 - val_accuracy: 0.9997\n",
      ".Epoch 61/10000\n",
      "80/80 - 1s - loss: 0.0017 - binary_crossentropy: 0.0017 - accuracy: 0.9994 - val_loss: 8.4010e-04 - val_binary_crossentropy: 8.4010e-04 - val_accuracy: 0.9997\n",
      ".Epoch 62/10000\n",
      "80/80 - 1s - loss: 0.0018 - binary_crossentropy: 0.0018 - accuracy: 0.9994 - val_loss: 8.4048e-04 - val_binary_crossentropy: 8.4048e-04 - val_accuracy: 0.9997\n",
      ".Epoch 63/10000\n",
      "80/80 - 1s - loss: 0.0018 - binary_crossentropy: 0.0018 - accuracy: 0.9992 - val_loss: 8.3991e-04 - val_binary_crossentropy: 8.3991e-04 - val_accuracy: 0.9997\n",
      ".Epoch 64/10000\n",
      "80/80 - 1s - loss: 0.0018 - binary_crossentropy: 0.0018 - accuracy: 0.9992 - val_loss: 8.3615e-04 - val_binary_crossentropy: 8.3615e-04 - val_accuracy: 0.9997\n",
      ".Epoch 65/10000\n",
      "80/80 - 1s - loss: 0.0017 - binary_crossentropy: 0.0017 - accuracy: 0.9992 - val_loss: 8.3211e-04 - val_binary_crossentropy: 8.3211e-04 - val_accuracy: 0.9997\n",
      ".Epoch 66/10000\n",
      "80/80 - 1s - loss: 0.0017 - binary_crossentropy: 0.0017 - accuracy: 0.9993 - val_loss: 8.2645e-04 - val_binary_crossentropy: 8.2645e-04 - val_accuracy: 0.9997\n",
      ".Epoch 67/10000\n",
      "80/80 - 1s - loss: 0.0016 - binary_crossentropy: 0.0016 - accuracy: 0.9994 - val_loss: 8.2964e-04 - val_binary_crossentropy: 8.2964e-04 - val_accuracy: 0.9997\n",
      ".Epoch 68/10000\n",
      "80/80 - 1s - loss: 0.0017 - binary_crossentropy: 0.0017 - accuracy: 0.9992 - val_loss: 8.2964e-04 - val_binary_crossentropy: 8.2964e-04 - val_accuracy: 0.9997\n",
      ".Epoch 69/10000\n",
      "80/80 - 1s - loss: 0.0017 - binary_crossentropy: 0.0017 - accuracy: 0.9993 - val_loss: 8.2829e-04 - val_binary_crossentropy: 8.2829e-04 - val_accuracy: 0.9997\n",
      ".Epoch 70/10000\n",
      "80/80 - 1s - loss: 0.0017 - binary_crossentropy: 0.0017 - accuracy: 0.9992 - val_loss: 8.2256e-04 - val_binary_crossentropy: 8.2256e-04 - val_accuracy: 0.9997\n",
      ".Epoch 71/10000\n",
      "80/80 - 1s - loss: 0.0015 - binary_crossentropy: 0.0015 - accuracy: 0.9993 - val_loss: 8.1671e-04 - val_binary_crossentropy: 8.1671e-04 - val_accuracy: 0.9997\n",
      ".Epoch 72/10000\n",
      "80/80 - 1s - loss: 0.0017 - binary_crossentropy: 0.0017 - accuracy: 0.9991 - val_loss: 8.2083e-04 - val_binary_crossentropy: 8.2083e-04 - val_accuracy: 0.9997\n",
      ".Epoch 73/10000\n",
      "80/80 - 1s - loss: 0.0016 - binary_crossentropy: 0.0016 - accuracy: 0.9993 - val_loss: 8.2094e-04 - val_binary_crossentropy: 8.2094e-04 - val_accuracy: 0.9997\n",
      ".Epoch 74/10000\n",
      "80/80 - 1s - loss: 0.0016 - binary_crossentropy: 0.0016 - accuracy: 0.9993 - val_loss: 8.3272e-04 - val_binary_crossentropy: 8.3272e-04 - val_accuracy: 0.9997\n",
      ".Epoch 75/10000\n",
      "80/80 - 1s - loss: 0.0016 - binary_crossentropy: 0.0016 - accuracy: 0.9992 - val_loss: 8.1308e-04 - val_binary_crossentropy: 8.1308e-04 - val_accuracy: 0.9997\n",
      ".Epoch 76/10000\n",
      "80/80 - 1s - loss: 0.0015 - binary_crossentropy: 0.0015 - accuracy: 0.9995 - val_loss: 8.1329e-04 - val_binary_crossentropy: 8.1329e-04 - val_accuracy: 0.9997\n",
      ".Epoch 77/10000\n",
      "80/80 - 1s - loss: 0.0016 - binary_crossentropy: 0.0016 - accuracy: 0.9992 - val_loss: 8.1205e-04 - val_binary_crossentropy: 8.1205e-04 - val_accuracy: 0.9997\n",
      ".Epoch 78/10000\n",
      "80/80 - 1s - loss: 0.0015 - binary_crossentropy: 0.0015 - accuracy: 0.9994 - val_loss: 8.1415e-04 - val_binary_crossentropy: 8.1415e-04 - val_accuracy: 0.9997\n",
      ".Epoch 79/10000\n",
      "80/80 - 1s - loss: 0.0017 - binary_crossentropy: 0.0017 - accuracy: 0.9993 - val_loss: 8.1947e-04 - val_binary_crossentropy: 8.1947e-04 - val_accuracy: 0.9997\n",
      ".Epoch 80/10000\n",
      "80/80 - 1s - loss: 0.0043 - binary_crossentropy: 0.0043 - accuracy: 0.9985 - val_loss: 0.0236 - val_binary_crossentropy: 0.0236 - val_accuracy: 0.9927\n",
      ".Epoch 81/10000\n",
      "80/80 - 1s - loss: 0.0937 - binary_crossentropy: 0.0937 - accuracy: 0.9755 - val_loss: 0.0566 - val_binary_crossentropy: 0.0566 - val_accuracy: 0.9820\n",
      ".Epoch 82/10000\n",
      "80/80 - 1s - loss: 0.0564 - binary_crossentropy: 0.0564 - accuracy: 0.9802 - val_loss: 0.0128 - val_binary_crossentropy: 0.0128 - val_accuracy: 0.9987\n",
      ".Epoch 83/10000\n",
      "80/80 - 1s - loss: 0.0132 - binary_crossentropy: 0.0132 - accuracy: 0.9969 - val_loss: 0.0029 - val_binary_crossentropy: 0.0029 - val_accuracy: 0.9997\n",
      ".Epoch 84/10000\n",
      "80/80 - 1s - loss: 0.0047 - binary_crossentropy: 0.0047 - accuracy: 0.9991 - val_loss: 0.0016 - val_binary_crossentropy: 0.0016 - val_accuracy: 0.9997\n",
      ".Epoch 85/10000\n",
      "80/80 - 1s - loss: 0.0028 - binary_crossentropy: 0.0028 - accuracy: 0.9994 - val_loss: 0.0013 - val_binary_crossentropy: 0.0013 - val_accuracy: 0.9997\n",
      ".Epoch 86/10000\n",
      "80/80 - 1s - loss: 0.0024 - binary_crossentropy: 0.0024 - accuracy: 0.9994 - val_loss: 0.0012 - val_binary_crossentropy: 0.0012 - val_accuracy: 0.9997\n",
      ".Epoch 87/10000\n",
      "80/80 - 1s - loss: 0.0020 - binary_crossentropy: 0.0020 - accuracy: 0.9995 - val_loss: 0.0011 - val_binary_crossentropy: 0.0011 - val_accuracy: 0.9997\n",
      ".Epoch 88/10000\n",
      "80/80 - 1s - loss: 0.0019 - binary_crossentropy: 0.0019 - accuracy: 0.9994 - val_loss: 0.0010 - val_binary_crossentropy: 0.0010 - val_accuracy: 0.9997\n",
      ".Epoch 89/10000\n",
      "80/80 - 1s - loss: 0.0019 - binary_crossentropy: 0.0019 - accuracy: 0.9994 - val_loss: 0.0010 - val_binary_crossentropy: 0.0010 - val_accuracy: 0.9997\n",
      ".Epoch 90/10000\n",
      "80/80 - 1s - loss: 0.0019 - binary_crossentropy: 0.0019 - accuracy: 0.9993 - val_loss: 9.6152e-04 - val_binary_crossentropy: 9.6152e-04 - val_accuracy: 0.9997\n",
      ".Epoch 91/10000\n",
      "80/80 - 1s - loss: 0.0017 - binary_crossentropy: 0.0017 - accuracy: 0.9995 - val_loss: 8.5816e-04 - val_binary_crossentropy: 8.5816e-04 - val_accuracy: 0.9997\n",
      ".Epoch 92/10000\n",
      "80/80 - 1s - loss: 0.0017 - binary_crossentropy: 0.0017 - accuracy: 0.9995 - val_loss: 8.4702e-04 - val_binary_crossentropy: 8.4702e-04 - val_accuracy: 0.9997\n",
      ".Epoch 93/10000\n",
      "80/80 - 1s - loss: 0.0017 - binary_crossentropy: 0.0017 - accuracy: 0.9994 - val_loss: 8.3485e-04 - val_binary_crossentropy: 8.3485e-04 - val_accuracy: 0.9997\n",
      ".Epoch 94/10000\n",
      "80/80 - 1s - loss: 0.0017 - binary_crossentropy: 0.0017 - accuracy: 0.9993 - val_loss: 8.2670e-04 - val_binary_crossentropy: 8.2670e-04 - val_accuracy: 0.9997\n",
      ".Epoch 95/10000\n",
      "80/80 - 1s - loss: 0.0015 - binary_crossentropy: 0.0015 - accuracy: 0.9995 - val_loss: 8.2064e-04 - val_binary_crossentropy: 8.2064e-04 - val_accuracy: 0.9997\n",
      ".Epoch 96/10000\n",
      "80/80 - 1s - loss: 0.0015 - binary_crossentropy: 0.0015 - accuracy: 0.9994 - val_loss: 8.1748e-04 - val_binary_crossentropy: 8.1748e-04 - val_accuracy: 0.9997\n",
      ".Epoch 97/10000\n",
      "80/80 - 1s - loss: 0.0015 - binary_crossentropy: 0.0015 - accuracy: 0.9994 - val_loss: 8.1676e-04 - val_binary_crossentropy: 8.1676e-04 - val_accuracy: 0.9997\n",
      ".Epoch 98/10000\n",
      "80/80 - 1s - loss: 0.0015 - binary_crossentropy: 0.0015 - accuracy: 0.9994 - val_loss: 8.1130e-04 - val_binary_crossentropy: 8.1130e-04 - val_accuracy: 0.9997\n",
      ".Epoch 99/10000\n",
      "80/80 - 1s - loss: 0.0014 - binary_crossentropy: 0.0014 - accuracy: 0.9995 - val_loss: 8.0859e-04 - val_binary_crossentropy: 8.0859e-04 - val_accuracy: 0.9997\n",
      ".Epoch 100/10000\n",
      "80/80 - 1s - loss: 0.0014 - binary_crossentropy: 0.0014 - accuracy: 0.9994 - val_loss: 8.0984e-04 - val_binary_crossentropy: 8.0984e-04 - val_accuracy: 0.9997\n",
      ".Epoch 101/10000\n",
      "80/80 - 1s - loss: 0.0013 - binary_crossentropy: 0.0013 - accuracy: 0.9995 - val_loss: 8.0205e-04 - val_binary_crossentropy: 8.0205e-04 - val_accuracy: 0.9997\n",
      "\n",
      "Epoch: 100, accuracy:0.9995,  binary_crossentropy:0.0013,  loss:0.0013,  val_accuracy:0.9997,  val_binary_crossentropy:0.0008,  val_loss:0.0008,  \n",
      ".Epoch 102/10000\n",
      "80/80 - 1s - loss: 0.0014 - binary_crossentropy: 0.0014 - accuracy: 0.9993 - val_loss: 8.0594e-04 - val_binary_crossentropy: 8.0594e-04 - val_accuracy: 0.9997\n",
      ".Epoch 103/10000\n",
      "80/80 - 1s - loss: 0.0013 - binary_crossentropy: 0.0013 - accuracy: 0.9994 - val_loss: 8.0498e-04 - val_binary_crossentropy: 8.0498e-04 - val_accuracy: 0.9997\n",
      ".Epoch 104/10000\n",
      "80/80 - 1s - loss: 0.0013 - binary_crossentropy: 0.0013 - accuracy: 0.9995 - val_loss: 8.0104e-04 - val_binary_crossentropy: 8.0104e-04 - val_accuracy: 0.9997\n",
      ".Epoch 105/10000\n",
      "80/80 - 1s - loss: 0.0013 - binary_crossentropy: 0.0013 - accuracy: 0.9995 - val_loss: 7.9945e-04 - val_binary_crossentropy: 7.9945e-04 - val_accuracy: 0.9997\n",
      ".Epoch 106/10000\n",
      "80/80 - 1s - loss: 0.0014 - binary_crossentropy: 0.0014 - accuracy: 0.9993 - val_loss: 7.9891e-04 - val_binary_crossentropy: 7.9891e-04 - val_accuracy: 0.9997\n",
      ".Epoch 107/10000\n",
      "80/80 - 1s - loss: 0.0013 - binary_crossentropy: 0.0013 - accuracy: 0.9994 - val_loss: 8.0074e-04 - val_binary_crossentropy: 8.0074e-04 - val_accuracy: 0.9997\n",
      ".Epoch 108/10000\n",
      "80/80 - 1s - loss: 0.0013 - binary_crossentropy: 0.0013 - accuracy: 0.9994 - val_loss: 7.9972e-04 - val_binary_crossentropy: 7.9972e-04 - val_accuracy: 0.9997\n",
      ".Epoch 109/10000\n",
      "80/80 - 1s - loss: 0.0014 - binary_crossentropy: 0.0014 - accuracy: 0.9994 - val_loss: 7.9258e-04 - val_binary_crossentropy: 7.9258e-04 - val_accuracy: 0.9997\n",
      ".Epoch 110/10000\n",
      "80/80 - 1s - loss: 0.0014 - binary_crossentropy: 0.0014 - accuracy: 0.9994 - val_loss: 7.8887e-04 - val_binary_crossentropy: 7.8887e-04 - val_accuracy: 0.9997\n",
      ".Epoch 111/10000\n",
      "80/80 - 1s - loss: 0.0013 - binary_crossentropy: 0.0013 - accuracy: 0.9994 - val_loss: 7.9421e-04 - val_binary_crossentropy: 7.9421e-04 - val_accuracy: 0.9997\n",
      ".Epoch 112/10000\n",
      "80/80 - 1s - loss: 0.0014 - binary_crossentropy: 0.0014 - accuracy: 0.9994 - val_loss: 7.9338e-04 - val_binary_crossentropy: 7.9338e-04 - val_accuracy: 0.9997\n",
      ".Epoch 113/10000\n",
      "80/80 - 1s - loss: 0.0014 - binary_crossentropy: 0.0014 - accuracy: 0.9995 - val_loss: 7.9759e-04 - val_binary_crossentropy: 7.9759e-04 - val_accuracy: 0.9997\n",
      ".Epoch 114/10000\n",
      "80/80 - 1s - loss: 0.0013 - binary_crossentropy: 0.0013 - accuracy: 0.9994 - val_loss: 7.9933e-04 - val_binary_crossentropy: 7.9933e-04 - val_accuracy: 0.9997\n",
      ".Epoch 115/10000\n",
      "80/80 - 1s - loss: 0.0014 - binary_crossentropy: 0.0014 - accuracy: 0.9993 - val_loss: 7.9755e-04 - val_binary_crossentropy: 7.9755e-04 - val_accuracy: 0.9997\n",
      ".Epoch 116/10000\n",
      "80/80 - 1s - loss: 0.0013 - binary_crossentropy: 0.0013 - accuracy: 0.9994 - val_loss: 7.9514e-04 - val_binary_crossentropy: 7.9514e-04 - val_accuracy: 0.9997\n",
      ".Epoch 117/10000\n",
      "80/80 - 1s - loss: 0.0013 - binary_crossentropy: 0.0013 - accuracy: 0.9994 - val_loss: 7.9767e-04 - val_binary_crossentropy: 7.9767e-04 - val_accuracy: 0.9997\n",
      ".Epoch 118/10000\n",
      "80/80 - 1s - loss: 0.0012 - binary_crossentropy: 0.0012 - accuracy: 0.9994 - val_loss: 7.8910e-04 - val_binary_crossentropy: 7.8910e-04 - val_accuracy: 0.9997\n",
      ".Epoch 119/10000\n",
      "80/80 - 1s - loss: 0.0013 - binary_crossentropy: 0.0013 - accuracy: 0.9995 - val_loss: 7.8657e-04 - val_binary_crossentropy: 7.8657e-04 - val_accuracy: 0.9997\n",
      ".Epoch 120/10000\n",
      "80/80 - 1s - loss: 0.0013 - binary_crossentropy: 0.0013 - accuracy: 0.9994 - val_loss: 7.8811e-04 - val_binary_crossentropy: 7.8811e-04 - val_accuracy: 0.9997\n",
      ".Epoch 121/10000\n",
      "80/80 - 1s - loss: 0.0013 - binary_crossentropy: 0.0013 - accuracy: 0.9994 - val_loss: 7.8979e-04 - val_binary_crossentropy: 7.8979e-04 - val_accuracy: 0.9997\n",
      ".Epoch 122/10000\n",
      "80/80 - 1s - loss: 0.0014 - binary_crossentropy: 0.0014 - accuracy: 0.9994 - val_loss: 7.9576e-04 - val_binary_crossentropy: 7.9576e-04 - val_accuracy: 0.9997\n",
      ".Epoch 123/10000\n",
      "80/80 - 1s - loss: 0.0012 - binary_crossentropy: 0.0012 - accuracy: 0.9994 - val_loss: 7.9044e-04 - val_binary_crossentropy: 7.9044e-04 - val_accuracy: 0.9997\n",
      ".Epoch 124/10000\n",
      "80/80 - 1s - loss: 0.0013 - binary_crossentropy: 0.0013 - accuracy: 0.9994 - val_loss: 7.9310e-04 - val_binary_crossentropy: 7.9310e-04 - val_accuracy: 0.9997\n",
      ".Epoch 125/10000\n",
      "80/80 - 1s - loss: 0.0013 - binary_crossentropy: 0.0013 - accuracy: 0.9994 - val_loss: 7.9460e-04 - val_binary_crossentropy: 7.9460e-04 - val_accuracy: 0.9997\n",
      ".Epoch 126/10000\n",
      "80/80 - 1s - loss: 0.0012 - binary_crossentropy: 0.0012 - accuracy: 0.9993 - val_loss: 7.9557e-04 - val_binary_crossentropy: 7.9557e-04 - val_accuracy: 0.9997\n",
      ".Epoch 127/10000\n",
      "80/80 - 1s - loss: 0.0013 - binary_crossentropy: 0.0013 - accuracy: 0.9994 - val_loss: 7.9328e-04 - val_binary_crossentropy: 7.9328e-04 - val_accuracy: 0.9997\n",
      ".Epoch 128/10000\n",
      "80/80 - 1s - loss: 0.0013 - binary_crossentropy: 0.0013 - accuracy: 0.9994 - val_loss: 7.9232e-04 - val_binary_crossentropy: 7.9232e-04 - val_accuracy: 0.9997\n",
      ".Epoch 129/10000\n",
      "80/80 - 1s - loss: 0.0013 - binary_crossentropy: 0.0013 - accuracy: 0.9994 - val_loss: 7.8610e-04 - val_binary_crossentropy: 7.8610e-04 - val_accuracy: 0.9997\n",
      ".Epoch 130/10000\n",
      "80/80 - 1s - loss: 0.0012 - binary_crossentropy: 0.0012 - accuracy: 0.9995 - val_loss: 7.9511e-04 - val_binary_crossentropy: 7.9511e-04 - val_accuracy: 0.9997\n",
      ".Epoch 131/10000\n",
      "80/80 - 1s - loss: 0.0043 - binary_crossentropy: 0.0043 - accuracy: 0.9984 - val_loss: 0.0049 - val_binary_crossentropy: 0.0049 - val_accuracy: 0.9980\n",
      ".Epoch 132/10000\n",
      "80/80 - 1s - loss: 0.0629 - binary_crossentropy: 0.0629 - accuracy: 0.9831 - val_loss: 0.0396 - val_binary_crossentropy: 0.0396 - val_accuracy: 0.9863\n",
      ".Epoch 133/10000\n",
      "80/80 - 1s - loss: 0.0420 - binary_crossentropy: 0.0420 - accuracy: 0.9847 - val_loss: 0.0085 - val_binary_crossentropy: 0.0085 - val_accuracy: 0.9977\n",
      ".Epoch 134/10000\n",
      "80/80 - 1s - loss: 0.0109 - binary_crossentropy: 0.0109 - accuracy: 0.9977 - val_loss: 0.0025 - val_binary_crossentropy: 0.0025 - val_accuracy: 0.9997\n",
      ".Epoch 135/10000\n",
      "80/80 - 1s - loss: 0.0039 - binary_crossentropy: 0.0039 - accuracy: 0.9990 - val_loss: 0.0014 - val_binary_crossentropy: 0.0014 - val_accuracy: 0.9997\n",
      ".Epoch 136/10000\n",
      "80/80 - 1s - loss: 0.0027 - binary_crossentropy: 0.0027 - accuracy: 0.9993 - val_loss: 0.0012 - val_binary_crossentropy: 0.0012 - val_accuracy: 0.9997\n",
      ".Epoch 137/10000\n",
      "80/80 - 1s - loss: 0.0021 - binary_crossentropy: 0.0021 - accuracy: 0.9993 - val_loss: 9.9773e-04 - val_binary_crossentropy: 9.9773e-04 - val_accuracy: 0.9997\n",
      ".Epoch 138/10000\n",
      "80/80 - 1s - loss: 0.0018 - binary_crossentropy: 0.0018 - accuracy: 0.9993 - val_loss: 9.2459e-04 - val_binary_crossentropy: 9.2459e-04 - val_accuracy: 0.9997\n",
      ".Epoch 139/10000\n",
      "80/80 - 1s - loss: 0.0017 - binary_crossentropy: 0.0017 - accuracy: 0.9994 - val_loss: 8.7243e-04 - val_binary_crossentropy: 8.7243e-04 - val_accuracy: 0.9997\n",
      ".Epoch 140/10000\n",
      "80/80 - 1s - loss: 0.0016 - binary_crossentropy: 0.0016 - accuracy: 0.9994 - val_loss: 8.5562e-04 - val_binary_crossentropy: 8.5562e-04 - val_accuracy: 0.9997\n",
      ".Epoch 141/10000\n",
      "80/80 - 1s - loss: 0.0015 - binary_crossentropy: 0.0015 - accuracy: 0.9995 - val_loss: 8.4258e-04 - val_binary_crossentropy: 8.4258e-04 - val_accuracy: 0.9997\n",
      ".Epoch 142/10000\n",
      "80/80 - 1s - loss: 0.0015 - binary_crossentropy: 0.0015 - accuracy: 0.9994 - val_loss: 8.3499e-04 - val_binary_crossentropy: 8.3499e-04 - val_accuracy: 0.9997\n",
      ".Epoch 143/10000\n",
      "80/80 - 1s - loss: 0.0014 - binary_crossentropy: 0.0014 - accuracy: 0.9994 - val_loss: 8.2246e-04 - val_binary_crossentropy: 8.2246e-04 - val_accuracy: 0.9997\n",
      ".Epoch 144/10000\n",
      "80/80 - 1s - loss: 0.0015 - binary_crossentropy: 0.0015 - accuracy: 0.9994 - val_loss: 8.5390e-04 - val_binary_crossentropy: 8.5390e-04 - val_accuracy: 0.9997\n",
      ".Epoch 145/10000\n",
      "80/80 - 1s - loss: 0.0014 - binary_crossentropy: 0.0014 - accuracy: 0.9993 - val_loss: 8.2573e-04 - val_binary_crossentropy: 8.2573e-04 - val_accuracy: 0.9997\n",
      ".Epoch 146/10000\n",
      "80/80 - 1s - loss: 0.0014 - binary_crossentropy: 0.0014 - accuracy: 0.9994 - val_loss: 8.1285e-04 - val_binary_crossentropy: 8.1285e-04 - val_accuracy: 0.9997\n",
      ".Epoch 147/10000\n",
      "80/80 - 1s - loss: 0.0014 - binary_crossentropy: 0.0014 - accuracy: 0.9993 - val_loss: 8.0879e-04 - val_binary_crossentropy: 8.0879e-04 - val_accuracy: 0.9997\n",
      ".Epoch 148/10000\n",
      "80/80 - 1s - loss: 0.0013 - binary_crossentropy: 0.0013 - accuracy: 0.9994 - val_loss: 8.5192e-04 - val_binary_crossentropy: 8.5192e-04 - val_accuracy: 0.9997\n",
      ".Epoch 149/10000\n",
      "80/80 - 1s - loss: 0.0014 - binary_crossentropy: 0.0014 - accuracy: 0.9994 - val_loss: 8.0311e-04 - val_binary_crossentropy: 8.0311e-04 - val_accuracy: 0.9997\n",
      ".Epoch 150/10000\n",
      "80/80 - 1s - loss: 0.0013 - binary_crossentropy: 0.0013 - accuracy: 0.9995 - val_loss: 8.1150e-04 - val_binary_crossentropy: 8.1150e-04 - val_accuracy: 0.9997\n",
      ".Epoch 151/10000\n",
      "80/80 - 1s - loss: 0.0013 - binary_crossentropy: 0.0013 - accuracy: 0.9994 - val_loss: 8.0835e-04 - val_binary_crossentropy: 8.0835e-04 - val_accuracy: 0.9997\n",
      ".Epoch 152/10000\n",
      "80/80 - 1s - loss: 0.0012 - binary_crossentropy: 0.0012 - accuracy: 0.9995 - val_loss: 8.0371e-04 - val_binary_crossentropy: 8.0371e-04 - val_accuracy: 0.9997\n",
      ".Epoch 153/10000\n",
      "80/80 - 1s - loss: 0.0013 - binary_crossentropy: 0.0013 - accuracy: 0.9995 - val_loss: 8.0351e-04 - val_binary_crossentropy: 8.0351e-04 - val_accuracy: 0.9997\n",
      ".Epoch 154/10000\n",
      "80/80 - 1s - loss: 0.0012 - binary_crossentropy: 0.0012 - accuracy: 0.9994 - val_loss: 8.0407e-04 - val_binary_crossentropy: 8.0407e-04 - val_accuracy: 0.9997\n",
      ".Epoch 155/10000\n",
      "80/80 - 1s - loss: 0.0013 - binary_crossentropy: 0.0013 - accuracy: 0.9993 - val_loss: 8.0744e-04 - val_binary_crossentropy: 8.0744e-04 - val_accuracy: 0.9997\n",
      ".Epoch 156/10000\n",
      "80/80 - 1s - loss: 0.0012 - binary_crossentropy: 0.0012 - accuracy: 0.9994 - val_loss: 8.0992e-04 - val_binary_crossentropy: 8.0992e-04 - val_accuracy: 0.9997\n",
      ".Epoch 157/10000\n",
      "80/80 - 1s - loss: 0.0012 - binary_crossentropy: 0.0012 - accuracy: 0.9993 - val_loss: 8.0697e-04 - val_binary_crossentropy: 8.0697e-04 - val_accuracy: 0.9997\n",
      ".Epoch 158/10000\n",
      "80/80 - 1s - loss: 0.0013 - binary_crossentropy: 0.0013 - accuracy: 0.9994 - val_loss: 8.0968e-04 - val_binary_crossentropy: 8.0968e-04 - val_accuracy: 0.9997\n",
      ".Epoch 159/10000\n",
      "80/80 - 1s - loss: 0.0013 - binary_crossentropy: 0.0013 - accuracy: 0.9994 - val_loss: 8.0983e-04 - val_binary_crossentropy: 8.0983e-04 - val_accuracy: 0.9997\n",
      ".Epoch 160/10000\n",
      "80/80 - 1s - loss: 0.0013 - binary_crossentropy: 0.0013 - accuracy: 0.9993 - val_loss: 8.0565e-04 - val_binary_crossentropy: 8.0565e-04 - val_accuracy: 0.9997\n",
      ".Epoch 161/10000\n",
      "80/80 - 1s - loss: 0.0012 - binary_crossentropy: 0.0012 - accuracy: 0.9993 - val_loss: 8.0044e-04 - val_binary_crossentropy: 8.0044e-04 - val_accuracy: 0.9997\n",
      ".Epoch 162/10000\n",
      "80/80 - 1s - loss: 0.0012 - binary_crossentropy: 0.0012 - accuracy: 0.9994 - val_loss: 7.9756e-04 - val_binary_crossentropy: 7.9756e-04 - val_accuracy: 0.9997\n",
      ".Epoch 163/10000\n",
      "80/80 - 1s - loss: 0.0013 - binary_crossentropy: 0.0013 - accuracy: 0.9993 - val_loss: 7.9625e-04 - val_binary_crossentropy: 7.9625e-04 - val_accuracy: 0.9997\n",
      ".Epoch 164/10000\n",
      "80/80 - 1s - loss: 0.0012 - binary_crossentropy: 0.0012 - accuracy: 0.9993 - val_loss: 8.0162e-04 - val_binary_crossentropy: 8.0162e-04 - val_accuracy: 0.9997\n",
      ".Epoch 165/10000\n",
      "80/80 - 1s - loss: 0.0012 - binary_crossentropy: 0.0012 - accuracy: 0.9994 - val_loss: 8.0200e-04 - val_binary_crossentropy: 8.0200e-04 - val_accuracy: 0.9997\n",
      ".Epoch 166/10000\n",
      "80/80 - 1s - loss: 0.0013 - binary_crossentropy: 0.0013 - accuracy: 0.9994 - val_loss: 7.9978e-04 - val_binary_crossentropy: 7.9978e-04 - val_accuracy: 0.9997\n",
      ".Epoch 167/10000\n",
      "80/80 - 1s - loss: 0.0012 - binary_crossentropy: 0.0012 - accuracy: 0.9994 - val_loss: 7.9510e-04 - val_binary_crossentropy: 7.9510e-04 - val_accuracy: 0.9997\n",
      ".Epoch 168/10000\n",
      "80/80 - 1s - loss: 0.0012 - binary_crossentropy: 0.0012 - accuracy: 0.9993 - val_loss: 7.9743e-04 - val_binary_crossentropy: 7.9743e-04 - val_accuracy: 0.9997\n",
      ".Epoch 169/10000\n",
      "80/80 - 1s - loss: 0.0012 - binary_crossentropy: 0.0012 - accuracy: 0.9994 - val_loss: 7.9178e-04 - val_binary_crossentropy: 7.9178e-04 - val_accuracy: 0.9997\n",
      ".Epoch 170/10000\n",
      "80/80 - 1s - loss: 0.0012 - binary_crossentropy: 0.0012 - accuracy: 0.9995 - val_loss: 7.9629e-04 - val_binary_crossentropy: 7.9629e-04 - val_accuracy: 0.9997\n",
      ".Epoch 171/10000\n",
      "80/80 - 1s - loss: 0.0011 - binary_crossentropy: 0.0011 - accuracy: 0.9994 - val_loss: 7.9493e-04 - val_binary_crossentropy: 7.9493e-04 - val_accuracy: 0.9997\n",
      ".Epoch 172/10000\n",
      "80/80 - 1s - loss: 0.0012 - binary_crossentropy: 0.0012 - accuracy: 0.9994 - val_loss: 7.9173e-04 - val_binary_crossentropy: 7.9173e-04 - val_accuracy: 0.9997\n",
      ".Epoch 173/10000\n",
      "80/80 - 1s - loss: 0.0010 - binary_crossentropy: 0.0010 - accuracy: 0.9995 - val_loss: 7.9429e-04 - val_binary_crossentropy: 7.9429e-04 - val_accuracy: 0.9997\n",
      ".Epoch 174/10000\n",
      "80/80 - 1s - loss: 0.0012 - binary_crossentropy: 0.0012 - accuracy: 0.9995 - val_loss: 8.0017e-04 - val_binary_crossentropy: 8.0017e-04 - val_accuracy: 0.9997\n",
      ".Epoch 175/10000\n",
      "80/80 - 1s - loss: 0.0011 - binary_crossentropy: 0.0011 - accuracy: 0.9995 - val_loss: 8.0049e-04 - val_binary_crossentropy: 8.0049e-04 - val_accuracy: 0.9997\n",
      ".Epoch 176/10000\n",
      "80/80 - 1s - loss: 0.0012 - binary_crossentropy: 0.0012 - accuracy: 0.9993 - val_loss: 7.8802e-04 - val_binary_crossentropy: 7.8802e-04 - val_accuracy: 0.9997\n",
      ".Epoch 177/10000\n",
      "80/80 - 1s - loss: 0.0012 - binary_crossentropy: 0.0012 - accuracy: 0.9994 - val_loss: 7.8731e-04 - val_binary_crossentropy: 7.8731e-04 - val_accuracy: 0.9997\n",
      ".Epoch 178/10000\n",
      "80/80 - 1s - loss: 0.0011 - binary_crossentropy: 0.0011 - accuracy: 0.9995 - val_loss: 7.8642e-04 - val_binary_crossentropy: 7.8642e-04 - val_accuracy: 0.9997\n",
      ".Epoch 179/10000\n",
      "80/80 - 1s - loss: 0.0011 - binary_crossentropy: 0.0011 - accuracy: 0.9993 - val_loss: 7.8761e-04 - val_binary_crossentropy: 7.8761e-04 - val_accuracy: 0.9997\n",
      ".Epoch 180/10000\n",
      "80/80 - 1s - loss: 0.0012 - binary_crossentropy: 0.0012 - accuracy: 0.9994 - val_loss: 7.8528e-04 - val_binary_crossentropy: 7.8528e-04 - val_accuracy: 0.9997\n",
      ".Epoch 181/10000\n",
      "80/80 - 1s - loss: 0.0012 - binary_crossentropy: 0.0012 - accuracy: 0.9994 - val_loss: 7.9320e-04 - val_binary_crossentropy: 7.9320e-04 - val_accuracy: 0.9997\n",
      ".Epoch 182/10000\n",
      "80/80 - 1s - loss: 0.0013 - binary_crossentropy: 0.0013 - accuracy: 0.9992 - val_loss: 7.9376e-04 - val_binary_crossentropy: 7.9376e-04 - val_accuracy: 0.9997\n",
      ".Epoch 183/10000\n",
      "80/80 - 1s - loss: 0.0015 - binary_crossentropy: 0.0015 - accuracy: 0.9993 - val_loss: 0.0025 - val_binary_crossentropy: 0.0025 - val_accuracy: 0.9990\n",
      ".Epoch 184/10000\n",
      "80/80 - 1s - loss: 0.0141 - binary_crossentropy: 0.0141 - accuracy: 0.9963 - val_loss: 0.0213 - val_binary_crossentropy: 0.0213 - val_accuracy: 0.9923\n",
      ".Epoch 185/10000\n",
      "80/80 - 1s - loss: 0.0447 - binary_crossentropy: 0.0447 - accuracy: 0.9863 - val_loss: 0.0136 - val_binary_crossentropy: 0.0136 - val_accuracy: 0.9950\n",
      ".Epoch 186/10000\n",
      "80/80 - 1s - loss: 0.0158 - binary_crossentropy: 0.0158 - accuracy: 0.9948 - val_loss: 0.0037 - val_binary_crossentropy: 0.0037 - val_accuracy: 0.9990\n",
      ".Epoch 187/10000\n",
      "80/80 - 1s - loss: 0.0046 - binary_crossentropy: 0.0046 - accuracy: 0.9987 - val_loss: 0.0024 - val_binary_crossentropy: 0.0024 - val_accuracy: 0.9993\n",
      ".Epoch 188/10000\n",
      "80/80 - 1s - loss: 0.0025 - binary_crossentropy: 0.0025 - accuracy: 0.9992 - val_loss: 0.0017 - val_binary_crossentropy: 0.0017 - val_accuracy: 0.9993\n",
      ".Epoch 189/10000\n",
      "80/80 - 1s - loss: 0.0018 - binary_crossentropy: 0.0018 - accuracy: 0.9994 - val_loss: 0.0017 - val_binary_crossentropy: 0.0017 - val_accuracy: 0.9993\n",
      ".Epoch 190/10000\n",
      "80/80 - 1s - loss: 0.0017 - binary_crossentropy: 0.0017 - accuracy: 0.9994 - val_loss: 0.0017 - val_binary_crossentropy: 0.0017 - val_accuracy: 0.9993\n",
      ".Epoch 191/10000\n",
      "80/80 - 1s - loss: 0.0015 - binary_crossentropy: 0.0015 - accuracy: 0.9995 - val_loss: 0.0016 - val_binary_crossentropy: 0.0016 - val_accuracy: 0.9993\n",
      ".Epoch 192/10000\n",
      "80/80 - 1s - loss: 0.0015 - binary_crossentropy: 0.0015 - accuracy: 0.9994 - val_loss: 8.4999e-04 - val_binary_crossentropy: 8.4999e-04 - val_accuracy: 0.9997\n",
      ".Epoch 193/10000\n",
      "80/80 - 1s - loss: 0.0014 - binary_crossentropy: 0.0014 - accuracy: 0.9994 - val_loss: 8.3918e-04 - val_binary_crossentropy: 8.3918e-04 - val_accuracy: 0.9997\n",
      ".Epoch 194/10000\n",
      "80/80 - 1s - loss: 0.0014 - binary_crossentropy: 0.0014 - accuracy: 0.9994 - val_loss: 8.2925e-04 - val_binary_crossentropy: 8.2925e-04 - val_accuracy: 0.9997\n",
      ".Epoch 195/10000\n",
      "80/80 - 1s - loss: 0.0014 - binary_crossentropy: 0.0014 - accuracy: 0.9994 - val_loss: 8.2757e-04 - val_binary_crossentropy: 8.2757e-04 - val_accuracy: 0.9997\n",
      ".Epoch 196/10000\n",
      "80/80 - 1s - loss: 0.0012 - binary_crossentropy: 0.0012 - accuracy: 0.9994 - val_loss: 8.2237e-04 - val_binary_crossentropy: 8.2237e-04 - val_accuracy: 0.9997\n",
      ".Epoch 197/10000\n",
      "80/80 - 1s - loss: 0.0012 - binary_crossentropy: 0.0012 - accuracy: 0.9993 - val_loss: 8.2227e-04 - val_binary_crossentropy: 8.2227e-04 - val_accuracy: 0.9997\n",
      ".Epoch 198/10000\n",
      "80/80 - 1s - loss: 0.0014 - binary_crossentropy: 0.0014 - accuracy: 0.9992 - val_loss: 8.1771e-04 - val_binary_crossentropy: 8.1771e-04 - val_accuracy: 0.9997\n",
      ".Epoch 199/10000\n",
      "80/80 - 1s - loss: 0.0013 - binary_crossentropy: 0.0013 - accuracy: 0.9993 - val_loss: 8.2714e-04 - val_binary_crossentropy: 8.2714e-04 - val_accuracy: 0.9997\n",
      ".Epoch 200/10000\n",
      "80/80 - 1s - loss: 0.0013 - binary_crossentropy: 0.0013 - accuracy: 0.9994 - val_loss: 8.1860e-04 - val_binary_crossentropy: 8.1860e-04 - val_accuracy: 0.9997\n",
      ".Epoch 201/10000\n",
      "80/80 - 1s - loss: 0.0013 - binary_crossentropy: 0.0013 - accuracy: 0.9992 - val_loss: 8.1449e-04 - val_binary_crossentropy: 8.1449e-04 - val_accuracy: 0.9997\n",
      "\n",
      "Epoch: 200, accuracy:0.9992,  binary_crossentropy:0.0013,  loss:0.0013,  val_accuracy:0.9997,  val_binary_crossentropy:0.0008,  val_loss:0.0008,  \n",
      ".Epoch 202/10000\n",
      "80/80 - 1s - loss: 0.0013 - binary_crossentropy: 0.0013 - accuracy: 0.9993 - val_loss: 8.1687e-04 - val_binary_crossentropy: 8.1687e-04 - val_accuracy: 0.9997\n",
      ".Epoch 203/10000\n",
      "80/80 - 1s - loss: 0.0013 - binary_crossentropy: 0.0013 - accuracy: 0.9993 - val_loss: 8.1376e-04 - val_binary_crossentropy: 8.1376e-04 - val_accuracy: 0.9997\n",
      ".Epoch 204/10000\n",
      "80/80 - 1s - loss: 0.0012 - binary_crossentropy: 0.0012 - accuracy: 0.9993 - val_loss: 8.0756e-04 - val_binary_crossentropy: 8.0756e-04 - val_accuracy: 0.9997\n",
      ".Epoch 205/10000\n",
      "80/80 - 1s - loss: 0.0013 - binary_crossentropy: 0.0013 - accuracy: 0.9993 - val_loss: 8.0932e-04 - val_binary_crossentropy: 8.0932e-04 - val_accuracy: 0.9997\n",
      ".Epoch 206/10000\n",
      "80/80 - 1s - loss: 0.0012 - binary_crossentropy: 0.0012 - accuracy: 0.9994 - val_loss: 8.0905e-04 - val_binary_crossentropy: 8.0905e-04 - val_accuracy: 0.9997\n",
      ".Epoch 207/10000\n",
      "80/80 - 1s - loss: 0.0012 - binary_crossentropy: 0.0012 - accuracy: 0.9995 - val_loss: 8.0714e-04 - val_binary_crossentropy: 8.0714e-04 - val_accuracy: 0.9997\n",
      ".Epoch 208/10000\n",
      "80/80 - 1s - loss: 0.0013 - binary_crossentropy: 0.0013 - accuracy: 0.9993 - val_loss: 8.0778e-04 - val_binary_crossentropy: 8.0778e-04 - val_accuracy: 0.9997\n",
      ".Epoch 209/10000\n",
      "80/80 - 1s - loss: 0.0012 - binary_crossentropy: 0.0012 - accuracy: 0.9994 - val_loss: 8.1349e-04 - val_binary_crossentropy: 8.1349e-04 - val_accuracy: 0.9997\n",
      ".Epoch 210/10000\n",
      "80/80 - 1s - loss: 0.0012 - binary_crossentropy: 0.0012 - accuracy: 0.9994 - val_loss: 8.1234e-04 - val_binary_crossentropy: 8.1234e-04 - val_accuracy: 0.9997\n",
      ".Epoch 211/10000\n",
      "80/80 - 1s - loss: 0.0013 - binary_crossentropy: 0.0013 - accuracy: 0.9992 - val_loss: 8.0966e-04 - val_binary_crossentropy: 8.0966e-04 - val_accuracy: 0.9997\n",
      ".Epoch 212/10000\n",
      "80/80 - 1s - loss: 0.0013 - binary_crossentropy: 0.0013 - accuracy: 0.9994 - val_loss: 8.1211e-04 - val_binary_crossentropy: 8.1211e-04 - val_accuracy: 0.9997\n",
      ".Epoch 213/10000\n",
      "80/80 - 1s - loss: 0.0013 - binary_crossentropy: 0.0013 - accuracy: 0.9994 - val_loss: 8.1310e-04 - val_binary_crossentropy: 8.1310e-04 - val_accuracy: 0.9997\n",
      ".Epoch 214/10000\n",
      "80/80 - 1s - loss: 0.0013 - binary_crossentropy: 0.0013 - accuracy: 0.9993 - val_loss: 8.1458e-04 - val_binary_crossentropy: 8.1458e-04 - val_accuracy: 0.9997\n",
      ".Epoch 215/10000\n",
      "80/80 - 1s - loss: 0.0013 - binary_crossentropy: 0.0013 - accuracy: 0.9993 - val_loss: 8.1276e-04 - val_binary_crossentropy: 8.1276e-04 - val_accuracy: 0.9997\n",
      ".Epoch 216/10000\n",
      "80/80 - 1s - loss: 0.0012 - binary_crossentropy: 0.0012 - accuracy: 0.9994 - val_loss: 8.2202e-04 - val_binary_crossentropy: 8.2202e-04 - val_accuracy: 0.9997\n",
      ".Epoch 217/10000\n",
      "80/80 - 1s - loss: 0.0012 - binary_crossentropy: 0.0012 - accuracy: 0.9994 - val_loss: 8.2044e-04 - val_binary_crossentropy: 8.2044e-04 - val_accuracy: 0.9997\n",
      ".Epoch 218/10000\n",
      "80/80 - 1s - loss: 0.0012 - binary_crossentropy: 0.0012 - accuracy: 0.9993 - val_loss: 8.1280e-04 - val_binary_crossentropy: 8.1280e-04 - val_accuracy: 0.9997\n",
      ".Epoch 219/10000\n",
      "80/80 - 1s - loss: 0.0013 - binary_crossentropy: 0.0013 - accuracy: 0.9992 - val_loss: 8.2018e-04 - val_binary_crossentropy: 8.2018e-04 - val_accuracy: 0.9997\n",
      ".Epoch 220/10000\n",
      "80/80 - 1s - loss: 0.0012 - binary_crossentropy: 0.0012 - accuracy: 0.9994 - val_loss: 8.2295e-04 - val_binary_crossentropy: 8.2295e-04 - val_accuracy: 0.9997\n",
      ".Epoch 221/10000\n",
      "80/80 - 1s - loss: 0.0012 - binary_crossentropy: 0.0012 - accuracy: 0.9994 - val_loss: 8.2090e-04 - val_binary_crossentropy: 8.2090e-04 - val_accuracy: 0.9997\n",
      ".Epoch 222/10000\n",
      "80/80 - 1s - loss: 0.0012 - binary_crossentropy: 0.0012 - accuracy: 0.9993 - val_loss: 8.1332e-04 - val_binary_crossentropy: 8.1332e-04 - val_accuracy: 0.9997\n",
      ".Epoch 223/10000\n",
      "80/80 - 1s - loss: 0.0011 - binary_crossentropy: 0.0011 - accuracy: 0.9994 - val_loss: 8.1922e-04 - val_binary_crossentropy: 8.1922e-04 - val_accuracy: 0.9997\n",
      ".Epoch 224/10000\n",
      "80/80 - 1s - loss: 0.0011 - binary_crossentropy: 0.0011 - accuracy: 0.9994 - val_loss: 8.2489e-04 - val_binary_crossentropy: 8.2489e-04 - val_accuracy: 0.9997\n",
      ".Epoch 225/10000\n",
      "80/80 - 1s - loss: 0.0010 - binary_crossentropy: 0.0010 - accuracy: 0.9995 - val_loss: 8.0190e-04 - val_binary_crossentropy: 8.0190e-04 - val_accuracy: 0.9997\n",
      ".Epoch 226/10000\n",
      "80/80 - 1s - loss: 0.0011 - binary_crossentropy: 0.0011 - accuracy: 0.9994 - val_loss: 7.9636e-04 - val_binary_crossentropy: 7.9636e-04 - val_accuracy: 0.9997\n",
      ".Epoch 227/10000\n",
      "80/80 - 1s - loss: 0.0011 - binary_crossentropy: 0.0011 - accuracy: 0.9994 - val_loss: 7.9892e-04 - val_binary_crossentropy: 7.9892e-04 - val_accuracy: 0.9997\n",
      ".Epoch 228/10000\n",
      "80/80 - 1s - loss: 0.0012 - binary_crossentropy: 0.0012 - accuracy: 0.9993 - val_loss: 7.9060e-04 - val_binary_crossentropy: 7.9060e-04 - val_accuracy: 0.9997\n",
      ".Epoch 229/10000\n",
      "80/80 - 1s - loss: 0.0012 - binary_crossentropy: 0.0012 - accuracy: 0.9995 - val_loss: 8.1156e-04 - val_binary_crossentropy: 8.1156e-04 - val_accuracy: 0.9997\n",
      ".Epoch 230/10000\n",
      "80/80 - 1s - loss: 0.0012 - binary_crossentropy: 0.0012 - accuracy: 0.9992 - val_loss: 8.0135e-04 - val_binary_crossentropy: 8.0135e-04 - val_accuracy: 0.9997\n",
      ".Epoch 231/10000\n",
      "80/80 - 1s - loss: 0.0011 - binary_crossentropy: 0.0011 - accuracy: 0.9993 - val_loss: 8.0060e-04 - val_binary_crossentropy: 8.0060e-04 - val_accuracy: 0.9997\n",
      ".Epoch 232/10000\n",
      "80/80 - 1s - loss: 0.0012 - binary_crossentropy: 0.0012 - accuracy: 0.9992 - val_loss: 8.1127e-04 - val_binary_crossentropy: 8.1127e-04 - val_accuracy: 0.9997\n",
      ".Epoch 233/10000\n",
      "80/80 - 1s - loss: 0.0011 - binary_crossentropy: 0.0011 - accuracy: 0.9994 - val_loss: 8.1716e-04 - val_binary_crossentropy: 8.1716e-04 - val_accuracy: 0.9997\n",
      ".Epoch 234/10000\n",
      "80/80 - 1s - loss: 0.0011 - binary_crossentropy: 0.0011 - accuracy: 0.9994 - val_loss: 8.1184e-04 - val_binary_crossentropy: 8.1184e-04 - val_accuracy: 0.9997\n",
      ".Epoch 235/10000\n",
      "80/80 - 1s - loss: 0.0011 - binary_crossentropy: 0.0011 - accuracy: 0.9993 - val_loss: 8.0877e-04 - val_binary_crossentropy: 8.0877e-04 - val_accuracy: 0.9997\n",
      ".Epoch 236/10000\n",
      "80/80 - 1s - loss: 0.0012 - binary_crossentropy: 0.0012 - accuracy: 0.9993 - val_loss: 8.1601e-04 - val_binary_crossentropy: 8.1601e-04 - val_accuracy: 0.9997\n",
      ".Epoch 237/10000\n",
      "80/80 - 1s - loss: 0.0011 - binary_crossentropy: 0.0011 - accuracy: 0.9994 - val_loss: 8.1067e-04 - val_binary_crossentropy: 8.1067e-04 - val_accuracy: 0.9997\n",
      ".Epoch 238/10000\n",
      "80/80 - 1s - loss: 0.0012 - binary_crossentropy: 0.0012 - accuracy: 0.9993 - val_loss: 8.0488e-04 - val_binary_crossentropy: 8.0488e-04 - val_accuracy: 0.9997\n",
      ".Epoch 239/10000\n",
      "80/80 - 1s - loss: 0.0011 - binary_crossentropy: 0.0011 - accuracy: 0.9993 - val_loss: 8.0519e-04 - val_binary_crossentropy: 8.0519e-04 - val_accuracy: 0.9997\n",
      ".Epoch 240/10000\n",
      "80/80 - 1s - loss: 0.0011 - binary_crossentropy: 0.0011 - accuracy: 0.9994 - val_loss: 8.0621e-04 - val_binary_crossentropy: 8.0621e-04 - val_accuracy: 0.9997\n",
      ".Epoch 241/10000\n",
      "80/80 - 1s - loss: 0.0011 - binary_crossentropy: 0.0011 - accuracy: 0.9995 - val_loss: 8.0823e-04 - val_binary_crossentropy: 8.0823e-04 - val_accuracy: 0.9997\n",
      ".Epoch 242/10000\n",
      "80/80 - 1s - loss: 0.0012 - binary_crossentropy: 0.0012 - accuracy: 0.9994 - val_loss: 8.1096e-04 - val_binary_crossentropy: 8.1096e-04 - val_accuracy: 0.9997\n",
      ".Epoch 243/10000\n",
      "80/80 - 1s - loss: 0.0011 - binary_crossentropy: 0.0011 - accuracy: 0.9994 - val_loss: 8.0028e-04 - val_binary_crossentropy: 8.0028e-04 - val_accuracy: 0.9997\n",
      ".Epoch 244/10000\n",
      "80/80 - 1s - loss: 0.0011 - binary_crossentropy: 0.0011 - accuracy: 0.9994 - val_loss: 8.0487e-04 - val_binary_crossentropy: 8.0487e-04 - val_accuracy: 0.9997\n",
      ".Epoch 245/10000\n",
      "80/80 - 1s - loss: 0.0012 - binary_crossentropy: 0.0012 - accuracy: 0.9993 - val_loss: 8.0755e-04 - val_binary_crossentropy: 8.0755e-04 - val_accuracy: 0.9997\n",
      ".Epoch 246/10000\n",
      "80/80 - 1s - loss: 0.0011 - binary_crossentropy: 0.0011 - accuracy: 0.9994 - val_loss: 8.0464e-04 - val_binary_crossentropy: 8.0464e-04 - val_accuracy: 0.9997\n",
      ".Epoch 247/10000\n",
      "80/80 - 1s - loss: 0.0012 - binary_crossentropy: 0.0012 - accuracy: 0.9994 - val_loss: 7.9867e-04 - val_binary_crossentropy: 7.9867e-04 - val_accuracy: 0.9997\n",
      ".Epoch 248/10000\n",
      "80/80 - 1s - loss: 0.0011 - binary_crossentropy: 0.0011 - accuracy: 0.9994 - val_loss: 8.0822e-04 - val_binary_crossentropy: 8.0822e-04 - val_accuracy: 0.9997\n",
      ".Epoch 249/10000\n",
      "80/80 - 1s - loss: 0.0011 - binary_crossentropy: 0.0011 - accuracy: 0.9993 - val_loss: 8.0173e-04 - val_binary_crossentropy: 8.0173e-04 - val_accuracy: 0.9997\n",
      ".Epoch 250/10000\n",
      "80/80 - 1s - loss: 0.0012 - binary_crossentropy: 0.0012 - accuracy: 0.9992 - val_loss: 9.3746e-04 - val_binary_crossentropy: 9.3746e-04 - val_accuracy: 0.9993\n",
      ".Epoch 251/10000\n",
      "80/80 - 1s - loss: 0.0037 - binary_crossentropy: 0.0037 - accuracy: 0.9987 - val_loss: 8.2976e-04 - val_binary_crossentropy: 8.2976e-04 - val_accuracy: 0.9997\n",
      ".Epoch 252/10000\n",
      "80/80 - 1s - loss: 0.0174 - binary_crossentropy: 0.0174 - accuracy: 0.9961 - val_loss: 0.0249 - val_binary_crossentropy: 0.0249 - val_accuracy: 0.9930\n",
      ".Epoch 253/10000\n",
      "80/80 - 1s - loss: 0.0345 - binary_crossentropy: 0.0345 - accuracy: 0.9892 - val_loss: 0.0123 - val_binary_crossentropy: 0.0123 - val_accuracy: 0.9960\n",
      ".Epoch 254/10000\n",
      "80/80 - 1s - loss: 0.0143 - binary_crossentropy: 0.0143 - accuracy: 0.9953 - val_loss: 0.0043 - val_binary_crossentropy: 0.0043 - val_accuracy: 0.9987\n",
      ".Epoch 255/10000\n",
      "80/80 - 1s - loss: 0.0046 - binary_crossentropy: 0.0046 - accuracy: 0.9987 - val_loss: 0.0025 - val_binary_crossentropy: 0.0025 - val_accuracy: 0.9993\n",
      ".Epoch 256/10000\n",
      "80/80 - 1s - loss: 0.0025 - binary_crossentropy: 0.0025 - accuracy: 0.9991 - val_loss: 0.0021 - val_binary_crossentropy: 0.0021 - val_accuracy: 0.9993\n",
      ".Epoch 257/10000\n",
      "80/80 - 1s - loss: 0.0021 - binary_crossentropy: 0.0021 - accuracy: 0.9992 - val_loss: 0.0019 - val_binary_crossentropy: 0.0019 - val_accuracy: 0.9993\n",
      ".Epoch 258/10000\n",
      "80/80 - 1s - loss: 0.0018 - binary_crossentropy: 0.0018 - accuracy: 0.9994 - val_loss: 0.0011 - val_binary_crossentropy: 0.0011 - val_accuracy: 0.9997\n",
      ".Epoch 259/10000\n",
      "80/80 - 1s - loss: 0.0016 - binary_crossentropy: 0.0016 - accuracy: 0.9994 - val_loss: 0.0010 - val_binary_crossentropy: 0.0010 - val_accuracy: 0.9997\n",
      ".Epoch 260/10000\n",
      "80/80 - 1s - loss: 0.0017 - binary_crossentropy: 0.0017 - accuracy: 0.9993 - val_loss: 0.0010 - val_binary_crossentropy: 0.0010 - val_accuracy: 0.9997\n",
      ".Epoch 261/10000\n",
      "80/80 - 1s - loss: 0.0015 - binary_crossentropy: 0.0015 - accuracy: 0.9993 - val_loss: 9.9288e-04 - val_binary_crossentropy: 9.9288e-04 - val_accuracy: 0.9997\n",
      ".Epoch 262/10000\n",
      "80/80 - 1s - loss: 0.0014 - binary_crossentropy: 0.0014 - accuracy: 0.9993 - val_loss: 9.8940e-04 - val_binary_crossentropy: 9.8940e-04 - val_accuracy: 0.9997\n",
      ".Epoch 263/10000\n",
      "80/80 - 1s - loss: 0.0014 - binary_crossentropy: 0.0014 - accuracy: 0.9995 - val_loss: 9.7169e-04 - val_binary_crossentropy: 9.7169e-04 - val_accuracy: 0.9997\n",
      ".Epoch 264/10000\n",
      "80/80 - 1s - loss: 0.0013 - binary_crossentropy: 0.0013 - accuracy: 0.9994 - val_loss: 9.6162e-04 - val_binary_crossentropy: 9.6162e-04 - val_accuracy: 0.9997\n",
      ".Epoch 265/10000\n",
      "80/80 - 1s - loss: 0.0013 - binary_crossentropy: 0.0013 - accuracy: 0.9994 - val_loss: 9.2089e-04 - val_binary_crossentropy: 9.2089e-04 - val_accuracy: 0.9997\n",
      ".Epoch 266/10000\n",
      "80/80 - 1s - loss: 0.0013 - binary_crossentropy: 0.0013 - accuracy: 0.9993 - val_loss: 9.1705e-04 - val_binary_crossentropy: 9.1705e-04 - val_accuracy: 0.9997\n",
      ".Epoch 267/10000\n",
      "80/80 - 1s - loss: 0.0012 - binary_crossentropy: 0.0012 - accuracy: 0.9994 - val_loss: 9.1589e-04 - val_binary_crossentropy: 9.1589e-04 - val_accuracy: 0.9997\n",
      ".Epoch 268/10000\n",
      "80/80 - 1s - loss: 0.0013 - binary_crossentropy: 0.0013 - accuracy: 0.9994 - val_loss: 9.1030e-04 - val_binary_crossentropy: 9.1030e-04 - val_accuracy: 0.9997\n",
      ".Epoch 269/10000\n",
      "80/80 - 1s - loss: 0.0013 - binary_crossentropy: 0.0013 - accuracy: 0.9993 - val_loss: 9.1550e-04 - val_binary_crossentropy: 9.1550e-04 - val_accuracy: 0.9997\n",
      ".Epoch 270/10000\n",
      "80/80 - 1s - loss: 0.0012 - binary_crossentropy: 0.0012 - accuracy: 0.9994 - val_loss: 9.1673e-04 - val_binary_crossentropy: 9.1673e-04 - val_accuracy: 0.9997\n",
      ".Epoch 271/10000\n",
      "80/80 - 1s - loss: 0.0013 - binary_crossentropy: 0.0013 - accuracy: 0.9993 - val_loss: 9.2453e-04 - val_binary_crossentropy: 9.2453e-04 - val_accuracy: 0.9997\n",
      ".Epoch 272/10000\n",
      "80/80 - 1s - loss: 0.0012 - binary_crossentropy: 0.0012 - accuracy: 0.9993 - val_loss: 9.1673e-04 - val_binary_crossentropy: 9.1673e-04 - val_accuracy: 0.9997\n",
      ".Epoch 273/10000\n",
      "80/80 - 1s - loss: 0.0013 - binary_crossentropy: 0.0013 - accuracy: 0.9993 - val_loss: 9.1594e-04 - val_binary_crossentropy: 9.1594e-04 - val_accuracy: 0.9997\n",
      ".Epoch 274/10000\n",
      "80/80 - 1s - loss: 0.0012 - binary_crossentropy: 0.0012 - accuracy: 0.9995 - val_loss: 9.0396e-04 - val_binary_crossentropy: 9.0396e-04 - val_accuracy: 0.9997\n",
      ".Epoch 275/10000\n",
      "80/80 - 1s - loss: 0.0012 - binary_crossentropy: 0.0012 - accuracy: 0.9994 - val_loss: 9.1492e-04 - val_binary_crossentropy: 9.1492e-04 - val_accuracy: 0.9997\n",
      ".Epoch 276/10000\n",
      "80/80 - 1s - loss: 0.0013 - binary_crossentropy: 0.0013 - accuracy: 0.9992 - val_loss: 9.1148e-04 - val_binary_crossentropy: 9.1148e-04 - val_accuracy: 0.9997\n",
      ".Epoch 277/10000\n",
      "80/80 - 1s - loss: 0.0013 - binary_crossentropy: 0.0013 - accuracy: 0.9992 - val_loss: 9.0810e-04 - val_binary_crossentropy: 9.0810e-04 - val_accuracy: 0.9997\n",
      ".Epoch 278/10000\n",
      "80/80 - 1s - loss: 0.0011 - binary_crossentropy: 0.0011 - accuracy: 0.9993 - val_loss: 9.0747e-04 - val_binary_crossentropy: 9.0747e-04 - val_accuracy: 0.9997\n",
      ".Epoch 279/10000\n",
      "80/80 - 1s - loss: 0.0013 - binary_crossentropy: 0.0013 - accuracy: 0.9993 - val_loss: 9.0617e-04 - val_binary_crossentropy: 9.0617e-04 - val_accuracy: 0.9997\n",
      ".Epoch 280/10000\n",
      "80/80 - 1s - loss: 0.0013 - binary_crossentropy: 0.0013 - accuracy: 0.9993 - val_loss: 9.0424e-04 - val_binary_crossentropy: 9.0424e-04 - val_accuracy: 0.9997\n",
      ".Epoch 281/10000\n",
      "80/80 - 1s - loss: 0.0012 - binary_crossentropy: 0.0012 - accuracy: 0.9994 - val_loss: 9.0353e-04 - val_binary_crossentropy: 9.0353e-04 - val_accuracy: 0.9997\n",
      ".Epoch 282/10000\n",
      "80/80 - 1s - loss: 0.0012 - binary_crossentropy: 0.0012 - accuracy: 0.9992 - val_loss: 9.0278e-04 - val_binary_crossentropy: 9.0278e-04 - val_accuracy: 0.9997\n",
      ".Epoch 283/10000\n",
      "80/80 - 1s - loss: 0.0011 - binary_crossentropy: 0.0011 - accuracy: 0.9996 - val_loss: 8.9694e-04 - val_binary_crossentropy: 8.9694e-04 - val_accuracy: 0.9997\n",
      ".Epoch 284/10000\n",
      "80/80 - 1s - loss: 0.0012 - binary_crossentropy: 0.0012 - accuracy: 0.9995 - val_loss: 8.9821e-04 - val_binary_crossentropy: 8.9821e-04 - val_accuracy: 0.9997\n",
      ".Epoch 285/10000\n",
      "80/80 - 1s - loss: 0.0012 - binary_crossentropy: 0.0012 - accuracy: 0.9993 - val_loss: 9.2933e-04 - val_binary_crossentropy: 9.2933e-04 - val_accuracy: 0.9997\n",
      ".Epoch 286/10000\n",
      "80/80 - 1s - loss: 0.0012 - binary_crossentropy: 0.0012 - accuracy: 0.9993 - val_loss: 9.0183e-04 - val_binary_crossentropy: 9.0183e-04 - val_accuracy: 0.9997\n",
      ".Epoch 287/10000\n",
      "80/80 - 1s - loss: 0.0012 - binary_crossentropy: 0.0012 - accuracy: 0.9992 - val_loss: 9.0914e-04 - val_binary_crossentropy: 9.0914e-04 - val_accuracy: 0.9997\n",
      ".Epoch 288/10000\n",
      "80/80 - 1s - loss: 0.0012 - binary_crossentropy: 0.0012 - accuracy: 0.9994 - val_loss: 9.1222e-04 - val_binary_crossentropy: 9.1222e-04 - val_accuracy: 0.9997\n",
      ".Epoch 289/10000\n",
      "80/80 - 1s - loss: 0.0013 - binary_crossentropy: 0.0013 - accuracy: 0.9993 - val_loss: 9.0678e-04 - val_binary_crossentropy: 9.0678e-04 - val_accuracy: 0.9997\n",
      ".Epoch 290/10000\n",
      "80/80 - 1s - loss: 0.0012 - binary_crossentropy: 0.0012 - accuracy: 0.9993 - val_loss: 9.1250e-04 - val_binary_crossentropy: 9.1250e-04 - val_accuracy: 0.9997\n",
      ".Epoch 291/10000\n",
      "80/80 - 1s - loss: 0.0011 - binary_crossentropy: 0.0011 - accuracy: 0.9995 - val_loss: 9.0641e-04 - val_binary_crossentropy: 9.0641e-04 - val_accuracy: 0.9997\n",
      ".Epoch 292/10000\n",
      "80/80 - 1s - loss: 0.0011 - binary_crossentropy: 0.0011 - accuracy: 0.9994 - val_loss: 9.0675e-04 - val_binary_crossentropy: 9.0675e-04 - val_accuracy: 0.9997\n",
      ".Epoch 293/10000\n",
      "80/80 - 1s - loss: 0.0012 - binary_crossentropy: 0.0012 - accuracy: 0.9992 - val_loss: 9.0580e-04 - val_binary_crossentropy: 9.0580e-04 - val_accuracy: 0.9997\n",
      ".Epoch 294/10000\n",
      "80/80 - 1s - loss: 0.0011 - binary_crossentropy: 0.0011 - accuracy: 0.9994 - val_loss: 9.0092e-04 - val_binary_crossentropy: 9.0092e-04 - val_accuracy: 0.9997\n",
      ".Epoch 295/10000\n",
      "80/80 - 1s - loss: 0.0011 - binary_crossentropy: 0.0011 - accuracy: 0.9994 - val_loss: 0.0010 - val_binary_crossentropy: 0.0010 - val_accuracy: 0.9997\n",
      ".Epoch 296/10000\n",
      "80/80 - 1s - loss: 0.0012 - binary_crossentropy: 0.0012 - accuracy: 0.9993 - val_loss: 8.7562e-04 - val_binary_crossentropy: 8.7562e-04 - val_accuracy: 0.9997\n",
      ".Epoch 297/10000\n",
      "80/80 - 1s - loss: 0.0011 - binary_crossentropy: 0.0011 - accuracy: 0.9993 - val_loss: 8.8315e-04 - val_binary_crossentropy: 8.8315e-04 - val_accuracy: 0.9997\n",
      ".Epoch 298/10000\n",
      "80/80 - 1s - loss: 0.0012 - binary_crossentropy: 0.0012 - accuracy: 0.9994 - val_loss: 8.9282e-04 - val_binary_crossentropy: 8.9282e-04 - val_accuracy: 0.9997\n",
      ".Epoch 299/10000\n",
      "80/80 - 1s - loss: 0.0011 - binary_crossentropy: 0.0011 - accuracy: 0.9994 - val_loss: 8.8925e-04 - val_binary_crossentropy: 8.8925e-04 - val_accuracy: 0.9997\n",
      ".Epoch 300/10000\n",
      "80/80 - 1s - loss: 0.0011 - binary_crossentropy: 0.0011 - accuracy: 0.9993 - val_loss: 8.9845e-04 - val_binary_crossentropy: 8.9845e-04 - val_accuracy: 0.9997\n",
      ".Epoch 301/10000\n",
      "80/80 - 1s - loss: 0.0011 - binary_crossentropy: 0.0011 - accuracy: 0.9992 - val_loss: 8.7941e-04 - val_binary_crossentropy: 8.7941e-04 - val_accuracy: 0.9997\n",
      "\n",
      "Epoch: 300, accuracy:0.9992,  binary_crossentropy:0.0011,  loss:0.0011,  val_accuracy:0.9997,  val_binary_crossentropy:0.0009,  val_loss:0.0009,  \n",
      ".Epoch 302/10000\n",
      "80/80 - 1s - loss: 0.0011 - binary_crossentropy: 0.0011 - accuracy: 0.9994 - val_loss: 8.6776e-04 - val_binary_crossentropy: 8.6776e-04 - val_accuracy: 0.9997\n",
      ".Epoch 303/10000\n",
      "80/80 - 1s - loss: 0.0011 - binary_crossentropy: 0.0011 - accuracy: 0.9994 - val_loss: 8.7498e-04 - val_binary_crossentropy: 8.7498e-04 - val_accuracy: 0.9997\n",
      ".Epoch 304/10000\n",
      "80/80 - 1s - loss: 0.0010 - binary_crossentropy: 0.0010 - accuracy: 0.9994 - val_loss: 8.6632e-04 - val_binary_crossentropy: 8.6632e-04 - val_accuracy: 0.9997\n",
      ".Epoch 305/10000\n",
      "80/80 - 1s - loss: 0.0011 - binary_crossentropy: 0.0011 - accuracy: 0.9995 - val_loss: 8.6004e-04 - val_binary_crossentropy: 8.6004e-04 - val_accuracy: 0.9997\n",
      ".Epoch 306/10000\n",
      "80/80 - 1s - loss: 0.0012 - binary_crossentropy: 0.0012 - accuracy: 0.9993 - val_loss: 8.6056e-04 - val_binary_crossentropy: 8.6056e-04 - val_accuracy: 0.9997\n",
      ".Epoch 307/10000\n",
      "80/80 - 1s - loss: 0.0010 - binary_crossentropy: 0.0010 - accuracy: 0.9994 - val_loss: 8.4827e-04 - val_binary_crossentropy: 8.4827e-04 - val_accuracy: 0.9997\n",
      ".Epoch 308/10000\n",
      "80/80 - 1s - loss: 0.0010 - binary_crossentropy: 0.0010 - accuracy: 0.9994 - val_loss: 8.4735e-04 - val_binary_crossentropy: 8.4735e-04 - val_accuracy: 0.9997\n",
      ".Epoch 309/10000\n",
      "80/80 - 1s - loss: 0.0011 - binary_crossentropy: 0.0011 - accuracy: 0.9994 - val_loss: 8.4837e-04 - val_binary_crossentropy: 8.4837e-04 - val_accuracy: 0.9997\n",
      ".Epoch 310/10000\n",
      "80/80 - 1s - loss: 0.0011 - binary_crossentropy: 0.0011 - accuracy: 0.9992 - val_loss: 8.5398e-04 - val_binary_crossentropy: 8.5398e-04 - val_accuracy: 0.9997\n",
      ".Epoch 311/10000\n",
      "80/80 - 1s - loss: 0.0011 - binary_crossentropy: 0.0011 - accuracy: 0.9994 - val_loss: 8.5116e-04 - val_binary_crossentropy: 8.5116e-04 - val_accuracy: 0.9997\n",
      ".Epoch 312/10000\n",
      "80/80 - 1s - loss: 0.0010 - binary_crossentropy: 0.0010 - accuracy: 0.9995 - val_loss: 8.4499e-04 - val_binary_crossentropy: 8.4499e-04 - val_accuracy: 0.9997\n",
      ".Epoch 313/10000\n",
      "80/80 - 1s - loss: 0.0010 - binary_crossentropy: 0.0010 - accuracy: 0.9993 - val_loss: 8.2451e-04 - val_binary_crossentropy: 8.2451e-04 - val_accuracy: 0.9997\n",
      ".Epoch 314/10000\n",
      "80/80 - 1s - loss: 0.0010 - binary_crossentropy: 0.0010 - accuracy: 0.9994 - val_loss: 8.2544e-04 - val_binary_crossentropy: 8.2544e-04 - val_accuracy: 0.9997\n",
      ".Epoch 315/10000\n",
      "80/80 - 1s - loss: 0.0011 - binary_crossentropy: 0.0011 - accuracy: 0.9993 - val_loss: 8.2284e-04 - val_binary_crossentropy: 8.2284e-04 - val_accuracy: 0.9997\n",
      ".Epoch 316/10000\n",
      "80/80 - 1s - loss: 0.0010 - binary_crossentropy: 0.0010 - accuracy: 0.9994 - val_loss: 8.2336e-04 - val_binary_crossentropy: 8.2336e-04 - val_accuracy: 0.9997\n",
      ".Epoch 317/10000\n",
      "80/80 - 1s - loss: 0.0011 - binary_crossentropy: 0.0011 - accuracy: 0.9994 - val_loss: 8.2537e-04 - val_binary_crossentropy: 8.2537e-04 - val_accuracy: 0.9997\n",
      ".Epoch 318/10000\n",
      "80/80 - 1s - loss: 0.0010 - binary_crossentropy: 0.0010 - accuracy: 0.9995 - val_loss: 8.2402e-04 - val_binary_crossentropy: 8.2402e-04 - val_accuracy: 0.9997\n",
      ".Epoch 319/10000\n",
      "80/80 - 1s - loss: 0.0011 - binary_crossentropy: 0.0011 - accuracy: 0.9994 - val_loss: 8.3328e-04 - val_binary_crossentropy: 8.3328e-04 - val_accuracy: 0.9997\n",
      ".Epoch 320/10000\n",
      "80/80 - 1s - loss: 0.0018 - binary_crossentropy: 0.0018 - accuracy: 0.9992 - val_loss: 0.0058 - val_binary_crossentropy: 0.0058 - val_accuracy: 0.9987\n",
      ".Epoch 321/10000\n",
      "80/80 - 1s - loss: 0.0105 - binary_crossentropy: 0.0105 - accuracy: 0.9975 - val_loss: 0.0048 - val_binary_crossentropy: 0.0048 - val_accuracy: 0.9987\n",
      ".Epoch 322/10000\n",
      "80/80 - 1s - loss: 0.0154 - binary_crossentropy: 0.0154 - accuracy: 0.9960 - val_loss: 0.0068 - val_binary_crossentropy: 0.0068 - val_accuracy: 0.9977\n",
      ".Epoch 323/10000\n",
      "80/80 - 1s - loss: 0.0088 - binary_crossentropy: 0.0088 - accuracy: 0.9967 - val_loss: 0.0028 - val_binary_crossentropy: 0.0028 - val_accuracy: 0.9993\n",
      ".Epoch 324/10000\n",
      "80/80 - 1s - loss: 0.0043 - binary_crossentropy: 0.0043 - accuracy: 0.9985 - val_loss: 0.0012 - val_binary_crossentropy: 0.0012 - val_accuracy: 0.9997\n",
      ".Epoch 325/10000\n",
      "80/80 - 1s - loss: 0.0018 - binary_crossentropy: 0.0018 - accuracy: 0.9993 - val_loss: 0.0010 - val_binary_crossentropy: 0.0010 - val_accuracy: 0.9997\n",
      ".Epoch 326/10000\n",
      "80/80 - 1s - loss: 0.0016 - binary_crossentropy: 0.0016 - accuracy: 0.9992 - val_loss: 9.3453e-04 - val_binary_crossentropy: 9.3453e-04 - val_accuracy: 0.9997\n",
      ".Epoch 327/10000\n",
      "80/80 - 1s - loss: 0.0013 - binary_crossentropy: 0.0013 - accuracy: 0.9994 - val_loss: 9.0824e-04 - val_binary_crossentropy: 9.0824e-04 - val_accuracy: 0.9997\n",
      ".Epoch 328/10000\n",
      "80/80 - 1s - loss: 0.0011 - binary_crossentropy: 0.0011 - accuracy: 0.9995 - val_loss: 8.9123e-04 - val_binary_crossentropy: 8.9123e-04 - val_accuracy: 0.9997\n",
      ".Epoch 329/10000\n",
      "80/80 - 1s - loss: 0.0014 - binary_crossentropy: 0.0014 - accuracy: 0.9992 - val_loss: 8.8099e-04 - val_binary_crossentropy: 8.8099e-04 - val_accuracy: 0.9997\n",
      ".Epoch 330/10000\n",
      "80/80 - 1s - loss: 0.0012 - binary_crossentropy: 0.0012 - accuracy: 0.9994 - val_loss: 8.6425e-04 - val_binary_crossentropy: 8.6425e-04 - val_accuracy: 0.9997\n",
      "."
     ]
    }
   ],
   "source": [
    "dict_histories['ver1'] = compile_and_fit(model = model_1, name ='ver1',\n",
    "                                         f_xtrain = X_train_1,f_ytrain = y_train_1, \n",
    "                                         f_xval = X_val, f_yval = y_val)"
   ]
  },
  {
   "cell_type": "code",
   "execution_count": 71,
   "id": "b26d6eeb",
   "metadata": {
    "execution": {
     "iopub.execute_input": "2023-01-04T14:32:16.532415Z",
     "iopub.status.busy": "2023-01-04T14:32:16.531634Z",
     "iopub.status.idle": "2023-01-04T14:32:42.328453Z",
     "shell.execute_reply": "2023-01-04T14:32:42.327233Z"
    },
    "papermill": {
     "duration": 25.958708,
     "end_time": "2023-01-04T14:32:42.330695",
     "exception": false,
     "start_time": "2023-01-04T14:32:16.371987",
     "status": "completed"
    },
    "tags": []
   },
   "outputs": [
    {
     "data": {
      "image/png": "[encoded data removed]",
      "text/plain": [
       "<Figure size 432x288 with 1 Axes>"
      ]
     },
     "metadata": {
      "needs_background": "light"
     },
     "output_type": "display_data"
    }
   ],
   "source": [
    "plotter = tfdocs.plots.HistoryPlotter(metric = 'binary_crossentropy', smoothing_std=10)\n",
    "plotter.plot(dict_histories)"
   ]
  },
  {
   "cell_type": "code",
   "execution_count": 72,
   "id": "9e970ab3",
   "metadata": {
    "execution": {
     "iopub.execute_input": "2023-01-04T14:32:42.502530Z",
     "iopub.status.busy": "2023-01-04T14:32:42.502122Z",
     "iopub.status.idle": "2023-01-04T14:32:42.755569Z",
     "shell.execute_reply": "2023-01-04T14:32:42.754409Z"
    },
    "papermill": {
     "duration": 0.342128,
     "end_time": "2023-01-04T14:32:42.758211",
     "exception": false,
     "start_time": "2023-01-04T14:32:42.416083",
     "status": "completed"
    },
    "tags": []
   },
   "outputs": [
    {
     "data": {
      "text/plain": [
       "<matplotlib.legend.Legend at 0x7f61354518d0>"
      ]
     },
     "execution_count": 72,
     "metadata": {},
     "output_type": "execute_result"
    },
    {
     "data": {
      "image/png": "[encoded data removed]",
      "text/plain": [
       "<Figure size 432x288 with 1 Axes>"
      ]
     },
     "metadata": {
      "needs_background": "light"
     },
     "output_type": "display_data"
    }
   ],
   "source": [
    "plt.plot(dict_histories['ver1'].history['loss'], label='training loss')\n",
    "plt.plot(dict_histories['ver1'].history['val_loss'], label='validation loss')\n",
    "plt.xlabel('Epoch')\n",
    "plt.ylabel('Loss')\n",
    "plt.legend()"
   ]
  },
  {
   "cell_type": "code",
   "execution_count": 73,
   "id": "f03bca23",
   "metadata": {
    "execution": {
     "iopub.execute_input": "2023-01-04T14:32:42.935207Z",
     "iopub.status.busy": "2023-01-04T14:32:42.933970Z",
     "iopub.status.idle": "2023-01-04T14:32:43.628716Z",
     "shell.execute_reply": "2023-01-04T14:32:43.627180Z"
    },
    "papermill": {
     "duration": 0.786349,
     "end_time": "2023-01-04T14:32:43.631207",
     "exception": false,
     "start_time": "2023-01-04T14:32:42.844858",
     "status": "completed"
    },
    "tags": []
   },
   "outputs": [
    {
     "name": "stdout",
     "output_type": "stream",
     "text": [
      "313/313 [==============================] - 1s 2ms/step - loss: 2.7039 - binary_crossentropy: 2.7039 - accuracy: 0.8571\n",
      "{'model': [2.703934669494629, 2.703934669494629, 0.8571000099182129]}\n"
     ]
    }
   ],
   "source": [
    "test_results = {}\n",
    "\n",
    "test_results['model'] = model_1.evaluate(\n",
    "    X_test, y_test, verbose=1)\n",
    "\n",
    "print(test_results)"
   ]
  },
  {
   "cell_type": "code",
   "execution_count": 74,
   "id": "3594a09d",
   "metadata": {
    "execution": {
     "iopub.execute_input": "2023-01-04T14:32:43.809665Z",
     "iopub.status.busy": "2023-01-04T14:32:43.809283Z",
     "iopub.status.idle": "2023-01-04T14:32:44.486939Z",
     "shell.execute_reply": "2023-01-04T14:32:44.485810Z"
    },
    "papermill": {
     "duration": 0.770904,
     "end_time": "2023-01-04T14:32:44.489700",
     "exception": false,
     "start_time": "2023-01-04T14:32:43.718796",
     "status": "completed"
    },
    "tags": []
   },
   "outputs": [],
   "source": [
    "result = model_1.predict(X_test)"
   ]
  },
  {
   "cell_type": "code",
   "execution_count": 75,
   "id": "e459e60d",
   "metadata": {
    "execution": {
     "iopub.execute_input": "2023-01-04T14:32:44.665539Z",
     "iopub.status.busy": "2023-01-04T14:32:44.664798Z",
     "iopub.status.idle": "2023-01-04T14:32:44.692442Z",
     "shell.execute_reply": "2023-01-04T14:32:44.691402Z"
    },
    "papermill": {
     "duration": 0.117743,
     "end_time": "2023-01-04T14:32:44.695186",
     "exception": false,
     "start_time": "2023-01-04T14:32:44.577443",
     "status": "completed"
    },
    "tags": []
   },
   "outputs": [],
   "source": [
    "res = tf.math.confusion_matrix(y_test, result)"
   ]
  },
  {
   "cell_type": "code",
   "execution_count": 76,
   "id": "3417897c",
   "metadata": {
    "execution": {
     "iopub.execute_input": "2023-01-04T14:32:44.871237Z",
     "iopub.status.busy": "2023-01-04T14:32:44.870178Z",
     "iopub.status.idle": "2023-01-04T14:32:44.877024Z",
     "shell.execute_reply": "2023-01-04T14:32:44.875599Z"
    },
    "papermill": {
     "duration": 0.096621,
     "end_time": "2023-01-04T14:32:44.879245",
     "exception": false,
     "start_time": "2023-01-04T14:32:44.782624",
     "status": "completed"
    },
    "tags": []
   },
   "outputs": [
    {
     "name": "stdout",
     "output_type": "stream",
     "text": [
      "tf.Tensor(\n",
      "[[4637  324]\n",
      " [1485 3554]], shape=(2, 2), dtype=int32)\n"
     ]
    }
   ],
   "source": [
    "print(res)"
   ]
  },
  {
   "cell_type": "code",
   "execution_count": 77,
   "id": "c7f68351",
   "metadata": {
    "execution": {
     "iopub.execute_input": "2023-01-04T14:32:45.052415Z",
     "iopub.status.busy": "2023-01-04T14:32:45.051247Z",
     "iopub.status.idle": "2023-01-04T14:32:45.059175Z",
     "shell.execute_reply": "2023-01-04T14:32:45.058106Z"
    },
    "papermill": {
     "duration": 0.096323,
     "end_time": "2023-01-04T14:32:45.061436",
     "exception": false,
     "start_time": "2023-01-04T14:32:44.965113",
     "status": "completed"
    },
    "tags": []
   },
   "outputs": [
    {
     "data": {
      "text/plain": [
       "[[4637, 324], [1485, 3554]]"
      ]
     },
     "execution_count": 77,
     "metadata": {},
     "output_type": "execute_result"
    }
   ],
   "source": [
    "# precision\n",
    "from tensorflow.python.ops.numpy_ops import np_config \n",
    "np_config.enable_numpy_behavior()\n",
    "res.tolist()\n",
    "\n"
   ]
  },
  {
   "cell_type": "code",
   "execution_count": 78,
   "id": "01fcd467",
   "metadata": {
    "execution": {
     "iopub.execute_input": "2023-01-04T14:32:45.234412Z",
     "iopub.status.busy": "2023-01-04T14:32:45.233992Z",
     "iopub.status.idle": "2023-01-04T14:32:45.246195Z",
     "shell.execute_reply": "2023-01-04T14:32:45.245170Z"
    },
    "papermill": {
     "duration": 0.101744,
     "end_time": "2023-01-04T14:32:45.248505",
     "exception": false,
     "start_time": "2023-01-04T14:32:45.146761",
     "status": "completed"
    },
    "tags": []
   },
   "outputs": [
    {
     "data": {
      "text/plain": [
       "<tf.Tensor: shape=(), dtype=float64, numpy=0.7052986703711054>"
      ]
     },
     "execution_count": 78,
     "metadata": {},
     "output_type": "execute_result"
    }
   ],
   "source": [
    "# precision\n",
    "res[1,1]/(res[1,1]+res[1,0])"
   ]
  },
  {
   "cell_type": "code",
   "execution_count": 79,
   "id": "5843e78b",
   "metadata": {
    "execution": {
     "iopub.execute_input": "2023-01-04T14:32:45.425371Z",
     "iopub.status.busy": "2023-01-04T14:32:45.424965Z",
     "iopub.status.idle": "2023-01-04T14:32:45.434358Z",
     "shell.execute_reply": "2023-01-04T14:32:45.433210Z"
    },
    "papermill": {
     "duration": 0.102197,
     "end_time": "2023-01-04T14:32:45.436916",
     "exception": false,
     "start_time": "2023-01-04T14:32:45.334719",
     "status": "completed"
    },
    "tags": []
   },
   "outputs": [
    {
     "data": {
      "text/plain": [
       "<tf.Tensor: shape=(), dtype=float64, numpy=0.9164517792676637>"
      ]
     },
     "execution_count": 79,
     "metadata": {},
     "output_type": "execute_result"
    }
   ],
   "source": [
    "#recall \n",
    "res[1,1]/(res[1,1]+res[0,1])"
   ]
  },
  {
   "cell_type": "markdown",
   "id": "b5e560ac",
   "metadata": {
    "papermill": {
     "duration": 0.085952,
     "end_time": "2023-01-04T14:32:45.611639",
     "exception": false,
     "start_time": "2023-01-04T14:32:45.525687",
     "status": "completed"
    },
    "tags": []
   },
   "source": [
    "# Discussion\n",
    "\n",
    "* The model reached >99% test and validation accuracy within first 20 epoch\n",
    "* Standardization of features reduced most of the \"Loss spikes\". Scatterplot of features vs labels shows like negative class has less info than positive class. \"Loss spikes\" still occurs per ~50 epochs but each occurence has a lower magnitude. \n",
    "* One hot encoding was used in this study so this model suffers from the curse of dimensionality. Word2Vec may further improve the model performance."
   ]
  },
  {
   "cell_type": "markdown",
   "id": "f184f4b1",
   "metadata": {
    "papermill": {
     "duration": 0.08558,
     "end_time": "2023-01-04T14:32:45.784000",
     "exception": false,
     "start_time": "2023-01-04T14:32:45.698420",
     "status": "completed"
    },
    "tags": []
   },
   "source": [
    "# Reference\n",
    "https://www.tensorflow.org/tutorials/keras/overfit_and_underfit"
   ]
  },
  {
   "cell_type": "markdown",
   "id": "834fc525",
   "metadata": {
    "papermill": {
     "duration": 0.085583,
     "end_time": "2023-01-04T14:32:45.955999",
     "exception": false,
     "start_time": "2023-01-04T14:32:45.870416",
     "status": "completed"
    },
    "tags": []
   },
   "source": [
    "# Remarks\n",
    "Thank you for checking by. \n",
    "I look forward for any feedbacks :) "
   ]
  }
 ],
 "metadata": {
  "kernelspec": {
   "display_name": "Python 3",
   "language": "python",
   "name": "python3"
  },
  "language_info": {
   "codemirror_mode": {
    "name": "ipython",
    "version": 3
   },
   "file_extension": ".py",
   "mimetype": "text/x-python",
   "name": "python",
   "nbconvert_exporter": "python",
   "pygments_lexer": "ipython3",
   "version": "3.7.12"
  },
  "papermill": {
   "default_parameters": {},
   "duration": 427.533144,
   "end_time": "2023-01-04T14:32:49.684035",
   "environment_variables": {},
   "exception": null,
   "input_path": "__notebook__.ipynb",
   "output_path": "__notebook__.ipynb",
   "parameters": {},
   "start_time": "2023-01-04T14:25:42.150891",
   "version": "2.3.4"
  }
 },
 "nbformat": 4,
 "nbformat_minor": 5
}
