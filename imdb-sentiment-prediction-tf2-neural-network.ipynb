{
 "cells": [
  {
   "cell_type": "markdown",
   "id": "8df455da",
   "metadata": {
    "papermill": {
     "duration": 0.024047,
     "end_time": "2023-01-04T14:25:51.326241",
     "exception": false,
     "start_time": "2023-01-04T14:25:51.302194",
     "status": "completed"
    },
    "tags": []
   },
   "source": [
    "# IMDB Dataset of 50K Movie Reviews \n",
    "\n",
    "Welcome to the notebook on building a prediction model in classifying sentiments from movie reviews with TensorFlow 2.0 :D\n"
   ]
  },
  {
   "cell_type": "markdown",
   "id": "5ea114b5",
   "metadata": {
    "papermill": {
     "duration": 0.019159,
     "end_time": "2023-01-04T14:25:51.365573",
     "exception": false,
     "start_time": "2023-01-04T14:25:51.346414",
     "status": "completed"
    },
    "tags": []
   },
   "source": [
    "# Dataset\n",
    "This IMDB dataset was published by Maas et al for binary sentiment classification studies. It contains 50k movie reviews in English and is considered as haviing more data from some other datasets. The dataset provides 50000 highly polar movie reviews and sentiment labels (positive/negative)\n",
    "\n",
    "For the original dataset and paper please read Learning Word Vectors for Sentiment Analysis (Maas et al., ACL2011) http://ai.stanford.edu/~amaas/data/sentiment/\n",
    "# Method\n",
    "Sentiment labels were transformed into binary labels (0,1). Movie reviews were tokenized with gensim functionality by mapping words to the top 5000 frequent words in the reviews. The tokenized reviews were one hot encoded and standardized. A artifical neural network with 2 hidden layers was constructed and compiled. To reduce overfitting, adam (adaptative moment estimated) was used to adjust learning rate. Dropout and early stopping were adopted as well. The resultant model has test accuracy of ~85% with >0.9 recall and >0.7 precision. "
   ]
  },
  {
   "cell_type": "markdown",
   "id": "f702094c",
   "metadata": {
    "papermill": {
     "duration": 0.019526,
     "end_time": "2023-01-04T14:25:51.408252",
     "exception": false,
     "start_time": "2023-01-04T14:25:51.388726",
     "status": "completed"
    },
    "tags": []
   },
   "source": [
    "# Hardware check"
   ]
  },
  {
   "cell_type": "code",
   "execution_count": 1,
   "id": "6b0ab20f",
   "metadata": {
    "papermill": {
     "duration": 0.039537,
     "end_time": "2023-01-04T14:25:51.468343",
     "exception": false,
     "start_time": "2023-01-04T14:25:51.428806",
     "status": "completed"
    },
    "tags": []
   },
   "outputs": [
    {
     "name": "stdout",
     "output_type": "stream",
     "text": [
      "44.8\n",
      "svmem(total=17092800512, available=9824571392, percent=42.5, used=7268229120, free=9824571392)\n",
      "memory % used: 42.5\n"
     ]
    }
   ],
   "source": [
    "from __future__ import print_function\n",
    "import psutil\n",
    "print(psutil.cpu_percent())\n",
    "print(psutil.virtual_memory())  # physical memory usage\n",
    "print('memory % used:', psutil.virtual_memory()[2])"
   ]
  },
  {
   "cell_type": "code",
   "execution_count": 2,
   "id": "a40a79c8",
   "metadata": {
    "papermill": {
     "duration": 5.775324,
     "end_time": "2023-01-04T14:25:57.264229",
     "exception": false,
     "start_time": "2023-01-04T14:25:51.488905",
     "status": "completed"
    },
    "tags": []
   },
   "outputs": [
    {
     "name": "stdout",
     "output_type": "stream",
     "text": [
      "Num GPUs Available:  1\n"
     ]
    }
   ],
   "source": [
    "import tensorflow as tf\n",
    "print(\"Num GPUs Available: \", len(tf.config.list_physical_devices('GPU')))"
   ]
  },
  {
   "cell_type": "markdown",
   "id": "5840d906",
   "metadata": {
    "papermill": {
     "duration": 0.019181,
     "end_time": "2023-01-04T14:25:57.304595",
     "exception": false,
     "start_time": "2023-01-04T14:25:57.285414",
     "status": "completed"
    },
    "tags": []
   },
   "source": [
    "# Import modules"
   ]
  },
  {
   "cell_type": "code",
   "execution_count": 3,
   "id": "25296645",
   "metadata": {
    "papermill": {
     "duration": 23.404801,
     "end_time": "2023-01-04T14:26:20.730362",
     "exception": false,
     "start_time": "2023-01-04T14:25:57.325561",
     "status": "completed"
    },
    "tags": []
   },
   "outputs": [
    {
     "name": "stdout",
     "output_type": "stream",
     "text": [
      "Collecting git+https://github.com/tensorflow/docs\n",
      "  Cloning https://github.com/tensorflow/docs to c:\\users\\user\\appdata\\local\\temp\\pip-req-build-xgva7vj0\n",
      "  Resolved https://github.com/tensorflow/docs to commit c122ccf47ee4c49d604b52dc728f8bffb5a05d8f\n",
      "  Preparing metadata (setup.py): started\n",
      "  Preparing metadata (setup.py): finished with status 'done'\n",
      "Requirement already satisfied: astor in c:\\users\\user\\miniconda3\\envs\\venv2\\lib\\site-packages (from tensorflow-docs==0.0.0.dev0) (0.8.1)\n",
      "Requirement already satisfied: absl-py in c:\\users\\user\\miniconda3\\envs\\venv2\\lib\\site-packages (from tensorflow-docs==0.0.0.dev0) (1.2.0)\n",
      "Requirement already satisfied: jinja2 in c:\\users\\user\\miniconda3\\envs\\venv2\\lib\\site-packages (from tensorflow-docs==0.0.0.dev0) (3.1.2)\n",
      "Requirement already satisfied: nbformat in c:\\users\\user\\miniconda3\\envs\\venv2\\lib\\site-packages (from tensorflow-docs==0.0.0.dev0) (5.4.0)\n",
      "Requirement already satisfied: protobuf<3.20,>=3.12.0 in c:\\users\\user\\miniconda3\\envs\\venv2\\lib\\site-packages (from tensorflow-docs==0.0.0.dev0) (3.19.4)\n",
      "Requirement already satisfied: pyyaml in c:\\users\\user\\miniconda3\\envs\\venv2\\lib\\site-packages (from tensorflow-docs==0.0.0.dev0) (6.0)\n",
      "Requirement already satisfied: MarkupSafe>=2.0 in c:\\users\\user\\miniconda3\\envs\\venv2\\lib\\site-packages (from jinja2->tensorflow-docs==0.0.0.dev0) (2.1.1)\n",
      "Requirement already satisfied: traitlets>=5.1 in c:\\users\\user\\miniconda3\\envs\\venv2\\lib\\site-packages (from nbformat->tensorflow-docs==0.0.0.dev0) (5.7.1)\n",
      "Requirement already satisfied: fastjsonschema in c:\\users\\user\\miniconda3\\envs\\venv2\\lib\\site-packages (from nbformat->tensorflow-docs==0.0.0.dev0) (2.16.1)\n",
      "Requirement already satisfied: jupyter-core in c:\\users\\user\\miniconda3\\envs\\venv2\\lib\\site-packages (from nbformat->tensorflow-docs==0.0.0.dev0) (5.1.0)\n",
      "Requirement already satisfied: jsonschema>=2.6 in c:\\users\\user\\miniconda3\\envs\\venv2\\lib\\site-packages (from nbformat->tensorflow-docs==0.0.0.dev0) (4.7.2)\n",
      "Requirement already satisfied: pyrsistent!=0.17.0,!=0.17.1,!=0.17.2,>=0.14.0 in c:\\users\\user\\miniconda3\\envs\\venv2\\lib\\site-packages (from jsonschema>=2.6->nbformat->tensorflow-docs==0.0.0.dev0) (0.18.1)\n",
      "Requirement already satisfied: attrs>=17.4.0 in c:\\users\\user\\miniconda3\\envs\\venv2\\lib\\site-packages (from jsonschema>=2.6->nbformat->tensorflow-docs==0.0.0.dev0) (21.4.0)\n",
      "Requirement already satisfied: platformdirs>=2.5 in c:\\users\\user\\miniconda3\\envs\\venv2\\lib\\site-packages (from jupyter-core->nbformat->tensorflow-docs==0.0.0.dev0) (2.6.0)\n",
      "Requirement already satisfied: pywin32>=1.0 in c:\\users\\user\\miniconda3\\envs\\venv2\\lib\\site-packages (from jupyter-core->nbformat->tensorflow-docs==0.0.0.dev0) (304)\n"
     ]
    },
    {
     "name": "stderr",
     "output_type": "stream",
     "text": [
      "  Running command git clone --filter=blob:none --quiet https://github.com/tensorflow/docs 'C:\\Users\\User\\AppData\\Local\\Temp\\pip-req-build-xgva7vj0'\n"
     ]
    }
   ],
   "source": [
    "!pip install git+https://github.com/tensorflow/docs"
   ]
  },
  {
   "cell_type": "code",
   "execution_count": 4,
   "id": "a9e2b13d",
   "metadata": {
    "papermill": {
     "duration": 3.468831,
     "end_time": "2023-01-04T14:26:24.221118",
     "exception": false,
     "start_time": "2023-01-04T14:26:20.752287",
     "status": "completed"
    },
    "tags": []
   },
   "outputs": [
    {
     "name": "stderr",
     "output_type": "stream",
     "text": [
      "[nltk_data] Downloading package punkt to\n",
      "[nltk_data]     C:\\Users\\User\\AppData\\Roaming\\nltk_data...\n",
      "[nltk_data]   Package punkt is already up-to-date!\n"
     ]
    },
    {
     "data": {
      "text/plain": [
       "True"
      ]
     },
     "execution_count": 4,
     "metadata": {},
     "output_type": "execute_result"
    }
   ],
   "source": [
    "import numpy as np\n",
    "import pandas as pd\n",
    "import matplotlib.pyplot as plt\n",
    "import seaborn as sns\n",
    "import nltk\n",
    "from gensim.corpora.dictionary import Dictionary as gdict\n",
    "from sklearn.preprocessing import StandardScaler\n",
    "from sklearn.model_selection import train_test_split\n",
    "import tensorflow as tf\n",
    "import tensorflow_docs as tfdocs\n",
    "import tensorflow_docs.modeling\n",
    "import tensorflow_docs.plots\n",
    "import pathlib\n",
    "import shutil\n",
    "import tempfile\n",
    "import gc\n",
    "\n",
    "nltk.download('punkt')"
   ]
  },
  {
   "cell_type": "code",
   "execution_count": 5,
   "id": "09525810",
   "metadata": {
    "papermill": {
     "duration": 0.030461,
     "end_time": "2023-01-04T14:26:24.272823",
     "exception": false,
     "start_time": "2023-01-04T14:26:24.242362",
     "status": "completed"
    },
    "tags": []
   },
   "outputs": [],
   "source": [
    "logdir = pathlib.Path(tempfile.mkdtemp())/\"tensorboard_logs\"\n",
    "shutil.rmtree(logdir, ignore_errors=True)"
   ]
  },
  {
   "cell_type": "code",
   "execution_count": 9,
   "id": "721db2c5",
   "metadata": {
    "papermill": {
     "duration": 0.029214,
     "end_time": "2023-01-04T14:26:24.323086",
     "exception": false,
     "start_time": "2023-01-04T14:26:24.293872",
     "status": "completed"
    },
    "tags": []
   },
   "outputs": [],
   "source": [
    "# uncomment this cell to run locally\n",
    "df_raw = pd.read_csv('IMDBDataset.csv')"
   ]
  },
  {
   "cell_type": "code",
   "execution_count": 10,
   "id": "85aa58f1",
   "metadata": {
    "papermill": {
     "duration": 0.036014,
     "end_time": "2023-01-04T14:26:24.379820",
     "exception": false,
     "start_time": "2023-01-04T14:26:24.343806",
     "status": "completed"
    },
    "tags": []
   },
   "outputs": [
    {
     "data": {
      "text/plain": [
       "\"\\nimport os\\nfor dirname, _, filenames in os.walk('/kaggle/input'):\\n    for filename in filenames:\\n        print(os.path.join(dirname, filename))\\n\""
      ]
     },
     "execution_count": 10,
     "metadata": {},
     "output_type": "execute_result"
    }
   ],
   "source": [
    "# uncomment this cell to run on kaggle\n",
    "\n",
    "'''\n",
    "import os\n",
    "for dirname, _, filenames in os.walk('/kaggle/input'):\n",
    "    for filename in filenames:\n",
    "        print(os.path.join(dirname, filename))\n",
    "'''"
   ]
  },
  {
   "cell_type": "code",
   "execution_count": 11,
   "id": "4c85a720",
   "metadata": {
    "papermill": {
     "duration": 1.645114,
     "end_time": "2023-01-04T14:26:26.045948",
     "exception": false,
     "start_time": "2023-01-04T14:26:24.400834",
     "status": "completed"
    },
    "tags": []
   },
   "outputs": [],
   "source": [
    "#df_raw = pd.read_csv(\"/kaggle/input/imdb-dataset-of-50k-movie-reviews/IMDB Dataset.csv\")"
   ]
  },
  {
   "cell_type": "code",
   "execution_count": 12,
   "id": "71ec7252",
   "metadata": {
    "papermill": {
     "duration": 0.032876,
     "end_time": "2023-01-04T14:26:26.100212",
     "exception": false,
     "start_time": "2023-01-04T14:26:26.067336",
     "status": "completed"
    },
    "tags": []
   },
   "outputs": [
    {
     "data": {
      "text/plain": [
       "(50000, 2)"
      ]
     },
     "execution_count": 12,
     "metadata": {},
     "output_type": "execute_result"
    }
   ],
   "source": [
    "df_raw.shape"
   ]
  },
  {
   "cell_type": "code",
   "execution_count": 13,
   "id": "2d8003be",
   "metadata": {
    "papermill": {
     "duration": 0.045309,
     "end_time": "2023-01-04T14:26:26.167290",
     "exception": false,
     "start_time": "2023-01-04T14:26:26.121981",
     "status": "completed"
    },
    "tags": []
   },
   "outputs": [
    {
     "data": {
      "text/html": [
       "<div>\n",
       "<style scoped>\n",
       "    .dataframe tbody tr th:only-of-type {\n",
       "        vertical-align: middle;\n",
       "    }\n",
       "\n",
       "    .dataframe tbody tr th {\n",
       "        vertical-align: top;\n",
       "    }\n",
       "\n",
       "    .dataframe thead th {\n",
       "        text-align: right;\n",
       "    }\n",
       "</style>\n",
       "<table border=\"1\" class=\"dataframe\">\n",
       "  <thead>\n",
       "    <tr style=\"text-align: right;\">\n",
       "      <th></th>\n",
       "      <th>review</th>\n",
       "      <th>sentiment</th>\n",
       "    </tr>\n",
       "  </thead>\n",
       "  <tbody>\n",
       "    <tr>\n",
       "      <th>0</th>\n",
       "      <td>One of the other reviewers has mentioned that ...</td>\n",
       "      <td>positive</td>\n",
       "    </tr>\n",
       "    <tr>\n",
       "      <th>1</th>\n",
       "      <td>A wonderful little production. &lt;br /&gt;&lt;br /&gt;The...</td>\n",
       "      <td>positive</td>\n",
       "    </tr>\n",
       "    <tr>\n",
       "      <th>2</th>\n",
       "      <td>I thought this was a wonderful way to spend ti...</td>\n",
       "      <td>positive</td>\n",
       "    </tr>\n",
       "    <tr>\n",
       "      <th>3</th>\n",
       "      <td>Basically there's a family where a little boy ...</td>\n",
       "      <td>negative</td>\n",
       "    </tr>\n",
       "    <tr>\n",
       "      <th>4</th>\n",
       "      <td>Petter Mattei's \"Love in the Time of Money\" is...</td>\n",
       "      <td>positive</td>\n",
       "    </tr>\n",
       "  </tbody>\n",
       "</table>\n",
       "</div>"
      ],
      "text/plain": [
       "                                              review sentiment\n",
       "0  One of the other reviewers has mentioned that ...  positive\n",
       "1  A wonderful little production. <br /><br />The...  positive\n",
       "2  I thought this was a wonderful way to spend ti...  positive\n",
       "3  Basically there's a family where a little boy ...  negative\n",
       "4  Petter Mattei's \"Love in the Time of Money\" is...  positive"
      ]
     },
     "execution_count": 13,
     "metadata": {},
     "output_type": "execute_result"
    }
   ],
   "source": [
    "df_raw.head()"
   ]
  },
  {
   "cell_type": "code",
   "execution_count": 14,
   "id": "dbac2618",
   "metadata": {
    "papermill": {
     "duration": 0.043845,
     "end_time": "2023-01-04T14:26:26.232346",
     "exception": false,
     "start_time": "2023-01-04T14:26:26.188501",
     "status": "completed"
    },
    "tags": []
   },
   "outputs": [
    {
     "data": {
      "text/plain": [
       "positive    25000\n",
       "negative    25000\n",
       "Name: sentiment, dtype: int64"
      ]
     },
     "execution_count": 14,
     "metadata": {},
     "output_type": "execute_result"
    }
   ],
   "source": [
    "df_raw['sentiment'].value_counts()"
   ]
  },
  {
   "cell_type": "markdown",
   "id": "ed8738bd",
   "metadata": {
    "papermill": {
     "duration": 0.021385,
     "end_time": "2023-01-04T14:26:26.275280",
     "exception": false,
     "start_time": "2023-01-04T14:26:26.253895",
     "status": "completed"
    },
    "tags": []
   },
   "source": [
    "# Data preparation"
   ]
  },
  {
   "cell_type": "code",
   "execution_count": 15,
   "id": "aeb8de56",
   "metadata": {
    "papermill": {
     "duration": 0.031202,
     "end_time": "2023-01-04T14:26:26.328356",
     "exception": false,
     "start_time": "2023-01-04T14:26:26.297154",
     "status": "completed"
    },
    "tags": []
   },
   "outputs": [],
   "source": [
    "df = df_raw.copy()"
   ]
  },
  {
   "cell_type": "code",
   "execution_count": 16,
   "id": "bd20a374",
   "metadata": {
    "papermill": {
     "duration": 0.042195,
     "end_time": "2023-01-04T14:26:26.392142",
     "exception": false,
     "start_time": "2023-01-04T14:26:26.349947",
     "status": "completed"
    },
    "tags": []
   },
   "outputs": [],
   "source": [
    "# map sentiment into binary variables\n",
    "\n",
    "binary_map =  {'negative':0, 'positive': 1}\n",
    "df['sentiment'] = df['sentiment'].map(binary_map)"
   ]
  },
  {
   "cell_type": "code",
   "execution_count": 17,
   "id": "e6c70a00",
   "metadata": {
    "papermill": {
     "duration": 0.031896,
     "end_time": "2023-01-04T14:26:26.445839",
     "exception": false,
     "start_time": "2023-01-04T14:26:26.413943",
     "status": "completed"
    },
    "tags": []
   },
   "outputs": [],
   "source": [
    "reviews_raw = df['review']"
   ]
  },
  {
   "cell_type": "code",
   "execution_count": 18,
   "id": "3b1a2a5c",
   "metadata": {
    "papermill": {
     "duration": 0.03773,
     "end_time": "2023-01-04T14:26:26.504898",
     "exception": false,
     "start_time": "2023-01-04T14:26:26.467168",
     "status": "completed"
    },
    "tags": []
   },
   "outputs": [
    {
     "data": {
      "text/plain": [
       "0        One of the other reviewers has mentioned that ...\n",
       "1        A wonderful little production. <br /><br />The...\n",
       "2        I thought this was a wonderful way to spend ti...\n",
       "3        Basically there's a family where a little boy ...\n",
       "4        Petter Mattei's \"Love in the Time of Money\" is...\n",
       "                               ...                        \n",
       "49995    I thought this movie did a down right good job...\n",
       "49996    Bad plot, bad dialogue, bad acting, idiotic di...\n",
       "49997    I am a Catholic taught in parochial elementary...\n",
       "49998    I'm going to have to disagree with the previou...\n",
       "49999    No one expects the Star Trek movies to be high...\n",
       "Name: review, Length: 50000, dtype: object"
      ]
     },
     "execution_count": 18,
     "metadata": {},
     "output_type": "execute_result"
    }
   ],
   "source": [
    "reviews_raw"
   ]
  },
  {
   "cell_type": "code",
   "execution_count": 19,
   "id": "6ca96254",
   "metadata": {
    "papermill": {
     "duration": 0.034144,
     "end_time": "2023-01-04T14:26:26.560582",
     "exception": false,
     "start_time": "2023-01-04T14:26:26.526438",
     "status": "completed"
    },
    "tags": []
   },
   "outputs": [
    {
     "data": {
      "text/plain": [
       "1    25000\n",
       "0    25000\n",
       "Name: sentiment, dtype: int64"
      ]
     },
     "execution_count": 19,
     "metadata": {},
     "output_type": "execute_result"
    }
   ],
   "source": [
    "df['sentiment'].value_counts()"
   ]
  },
  {
   "cell_type": "code",
   "execution_count": 20,
   "id": "bb7a3a84",
   "metadata": {
    "papermill": {
     "duration": 0.032194,
     "end_time": "2023-01-04T14:26:26.614433",
     "exception": false,
     "start_time": "2023-01-04T14:26:26.582239",
     "status": "completed"
    },
    "tags": []
   },
   "outputs": [],
   "source": [
    "def convert_lower(text):\n",
    "    return text.lower()"
   ]
  },
  {
   "cell_type": "code",
   "execution_count": 21,
   "id": "a50c0440",
   "metadata": {
    "papermill": {
     "duration": 0.180067,
     "end_time": "2023-01-04T14:26:26.816467",
     "exception": false,
     "start_time": "2023-01-04T14:26:26.636400",
     "status": "completed"
    },
    "tags": []
   },
   "outputs": [],
   "source": [
    "df['review'] = df['review'].apply(convert_lower)"
   ]
  },
  {
   "cell_type": "code",
   "execution_count": 22,
   "id": "851ecb9a",
   "metadata": {
    "papermill": {
     "duration": 0.036533,
     "end_time": "2023-01-04T14:26:26.874558",
     "exception": false,
     "start_time": "2023-01-04T14:26:26.838025",
     "status": "completed"
    },
    "tags": []
   },
   "outputs": [
    {
     "data": {
      "text/html": [
       "<div>\n",
       "<style scoped>\n",
       "    .dataframe tbody tr th:only-of-type {\n",
       "        vertical-align: middle;\n",
       "    }\n",
       "\n",
       "    .dataframe tbody tr th {\n",
       "        vertical-align: top;\n",
       "    }\n",
       "\n",
       "    .dataframe thead th {\n",
       "        text-align: right;\n",
       "    }\n",
       "</style>\n",
       "<table border=\"1\" class=\"dataframe\">\n",
       "  <thead>\n",
       "    <tr style=\"text-align: right;\">\n",
       "      <th></th>\n",
       "      <th>review</th>\n",
       "      <th>sentiment</th>\n",
       "    </tr>\n",
       "  </thead>\n",
       "  <tbody>\n",
       "    <tr>\n",
       "      <th>0</th>\n",
       "      <td>one of the other reviewers has mentioned that ...</td>\n",
       "      <td>1</td>\n",
       "    </tr>\n",
       "    <tr>\n",
       "      <th>1</th>\n",
       "      <td>a wonderful little production. &lt;br /&gt;&lt;br /&gt;the...</td>\n",
       "      <td>1</td>\n",
       "    </tr>\n",
       "    <tr>\n",
       "      <th>2</th>\n",
       "      <td>i thought this was a wonderful way to spend ti...</td>\n",
       "      <td>1</td>\n",
       "    </tr>\n",
       "    <tr>\n",
       "      <th>3</th>\n",
       "      <td>basically there's a family where a little boy ...</td>\n",
       "      <td>0</td>\n",
       "    </tr>\n",
       "    <tr>\n",
       "      <th>4</th>\n",
       "      <td>petter mattei's \"love in the time of money\" is...</td>\n",
       "      <td>1</td>\n",
       "    </tr>\n",
       "  </tbody>\n",
       "</table>\n",
       "</div>"
      ],
      "text/plain": [
       "                                              review  sentiment\n",
       "0  one of the other reviewers has mentioned that ...          1\n",
       "1  a wonderful little production. <br /><br />the...          1\n",
       "2  i thought this was a wonderful way to spend ti...          1\n",
       "3  basically there's a family where a little boy ...          0\n",
       "4  petter mattei's \"love in the time of money\" is...          1"
      ]
     },
     "execution_count": 22,
     "metadata": {},
     "output_type": "execute_result"
    }
   ],
   "source": [
    "df.head()"
   ]
  },
  {
   "cell_type": "code",
   "execution_count": 23,
   "id": "ed3cb61a",
   "metadata": {
    "papermill": {
     "duration": 0.236802,
     "end_time": "2023-01-04T14:26:27.133081",
     "exception": false,
     "start_time": "2023-01-04T14:26:26.896279",
     "status": "completed"
    },
    "tags": []
   },
   "outputs": [
    {
     "data": {
      "text/plain": [
       "371"
      ]
     },
     "execution_count": 23,
     "metadata": {},
     "output_type": "execute_result"
    }
   ],
   "source": [
    "del df_raw\n",
    "del reviews_raw\n",
    "gc.collect()"
   ]
  },
  {
   "cell_type": "markdown",
   "id": "25560243",
   "metadata": {
    "papermill": {
     "duration": 0.021769,
     "end_time": "2023-01-04T14:26:27.176953",
     "exception": false,
     "start_time": "2023-01-04T14:26:27.155184",
     "status": "completed"
    },
    "tags": []
   },
   "source": [
    "# Tokenize to map the words into integers"
   ]
  },
  {
   "cell_type": "code",
   "execution_count": 24,
   "id": "adace42e",
   "metadata": {
    "papermill": {
     "duration": 1.523253,
     "end_time": "2023-01-04T14:26:28.721840",
     "exception": false,
     "start_time": "2023-01-04T14:26:27.198587",
     "status": "completed"
    },
    "tags": []
   },
   "outputs": [],
   "source": [
    "df[\"review\"] = df[\"review\"].map(lambda x: x.split(' '))"
   ]
  },
  {
   "cell_type": "code",
   "execution_count": 25,
   "id": "63baf09c",
   "metadata": {
    "papermill": {
     "duration": 20.122184,
     "end_time": "2023-01-04T14:26:48.866121",
     "exception": false,
     "start_time": "2023-01-04T14:26:28.743937",
     "status": "completed"
    },
    "tags": []
   },
   "outputs": [],
   "source": [
    "my_dict = gdict(df['review'])"
   ]
  },
  {
   "cell_type": "code",
   "execution_count": 26,
   "id": "ad886b4f",
   "metadata": {
    "papermill": {
     "duration": 0.037302,
     "end_time": "2023-01-04T14:26:48.926817",
     "exception": false,
     "start_time": "2023-01-04T14:26:48.889515",
     "status": "completed"
    },
    "tags": []
   },
   "outputs": [
    {
     "data": {
      "text/plain": [
       "392053"
      ]
     },
     "execution_count": 26,
     "metadata": {},
     "output_type": "execute_result"
    }
   ],
   "source": [
    "len(my_dict)"
   ]
  },
  {
   "cell_type": "code",
   "execution_count": 27,
   "id": "784bb83b",
   "metadata": {
    "papermill": {
     "duration": 1.153234,
     "end_time": "2023-01-04T14:26:50.106484",
     "exception": false,
     "start_time": "2023-01-04T14:26:48.953250",
     "status": "completed"
    },
    "tags": []
   },
   "outputs": [],
   "source": [
    "my_dict.filter_extremes(no_below=1, no_above=1, keep_n=5000)"
   ]
  },
  {
   "cell_type": "code",
   "execution_count": 28,
   "id": "18798a1d",
   "metadata": {
    "papermill": {
     "duration": 7.783851,
     "end_time": "2023-01-04T14:26:57.913087",
     "exception": false,
     "start_time": "2023-01-04T14:26:50.129236",
     "status": "completed"
    },
    "tags": []
   },
   "outputs": [],
   "source": [
    "df[\"bow\"] = df[\"review\"].map(my_dict.doc2bow)"
   ]
  },
  {
   "cell_type": "code",
   "execution_count": 29,
   "id": "b38a9374",
   "metadata": {
    "papermill": {
     "duration": 0.166204,
     "end_time": "2023-01-04T14:26:58.101156",
     "exception": false,
     "start_time": "2023-01-04T14:26:57.934952",
     "status": "completed"
    },
    "tags": []
   },
   "outputs": [
    {
     "data": {
      "text/html": [
       "<div>\n",
       "<style scoped>\n",
       "    .dataframe tbody tr th:only-of-type {\n",
       "        vertical-align: middle;\n",
       "    }\n",
       "\n",
       "    .dataframe tbody tr th {\n",
       "        vertical-align: top;\n",
       "    }\n",
       "\n",
       "    .dataframe thead th {\n",
       "        text-align: right;\n",
       "    }\n",
       "</style>\n",
       "<table border=\"1\" class=\"dataframe\">\n",
       "  <thead>\n",
       "    <tr style=\"text-align: right;\">\n",
       "      <th></th>\n",
       "      <th>review</th>\n",
       "      <th>sentiment</th>\n",
       "      <th>bow</th>\n",
       "    </tr>\n",
       "  </thead>\n",
       "  <tbody>\n",
       "    <tr>\n",
       "      <th>0</th>\n",
       "      <td>[one, of, the, other, reviewers, has, mentione...</td>\n",
       "      <td>1</td>\n",
       "      <td>[(0, 3), (1, 1), (2, 1), (3, 1), (4, 1), (5, 3...</td>\n",
       "    </tr>\n",
       "    <tr>\n",
       "      <th>1</th>\n",
       "      <td>[a, wonderful, little, production., &lt;br, /&gt;&lt;br...</td>\n",
       "      <td>1</td>\n",
       "      <td>[(0, 3), (3, 3), (5, 4), (6, 1), (8, 2), (10, ...</td>\n",
       "    </tr>\n",
       "    <tr>\n",
       "      <th>2</th>\n",
       "      <td>[i, thought, this, was, a, wonderful, way, to,...</td>\n",
       "      <td>1</td>\n",
       "      <td>[(0, 2), (5, 6), (10, 4), (12, 1), (16, 2), (1...</td>\n",
       "    </tr>\n",
       "    <tr>\n",
       "      <th>3</th>\n",
       "      <td>[basically, there's, a, family, where, a, litt...</td>\n",
       "      <td>0</td>\n",
       "      <td>[(0, 3), (5, 10), (8, 3), (10, 4), (12, 2), (1...</td>\n",
       "    </tr>\n",
       "    <tr>\n",
       "      <th>4</th>\n",
       "      <td>[petter, mattei's, \"love, in, the, time, of, m...</td>\n",
       "      <td>1</td>\n",
       "      <td>[(0, 4), (3, 2), (5, 6), (6, 2), (8, 2), (10, ...</td>\n",
       "    </tr>\n",
       "  </tbody>\n",
       "</table>\n",
       "</div>"
      ],
      "text/plain": [
       "                                              review  sentiment  \\\n",
       "0  [one, of, the, other, reviewers, has, mentione...          1   \n",
       "1  [a, wonderful, little, production., <br, /><br...          1   \n",
       "2  [i, thought, this, was, a, wonderful, way, to,...          1   \n",
       "3  [basically, there's, a, family, where, a, litt...          0   \n",
       "4  [petter, mattei's, \"love, in, the, time, of, m...          1   \n",
       "\n",
       "                                                 bow  \n",
       "0  [(0, 3), (1, 1), (2, 1), (3, 1), (4, 1), (5, 3...  \n",
       "1  [(0, 3), (3, 3), (5, 4), (6, 1), (8, 2), (10, ...  \n",
       "2  [(0, 2), (5, 6), (10, 4), (12, 1), (16, 2), (1...  \n",
       "3  [(0, 3), (5, 10), (8, 3), (10, 4), (12, 2), (1...  \n",
       "4  [(0, 4), (3, 2), (5, 6), (6, 2), (8, 2), (10, ...  "
      ]
     },
     "execution_count": 29,
     "metadata": {},
     "output_type": "execute_result"
    }
   ],
   "source": [
    "df.head()"
   ]
  },
  {
   "cell_type": "code",
   "execution_count": 30,
   "id": "21ba1ba4",
   "metadata": {
    "papermill": {
     "duration": 63.915879,
     "end_time": "2023-01-04T14:28:02.039358",
     "exception": false,
     "start_time": "2023-01-04T14:26:58.123479",
     "status": "completed"
    },
    "tags": []
   },
   "outputs": [],
   "source": [
    "df2 = pd.concat([pd.DataFrame(s).set_index(0) for s in df[\"bow\"]], axis=1).fillna(0).T.set_index(df.index)"
   ]
  },
  {
   "cell_type": "code",
   "execution_count": 31,
   "id": "c937e805",
   "metadata": {
    "papermill": {
     "duration": 0.06115,
     "end_time": "2023-01-04T14:28:02.123313",
     "exception": false,
     "start_time": "2023-01-04T14:28:02.062163",
     "status": "completed"
    },
    "tags": []
   },
   "outputs": [
    {
     "data": {
      "text/html": [
       "<div>\n",
       "<style scoped>\n",
       "    .dataframe tbody tr th:only-of-type {\n",
       "        vertical-align: middle;\n",
       "    }\n",
       "\n",
       "    .dataframe tbody tr th {\n",
       "        vertical-align: top;\n",
       "    }\n",
       "\n",
       "    .dataframe thead th {\n",
       "        text-align: right;\n",
       "    }\n",
       "</style>\n",
       "<table border=\"1\" class=\"dataframe\">\n",
       "  <thead>\n",
       "    <tr style=\"text-align: right;\">\n",
       "      <th></th>\n",
       "      <th>0</th>\n",
       "      <th>1</th>\n",
       "      <th>2</th>\n",
       "      <th>3</th>\n",
       "      <th>4</th>\n",
       "      <th>5</th>\n",
       "      <th>6</th>\n",
       "      <th>7</th>\n",
       "      <th>8</th>\n",
       "      <th>9</th>\n",
       "      <th>...</th>\n",
       "      <th>4990</th>\n",
       "      <th>4991</th>\n",
       "      <th>4992</th>\n",
       "      <th>4993</th>\n",
       "      <th>4994</th>\n",
       "      <th>4995</th>\n",
       "      <th>4996</th>\n",
       "      <th>4997</th>\n",
       "      <th>4998</th>\n",
       "      <th>4999</th>\n",
       "    </tr>\n",
       "  </thead>\n",
       "  <tbody>\n",
       "    <tr>\n",
       "      <th>0</th>\n",
       "      <td>3.0</td>\n",
       "      <td>1.0</td>\n",
       "      <td>1.0</td>\n",
       "      <td>1.0</td>\n",
       "      <td>1.0</td>\n",
       "      <td>3.0</td>\n",
       "      <td>1.0</td>\n",
       "      <td>1.0</td>\n",
       "      <td>1.0</td>\n",
       "      <td>1.0</td>\n",
       "      <td>...</td>\n",
       "      <td>0.0</td>\n",
       "      <td>0.0</td>\n",
       "      <td>0.0</td>\n",
       "      <td>0.0</td>\n",
       "      <td>0.0</td>\n",
       "      <td>0.0</td>\n",
       "      <td>0.0</td>\n",
       "      <td>0.0</td>\n",
       "      <td>0.0</td>\n",
       "      <td>0.0</td>\n",
       "    </tr>\n",
       "    <tr>\n",
       "      <th>1</th>\n",
       "      <td>3.0</td>\n",
       "      <td>0.0</td>\n",
       "      <td>0.0</td>\n",
       "      <td>3.0</td>\n",
       "      <td>0.0</td>\n",
       "      <td>4.0</td>\n",
       "      <td>1.0</td>\n",
       "      <td>0.0</td>\n",
       "      <td>2.0</td>\n",
       "      <td>0.0</td>\n",
       "      <td>...</td>\n",
       "      <td>0.0</td>\n",
       "      <td>0.0</td>\n",
       "      <td>0.0</td>\n",
       "      <td>0.0</td>\n",
       "      <td>0.0</td>\n",
       "      <td>0.0</td>\n",
       "      <td>0.0</td>\n",
       "      <td>0.0</td>\n",
       "      <td>0.0</td>\n",
       "      <td>0.0</td>\n",
       "    </tr>\n",
       "    <tr>\n",
       "      <th>2</th>\n",
       "      <td>2.0</td>\n",
       "      <td>0.0</td>\n",
       "      <td>0.0</td>\n",
       "      <td>0.0</td>\n",
       "      <td>0.0</td>\n",
       "      <td>6.0</td>\n",
       "      <td>0.0</td>\n",
       "      <td>0.0</td>\n",
       "      <td>0.0</td>\n",
       "      <td>0.0</td>\n",
       "      <td>...</td>\n",
       "      <td>0.0</td>\n",
       "      <td>0.0</td>\n",
       "      <td>0.0</td>\n",
       "      <td>0.0</td>\n",
       "      <td>0.0</td>\n",
       "      <td>0.0</td>\n",
       "      <td>0.0</td>\n",
       "      <td>0.0</td>\n",
       "      <td>0.0</td>\n",
       "      <td>0.0</td>\n",
       "    </tr>\n",
       "    <tr>\n",
       "      <th>3</th>\n",
       "      <td>3.0</td>\n",
       "      <td>0.0</td>\n",
       "      <td>0.0</td>\n",
       "      <td>0.0</td>\n",
       "      <td>0.0</td>\n",
       "      <td>10.0</td>\n",
       "      <td>0.0</td>\n",
       "      <td>0.0</td>\n",
       "      <td>3.0</td>\n",
       "      <td>0.0</td>\n",
       "      <td>...</td>\n",
       "      <td>0.0</td>\n",
       "      <td>0.0</td>\n",
       "      <td>0.0</td>\n",
       "      <td>0.0</td>\n",
       "      <td>0.0</td>\n",
       "      <td>0.0</td>\n",
       "      <td>0.0</td>\n",
       "      <td>0.0</td>\n",
       "      <td>0.0</td>\n",
       "      <td>0.0</td>\n",
       "    </tr>\n",
       "    <tr>\n",
       "      <th>4</th>\n",
       "      <td>4.0</td>\n",
       "      <td>0.0</td>\n",
       "      <td>0.0</td>\n",
       "      <td>2.0</td>\n",
       "      <td>0.0</td>\n",
       "      <td>6.0</td>\n",
       "      <td>2.0</td>\n",
       "      <td>0.0</td>\n",
       "      <td>2.0</td>\n",
       "      <td>0.0</td>\n",
       "      <td>...</td>\n",
       "      <td>0.0</td>\n",
       "      <td>0.0</td>\n",
       "      <td>0.0</td>\n",
       "      <td>0.0</td>\n",
       "      <td>0.0</td>\n",
       "      <td>0.0</td>\n",
       "      <td>0.0</td>\n",
       "      <td>0.0</td>\n",
       "      <td>0.0</td>\n",
       "      <td>0.0</td>\n",
       "    </tr>\n",
       "  </tbody>\n",
       "</table>\n",
       "<p>5 rows × 5000 columns</p>\n",
       "</div>"
      ],
      "text/plain": [
       "0  0     1     2     3     4     5     6     7     8     9     ...  4990  \\\n",
       "0   3.0   1.0   1.0   1.0   1.0   3.0   1.0   1.0   1.0   1.0  ...   0.0   \n",
       "1   3.0   0.0   0.0   3.0   0.0   4.0   1.0   0.0   2.0   0.0  ...   0.0   \n",
       "2   2.0   0.0   0.0   0.0   0.0   6.0   0.0   0.0   0.0   0.0  ...   0.0   \n",
       "3   3.0   0.0   0.0   0.0   0.0  10.0   0.0   0.0   3.0   0.0  ...   0.0   \n",
       "4   4.0   0.0   0.0   2.0   0.0   6.0   2.0   0.0   2.0   0.0  ...   0.0   \n",
       "\n",
       "0  4991  4992  4993  4994  4995  4996  4997  4998  4999  \n",
       "0   0.0   0.0   0.0   0.0   0.0   0.0   0.0   0.0   0.0  \n",
       "1   0.0   0.0   0.0   0.0   0.0   0.0   0.0   0.0   0.0  \n",
       "2   0.0   0.0   0.0   0.0   0.0   0.0   0.0   0.0   0.0  \n",
       "3   0.0   0.0   0.0   0.0   0.0   0.0   0.0   0.0   0.0  \n",
       "4   0.0   0.0   0.0   0.0   0.0   0.0   0.0   0.0   0.0  \n",
       "\n",
       "[5 rows x 5000 columns]"
      ]
     },
     "execution_count": 31,
     "metadata": {},
     "output_type": "execute_result"
    }
   ],
   "source": [
    "df2.head()"
   ]
  },
  {
   "cell_type": "code",
   "execution_count": 32,
   "id": "5de70d3d",
   "metadata": {
    "papermill": {
     "duration": 0.55368,
     "end_time": "2023-01-04T14:28:02.699466",
     "exception": false,
     "start_time": "2023-01-04T14:28:02.145786",
     "status": "completed"
    },
    "tags": []
   },
   "outputs": [
    {
     "data": {
      "text/html": [
       "<div>\n",
       "<style scoped>\n",
       "    .dataframe tbody tr th:only-of-type {\n",
       "        vertical-align: middle;\n",
       "    }\n",
       "\n",
       "    .dataframe tbody tr th {\n",
       "        vertical-align: top;\n",
       "    }\n",
       "\n",
       "    .dataframe thead th {\n",
       "        text-align: right;\n",
       "    }\n",
       "</style>\n",
       "<table border=\"1\" class=\"dataframe\">\n",
       "  <thead>\n",
       "    <tr style=\"text-align: right;\">\n",
       "      <th></th>\n",
       "      <th>0</th>\n",
       "      <th>1</th>\n",
       "      <th>2</th>\n",
       "      <th>3</th>\n",
       "      <th>4</th>\n",
       "      <th>5</th>\n",
       "      <th>6</th>\n",
       "      <th>7</th>\n",
       "      <th>8</th>\n",
       "      <th>9</th>\n",
       "      <th>...</th>\n",
       "      <th>4990</th>\n",
       "      <th>4991</th>\n",
       "      <th>4992</th>\n",
       "      <th>4993</th>\n",
       "      <th>4994</th>\n",
       "      <th>4995</th>\n",
       "      <th>4996</th>\n",
       "      <th>4997</th>\n",
       "      <th>4998</th>\n",
       "      <th>4999</th>\n",
       "    </tr>\n",
       "  </thead>\n",
       "  <tbody>\n",
       "    <tr>\n",
       "      <th>0</th>\n",
       "      <td>3</td>\n",
       "      <td>1</td>\n",
       "      <td>1</td>\n",
       "      <td>1</td>\n",
       "      <td>1</td>\n",
       "      <td>3</td>\n",
       "      <td>1</td>\n",
       "      <td>1</td>\n",
       "      <td>1</td>\n",
       "      <td>1</td>\n",
       "      <td>...</td>\n",
       "      <td>0</td>\n",
       "      <td>0</td>\n",
       "      <td>0</td>\n",
       "      <td>0</td>\n",
       "      <td>0</td>\n",
       "      <td>0</td>\n",
       "      <td>0</td>\n",
       "      <td>0</td>\n",
       "      <td>0</td>\n",
       "      <td>0</td>\n",
       "    </tr>\n",
       "    <tr>\n",
       "      <th>1</th>\n",
       "      <td>3</td>\n",
       "      <td>0</td>\n",
       "      <td>0</td>\n",
       "      <td>3</td>\n",
       "      <td>0</td>\n",
       "      <td>4</td>\n",
       "      <td>1</td>\n",
       "      <td>0</td>\n",
       "      <td>2</td>\n",
       "      <td>0</td>\n",
       "      <td>...</td>\n",
       "      <td>0</td>\n",
       "      <td>0</td>\n",
       "      <td>0</td>\n",
       "      <td>0</td>\n",
       "      <td>0</td>\n",
       "      <td>0</td>\n",
       "      <td>0</td>\n",
       "      <td>0</td>\n",
       "      <td>0</td>\n",
       "      <td>0</td>\n",
       "    </tr>\n",
       "    <tr>\n",
       "      <th>2</th>\n",
       "      <td>2</td>\n",
       "      <td>0</td>\n",
       "      <td>0</td>\n",
       "      <td>0</td>\n",
       "      <td>0</td>\n",
       "      <td>6</td>\n",
       "      <td>0</td>\n",
       "      <td>0</td>\n",
       "      <td>0</td>\n",
       "      <td>0</td>\n",
       "      <td>...</td>\n",
       "      <td>0</td>\n",
       "      <td>0</td>\n",
       "      <td>0</td>\n",
       "      <td>0</td>\n",
       "      <td>0</td>\n",
       "      <td>0</td>\n",
       "      <td>0</td>\n",
       "      <td>0</td>\n",
       "      <td>0</td>\n",
       "      <td>0</td>\n",
       "    </tr>\n",
       "    <tr>\n",
       "      <th>3</th>\n",
       "      <td>3</td>\n",
       "      <td>0</td>\n",
       "      <td>0</td>\n",
       "      <td>0</td>\n",
       "      <td>0</td>\n",
       "      <td>10</td>\n",
       "      <td>0</td>\n",
       "      <td>0</td>\n",
       "      <td>3</td>\n",
       "      <td>0</td>\n",
       "      <td>...</td>\n",
       "      <td>0</td>\n",
       "      <td>0</td>\n",
       "      <td>0</td>\n",
       "      <td>0</td>\n",
       "      <td>0</td>\n",
       "      <td>0</td>\n",
       "      <td>0</td>\n",
       "      <td>0</td>\n",
       "      <td>0</td>\n",
       "      <td>0</td>\n",
       "    </tr>\n",
       "    <tr>\n",
       "      <th>4</th>\n",
       "      <td>4</td>\n",
       "      <td>0</td>\n",
       "      <td>0</td>\n",
       "      <td>2</td>\n",
       "      <td>0</td>\n",
       "      <td>6</td>\n",
       "      <td>2</td>\n",
       "      <td>0</td>\n",
       "      <td>2</td>\n",
       "      <td>0</td>\n",
       "      <td>...</td>\n",
       "      <td>0</td>\n",
       "      <td>0</td>\n",
       "      <td>0</td>\n",
       "      <td>0</td>\n",
       "      <td>0</td>\n",
       "      <td>0</td>\n",
       "      <td>0</td>\n",
       "      <td>0</td>\n",
       "      <td>0</td>\n",
       "      <td>0</td>\n",
       "    </tr>\n",
       "    <tr>\n",
       "      <th>...</th>\n",
       "      <td>...</td>\n",
       "      <td>...</td>\n",
       "      <td>...</td>\n",
       "      <td>...</td>\n",
       "      <td>...</td>\n",
       "      <td>...</td>\n",
       "      <td>...</td>\n",
       "      <td>...</td>\n",
       "      <td>...</td>\n",
       "      <td>...</td>\n",
       "      <td>...</td>\n",
       "      <td>...</td>\n",
       "      <td>...</td>\n",
       "      <td>...</td>\n",
       "      <td>...</td>\n",
       "      <td>...</td>\n",
       "      <td>...</td>\n",
       "      <td>...</td>\n",
       "      <td>...</td>\n",
       "      <td>...</td>\n",
       "      <td>...</td>\n",
       "    </tr>\n",
       "    <tr>\n",
       "      <th>49995</th>\n",
       "      <td>2</td>\n",
       "      <td>0</td>\n",
       "      <td>0</td>\n",
       "      <td>0</td>\n",
       "      <td>0</td>\n",
       "      <td>5</td>\n",
       "      <td>1</td>\n",
       "      <td>0</td>\n",
       "      <td>0</td>\n",
       "      <td>0</td>\n",
       "      <td>...</td>\n",
       "      <td>0</td>\n",
       "      <td>0</td>\n",
       "      <td>0</td>\n",
       "      <td>0</td>\n",
       "      <td>0</td>\n",
       "      <td>0</td>\n",
       "      <td>0</td>\n",
       "      <td>0</td>\n",
       "      <td>0</td>\n",
       "      <td>0</td>\n",
       "    </tr>\n",
       "    <tr>\n",
       "      <th>49996</th>\n",
       "      <td>2</td>\n",
       "      <td>0</td>\n",
       "      <td>0</td>\n",
       "      <td>1</td>\n",
       "      <td>0</td>\n",
       "      <td>3</td>\n",
       "      <td>0</td>\n",
       "      <td>0</td>\n",
       "      <td>1</td>\n",
       "      <td>0</td>\n",
       "      <td>...</td>\n",
       "      <td>0</td>\n",
       "      <td>0</td>\n",
       "      <td>0</td>\n",
       "      <td>0</td>\n",
       "      <td>0</td>\n",
       "      <td>0</td>\n",
       "      <td>0</td>\n",
       "      <td>0</td>\n",
       "      <td>0</td>\n",
       "      <td>0</td>\n",
       "    </tr>\n",
       "    <tr>\n",
       "      <th>49997</th>\n",
       "      <td>2</td>\n",
       "      <td>0</td>\n",
       "      <td>0</td>\n",
       "      <td>0</td>\n",
       "      <td>0</td>\n",
       "      <td>7</td>\n",
       "      <td>0</td>\n",
       "      <td>0</td>\n",
       "      <td>1</td>\n",
       "      <td>1</td>\n",
       "      <td>...</td>\n",
       "      <td>0</td>\n",
       "      <td>0</td>\n",
       "      <td>0</td>\n",
       "      <td>0</td>\n",
       "      <td>0</td>\n",
       "      <td>0</td>\n",
       "      <td>0</td>\n",
       "      <td>0</td>\n",
       "      <td>0</td>\n",
       "      <td>0</td>\n",
       "    </tr>\n",
       "    <tr>\n",
       "      <th>49998</th>\n",
       "      <td>0</td>\n",
       "      <td>0</td>\n",
       "      <td>0</td>\n",
       "      <td>0</td>\n",
       "      <td>0</td>\n",
       "      <td>3</td>\n",
       "      <td>1</td>\n",
       "      <td>0</td>\n",
       "      <td>1</td>\n",
       "      <td>0</td>\n",
       "      <td>...</td>\n",
       "      <td>0</td>\n",
       "      <td>0</td>\n",
       "      <td>0</td>\n",
       "      <td>0</td>\n",
       "      <td>0</td>\n",
       "      <td>0</td>\n",
       "      <td>0</td>\n",
       "      <td>0</td>\n",
       "      <td>0</td>\n",
       "      <td>0</td>\n",
       "    </tr>\n",
       "    <tr>\n",
       "      <th>49999</th>\n",
       "      <td>1</td>\n",
       "      <td>1</td>\n",
       "      <td>0</td>\n",
       "      <td>0</td>\n",
       "      <td>0</td>\n",
       "      <td>3</td>\n",
       "      <td>1</td>\n",
       "      <td>0</td>\n",
       "      <td>1</td>\n",
       "      <td>0</td>\n",
       "      <td>...</td>\n",
       "      <td>0</td>\n",
       "      <td>0</td>\n",
       "      <td>0</td>\n",
       "      <td>0</td>\n",
       "      <td>0</td>\n",
       "      <td>0</td>\n",
       "      <td>0</td>\n",
       "      <td>0</td>\n",
       "      <td>0</td>\n",
       "      <td>0</td>\n",
       "    </tr>\n",
       "  </tbody>\n",
       "</table>\n",
       "<p>50000 rows × 5000 columns</p>\n",
       "</div>"
      ],
      "text/plain": [
       "0      0     1     2     3     4     5     6     7     8     9     ...  4990  \\\n",
       "0         3     1     1     1     1     3     1     1     1     1  ...     0   \n",
       "1         3     0     0     3     0     4     1     0     2     0  ...     0   \n",
       "2         2     0     0     0     0     6     0     0     0     0  ...     0   \n",
       "3         3     0     0     0     0    10     0     0     3     0  ...     0   \n",
       "4         4     0     0     2     0     6     2     0     2     0  ...     0   \n",
       "...     ...   ...   ...   ...   ...   ...   ...   ...   ...   ...  ...   ...   \n",
       "49995     2     0     0     0     0     5     1     0     0     0  ...     0   \n",
       "49996     2     0     0     1     0     3     0     0     1     0  ...     0   \n",
       "49997     2     0     0     0     0     7     0     0     1     1  ...     0   \n",
       "49998     0     0     0     0     0     3     1     0     1     0  ...     0   \n",
       "49999     1     1     0     0     0     3     1     0     1     0  ...     0   \n",
       "\n",
       "0      4991  4992  4993  4994  4995  4996  4997  4998  4999  \n",
       "0         0     0     0     0     0     0     0     0     0  \n",
       "1         0     0     0     0     0     0     0     0     0  \n",
       "2         0     0     0     0     0     0     0     0     0  \n",
       "3         0     0     0     0     0     0     0     0     0  \n",
       "4         0     0     0     0     0     0     0     0     0  \n",
       "...     ...   ...   ...   ...   ...   ...   ...   ...   ...  \n",
       "49995     0     0     0     0     0     0     0     0     0  \n",
       "49996     0     0     0     0     0     0     0     0     0  \n",
       "49997     0     0     0     0     0     0     0     0     0  \n",
       "49998     0     0     0     0     0     0     0     0     0  \n",
       "49999     0     0     0     0     0     0     0     0     0  \n",
       "\n",
       "[50000 rows x 5000 columns]"
      ]
     },
     "execution_count": 32,
     "metadata": {},
     "output_type": "execute_result"
    }
   ],
   "source": [
    "df2.astype('int32')"
   ]
  },
  {
   "cell_type": "code",
   "execution_count": 33,
   "id": "ee17f0c1",
   "metadata": {
    "papermill": {
     "duration": 0.035457,
     "end_time": "2023-01-04T14:28:02.758665",
     "exception": false,
     "start_time": "2023-01-04T14:28:02.723208",
     "status": "completed"
    },
    "tags": []
   },
   "outputs": [
    {
     "data": {
      "text/plain": [
       "(50000, 5000)"
      ]
     },
     "execution_count": 33,
     "metadata": {},
     "output_type": "execute_result"
    }
   ],
   "source": [
    "df2.shape"
   ]
  },
  {
   "cell_type": "code",
   "execution_count": 34,
   "id": "3ace6a4e",
   "metadata": {
    "papermill": {
     "duration": 0.036017,
     "end_time": "2023-01-04T14:28:02.817550",
     "exception": false,
     "start_time": "2023-01-04T14:28:02.781533",
     "status": "completed"
    },
    "tags": []
   },
   "outputs": [
    {
     "data": {
      "text/plain": [
       "0        1\n",
       "1        1\n",
       "2        1\n",
       "3        0\n",
       "4        1\n",
       "        ..\n",
       "49995    1\n",
       "49996    0\n",
       "49997    0\n",
       "49998    0\n",
       "49999    0\n",
       "Name: sentiment, Length: 50000, dtype: int64"
      ]
     },
     "execution_count": 34,
     "metadata": {},
     "output_type": "execute_result"
    }
   ],
   "source": [
    "df['sentiment']"
   ]
  },
  {
   "cell_type": "code",
   "execution_count": 35,
   "id": "01930372",
   "metadata": {
    "papermill": {
     "duration": 0.82782,
     "end_time": "2023-01-04T14:28:03.669182",
     "exception": false,
     "start_time": "2023-01-04T14:28:02.841362",
     "status": "completed"
    },
    "tags": []
   },
   "outputs": [],
   "source": [
    "df_preprocessed = pd.concat([df2,df['sentiment']], axis=1)"
   ]
  },
  {
   "cell_type": "code",
   "execution_count": 36,
   "id": "6c9ed1e8",
   "metadata": {
    "papermill": {
     "duration": 0.245693,
     "end_time": "2023-01-04T14:28:03.938510",
     "exception": false,
     "start_time": "2023-01-04T14:28:03.692817",
     "status": "completed"
    },
    "tags": []
   },
   "outputs": [
    {
     "name": "stdout",
     "output_type": "stream",
     "text": [
      "<class 'pandas.core.frame.DataFrame'>\n",
      "RangeIndex: 50000 entries, 0 to 49999\n",
      "Columns: 5001 entries, 0 to sentiment\n",
      "dtypes: float64(5000), int64(1)\n",
      "memory usage: 1.9 GB\n"
     ]
    }
   ],
   "source": [
    "df_preprocessed.info()"
   ]
  },
  {
   "cell_type": "code",
   "execution_count": 37,
   "id": "3f2b8b83",
   "metadata": {
    "papermill": {
     "duration": 0.063217,
     "end_time": "2023-01-04T14:28:04.025116",
     "exception": false,
     "start_time": "2023-01-04T14:28:03.961899",
     "status": "completed"
    },
    "tags": []
   },
   "outputs": [
    {
     "data": {
      "text/html": [
       "<div>\n",
       "<style scoped>\n",
       "    .dataframe tbody tr th:only-of-type {\n",
       "        vertical-align: middle;\n",
       "    }\n",
       "\n",
       "    .dataframe tbody tr th {\n",
       "        vertical-align: top;\n",
       "    }\n",
       "\n",
       "    .dataframe thead th {\n",
       "        text-align: right;\n",
       "    }\n",
       "</style>\n",
       "<table border=\"1\" class=\"dataframe\">\n",
       "  <thead>\n",
       "    <tr style=\"text-align: right;\">\n",
       "      <th></th>\n",
       "      <th>0</th>\n",
       "      <th>1</th>\n",
       "      <th>2</th>\n",
       "      <th>3</th>\n",
       "      <th>4</th>\n",
       "      <th>5</th>\n",
       "      <th>6</th>\n",
       "      <th>7</th>\n",
       "      <th>8</th>\n",
       "      <th>9</th>\n",
       "      <th>...</th>\n",
       "      <th>4991</th>\n",
       "      <th>4992</th>\n",
       "      <th>4993</th>\n",
       "      <th>4994</th>\n",
       "      <th>4995</th>\n",
       "      <th>4996</th>\n",
       "      <th>4997</th>\n",
       "      <th>4998</th>\n",
       "      <th>4999</th>\n",
       "      <th>sentiment</th>\n",
       "    </tr>\n",
       "  </thead>\n",
       "  <tbody>\n",
       "    <tr>\n",
       "      <th>0</th>\n",
       "      <td>3.0</td>\n",
       "      <td>1.0</td>\n",
       "      <td>1.0</td>\n",
       "      <td>1.0</td>\n",
       "      <td>1.0</td>\n",
       "      <td>3.0</td>\n",
       "      <td>1.0</td>\n",
       "      <td>1.0</td>\n",
       "      <td>1.0</td>\n",
       "      <td>1.0</td>\n",
       "      <td>...</td>\n",
       "      <td>0.0</td>\n",
       "      <td>0.0</td>\n",
       "      <td>0.0</td>\n",
       "      <td>0.0</td>\n",
       "      <td>0.0</td>\n",
       "      <td>0.0</td>\n",
       "      <td>0.0</td>\n",
       "      <td>0.0</td>\n",
       "      <td>0.0</td>\n",
       "      <td>1</td>\n",
       "    </tr>\n",
       "    <tr>\n",
       "      <th>1</th>\n",
       "      <td>3.0</td>\n",
       "      <td>0.0</td>\n",
       "      <td>0.0</td>\n",
       "      <td>3.0</td>\n",
       "      <td>0.0</td>\n",
       "      <td>4.0</td>\n",
       "      <td>1.0</td>\n",
       "      <td>0.0</td>\n",
       "      <td>2.0</td>\n",
       "      <td>0.0</td>\n",
       "      <td>...</td>\n",
       "      <td>0.0</td>\n",
       "      <td>0.0</td>\n",
       "      <td>0.0</td>\n",
       "      <td>0.0</td>\n",
       "      <td>0.0</td>\n",
       "      <td>0.0</td>\n",
       "      <td>0.0</td>\n",
       "      <td>0.0</td>\n",
       "      <td>0.0</td>\n",
       "      <td>1</td>\n",
       "    </tr>\n",
       "    <tr>\n",
       "      <th>2</th>\n",
       "      <td>2.0</td>\n",
       "      <td>0.0</td>\n",
       "      <td>0.0</td>\n",
       "      <td>0.0</td>\n",
       "      <td>0.0</td>\n",
       "      <td>6.0</td>\n",
       "      <td>0.0</td>\n",
       "      <td>0.0</td>\n",
       "      <td>0.0</td>\n",
       "      <td>0.0</td>\n",
       "      <td>...</td>\n",
       "      <td>0.0</td>\n",
       "      <td>0.0</td>\n",
       "      <td>0.0</td>\n",
       "      <td>0.0</td>\n",
       "      <td>0.0</td>\n",
       "      <td>0.0</td>\n",
       "      <td>0.0</td>\n",
       "      <td>0.0</td>\n",
       "      <td>0.0</td>\n",
       "      <td>1</td>\n",
       "    </tr>\n",
       "    <tr>\n",
       "      <th>3</th>\n",
       "      <td>3.0</td>\n",
       "      <td>0.0</td>\n",
       "      <td>0.0</td>\n",
       "      <td>0.0</td>\n",
       "      <td>0.0</td>\n",
       "      <td>10.0</td>\n",
       "      <td>0.0</td>\n",
       "      <td>0.0</td>\n",
       "      <td>3.0</td>\n",
       "      <td>0.0</td>\n",
       "      <td>...</td>\n",
       "      <td>0.0</td>\n",
       "      <td>0.0</td>\n",
       "      <td>0.0</td>\n",
       "      <td>0.0</td>\n",
       "      <td>0.0</td>\n",
       "      <td>0.0</td>\n",
       "      <td>0.0</td>\n",
       "      <td>0.0</td>\n",
       "      <td>0.0</td>\n",
       "      <td>0</td>\n",
       "    </tr>\n",
       "    <tr>\n",
       "      <th>4</th>\n",
       "      <td>4.0</td>\n",
       "      <td>0.0</td>\n",
       "      <td>0.0</td>\n",
       "      <td>2.0</td>\n",
       "      <td>0.0</td>\n",
       "      <td>6.0</td>\n",
       "      <td>2.0</td>\n",
       "      <td>0.0</td>\n",
       "      <td>2.0</td>\n",
       "      <td>0.0</td>\n",
       "      <td>...</td>\n",
       "      <td>0.0</td>\n",
       "      <td>0.0</td>\n",
       "      <td>0.0</td>\n",
       "      <td>0.0</td>\n",
       "      <td>0.0</td>\n",
       "      <td>0.0</td>\n",
       "      <td>0.0</td>\n",
       "      <td>0.0</td>\n",
       "      <td>0.0</td>\n",
       "      <td>1</td>\n",
       "    </tr>\n",
       "  </tbody>\n",
       "</table>\n",
       "<p>5 rows × 5001 columns</p>\n",
       "</div>"
      ],
      "text/plain": [
       "     0    1    2    3    4     5    6    7    8    9  ...  4991  4992  4993  \\\n",
       "0  3.0  1.0  1.0  1.0  1.0   3.0  1.0  1.0  1.0  1.0  ...   0.0   0.0   0.0   \n",
       "1  3.0  0.0  0.0  3.0  0.0   4.0  1.0  0.0  2.0  0.0  ...   0.0   0.0   0.0   \n",
       "2  2.0  0.0  0.0  0.0  0.0   6.0  0.0  0.0  0.0  0.0  ...   0.0   0.0   0.0   \n",
       "3  3.0  0.0  0.0  0.0  0.0  10.0  0.0  0.0  3.0  0.0  ...   0.0   0.0   0.0   \n",
       "4  4.0  0.0  0.0  2.0  0.0   6.0  2.0  0.0  2.0  0.0  ...   0.0   0.0   0.0   \n",
       "\n",
       "   4994  4995  4996  4997  4998  4999  sentiment  \n",
       "0   0.0   0.0   0.0   0.0   0.0   0.0          1  \n",
       "1   0.0   0.0   0.0   0.0   0.0   0.0          1  \n",
       "2   0.0   0.0   0.0   0.0   0.0   0.0          1  \n",
       "3   0.0   0.0   0.0   0.0   0.0   0.0          0  \n",
       "4   0.0   0.0   0.0   0.0   0.0   0.0          1  \n",
       "\n",
       "[5 rows x 5001 columns]"
      ]
     },
     "execution_count": 37,
     "metadata": {},
     "output_type": "execute_result"
    }
   ],
   "source": [
    "df_preprocessed.head()"
   ]
  },
  {
   "cell_type": "code",
   "execution_count": 38,
   "id": "6582e0d5",
   "metadata": {
    "papermill": {
     "duration": 0.598156,
     "end_time": "2023-01-04T14:28:04.646929",
     "exception": false,
     "start_time": "2023-01-04T14:28:04.048773",
     "status": "completed"
    },
    "tags": []
   },
   "outputs": [
    {
     "data": {
      "text/plain": [
       "0"
      ]
     },
     "execution_count": 38,
     "metadata": {},
     "output_type": "execute_result"
    }
   ],
   "source": [
    "del df\n",
    "del df2\n",
    "del my_dict\n",
    "gc.collect()"
   ]
  },
  {
   "cell_type": "markdown",
   "id": "2aadd720",
   "metadata": {
    "papermill": {
     "duration": 0.023228,
     "end_time": "2023-01-04T14:28:04.693643",
     "exception": false,
     "start_time": "2023-01-04T14:28:04.670415",
     "status": "completed"
    },
    "tags": []
   },
   "source": [
    "## Check balance"
   ]
  },
  {
   "cell_type": "code",
   "execution_count": 39,
   "id": "69ba9b0d",
   "metadata": {
    "papermill": {
     "duration": 0.037499,
     "end_time": "2023-01-04T14:28:04.755670",
     "exception": false,
     "start_time": "2023-01-04T14:28:04.718171",
     "status": "completed"
    },
    "tags": []
   },
   "outputs": [
    {
     "data": {
      "text/plain": [
       "1    25000\n",
       "0    25000\n",
       "Name: sentiment, dtype: int64"
      ]
     },
     "execution_count": 39,
     "metadata": {},
     "output_type": "execute_result"
    }
   ],
   "source": [
    "df_preprocessed['sentiment'].value_counts()"
   ]
  },
  {
   "cell_type": "code",
   "execution_count": 40,
   "id": "2c71d7e9",
   "metadata": {
    "papermill": {
     "duration": 1.334393,
     "end_time": "2023-01-04T14:28:06.113522",
     "exception": false,
     "start_time": "2023-01-04T14:28:04.779129",
     "status": "completed"
    },
    "tags": []
   },
   "outputs": [],
   "source": [
    "sum_token = df_preprocessed.iloc[:, :5000].sum(axis=1)"
   ]
  },
  {
   "cell_type": "code",
   "execution_count": 41,
   "id": "83f89e7e",
   "metadata": {
    "papermill": {
     "duration": 0.03952,
     "end_time": "2023-01-04T14:28:06.184002",
     "exception": false,
     "start_time": "2023-01-04T14:28:06.144482",
     "status": "completed"
    },
    "tags": []
   },
   "outputs": [],
   "source": [
    "df_check_token_balanced = pd.concat([sum_token, df_preprocessed['sentiment']], axis=1)"
   ]
  },
  {
   "cell_type": "code",
   "execution_count": 42,
   "id": "8a07f0b5",
   "metadata": {
    "papermill": {
     "duration": 0.039811,
     "end_time": "2023-01-04T14:28:06.255697",
     "exception": false,
     "start_time": "2023-01-04T14:28:06.215886",
     "status": "completed"
    },
    "tags": []
   },
   "outputs": [
    {
     "data": {
      "text/plain": [
       "Index([0, 'sentiment'], dtype='object')"
      ]
     },
     "execution_count": 42,
     "metadata": {},
     "output_type": "execute_result"
    }
   ],
   "source": [
    "df_check_token_balanced.columns"
   ]
  },
  {
   "cell_type": "code",
   "execution_count": 43,
   "id": "958a83f0",
   "metadata": {
    "papermill": {
     "duration": 0.040139,
     "end_time": "2023-01-04T14:28:06.326653",
     "exception": false,
     "start_time": "2023-01-04T14:28:06.286514",
     "status": "completed"
    },
    "tags": []
   },
   "outputs": [
    {
     "data": {
      "text/plain": [
       "array([116.,   0.])"
      ]
     },
     "execution_count": 43,
     "metadata": {},
     "output_type": "execute_result"
    }
   ],
   "source": [
    "df_check_token_balanced.iloc[-1].unique()"
   ]
  },
  {
   "cell_type": "code",
   "execution_count": 44,
   "id": "0734f665",
   "metadata": {
    "papermill": {
     "duration": 0.044102,
     "end_time": "2023-01-04T14:28:06.394729",
     "exception": false,
     "start_time": "2023-01-04T14:28:06.350627",
     "status": "completed"
    },
    "tags": []
   },
   "outputs": [
    {
     "data": {
      "text/plain": [
       "0       sentiment\n",
       "117.0   1            212\n",
       "115.0   0            210\n",
       "111.0   0            207\n",
       "113.0   0            202\n",
       "119.0   0            197\n",
       "                    ... \n",
       "740.0   0              1\n",
       "741.0   1              1\n",
       "743.0   1              1\n",
       "744.0   1              1\n",
       "1909.0  1              1\n",
       "Length: 1676, dtype: int64"
      ]
     },
     "execution_count": 44,
     "metadata": {},
     "output_type": "execute_result"
    }
   ],
   "source": [
    "df_check_token_balanced.value_counts()"
   ]
  },
  {
   "cell_type": "code",
   "execution_count": 45,
   "id": "cf027873",
   "metadata": {
    "papermill": {
     "duration": 0.038092,
     "end_time": "2023-01-04T14:28:06.467533",
     "exception": false,
     "start_time": "2023-01-04T14:28:06.429441",
     "status": "completed"
    },
    "tags": []
   },
   "outputs": [],
   "source": [
    "df_check_token_balanced.columns =['sum_token', 'sentiment']"
   ]
  },
  {
   "cell_type": "code",
   "execution_count": 46,
   "id": "2410562b",
   "metadata": {
    "papermill": {
     "duration": 0.040365,
     "end_time": "2023-01-04T14:28:06.532920",
     "exception": false,
     "start_time": "2023-01-04T14:28:06.492555",
     "status": "completed"
    },
    "tags": []
   },
   "outputs": [
    {
     "data": {
      "text/html": [
       "<div>\n",
       "<style scoped>\n",
       "    .dataframe tbody tr th:only-of-type {\n",
       "        vertical-align: middle;\n",
       "    }\n",
       "\n",
       "    .dataframe tbody tr th {\n",
       "        vertical-align: top;\n",
       "    }\n",
       "\n",
       "    .dataframe thead th {\n",
       "        text-align: right;\n",
       "    }\n",
       "</style>\n",
       "<table border=\"1\" class=\"dataframe\">\n",
       "  <thead>\n",
       "    <tr style=\"text-align: right;\">\n",
       "      <th></th>\n",
       "      <th>sum_token</th>\n",
       "      <th>sentiment</th>\n",
       "    </tr>\n",
       "  </thead>\n",
       "  <tbody>\n",
       "    <tr>\n",
       "      <th>0</th>\n",
       "      <td>248.0</td>\n",
       "      <td>1</td>\n",
       "    </tr>\n",
       "    <tr>\n",
       "      <th>1</th>\n",
       "      <td>133.0</td>\n",
       "      <td>1</td>\n",
       "    </tr>\n",
       "    <tr>\n",
       "      <th>2</th>\n",
       "      <td>140.0</td>\n",
       "      <td>1</td>\n",
       "    </tr>\n",
       "    <tr>\n",
       "      <th>3</th>\n",
       "      <td>117.0</td>\n",
       "      <td>0</td>\n",
       "    </tr>\n",
       "    <tr>\n",
       "      <th>4</th>\n",
       "      <td>193.0</td>\n",
       "      <td>1</td>\n",
       "    </tr>\n",
       "  </tbody>\n",
       "</table>\n",
       "</div>"
      ],
      "text/plain": [
       "   sum_token  sentiment\n",
       "0      248.0          1\n",
       "1      133.0          1\n",
       "2      140.0          1\n",
       "3      117.0          0\n",
       "4      193.0          1"
      ]
     },
     "execution_count": 46,
     "metadata": {},
     "output_type": "execute_result"
    }
   ],
   "source": [
    "df_check_token_balanced.head()"
   ]
  },
  {
   "cell_type": "code",
   "execution_count": 47,
   "id": "49fae448",
   "metadata": {
    "papermill": {
     "duration": 0.895246,
     "end_time": "2023-01-04T14:28:07.452788",
     "exception": false,
     "start_time": "2023-01-04T14:28:06.557542",
     "status": "completed"
    },
    "tags": []
   },
   "outputs": [
    {
     "data": {
      "text/plain": [
       "<AxesSubplot:xlabel='sentiment', ylabel='sum_token'>"
      ]
     },
     "execution_count": 47,
     "metadata": {},
     "output_type": "execute_result"
    },
    {
     "data": {
      "image/png": "[encoded data removed]",
      "text/plain": [
       "<Figure size 432x288 with 1 Axes>"
      ]
     },
     "metadata": {
      "needs_background": "light"
     },
     "output_type": "display_data"
    }
   ],
   "source": [
    "sns.barplot(data = df_check_token_balanced, x = \"sentiment\" , y =\"sum_token\")"
   ]
  },
  {
   "cell_type": "code",
   "execution_count": 48,
   "id": "a0665f0c",
   "metadata": {
    "papermill": {
     "duration": 0.446383,
     "end_time": "2023-01-04T14:28:07.925976",
     "exception": false,
     "start_time": "2023-01-04T14:28:07.479593",
     "status": "completed"
    },
    "tags": []
   },
   "outputs": [
    {
     "data": {
      "text/plain": [
       "<AxesSubplot:xlabel='sentiment', ylabel='sum_token'>"
      ]
     },
     "execution_count": 48,
     "metadata": {},
     "output_type": "execute_result"
    },
    {
     "data": {
      "image/png": "[encoded data removed]",
      "text/plain": [
       "<Figure size 432x288 with 1 Axes>"
      ]
     },
     "metadata": {
      "needs_background": "light"
     },
     "output_type": "display_data"
    }
   ],
   "source": [
    "sns.scatterplot(data = df_check_token_balanced, x = \"sentiment\" , y =\"sum_token\")"
   ]
  },
  {
   "cell_type": "code",
   "execution_count": 49,
   "id": "78667167",
   "metadata": {
    "papermill": {
     "duration": 0.03335,
     "end_time": "2023-01-04T14:28:07.984181",
     "exception": false,
     "start_time": "2023-01-04T14:28:07.950831",
     "status": "completed"
    },
    "tags": []
   },
   "outputs": [],
   "source": [
    "# this line takes 5mins+ and may use up all memories\n",
    "# df_preprocessed.to_csv('data_processed.csv', header=0)"
   ]
  },
  {
   "cell_type": "code",
   "execution_count": 50,
   "id": "5e0044e7",
   "metadata": {
    "papermill": {
     "duration": 0.617625,
     "end_time": "2023-01-04T14:28:08.626915",
     "exception": false,
     "start_time": "2023-01-04T14:28:08.009290",
     "status": "completed"
    },
    "tags": []
   },
   "outputs": [
    {
     "data": {
      "text/plain": [
       "0"
      ]
     },
     "execution_count": 50,
     "metadata": {},
     "output_type": "execute_result"
    }
   ],
   "source": [
    "del df_check_token_balanced\n",
    "gc.collect()"
   ]
  },
  {
   "cell_type": "markdown",
   "id": "c63192a0",
   "metadata": {
    "papermill": {
     "duration": 0.026251,
     "end_time": "2023-01-04T14:28:08.678466",
     "exception": false,
     "start_time": "2023-01-04T14:28:08.652215",
     "status": "completed"
    },
    "tags": []
   },
   "source": [
    "# Declaring observations and targets"
   ]
  },
  {
   "cell_type": "code",
   "execution_count": 51,
   "id": "8a597c5f",
   "metadata": {
    "papermill": {
     "duration": 0.03623,
     "end_time": "2023-01-04T14:28:08.742491",
     "exception": false,
     "start_time": "2023-01-04T14:28:08.706261",
     "status": "completed"
    },
    "tags": []
   },
   "outputs": [
    {
     "data": {
      "text/plain": [
       "(50000, 5001)"
      ]
     },
     "execution_count": 51,
     "metadata": {},
     "output_type": "execute_result"
    }
   ],
   "source": [
    "df_preprocessed.shape"
   ]
  },
  {
   "cell_type": "code",
   "execution_count": 52,
   "id": "f1ef0ea8",
   "metadata": {
    "papermill": {
     "duration": 0.434282,
     "end_time": "2023-01-04T14:28:09.202689",
     "exception": false,
     "start_time": "2023-01-04T14:28:08.768407",
     "status": "completed"
    },
    "tags": []
   },
   "outputs": [],
   "source": [
    "df_preprocessed = df_preprocessed.astype('float32')"
   ]
  },
  {
   "cell_type": "code",
   "execution_count": 53,
   "id": "d62fa6ef",
   "metadata": {
    "papermill": {
     "duration": 0.034356,
     "end_time": "2023-01-04T14:28:09.262739",
     "exception": false,
     "start_time": "2023-01-04T14:28:09.228383",
     "status": "completed"
    },
    "tags": []
   },
   "outputs": [],
   "source": [
    "#df_preprocessed.iloc[-1]"
   ]
  },
  {
   "cell_type": "code",
   "execution_count": 54,
   "id": "967e0f32",
   "metadata": {
    "papermill": {
     "duration": 0.330901,
     "end_time": "2023-01-04T14:28:09.619206",
     "exception": false,
     "start_time": "2023-01-04T14:28:09.288305",
     "status": "completed"
    },
    "tags": []
   },
   "outputs": [],
   "source": [
    "X = df_preprocessed.iloc[:, :5000]"
   ]
  },
  {
   "cell_type": "code",
   "execution_count": 55,
   "id": "38141781",
   "metadata": {
    "papermill": {
     "duration": 0.035092,
     "end_time": "2023-01-04T14:28:09.680966",
     "exception": false,
     "start_time": "2023-01-04T14:28:09.645874",
     "status": "completed"
    },
    "tags": []
   },
   "outputs": [],
   "source": [
    "y = df_preprocessed.iloc[:, -1].copy()"
   ]
  },
  {
   "cell_type": "code",
   "execution_count": 56,
   "id": "316531c1",
   "metadata": {
    "papermill": {
     "duration": 0.059224,
     "end_time": "2023-01-04T14:28:09.765593",
     "exception": false,
     "start_time": "2023-01-04T14:28:09.706369",
     "status": "completed"
    },
    "tags": []
   },
   "outputs": [
    {
     "data": {
      "text/html": [
       "<div>\n",
       "<style scoped>\n",
       "    .dataframe tbody tr th:only-of-type {\n",
       "        vertical-align: middle;\n",
       "    }\n",
       "\n",
       "    .dataframe tbody tr th {\n",
       "        vertical-align: top;\n",
       "    }\n",
       "\n",
       "    .dataframe thead th {\n",
       "        text-align: right;\n",
       "    }\n",
       "</style>\n",
       "<table border=\"1\" class=\"dataframe\">\n",
       "  <thead>\n",
       "    <tr style=\"text-align: right;\">\n",
       "      <th></th>\n",
       "      <th>0</th>\n",
       "      <th>1</th>\n",
       "      <th>2</th>\n",
       "      <th>3</th>\n",
       "      <th>4</th>\n",
       "      <th>5</th>\n",
       "      <th>6</th>\n",
       "      <th>7</th>\n",
       "      <th>8</th>\n",
       "      <th>9</th>\n",
       "      <th>...</th>\n",
       "      <th>4990</th>\n",
       "      <th>4991</th>\n",
       "      <th>4992</th>\n",
       "      <th>4993</th>\n",
       "      <th>4994</th>\n",
       "      <th>4995</th>\n",
       "      <th>4996</th>\n",
       "      <th>4997</th>\n",
       "      <th>4998</th>\n",
       "      <th>4999</th>\n",
       "    </tr>\n",
       "  </thead>\n",
       "  <tbody>\n",
       "    <tr>\n",
       "      <th>0</th>\n",
       "      <td>3.0</td>\n",
       "      <td>1.0</td>\n",
       "      <td>1.0</td>\n",
       "      <td>1.0</td>\n",
       "      <td>1.0</td>\n",
       "      <td>3.0</td>\n",
       "      <td>1.0</td>\n",
       "      <td>1.0</td>\n",
       "      <td>1.0</td>\n",
       "      <td>1.0</td>\n",
       "      <td>...</td>\n",
       "      <td>0.0</td>\n",
       "      <td>0.0</td>\n",
       "      <td>0.0</td>\n",
       "      <td>0.0</td>\n",
       "      <td>0.0</td>\n",
       "      <td>0.0</td>\n",
       "      <td>0.0</td>\n",
       "      <td>0.0</td>\n",
       "      <td>0.0</td>\n",
       "      <td>0.0</td>\n",
       "    </tr>\n",
       "    <tr>\n",
       "      <th>1</th>\n",
       "      <td>3.0</td>\n",
       "      <td>0.0</td>\n",
       "      <td>0.0</td>\n",
       "      <td>3.0</td>\n",
       "      <td>0.0</td>\n",
       "      <td>4.0</td>\n",
       "      <td>1.0</td>\n",
       "      <td>0.0</td>\n",
       "      <td>2.0</td>\n",
       "      <td>0.0</td>\n",
       "      <td>...</td>\n",
       "      <td>0.0</td>\n",
       "      <td>0.0</td>\n",
       "      <td>0.0</td>\n",
       "      <td>0.0</td>\n",
       "      <td>0.0</td>\n",
       "      <td>0.0</td>\n",
       "      <td>0.0</td>\n",
       "      <td>0.0</td>\n",
       "      <td>0.0</td>\n",
       "      <td>0.0</td>\n",
       "    </tr>\n",
       "  </tbody>\n",
       "</table>\n",
       "<p>2 rows × 5000 columns</p>\n",
       "</div>"
      ],
      "text/plain": [
       "   0     1     2     3     4     5     6     7     8     9     ...  4990  \\\n",
       "0   3.0   1.0   1.0   1.0   1.0   3.0   1.0   1.0   1.0   1.0  ...   0.0   \n",
       "1   3.0   0.0   0.0   3.0   0.0   4.0   1.0   0.0   2.0   0.0  ...   0.0   \n",
       "\n",
       "   4991  4992  4993  4994  4995  4996  4997  4998  4999  \n",
       "0   0.0   0.0   0.0   0.0   0.0   0.0   0.0   0.0   0.0  \n",
       "1   0.0   0.0   0.0   0.0   0.0   0.0   0.0   0.0   0.0  \n",
       "\n",
       "[2 rows x 5000 columns]"
      ]
     },
     "execution_count": 56,
     "metadata": {},
     "output_type": "execute_result"
    }
   ],
   "source": [
    "X.head(2)"
   ]
  },
  {
   "cell_type": "code",
   "execution_count": 57,
   "id": "a0119d82",
   "metadata": {
    "papermill": {
     "duration": 0.03896,
     "end_time": "2023-01-04T14:28:09.829893",
     "exception": false,
     "start_time": "2023-01-04T14:28:09.790933",
     "status": "completed"
    },
    "tags": []
   },
   "outputs": [
    {
     "data": {
      "text/plain": [
       "0    1.0\n",
       "1    1.0\n",
       "Name: sentiment, dtype: float32"
      ]
     },
     "execution_count": 57,
     "metadata": {},
     "output_type": "execute_result"
    }
   ],
   "source": [
    "y.head(2)"
   ]
  },
  {
   "cell_type": "code",
   "execution_count": 58,
   "id": "100dbf08",
   "metadata": {
    "papermill": {
     "duration": 0.592652,
     "end_time": "2023-01-04T14:28:10.449034",
     "exception": false,
     "start_time": "2023-01-04T14:28:09.856382",
     "status": "completed"
    },
    "tags": []
   },
   "outputs": [
    {
     "data": {
      "text/plain": [
       "753"
      ]
     },
     "execution_count": 58,
     "metadata": {},
     "output_type": "execute_result"
    }
   ],
   "source": [
    "del df_preprocessed\n",
    "gc.collect()"
   ]
  },
  {
   "cell_type": "markdown",
   "id": "095cef29",
   "metadata": {
    "papermill": {
     "duration": 0.025102,
     "end_time": "2023-01-04T14:28:14.180253",
     "exception": false,
     "start_time": "2023-01-04T14:28:14.155151",
     "status": "completed"
    },
    "tags": []
   },
   "source": [
    "# Train test split"
   ]
  },
  {
   "cell_type": "code",
   "execution_count": 60,
   "id": "147d1ca1",
   "metadata": {
    "papermill": {
     "duration": 2.802731,
     "end_time": "2023-01-04T14:28:17.008344",
     "exception": false,
     "start_time": "2023-01-04T14:28:14.205613",
     "status": "completed"
    },
    "tags": []
   },
   "outputs": [],
   "source": [
    "X_train, X_test, y_train, y_test = train_test_split(X,y, test_size= 0.2, random_state = 42)"
   ]
  },
  {
   "cell_type": "code",
   "execution_count": 61,
   "id": "cb1c6b76",
   "metadata": {
    "papermill": {
     "duration": 0.03578,
     "end_time": "2023-01-04T14:28:17.075117",
     "exception": false,
     "start_time": "2023-01-04T14:28:17.039337",
     "status": "completed"
    },
    "tags": []
   },
   "outputs": [],
   "source": [
    "#y_train.info()"
   ]
  },
  {
   "cell_type": "code",
   "execution_count": 62,
   "id": "68a80c21",
   "metadata": {
    "papermill": {
     "duration": 0.034197,
     "end_time": "2023-01-04T14:28:17.135117",
     "exception": false,
     "start_time": "2023-01-04T14:28:17.100920",
     "status": "completed"
    },
    "tags": []
   },
   "outputs": [],
   "source": [
    "y_train = y_train.astype('float32')\n",
    "y_test = y_test.astype('float32')"
   ]
  },
  {
   "cell_type": "code",
   "execution_count": 63,
   "id": "a759821a",
   "metadata": {
    "papermill": {
     "duration": 0.036032,
     "end_time": "2023-01-04T14:28:17.196487",
     "exception": false,
     "start_time": "2023-01-04T14:28:17.160455",
     "status": "completed"
    },
    "tags": []
   },
   "outputs": [
    {
     "name": "stdout",
     "output_type": "stream",
     "text": [
      "(40000, 5000)\n",
      "(10000, 5000)\n",
      "(40000,)\n",
      "(10000,)\n"
     ]
    }
   ],
   "source": [
    "print(X_train.shape)\n",
    "print(X_test.shape)\n",
    "print(y_train.shape)\n",
    "print(y_test.shape)"
   ]
  },
  {
   "cell_type": "markdown",
   "id": "ce1e1782",
   "metadata": {
    "papermill": {
     "duration": 0.02607,
     "end_time": "2023-01-04T14:28:10.500553",
     "exception": false,
     "start_time": "2023-01-04T14:28:10.474483",
     "status": "completed"
    },
    "tags": []
   },
   "source": [
    "# Standardization"
   ]
  },
  {
   "cell_type": "code",
   "execution_count": 64,
   "id": "e32f47e8",
   "metadata": {
    "papermill": {
     "duration": 3.601248,
     "end_time": "2023-01-04T14:28:14.129375",
     "exception": false,
     "start_time": "2023-01-04T14:28:10.528127",
     "status": "completed"
    },
    "tags": []
   },
   "outputs": [],
   "source": [
    "scaler = StandardScaler()"
   ]
  },
  {
   "cell_type": "code",
   "execution_count": 65,
   "id": "1e836fde-28bd-40e4-af06-44eca14fa83e",
   "metadata": {},
   "outputs": [],
   "source": [
    "# compute the means and sd of training set\n",
    "x_scaler = scaler.fit(X_train)\n",
    "X_train = x_scaler.transform(X_train)\n",
    "X_test = x_scaler.transform(X_test)"
   ]
  },
  {
   "cell_type": "code",
   "execution_count": 67,
   "id": "885555f4",
   "metadata": {
    "papermill": {
     "duration": 0.603514,
     "end_time": "2023-01-04T14:28:17.825484",
     "exception": false,
     "start_time": "2023-01-04T14:28:17.221970",
     "status": "completed"
    },
    "tags": []
   },
   "outputs": [
    {
     "data": {
      "text/plain": [
       "965"
      ]
     },
     "execution_count": 67,
     "metadata": {},
     "output_type": "execute_result"
    }
   ],
   "source": [
    "del X, y\n",
    "gc.collect()"
   ]
  },
  {
   "cell_type": "markdown",
   "id": "ec45655c",
   "metadata": {
    "papermill": {
     "duration": 0.025165,
     "end_time": "2023-01-04T14:28:17.875945",
     "exception": false,
     "start_time": "2023-01-04T14:28:17.850780",
     "status": "completed"
    },
    "tags": []
   },
   "source": [
    "# Network functions"
   ]
  },
  {
   "cell_type": "code",
   "execution_count": 68,
   "id": "b3822990",
   "metadata": {
    "papermill": {
     "duration": 0.034131,
     "end_time": "2023-01-04T14:28:17.936153",
     "exception": false,
     "start_time": "2023-01-04T14:28:17.902022",
     "status": "completed"
    },
    "tags": []
   },
   "outputs": [],
   "source": [
    "BATCH_SIZE = 500\n",
    "STEPS_PER_EPOCH = 40000/BATCH_SIZE"
   ]
  },
  {
   "cell_type": "code",
   "execution_count": 69,
   "id": "dc406794",
   "metadata": {
    "papermill": {
     "duration": 0.035332,
     "end_time": "2023-01-04T14:28:17.996946",
     "exception": false,
     "start_time": "2023-01-04T14:28:17.961614",
     "status": "completed"
    },
    "tags": []
   },
   "outputs": [],
   "source": [
    "lr_schedule = tf.keras.optimizers.schedules.InverseTimeDecay(\n",
    "  0.001,\n",
    "  decay_steps=STEPS_PER_EPOCH*1000,\n",
    "  decay_rate=1,\n",
    "  staircase=False)"
   ]
  },
  {
   "cell_type": "code",
   "execution_count": 70,
   "id": "a7bab12e",
   "metadata": {
    "papermill": {
     "duration": 0.035184,
     "end_time": "2023-01-04T14:28:18.058063",
     "exception": false,
     "start_time": "2023-01-04T14:28:18.022879",
     "status": "completed"
    },
    "tags": []
   },
   "outputs": [],
   "source": [
    "def get_optimizer():\n",
    "    return tf.keras.optimizers.Adam(lr_schedule)"
   ]
  },
  {
   "cell_type": "code",
   "execution_count": 71,
   "id": "d3995b61",
   "metadata": {
    "papermill": {
     "duration": 0.036729,
     "end_time": "2023-01-04T14:28:18.120158",
     "exception": false,
     "start_time": "2023-01-04T14:28:18.083429",
     "status": "completed"
    },
    "tags": []
   },
   "outputs": [],
   "source": [
    "def get_callbacks(name):\n",
    "    return [\n",
    "        tfdocs.modeling.EpochDots(),\n",
    "        tf.keras.callbacks.EarlyStopping(monitor='val_binary_crossentropy', patience=150),\n",
    "        tf.keras.callbacks.TensorBoard(logdir/name),\n",
    "  ]"
   ]
  },
  {
   "cell_type": "code",
   "execution_count": 86,
   "id": "9f3f911e",
   "metadata": {
    "papermill": {
     "duration": 0.038209,
     "end_time": "2023-01-04T14:28:18.184590",
     "exception": false,
     "start_time": "2023-01-04T14:28:18.146381",
     "status": "completed"
    },
    "tags": []
   },
   "outputs": [],
   "source": [
    "def compile_and_fit(model, name, f_xtrain, f_ytrain, f_xval, f_yval, optimizer=None, max_epochs=10000):\n",
    "\n",
    "    if optimizer is None:\n",
    "        optimizer = get_optimizer()\n",
    "    \n",
    "    model.compile(optimizer=optimizer,\n",
    "                    loss=tf.keras.losses.BinaryCrossentropy(),\n",
    "                    metrics=[tf.keras.metrics.BinaryCrossentropy(\n",
    "                              name='binary_crossentropy'),\n",
    "                              'accuracy'])\n",
    "    model.summary()\n",
    "\n",
    "    history = model.fit(\n",
    "        x = X_train,\n",
    "        y = y_train,\n",
    "        steps_per_epoch = STEPS_PER_EPOCH,\n",
    "        epochs=max_epochs,\n",
    "        validation_data=(X_val, y_val) ,\n",
    "        callbacks=get_callbacks(name),\n",
    "        verbose=2)\n",
    "    \n",
    "    return history"
   ]
  },
  {
   "cell_type": "markdown",
   "id": "10b7f064",
   "metadata": {
    "papermill": {
     "duration": 0.025117,
     "end_time": "2023-01-04T14:28:18.235115",
     "exception": false,
     "start_time": "2023-01-04T14:28:18.209998",
     "status": "completed"
    },
    "tags": []
   },
   "source": [
    "# Model performance"
   ]
  },
  {
   "cell_type": "code",
   "execution_count": 87,
   "id": "ecefe84a",
   "metadata": {
    "papermill": {
     "duration": 0.166323,
     "end_time": "2023-01-04T14:28:18.426680",
     "exception": false,
     "start_time": "2023-01-04T14:28:18.260357",
     "status": "completed"
    },
    "tags": []
   },
   "outputs": [],
   "source": [
    "model_1 = tf.keras.Sequential([\n",
    "    tf.keras.layers.Dense(units=16, activation='relu',input_shape=(5000,)),\n",
    "    tf.keras.layers.Dense(units=16, activation='relu'),\n",
    "    tf.keras.layers.Dropout(0.2),\n",
    "    tf.keras.layers.Dense(units=1,activation='sigmoid')\n",
    "])"
   ]
  },
  {
   "cell_type": "code",
   "execution_count": 88,
   "id": "ecaa339e",
   "metadata": {
    "papermill": {
     "duration": 0.036397,
     "end_time": "2023-01-04T14:28:18.489546",
     "exception": false,
     "start_time": "2023-01-04T14:28:18.453149",
     "status": "completed"
    },
    "tags": []
   },
   "outputs": [],
   "source": [
    "dict_histories = {}"
   ]
  },
  {
   "cell_type": "code",
   "execution_count": 89,
   "id": "42a4304b",
   "metadata": {
    "papermill": {
     "duration": 0.037326,
     "end_time": "2023-01-04T14:28:18.552978",
     "exception": false,
     "start_time": "2023-01-04T14:28:18.515652",
     "status": "completed"
    },
    "tags": []
   },
   "outputs": [],
   "source": [
    "X_train_1 = X_train[3000:]\n",
    "X_val = X_train[:3000]\n",
    "y_train_1 = y_train[3000:]\n",
    "y_val = y_train[:3000]"
   ]
  },
  {
   "cell_type": "code",
   "execution_count": 90,
   "id": "59facccb",
   "metadata": {
    "papermill": {
     "duration": 237.708808,
     "end_time": "2023-01-04T14:32:16.288471",
     "exception": false,
     "start_time": "2023-01-04T14:28:18.579663",
     "status": "completed"
    },
    "tags": []
   },
   "outputs": [
    {
     "name": "stdout",
     "output_type": "stream",
     "text": [
      "Model: \"sequential_1\"\n",
      "_________________________________________________________________\n",
      " Layer (type)                Output Shape              Param #   \n",
      "=================================================================\n",
      " dense_3 (Dense)             (None, 16)                80016     \n",
      "                                                                 \n",
      " dense_4 (Dense)             (None, 16)                272       \n",
      "                                                                 \n",
      " dropout_1 (Dropout)         (None, 16)                0         \n",
      "                                                                 \n",
      " dense_5 (Dense)             (None, 1)                 17        \n",
      "                                                                 \n",
      "=================================================================\n",
      "Total params: 80,305\n",
      "Trainable params: 80,305\n",
      "Non-trainable params: 0\n",
      "_________________________________________________________________\n",
      "Epoch 1/10000\n",
      "\n",
      "Epoch: 0, accuracy:0.7663,  binary_crossentropy:0.4753,  loss:0.4753,  val_accuracy:0.9120,  val_binary_crossentropy:0.2450,  val_loss:0.2450,  \n",
      ".80/80 - 2s - loss: 0.4753 - binary_crossentropy: 0.4753 - accuracy: 0.7663 - val_loss: 0.2450 - val_binary_crossentropy: 0.2450 - val_accuracy: 0.9120 - 2s/epoch - 19ms/step\n",
      "Epoch 2/10000\n",
      ".80/80 - 1s - loss: 0.2472 - binary_crossentropy: 0.2472 - accuracy: 0.9046 - val_loss: 0.1582 - val_binary_crossentropy: 0.1582 - val_accuracy: 0.9463 - 742ms/epoch - 9ms/step\n",
      "Epoch 3/10000\n",
      ".80/80 - 1s - loss: 0.1710 - binary_crossentropy: 0.1710 - accuracy: 0.9378 - val_loss: 0.1050 - val_binary_crossentropy: 0.1050 - val_accuracy: 0.9670 - 698ms/epoch - 9ms/step\n",
      "Epoch 4/10000\n",
      ".80/80 - 1s - loss: 0.1252 - binary_crossentropy: 0.1252 - accuracy: 0.9563 - val_loss: 0.0736 - val_binary_crossentropy: 0.0736 - val_accuracy: 0.9797 - 702ms/epoch - 9ms/step\n",
      "Epoch 5/10000\n",
      ".80/80 - 1s - loss: 0.0896 - binary_crossentropy: 0.0896 - accuracy: 0.9711 - val_loss: 0.0490 - val_binary_crossentropy: 0.0490 - val_accuracy: 0.9867 - 759ms/epoch - 9ms/step\n",
      "Epoch 6/10000\n",
      ".80/80 - 1s - loss: 0.0638 - binary_crossentropy: 0.0638 - accuracy: 0.9807 - val_loss: 0.0377 - val_binary_crossentropy: 0.0377 - val_accuracy: 0.9890 - 688ms/epoch - 9ms/step\n",
      "Epoch 7/10000\n",
      ".80/80 - 1s - loss: 0.0487 - binary_crossentropy: 0.0487 - accuracy: 0.9850 - val_loss: 0.0283 - val_binary_crossentropy: 0.0283 - val_accuracy: 0.9933 - 699ms/epoch - 9ms/step\n",
      "Epoch 8/10000\n",
      ".80/80 - 1s - loss: 0.0366 - binary_crossentropy: 0.0366 - accuracy: 0.9890 - val_loss: 0.0251 - val_binary_crossentropy: 0.0251 - val_accuracy: 0.9933 - 728ms/epoch - 9ms/step\n",
      "Epoch 9/10000\n",
      ".80/80 - 1s - loss: 0.0372 - binary_crossentropy: 0.0372 - accuracy: 0.9880 - val_loss: 0.0265 - val_binary_crossentropy: 0.0265 - val_accuracy: 0.9927 - 752ms/epoch - 9ms/step\n",
      "Epoch 10/10000\n",
      ".80/80 - 1s - loss: 0.0359 - binary_crossentropy: 0.0359 - accuracy: 0.9877 - val_loss: 0.0204 - val_binary_crossentropy: 0.0204 - val_accuracy: 0.9940 - 706ms/epoch - 9ms/step\n",
      "Epoch 11/10000\n",
      ".80/80 - 1s - loss: 0.0314 - binary_crossentropy: 0.0314 - accuracy: 0.9895 - val_loss: 0.0226 - val_binary_crossentropy: 0.0226 - val_accuracy: 0.9953 - 725ms/epoch - 9ms/step\n",
      "Epoch 12/10000\n",
      ".80/80 - 1s - loss: 0.0243 - binary_crossentropy: 0.0243 - accuracy: 0.9923 - val_loss: 0.0138 - val_binary_crossentropy: 0.0138 - val_accuracy: 0.9967 - 680ms/epoch - 8ms/step\n",
      "Epoch 13/10000\n",
      ".80/80 - 1s - loss: 0.0200 - binary_crossentropy: 0.0200 - accuracy: 0.9934 - val_loss: 0.0107 - val_binary_crossentropy: 0.0107 - val_accuracy: 0.9970 - 735ms/epoch - 9ms/step\n",
      "Epoch 14/10000\n",
      ".80/80 - 1s - loss: 0.0149 - binary_crossentropy: 0.0149 - accuracy: 0.9955 - val_loss: 0.0104 - val_binary_crossentropy: 0.0104 - val_accuracy: 0.9973 - 723ms/epoch - 9ms/step\n",
      "Epoch 15/10000\n",
      ".80/80 - 1s - loss: 0.0115 - binary_crossentropy: 0.0115 - accuracy: 0.9967 - val_loss: 0.0088 - val_binary_crossentropy: 0.0088 - val_accuracy: 0.9983 - 709ms/epoch - 9ms/step\n",
      "Epoch 16/10000\n",
      ".80/80 - 1s - loss: 0.0105 - binary_crossentropy: 0.0105 - accuracy: 0.9970 - val_loss: 0.0110 - val_binary_crossentropy: 0.0110 - val_accuracy: 0.9980 - 711ms/epoch - 9ms/step\n",
      "Epoch 17/10000\n",
      ".80/80 - 1s - loss: 0.0164 - binary_crossentropy: 0.0164 - accuracy: 0.9946 - val_loss: 0.0118 - val_binary_crossentropy: 0.0118 - val_accuracy: 0.9970 - 731ms/epoch - 9ms/step\n",
      "Epoch 18/10000\n",
      ".80/80 - 1s - loss: 0.0185 - binary_crossentropy: 0.0185 - accuracy: 0.9942 - val_loss: 0.0169 - val_binary_crossentropy: 0.0169 - val_accuracy: 0.9950 - 707ms/epoch - 9ms/step\n",
      "Epoch 19/10000\n",
      ".80/80 - 1s - loss: 0.0237 - binary_crossentropy: 0.0237 - accuracy: 0.9927 - val_loss: 0.0182 - val_binary_crossentropy: 0.0182 - val_accuracy: 0.9953 - 716ms/epoch - 9ms/step\n",
      "Epoch 20/10000\n",
      ".80/80 - 1s - loss: 0.0191 - binary_crossentropy: 0.0191 - accuracy: 0.9936 - val_loss: 0.0085 - val_binary_crossentropy: 0.0085 - val_accuracy: 0.9980 - 710ms/epoch - 9ms/step\n",
      "Epoch 21/10000\n",
      ".80/80 - 1s - loss: 0.0134 - binary_crossentropy: 0.0134 - accuracy: 0.9959 - val_loss: 0.0097 - val_binary_crossentropy: 0.0097 - val_accuracy: 0.9980 - 706ms/epoch - 9ms/step\n",
      "Epoch 22/10000\n",
      ".80/80 - 1s - loss: 0.0097 - binary_crossentropy: 0.0097 - accuracy: 0.9974 - val_loss: 0.0069 - val_binary_crossentropy: 0.0069 - val_accuracy: 0.9987 - 721ms/epoch - 9ms/step\n",
      "Epoch 23/10000\n",
      ".80/80 - 1s - loss: 0.0067 - binary_crossentropy: 0.0067 - accuracy: 0.9984 - val_loss: 0.0066 - val_binary_crossentropy: 0.0066 - val_accuracy: 0.9983 - 707ms/epoch - 9ms/step\n",
      "Epoch 24/10000\n",
      ".80/80 - 1s - loss: 0.0047 - binary_crossentropy: 0.0047 - accuracy: 0.9989 - val_loss: 0.0050 - val_binary_crossentropy: 0.0050 - val_accuracy: 0.9987 - 727ms/epoch - 9ms/step\n",
      "Epoch 25/10000\n",
      ".80/80 - 1s - loss: 0.0056 - binary_crossentropy: 0.0056 - accuracy: 0.9988 - val_loss: 0.0049 - val_binary_crossentropy: 0.0049 - val_accuracy: 0.9990 - 686ms/epoch - 9ms/step\n",
      "Epoch 26/10000\n",
      ".80/80 - 1s - loss: 0.0040 - binary_crossentropy: 0.0040 - accuracy: 0.9988 - val_loss: 0.0043 - val_binary_crossentropy: 0.0043 - val_accuracy: 0.9990 - 716ms/epoch - 9ms/step\n",
      "Epoch 27/10000\n",
      ".80/80 - 1s - loss: 0.0032 - binary_crossentropy: 0.0032 - accuracy: 0.9992 - val_loss: 0.0040 - val_binary_crossentropy: 0.0040 - val_accuracy: 0.9990 - 711ms/epoch - 9ms/step\n",
      "Epoch 28/10000\n",
      ".80/80 - 1s - loss: 0.0027 - binary_crossentropy: 0.0027 - accuracy: 0.9994 - val_loss: 0.0033 - val_binary_crossentropy: 0.0033 - val_accuracy: 0.9990 - 711ms/epoch - 9ms/step\n",
      "Epoch 29/10000\n",
      ".80/80 - 1s - loss: 0.0024 - binary_crossentropy: 0.0024 - accuracy: 0.9995 - val_loss: 0.0024 - val_binary_crossentropy: 0.0024 - val_accuracy: 0.9990 - 705ms/epoch - 9ms/step\n",
      "Epoch 30/10000\n",
      ".80/80 - 1s - loss: 0.0020 - binary_crossentropy: 0.0020 - accuracy: 0.9995 - val_loss: 0.0023 - val_binary_crossentropy: 0.0023 - val_accuracy: 0.9990 - 721ms/epoch - 9ms/step\n",
      "Epoch 31/10000\n",
      ".80/80 - 1s - loss: 0.0018 - binary_crossentropy: 0.0018 - accuracy: 0.9995 - val_loss: 0.0021 - val_binary_crossentropy: 0.0021 - val_accuracy: 0.9990 - 730ms/epoch - 9ms/step\n",
      "Epoch 32/10000\n",
      ".80/80 - 1s - loss: 0.0016 - binary_crossentropy: 0.0016 - accuracy: 0.9995 - val_loss: 0.0020 - val_binary_crossentropy: 0.0020 - val_accuracy: 0.9990 - 762ms/epoch - 10ms/step\n",
      "Epoch 33/10000\n",
      ".80/80 - 1s - loss: 0.0016 - binary_crossentropy: 0.0016 - accuracy: 0.9995 - val_loss: 0.0020 - val_binary_crossentropy: 0.0020 - val_accuracy: 0.9990 - 726ms/epoch - 9ms/step\n",
      "Epoch 34/10000\n",
      ".80/80 - 1s - loss: 0.0014 - binary_crossentropy: 0.0014 - accuracy: 0.9996 - val_loss: 0.0019 - val_binary_crossentropy: 0.0019 - val_accuracy: 0.9990 - 717ms/epoch - 9ms/step\n",
      "Epoch 35/10000\n",
      ".80/80 - 1s - loss: 0.0015 - binary_crossentropy: 0.0015 - accuracy: 0.9996 - val_loss: 0.0018 - val_binary_crossentropy: 0.0018 - val_accuracy: 0.9990 - 725ms/epoch - 9ms/step\n",
      "Epoch 36/10000\n",
      ".80/80 - 1s - loss: 0.0014 - binary_crossentropy: 0.0014 - accuracy: 0.9996 - val_loss: 0.0018 - val_binary_crossentropy: 0.0018 - val_accuracy: 0.9990 - 737ms/epoch - 9ms/step\n",
      "Epoch 37/10000\n",
      ".80/80 - 1s - loss: 0.0013 - binary_crossentropy: 0.0013 - accuracy: 0.9996 - val_loss: 0.0018 - val_binary_crossentropy: 0.0018 - val_accuracy: 0.9990 - 731ms/epoch - 9ms/step\n",
      "Epoch 38/10000\n",
      ".80/80 - 1s - loss: 0.0013 - binary_crossentropy: 0.0013 - accuracy: 0.9996 - val_loss: 0.0017 - val_binary_crossentropy: 0.0017 - val_accuracy: 0.9993 - 732ms/epoch - 9ms/step\n",
      "Epoch 39/10000\n",
      ".80/80 - 1s - loss: 0.0012 - binary_crossentropy: 0.0012 - accuracy: 0.9997 - val_loss: 0.0017 - val_binary_crossentropy: 0.0017 - val_accuracy: 0.9993 - 723ms/epoch - 9ms/step\n",
      "Epoch 40/10000\n",
      ".80/80 - 1s - loss: 0.0012 - binary_crossentropy: 0.0012 - accuracy: 0.9996 - val_loss: 0.0016 - val_binary_crossentropy: 0.0016 - val_accuracy: 0.9993 - 727ms/epoch - 9ms/step\n",
      "Epoch 41/10000\n",
      ".80/80 - 1s - loss: 0.0012 - binary_crossentropy: 0.0012 - accuracy: 0.9996 - val_loss: 0.0016 - val_binary_crossentropy: 0.0016 - val_accuracy: 0.9993 - 731ms/epoch - 9ms/step\n",
      "Epoch 42/10000\n",
      ".80/80 - 1s - loss: 0.0013 - binary_crossentropy: 0.0013 - accuracy: 0.9996 - val_loss: 0.0015 - val_binary_crossentropy: 0.0015 - val_accuracy: 0.9993 - 772ms/epoch - 10ms/step\n",
      "Epoch 43/10000\n",
      ".80/80 - 1s - loss: 0.0013 - binary_crossentropy: 0.0013 - accuracy: 0.9996 - val_loss: 0.0015 - val_binary_crossentropy: 0.0015 - val_accuracy: 0.9993 - 724ms/epoch - 9ms/step\n",
      "Epoch 44/10000\n",
      ".80/80 - 1s - loss: 0.0011 - binary_crossentropy: 0.0011 - accuracy: 0.9997 - val_loss: 0.0015 - val_binary_crossentropy: 0.0015 - val_accuracy: 0.9993 - 768ms/epoch - 10ms/step\n",
      "Epoch 45/10000\n",
      ".80/80 - 1s - loss: 0.0012 - binary_crossentropy: 0.0012 - accuracy: 0.9996 - val_loss: 0.0015 - val_binary_crossentropy: 0.0015 - val_accuracy: 0.9993 - 780ms/epoch - 10ms/step\n",
      "Epoch 46/10000\n",
      ".80/80 - 1s - loss: 0.0014 - binary_crossentropy: 0.0014 - accuracy: 0.9995 - val_loss: 0.0017 - val_binary_crossentropy: 0.0017 - val_accuracy: 0.9993 - 729ms/epoch - 9ms/step\n",
      "Epoch 47/10000\n",
      ".80/80 - 1s - loss: 0.0187 - binary_crossentropy: 0.0187 - accuracy: 0.9959 - val_loss: 0.0425 - val_binary_crossentropy: 0.0425 - val_accuracy: 0.9897 - 759ms/epoch - 9ms/step\n",
      "Epoch 48/10000\n",
      ".80/80 - 1s - loss: 0.1048 - binary_crossentropy: 0.1048 - accuracy: 0.9688 - val_loss: 0.0383 - val_binary_crossentropy: 0.0383 - val_accuracy: 0.9863 - 718ms/epoch - 9ms/step\n",
      "Epoch 49/10000\n",
      ".80/80 - 1s - loss: 0.0333 - binary_crossentropy: 0.0333 - accuracy: 0.9896 - val_loss: 0.0081 - val_binary_crossentropy: 0.0081 - val_accuracy: 0.9983 - 731ms/epoch - 9ms/step\n",
      "Epoch 50/10000\n",
      ".80/80 - 1s - loss: 0.0072 - binary_crossentropy: 0.0072 - accuracy: 0.9987 - val_loss: 0.0034 - val_binary_crossentropy: 0.0034 - val_accuracy: 0.9990 - 695ms/epoch - 9ms/step\n",
      "Epoch 51/10000\n",
      ".80/80 - 1s - loss: 0.0033 - binary_crossentropy: 0.0033 - accuracy: 0.9995 - val_loss: 0.0023 - val_binary_crossentropy: 0.0023 - val_accuracy: 0.9990 - 716ms/epoch - 9ms/step\n",
      "Epoch 52/10000\n",
      ".80/80 - 1s - loss: 0.0023 - binary_crossentropy: 0.0023 - accuracy: 0.9996 - val_loss: 0.0019 - val_binary_crossentropy: 0.0019 - val_accuracy: 0.9993 - 711ms/epoch - 9ms/step\n",
      "Epoch 53/10000\n",
      ".80/80 - 1s - loss: 0.0019 - binary_crossentropy: 0.0019 - accuracy: 0.9997 - val_loss: 0.0017 - val_binary_crossentropy: 0.0017 - val_accuracy: 0.9993 - 717ms/epoch - 9ms/step\n",
      "Epoch 54/10000\n",
      ".80/80 - 1s - loss: 0.0017 - binary_crossentropy: 0.0017 - accuracy: 0.9997 - val_loss: 0.0017 - val_binary_crossentropy: 0.0017 - val_accuracy: 0.9993 - 714ms/epoch - 9ms/step\n",
      "Epoch 55/10000\n",
      ".80/80 - 1s - loss: 0.0014 - binary_crossentropy: 0.0014 - accuracy: 0.9997 - val_loss: 0.0016 - val_binary_crossentropy: 0.0016 - val_accuracy: 0.9993 - 707ms/epoch - 9ms/step\n",
      "Epoch 56/10000\n",
      ".80/80 - 1s - loss: 0.0014 - binary_crossentropy: 0.0014 - accuracy: 0.9997 - val_loss: 0.0016 - val_binary_crossentropy: 0.0016 - val_accuracy: 0.9993 - 708ms/epoch - 9ms/step\n",
      "Epoch 57/10000\n",
      ".80/80 - 1s - loss: 0.0014 - binary_crossentropy: 0.0014 - accuracy: 0.9997 - val_loss: 0.0016 - val_binary_crossentropy: 0.0016 - val_accuracy: 0.9993 - 698ms/epoch - 9ms/step\n",
      "Epoch 58/10000\n",
      ".80/80 - 1s - loss: 0.0013 - binary_crossentropy: 0.0013 - accuracy: 0.9996 - val_loss: 0.0015 - val_binary_crossentropy: 0.0015 - val_accuracy: 0.9993 - 736ms/epoch - 9ms/step\n",
      "Epoch 59/10000\n",
      ".80/80 - 1s - loss: 0.0012 - binary_crossentropy: 0.0012 - accuracy: 0.9997 - val_loss: 0.0015 - val_binary_crossentropy: 0.0015 - val_accuracy: 0.9993 - 702ms/epoch - 9ms/step\n",
      "Epoch 60/10000\n",
      ".80/80 - 1s - loss: 0.0012 - binary_crossentropy: 0.0012 - accuracy: 0.9997 - val_loss: 0.0015 - val_binary_crossentropy: 0.0015 - val_accuracy: 0.9993 - 721ms/epoch - 9ms/step\n",
      "Epoch 61/10000\n",
      ".80/80 - 1s - loss: 0.0011 - binary_crossentropy: 0.0011 - accuracy: 0.9997 - val_loss: 0.0015 - val_binary_crossentropy: 0.0015 - val_accuracy: 0.9993 - 716ms/epoch - 9ms/step\n",
      "Epoch 62/10000\n",
      ".80/80 - 1s - loss: 0.0012 - binary_crossentropy: 0.0012 - accuracy: 0.9997 - val_loss: 0.0015 - val_binary_crossentropy: 0.0015 - val_accuracy: 0.9993 - 739ms/epoch - 9ms/step\n",
      "Epoch 63/10000\n",
      ".80/80 - 1s - loss: 0.0011 - binary_crossentropy: 0.0011 - accuracy: 0.9997 - val_loss: 0.0015 - val_binary_crossentropy: 0.0015 - val_accuracy: 0.9993 - 723ms/epoch - 9ms/step\n",
      "Epoch 64/10000\n",
      ".80/80 - 1s - loss: 0.0011 - binary_crossentropy: 0.0011 - accuracy: 0.9997 - val_loss: 0.0015 - val_binary_crossentropy: 0.0015 - val_accuracy: 0.9993 - 723ms/epoch - 9ms/step\n",
      "Epoch 65/10000\n",
      ".80/80 - 1s - loss: 0.0011 - binary_crossentropy: 0.0011 - accuracy: 0.9997 - val_loss: 0.0015 - val_binary_crossentropy: 0.0015 - val_accuracy: 0.9993 - 720ms/epoch - 9ms/step\n",
      "Epoch 66/10000\n",
      ".80/80 - 1s - loss: 0.0011 - binary_crossentropy: 0.0011 - accuracy: 0.9997 - val_loss: 0.0015 - val_binary_crossentropy: 0.0015 - val_accuracy: 0.9993 - 736ms/epoch - 9ms/step\n",
      "Epoch 67/10000\n",
      ".80/80 - 1s - loss: 0.0010 - binary_crossentropy: 0.0010 - accuracy: 0.9997 - val_loss: 0.0015 - val_binary_crossentropy: 0.0015 - val_accuracy: 0.9993 - 705ms/epoch - 9ms/step\n",
      "Epoch 68/10000\n",
      ".80/80 - 1s - loss: 0.0010 - binary_crossentropy: 0.0010 - accuracy: 0.9997 - val_loss: 0.0015 - val_binary_crossentropy: 0.0015 - val_accuracy: 0.9993 - 715ms/epoch - 9ms/step\n",
      "Epoch 69/10000\n",
      ".80/80 - 1s - loss: 9.7274e-04 - binary_crossentropy: 9.7274e-04 - accuracy: 0.9997 - val_loss: 0.0015 - val_binary_crossentropy: 0.0015 - val_accuracy: 0.9993 - 727ms/epoch - 9ms/step\n",
      "Epoch 70/10000\n",
      ".80/80 - 1s - loss: 0.0010 - binary_crossentropy: 0.0010 - accuracy: 0.9997 - val_loss: 0.0015 - val_binary_crossentropy: 0.0015 - val_accuracy: 0.9993 - 713ms/epoch - 9ms/step\n",
      "Epoch 71/10000\n",
      ".80/80 - 1s - loss: 9.7269e-04 - binary_crossentropy: 9.7269e-04 - accuracy: 0.9997 - val_loss: 0.0015 - val_binary_crossentropy: 0.0015 - val_accuracy: 0.9993 - 708ms/epoch - 9ms/step\n",
      "Epoch 72/10000\n",
      ".80/80 - 1s - loss: 9.6093e-04 - binary_crossentropy: 9.6093e-04 - accuracy: 0.9997 - val_loss: 0.0015 - val_binary_crossentropy: 0.0015 - val_accuracy: 0.9993 - 718ms/epoch - 9ms/step\n",
      "Epoch 73/10000\n",
      ".80/80 - 1s - loss: 9.8596e-04 - binary_crossentropy: 9.8596e-04 - accuracy: 0.9997 - val_loss: 0.0015 - val_binary_crossentropy: 0.0015 - val_accuracy: 0.9993 - 716ms/epoch - 9ms/step\n",
      "Epoch 74/10000\n",
      ".80/80 - 1s - loss: 8.9013e-04 - binary_crossentropy: 8.9013e-04 - accuracy: 0.9997 - val_loss: 0.0015 - val_binary_crossentropy: 0.0015 - val_accuracy: 0.9993 - 724ms/epoch - 9ms/step\n",
      "Epoch 75/10000\n",
      ".80/80 - 1s - loss: 8.9829e-04 - binary_crossentropy: 8.9829e-04 - accuracy: 0.9997 - val_loss: 0.0015 - val_binary_crossentropy: 0.0015 - val_accuracy: 0.9993 - 750ms/epoch - 9ms/step\n",
      "Epoch 76/10000\n",
      ".80/80 - 1s - loss: 9.2910e-04 - binary_crossentropy: 9.2910e-04 - accuracy: 0.9997 - val_loss: 0.0014 - val_binary_crossentropy: 0.0014 - val_accuracy: 0.9993 - 722ms/epoch - 9ms/step\n",
      "Epoch 77/10000\n",
      ".80/80 - 1s - loss: 9.2394e-04 - binary_crossentropy: 9.2394e-04 - accuracy: 0.9997 - val_loss: 0.0015 - val_binary_crossentropy: 0.0015 - val_accuracy: 0.9993 - 718ms/epoch - 9ms/step\n",
      "Epoch 78/10000\n",
      ".80/80 - 1s - loss: 9.4544e-04 - binary_crossentropy: 9.4544e-04 - accuracy: 0.9997 - val_loss: 0.0014 - val_binary_crossentropy: 0.0014 - val_accuracy: 0.9993 - 714ms/epoch - 9ms/step\n",
      "Epoch 79/10000\n",
      ".80/80 - 1s - loss: 8.8842e-04 - binary_crossentropy: 8.8842e-04 - accuracy: 0.9997 - val_loss: 0.0014 - val_binary_crossentropy: 0.0014 - val_accuracy: 0.9993 - 727ms/epoch - 9ms/step\n",
      "Epoch 80/10000\n",
      ".80/80 - 1s - loss: 9.0720e-04 - binary_crossentropy: 9.0720e-04 - accuracy: 0.9997 - val_loss: 0.0014 - val_binary_crossentropy: 0.0014 - val_accuracy: 0.9993 - 709ms/epoch - 9ms/step\n",
      "Epoch 81/10000\n",
      ".80/80 - 1s - loss: 9.4243e-04 - binary_crossentropy: 9.4243e-04 - accuracy: 0.9997 - val_loss: 0.0014 - val_binary_crossentropy: 0.0014 - val_accuracy: 0.9993 - 714ms/epoch - 9ms/step\n",
      "Epoch 82/10000\n",
      ".80/80 - 1s - loss: 8.5600e-04 - binary_crossentropy: 8.5600e-04 - accuracy: 0.9997 - val_loss: 0.0014 - val_binary_crossentropy: 0.0014 - val_accuracy: 0.9993 - 714ms/epoch - 9ms/step\n",
      "Epoch 83/10000\n",
      ".80/80 - 1s - loss: 9.2322e-04 - binary_crossentropy: 9.2322e-04 - accuracy: 0.9997 - val_loss: 0.0014 - val_binary_crossentropy: 0.0014 - val_accuracy: 0.9993 - 715ms/epoch - 9ms/step\n",
      "Epoch 84/10000\n",
      ".80/80 - 1s - loss: 8.8431e-04 - binary_crossentropy: 8.8431e-04 - accuracy: 0.9997 - val_loss: 0.0014 - val_binary_crossentropy: 0.0014 - val_accuracy: 0.9993 - 734ms/epoch - 9ms/step\n",
      "Epoch 85/10000\n",
      ".80/80 - 1s - loss: 9.0205e-04 - binary_crossentropy: 9.0205e-04 - accuracy: 0.9997 - val_loss: 0.0014 - val_binary_crossentropy: 0.0014 - val_accuracy: 0.9993 - 723ms/epoch - 9ms/step\n",
      "Epoch 86/10000\n",
      ".80/80 - 1s - loss: 8.8992e-04 - binary_crossentropy: 8.8992e-04 - accuracy: 0.9997 - val_loss: 0.0014 - val_binary_crossentropy: 0.0014 - val_accuracy: 0.9993 - 709ms/epoch - 9ms/step\n",
      "Epoch 87/10000\n",
      ".80/80 - 1s - loss: 8.6757e-04 - binary_crossentropy: 8.6757e-04 - accuracy: 0.9997 - val_loss: 0.0014 - val_binary_crossentropy: 0.0014 - val_accuracy: 0.9993 - 706ms/epoch - 9ms/step\n",
      "Epoch 88/10000\n",
      ".80/80 - 1s - loss: 8.7165e-04 - binary_crossentropy: 8.7165e-04 - accuracy: 0.9997 - val_loss: 0.0014 - val_binary_crossentropy: 0.0014 - val_accuracy: 0.9993 - 772ms/epoch - 10ms/step\n",
      "Epoch 89/10000\n",
      ".80/80 - 1s - loss: 8.8914e-04 - binary_crossentropy: 8.8914e-04 - accuracy: 0.9997 - val_loss: 0.0014 - val_binary_crossentropy: 0.0014 - val_accuracy: 0.9993 - 711ms/epoch - 9ms/step\n",
      "Epoch 90/10000\n",
      ".80/80 - 1s - loss: 9.6404e-04 - binary_crossentropy: 9.6404e-04 - accuracy: 0.9997 - val_loss: 0.0014 - val_binary_crossentropy: 0.0014 - val_accuracy: 0.9993 - 694ms/epoch - 9ms/step\n",
      "Epoch 91/10000\n",
      ".80/80 - 1s - loss: 9.0317e-04 - binary_crossentropy: 9.0317e-04 - accuracy: 0.9997 - val_loss: 0.0014 - val_binary_crossentropy: 0.0014 - val_accuracy: 0.9993 - 727ms/epoch - 9ms/step\n",
      "Epoch 92/10000\n",
      ".80/80 - 1s - loss: 9.0538e-04 - binary_crossentropy: 9.0538e-04 - accuracy: 0.9997 - val_loss: 0.0014 - val_binary_crossentropy: 0.0014 - val_accuracy: 0.9993 - 720ms/epoch - 9ms/step\n",
      "Epoch 93/10000\n",
      ".80/80 - 1s - loss: 9.4540e-04 - binary_crossentropy: 9.4540e-04 - accuracy: 0.9997 - val_loss: 0.0014 - val_binary_crossentropy: 0.0014 - val_accuracy: 0.9993 - 711ms/epoch - 9ms/step\n",
      "Epoch 94/10000\n",
      ".80/80 - 1s - loss: 8.4798e-04 - binary_crossentropy: 8.4798e-04 - accuracy: 0.9997 - val_loss: 0.0014 - val_binary_crossentropy: 0.0014 - val_accuracy: 0.9993 - 708ms/epoch - 9ms/step\n",
      "Epoch 95/10000\n",
      ".80/80 - 1s - loss: 8.6887e-04 - binary_crossentropy: 8.6887e-04 - accuracy: 0.9997 - val_loss: 0.0014 - val_binary_crossentropy: 0.0014 - val_accuracy: 0.9993 - 717ms/epoch - 9ms/step\n",
      "Epoch 96/10000\n",
      ".80/80 - 1s - loss: 8.7342e-04 - binary_crossentropy: 8.7342e-04 - accuracy: 0.9997 - val_loss: 0.0014 - val_binary_crossentropy: 0.0014 - val_accuracy: 0.9993 - 708ms/epoch - 9ms/step\n",
      "Epoch 97/10000\n",
      ".80/80 - 1s - loss: 9.4784e-04 - binary_crossentropy: 9.4784e-04 - accuracy: 0.9997 - val_loss: 0.0014 - val_binary_crossentropy: 0.0014 - val_accuracy: 0.9993 - 726ms/epoch - 9ms/step\n",
      "Epoch 98/10000\n",
      ".80/80 - 1s - loss: 8.7801e-04 - binary_crossentropy: 8.7801e-04 - accuracy: 0.9997 - val_loss: 0.0014 - val_binary_crossentropy: 0.0014 - val_accuracy: 0.9993 - 738ms/epoch - 9ms/step\n",
      "Epoch 99/10000\n",
      ".80/80 - 1s - loss: 8.9114e-04 - binary_crossentropy: 8.9114e-04 - accuracy: 0.9997 - val_loss: 0.0014 - val_binary_crossentropy: 0.0014 - val_accuracy: 0.9993 - 711ms/epoch - 9ms/step\n",
      "Epoch 100/10000\n",
      ".80/80 - 1s - loss: 8.7999e-04 - binary_crossentropy: 8.7999e-04 - accuracy: 0.9997 - val_loss: 0.0014 - val_binary_crossentropy: 0.0014 - val_accuracy: 0.9993 - 745ms/epoch - 9ms/step\n",
      "Epoch 101/10000\n",
      "\n",
      "Epoch: 100, accuracy:0.9997,  binary_crossentropy:0.0008,  loss:0.0008,  val_accuracy:0.9993,  val_binary_crossentropy:0.0014,  val_loss:0.0014,  \n",
      ".80/80 - 1s - loss: 8.3314e-04 - binary_crossentropy: 8.3314e-04 - accuracy: 0.9997 - val_loss: 0.0014 - val_binary_crossentropy: 0.0014 - val_accuracy: 0.9993 - 708ms/epoch - 9ms/step\n",
      "Epoch 102/10000\n",
      ".80/80 - 1s - loss: 0.0020 - binary_crossentropy: 0.0020 - accuracy: 0.9994 - val_loss: 0.0118 - val_binary_crossentropy: 0.0118 - val_accuracy: 0.9977 - 720ms/epoch - 9ms/step\n",
      "Epoch 103/10000\n",
      ".80/80 - 1s - loss: 0.1216 - binary_crossentropy: 0.1216 - accuracy: 0.9729 - val_loss: 0.0761 - val_binary_crossentropy: 0.0761 - val_accuracy: 0.9737 - 710ms/epoch - 9ms/step\n",
      "Epoch 104/10000\n",
      ".80/80 - 1s - loss: 0.0711 - binary_crossentropy: 0.0711 - accuracy: 0.9748 - val_loss: 0.0225 - val_binary_crossentropy: 0.0225 - val_accuracy: 0.9950 - 728ms/epoch - 9ms/step\n",
      "Epoch 105/10000\n",
      ".80/80 - 1s - loss: 0.0191 - binary_crossentropy: 0.0191 - accuracy: 0.9948 - val_loss: 0.0061 - val_binary_crossentropy: 0.0061 - val_accuracy: 0.9987 - 759ms/epoch - 9ms/step\n",
      "Epoch 106/10000\n",
      ".80/80 - 1s - loss: 0.0053 - binary_crossentropy: 0.0053 - accuracy: 0.9991 - val_loss: 0.0030 - val_binary_crossentropy: 0.0030 - val_accuracy: 0.9990 - 725ms/epoch - 9ms/step\n",
      "Epoch 107/10000\n",
      ".80/80 - 1s - loss: 0.0030 - binary_crossentropy: 0.0030 - accuracy: 0.9995 - val_loss: 0.0021 - val_binary_crossentropy: 0.0021 - val_accuracy: 0.9993 - 747ms/epoch - 9ms/step\n",
      "Epoch 108/10000\n",
      ".80/80 - 1s - loss: 0.0022 - binary_crossentropy: 0.0022 - accuracy: 0.9996 - val_loss: 0.0018 - val_binary_crossentropy: 0.0018 - val_accuracy: 0.9993 - 730ms/epoch - 9ms/step\n",
      "Epoch 109/10000\n",
      ".80/80 - 1s - loss: 0.0018 - binary_crossentropy: 0.0018 - accuracy: 0.9997 - val_loss: 0.0017 - val_binary_crossentropy: 0.0017 - val_accuracy: 0.9993 - 717ms/epoch - 9ms/step\n",
      "Epoch 110/10000\n",
      ".80/80 - 1s - loss: 0.0016 - binary_crossentropy: 0.0016 - accuracy: 0.9997 - val_loss: 0.0016 - val_binary_crossentropy: 0.0016 - val_accuracy: 0.9993 - 735ms/epoch - 9ms/step\n",
      "Epoch 111/10000\n",
      ".80/80 - 1s - loss: 0.0015 - binary_crossentropy: 0.0015 - accuracy: 0.9997 - val_loss: 0.0016 - val_binary_crossentropy: 0.0016 - val_accuracy: 0.9993 - 789ms/epoch - 10ms/step\n",
      "Epoch 112/10000\n",
      ".80/80 - 1s - loss: 0.0014 - binary_crossentropy: 0.0014 - accuracy: 0.9997 - val_loss: 0.0015 - val_binary_crossentropy: 0.0015 - val_accuracy: 0.9993 - 727ms/epoch - 9ms/step\n",
      "Epoch 113/10000\n",
      ".80/80 - 1s - loss: 0.0013 - binary_crossentropy: 0.0013 - accuracy: 0.9997 - val_loss: 0.0015 - val_binary_crossentropy: 0.0015 - val_accuracy: 0.9993 - 734ms/epoch - 9ms/step\n",
      "Epoch 114/10000\n",
      ".80/80 - 1s - loss: 0.0012 - binary_crossentropy: 0.0012 - accuracy: 0.9997 - val_loss: 0.0015 - val_binary_crossentropy: 0.0015 - val_accuracy: 0.9993 - 733ms/epoch - 9ms/step\n",
      "Epoch 115/10000\n",
      ".80/80 - 1s - loss: 0.0012 - binary_crossentropy: 0.0012 - accuracy: 0.9997 - val_loss: 0.0015 - val_binary_crossentropy: 0.0015 - val_accuracy: 0.9993 - 723ms/epoch - 9ms/step\n",
      "Epoch 116/10000\n",
      ".80/80 - 1s - loss: 0.0012 - binary_crossentropy: 0.0012 - accuracy: 0.9997 - val_loss: 0.0015 - val_binary_crossentropy: 0.0015 - val_accuracy: 0.9993 - 718ms/epoch - 9ms/step\n",
      "Epoch 117/10000\n",
      ".80/80 - 1s - loss: 0.0011 - binary_crossentropy: 0.0011 - accuracy: 0.9997 - val_loss: 0.0015 - val_binary_crossentropy: 0.0015 - val_accuracy: 0.9993 - 724ms/epoch - 9ms/step\n",
      "Epoch 118/10000\n",
      ".80/80 - 1s - loss: 0.0011 - binary_crossentropy: 0.0011 - accuracy: 0.9997 - val_loss: 0.0015 - val_binary_crossentropy: 0.0015 - val_accuracy: 0.9993 - 738ms/epoch - 9ms/step\n",
      "Epoch 119/10000\n",
      ".80/80 - 1s - loss: 0.0011 - binary_crossentropy: 0.0011 - accuracy: 0.9997 - val_loss: 0.0015 - val_binary_crossentropy: 0.0015 - val_accuracy: 0.9993 - 767ms/epoch - 10ms/step\n",
      "Epoch 120/10000\n",
      ".80/80 - 1s - loss: 0.0012 - binary_crossentropy: 0.0012 - accuracy: 0.9997 - val_loss: 0.0015 - val_binary_crossentropy: 0.0015 - val_accuracy: 0.9993 - 731ms/epoch - 9ms/step\n",
      "Epoch 121/10000\n",
      ".80/80 - 1s - loss: 0.0011 - binary_crossentropy: 0.0011 - accuracy: 0.9997 - val_loss: 0.0015 - val_binary_crossentropy: 0.0015 - val_accuracy: 0.9993 - 736ms/epoch - 9ms/step\n",
      "Epoch 122/10000\n",
      ".80/80 - 1s - loss: 0.0011 - binary_crossentropy: 0.0011 - accuracy: 0.9997 - val_loss: 0.0015 - val_binary_crossentropy: 0.0015 - val_accuracy: 0.9993 - 733ms/epoch - 9ms/step\n",
      "Epoch 123/10000\n",
      ".80/80 - 1s - loss: 9.7175e-04 - binary_crossentropy: 9.7175e-04 - accuracy: 0.9997 - val_loss: 0.0015 - val_binary_crossentropy: 0.0015 - val_accuracy: 0.9993 - 750ms/epoch - 9ms/step\n",
      "Epoch 124/10000\n",
      ".80/80 - 1s - loss: 0.0011 - binary_crossentropy: 0.0011 - accuracy: 0.9997 - val_loss: 0.0015 - val_binary_crossentropy: 0.0015 - val_accuracy: 0.9993 - 744ms/epoch - 9ms/step\n",
      "Epoch 125/10000\n",
      ".80/80 - 1s - loss: 0.0010 - binary_crossentropy: 0.0010 - accuracy: 0.9997 - val_loss: 0.0015 - val_binary_crossentropy: 0.0015 - val_accuracy: 0.9993 - 732ms/epoch - 9ms/step\n",
      "Epoch 126/10000\n",
      ".80/80 - 1s - loss: 9.6766e-04 - binary_crossentropy: 9.6766e-04 - accuracy: 0.9997 - val_loss: 0.0015 - val_binary_crossentropy: 0.0015 - val_accuracy: 0.9993 - 709ms/epoch - 9ms/step\n",
      "Epoch 127/10000\n",
      ".80/80 - 1s - loss: 9.1885e-04 - binary_crossentropy: 9.1885e-04 - accuracy: 0.9997 - val_loss: 0.0015 - val_binary_crossentropy: 0.0015 - val_accuracy: 0.9993 - 712ms/epoch - 9ms/step\n",
      "Epoch 128/10000\n",
      ".80/80 - 1s - loss: 9.6461e-04 - binary_crossentropy: 9.6461e-04 - accuracy: 0.9997 - val_loss: 0.0015 - val_binary_crossentropy: 0.0015 - val_accuracy: 0.9993 - 742ms/epoch - 9ms/step\n",
      "Epoch 129/10000\n",
      ".80/80 - 1s - loss: 9.4826e-04 - binary_crossentropy: 9.4826e-04 - accuracy: 0.9997 - val_loss: 0.0015 - val_binary_crossentropy: 0.0015 - val_accuracy: 0.9993 - 726ms/epoch - 9ms/step\n",
      "Epoch 130/10000\n",
      ".80/80 - 1s - loss: 9.4934e-04 - binary_crossentropy: 9.4934e-04 - accuracy: 0.9997 - val_loss: 0.0015 - val_binary_crossentropy: 0.0015 - val_accuracy: 0.9993 - 729ms/epoch - 9ms/step\n",
      "Epoch 131/10000\n",
      ".80/80 - 1s - loss: 9.7439e-04 - binary_crossentropy: 9.7439e-04 - accuracy: 0.9997 - val_loss: 0.0015 - val_binary_crossentropy: 0.0015 - val_accuracy: 0.9993 - 750ms/epoch - 9ms/step\n",
      "Epoch 132/10000\n",
      ".80/80 - 1s - loss: 9.7326e-04 - binary_crossentropy: 9.7326e-04 - accuracy: 0.9997 - val_loss: 0.0015 - val_binary_crossentropy: 0.0015 - val_accuracy: 0.9993 - 709ms/epoch - 9ms/step\n",
      "Epoch 133/10000\n",
      ".80/80 - 1s - loss: 9.8942e-04 - binary_crossentropy: 9.8942e-04 - accuracy: 0.9997 - val_loss: 0.0015 - val_binary_crossentropy: 0.0015 - val_accuracy: 0.9993 - 729ms/epoch - 9ms/step\n",
      "Epoch 134/10000\n",
      ".80/80 - 1s - loss: 9.5130e-04 - binary_crossentropy: 9.5130e-04 - accuracy: 0.9997 - val_loss: 0.0014 - val_binary_crossentropy: 0.0014 - val_accuracy: 0.9993 - 731ms/epoch - 9ms/step\n",
      "Epoch 135/10000\n",
      ".80/80 - 1s - loss: 9.4371e-04 - binary_crossentropy: 9.4371e-04 - accuracy: 0.9997 - val_loss: 0.0014 - val_binary_crossentropy: 0.0014 - val_accuracy: 0.9993 - 717ms/epoch - 9ms/step\n",
      "Epoch 136/10000\n",
      ".80/80 - 1s - loss: 0.0010 - binary_crossentropy: 0.0010 - accuracy: 0.9997 - val_loss: 0.0015 - val_binary_crossentropy: 0.0015 - val_accuracy: 0.9993 - 728ms/epoch - 9ms/step\n",
      "Epoch 137/10000\n",
      ".80/80 - 1s - loss: 0.0010 - binary_crossentropy: 0.0010 - accuracy: 0.9997 - val_loss: 0.0015 - val_binary_crossentropy: 0.0015 - val_accuracy: 0.9993 - 719ms/epoch - 9ms/step\n",
      "Epoch 138/10000\n",
      ".80/80 - 1s - loss: 9.4869e-04 - binary_crossentropy: 9.4869e-04 - accuracy: 0.9997 - val_loss: 0.0015 - val_binary_crossentropy: 0.0015 - val_accuracy: 0.9993 - 706ms/epoch - 9ms/step\n",
      "Epoch 139/10000\n",
      ".80/80 - 1s - loss: 9.2097e-04 - binary_crossentropy: 9.2097e-04 - accuracy: 0.9997 - val_loss: 0.0015 - val_binary_crossentropy: 0.0015 - val_accuracy: 0.9993 - 720ms/epoch - 9ms/step\n",
      "Epoch 140/10000\n",
      ".80/80 - 1s - loss: 9.2714e-04 - binary_crossentropy: 9.2714e-04 - accuracy: 0.9997 - val_loss: 0.0015 - val_binary_crossentropy: 0.0015 - val_accuracy: 0.9993 - 715ms/epoch - 9ms/step\n",
      "Epoch 141/10000\n",
      ".80/80 - 2s - loss: 9.9317e-04 - binary_crossentropy: 9.9317e-04 - accuracy: 0.9997 - val_loss: 0.0015 - val_binary_crossentropy: 0.0015 - val_accuracy: 0.9993 - 2s/epoch - 25ms/step\n",
      "Epoch 142/10000\n",
      ".80/80 - 1s - loss: 8.7289e-04 - binary_crossentropy: 8.7289e-04 - accuracy: 0.9997 - val_loss: 0.0015 - val_binary_crossentropy: 0.0015 - val_accuracy: 0.9993 - 1s/epoch - 18ms/step\n",
      "Epoch 143/10000\n",
      ".80/80 - 1s - loss: 9.0591e-04 - binary_crossentropy: 9.0591e-04 - accuracy: 0.9997 - val_loss: 0.0015 - val_binary_crossentropy: 0.0015 - val_accuracy: 0.9993 - 1s/epoch - 18ms/step\n",
      "Epoch 144/10000\n",
      ".80/80 - 1s - loss: 8.5166e-04 - binary_crossentropy: 8.5166e-04 - accuracy: 0.9997 - val_loss: 0.0015 - val_binary_crossentropy: 0.0015 - val_accuracy: 0.9993 - 1s/epoch - 16ms/step\n",
      "Epoch 145/10000\n",
      ".80/80 - 1s - loss: 8.5361e-04 - binary_crossentropy: 8.5361e-04 - accuracy: 0.9997 - val_loss: 0.0015 - val_binary_crossentropy: 0.0015 - val_accuracy: 0.9993 - 758ms/epoch - 9ms/step\n",
      "Epoch 146/10000\n",
      ".80/80 - 1s - loss: 8.9920e-04 - binary_crossentropy: 8.9920e-04 - accuracy: 0.9997 - val_loss: 0.0015 - val_binary_crossentropy: 0.0015 - val_accuracy: 0.9993 - 847ms/epoch - 11ms/step\n",
      "Epoch 147/10000\n",
      ".80/80 - 1s - loss: 9.7772e-04 - binary_crossentropy: 9.7772e-04 - accuracy: 0.9997 - val_loss: 0.0015 - val_binary_crossentropy: 0.0015 - val_accuracy: 0.9993 - 701ms/epoch - 9ms/step\n",
      "Epoch 148/10000\n",
      ".80/80 - 1s - loss: 8.6612e-04 - binary_crossentropy: 8.6612e-04 - accuracy: 0.9997 - val_loss: 0.0015 - val_binary_crossentropy: 0.0015 - val_accuracy: 0.9993 - 707ms/epoch - 9ms/step\n",
      "Epoch 149/10000\n",
      ".80/80 - 1s - loss: 9.0592e-04 - binary_crossentropy: 9.0592e-04 - accuracy: 0.9997 - val_loss: 0.0015 - val_binary_crossentropy: 0.0015 - val_accuracy: 0.9993 - 690ms/epoch - 9ms/step\n",
      "Epoch 150/10000\n",
      ".80/80 - 1s - loss: 8.7062e-04 - binary_crossentropy: 8.7062e-04 - accuracy: 0.9997 - val_loss: 0.0015 - val_binary_crossentropy: 0.0015 - val_accuracy: 0.9993 - 717ms/epoch - 9ms/step\n",
      "Epoch 151/10000\n",
      ".80/80 - 1s - loss: 9.5856e-04 - binary_crossentropy: 9.5856e-04 - accuracy: 0.9997 - val_loss: 0.0015 - val_binary_crossentropy: 0.0015 - val_accuracy: 0.9993 - 719ms/epoch - 9ms/step\n",
      "Epoch 152/10000\n",
      ".80/80 - 1s - loss: 8.3624e-04 - binary_crossentropy: 8.3624e-04 - accuracy: 0.9997 - val_loss: 0.0014 - val_binary_crossentropy: 0.0014 - val_accuracy: 0.9993 - 711ms/epoch - 9ms/step\n",
      "Epoch 153/10000\n",
      ".80/80 - 1s - loss: 9.2075e-04 - binary_crossentropy: 9.2075e-04 - accuracy: 0.9997 - val_loss: 0.0014 - val_binary_crossentropy: 0.0014 - val_accuracy: 0.9993 - 720ms/epoch - 9ms/step\n",
      "Epoch 154/10000\n",
      ".80/80 - 1s - loss: 8.8969e-04 - binary_crossentropy: 8.8969e-04 - accuracy: 0.9997 - val_loss: 0.0015 - val_binary_crossentropy: 0.0015 - val_accuracy: 0.9993 - 734ms/epoch - 9ms/step\n",
      "Epoch 155/10000\n",
      ".80/80 - 1s - loss: 8.8067e-04 - binary_crossentropy: 8.8067e-04 - accuracy: 0.9997 - val_loss: 0.0015 - val_binary_crossentropy: 0.0015 - val_accuracy: 0.9993 - 703ms/epoch - 9ms/step\n",
      "Epoch 156/10000\n",
      ".80/80 - 1s - loss: 8.1168e-04 - binary_crossentropy: 8.1168e-04 - accuracy: 0.9997 - val_loss: 0.0015 - val_binary_crossentropy: 0.0015 - val_accuracy: 0.9993 - 734ms/epoch - 9ms/step\n",
      "Epoch 157/10000\n",
      ".80/80 - 1s - loss: 8.3795e-04 - binary_crossentropy: 8.3795e-04 - accuracy: 0.9997 - val_loss: 0.0015 - val_binary_crossentropy: 0.0015 - val_accuracy: 0.9993 - 727ms/epoch - 9ms/step\n",
      "Epoch 158/10000\n",
      ".80/80 - 1s - loss: 0.0011 - binary_crossentropy: 0.0011 - accuracy: 0.9996 - val_loss: 0.0035 - val_binary_crossentropy: 0.0035 - val_accuracy: 0.9990 - 727ms/epoch - 9ms/step\n",
      "Epoch 159/10000\n",
      ".80/80 - 1s - loss: 0.0163 - binary_crossentropy: 0.0163 - accuracy: 0.9960 - val_loss: 0.0243 - val_binary_crossentropy: 0.0243 - val_accuracy: 0.9913 - 739ms/epoch - 9ms/step\n",
      "Epoch 160/10000\n",
      ".80/80 - 1s - loss: 0.0633 - binary_crossentropy: 0.0633 - accuracy: 0.9804 - val_loss: 0.0224 - val_binary_crossentropy: 0.0224 - val_accuracy: 0.9933 - 718ms/epoch - 9ms/step\n",
      "Epoch 161/10000\n",
      ".80/80 - 1s - loss: 0.0191 - binary_crossentropy: 0.0191 - accuracy: 0.9940 - val_loss: 0.0046 - val_binary_crossentropy: 0.0046 - val_accuracy: 0.9983 - 716ms/epoch - 9ms/step\n",
      "Epoch 162/10000\n",
      ".80/80 - 1s - loss: 0.0043 - binary_crossentropy: 0.0043 - accuracy: 0.9990 - val_loss: 0.0021 - val_binary_crossentropy: 0.0021 - val_accuracy: 0.9993 - 731ms/epoch - 9ms/step\n",
      "Epoch 163/10000\n",
      ".80/80 - 1s - loss: 0.0028 - binary_crossentropy: 0.0028 - accuracy: 0.9996 - val_loss: 0.0019 - val_binary_crossentropy: 0.0019 - val_accuracy: 0.9993 - 733ms/epoch - 9ms/step\n",
      "Epoch 164/10000\n",
      ".80/80 - 1s - loss: 0.0022 - binary_crossentropy: 0.0022 - accuracy: 0.9997 - val_loss: 0.0018 - val_binary_crossentropy: 0.0018 - val_accuracy: 0.9993 - 742ms/epoch - 9ms/step\n",
      "Epoch 165/10000\n",
      ".80/80 - 1s - loss: 0.0014 - binary_crossentropy: 0.0014 - accuracy: 0.9997 - val_loss: 0.0015 - val_binary_crossentropy: 0.0015 - val_accuracy: 0.9993 - 801ms/epoch - 10ms/step\n",
      "Epoch 166/10000\n",
      ".80/80 - 1s - loss: 0.0013 - binary_crossentropy: 0.0013 - accuracy: 0.9997 - val_loss: 0.0015 - val_binary_crossentropy: 0.0015 - val_accuracy: 0.9993 - 707ms/epoch - 9ms/step\n",
      "Epoch 167/10000\n",
      ".80/80 - 1s - loss: 0.0012 - binary_crossentropy: 0.0012 - accuracy: 0.9997 - val_loss: 0.0015 - val_binary_crossentropy: 0.0015 - val_accuracy: 0.9993 - 704ms/epoch - 9ms/step\n",
      "Epoch 168/10000\n",
      ".80/80 - 1s - loss: 0.0012 - binary_crossentropy: 0.0012 - accuracy: 0.9997 - val_loss: 0.0015 - val_binary_crossentropy: 0.0015 - val_accuracy: 0.9993 - 711ms/epoch - 9ms/step\n",
      "Epoch 169/10000\n",
      ".80/80 - 1s - loss: 0.0010 - binary_crossentropy: 0.0010 - accuracy: 0.9997 - val_loss: 0.0015 - val_binary_crossentropy: 0.0015 - val_accuracy: 0.9993 - 715ms/epoch - 9ms/step\n",
      "Epoch 170/10000\n",
      ".80/80 - 1s - loss: 0.0010 - binary_crossentropy: 0.0010 - accuracy: 0.9997 - val_loss: 0.0015 - val_binary_crossentropy: 0.0015 - val_accuracy: 0.9993 - 707ms/epoch - 9ms/step\n",
      "Epoch 171/10000\n",
      ".80/80 - 1s - loss: 0.0010 - binary_crossentropy: 0.0010 - accuracy: 0.9997 - val_loss: 0.0015 - val_binary_crossentropy: 0.0015 - val_accuracy: 0.9993 - 716ms/epoch - 9ms/step\n",
      "Epoch 172/10000\n",
      ".80/80 - 1s - loss: 9.9657e-04 - binary_crossentropy: 9.9657e-04 - accuracy: 0.9997 - val_loss: 0.0015 - val_binary_crossentropy: 0.0015 - val_accuracy: 0.9993 - 739ms/epoch - 9ms/step\n",
      "Epoch 173/10000\n",
      ".80/80 - 1s - loss: 9.8502e-04 - binary_crossentropy: 9.8502e-04 - accuracy: 0.9997 - val_loss: 0.0015 - val_binary_crossentropy: 0.0015 - val_accuracy: 0.9993 - 715ms/epoch - 9ms/step\n",
      "Epoch 174/10000\n",
      ".80/80 - 1s - loss: 8.5155e-04 - binary_crossentropy: 8.5155e-04 - accuracy: 0.9997 - val_loss: 0.0015 - val_binary_crossentropy: 0.0015 - val_accuracy: 0.9993 - 737ms/epoch - 9ms/step\n",
      "Epoch 175/10000\n",
      ".80/80 - 1s - loss: 9.5679e-04 - binary_crossentropy: 9.5679e-04 - accuracy: 0.9997 - val_loss: 0.0015 - val_binary_crossentropy: 0.0015 - val_accuracy: 0.9993 - 726ms/epoch - 9ms/step\n",
      "Epoch 176/10000\n",
      ".80/80 - 1s - loss: 8.0746e-04 - binary_crossentropy: 8.0746e-04 - accuracy: 0.9997 - val_loss: 0.0015 - val_binary_crossentropy: 0.0015 - val_accuracy: 0.9993 - 710ms/epoch - 9ms/step\n",
      "Epoch 177/10000\n",
      ".80/80 - 1s - loss: 9.2542e-04 - binary_crossentropy: 9.2542e-04 - accuracy: 0.9997 - val_loss: 0.0015 - val_binary_crossentropy: 0.0015 - val_accuracy: 0.9993 - 701ms/epoch - 9ms/step\n",
      "Epoch 178/10000\n",
      ".80/80 - 1s - loss: 9.2262e-04 - binary_crossentropy: 9.2262e-04 - accuracy: 0.9997 - val_loss: 0.0015 - val_binary_crossentropy: 0.0015 - val_accuracy: 0.9993 - 691ms/epoch - 9ms/step\n",
      "Epoch 179/10000\n",
      ".80/80 - 1s - loss: 8.5639e-04 - binary_crossentropy: 8.5639e-04 - accuracy: 0.9997 - val_loss: 0.0015 - val_binary_crossentropy: 0.0015 - val_accuracy: 0.9993 - 716ms/epoch - 9ms/step\n",
      "Epoch 180/10000\n",
      ".80/80 - 1s - loss: 9.8162e-04 - binary_crossentropy: 9.8162e-04 - accuracy: 0.9997 - val_loss: 0.0015 - val_binary_crossentropy: 0.0015 - val_accuracy: 0.9993 - 730ms/epoch - 9ms/step\n",
      "Epoch 181/10000\n",
      ".80/80 - 1s - loss: 8.7046e-04 - binary_crossentropy: 8.7046e-04 - accuracy: 0.9997 - val_loss: 0.0015 - val_binary_crossentropy: 0.0015 - val_accuracy: 0.9993 - 716ms/epoch - 9ms/step\n",
      "Epoch 182/10000\n",
      ".80/80 - 1s - loss: 8.1691e-04 - binary_crossentropy: 8.1691e-04 - accuracy: 0.9997 - val_loss: 0.0015 - val_binary_crossentropy: 0.0015 - val_accuracy: 0.9993 - 697ms/epoch - 9ms/step\n",
      "Epoch 183/10000\n",
      ".80/80 - 1s - loss: 9.1388e-04 - binary_crossentropy: 9.1388e-04 - accuracy: 0.9997 - val_loss: 0.0015 - val_binary_crossentropy: 0.0015 - val_accuracy: 0.9993 - 760ms/epoch - 9ms/step\n",
      "Epoch 184/10000\n",
      ".80/80 - 1s - loss: 8.8325e-04 - binary_crossentropy: 8.8325e-04 - accuracy: 0.9997 - val_loss: 0.0015 - val_binary_crossentropy: 0.0015 - val_accuracy: 0.9993 - 712ms/epoch - 9ms/step\n",
      "Epoch 185/10000\n",
      ".80/80 - 1s - loss: 9.3784e-04 - binary_crossentropy: 9.3784e-04 - accuracy: 0.9997 - val_loss: 0.0015 - val_binary_crossentropy: 0.0015 - val_accuracy: 0.9993 - 733ms/epoch - 9ms/step\n",
      "Epoch 186/10000\n",
      ".80/80 - 1s - loss: 9.1460e-04 - binary_crossentropy: 9.1460e-04 - accuracy: 0.9997 - val_loss: 0.0015 - val_binary_crossentropy: 0.0015 - val_accuracy: 0.9993 - 724ms/epoch - 9ms/step\n",
      "Epoch 187/10000\n",
      ".80/80 - 1s - loss: 8.9455e-04 - binary_crossentropy: 8.9455e-04 - accuracy: 0.9997 - val_loss: 0.0015 - val_binary_crossentropy: 0.0015 - val_accuracy: 0.9993 - 720ms/epoch - 9ms/step\n",
      "Epoch 188/10000\n",
      ".80/80 - 1s - loss: 8.6100e-04 - binary_crossentropy: 8.6100e-04 - accuracy: 0.9997 - val_loss: 0.0015 - val_binary_crossentropy: 0.0015 - val_accuracy: 0.9993 - 703ms/epoch - 9ms/step\n",
      "Epoch 189/10000\n",
      ".80/80 - 1s - loss: 8.0327e-04 - binary_crossentropy: 8.0327e-04 - accuracy: 0.9997 - val_loss: 0.0015 - val_binary_crossentropy: 0.0015 - val_accuracy: 0.9993 - 716ms/epoch - 9ms/step\n",
      "Epoch 190/10000\n",
      ".80/80 - 1s - loss: 8.8485e-04 - binary_crossentropy: 8.8485e-04 - accuracy: 0.9997 - val_loss: 0.0015 - val_binary_crossentropy: 0.0015 - val_accuracy: 0.9993 - 724ms/epoch - 9ms/step\n",
      "Epoch 191/10000\n",
      ".80/80 - 1s - loss: 8.5896e-04 - binary_crossentropy: 8.5896e-04 - accuracy: 0.9997 - val_loss: 0.0014 - val_binary_crossentropy: 0.0014 - val_accuracy: 0.9993 - 729ms/epoch - 9ms/step\n",
      "Epoch 192/10000\n",
      ".80/80 - 1s - loss: 8.2417e-04 - binary_crossentropy: 8.2417e-04 - accuracy: 0.9997 - val_loss: 0.0015 - val_binary_crossentropy: 0.0015 - val_accuracy: 0.9993 - 737ms/epoch - 9ms/step\n",
      "Epoch 193/10000\n",
      ".80/80 - 1s - loss: 7.7137e-04 - binary_crossentropy: 7.7137e-04 - accuracy: 0.9997 - val_loss: 0.0014 - val_binary_crossentropy: 0.0014 - val_accuracy: 0.9993 - 731ms/epoch - 9ms/step\n",
      "Epoch 194/10000\n",
      ".80/80 - 1s - loss: 8.8567e-04 - binary_crossentropy: 8.8567e-04 - accuracy: 0.9997 - val_loss: 0.0014 - val_binary_crossentropy: 0.0014 - val_accuracy: 0.9993 - 717ms/epoch - 9ms/step\n",
      "Epoch 195/10000\n",
      ".80/80 - 1s - loss: 8.4132e-04 - binary_crossentropy: 8.4132e-04 - accuracy: 0.9997 - val_loss: 0.0014 - val_binary_crossentropy: 0.0014 - val_accuracy: 0.9993 - 712ms/epoch - 9ms/step\n",
      "Epoch 196/10000\n",
      ".80/80 - 1s - loss: 8.2819e-04 - binary_crossentropy: 8.2819e-04 - accuracy: 0.9997 - val_loss: 0.0014 - val_binary_crossentropy: 0.0014 - val_accuracy: 0.9993 - 715ms/epoch - 9ms/step\n",
      "Epoch 197/10000\n",
      ".80/80 - 1s - loss: 7.8738e-04 - binary_crossentropy: 7.8738e-04 - accuracy: 0.9997 - val_loss: 0.0014 - val_binary_crossentropy: 0.0014 - val_accuracy: 0.9993 - 719ms/epoch - 9ms/step\n",
      "Epoch 198/10000\n",
      ".80/80 - 1s - loss: 7.3617e-04 - binary_crossentropy: 7.3617e-04 - accuracy: 0.9997 - val_loss: 0.0014 - val_binary_crossentropy: 0.0014 - val_accuracy: 0.9993 - 721ms/epoch - 9ms/step\n",
      "Epoch 199/10000\n",
      ".80/80 - 1s - loss: 7.9004e-04 - binary_crossentropy: 7.9004e-04 - accuracy: 0.9997 - val_loss: 0.0015 - val_binary_crossentropy: 0.0015 - val_accuracy: 0.9993 - 716ms/epoch - 9ms/step\n",
      "Epoch 200/10000\n",
      ".80/80 - 1s - loss: 7.4332e-04 - binary_crossentropy: 7.4332e-04 - accuracy: 0.9997 - val_loss: 0.0015 - val_binary_crossentropy: 0.0015 - val_accuracy: 0.9993 - 718ms/epoch - 9ms/step\n",
      "Epoch 201/10000\n",
      "\n",
      "Epoch: 200, accuracy:0.9997,  binary_crossentropy:0.0008,  loss:0.0008,  val_accuracy:0.9993,  val_binary_crossentropy:0.0015,  val_loss:0.0015,  \n",
      ".80/80 - 1s - loss: 7.8284e-04 - binary_crossentropy: 7.8284e-04 - accuracy: 0.9997 - val_loss: 0.0015 - val_binary_crossentropy: 0.0015 - val_accuracy: 0.9993 - 735ms/epoch - 9ms/step\n",
      "Epoch 202/10000\n",
      ".80/80 - 1s - loss: 8.4611e-04 - binary_crossentropy: 8.4611e-04 - accuracy: 0.9997 - val_loss: 0.0015 - val_binary_crossentropy: 0.0015 - val_accuracy: 0.9993 - 709ms/epoch - 9ms/step\n",
      "Epoch 203/10000\n",
      ".80/80 - 1s - loss: 8.8866e-04 - binary_crossentropy: 8.8866e-04 - accuracy: 0.9997 - val_loss: 0.0014 - val_binary_crossentropy: 0.0014 - val_accuracy: 0.9993 - 723ms/epoch - 9ms/step\n",
      "Epoch 204/10000\n",
      ".80/80 - 1s - loss: 7.3063e-04 - binary_crossentropy: 7.3063e-04 - accuracy: 0.9997 - val_loss: 0.0014 - val_binary_crossentropy: 0.0014 - val_accuracy: 0.9993 - 716ms/epoch - 9ms/step\n",
      "Epoch 205/10000\n",
      ".80/80 - 1s - loss: 8.7407e-04 - binary_crossentropy: 8.7407e-04 - accuracy: 0.9997 - val_loss: 0.0014 - val_binary_crossentropy: 0.0014 - val_accuracy: 0.9993 - 718ms/epoch - 9ms/step\n",
      "Epoch 206/10000\n",
      ".80/80 - 1s - loss: 7.7857e-04 - binary_crossentropy: 7.7857e-04 - accuracy: 0.9997 - val_loss: 0.0015 - val_binary_crossentropy: 0.0015 - val_accuracy: 0.9993 - 729ms/epoch - 9ms/step\n",
      "Epoch 207/10000\n",
      ".80/80 - 1s - loss: 8.1031e-04 - binary_crossentropy: 8.1031e-04 - accuracy: 0.9997 - val_loss: 0.0015 - val_binary_crossentropy: 0.0015 - val_accuracy: 0.9993 - 729ms/epoch - 9ms/step\n",
      "Epoch 208/10000\n",
      ".80/80 - 1s - loss: 7.8633e-04 - binary_crossentropy: 7.8633e-04 - accuracy: 0.9997 - val_loss: 0.0014 - val_binary_crossentropy: 0.0014 - val_accuracy: 0.9993 - 728ms/epoch - 9ms/step\n",
      "Epoch 209/10000\n",
      ".80/80 - 1s - loss: 8.0195e-04 - binary_crossentropy: 8.0195e-04 - accuracy: 0.9997 - val_loss: 0.0014 - val_binary_crossentropy: 0.0014 - val_accuracy: 0.9993 - 738ms/epoch - 9ms/step\n",
      "Epoch 210/10000\n",
      ".80/80 - 1s - loss: 8.0258e-04 - binary_crossentropy: 8.0258e-04 - accuracy: 0.9997 - val_loss: 0.0014 - val_binary_crossentropy: 0.0014 - val_accuracy: 0.9993 - 730ms/epoch - 9ms/step\n",
      "Epoch 211/10000\n",
      ".80/80 - 1s - loss: 7.6676e-04 - binary_crossentropy: 7.6676e-04 - accuracy: 0.9997 - val_loss: 0.0014 - val_binary_crossentropy: 0.0014 - val_accuracy: 0.9993 - 727ms/epoch - 9ms/step\n",
      "Epoch 212/10000\n",
      ".80/80 - 1s - loss: 7.7724e-04 - binary_crossentropy: 7.7724e-04 - accuracy: 0.9997 - val_loss: 0.0015 - val_binary_crossentropy: 0.0015 - val_accuracy: 0.9993 - 711ms/epoch - 9ms/step\n",
      "Epoch 213/10000\n",
      ".80/80 - 1s - loss: 7.3383e-04 - binary_crossentropy: 7.3383e-04 - accuracy: 0.9997 - val_loss: 0.0015 - val_binary_crossentropy: 0.0015 - val_accuracy: 0.9993 - 738ms/epoch - 9ms/step\n",
      "Epoch 214/10000\n",
      ".80/80 - 1s - loss: 8.0602e-04 - binary_crossentropy: 8.0602e-04 - accuracy: 0.9997 - val_loss: 0.0014 - val_binary_crossentropy: 0.0014 - val_accuracy: 0.9993 - 706ms/epoch - 9ms/step\n",
      "Epoch 215/10000\n",
      ".80/80 - 1s - loss: 7.5911e-04 - binary_crossentropy: 7.5911e-04 - accuracy: 0.9997 - val_loss: 0.0014 - val_binary_crossentropy: 0.0014 - val_accuracy: 0.9993 - 730ms/epoch - 9ms/step\n",
      "Epoch 216/10000\n",
      ".80/80 - 1s - loss: 7.5874e-04 - binary_crossentropy: 7.5874e-04 - accuracy: 0.9997 - val_loss: 0.0014 - val_binary_crossentropy: 0.0014 - val_accuracy: 0.9993 - 716ms/epoch - 9ms/step\n",
      "Epoch 217/10000\n",
      ".80/80 - 1s - loss: 7.3842e-04 - binary_crossentropy: 7.3842e-04 - accuracy: 0.9997 - val_loss: 0.0014 - val_binary_crossentropy: 0.0014 - val_accuracy: 0.9993 - 785ms/epoch - 10ms/step\n",
      "Epoch 218/10000\n",
      ".80/80 - 1s - loss: 7.4746e-04 - binary_crossentropy: 7.4746e-04 - accuracy: 0.9997 - val_loss: 0.0014 - val_binary_crossentropy: 0.0014 - val_accuracy: 0.9993 - 732ms/epoch - 9ms/step\n",
      "Epoch 219/10000\n",
      ".80/80 - 1s - loss: 7.5265e-04 - binary_crossentropy: 7.5265e-04 - accuracy: 0.9998 - val_loss: 0.0014 - val_binary_crossentropy: 0.0014 - val_accuracy: 0.9993 - 742ms/epoch - 9ms/step\n",
      "Epoch 220/10000\n",
      ".80/80 - 1s - loss: 0.0029 - binary_crossentropy: 0.0029 - accuracy: 0.9990 - val_loss: 0.0063 - val_binary_crossentropy: 0.0063 - val_accuracy: 0.9990 - 726ms/epoch - 9ms/step\n",
      "Epoch 221/10000\n",
      ".80/80 - 1s - loss: 0.0849 - binary_crossentropy: 0.0849 - accuracy: 0.9811 - val_loss: 0.0306 - val_binary_crossentropy: 0.0306 - val_accuracy: 0.9897 - 708ms/epoch - 9ms/step\n",
      "Epoch 222/10000\n",
      ".80/80 - 1s - loss: 0.0310 - binary_crossentropy: 0.0310 - accuracy: 0.9890 - val_loss: 0.0069 - val_binary_crossentropy: 0.0069 - val_accuracy: 0.9973 - 721ms/epoch - 9ms/step\n",
      "Epoch 223/10000\n",
      ".80/80 - 1s - loss: 0.0079 - binary_crossentropy: 0.0079 - accuracy: 0.9975 - val_loss: 0.0032 - val_binary_crossentropy: 0.0032 - val_accuracy: 0.9987 - 720ms/epoch - 9ms/step\n",
      "Epoch 224/10000\n",
      ".80/80 - 1s - loss: 0.0034 - binary_crossentropy: 0.0034 - accuracy: 0.9991 - val_loss: 0.0026 - val_binary_crossentropy: 0.0026 - val_accuracy: 0.9987 - 700ms/epoch - 9ms/step\n",
      "Epoch 225/10000\n",
      ".80/80 - 1s - loss: 0.0024 - binary_crossentropy: 0.0024 - accuracy: 0.9994 - val_loss: 0.0020 - val_binary_crossentropy: 0.0020 - val_accuracy: 0.9990 - 750ms/epoch - 9ms/step\n",
      "Epoch 226/10000\n",
      ".80/80 - 1s - loss: 0.0018 - binary_crossentropy: 0.0018 - accuracy: 0.9995 - val_loss: 0.0017 - val_binary_crossentropy: 0.0017 - val_accuracy: 0.9993 - 728ms/epoch - 9ms/step\n",
      "Epoch 227/10000\n",
      ".80/80 - 1s - loss: 0.0016 - binary_crossentropy: 0.0016 - accuracy: 0.9996 - val_loss: 0.0017 - val_binary_crossentropy: 0.0017 - val_accuracy: 0.9993 - 726ms/epoch - 9ms/step\n",
      "Epoch 228/10000\n",
      ".80/80 - 1s - loss: 0.0014 - binary_crossentropy: 0.0014 - accuracy: 0.9996 - val_loss: 0.0016 - val_binary_crossentropy: 0.0016 - val_accuracy: 0.9993 - 730ms/epoch - 9ms/step\n",
      "Epoch 229/10000\n",
      ".80/80 - 1s - loss: 0.0014 - binary_crossentropy: 0.0014 - accuracy: 0.9996 - val_loss: 0.0016 - val_binary_crossentropy: 0.0016 - val_accuracy: 0.9993 - 744ms/epoch - 9ms/step\n",
      "Epoch 230/10000\n",
      ".80/80 - 1s - loss: 0.0013 - binary_crossentropy: 0.0013 - accuracy: 0.9996 - val_loss: 0.0014 - val_binary_crossentropy: 0.0014 - val_accuracy: 0.9993 - 732ms/epoch - 9ms/step\n",
      "Epoch 231/10000\n",
      ".80/80 - 1s - loss: 0.0011 - binary_crossentropy: 0.0011 - accuracy: 0.9997 - val_loss: 0.0014 - val_binary_crossentropy: 0.0014 - val_accuracy: 0.9993 - 742ms/epoch - 9ms/step\n",
      "Epoch 232/10000\n",
      ".80/80 - 1s - loss: 0.0012 - binary_crossentropy: 0.0012 - accuracy: 0.9996 - val_loss: 0.0014 - val_binary_crossentropy: 0.0014 - val_accuracy: 0.9993 - 723ms/epoch - 9ms/step\n",
      "Epoch 233/10000\n",
      ".80/80 - 1s - loss: 0.0011 - binary_crossentropy: 0.0011 - accuracy: 0.9997 - val_loss: 0.0014 - val_binary_crossentropy: 0.0014 - val_accuracy: 0.9993 - 722ms/epoch - 9ms/step\n",
      "Epoch 234/10000\n",
      ".80/80 - 1s - loss: 0.0011 - binary_crossentropy: 0.0011 - accuracy: 0.9997 - val_loss: 0.0014 - val_binary_crossentropy: 0.0014 - val_accuracy: 0.9993 - 760ms/epoch - 9ms/step\n",
      "Epoch 235/10000\n",
      ".80/80 - 1s - loss: 9.7450e-04 - binary_crossentropy: 9.7450e-04 - accuracy: 0.9997 - val_loss: 0.0014 - val_binary_crossentropy: 0.0014 - val_accuracy: 0.9993 - 733ms/epoch - 9ms/step\n",
      "Epoch 236/10000\n",
      ".80/80 - 1s - loss: 0.0011 - binary_crossentropy: 0.0011 - accuracy: 0.9997 - val_loss: 0.0014 - val_binary_crossentropy: 0.0014 - val_accuracy: 0.9993 - 712ms/epoch - 9ms/step\n",
      "Epoch 237/10000\n",
      ".80/80 - 1s - loss: 0.0011 - binary_crossentropy: 0.0011 - accuracy: 0.9997 - val_loss: 0.0014 - val_binary_crossentropy: 0.0014 - val_accuracy: 0.9993 - 750ms/epoch - 9ms/step\n",
      "Epoch 238/10000\n",
      ".80/80 - 1s - loss: 9.2290e-04 - binary_crossentropy: 9.2290e-04 - accuracy: 0.9997 - val_loss: 0.0014 - val_binary_crossentropy: 0.0014 - val_accuracy: 0.9993 - 757ms/epoch - 9ms/step\n",
      "Epoch 239/10000\n",
      ".80/80 - 1s - loss: 0.0011 - binary_crossentropy: 0.0011 - accuracy: 0.9997 - val_loss: 0.0014 - val_binary_crossentropy: 0.0014 - val_accuracy: 0.9993 - 730ms/epoch - 9ms/step\n",
      "Epoch 240/10000\n",
      ".80/80 - 1s - loss: 0.0010 - binary_crossentropy: 0.0010 - accuracy: 0.9996 - val_loss: 0.0014 - val_binary_crossentropy: 0.0014 - val_accuracy: 0.9993 - 725ms/epoch - 9ms/step\n",
      "Epoch 241/10000\n",
      ".80/80 - 1s - loss: 0.0010 - binary_crossentropy: 0.0010 - accuracy: 0.9997 - val_loss: 0.0014 - val_binary_crossentropy: 0.0014 - val_accuracy: 0.9993 - 710ms/epoch - 9ms/step\n",
      "Epoch 242/10000\n",
      ".80/80 - 1s - loss: 9.2631e-04 - binary_crossentropy: 9.2631e-04 - accuracy: 0.9997 - val_loss: 0.0014 - val_binary_crossentropy: 0.0014 - val_accuracy: 0.9993 - 765ms/epoch - 10ms/step\n",
      "Epoch 243/10000\n",
      ".80/80 - 1s - loss: 9.1651e-04 - binary_crossentropy: 9.1651e-04 - accuracy: 0.9997 - val_loss: 0.0014 - val_binary_crossentropy: 0.0014 - val_accuracy: 0.9993 - 733ms/epoch - 9ms/step\n",
      "Epoch 244/10000\n",
      ".80/80 - 1s - loss: 9.4121e-04 - binary_crossentropy: 9.4121e-04 - accuracy: 0.9997 - val_loss: 0.0014 - val_binary_crossentropy: 0.0014 - val_accuracy: 0.9993 - 705ms/epoch - 9ms/step\n",
      "Epoch 245/10000\n",
      ".80/80 - 1s - loss: 8.5754e-04 - binary_crossentropy: 8.5754e-04 - accuracy: 0.9997 - val_loss: 0.0014 - val_binary_crossentropy: 0.0014 - val_accuracy: 0.9993 - 724ms/epoch - 9ms/step\n",
      "Epoch 246/10000\n",
      ".80/80 - 1s - loss: 8.4700e-04 - binary_crossentropy: 8.4700e-04 - accuracy: 0.9997 - val_loss: 0.0014 - val_binary_crossentropy: 0.0014 - val_accuracy: 0.9993 - 763ms/epoch - 10ms/step\n",
      "Epoch 247/10000\n",
      ".80/80 - 1s - loss: 9.5916e-04 - binary_crossentropy: 9.5916e-04 - accuracy: 0.9997 - val_loss: 0.0014 - val_binary_crossentropy: 0.0014 - val_accuracy: 0.9993 - 741ms/epoch - 9ms/step\n",
      "Epoch 248/10000\n",
      ".80/80 - 1s - loss: 9.1652e-04 - binary_crossentropy: 9.1652e-04 - accuracy: 0.9997 - val_loss: 0.0014 - val_binary_crossentropy: 0.0014 - val_accuracy: 0.9993 - 733ms/epoch - 9ms/step\n",
      "Epoch 249/10000\n",
      ".80/80 - 1s - loss: 8.8638e-04 - binary_crossentropy: 8.8638e-04 - accuracy: 0.9997 - val_loss: 0.0014 - val_binary_crossentropy: 0.0014 - val_accuracy: 0.9993 - 745ms/epoch - 9ms/step\n",
      "Epoch 250/10000\n",
      ".80/80 - 1s - loss: 8.2702e-04 - binary_crossentropy: 8.2702e-04 - accuracy: 0.9997 - val_loss: 0.0014 - val_binary_crossentropy: 0.0014 - val_accuracy: 0.9993 - 737ms/epoch - 9ms/step\n",
      "Epoch 251/10000\n",
      ".80/80 - 1s - loss: 8.1645e-04 - binary_crossentropy: 8.1645e-04 - accuracy: 0.9997 - val_loss: 0.0014 - val_binary_crossentropy: 0.0014 - val_accuracy: 0.9993 - 752ms/epoch - 9ms/step\n",
      "Epoch 252/10000\n",
      ".80/80 - 1s - loss: 8.7433e-04 - binary_crossentropy: 8.7433e-04 - accuracy: 0.9997 - val_loss: 0.0014 - val_binary_crossentropy: 0.0014 - val_accuracy: 0.9993 - 711ms/epoch - 9ms/step\n",
      "Epoch 253/10000\n",
      ".80/80 - 1s - loss: 7.7233e-04 - binary_crossentropy: 7.7233e-04 - accuracy: 0.9997 - val_loss: 0.0014 - val_binary_crossentropy: 0.0014 - val_accuracy: 0.9993 - 747ms/epoch - 9ms/step\n",
      "Epoch 254/10000\n",
      ".80/80 - 1s - loss: 8.5141e-04 - binary_crossentropy: 8.5141e-04 - accuracy: 0.9997 - val_loss: 0.0014 - val_binary_crossentropy: 0.0014 - val_accuracy: 0.9993 - 732ms/epoch - 9ms/step\n",
      "Epoch 255/10000\n",
      ".80/80 - 1s - loss: 8.6063e-04 - binary_crossentropy: 8.6063e-04 - accuracy: 0.9997 - val_loss: 0.0014 - val_binary_crossentropy: 0.0014 - val_accuracy: 0.9993 - 713ms/epoch - 9ms/step\n",
      "Epoch 256/10000\n",
      ".80/80 - 1s - loss: 7.7138e-04 - binary_crossentropy: 7.7138e-04 - accuracy: 0.9997 - val_loss: 0.0014 - val_binary_crossentropy: 0.0014 - val_accuracy: 0.9993 - 716ms/epoch - 9ms/step\n",
      "Epoch 257/10000\n",
      ".80/80 - 1s - loss: 8.0143e-04 - binary_crossentropy: 8.0143e-04 - accuracy: 0.9997 - val_loss: 0.0014 - val_binary_crossentropy: 0.0014 - val_accuracy: 0.9993 - 717ms/epoch - 9ms/step\n",
      "Epoch 258/10000\n",
      ".80/80 - 1s - loss: 8.4336e-04 - binary_crossentropy: 8.4336e-04 - accuracy: 0.9997 - val_loss: 0.0014 - val_binary_crossentropy: 0.0014 - val_accuracy: 0.9993 - 720ms/epoch - 9ms/step\n",
      "Epoch 259/10000\n",
      ".80/80 - 1s - loss: 8.5002e-04 - binary_crossentropy: 8.5002e-04 - accuracy: 0.9997 - val_loss: 0.0014 - val_binary_crossentropy: 0.0014 - val_accuracy: 0.9993 - 725ms/epoch - 9ms/step\n",
      "Epoch 260/10000\n",
      ".80/80 - 1s - loss: 8.7055e-04 - binary_crossentropy: 8.7055e-04 - accuracy: 0.9997 - val_loss: 0.0014 - val_binary_crossentropy: 0.0014 - val_accuracy: 0.9993 - 753ms/epoch - 9ms/step\n",
      "Epoch 261/10000\n",
      ".80/80 - 1s - loss: 9.4581e-04 - binary_crossentropy: 9.4581e-04 - accuracy: 0.9997 - val_loss: 0.0014 - val_binary_crossentropy: 0.0014 - val_accuracy: 0.9993 - 739ms/epoch - 9ms/step\n",
      "Epoch 262/10000\n",
      ".80/80 - 1s - loss: 7.8205e-04 - binary_crossentropy: 7.8205e-04 - accuracy: 0.9997 - val_loss: 0.0014 - val_binary_crossentropy: 0.0014 - val_accuracy: 0.9993 - 710ms/epoch - 9ms/step\n",
      "Epoch 263/10000\n",
      ".80/80 - 1s - loss: 8.4379e-04 - binary_crossentropy: 8.4379e-04 - accuracy: 0.9997 - val_loss: 0.0014 - val_binary_crossentropy: 0.0014 - val_accuracy: 0.9993 - 732ms/epoch - 9ms/step\n",
      "Epoch 264/10000\n",
      ".80/80 - 1s - loss: 8.5118e-04 - binary_crossentropy: 8.5118e-04 - accuracy: 0.9997 - val_loss: 0.0014 - val_binary_crossentropy: 0.0014 - val_accuracy: 0.9993 - 751ms/epoch - 9ms/step\n",
      "Epoch 265/10000\n",
      ".80/80 - 1s - loss: 8.3198e-04 - binary_crossentropy: 8.3198e-04 - accuracy: 0.9997 - val_loss: 0.0014 - val_binary_crossentropy: 0.0014 - val_accuracy: 0.9993 - 724ms/epoch - 9ms/step\n",
      "Epoch 266/10000\n",
      ".80/80 - 1s - loss: 8.8663e-04 - binary_crossentropy: 8.8663e-04 - accuracy: 0.9997 - val_loss: 0.0014 - val_binary_crossentropy: 0.0014 - val_accuracy: 0.9993 - 735ms/epoch - 9ms/step\n",
      "Epoch 267/10000\n",
      ".80/80 - 1s - loss: 8.2960e-04 - binary_crossentropy: 8.2960e-04 - accuracy: 0.9997 - val_loss: 0.0014 - val_binary_crossentropy: 0.0014 - val_accuracy: 0.9993 - 718ms/epoch - 9ms/step\n",
      "Epoch 268/10000\n",
      ".80/80 - 1s - loss: 8.8518e-04 - binary_crossentropy: 8.8518e-04 - accuracy: 0.9997 - val_loss: 0.0014 - val_binary_crossentropy: 0.0014 - val_accuracy: 0.9993 - 759ms/epoch - 9ms/step\n",
      "Epoch 269/10000\n",
      ".80/80 - 1s - loss: 7.9235e-04 - binary_crossentropy: 7.9235e-04 - accuracy: 0.9997 - val_loss: 0.0014 - val_binary_crossentropy: 0.0014 - val_accuracy: 0.9993 - 719ms/epoch - 9ms/step\n",
      "Epoch 270/10000\n",
      ".80/80 - 1s - loss: 7.6960e-04 - binary_crossentropy: 7.6960e-04 - accuracy: 0.9997 - val_loss: 0.0014 - val_binary_crossentropy: 0.0014 - val_accuracy: 0.9993 - 714ms/epoch - 9ms/step\n",
      "Epoch 271/10000\n",
      ".80/80 - 1s - loss: 8.0127e-04 - binary_crossentropy: 8.0127e-04 - accuracy: 0.9997 - val_loss: 0.0014 - val_binary_crossentropy: 0.0014 - val_accuracy: 0.9993 - 728ms/epoch - 9ms/step\n",
      "Epoch 272/10000\n",
      ".80/80 - 1s - loss: 8.5859e-04 - binary_crossentropy: 8.5859e-04 - accuracy: 0.9997 - val_loss: 0.0014 - val_binary_crossentropy: 0.0014 - val_accuracy: 0.9993 - 713ms/epoch - 9ms/step\n",
      "Epoch 273/10000\n",
      ".80/80 - 1s - loss: 7.9691e-04 - binary_crossentropy: 7.9691e-04 - accuracy: 0.9997 - val_loss: 0.0014 - val_binary_crossentropy: 0.0014 - val_accuracy: 0.9993 - 716ms/epoch - 9ms/step\n",
      "Epoch 274/10000\n",
      ".80/80 - 1s - loss: 7.6867e-04 - binary_crossentropy: 7.6867e-04 - accuracy: 0.9997 - val_loss: 0.0014 - val_binary_crossentropy: 0.0014 - val_accuracy: 0.9993 - 723ms/epoch - 9ms/step\n",
      "Epoch 275/10000\n",
      ".80/80 - 1s - loss: 8.4130e-04 - binary_crossentropy: 8.4130e-04 - accuracy: 0.9997 - val_loss: 0.0014 - val_binary_crossentropy: 0.0014 - val_accuracy: 0.9993 - 718ms/epoch - 9ms/step\n",
      "Epoch 276/10000\n",
      ".80/80 - 1s - loss: 8.3668e-04 - binary_crossentropy: 8.3668e-04 - accuracy: 0.9997 - val_loss: 0.0014 - val_binary_crossentropy: 0.0014 - val_accuracy: 0.9993 - 716ms/epoch - 9ms/step\n",
      "Epoch 277/10000\n",
      ".80/80 - 1s - loss: 8.1909e-04 - binary_crossentropy: 8.1909e-04 - accuracy: 0.9997 - val_loss: 0.0014 - val_binary_crossentropy: 0.0014 - val_accuracy: 0.9993 - 722ms/epoch - 9ms/step\n",
      "Epoch 278/10000\n",
      ".80/80 - 1s - loss: 8.9406e-04 - binary_crossentropy: 8.9406e-04 - accuracy: 0.9997 - val_loss: 0.0014 - val_binary_crossentropy: 0.0014 - val_accuracy: 0.9993 - 733ms/epoch - 9ms/step\n",
      "Epoch 279/10000\n",
      ".80/80 - 1s - loss: 7.6609e-04 - binary_crossentropy: 7.6609e-04 - accuracy: 0.9997 - val_loss: 0.0014 - val_binary_crossentropy: 0.0014 - val_accuracy: 0.9993 - 722ms/epoch - 9ms/step\n",
      "Epoch 280/10000\n",
      ".80/80 - 1s - loss: 7.7831e-04 - binary_crossentropy: 7.7831e-04 - accuracy: 0.9997 - val_loss: 0.0014 - val_binary_crossentropy: 0.0014 - val_accuracy: 0.9993 - 723ms/epoch - 9ms/step\n",
      "Epoch 281/10000\n",
      ".80/80 - 1s - loss: 7.8697e-04 - binary_crossentropy: 7.8697e-04 - accuracy: 0.9997 - val_loss: 0.0014 - val_binary_crossentropy: 0.0014 - val_accuracy: 0.9993 - 711ms/epoch - 9ms/step\n",
      "Epoch 282/10000\n",
      ".80/80 - 1s - loss: 7.5604e-04 - binary_crossentropy: 7.5604e-04 - accuracy: 0.9997 - val_loss: 0.0014 - val_binary_crossentropy: 0.0014 - val_accuracy: 0.9993 - 709ms/epoch - 9ms/step\n",
      "Epoch 283/10000\n",
      ".80/80 - 1s - loss: 7.3471e-04 - binary_crossentropy: 7.3471e-04 - accuracy: 0.9997 - val_loss: 0.0014 - val_binary_crossentropy: 0.0014 - val_accuracy: 0.9993 - 717ms/epoch - 9ms/step\n",
      "Epoch 284/10000\n",
      ".80/80 - 1s - loss: 7.5887e-04 - binary_crossentropy: 7.5887e-04 - accuracy: 0.9997 - val_loss: 0.0014 - val_binary_crossentropy: 0.0014 - val_accuracy: 0.9993 - 722ms/epoch - 9ms/step\n",
      "Epoch 285/10000\n",
      ".80/80 - 1s - loss: 7.8256e-04 - binary_crossentropy: 7.8256e-04 - accuracy: 0.9997 - val_loss: 0.0014 - val_binary_crossentropy: 0.0014 - val_accuracy: 0.9993 - 708ms/epoch - 9ms/step\n",
      "Epoch 286/10000\n",
      ".80/80 - 1s - loss: 7.2914e-04 - binary_crossentropy: 7.2914e-04 - accuracy: 0.9997 - val_loss: 0.0014 - val_binary_crossentropy: 0.0014 - val_accuracy: 0.9993 - 718ms/epoch - 9ms/step\n",
      "Epoch 287/10000\n",
      ".80/80 - 1s - loss: 8.0043e-04 - binary_crossentropy: 8.0043e-04 - accuracy: 0.9997 - val_loss: 0.0014 - val_binary_crossentropy: 0.0014 - val_accuracy: 0.9993 - 743ms/epoch - 9ms/step\n",
      "Epoch 288/10000\n",
      ".80/80 - 1s - loss: 8.5826e-04 - binary_crossentropy: 8.5826e-04 - accuracy: 0.9997 - val_loss: 0.0014 - val_binary_crossentropy: 0.0014 - val_accuracy: 0.9993 - 739ms/epoch - 9ms/step\n",
      "Epoch 289/10000\n",
      ".80/80 - 1s - loss: 8.2427e-04 - binary_crossentropy: 8.2427e-04 - accuracy: 0.9997 - val_loss: 0.0014 - val_binary_crossentropy: 0.0014 - val_accuracy: 0.9993 - 733ms/epoch - 9ms/step\n",
      "Epoch 290/10000\n",
      ".80/80 - 1s - loss: 7.9053e-04 - binary_crossentropy: 7.9053e-04 - accuracy: 0.9997 - val_loss: 0.0014 - val_binary_crossentropy: 0.0014 - val_accuracy: 0.9993 - 730ms/epoch - 9ms/step\n",
      "Epoch 291/10000\n",
      ".80/80 - 1s - loss: 7.1483e-04 - binary_crossentropy: 7.1483e-04 - accuracy: 0.9997 - val_loss: 0.0014 - val_binary_crossentropy: 0.0014 - val_accuracy: 0.9993 - 727ms/epoch - 9ms/step\n",
      "Epoch 292/10000\n",
      ".80/80 - 1s - loss: 8.8474e-04 - binary_crossentropy: 8.8474e-04 - accuracy: 0.9997 - val_loss: 0.0014 - val_binary_crossentropy: 0.0014 - val_accuracy: 0.9993 - 717ms/epoch - 9ms/step\n",
      "Epoch 293/10000\n",
      ".80/80 - 1s - loss: 7.9594e-04 - binary_crossentropy: 7.9594e-04 - accuracy: 0.9997 - val_loss: 0.0014 - val_binary_crossentropy: 0.0014 - val_accuracy: 0.9993 - 711ms/epoch - 9ms/step\n",
      "Epoch 294/10000\n",
      ".80/80 - 1s - loss: 7.4810e-04 - binary_crossentropy: 7.4810e-04 - accuracy: 0.9997 - val_loss: 0.0015 - val_binary_crossentropy: 0.0015 - val_accuracy: 0.9993 - 730ms/epoch - 9ms/step\n",
      "Epoch 295/10000\n",
      ".80/80 - 1s - loss: 8.2394e-04 - binary_crossentropy: 8.2394e-04 - accuracy: 0.9997 - val_loss: 0.0015 - val_binary_crossentropy: 0.0015 - val_accuracy: 0.9990 - 725ms/epoch - 9ms/step\n",
      "Epoch 296/10000\n",
      ".80/80 - 1s - loss: 0.0024 - binary_crossentropy: 0.0024 - accuracy: 0.9992 - val_loss: 0.0044 - val_binary_crossentropy: 0.0044 - val_accuracy: 0.9983 - 727ms/epoch - 9ms/step\n",
      "Epoch 297/10000\n",
      ".80/80 - 1s - loss: 0.0084 - binary_crossentropy: 0.0084 - accuracy: 0.9977 - val_loss: 0.0356 - val_binary_crossentropy: 0.0356 - val_accuracy: 0.9923 - 758ms/epoch - 9ms/step\n",
      "Epoch 298/10000\n",
      ".80/80 - 1s - loss: 0.0272 - binary_crossentropy: 0.0272 - accuracy: 0.9924 - val_loss: 0.0120 - val_binary_crossentropy: 0.0120 - val_accuracy: 0.9953 - 724ms/epoch - 9ms/step\n",
      "Epoch 299/10000\n",
      ".80/80 - 1s - loss: 0.0121 - binary_crossentropy: 0.0121 - accuracy: 0.9966 - val_loss: 0.0024 - val_binary_crossentropy: 0.0024 - val_accuracy: 0.9993 - 703ms/epoch - 9ms/step\n",
      "Epoch 300/10000\n",
      ".80/80 - 1s - loss: 0.0030 - binary_crossentropy: 0.0030 - accuracy: 0.9993 - val_loss: 0.0018 - val_binary_crossentropy: 0.0018 - val_accuracy: 0.9993 - 720ms/epoch - 9ms/step\n",
      "Epoch 301/10000\n",
      "\n",
      "Epoch: 300, accuracy:0.9998,  binary_crossentropy:0.0013,  loss:0.0013,  val_accuracy:0.9993,  val_binary_crossentropy:0.0016,  val_loss:0.0016,  \n",
      ".80/80 - 1s - loss: 0.0013 - binary_crossentropy: 0.0013 - accuracy: 0.9998 - val_loss: 0.0016 - val_binary_crossentropy: 0.0016 - val_accuracy: 0.9993 - 748ms/epoch - 9ms/step\n",
      "Epoch 302/10000\n",
      ".80/80 - 1s - loss: 0.0012 - binary_crossentropy: 0.0012 - accuracy: 0.9997 - val_loss: 0.0016 - val_binary_crossentropy: 0.0016 - val_accuracy: 0.9993 - 735ms/epoch - 9ms/step\n",
      "Epoch 303/10000\n",
      ".80/80 - 1s - loss: 9.8091e-04 - binary_crossentropy: 9.8091e-04 - accuracy: 0.9998 - val_loss: 0.0016 - val_binary_crossentropy: 0.0016 - val_accuracy: 0.9993 - 711ms/epoch - 9ms/step\n",
      "Epoch 304/10000\n",
      ".80/80 - 1s - loss: 9.4656e-04 - binary_crossentropy: 9.4656e-04 - accuracy: 0.9998 - val_loss: 0.0015 - val_binary_crossentropy: 0.0015 - val_accuracy: 0.9993 - 719ms/epoch - 9ms/step\n",
      "Epoch 305/10000\n",
      ".80/80 - 1s - loss: 8.2696e-04 - binary_crossentropy: 8.2696e-04 - accuracy: 0.9998 - val_loss: 0.0015 - val_binary_crossentropy: 0.0015 - val_accuracy: 0.9993 - 761ms/epoch - 10ms/step\n",
      "Epoch 306/10000\n",
      ".80/80 - 1s - loss: 8.5050e-04 - binary_crossentropy: 8.5050e-04 - accuracy: 0.9998 - val_loss: 0.0015 - val_binary_crossentropy: 0.0015 - val_accuracy: 0.9993 - 746ms/epoch - 9ms/step\n",
      "Epoch 307/10000\n",
      ".80/80 - 1s - loss: 7.9109e-04 - binary_crossentropy: 7.9109e-04 - accuracy: 0.9998 - val_loss: 0.0016 - val_binary_crossentropy: 0.0016 - val_accuracy: 0.9993 - 712ms/epoch - 9ms/step\n",
      "Epoch 308/10000\n",
      ".80/80 - 1s - loss: 8.4471e-04 - binary_crossentropy: 8.4471e-04 - accuracy: 0.9997 - val_loss: 0.0016 - val_binary_crossentropy: 0.0016 - val_accuracy: 0.9993 - 701ms/epoch - 9ms/step\n",
      "Epoch 309/10000\n",
      ".80/80 - 1s - loss: 8.0081e-04 - binary_crossentropy: 8.0081e-04 - accuracy: 0.9998 - val_loss: 0.0015 - val_binary_crossentropy: 0.0015 - val_accuracy: 0.9993 - 730ms/epoch - 9ms/step\n",
      "Epoch 310/10000\n",
      ".80/80 - 1s - loss: 7.7569e-04 - binary_crossentropy: 7.7569e-04 - accuracy: 0.9998 - val_loss: 0.0015 - val_binary_crossentropy: 0.0015 - val_accuracy: 0.9993 - 733ms/epoch - 9ms/step\n",
      "Epoch 311/10000\n",
      ".80/80 - 1s - loss: 7.5383e-04 - binary_crossentropy: 7.5383e-04 - accuracy: 0.9998 - val_loss: 0.0016 - val_binary_crossentropy: 0.0016 - val_accuracy: 0.9993 - 736ms/epoch - 9ms/step\n",
      "Epoch 312/10000\n",
      ".80/80 - 1s - loss: 7.3001e-04 - binary_crossentropy: 7.3001e-04 - accuracy: 0.9998 - val_loss: 0.0016 - val_binary_crossentropy: 0.0016 - val_accuracy: 0.9993 - 717ms/epoch - 9ms/step\n",
      "Epoch 313/10000\n",
      ".80/80 - 1s - loss: 7.5799e-04 - binary_crossentropy: 7.5799e-04 - accuracy: 0.9998 - val_loss: 0.0015 - val_binary_crossentropy: 0.0015 - val_accuracy: 0.9993 - 716ms/epoch - 9ms/step\n",
      "Epoch 314/10000\n",
      ".80/80 - 1s - loss: 7.3730e-04 - binary_crossentropy: 7.3730e-04 - accuracy: 0.9998 - val_loss: 0.0015 - val_binary_crossentropy: 0.0015 - val_accuracy: 0.9993 - 762ms/epoch - 10ms/step\n",
      "Epoch 315/10000\n",
      ".80/80 - 1s - loss: 7.4479e-04 - binary_crossentropy: 7.4479e-04 - accuracy: 0.9998 - val_loss: 0.0016 - val_binary_crossentropy: 0.0016 - val_accuracy: 0.9993 - 715ms/epoch - 9ms/step\n",
      "Epoch 316/10000\n",
      ".80/80 - 1s - loss: 6.5546e-04 - binary_crossentropy: 6.5546e-04 - accuracy: 0.9998 - val_loss: 0.0016 - val_binary_crossentropy: 0.0016 - val_accuracy: 0.9993 - 720ms/epoch - 9ms/step\n",
      "Epoch 317/10000\n",
      ".80/80 - 1s - loss: 6.4869e-04 - binary_crossentropy: 6.4869e-04 - accuracy: 0.9998 - val_loss: 0.0016 - val_binary_crossentropy: 0.0016 - val_accuracy: 0.9993 - 728ms/epoch - 9ms/step\n",
      "Epoch 318/10000\n",
      ".80/80 - 1s - loss: 7.0633e-04 - binary_crossentropy: 7.0633e-04 - accuracy: 0.9998 - val_loss: 0.0015 - val_binary_crossentropy: 0.0015 - val_accuracy: 0.9993 - 728ms/epoch - 9ms/step\n",
      "Epoch 319/10000\n",
      ".80/80 - 1s - loss: 6.5946e-04 - binary_crossentropy: 6.5946e-04 - accuracy: 0.9998 - val_loss: 0.0016 - val_binary_crossentropy: 0.0016 - val_accuracy: 0.9993 - 715ms/epoch - 9ms/step\n",
      "Epoch 320/10000\n",
      ".80/80 - 1s - loss: 7.2836e-04 - binary_crossentropy: 7.2836e-04 - accuracy: 0.9998 - val_loss: 0.0015 - val_binary_crossentropy: 0.0015 - val_accuracy: 0.9993 - 729ms/epoch - 9ms/step\n",
      "Epoch 321/10000\n",
      ".80/80 - 1s - loss: 6.6063e-04 - binary_crossentropy: 6.6063e-04 - accuracy: 0.9998 - val_loss: 0.0015 - val_binary_crossentropy: 0.0015 - val_accuracy: 0.9993 - 773ms/epoch - 10ms/step\n",
      "Epoch 322/10000\n",
      ".80/80 - 1s - loss: 7.2943e-04 - binary_crossentropy: 7.2943e-04 - accuracy: 0.9998 - val_loss: 0.0015 - val_binary_crossentropy: 0.0015 - val_accuracy: 0.9993 - 856ms/epoch - 11ms/step\n",
      "Epoch 323/10000\n",
      ".80/80 - 1s - loss: 6.8858e-04 - binary_crossentropy: 6.8858e-04 - accuracy: 0.9998 - val_loss: 0.0016 - val_binary_crossentropy: 0.0016 - val_accuracy: 0.9993 - 740ms/epoch - 9ms/step\n",
      "Epoch 324/10000\n",
      ".80/80 - 1s - loss: 6.9350e-04 - binary_crossentropy: 6.9350e-04 - accuracy: 0.9997 - val_loss: 0.0015 - val_binary_crossentropy: 0.0015 - val_accuracy: 0.9993 - 786ms/epoch - 10ms/step\n",
      "Epoch 325/10000\n",
      ".80/80 - 1s - loss: 6.7826e-04 - binary_crossentropy: 6.7826e-04 - accuracy: 0.9998 - val_loss: 0.0015 - val_binary_crossentropy: 0.0015 - val_accuracy: 0.9993 - 798ms/epoch - 10ms/step\n",
      "Epoch 326/10000\n",
      ".80/80 - 1s - loss: 7.0778e-04 - binary_crossentropy: 7.0778e-04 - accuracy: 0.9998 - val_loss: 0.0016 - val_binary_crossentropy: 0.0016 - val_accuracy: 0.9993 - 729ms/epoch - 9ms/step\n",
      "Epoch 327/10000\n",
      ".80/80 - 1s - loss: 7.2521e-04 - binary_crossentropy: 7.2521e-04 - accuracy: 0.9998 - val_loss: 0.0015 - val_binary_crossentropy: 0.0015 - val_accuracy: 0.9993 - 814ms/epoch - 10ms/step\n",
      "Epoch 328/10000\n",
      ".80/80 - 1s - loss: 7.1031e-04 - binary_crossentropy: 7.1031e-04 - accuracy: 0.9998 - val_loss: 0.0015 - val_binary_crossentropy: 0.0015 - val_accuracy: 0.9993 - 775ms/epoch - 10ms/step\n",
      "Epoch 329/10000\n",
      ".80/80 - 1s - loss: 6.8859e-04 - binary_crossentropy: 6.8859e-04 - accuracy: 0.9998 - val_loss: 0.0015 - val_binary_crossentropy: 0.0015 - val_accuracy: 0.9993 - 785ms/epoch - 10ms/step\n",
      "Epoch 330/10000\n",
      ".80/80 - 1s - loss: 6.7785e-04 - binary_crossentropy: 6.7785e-04 - accuracy: 0.9998 - val_loss: 0.0015 - val_binary_crossentropy: 0.0015 - val_accuracy: 0.9993 - 708ms/epoch - 9ms/step\n",
      "Epoch 331/10000\n",
      ".80/80 - 1s - loss: 6.4376e-04 - binary_crossentropy: 6.4376e-04 - accuracy: 0.9998 - val_loss: 0.0015 - val_binary_crossentropy: 0.0015 - val_accuracy: 0.9993 - 736ms/epoch - 9ms/step\n",
      "Epoch 332/10000\n",
      ".80/80 - 1s - loss: 6.9783e-04 - binary_crossentropy: 6.9783e-04 - accuracy: 0.9998 - val_loss: 0.0015 - val_binary_crossentropy: 0.0015 - val_accuracy: 0.9993 - 709ms/epoch - 9ms/step\n",
      "Epoch 333/10000\n",
      ".80/80 - 1s - loss: 7.1614e-04 - binary_crossentropy: 7.1614e-04 - accuracy: 0.9998 - val_loss: 0.0015 - val_binary_crossentropy: 0.0015 - val_accuracy: 0.9993 - 738ms/epoch - 9ms/step\n",
      "Epoch 334/10000\n",
      ".80/80 - 1s - loss: 6.6953e-04 - binary_crossentropy: 6.6953e-04 - accuracy: 0.9998 - val_loss: 0.0015 - val_binary_crossentropy: 0.0015 - val_accuracy: 0.9993 - 723ms/epoch - 9ms/step\n",
      "Epoch 335/10000\n",
      ".80/80 - 1s - loss: 6.2757e-04 - binary_crossentropy: 6.2757e-04 - accuracy: 0.9998 - val_loss: 0.0015 - val_binary_crossentropy: 0.0015 - val_accuracy: 0.9993 - 689ms/epoch - 9ms/step\n",
      "Epoch 336/10000\n",
      ".80/80 - 1s - loss: 7.6781e-04 - binary_crossentropy: 7.6781e-04 - accuracy: 0.9998 - val_loss: 0.0015 - val_binary_crossentropy: 0.0015 - val_accuracy: 0.9993 - 759ms/epoch - 9ms/step\n",
      "Epoch 337/10000\n",
      ".80/80 - 1s - loss: 6.6839e-04 - binary_crossentropy: 6.6839e-04 - accuracy: 0.9998 - val_loss: 0.0015 - val_binary_crossentropy: 0.0015 - val_accuracy: 0.9993 - 752ms/epoch - 9ms/step\n",
      "Epoch 338/10000\n",
      ".80/80 - 1s - loss: 5.9229e-04 - binary_crossentropy: 5.9229e-04 - accuracy: 0.9998 - val_loss: 0.0015 - val_binary_crossentropy: 0.0015 - val_accuracy: 0.9993 - 768ms/epoch - 10ms/step\n",
      "Epoch 339/10000\n",
      ".80/80 - 1s - loss: 6.9785e-04 - binary_crossentropy: 6.9785e-04 - accuracy: 0.9998 - val_loss: 0.0015 - val_binary_crossentropy: 0.0015 - val_accuracy: 0.9993 - 731ms/epoch - 9ms/step\n",
      "Epoch 340/10000\n",
      ".80/80 - 1s - loss: 6.6103e-04 - binary_crossentropy: 6.6103e-04 - accuracy: 0.9998 - val_loss: 0.0015 - val_binary_crossentropy: 0.0015 - val_accuracy: 0.9993 - 722ms/epoch - 9ms/step\n",
      "Epoch 341/10000\n",
      ".80/80 - 1s - loss: 7.4655e-04 - binary_crossentropy: 7.4655e-04 - accuracy: 0.9998 - val_loss: 0.0015 - val_binary_crossentropy: 0.0015 - val_accuracy: 0.9993 - 738ms/epoch - 9ms/step\n",
      "Epoch 342/10000\n",
      ".80/80 - 1s - loss: 6.9167e-04 - binary_crossentropy: 6.9167e-04 - accuracy: 0.9998 - val_loss: 0.0015 - val_binary_crossentropy: 0.0015 - val_accuracy: 0.9993 - 719ms/epoch - 9ms/step\n",
      "Epoch 343/10000\n",
      ".80/80 - 1s - loss: 5.6339e-04 - binary_crossentropy: 5.6339e-04 - accuracy: 0.9998 - val_loss: 0.0015 - val_binary_crossentropy: 0.0015 - val_accuracy: 0.9993 - 769ms/epoch - 10ms/step\n",
      "Epoch 344/10000\n",
      ".80/80 - 1s - loss: 6.4679e-04 - binary_crossentropy: 6.4679e-04 - accuracy: 0.9998 - val_loss: 0.0015 - val_binary_crossentropy: 0.0015 - val_accuracy: 0.9993 - 723ms/epoch - 9ms/step\n",
      "Epoch 345/10000\n",
      ".80/80 - 1s - loss: 6.7584e-04 - binary_crossentropy: 6.7584e-04 - accuracy: 0.9998 - val_loss: 0.0015 - val_binary_crossentropy: 0.0015 - val_accuracy: 0.9993 - 736ms/epoch - 9ms/step\n",
      "Epoch 346/10000\n",
      ".80/80 - 1s - loss: 6.7414e-04 - binary_crossentropy: 6.7414e-04 - accuracy: 0.9998 - val_loss: 0.0015 - val_binary_crossentropy: 0.0015 - val_accuracy: 0.9993 - 708ms/epoch - 9ms/step\n",
      "Epoch 347/10000\n",
      ".80/80 - 1s - loss: 6.4486e-04 - binary_crossentropy: 6.4486e-04 - accuracy: 0.9998 - val_loss: 0.0015 - val_binary_crossentropy: 0.0015 - val_accuracy: 0.9993 - 718ms/epoch - 9ms/step\n",
      "Epoch 348/10000\n",
      ".80/80 - 1s - loss: 6.8847e-04 - binary_crossentropy: 6.8847e-04 - accuracy: 0.9998 - val_loss: 0.0015 - val_binary_crossentropy: 0.0015 - val_accuracy: 0.9993 - 738ms/epoch - 9ms/step\n",
      "Epoch 349/10000\n",
      ".80/80 - 1s - loss: 6.3176e-04 - binary_crossentropy: 6.3176e-04 - accuracy: 0.9998 - val_loss: 0.0015 - val_binary_crossentropy: 0.0015 - val_accuracy: 0.9993 - 739ms/epoch - 9ms/step\n",
      "Epoch 350/10000\n",
      ".80/80 - 1s - loss: 6.4101e-04 - binary_crossentropy: 6.4101e-04 - accuracy: 0.9998 - val_loss: 0.0015 - val_binary_crossentropy: 0.0015 - val_accuracy: 0.9993 - 714ms/epoch - 9ms/step\n",
      "Epoch 351/10000\n",
      ".80/80 - 1s - loss: 7.1282e-04 - binary_crossentropy: 7.1282e-04 - accuracy: 0.9998 - val_loss: 0.0015 - val_binary_crossentropy: 0.0015 - val_accuracy: 0.9993 - 733ms/epoch - 9ms/step\n",
      "Epoch 352/10000\n",
      ".80/80 - 1s - loss: 6.7156e-04 - binary_crossentropy: 6.7156e-04 - accuracy: 0.9998 - val_loss: 0.0015 - val_binary_crossentropy: 0.0015 - val_accuracy: 0.9993 - 717ms/epoch - 9ms/step\n",
      "Epoch 353/10000\n",
      ".80/80 - 1s - loss: 6.3181e-04 - binary_crossentropy: 6.3181e-04 - accuracy: 0.9998 - val_loss: 0.0015 - val_binary_crossentropy: 0.0015 - val_accuracy: 0.9993 - 745ms/epoch - 9ms/step\n",
      "Epoch 354/10000\n",
      ".80/80 - 1s - loss: 6.7465e-04 - binary_crossentropy: 6.7465e-04 - accuracy: 0.9998 - val_loss: 0.0015 - val_binary_crossentropy: 0.0015 - val_accuracy: 0.9993 - 718ms/epoch - 9ms/step\n",
      "Epoch 355/10000\n",
      ".80/80 - 1s - loss: 6.7732e-04 - binary_crossentropy: 6.7732e-04 - accuracy: 0.9998 - val_loss: 0.0015 - val_binary_crossentropy: 0.0015 - val_accuracy: 0.9993 - 738ms/epoch - 9ms/step\n",
      "Epoch 356/10000\n",
      ".80/80 - 1s - loss: 6.2754e-04 - binary_crossentropy: 6.2754e-04 - accuracy: 0.9998 - val_loss: 0.0015 - val_binary_crossentropy: 0.0015 - val_accuracy: 0.9993 - 751ms/epoch - 9ms/step\n",
      "Epoch 357/10000\n",
      ".80/80 - 1s - loss: 6.7470e-04 - binary_crossentropy: 6.7470e-04 - accuracy: 0.9998 - val_loss: 0.0015 - val_binary_crossentropy: 0.0015 - val_accuracy: 0.9993 - 730ms/epoch - 9ms/step\n",
      "Epoch 358/10000\n",
      ".80/80 - 1s - loss: 5.6143e-04 - binary_crossentropy: 5.6143e-04 - accuracy: 0.9998 - val_loss: 0.0015 - val_binary_crossentropy: 0.0015 - val_accuracy: 0.9993 - 718ms/epoch - 9ms/step\n",
      "Epoch 359/10000\n",
      ".80/80 - 1s - loss: 5.7923e-04 - binary_crossentropy: 5.7923e-04 - accuracy: 0.9998 - val_loss: 0.0015 - val_binary_crossentropy: 0.0015 - val_accuracy: 0.9993 - 723ms/epoch - 9ms/step\n",
      "Epoch 360/10000\n",
      ".80/80 - 1s - loss: 6.8289e-04 - binary_crossentropy: 6.8289e-04 - accuracy: 0.9998 - val_loss: 0.0015 - val_binary_crossentropy: 0.0015 - val_accuracy: 0.9993 - 735ms/epoch - 9ms/step\n",
      "Epoch 361/10000\n",
      ".80/80 - 1s - loss: 6.8135e-04 - binary_crossentropy: 6.8135e-04 - accuracy: 0.9998 - val_loss: 0.0015 - val_binary_crossentropy: 0.0015 - val_accuracy: 0.9993 - 719ms/epoch - 9ms/step\n",
      "Epoch 362/10000\n",
      ".80/80 - 1s - loss: 6.3212e-04 - binary_crossentropy: 6.3212e-04 - accuracy: 0.9998 - val_loss: 0.0015 - val_binary_crossentropy: 0.0015 - val_accuracy: 0.9993 - 778ms/epoch - 10ms/step\n",
      "Epoch 363/10000\n",
      ".80/80 - 1s - loss: 6.6454e-04 - binary_crossentropy: 6.6454e-04 - accuracy: 0.9998 - val_loss: 0.0014 - val_binary_crossentropy: 0.0014 - val_accuracy: 0.9993 - 732ms/epoch - 9ms/step\n",
      "Epoch 364/10000\n",
      ".80/80 - 1s - loss: 6.5615e-04 - binary_crossentropy: 6.5615e-04 - accuracy: 0.9998 - val_loss: 0.0014 - val_binary_crossentropy: 0.0014 - val_accuracy: 0.9993 - 730ms/epoch - 9ms/step\n",
      "Epoch 365/10000\n",
      ".80/80 - 1s - loss: 6.4476e-04 - binary_crossentropy: 6.4476e-04 - accuracy: 0.9998 - val_loss: 0.0014 - val_binary_crossentropy: 0.0014 - val_accuracy: 0.9993 - 723ms/epoch - 9ms/step\n",
      "Epoch 366/10000\n",
      ".80/80 - 1s - loss: 6.6678e-04 - binary_crossentropy: 6.6678e-04 - accuracy: 0.9998 - val_loss: 0.0014 - val_binary_crossentropy: 0.0014 - val_accuracy: 0.9993 - 727ms/epoch - 9ms/step\n",
      "Epoch 367/10000\n",
      ".80/80 - 1s - loss: 5.8281e-04 - binary_crossentropy: 5.8281e-04 - accuracy: 0.9998 - val_loss: 0.0015 - val_binary_crossentropy: 0.0015 - val_accuracy: 0.9993 - 720ms/epoch - 9ms/step\n",
      "Epoch 368/10000\n",
      ".80/80 - 1s - loss: 6.4400e-04 - binary_crossentropy: 6.4400e-04 - accuracy: 0.9998 - val_loss: 0.0015 - val_binary_crossentropy: 0.0015 - val_accuracy: 0.9993 - 726ms/epoch - 9ms/step\n",
      "Epoch 369/10000\n",
      ".80/80 - 1s - loss: 6.6373e-04 - binary_crossentropy: 6.6373e-04 - accuracy: 0.9998 - val_loss: 0.0014 - val_binary_crossentropy: 0.0014 - val_accuracy: 0.9993 - 731ms/epoch - 9ms/step\n",
      "Epoch 370/10000\n",
      ".80/80 - 1s - loss: 5.8754e-04 - binary_crossentropy: 5.8754e-04 - accuracy: 0.9998 - val_loss: 0.0014 - val_binary_crossentropy: 0.0014 - val_accuracy: 0.9993 - 723ms/epoch - 9ms/step\n",
      "Epoch 371/10000\n",
      ".80/80 - 1s - loss: 6.2468e-04 - binary_crossentropy: 6.2468e-04 - accuracy: 0.9998 - val_loss: 0.0014 - val_binary_crossentropy: 0.0014 - val_accuracy: 0.9993 - 718ms/epoch - 9ms/step\n",
      "Epoch 372/10000\n",
      ".80/80 - 1s - loss: 7.0175e-04 - binary_crossentropy: 7.0175e-04 - accuracy: 0.9998 - val_loss: 0.0015 - val_binary_crossentropy: 0.0015 - val_accuracy: 0.9993 - 758ms/epoch - 9ms/step\n",
      "Epoch 373/10000\n",
      ".80/80 - 1s - loss: 6.4031e-04 - binary_crossentropy: 6.4031e-04 - accuracy: 0.9998 - val_loss: 0.0014 - val_binary_crossentropy: 0.0014 - val_accuracy: 0.9993 - 708ms/epoch - 9ms/step\n",
      "Epoch 374/10000\n",
      ".80/80 - 1s - loss: 6.7063e-04 - binary_crossentropy: 6.7063e-04 - accuracy: 0.9998 - val_loss: 0.0014 - val_binary_crossentropy: 0.0014 - val_accuracy: 0.9993 - 729ms/epoch - 9ms/step\n",
      "Epoch 375/10000\n",
      ".80/80 - 1s - loss: 6.9922e-04 - binary_crossentropy: 6.9922e-04 - accuracy: 0.9998 - val_loss: 0.0014 - val_binary_crossentropy: 0.0014 - val_accuracy: 0.9993 - 724ms/epoch - 9ms/step\n",
      "Epoch 376/10000\n",
      ".80/80 - 1s - loss: 6.3831e-04 - binary_crossentropy: 6.3831e-04 - accuracy: 0.9998 - val_loss: 0.0014 - val_binary_crossentropy: 0.0014 - val_accuracy: 0.9993 - 717ms/epoch - 9ms/step\n",
      "Epoch 377/10000\n",
      ".80/80 - 1s - loss: 6.5315e-04 - binary_crossentropy: 6.5315e-04 - accuracy: 0.9998 - val_loss: 0.0014 - val_binary_crossentropy: 0.0014 - val_accuracy: 0.9993 - 712ms/epoch - 9ms/step\n",
      "Epoch 378/10000\n",
      ".80/80 - 1s - loss: 7.0348e-04 - binary_crossentropy: 7.0348e-04 - accuracy: 0.9998 - val_loss: 0.0014 - val_binary_crossentropy: 0.0014 - val_accuracy: 0.9993 - 718ms/epoch - 9ms/step\n",
      "Epoch 379/10000\n",
      ".80/80 - 1s - loss: 6.8312e-04 - binary_crossentropy: 6.8312e-04 - accuracy: 0.9998 - val_loss: 0.0014 - val_binary_crossentropy: 0.0014 - val_accuracy: 0.9993 - 725ms/epoch - 9ms/step\n",
      "Epoch 380/10000\n",
      ".80/80 - 1s - loss: 6.0962e-04 - binary_crossentropy: 6.0962e-04 - accuracy: 0.9998 - val_loss: 0.0014 - val_binary_crossentropy: 0.0014 - val_accuracy: 0.9993 - 718ms/epoch - 9ms/step\n",
      "Epoch 381/10000\n",
      ".80/80 - 1s - loss: 0.0011 - binary_crossentropy: 0.0011 - accuracy: 0.9998 - val_loss: 0.0015 - val_binary_crossentropy: 0.0015 - val_accuracy: 0.9993 - 722ms/epoch - 9ms/step\n",
      "Epoch 382/10000\n",
      ".80/80 - 1s - loss: 0.0174 - binary_crossentropy: 0.0174 - accuracy: 0.9983 - val_loss: 0.2013 - val_binary_crossentropy: 0.2013 - val_accuracy: 0.9843 - 717ms/epoch - 9ms/step\n",
      "Epoch 383/10000\n",
      ".80/80 - 1s - loss: 0.0811 - binary_crossentropy: 0.0811 - accuracy: 0.9844 - val_loss: 0.0156 - val_binary_crossentropy: 0.0156 - val_accuracy: 0.9943 - 756ms/epoch - 9ms/step\n",
      "Epoch 384/10000\n",
      ".80/80 - 1s - loss: 0.0120 - binary_crossentropy: 0.0120 - accuracy: 0.9959 - val_loss: 0.0046 - val_binary_crossentropy: 0.0046 - val_accuracy: 0.9983 - 703ms/epoch - 9ms/step\n",
      "Epoch 385/10000\n",
      ".80/80 - 1s - loss: 0.0038 - binary_crossentropy: 0.0038 - accuracy: 0.9988 - val_loss: 0.0036 - val_binary_crossentropy: 0.0036 - val_accuracy: 0.9987 - 737ms/epoch - 9ms/step\n",
      "Epoch 386/10000\n",
      ".80/80 - 1s - loss: 0.0023 - binary_crossentropy: 0.0023 - accuracy: 0.9993 - val_loss: 0.0030 - val_binary_crossentropy: 0.0030 - val_accuracy: 0.9987 - 735ms/epoch - 9ms/step\n",
      "Epoch 387/10000\n",
      ".80/80 - 1s - loss: 0.0018 - binary_crossentropy: 0.0018 - accuracy: 0.9996 - val_loss: 0.0027 - val_binary_crossentropy: 0.0027 - val_accuracy: 0.9987 - 718ms/epoch - 9ms/step\n",
      "Epoch 388/10000\n",
      ".80/80 - 1s - loss: 0.0016 - binary_crossentropy: 0.0016 - accuracy: 0.9996 - val_loss: 0.0027 - val_binary_crossentropy: 0.0027 - val_accuracy: 0.9987 - 704ms/epoch - 9ms/step\n",
      "Epoch 389/10000\n",
      ".80/80 - 1s - loss: 0.0013 - binary_crossentropy: 0.0013 - accuracy: 0.9996 - val_loss: 0.0026 - val_binary_crossentropy: 0.0026 - val_accuracy: 0.9987 - 732ms/epoch - 9ms/step\n",
      "Epoch 390/10000\n",
      ".80/80 - 1s - loss: 0.0013 - binary_crossentropy: 0.0013 - accuracy: 0.9996 - val_loss: 0.0019 - val_binary_crossentropy: 0.0019 - val_accuracy: 0.9990 - 744ms/epoch - 9ms/step\n",
      "Epoch 391/10000\n",
      ".80/80 - 1s - loss: 0.0011 - binary_crossentropy: 0.0011 - accuracy: 0.9996 - val_loss: 0.0017 - val_binary_crossentropy: 0.0017 - val_accuracy: 0.9993 - 723ms/epoch - 9ms/step\n",
      "Epoch 392/10000\n",
      ".80/80 - 1s - loss: 0.0010 - binary_crossentropy: 0.0010 - accuracy: 0.9997 - val_loss: 0.0016 - val_binary_crossentropy: 0.0016 - val_accuracy: 0.9993 - 745ms/epoch - 9ms/step\n",
      "Epoch 393/10000\n",
      ".80/80 - 1s - loss: 9.1299e-04 - binary_crossentropy: 9.1299e-04 - accuracy: 0.9997 - val_loss: 0.0016 - val_binary_crossentropy: 0.0016 - val_accuracy: 0.9993 - 733ms/epoch - 9ms/step\n",
      "Epoch 394/10000\n",
      ".80/80 - 1s - loss: 9.0676e-04 - binary_crossentropy: 9.0676e-04 - accuracy: 0.9997 - val_loss: 0.0016 - val_binary_crossentropy: 0.0016 - val_accuracy: 0.9993 - 741ms/epoch - 9ms/step\n",
      "Epoch 395/10000\n",
      ".80/80 - 1s - loss: 8.7227e-04 - binary_crossentropy: 8.7227e-04 - accuracy: 0.9998 - val_loss: 0.0016 - val_binary_crossentropy: 0.0016 - val_accuracy: 0.9993 - 717ms/epoch - 9ms/step\n",
      "Epoch 396/10000\n",
      ".80/80 - 1s - loss: 9.2446e-04 - binary_crossentropy: 9.2446e-04 - accuracy: 0.9998 - val_loss: 0.0016 - val_binary_crossentropy: 0.0016 - val_accuracy: 0.9993 - 732ms/epoch - 9ms/step\n",
      "Epoch 397/10000\n",
      ".80/80 - 1s - loss: 8.1563e-04 - binary_crossentropy: 8.1563e-04 - accuracy: 0.9998 - val_loss: 0.0016 - val_binary_crossentropy: 0.0016 - val_accuracy: 0.9993 - 734ms/epoch - 9ms/step\n",
      "Epoch 398/10000\n",
      ".80/80 - 1s - loss: 8.2787e-04 - binary_crossentropy: 8.2787e-04 - accuracy: 0.9998 - val_loss: 0.0016 - val_binary_crossentropy: 0.0016 - val_accuracy: 0.9993 - 715ms/epoch - 9ms/step\n",
      "Epoch 399/10000\n",
      ".80/80 - 1s - loss: 8.6999e-04 - binary_crossentropy: 8.6999e-04 - accuracy: 0.9998 - val_loss: 0.0016 - val_binary_crossentropy: 0.0016 - val_accuracy: 0.9993 - 720ms/epoch - 9ms/step\n",
      "Epoch 400/10000\n",
      ".80/80 - 1s - loss: 8.0278e-04 - binary_crossentropy: 8.0278e-04 - accuracy: 0.9998 - val_loss: 0.0016 - val_binary_crossentropy: 0.0016 - val_accuracy: 0.9993 - 723ms/epoch - 9ms/step\n",
      "Epoch 401/10000\n",
      "\n",
      "Epoch: 400, accuracy:0.9998,  binary_crossentropy:0.0008,  loss:0.0008,  val_accuracy:0.9993,  val_binary_crossentropy:0.0016,  val_loss:0.0016,  \n",
      ".80/80 - 1s - loss: 7.5905e-04 - binary_crossentropy: 7.5905e-04 - accuracy: 0.9998 - val_loss: 0.0016 - val_binary_crossentropy: 0.0016 - val_accuracy: 0.9993 - 732ms/epoch - 9ms/step\n",
      "Epoch 402/10000\n",
      ".80/80 - 1s - loss: 7.7572e-04 - binary_crossentropy: 7.7572e-04 - accuracy: 0.9998 - val_loss: 0.0016 - val_binary_crossentropy: 0.0016 - val_accuracy: 0.9993 - 723ms/epoch - 9ms/step\n",
      "Epoch 403/10000\n",
      ".80/80 - 1s - loss: 7.8134e-04 - binary_crossentropy: 7.8134e-04 - accuracy: 0.9998 - val_loss: 0.0016 - val_binary_crossentropy: 0.0016 - val_accuracy: 0.9993 - 721ms/epoch - 9ms/step\n",
      "Epoch 404/10000\n",
      ".80/80 - 1s - loss: 7.3909e-04 - binary_crossentropy: 7.3909e-04 - accuracy: 0.9998 - val_loss: 0.0016 - val_binary_crossentropy: 0.0016 - val_accuracy: 0.9993 - 761ms/epoch - 10ms/step\n",
      "Epoch 405/10000\n",
      ".80/80 - 1s - loss: 7.9805e-04 - binary_crossentropy: 7.9805e-04 - accuracy: 0.9998 - val_loss: 0.0016 - val_binary_crossentropy: 0.0016 - val_accuracy: 0.9993 - 730ms/epoch - 9ms/step\n",
      "Epoch 406/10000\n",
      ".80/80 - 1s - loss: 7.0778e-04 - binary_crossentropy: 7.0778e-04 - accuracy: 0.9998 - val_loss: 0.0016 - val_binary_crossentropy: 0.0016 - val_accuracy: 0.9993 - 759ms/epoch - 9ms/step\n",
      "Epoch 407/10000\n",
      ".80/80 - 1s - loss: 7.2163e-04 - binary_crossentropy: 7.2163e-04 - accuracy: 0.9998 - val_loss: 0.0015 - val_binary_crossentropy: 0.0015 - val_accuracy: 0.9993 - 747ms/epoch - 9ms/step\n",
      "Epoch 408/10000\n",
      ".80/80 - 1s - loss: 7.1458e-04 - binary_crossentropy: 7.1458e-04 - accuracy: 0.9998 - val_loss: 0.0015 - val_binary_crossentropy: 0.0015 - val_accuracy: 0.9993 - 741ms/epoch - 9ms/step\n",
      "Epoch 409/10000\n",
      ".80/80 - 1s - loss: 7.5996e-04 - binary_crossentropy: 7.5996e-04 - accuracy: 0.9998 - val_loss: 0.0015 - val_binary_crossentropy: 0.0015 - val_accuracy: 0.9993 - 727ms/epoch - 9ms/step\n",
      "Epoch 410/10000\n",
      ".80/80 - 1s - loss: 7.6775e-04 - binary_crossentropy: 7.6775e-04 - accuracy: 0.9998 - val_loss: 0.0015 - val_binary_crossentropy: 0.0015 - val_accuracy: 0.9993 - 719ms/epoch - 9ms/step\n",
      "Epoch 411/10000\n",
      ".80/80 - 1s - loss: 7.5805e-04 - binary_crossentropy: 7.5805e-04 - accuracy: 0.9998 - val_loss: 0.0015 - val_binary_crossentropy: 0.0015 - val_accuracy: 0.9993 - 739ms/epoch - 9ms/step\n",
      "Epoch 412/10000\n",
      ".80/80 - 1s - loss: 7.4812e-04 - binary_crossentropy: 7.4812e-04 - accuracy: 0.9998 - val_loss: 0.0015 - val_binary_crossentropy: 0.0015 - val_accuracy: 0.9993 - 739ms/epoch - 9ms/step\n",
      "Epoch 413/10000\n",
      ".80/80 - 1s - loss: 6.9631e-04 - binary_crossentropy: 6.9631e-04 - accuracy: 0.9998 - val_loss: 0.0015 - val_binary_crossentropy: 0.0015 - val_accuracy: 0.9993 - 723ms/epoch - 9ms/step\n",
      "Epoch 414/10000\n",
      ".80/80 - 1s - loss: 7.2792e-04 - binary_crossentropy: 7.2792e-04 - accuracy: 0.9998 - val_loss: 0.0015 - val_binary_crossentropy: 0.0015 - val_accuracy: 0.9993 - 759ms/epoch - 9ms/step\n",
      "Epoch 415/10000\n",
      ".80/80 - 1s - loss: 8.0384e-04 - binary_crossentropy: 8.0384e-04 - accuracy: 0.9997 - val_loss: 0.0015 - val_binary_crossentropy: 0.0015 - val_accuracy: 0.9993 - 733ms/epoch - 9ms/step\n",
      "Epoch 416/10000\n",
      ".80/80 - 1s - loss: 6.2110e-04 - binary_crossentropy: 6.2110e-04 - accuracy: 0.9998 - val_loss: 0.0015 - val_binary_crossentropy: 0.0015 - val_accuracy: 0.9993 - 727ms/epoch - 9ms/step\n",
      "Epoch 417/10000\n",
      ".80/80 - 1s - loss: 7.2080e-04 - binary_crossentropy: 7.2080e-04 - accuracy: 0.9998 - val_loss: 0.0015 - val_binary_crossentropy: 0.0015 - val_accuracy: 0.9993 - 760ms/epoch - 9ms/step\n",
      "Epoch 418/10000\n",
      ".80/80 - 1s - loss: 6.7559e-04 - binary_crossentropy: 6.7559e-04 - accuracy: 0.9998 - val_loss: 0.0015 - val_binary_crossentropy: 0.0015 - val_accuracy: 0.9993 - 739ms/epoch - 9ms/step\n",
      "Epoch 419/10000\n",
      ".80/80 - 1s - loss: 7.3531e-04 - binary_crossentropy: 7.3531e-04 - accuracy: 0.9998 - val_loss: 0.0015 - val_binary_crossentropy: 0.0015 - val_accuracy: 0.9993 - 739ms/epoch - 9ms/step\n",
      "Epoch 420/10000\n",
      ".80/80 - 1s - loss: 6.9901e-04 - binary_crossentropy: 6.9901e-04 - accuracy: 0.9998 - val_loss: 0.0015 - val_binary_crossentropy: 0.0015 - val_accuracy: 0.9993 - 727ms/epoch - 9ms/step\n",
      "Epoch 421/10000\n",
      ".80/80 - 1s - loss: 6.9723e-04 - binary_crossentropy: 6.9723e-04 - accuracy: 0.9998 - val_loss: 0.0015 - val_binary_crossentropy: 0.0015 - val_accuracy: 0.9993 - 722ms/epoch - 9ms/step\n",
      "Epoch 422/10000\n",
      ".80/80 - 1s - loss: 6.6512e-04 - binary_crossentropy: 6.6512e-04 - accuracy: 0.9998 - val_loss: 0.0015 - val_binary_crossentropy: 0.0015 - val_accuracy: 0.9993 - 736ms/epoch - 9ms/step\n",
      "Epoch 423/10000\n",
      ".80/80 - 1s - loss: 6.6911e-04 - binary_crossentropy: 6.6911e-04 - accuracy: 0.9998 - val_loss: 0.0015 - val_binary_crossentropy: 0.0015 - val_accuracy: 0.9993 - 729ms/epoch - 9ms/step\n",
      "Epoch 424/10000\n",
      ".80/80 - 1s - loss: 6.3483e-04 - binary_crossentropy: 6.3483e-04 - accuracy: 0.9998 - val_loss: 0.0015 - val_binary_crossentropy: 0.0015 - val_accuracy: 0.9993 - 720ms/epoch - 9ms/step\n",
      "Epoch 425/10000\n",
      ".80/80 - 1s - loss: 7.2935e-04 - binary_crossentropy: 7.2935e-04 - accuracy: 0.9998 - val_loss: 0.0015 - val_binary_crossentropy: 0.0015 - val_accuracy: 0.9993 - 727ms/epoch - 9ms/step\n",
      "Epoch 426/10000\n",
      ".80/80 - 1s - loss: 6.2777e-04 - binary_crossentropy: 6.2777e-04 - accuracy: 0.9998 - val_loss: 0.0015 - val_binary_crossentropy: 0.0015 - val_accuracy: 0.9993 - 744ms/epoch - 9ms/step\n",
      "Epoch 427/10000\n",
      ".80/80 - 1s - loss: 7.1727e-04 - binary_crossentropy: 7.1727e-04 - accuracy: 0.9998 - val_loss: 0.0015 - val_binary_crossentropy: 0.0015 - val_accuracy: 0.9993 - 714ms/epoch - 9ms/step\n",
      "Epoch 428/10000\n",
      ".80/80 - 1s - loss: 6.4572e-04 - binary_crossentropy: 6.4572e-04 - accuracy: 0.9998 - val_loss: 0.0015 - val_binary_crossentropy: 0.0015 - val_accuracy: 0.9993 - 720ms/epoch - 9ms/step\n",
      "Epoch 429/10000\n",
      ".80/80 - 1s - loss: 6.5427e-04 - binary_crossentropy: 6.5427e-04 - accuracy: 0.9998 - val_loss: 0.0015 - val_binary_crossentropy: 0.0015 - val_accuracy: 0.9993 - 789ms/epoch - 10ms/step\n",
      "Epoch 430/10000\n",
      ".80/80 - 1s - loss: 6.4048e-04 - binary_crossentropy: 6.4048e-04 - accuracy: 0.9998 - val_loss: 0.0015 - val_binary_crossentropy: 0.0015 - val_accuracy: 0.9993 - 739ms/epoch - 9ms/step\n",
      "Epoch 431/10000\n",
      ".80/80 - 1s - loss: 6.1827e-04 - binary_crossentropy: 6.1827e-04 - accuracy: 0.9998 - val_loss: 0.0015 - val_binary_crossentropy: 0.0015 - val_accuracy: 0.9993 - 722ms/epoch - 9ms/step\n",
      "Epoch 432/10000\n",
      ".80/80 - 1s - loss: 7.1276e-04 - binary_crossentropy: 7.1276e-04 - accuracy: 0.9998 - val_loss: 0.0015 - val_binary_crossentropy: 0.0015 - val_accuracy: 0.9993 - 746ms/epoch - 9ms/step\n",
      "Epoch 433/10000\n",
      ".80/80 - 1s - loss: 6.2265e-04 - binary_crossentropy: 6.2265e-04 - accuracy: 0.9998 - val_loss: 0.0015 - val_binary_crossentropy: 0.0015 - val_accuracy: 0.9993 - 737ms/epoch - 9ms/step\n",
      "Epoch 434/10000\n",
      ".80/80 - 1s - loss: 6.3116e-04 - binary_crossentropy: 6.3116e-04 - accuracy: 0.9998 - val_loss: 0.0015 - val_binary_crossentropy: 0.0015 - val_accuracy: 0.9993 - 748ms/epoch - 9ms/step\n",
      "Epoch 435/10000\n",
      ".80/80 - 1s - loss: 5.7806e-04 - binary_crossentropy: 5.7806e-04 - accuracy: 0.9998 - val_loss: 0.0015 - val_binary_crossentropy: 0.0015 - val_accuracy: 0.9993 - 737ms/epoch - 9ms/step\n",
      "Epoch 436/10000\n",
      ".80/80 - 1s - loss: 6.7983e-04 - binary_crossentropy: 6.7983e-04 - accuracy: 0.9998 - val_loss: 0.0015 - val_binary_crossentropy: 0.0015 - val_accuracy: 0.9993 - 720ms/epoch - 9ms/step\n",
      "Epoch 437/10000\n",
      ".80/80 - 1s - loss: 7.0884e-04 - binary_crossentropy: 7.0884e-04 - accuracy: 0.9998 - val_loss: 0.0015 - val_binary_crossentropy: 0.0015 - val_accuracy: 0.9993 - 727ms/epoch - 9ms/step\n",
      "Epoch 438/10000\n",
      ".80/80 - 1s - loss: 6.4840e-04 - binary_crossentropy: 6.4840e-04 - accuracy: 0.9998 - val_loss: 0.0015 - val_binary_crossentropy: 0.0015 - val_accuracy: 0.9993 - 745ms/epoch - 9ms/step\n",
      "Epoch 439/10000\n",
      ".80/80 - 1s - loss: 5.7785e-04 - binary_crossentropy: 5.7785e-04 - accuracy: 0.9998 - val_loss: 0.0015 - val_binary_crossentropy: 0.0015 - val_accuracy: 0.9993 - 725ms/epoch - 9ms/step\n",
      "Epoch 440/10000\n",
      ".80/80 - 1s - loss: 6.5243e-04 - binary_crossentropy: 6.5243e-04 - accuracy: 0.9998 - val_loss: 0.0015 - val_binary_crossentropy: 0.0015 - val_accuracy: 0.9993 - 729ms/epoch - 9ms/step\n",
      "Epoch 441/10000\n",
      ".80/80 - 1s - loss: 6.4332e-04 - binary_crossentropy: 6.4332e-04 - accuracy: 0.9998 - val_loss: 0.0015 - val_binary_crossentropy: 0.0015 - val_accuracy: 0.9993 - 723ms/epoch - 9ms/step\n",
      "Epoch 442/10000\n",
      ".80/80 - 1s - loss: 6.5897e-04 - binary_crossentropy: 6.5897e-04 - accuracy: 0.9998 - val_loss: 0.0015 - val_binary_crossentropy: 0.0015 - val_accuracy: 0.9993 - 725ms/epoch - 9ms/step\n",
      "Epoch 443/10000\n",
      ".80/80 - 1s - loss: 6.4005e-04 - binary_crossentropy: 6.4005e-04 - accuracy: 0.9998 - val_loss: 0.0015 - val_binary_crossentropy: 0.0015 - val_accuracy: 0.9993 - 765ms/epoch - 10ms/step\n"
     ]
    }
   ],
   "source": [
    "dict_histories['ver1'] = compile_and_fit(model = model_1, name ='ver1',\n",
    "                                         f_xtrain = X_train_1,f_ytrain = y_train_1, \n",
    "                                         f_xval = X_val, f_yval = y_val)"
   ]
  },
  {
   "cell_type": "code",
   "execution_count": 77,
   "id": "b26d6eeb",
   "metadata": {
    "papermill": {
     "duration": 25.958708,
     "end_time": "2023-01-04T14:32:42.330695",
     "exception": false,
     "start_time": "2023-01-04T14:32:16.371987",
     "status": "completed"
    },
    "tags": []
   },
   "outputs": [
    {
     "data": {
      "image/png": "[encoded data removed]",
      "text/plain": [
       "<Figure size 432x288 with 1 Axes>"
      ]
     },
     "metadata": {
      "needs_background": "light"
     },
     "output_type": "display_data"
    }
   ],
   "source": [
    "plotter = tfdocs.plots.HistoryPlotter(metric = 'binary_crossentropy', smoothing_std=10)\n",
    "plotter.plot(dict_histories)"
   ]
  },
  {
   "cell_type": "code",
   "execution_count": 78,
   "id": "9e970ab3",
   "metadata": {
    "papermill": {
     "duration": 0.342128,
     "end_time": "2023-01-04T14:32:42.758211",
     "exception": false,
     "start_time": "2023-01-04T14:32:42.416083",
     "status": "completed"
    },
    "tags": []
   },
   "outputs": [
    {
     "data": {
      "text/plain": [
       "<matplotlib.legend.Legend at 0x2060523ebb0>"
      ]
     },
     "execution_count": 78,
     "metadata": {},
     "output_type": "execute_result"
    },
    {
     "data": {
      "image/png": "[encoded data removed]",
      "text/plain": [
       "<Figure size 432x288 with 1 Axes>"
      ]
     },
     "metadata": {
      "needs_background": "light"
     },
     "output_type": "display_data"
    }
   ],
   "source": [
    "plt.plot(dict_histories['ver1'].history['loss'], label='training loss')\n",
    "plt.plot(dict_histories['ver1'].history['val_loss'], label='validation loss')\n",
    "plt.xlabel('Epoch')\n",
    "plt.ylabel('Loss')\n",
    "plt.legend()"
   ]
  },
  {
   "cell_type": "code",
   "execution_count": 79,
   "id": "f03bca23",
   "metadata": {
    "papermill": {
     "duration": 0.786349,
     "end_time": "2023-01-04T14:32:43.631207",
     "exception": false,
     "start_time": "2023-01-04T14:32:42.844858",
     "status": "completed"
    },
    "tags": []
   },
   "outputs": [
    {
     "name": "stdout",
     "output_type": "stream",
     "text": [
      "313/313 [==============================] - 1s 4ms/step - loss: 3.1406 - binary_crossentropy: 3.1406 - accuracy: 0.8574\n",
      "{'model': [3.1405584812164307, 3.1405584812164307, 0.8574000000953674]}\n"
     ]
    }
   ],
   "source": [
    "test_results = {}\n",
    "\n",
    "test_results['model'] = model_1.evaluate(\n",
    "    X_test, y_test, verbose=1)\n",
    "\n",
    "print(test_results)"
   ]
  },
  {
   "cell_type": "code",
   "execution_count": 80,
   "id": "3594a09d",
   "metadata": {
    "papermill": {
     "duration": 0.770904,
     "end_time": "2023-01-04T14:32:44.489700",
     "exception": false,
     "start_time": "2023-01-04T14:32:43.718796",
     "status": "completed"
    },
    "tags": []
   },
   "outputs": [
    {
     "name": "stdout",
     "output_type": "stream",
     "text": [
      "313/313 [==============================] - 2s 2ms/step\n"
     ]
    }
   ],
   "source": [
    "result = model_1.predict(X_test)"
   ]
  },
  {
   "cell_type": "code",
   "execution_count": 81,
   "id": "e459e60d",
   "metadata": {
    "papermill": {
     "duration": 0.117743,
     "end_time": "2023-01-04T14:32:44.695186",
     "exception": false,
     "start_time": "2023-01-04T14:32:44.577443",
     "status": "completed"
    },
    "tags": []
   },
   "outputs": [],
   "source": [
    "res = tf.math.confusion_matrix(y_test, result)"
   ]
  },
  {
   "cell_type": "code",
   "execution_count": 82,
   "id": "3417897c",
   "metadata": {
    "papermill": {
     "duration": 0.096621,
     "end_time": "2023-01-04T14:32:44.879245",
     "exception": false,
     "start_time": "2023-01-04T14:32:44.782624",
     "status": "completed"
    },
    "tags": []
   },
   "outputs": [
    {
     "name": "stdout",
     "output_type": "stream",
     "text": [
      "tf.Tensor(\n",
      "[[4674  287]\n",
      " [1492 3547]], shape=(2, 2), dtype=int32)\n"
     ]
    }
   ],
   "source": [
    "print(res)"
   ]
  },
  {
   "cell_type": "code",
   "execution_count": 83,
   "id": "c7f68351",
   "metadata": {
    "papermill": {
     "duration": 0.096323,
     "end_time": "2023-01-04T14:32:45.061436",
     "exception": false,
     "start_time": "2023-01-04T14:32:44.965113",
     "status": "completed"
    },
    "tags": []
   },
   "outputs": [
    {
     "data": {
      "text/plain": [
       "[[4674, 287], [1492, 3547]]"
      ]
     },
     "execution_count": 83,
     "metadata": {},
     "output_type": "execute_result"
    }
   ],
   "source": [
    "# precision\n",
    "from tensorflow.python.ops.numpy_ops import np_config \n",
    "np_config.enable_numpy_behavior()\n",
    "res.tolist()\n",
    "\n"
   ]
  },
  {
   "cell_type": "code",
   "execution_count": 84,
   "id": "01fcd467",
   "metadata": {
    "papermill": {
     "duration": 0.101744,
     "end_time": "2023-01-04T14:32:45.248505",
     "exception": false,
     "start_time": "2023-01-04T14:32:45.146761",
     "status": "completed"
    },
    "tags": []
   },
   "outputs": [
    {
     "data": {
      "text/plain": [
       "<tf.Tensor: shape=(), dtype=float64, numpy=0.7039095058543362>"
      ]
     },
     "execution_count": 84,
     "metadata": {},
     "output_type": "execute_result"
    }
   ],
   "source": [
    "# precision\n",
    "res[1,1]/(res[1,1]+res[1,0])"
   ]
  },
  {
   "cell_type": "code",
   "execution_count": 85,
   "id": "5843e78b",
   "metadata": {
    "papermill": {
     "duration": 0.102197,
     "end_time": "2023-01-04T14:32:45.436916",
     "exception": false,
     "start_time": "2023-01-04T14:32:45.334719",
     "status": "completed"
    },
    "tags": []
   },
   "outputs": [
    {
     "data": {
      "text/plain": [
       "<tf.Tensor: shape=(), dtype=float64, numpy=0.9251434533124674>"
      ]
     },
     "execution_count": 85,
     "metadata": {},
     "output_type": "execute_result"
    }
   ],
   "source": [
    "#recall \n",
    "res[1,1]/(res[1,1]+res[0,1])"
   ]
  },
  {
   "cell_type": "markdown",
   "id": "b5e560ac",
   "metadata": {
    "papermill": {
     "duration": 0.085952,
     "end_time": "2023-01-04T14:32:45.611639",
     "exception": false,
     "start_time": "2023-01-04T14:32:45.525687",
     "status": "completed"
    },
    "tags": []
   },
   "source": [
    "# Discussion\n",
    "\n",
    "* The model reached >98% test and validation accuracy within first 20 epoch\n",
    "* Standardization of features reduced most of the \"Loss spikes\". Scatterplot of features vs labels shows like negative class has less info than positive class. \"Loss spikes\" still occurs per ~50 epochs but each occurence has a lower magnitude. \n",
    "* One hot encoding was used in this study so this model suffers from the curse of dimensionality. Word2Vec may further improve the model performance."
   ]
  },
  {
   "cell_type": "markdown",
   "id": "f184f4b1",
   "metadata": {
    "papermill": {
     "duration": 0.08558,
     "end_time": "2023-01-04T14:32:45.784000",
     "exception": false,
     "start_time": "2023-01-04T14:32:45.698420",
     "status": "completed"
    },
    "tags": []
   },
   "source": [
    "# Reference\n",
    "https://www.tensorflow.org/tutorials/keras/overfit_and_underfit"
   ]
  },
  {
   "cell_type": "markdown",
   "id": "834fc525",
   "metadata": {
    "papermill": {
     "duration": 0.085583,
     "end_time": "2023-01-04T14:32:45.955999",
     "exception": false,
     "start_time": "2023-01-04T14:32:45.870416",
     "status": "completed"
    },
    "tags": []
   },
   "source": [
    "# Remarks\n",
    "Thank you for checking by. \n",
    "I look forward for any feedbacks :) "
   ]
  }
 ],
 "metadata": {
  "kernelspec": {
   "display_name": "Python 3 (ipykernel)",
   "language": "python",
   "name": "python3"
  },
  "language_info": {
   "codemirror_mode": {
    "name": "ipython",
    "version": 3
   },
   "file_extension": ".py",
   "mimetype": "text/x-python",
   "name": "python",
   "nbconvert_exporter": "python",
   "pygments_lexer": "ipython3",
   "version": "3.9.12"
  },
  "papermill": {
   "default_parameters": {},
   "duration": 427.533144,
   "end_time": "2023-01-04T14:32:49.684035",
   "environment_variables": {},
   "exception": null,
   "input_path": "__notebook__.ipynb",
   "output_path": "__notebook__.ipynb",
   "parameters": {},
   "start_time": "2023-01-04T14:25:42.150891",
   "version": "2.3.4"
  }
 },
 "nbformat": 4,
 "nbformat_minor": 5
}
