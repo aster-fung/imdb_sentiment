{
 "cells": [
  {
   "cell_type": "markdown",
   "id": "bac479b2-0a41-4bd1-b635-d912c007bf59",
   "metadata": {},
   "source": [
    "# IMDB Dataset of 50K Movie Reviews \n",
    "\n",
    "Welcome to the notebook on building a prediction model in classifying sentiments from movie reviews with TensorFlow 2.0 :D\n"
   ]
  },
  {
   "cell_type": "markdown",
   "id": "c49646f2-1db6-44ee-973e-bd07a106efc6",
   "metadata": {},
   "source": [
    "# Dataset\n",
    "This IMDB dataset was published by Maas et al for binary sentiment classification studies. It contains 50k movie reviews in English and is considered as haviing more data from some other datasets. The dataset provides 50000 highly polar movie reviews and sentiment labels (positive/negative)\n",
    "\n",
    "For the original dataset and paper please read Learning Word Vectors for Sentiment Analysis (Maas et al., ACL2011) http://ai.stanford.edu/~amaas/data/sentiment/\n",
    "# Method\n",
    "Sentiment labels were transformed into binary labels (0,1). Movie reviews were tokenized with gensim functionality by mapping words to the top 5000 frequent words in the reviews. The tokenized reviews were one hot encoded and standardized. A artifical neural network with 2 hidden layers was constructed and compiled. To reduce overfitting, adam (adaptative moment estimated) was used to adjust learning rate. Dropout and early stopping were adopted as well. The resultant model has test accuracy of ~85% with >0.9 recall and >0.7 precision. "
   ]
  },
  {
   "cell_type": "markdown",
   "id": "0894601e-3113-4186-b88c-cc38b9a259d5",
   "metadata": {},
   "source": [
    "# Hardware check"
   ]
  },
  {
   "cell_type": "code",
   "execution_count": 89,
   "id": "df8ae06a-fcdf-4977-ad93-162c8986f2ba",
   "metadata": {},
   "outputs": [
    {
     "name": "stdout",
     "output_type": "stream",
     "text": [
      "25.4\n",
      "svmem(total=17092800512, available=6497026048, percent=62.0, used=10595774464, free=6497026048)\n",
      "memory % used: 62.0\n"
     ]
    }
   ],
   "source": [
    "from __future__ import print_function\n",
    "import psutil\n",
    "print(psutil.cpu_percent())\n",
    "print(psutil.virtual_memory())  # physical memory usage\n",
    "print('memory % used:', psutil.virtual_memory()[2])"
   ]
  },
  {
   "cell_type": "code",
   "execution_count": 91,
   "id": "1f02f1e1-0d45-4f76-b834-170171a71ade",
   "metadata": {},
   "outputs": [
    {
     "name": "stdout",
     "output_type": "stream",
     "text": [
      "Num GPUs Available:  1\n"
     ]
    }
   ],
   "source": [
    "import tensorflow as tf\n",
    "print(\"Num GPUs Available: \", len(tf.config.list_physical_devices('GPU')))"
   ]
  },
  {
   "cell_type": "markdown",
   "id": "f837b47e-8699-48a1-bcfb-d9ffbe603c2e",
   "metadata": {},
   "source": [
    "# Import modules"
   ]
  },
  {
   "cell_type": "code",
   "execution_count": 1,
   "id": "9ecc686e-443a-4159-830c-1339c1f9800e",
   "metadata": {},
   "outputs": [
    {
     "name": "stdout",
     "output_type": "stream",
     "text": [
      "Collecting git+https://github.com/tensorflow/docs\n",
      "  Cloning https://github.com/tensorflow/docs to c:\\users\\user\\appdata\\local\\temp\\pip-req-build-x3a28eko\n",
      "  Resolved https://github.com/tensorflow/docs to commit 881afa31a959c86c39664c1d81d00e453eddf3f2\n",
      "  Preparing metadata (setup.py): started\n",
      "  Preparing metadata (setup.py): finished with status 'done'\n",
      "Requirement already satisfied: astor in c:\\users\\user\\miniconda3\\envs\\venv2\\lib\\site-packages (from tensorflow-docs==0.0.0.dev0) (0.8.1)\n",
      "Requirement already satisfied: absl-py in c:\\users\\user\\miniconda3\\envs\\venv2\\lib\\site-packages (from tensorflow-docs==0.0.0.dev0) (1.2.0)\n",
      "Requirement already satisfied: jinja2 in c:\\users\\user\\miniconda3\\envs\\venv2\\lib\\site-packages (from tensorflow-docs==0.0.0.dev0) (3.1.2)\n",
      "Requirement already satisfied: nbformat in c:\\users\\user\\miniconda3\\envs\\venv2\\lib\\site-packages (from tensorflow-docs==0.0.0.dev0) (5.4.0)\n",
      "Requirement already satisfied: protobuf<3.20,>=3.12.0 in c:\\users\\user\\miniconda3\\envs\\venv2\\lib\\site-packages (from tensorflow-docs==0.0.0.dev0) (3.19.4)\n",
      "Requirement already satisfied: pyyaml in c:\\users\\user\\miniconda3\\envs\\venv2\\lib\\site-packages (from tensorflow-docs==0.0.0.dev0) (6.0)\n",
      "Requirement already satisfied: MarkupSafe>=2.0 in c:\\users\\user\\miniconda3\\envs\\venv2\\lib\\site-packages (from jinja2->tensorflow-docs==0.0.0.dev0) (2.1.1)\n",
      "Requirement already satisfied: traitlets>=5.1 in c:\\users\\user\\miniconda3\\envs\\venv2\\lib\\site-packages (from nbformat->tensorflow-docs==0.0.0.dev0) (5.7.1)\n",
      "Requirement already satisfied: fastjsonschema in c:\\users\\user\\miniconda3\\envs\\venv2\\lib\\site-packages (from nbformat->tensorflow-docs==0.0.0.dev0) (2.16.1)\n",
      "Requirement already satisfied: jupyter-core in c:\\users\\user\\miniconda3\\envs\\venv2\\lib\\site-packages (from nbformat->tensorflow-docs==0.0.0.dev0) (5.1.0)\n",
      "Requirement already satisfied: jsonschema>=2.6 in c:\\users\\user\\miniconda3\\envs\\venv2\\lib\\site-packages (from nbformat->tensorflow-docs==0.0.0.dev0) (4.7.2)\n",
      "Requirement already satisfied: pyrsistent!=0.17.0,!=0.17.1,!=0.17.2,>=0.14.0 in c:\\users\\user\\miniconda3\\envs\\venv2\\lib\\site-packages (from jsonschema>=2.6->nbformat->tensorflow-docs==0.0.0.dev0) (0.18.1)\n",
      "Requirement already satisfied: attrs>=17.4.0 in c:\\users\\user\\miniconda3\\envs\\venv2\\lib\\site-packages (from jsonschema>=2.6->nbformat->tensorflow-docs==0.0.0.dev0) (21.4.0)\n",
      "Requirement already satisfied: platformdirs>=2.5 in c:\\users\\user\\miniconda3\\envs\\venv2\\lib\\site-packages (from jupyter-core->nbformat->tensorflow-docs==0.0.0.dev0) (2.6.0)\n",
      "Requirement already satisfied: pywin32>=1.0 in c:\\users\\user\\miniconda3\\envs\\venv2\\lib\\site-packages (from jupyter-core->nbformat->tensorflow-docs==0.0.0.dev0) (304)\n"
     ]
    },
    {
     "name": "stderr",
     "output_type": "stream",
     "text": [
      "  Running command git clone --filter=blob:none --quiet https://github.com/tensorflow/docs 'C:\\Users\\User\\AppData\\Local\\Temp\\pip-req-build-x3a28eko'\n"
     ]
    }
   ],
   "source": [
    "!pip install git+https://github.com/tensorflow/docs"
   ]
  },
  {
   "cell_type": "code",
   "execution_count": 2,
   "id": "c183b9a3-96d2-4178-a901-6537c450ef67",
   "metadata": {},
   "outputs": [
    {
     "name": "stderr",
     "output_type": "stream",
     "text": [
      "[nltk_data] Downloading package punkt to\n",
      "[nltk_data]     C:\\Users\\User\\AppData\\Roaming\\nltk_data...\n",
      "[nltk_data]   Package punkt is already up-to-date!\n"
     ]
    },
    {
     "data": {
      "text/plain": [
       "True"
      ]
     },
     "execution_count": 2,
     "metadata": {},
     "output_type": "execute_result"
    }
   ],
   "source": [
    "import numpy as np\n",
    "import pandas as pd\n",
    "import matplotlib.pyplot as plt\n",
    "import seaborn as sns\n",
    "import nltk\n",
    "from gensim.corpora.dictionary import Dictionary as gdict\n",
    "from sklearn.preprocessing import StandardScaler\n",
    "from sklearn.model_selection import train_test_split\n",
    "import tensorflow as tf\n",
    "import tensorflow_docs as tfdocs\n",
    "import tensorflow_docs.modeling\n",
    "import tensorflow_docs.plots\n",
    "import pathlib\n",
    "import shutil\n",
    "import tempfile\n",
    "import gc\n",
    "\n",
    "nltk.download('punkt')"
   ]
  },
  {
   "cell_type": "code",
   "execution_count": 3,
   "id": "b5cf76c5-e3bb-4733-b87c-ada867ef8b68",
   "metadata": {},
   "outputs": [],
   "source": [
    "logdir = pathlib.Path(tempfile.mkdtemp())/\"tensorboard_logs\"\n",
    "shutil.rmtree(logdir, ignore_errors=True)"
   ]
  },
  {
   "cell_type": "code",
   "execution_count": 4,
   "id": "2d70f6c7-8ef7-47b8-86ff-80cd846f1678",
   "metadata": {},
   "outputs": [],
   "source": [
    "df_raw = pd.read_csv('IMDBDataset.csv')"
   ]
  },
  {
   "cell_type": "code",
   "execution_count": 5,
   "id": "0db1eed2-598b-4f94-8e9e-49492467605f",
   "metadata": {},
   "outputs": [
    {
     "data": {
      "text/plain": [
       "(50000, 2)"
      ]
     },
     "execution_count": 5,
     "metadata": {},
     "output_type": "execute_result"
    }
   ],
   "source": [
    "df_raw.shape"
   ]
  },
  {
   "cell_type": "code",
   "execution_count": 6,
   "id": "2be8139a-fceb-442f-b00d-d2942072dc5d",
   "metadata": {},
   "outputs": [
    {
     "data": {
      "text/html": [
       "<div>\n",
       "<style scoped>\n",
       "    .dataframe tbody tr th:only-of-type {\n",
       "        vertical-align: middle;\n",
       "    }\n",
       "\n",
       "    .dataframe tbody tr th {\n",
       "        vertical-align: top;\n",
       "    }\n",
       "\n",
       "    .dataframe thead th {\n",
       "        text-align: right;\n",
       "    }\n",
       "</style>\n",
       "<table border=\"1\" class=\"dataframe\">\n",
       "  <thead>\n",
       "    <tr style=\"text-align: right;\">\n",
       "      <th></th>\n",
       "      <th>review</th>\n",
       "      <th>sentiment</th>\n",
       "    </tr>\n",
       "  </thead>\n",
       "  <tbody>\n",
       "    <tr>\n",
       "      <th>0</th>\n",
       "      <td>One of the other reviewers has mentioned that ...</td>\n",
       "      <td>positive</td>\n",
       "    </tr>\n",
       "    <tr>\n",
       "      <th>1</th>\n",
       "      <td>A wonderful little production. &lt;br /&gt;&lt;br /&gt;The...</td>\n",
       "      <td>positive</td>\n",
       "    </tr>\n",
       "    <tr>\n",
       "      <th>2</th>\n",
       "      <td>I thought this was a wonderful way to spend ti...</td>\n",
       "      <td>positive</td>\n",
       "    </tr>\n",
       "    <tr>\n",
       "      <th>3</th>\n",
       "      <td>Basically there's a family where a little boy ...</td>\n",
       "      <td>negative</td>\n",
       "    </tr>\n",
       "    <tr>\n",
       "      <th>4</th>\n",
       "      <td>Petter Mattei's \"Love in the Time of Money\" is...</td>\n",
       "      <td>positive</td>\n",
       "    </tr>\n",
       "  </tbody>\n",
       "</table>\n",
       "</div>"
      ],
      "text/plain": [
       "                                              review sentiment\n",
       "0  One of the other reviewers has mentioned that ...  positive\n",
       "1  A wonderful little production. <br /><br />The...  positive\n",
       "2  I thought this was a wonderful way to spend ti...  positive\n",
       "3  Basically there's a family where a little boy ...  negative\n",
       "4  Petter Mattei's \"Love in the Time of Money\" is...  positive"
      ]
     },
     "execution_count": 6,
     "metadata": {},
     "output_type": "execute_result"
    }
   ],
   "source": [
    "df_raw.head()"
   ]
  },
  {
   "cell_type": "code",
   "execution_count": 7,
   "id": "4dab7173-3fb9-4c7b-8d20-c6d96a7da61a",
   "metadata": {},
   "outputs": [
    {
     "data": {
      "text/plain": [
       "positive    25000\n",
       "negative    25000\n",
       "Name: sentiment, dtype: int64"
      ]
     },
     "execution_count": 7,
     "metadata": {},
     "output_type": "execute_result"
    }
   ],
   "source": [
    "df_raw['sentiment'].value_counts()"
   ]
  },
  {
   "cell_type": "markdown",
   "id": "45629e10-ae7b-4ce9-99a0-687bf1279f77",
   "metadata": {},
   "source": [
    "# Data preparation"
   ]
  },
  {
   "cell_type": "code",
   "execution_count": 8,
   "id": "9fb3e840-8662-44fa-9fd2-e47f6e3dffa1",
   "metadata": {},
   "outputs": [],
   "source": [
    "df = df_raw.copy()"
   ]
  },
  {
   "cell_type": "code",
   "execution_count": 9,
   "id": "ff99cc2d-02e7-40b5-8c84-4dde389ece37",
   "metadata": {},
   "outputs": [],
   "source": [
    "# map sentiment into binary variables\n",
    "\n",
    "binary_map =  {'negative':0, 'positive': 1}\n",
    "df['sentiment'] = df['sentiment'].map(binary_map)"
   ]
  },
  {
   "cell_type": "code",
   "execution_count": 10,
   "id": "baec2d0f-3960-4dec-8de8-eb841572cc0c",
   "metadata": {},
   "outputs": [],
   "source": [
    "reviews_raw = df['review']"
   ]
  },
  {
   "cell_type": "code",
   "execution_count": 11,
   "id": "d3f51586-6237-4e66-bfd1-f00cf288e805",
   "metadata": {},
   "outputs": [
    {
     "data": {
      "text/plain": [
       "0        One of the other reviewers has mentioned that ...\n",
       "1        A wonderful little production. <br /><br />The...\n",
       "2        I thought this was a wonderful way to spend ti...\n",
       "3        Basically there's a family where a little boy ...\n",
       "4        Petter Mattei's \"Love in the Time of Money\" is...\n",
       "                               ...                        \n",
       "49995    I thought this movie did a down right good job...\n",
       "49996    Bad plot, bad dialogue, bad acting, idiotic di...\n",
       "49997    I am a Catholic taught in parochial elementary...\n",
       "49998    I'm going to have to disagree with the previou...\n",
       "49999    No one expects the Star Trek movies to be high...\n",
       "Name: review, Length: 50000, dtype: object"
      ]
     },
     "execution_count": 11,
     "metadata": {},
     "output_type": "execute_result"
    }
   ],
   "source": [
    "reviews_raw"
   ]
  },
  {
   "cell_type": "code",
   "execution_count": 12,
   "id": "1f518576-9bea-4e36-9778-d650e2205adb",
   "metadata": {},
   "outputs": [
    {
     "data": {
      "text/plain": [
       "1    25000\n",
       "0    25000\n",
       "Name: sentiment, dtype: int64"
      ]
     },
     "execution_count": 12,
     "metadata": {},
     "output_type": "execute_result"
    }
   ],
   "source": [
    "df['sentiment'].value_counts()"
   ]
  },
  {
   "cell_type": "code",
   "execution_count": 13,
   "id": "c104a302-63db-4984-b8d5-036d6eca6c5e",
   "metadata": {},
   "outputs": [],
   "source": [
    "def convert_lower(text):\n",
    "    return text.lower()"
   ]
  },
  {
   "cell_type": "code",
   "execution_count": 14,
   "id": "32e3e679-ffbb-4e68-8435-c89166aba4ab",
   "metadata": {
    "tags": []
   },
   "outputs": [],
   "source": [
    "df['review'] = df['review'].apply(convert_lower)"
   ]
  },
  {
   "cell_type": "code",
   "execution_count": 15,
   "id": "38fef91b-c2d6-4634-b5c3-862a9e618320",
   "metadata": {},
   "outputs": [
    {
     "data": {
      "text/html": [
       "<div>\n",
       "<style scoped>\n",
       "    .dataframe tbody tr th:only-of-type {\n",
       "        vertical-align: middle;\n",
       "    }\n",
       "\n",
       "    .dataframe tbody tr th {\n",
       "        vertical-align: top;\n",
       "    }\n",
       "\n",
       "    .dataframe thead th {\n",
       "        text-align: right;\n",
       "    }\n",
       "</style>\n",
       "<table border=\"1\" class=\"dataframe\">\n",
       "  <thead>\n",
       "    <tr style=\"text-align: right;\">\n",
       "      <th></th>\n",
       "      <th>review</th>\n",
       "      <th>sentiment</th>\n",
       "    </tr>\n",
       "  </thead>\n",
       "  <tbody>\n",
       "    <tr>\n",
       "      <th>0</th>\n",
       "      <td>one of the other reviewers has mentioned that ...</td>\n",
       "      <td>1</td>\n",
       "    </tr>\n",
       "    <tr>\n",
       "      <th>1</th>\n",
       "      <td>a wonderful little production. &lt;br /&gt;&lt;br /&gt;the...</td>\n",
       "      <td>1</td>\n",
       "    </tr>\n",
       "    <tr>\n",
       "      <th>2</th>\n",
       "      <td>i thought this was a wonderful way to spend ti...</td>\n",
       "      <td>1</td>\n",
       "    </tr>\n",
       "    <tr>\n",
       "      <th>3</th>\n",
       "      <td>basically there's a family where a little boy ...</td>\n",
       "      <td>0</td>\n",
       "    </tr>\n",
       "    <tr>\n",
       "      <th>4</th>\n",
       "      <td>petter mattei's \"love in the time of money\" is...</td>\n",
       "      <td>1</td>\n",
       "    </tr>\n",
       "  </tbody>\n",
       "</table>\n",
       "</div>"
      ],
      "text/plain": [
       "                                              review  sentiment\n",
       "0  one of the other reviewers has mentioned that ...          1\n",
       "1  a wonderful little production. <br /><br />the...          1\n",
       "2  i thought this was a wonderful way to spend ti...          1\n",
       "3  basically there's a family where a little boy ...          0\n",
       "4  petter mattei's \"love in the time of money\" is...          1"
      ]
     },
     "execution_count": 15,
     "metadata": {},
     "output_type": "execute_result"
    }
   ],
   "source": [
    "df.head()"
   ]
  },
  {
   "cell_type": "code",
   "execution_count": 16,
   "id": "9e22001b-1abc-4883-b6fc-e74a6617462a",
   "metadata": {},
   "outputs": [
    {
     "data": {
      "text/plain": [
       "0"
      ]
     },
     "execution_count": 16,
     "metadata": {},
     "output_type": "execute_result"
    }
   ],
   "source": [
    "del df_raw\n",
    "del reviews_raw\n",
    "gc.collect()"
   ]
  },
  {
   "cell_type": "markdown",
   "id": "aab076d7-3c14-4491-ab1b-cf25e9a75fc2",
   "metadata": {},
   "source": [
    "# Tokenize to map the words into integers"
   ]
  },
  {
   "cell_type": "code",
   "execution_count": 17,
   "id": "fdba92ee",
   "metadata": {},
   "outputs": [],
   "source": [
    "df[\"review\"] = df[\"review\"].map(lambda x: x.split(' '))"
   ]
  },
  {
   "cell_type": "code",
   "execution_count": 18,
   "id": "976d9fbf-54c8-46ac-b1e7-f48b212613ee",
   "metadata": {
    "tags": []
   },
   "outputs": [],
   "source": [
    "my_dict = gdict(df['review'])"
   ]
  },
  {
   "cell_type": "code",
   "execution_count": 19,
   "id": "2ea065fa-05f6-4012-8ad6-d9a85ff05475",
   "metadata": {},
   "outputs": [
    {
     "data": {
      "text/plain": [
       "392053"
      ]
     },
     "execution_count": 19,
     "metadata": {},
     "output_type": "execute_result"
    }
   ],
   "source": [
    "len(my_dict)"
   ]
  },
  {
   "cell_type": "code",
   "execution_count": 20,
   "id": "b2206d04-8401-4a64-816f-028540cb9186",
   "metadata": {},
   "outputs": [],
   "source": [
    "my_dict.filter_extremes(no_below=1, no_above=1, keep_n=5000)"
   ]
  },
  {
   "cell_type": "code",
   "execution_count": 21,
   "id": "9c9bf87e-44c3-437a-a6f1-1018aceca61f",
   "metadata": {},
   "outputs": [],
   "source": [
    "df[\"bow\"] = df[\"review\"].map(my_dict.doc2bow)"
   ]
  },
  {
   "cell_type": "code",
   "execution_count": 22,
   "id": "8a9d1e33-3083-4df8-a8bc-2fa8858d86a9",
   "metadata": {},
   "outputs": [
    {
     "data": {
      "text/html": [
       "<div>\n",
       "<style scoped>\n",
       "    .dataframe tbody tr th:only-of-type {\n",
       "        vertical-align: middle;\n",
       "    }\n",
       "\n",
       "    .dataframe tbody tr th {\n",
       "        vertical-align: top;\n",
       "    }\n",
       "\n",
       "    .dataframe thead th {\n",
       "        text-align: right;\n",
       "    }\n",
       "</style>\n",
       "<table border=\"1\" class=\"dataframe\">\n",
       "  <thead>\n",
       "    <tr style=\"text-align: right;\">\n",
       "      <th></th>\n",
       "      <th>review</th>\n",
       "      <th>sentiment</th>\n",
       "      <th>bow</th>\n",
       "    </tr>\n",
       "  </thead>\n",
       "  <tbody>\n",
       "    <tr>\n",
       "      <th>0</th>\n",
       "      <td>[one, of, the, other, reviewers, has, mentione...</td>\n",
       "      <td>1</td>\n",
       "      <td>[(0, 3), (1, 1), (2, 1), (3, 1), (4, 1), (5, 3...</td>\n",
       "    </tr>\n",
       "    <tr>\n",
       "      <th>1</th>\n",
       "      <td>[a, wonderful, little, production., &lt;br, /&gt;&lt;br...</td>\n",
       "      <td>1</td>\n",
       "      <td>[(0, 3), (3, 3), (5, 4), (6, 1), (8, 2), (10, ...</td>\n",
       "    </tr>\n",
       "    <tr>\n",
       "      <th>2</th>\n",
       "      <td>[i, thought, this, was, a, wonderful, way, to,...</td>\n",
       "      <td>1</td>\n",
       "      <td>[(0, 2), (5, 6), (10, 4), (12, 1), (16, 2), (1...</td>\n",
       "    </tr>\n",
       "    <tr>\n",
       "      <th>3</th>\n",
       "      <td>[basically, there's, a, family, where, a, litt...</td>\n",
       "      <td>0</td>\n",
       "      <td>[(0, 3), (5, 10), (8, 3), (10, 4), (12, 2), (1...</td>\n",
       "    </tr>\n",
       "    <tr>\n",
       "      <th>4</th>\n",
       "      <td>[petter, mattei's, \"love, in, the, time, of, m...</td>\n",
       "      <td>1</td>\n",
       "      <td>[(0, 4), (3, 2), (5, 6), (6, 2), (8, 2), (10, ...</td>\n",
       "    </tr>\n",
       "  </tbody>\n",
       "</table>\n",
       "</div>"
      ],
      "text/plain": [
       "                                              review  sentiment  \\\n",
       "0  [one, of, the, other, reviewers, has, mentione...          1   \n",
       "1  [a, wonderful, little, production., <br, /><br...          1   \n",
       "2  [i, thought, this, was, a, wonderful, way, to,...          1   \n",
       "3  [basically, there's, a, family, where, a, litt...          0   \n",
       "4  [petter, mattei's, \"love, in, the, time, of, m...          1   \n",
       "\n",
       "                                                 bow  \n",
       "0  [(0, 3), (1, 1), (2, 1), (3, 1), (4, 1), (5, 3...  \n",
       "1  [(0, 3), (3, 3), (5, 4), (6, 1), (8, 2), (10, ...  \n",
       "2  [(0, 2), (5, 6), (10, 4), (12, 1), (16, 2), (1...  \n",
       "3  [(0, 3), (5, 10), (8, 3), (10, 4), (12, 2), (1...  \n",
       "4  [(0, 4), (3, 2), (5, 6), (6, 2), (8, 2), (10, ...  "
      ]
     },
     "execution_count": 22,
     "metadata": {},
     "output_type": "execute_result"
    }
   ],
   "source": [
    "df.head()"
   ]
  },
  {
   "cell_type": "code",
   "execution_count": 23,
   "id": "3cec3b09-159a-473c-bee3-8318604b55ec",
   "metadata": {},
   "outputs": [],
   "source": [
    "df2 = pd.concat([pd.DataFrame(s).set_index(0) for s in df[\"bow\"]], axis=1).fillna(0).T.set_index(df.index)"
   ]
  },
  {
   "cell_type": "code",
   "execution_count": 24,
   "id": "9a8a69c6-2cc0-4822-9ddb-0e118a69b996",
   "metadata": {
    "tags": []
   },
   "outputs": [
    {
     "data": {
      "text/html": [
       "<div>\n",
       "<style scoped>\n",
       "    .dataframe tbody tr th:only-of-type {\n",
       "        vertical-align: middle;\n",
       "    }\n",
       "\n",
       "    .dataframe tbody tr th {\n",
       "        vertical-align: top;\n",
       "    }\n",
       "\n",
       "    .dataframe thead th {\n",
       "        text-align: right;\n",
       "    }\n",
       "</style>\n",
       "<table border=\"1\" class=\"dataframe\">\n",
       "  <thead>\n",
       "    <tr style=\"text-align: right;\">\n",
       "      <th></th>\n",
       "      <th>0</th>\n",
       "      <th>1</th>\n",
       "      <th>2</th>\n",
       "      <th>3</th>\n",
       "      <th>4</th>\n",
       "      <th>5</th>\n",
       "      <th>6</th>\n",
       "      <th>7</th>\n",
       "      <th>8</th>\n",
       "      <th>9</th>\n",
       "      <th>...</th>\n",
       "      <th>4990</th>\n",
       "      <th>4991</th>\n",
       "      <th>4992</th>\n",
       "      <th>4993</th>\n",
       "      <th>4994</th>\n",
       "      <th>4995</th>\n",
       "      <th>4996</th>\n",
       "      <th>4997</th>\n",
       "      <th>4998</th>\n",
       "      <th>4999</th>\n",
       "    </tr>\n",
       "  </thead>\n",
       "  <tbody>\n",
       "    <tr>\n",
       "      <th>0</th>\n",
       "      <td>3.0</td>\n",
       "      <td>1.0</td>\n",
       "      <td>1.0</td>\n",
       "      <td>1.0</td>\n",
       "      <td>1.0</td>\n",
       "      <td>3.0</td>\n",
       "      <td>1.0</td>\n",
       "      <td>1.0</td>\n",
       "      <td>1.0</td>\n",
       "      <td>1.0</td>\n",
       "      <td>...</td>\n",
       "      <td>0.0</td>\n",
       "      <td>0.0</td>\n",
       "      <td>0.0</td>\n",
       "      <td>0.0</td>\n",
       "      <td>0.0</td>\n",
       "      <td>0.0</td>\n",
       "      <td>0.0</td>\n",
       "      <td>0.0</td>\n",
       "      <td>0.0</td>\n",
       "      <td>0.0</td>\n",
       "    </tr>\n",
       "    <tr>\n",
       "      <th>1</th>\n",
       "      <td>3.0</td>\n",
       "      <td>0.0</td>\n",
       "      <td>0.0</td>\n",
       "      <td>3.0</td>\n",
       "      <td>0.0</td>\n",
       "      <td>4.0</td>\n",
       "      <td>1.0</td>\n",
       "      <td>0.0</td>\n",
       "      <td>2.0</td>\n",
       "      <td>0.0</td>\n",
       "      <td>...</td>\n",
       "      <td>0.0</td>\n",
       "      <td>0.0</td>\n",
       "      <td>0.0</td>\n",
       "      <td>0.0</td>\n",
       "      <td>0.0</td>\n",
       "      <td>0.0</td>\n",
       "      <td>0.0</td>\n",
       "      <td>0.0</td>\n",
       "      <td>0.0</td>\n",
       "      <td>0.0</td>\n",
       "    </tr>\n",
       "    <tr>\n",
       "      <th>2</th>\n",
       "      <td>2.0</td>\n",
       "      <td>0.0</td>\n",
       "      <td>0.0</td>\n",
       "      <td>0.0</td>\n",
       "      <td>0.0</td>\n",
       "      <td>6.0</td>\n",
       "      <td>0.0</td>\n",
       "      <td>0.0</td>\n",
       "      <td>0.0</td>\n",
       "      <td>0.0</td>\n",
       "      <td>...</td>\n",
       "      <td>0.0</td>\n",
       "      <td>0.0</td>\n",
       "      <td>0.0</td>\n",
       "      <td>0.0</td>\n",
       "      <td>0.0</td>\n",
       "      <td>0.0</td>\n",
       "      <td>0.0</td>\n",
       "      <td>0.0</td>\n",
       "      <td>0.0</td>\n",
       "      <td>0.0</td>\n",
       "    </tr>\n",
       "    <tr>\n",
       "      <th>3</th>\n",
       "      <td>3.0</td>\n",
       "      <td>0.0</td>\n",
       "      <td>0.0</td>\n",
       "      <td>0.0</td>\n",
       "      <td>0.0</td>\n",
       "      <td>10.0</td>\n",
       "      <td>0.0</td>\n",
       "      <td>0.0</td>\n",
       "      <td>3.0</td>\n",
       "      <td>0.0</td>\n",
       "      <td>...</td>\n",
       "      <td>0.0</td>\n",
       "      <td>0.0</td>\n",
       "      <td>0.0</td>\n",
       "      <td>0.0</td>\n",
       "      <td>0.0</td>\n",
       "      <td>0.0</td>\n",
       "      <td>0.0</td>\n",
       "      <td>0.0</td>\n",
       "      <td>0.0</td>\n",
       "      <td>0.0</td>\n",
       "    </tr>\n",
       "    <tr>\n",
       "      <th>4</th>\n",
       "      <td>4.0</td>\n",
       "      <td>0.0</td>\n",
       "      <td>0.0</td>\n",
       "      <td>2.0</td>\n",
       "      <td>0.0</td>\n",
       "      <td>6.0</td>\n",
       "      <td>2.0</td>\n",
       "      <td>0.0</td>\n",
       "      <td>2.0</td>\n",
       "      <td>0.0</td>\n",
       "      <td>...</td>\n",
       "      <td>0.0</td>\n",
       "      <td>0.0</td>\n",
       "      <td>0.0</td>\n",
       "      <td>0.0</td>\n",
       "      <td>0.0</td>\n",
       "      <td>0.0</td>\n",
       "      <td>0.0</td>\n",
       "      <td>0.0</td>\n",
       "      <td>0.0</td>\n",
       "      <td>0.0</td>\n",
       "    </tr>\n",
       "  </tbody>\n",
       "</table>\n",
       "<p>5 rows × 5000 columns</p>\n",
       "</div>"
      ],
      "text/plain": [
       "0  0     1     2     3     4     5     6     7     8     9     ...  4990  \\\n",
       "0   3.0   1.0   1.0   1.0   1.0   3.0   1.0   1.0   1.0   1.0  ...   0.0   \n",
       "1   3.0   0.0   0.0   3.0   0.0   4.0   1.0   0.0   2.0   0.0  ...   0.0   \n",
       "2   2.0   0.0   0.0   0.0   0.0   6.0   0.0   0.0   0.0   0.0  ...   0.0   \n",
       "3   3.0   0.0   0.0   0.0   0.0  10.0   0.0   0.0   3.0   0.0  ...   0.0   \n",
       "4   4.0   0.0   0.0   2.0   0.0   6.0   2.0   0.0   2.0   0.0  ...   0.0   \n",
       "\n",
       "0  4991  4992  4993  4994  4995  4996  4997  4998  4999  \n",
       "0   0.0   0.0   0.0   0.0   0.0   0.0   0.0   0.0   0.0  \n",
       "1   0.0   0.0   0.0   0.0   0.0   0.0   0.0   0.0   0.0  \n",
       "2   0.0   0.0   0.0   0.0   0.0   0.0   0.0   0.0   0.0  \n",
       "3   0.0   0.0   0.0   0.0   0.0   0.0   0.0   0.0   0.0  \n",
       "4   0.0   0.0   0.0   0.0   0.0   0.0   0.0   0.0   0.0  \n",
       "\n",
       "[5 rows x 5000 columns]"
      ]
     },
     "execution_count": 24,
     "metadata": {},
     "output_type": "execute_result"
    }
   ],
   "source": [
    "df2.head()"
   ]
  },
  {
   "cell_type": "code",
   "execution_count": 25,
   "id": "0d1454b0-b9e7-4085-8e5f-9ede6fe89af9",
   "metadata": {},
   "outputs": [
    {
     "data": {
      "text/html": [
       "<div>\n",
       "<style scoped>\n",
       "    .dataframe tbody tr th:only-of-type {\n",
       "        vertical-align: middle;\n",
       "    }\n",
       "\n",
       "    .dataframe tbody tr th {\n",
       "        vertical-align: top;\n",
       "    }\n",
       "\n",
       "    .dataframe thead th {\n",
       "        text-align: right;\n",
       "    }\n",
       "</style>\n",
       "<table border=\"1\" class=\"dataframe\">\n",
       "  <thead>\n",
       "    <tr style=\"text-align: right;\">\n",
       "      <th></th>\n",
       "      <th>0</th>\n",
       "      <th>1</th>\n",
       "      <th>2</th>\n",
       "      <th>3</th>\n",
       "      <th>4</th>\n",
       "      <th>5</th>\n",
       "      <th>6</th>\n",
       "      <th>7</th>\n",
       "      <th>8</th>\n",
       "      <th>9</th>\n",
       "      <th>...</th>\n",
       "      <th>4990</th>\n",
       "      <th>4991</th>\n",
       "      <th>4992</th>\n",
       "      <th>4993</th>\n",
       "      <th>4994</th>\n",
       "      <th>4995</th>\n",
       "      <th>4996</th>\n",
       "      <th>4997</th>\n",
       "      <th>4998</th>\n",
       "      <th>4999</th>\n",
       "    </tr>\n",
       "  </thead>\n",
       "  <tbody>\n",
       "    <tr>\n",
       "      <th>0</th>\n",
       "      <td>3</td>\n",
       "      <td>1</td>\n",
       "      <td>1</td>\n",
       "      <td>1</td>\n",
       "      <td>1</td>\n",
       "      <td>3</td>\n",
       "      <td>1</td>\n",
       "      <td>1</td>\n",
       "      <td>1</td>\n",
       "      <td>1</td>\n",
       "      <td>...</td>\n",
       "      <td>0</td>\n",
       "      <td>0</td>\n",
       "      <td>0</td>\n",
       "      <td>0</td>\n",
       "      <td>0</td>\n",
       "      <td>0</td>\n",
       "      <td>0</td>\n",
       "      <td>0</td>\n",
       "      <td>0</td>\n",
       "      <td>0</td>\n",
       "    </tr>\n",
       "    <tr>\n",
       "      <th>1</th>\n",
       "      <td>3</td>\n",
       "      <td>0</td>\n",
       "      <td>0</td>\n",
       "      <td>3</td>\n",
       "      <td>0</td>\n",
       "      <td>4</td>\n",
       "      <td>1</td>\n",
       "      <td>0</td>\n",
       "      <td>2</td>\n",
       "      <td>0</td>\n",
       "      <td>...</td>\n",
       "      <td>0</td>\n",
       "      <td>0</td>\n",
       "      <td>0</td>\n",
       "      <td>0</td>\n",
       "      <td>0</td>\n",
       "      <td>0</td>\n",
       "      <td>0</td>\n",
       "      <td>0</td>\n",
       "      <td>0</td>\n",
       "      <td>0</td>\n",
       "    </tr>\n",
       "    <tr>\n",
       "      <th>2</th>\n",
       "      <td>2</td>\n",
       "      <td>0</td>\n",
       "      <td>0</td>\n",
       "      <td>0</td>\n",
       "      <td>0</td>\n",
       "      <td>6</td>\n",
       "      <td>0</td>\n",
       "      <td>0</td>\n",
       "      <td>0</td>\n",
       "      <td>0</td>\n",
       "      <td>...</td>\n",
       "      <td>0</td>\n",
       "      <td>0</td>\n",
       "      <td>0</td>\n",
       "      <td>0</td>\n",
       "      <td>0</td>\n",
       "      <td>0</td>\n",
       "      <td>0</td>\n",
       "      <td>0</td>\n",
       "      <td>0</td>\n",
       "      <td>0</td>\n",
       "    </tr>\n",
       "    <tr>\n",
       "      <th>3</th>\n",
       "      <td>3</td>\n",
       "      <td>0</td>\n",
       "      <td>0</td>\n",
       "      <td>0</td>\n",
       "      <td>0</td>\n",
       "      <td>10</td>\n",
       "      <td>0</td>\n",
       "      <td>0</td>\n",
       "      <td>3</td>\n",
       "      <td>0</td>\n",
       "      <td>...</td>\n",
       "      <td>0</td>\n",
       "      <td>0</td>\n",
       "      <td>0</td>\n",
       "      <td>0</td>\n",
       "      <td>0</td>\n",
       "      <td>0</td>\n",
       "      <td>0</td>\n",
       "      <td>0</td>\n",
       "      <td>0</td>\n",
       "      <td>0</td>\n",
       "    </tr>\n",
       "    <tr>\n",
       "      <th>4</th>\n",
       "      <td>4</td>\n",
       "      <td>0</td>\n",
       "      <td>0</td>\n",
       "      <td>2</td>\n",
       "      <td>0</td>\n",
       "      <td>6</td>\n",
       "      <td>2</td>\n",
       "      <td>0</td>\n",
       "      <td>2</td>\n",
       "      <td>0</td>\n",
       "      <td>...</td>\n",
       "      <td>0</td>\n",
       "      <td>0</td>\n",
       "      <td>0</td>\n",
       "      <td>0</td>\n",
       "      <td>0</td>\n",
       "      <td>0</td>\n",
       "      <td>0</td>\n",
       "      <td>0</td>\n",
       "      <td>0</td>\n",
       "      <td>0</td>\n",
       "    </tr>\n",
       "    <tr>\n",
       "      <th>...</th>\n",
       "      <td>...</td>\n",
       "      <td>...</td>\n",
       "      <td>...</td>\n",
       "      <td>...</td>\n",
       "      <td>...</td>\n",
       "      <td>...</td>\n",
       "      <td>...</td>\n",
       "      <td>...</td>\n",
       "      <td>...</td>\n",
       "      <td>...</td>\n",
       "      <td>...</td>\n",
       "      <td>...</td>\n",
       "      <td>...</td>\n",
       "      <td>...</td>\n",
       "      <td>...</td>\n",
       "      <td>...</td>\n",
       "      <td>...</td>\n",
       "      <td>...</td>\n",
       "      <td>...</td>\n",
       "      <td>...</td>\n",
       "      <td>...</td>\n",
       "    </tr>\n",
       "    <tr>\n",
       "      <th>49995</th>\n",
       "      <td>2</td>\n",
       "      <td>0</td>\n",
       "      <td>0</td>\n",
       "      <td>0</td>\n",
       "      <td>0</td>\n",
       "      <td>5</td>\n",
       "      <td>1</td>\n",
       "      <td>0</td>\n",
       "      <td>0</td>\n",
       "      <td>0</td>\n",
       "      <td>...</td>\n",
       "      <td>0</td>\n",
       "      <td>0</td>\n",
       "      <td>0</td>\n",
       "      <td>0</td>\n",
       "      <td>0</td>\n",
       "      <td>0</td>\n",
       "      <td>0</td>\n",
       "      <td>0</td>\n",
       "      <td>0</td>\n",
       "      <td>0</td>\n",
       "    </tr>\n",
       "    <tr>\n",
       "      <th>49996</th>\n",
       "      <td>2</td>\n",
       "      <td>0</td>\n",
       "      <td>0</td>\n",
       "      <td>1</td>\n",
       "      <td>0</td>\n",
       "      <td>3</td>\n",
       "      <td>0</td>\n",
       "      <td>0</td>\n",
       "      <td>1</td>\n",
       "      <td>0</td>\n",
       "      <td>...</td>\n",
       "      <td>0</td>\n",
       "      <td>0</td>\n",
       "      <td>0</td>\n",
       "      <td>0</td>\n",
       "      <td>0</td>\n",
       "      <td>0</td>\n",
       "      <td>0</td>\n",
       "      <td>0</td>\n",
       "      <td>0</td>\n",
       "      <td>0</td>\n",
       "    </tr>\n",
       "    <tr>\n",
       "      <th>49997</th>\n",
       "      <td>2</td>\n",
       "      <td>0</td>\n",
       "      <td>0</td>\n",
       "      <td>0</td>\n",
       "      <td>0</td>\n",
       "      <td>7</td>\n",
       "      <td>0</td>\n",
       "      <td>0</td>\n",
       "      <td>1</td>\n",
       "      <td>1</td>\n",
       "      <td>...</td>\n",
       "      <td>0</td>\n",
       "      <td>0</td>\n",
       "      <td>0</td>\n",
       "      <td>0</td>\n",
       "      <td>0</td>\n",
       "      <td>0</td>\n",
       "      <td>0</td>\n",
       "      <td>0</td>\n",
       "      <td>0</td>\n",
       "      <td>0</td>\n",
       "    </tr>\n",
       "    <tr>\n",
       "      <th>49998</th>\n",
       "      <td>0</td>\n",
       "      <td>0</td>\n",
       "      <td>0</td>\n",
       "      <td>0</td>\n",
       "      <td>0</td>\n",
       "      <td>3</td>\n",
       "      <td>1</td>\n",
       "      <td>0</td>\n",
       "      <td>1</td>\n",
       "      <td>0</td>\n",
       "      <td>...</td>\n",
       "      <td>0</td>\n",
       "      <td>0</td>\n",
       "      <td>0</td>\n",
       "      <td>0</td>\n",
       "      <td>0</td>\n",
       "      <td>0</td>\n",
       "      <td>0</td>\n",
       "      <td>0</td>\n",
       "      <td>0</td>\n",
       "      <td>0</td>\n",
       "    </tr>\n",
       "    <tr>\n",
       "      <th>49999</th>\n",
       "      <td>1</td>\n",
       "      <td>1</td>\n",
       "      <td>0</td>\n",
       "      <td>0</td>\n",
       "      <td>0</td>\n",
       "      <td>3</td>\n",
       "      <td>1</td>\n",
       "      <td>0</td>\n",
       "      <td>1</td>\n",
       "      <td>0</td>\n",
       "      <td>...</td>\n",
       "      <td>0</td>\n",
       "      <td>0</td>\n",
       "      <td>0</td>\n",
       "      <td>0</td>\n",
       "      <td>0</td>\n",
       "      <td>0</td>\n",
       "      <td>0</td>\n",
       "      <td>0</td>\n",
       "      <td>0</td>\n",
       "      <td>0</td>\n",
       "    </tr>\n",
       "  </tbody>\n",
       "</table>\n",
       "<p>50000 rows × 5000 columns</p>\n",
       "</div>"
      ],
      "text/plain": [
       "0      0     1     2     3     4     5     6     7     8     9     ...  4990  \\\n",
       "0         3     1     1     1     1     3     1     1     1     1  ...     0   \n",
       "1         3     0     0     3     0     4     1     0     2     0  ...     0   \n",
       "2         2     0     0     0     0     6     0     0     0     0  ...     0   \n",
       "3         3     0     0     0     0    10     0     0     3     0  ...     0   \n",
       "4         4     0     0     2     0     6     2     0     2     0  ...     0   \n",
       "...     ...   ...   ...   ...   ...   ...   ...   ...   ...   ...  ...   ...   \n",
       "49995     2     0     0     0     0     5     1     0     0     0  ...     0   \n",
       "49996     2     0     0     1     0     3     0     0     1     0  ...     0   \n",
       "49997     2     0     0     0     0     7     0     0     1     1  ...     0   \n",
       "49998     0     0     0     0     0     3     1     0     1     0  ...     0   \n",
       "49999     1     1     0     0     0     3     1     0     1     0  ...     0   \n",
       "\n",
       "0      4991  4992  4993  4994  4995  4996  4997  4998  4999  \n",
       "0         0     0     0     0     0     0     0     0     0  \n",
       "1         0     0     0     0     0     0     0     0     0  \n",
       "2         0     0     0     0     0     0     0     0     0  \n",
       "3         0     0     0     0     0     0     0     0     0  \n",
       "4         0     0     0     0     0     0     0     0     0  \n",
       "...     ...   ...   ...   ...   ...   ...   ...   ...   ...  \n",
       "49995     0     0     0     0     0     0     0     0     0  \n",
       "49996     0     0     0     0     0     0     0     0     0  \n",
       "49997     0     0     0     0     0     0     0     0     0  \n",
       "49998     0     0     0     0     0     0     0     0     0  \n",
       "49999     0     0     0     0     0     0     0     0     0  \n",
       "\n",
       "[50000 rows x 5000 columns]"
      ]
     },
     "execution_count": 25,
     "metadata": {},
     "output_type": "execute_result"
    }
   ],
   "source": [
    "df2.astype('int32')"
   ]
  },
  {
   "cell_type": "code",
   "execution_count": 26,
   "id": "6fa2fa2d-12ba-4be0-932e-d31938b8b0ef",
   "metadata": {},
   "outputs": [
    {
     "data": {
      "text/plain": [
       "(50000, 5000)"
      ]
     },
     "execution_count": 26,
     "metadata": {},
     "output_type": "execute_result"
    }
   ],
   "source": [
    "df2.shape"
   ]
  },
  {
   "cell_type": "code",
   "execution_count": 27,
   "id": "c8b5d968-157c-40bc-8d00-cb20e9af0be9",
   "metadata": {},
   "outputs": [
    {
     "data": {
      "text/plain": [
       "0        1\n",
       "1        1\n",
       "2        1\n",
       "3        0\n",
       "4        1\n",
       "        ..\n",
       "49995    1\n",
       "49996    0\n",
       "49997    0\n",
       "49998    0\n",
       "49999    0\n",
       "Name: sentiment, Length: 50000, dtype: int64"
      ]
     },
     "execution_count": 27,
     "metadata": {},
     "output_type": "execute_result"
    }
   ],
   "source": [
    "df['sentiment']"
   ]
  },
  {
   "cell_type": "code",
   "execution_count": 28,
   "id": "37e7f718-801a-46b2-a9a8-104ca51ae322",
   "metadata": {
    "tags": []
   },
   "outputs": [],
   "source": [
    "df_preprocessed = pd.concat([df2,df['sentiment']], axis=1)"
   ]
  },
  {
   "cell_type": "code",
   "execution_count": 29,
   "id": "a25d7cd5-4a59-4a19-8520-19c28b06aad8",
   "metadata": {},
   "outputs": [
    {
     "name": "stdout",
     "output_type": "stream",
     "text": [
      "<class 'pandas.core.frame.DataFrame'>\n",
      "RangeIndex: 50000 entries, 0 to 49999\n",
      "Columns: 5001 entries, 0 to sentiment\n",
      "dtypes: float64(5000), int64(1)\n",
      "memory usage: 1.9 GB\n"
     ]
    }
   ],
   "source": [
    "df_preprocessed.info()"
   ]
  },
  {
   "cell_type": "code",
   "execution_count": 30,
   "id": "5b70f614-6ce0-4952-9ad1-452a17fd1332",
   "metadata": {},
   "outputs": [
    {
     "data": {
      "text/html": [
       "<div>\n",
       "<style scoped>\n",
       "    .dataframe tbody tr th:only-of-type {\n",
       "        vertical-align: middle;\n",
       "    }\n",
       "\n",
       "    .dataframe tbody tr th {\n",
       "        vertical-align: top;\n",
       "    }\n",
       "\n",
       "    .dataframe thead th {\n",
       "        text-align: right;\n",
       "    }\n",
       "</style>\n",
       "<table border=\"1\" class=\"dataframe\">\n",
       "  <thead>\n",
       "    <tr style=\"text-align: right;\">\n",
       "      <th></th>\n",
       "      <th>0</th>\n",
       "      <th>1</th>\n",
       "      <th>2</th>\n",
       "      <th>3</th>\n",
       "      <th>4</th>\n",
       "      <th>5</th>\n",
       "      <th>6</th>\n",
       "      <th>7</th>\n",
       "      <th>8</th>\n",
       "      <th>9</th>\n",
       "      <th>...</th>\n",
       "      <th>4991</th>\n",
       "      <th>4992</th>\n",
       "      <th>4993</th>\n",
       "      <th>4994</th>\n",
       "      <th>4995</th>\n",
       "      <th>4996</th>\n",
       "      <th>4997</th>\n",
       "      <th>4998</th>\n",
       "      <th>4999</th>\n",
       "      <th>sentiment</th>\n",
       "    </tr>\n",
       "  </thead>\n",
       "  <tbody>\n",
       "    <tr>\n",
       "      <th>0</th>\n",
       "      <td>3.0</td>\n",
       "      <td>1.0</td>\n",
       "      <td>1.0</td>\n",
       "      <td>1.0</td>\n",
       "      <td>1.0</td>\n",
       "      <td>3.0</td>\n",
       "      <td>1.0</td>\n",
       "      <td>1.0</td>\n",
       "      <td>1.0</td>\n",
       "      <td>1.0</td>\n",
       "      <td>...</td>\n",
       "      <td>0.0</td>\n",
       "      <td>0.0</td>\n",
       "      <td>0.0</td>\n",
       "      <td>0.0</td>\n",
       "      <td>0.0</td>\n",
       "      <td>0.0</td>\n",
       "      <td>0.0</td>\n",
       "      <td>0.0</td>\n",
       "      <td>0.0</td>\n",
       "      <td>1</td>\n",
       "    </tr>\n",
       "    <tr>\n",
       "      <th>1</th>\n",
       "      <td>3.0</td>\n",
       "      <td>0.0</td>\n",
       "      <td>0.0</td>\n",
       "      <td>3.0</td>\n",
       "      <td>0.0</td>\n",
       "      <td>4.0</td>\n",
       "      <td>1.0</td>\n",
       "      <td>0.0</td>\n",
       "      <td>2.0</td>\n",
       "      <td>0.0</td>\n",
       "      <td>...</td>\n",
       "      <td>0.0</td>\n",
       "      <td>0.0</td>\n",
       "      <td>0.0</td>\n",
       "      <td>0.0</td>\n",
       "      <td>0.0</td>\n",
       "      <td>0.0</td>\n",
       "      <td>0.0</td>\n",
       "      <td>0.0</td>\n",
       "      <td>0.0</td>\n",
       "      <td>1</td>\n",
       "    </tr>\n",
       "    <tr>\n",
       "      <th>2</th>\n",
       "      <td>2.0</td>\n",
       "      <td>0.0</td>\n",
       "      <td>0.0</td>\n",
       "      <td>0.0</td>\n",
       "      <td>0.0</td>\n",
       "      <td>6.0</td>\n",
       "      <td>0.0</td>\n",
       "      <td>0.0</td>\n",
       "      <td>0.0</td>\n",
       "      <td>0.0</td>\n",
       "      <td>...</td>\n",
       "      <td>0.0</td>\n",
       "      <td>0.0</td>\n",
       "      <td>0.0</td>\n",
       "      <td>0.0</td>\n",
       "      <td>0.0</td>\n",
       "      <td>0.0</td>\n",
       "      <td>0.0</td>\n",
       "      <td>0.0</td>\n",
       "      <td>0.0</td>\n",
       "      <td>1</td>\n",
       "    </tr>\n",
       "    <tr>\n",
       "      <th>3</th>\n",
       "      <td>3.0</td>\n",
       "      <td>0.0</td>\n",
       "      <td>0.0</td>\n",
       "      <td>0.0</td>\n",
       "      <td>0.0</td>\n",
       "      <td>10.0</td>\n",
       "      <td>0.0</td>\n",
       "      <td>0.0</td>\n",
       "      <td>3.0</td>\n",
       "      <td>0.0</td>\n",
       "      <td>...</td>\n",
       "      <td>0.0</td>\n",
       "      <td>0.0</td>\n",
       "      <td>0.0</td>\n",
       "      <td>0.0</td>\n",
       "      <td>0.0</td>\n",
       "      <td>0.0</td>\n",
       "      <td>0.0</td>\n",
       "      <td>0.0</td>\n",
       "      <td>0.0</td>\n",
       "      <td>0</td>\n",
       "    </tr>\n",
       "    <tr>\n",
       "      <th>4</th>\n",
       "      <td>4.0</td>\n",
       "      <td>0.0</td>\n",
       "      <td>0.0</td>\n",
       "      <td>2.0</td>\n",
       "      <td>0.0</td>\n",
       "      <td>6.0</td>\n",
       "      <td>2.0</td>\n",
       "      <td>0.0</td>\n",
       "      <td>2.0</td>\n",
       "      <td>0.0</td>\n",
       "      <td>...</td>\n",
       "      <td>0.0</td>\n",
       "      <td>0.0</td>\n",
       "      <td>0.0</td>\n",
       "      <td>0.0</td>\n",
       "      <td>0.0</td>\n",
       "      <td>0.0</td>\n",
       "      <td>0.0</td>\n",
       "      <td>0.0</td>\n",
       "      <td>0.0</td>\n",
       "      <td>1</td>\n",
       "    </tr>\n",
       "  </tbody>\n",
       "</table>\n",
       "<p>5 rows × 5001 columns</p>\n",
       "</div>"
      ],
      "text/plain": [
       "     0    1    2    3    4     5    6    7    8    9  ...  4991  4992  4993  \\\n",
       "0  3.0  1.0  1.0  1.0  1.0   3.0  1.0  1.0  1.0  1.0  ...   0.0   0.0   0.0   \n",
       "1  3.0  0.0  0.0  3.0  0.0   4.0  1.0  0.0  2.0  0.0  ...   0.0   0.0   0.0   \n",
       "2  2.0  0.0  0.0  0.0  0.0   6.0  0.0  0.0  0.0  0.0  ...   0.0   0.0   0.0   \n",
       "3  3.0  0.0  0.0  0.0  0.0  10.0  0.0  0.0  3.0  0.0  ...   0.0   0.0   0.0   \n",
       "4  4.0  0.0  0.0  2.0  0.0   6.0  2.0  0.0  2.0  0.0  ...   0.0   0.0   0.0   \n",
       "\n",
       "   4994  4995  4996  4997  4998  4999  sentiment  \n",
       "0   0.0   0.0   0.0   0.0   0.0   0.0          1  \n",
       "1   0.0   0.0   0.0   0.0   0.0   0.0          1  \n",
       "2   0.0   0.0   0.0   0.0   0.0   0.0          1  \n",
       "3   0.0   0.0   0.0   0.0   0.0   0.0          0  \n",
       "4   0.0   0.0   0.0   0.0   0.0   0.0          1  \n",
       "\n",
       "[5 rows x 5001 columns]"
      ]
     },
     "execution_count": 30,
     "metadata": {},
     "output_type": "execute_result"
    }
   ],
   "source": [
    "df_preprocessed.head()"
   ]
  },
  {
   "cell_type": "code",
   "execution_count": 31,
   "id": "b85e48c8-fd40-4511-8576-f93cee081ffd",
   "metadata": {},
   "outputs": [
    {
     "data": {
      "text/plain": [
       "0"
      ]
     },
     "execution_count": 31,
     "metadata": {},
     "output_type": "execute_result"
    }
   ],
   "source": [
    "del df\n",
    "del df2\n",
    "del my_dict\n",
    "gc.collect()"
   ]
  },
  {
   "cell_type": "markdown",
   "id": "7c99ba2b-c821-42e1-8ca0-667874990c51",
   "metadata": {},
   "source": [
    "## Check balance"
   ]
  },
  {
   "cell_type": "code",
   "execution_count": 32,
   "id": "15267e53-2587-4a97-a93f-5a15a0e4c802",
   "metadata": {
    "tags": []
   },
   "outputs": [
    {
     "data": {
      "text/plain": [
       "1    25000\n",
       "0    25000\n",
       "Name: sentiment, dtype: int64"
      ]
     },
     "execution_count": 32,
     "metadata": {},
     "output_type": "execute_result"
    }
   ],
   "source": [
    "df_preprocessed['sentiment'].value_counts()"
   ]
  },
  {
   "cell_type": "code",
   "execution_count": 33,
   "id": "b8e5f0e9-394d-459e-bb51-ba6c9b352413",
   "metadata": {},
   "outputs": [],
   "source": [
    "sum_token = df_preprocessed.iloc[:, :5000].sum(axis=1)"
   ]
  },
  {
   "cell_type": "code",
   "execution_count": 34,
   "id": "97b0dee6-25e0-449e-8811-8c349f323036",
   "metadata": {},
   "outputs": [],
   "source": [
    "df_check_token_balanced = pd.concat([sum_token, df_preprocessed['sentiment']], axis=1)"
   ]
  },
  {
   "cell_type": "code",
   "execution_count": 35,
   "id": "ee61abe2-27f1-48c3-8a10-5c5631356738",
   "metadata": {},
   "outputs": [
    {
     "data": {
      "text/plain": [
       "Index([0, 'sentiment'], dtype='object')"
      ]
     },
     "execution_count": 35,
     "metadata": {},
     "output_type": "execute_result"
    }
   ],
   "source": [
    "df_check_token_balanced.columns"
   ]
  },
  {
   "cell_type": "code",
   "execution_count": 36,
   "id": "876ab18f-db3c-4904-a112-6fd4b2f77736",
   "metadata": {},
   "outputs": [
    {
     "data": {
      "text/plain": [
       "array([116.,   0.])"
      ]
     },
     "execution_count": 36,
     "metadata": {},
     "output_type": "execute_result"
    }
   ],
   "source": [
    "df_check_token_balanced.iloc[-1].unique()"
   ]
  },
  {
   "cell_type": "code",
   "execution_count": 37,
   "id": "3988c38c-75f9-4dc3-8116-e72e72d9215b",
   "metadata": {},
   "outputs": [
    {
     "data": {
      "text/plain": [
       "0       sentiment\n",
       "117.0   1            212\n",
       "115.0   0            210\n",
       "111.0   0            207\n",
       "113.0   0            202\n",
       "119.0   0            197\n",
       "                    ... \n",
       "740.0   0              1\n",
       "741.0   1              1\n",
       "743.0   1              1\n",
       "744.0   1              1\n",
       "1909.0  1              1\n",
       "Length: 1676, dtype: int64"
      ]
     },
     "execution_count": 37,
     "metadata": {},
     "output_type": "execute_result"
    }
   ],
   "source": [
    "df_check_token_balanced.value_counts()"
   ]
  },
  {
   "cell_type": "code",
   "execution_count": 38,
   "id": "346ccbbb-bc48-4f1a-81b4-b815d53cabb1",
   "metadata": {},
   "outputs": [],
   "source": [
    "df_check_token_balanced.columns =['sum_token', 'sentiment']"
   ]
  },
  {
   "cell_type": "code",
   "execution_count": 39,
   "id": "d0a0852e-d927-4fd8-8110-864e2a48b878",
   "metadata": {},
   "outputs": [
    {
     "data": {
      "text/html": [
       "<div>\n",
       "<style scoped>\n",
       "    .dataframe tbody tr th:only-of-type {\n",
       "        vertical-align: middle;\n",
       "    }\n",
       "\n",
       "    .dataframe tbody tr th {\n",
       "        vertical-align: top;\n",
       "    }\n",
       "\n",
       "    .dataframe thead th {\n",
       "        text-align: right;\n",
       "    }\n",
       "</style>\n",
       "<table border=\"1\" class=\"dataframe\">\n",
       "  <thead>\n",
       "    <tr style=\"text-align: right;\">\n",
       "      <th></th>\n",
       "      <th>sum_token</th>\n",
       "      <th>sentiment</th>\n",
       "    </tr>\n",
       "  </thead>\n",
       "  <tbody>\n",
       "    <tr>\n",
       "      <th>0</th>\n",
       "      <td>248.0</td>\n",
       "      <td>1</td>\n",
       "    </tr>\n",
       "    <tr>\n",
       "      <th>1</th>\n",
       "      <td>133.0</td>\n",
       "      <td>1</td>\n",
       "    </tr>\n",
       "    <tr>\n",
       "      <th>2</th>\n",
       "      <td>140.0</td>\n",
       "      <td>1</td>\n",
       "    </tr>\n",
       "    <tr>\n",
       "      <th>3</th>\n",
       "      <td>117.0</td>\n",
       "      <td>0</td>\n",
       "    </tr>\n",
       "    <tr>\n",
       "      <th>4</th>\n",
       "      <td>193.0</td>\n",
       "      <td>1</td>\n",
       "    </tr>\n",
       "  </tbody>\n",
       "</table>\n",
       "</div>"
      ],
      "text/plain": [
       "   sum_token  sentiment\n",
       "0      248.0          1\n",
       "1      133.0          1\n",
       "2      140.0          1\n",
       "3      117.0          0\n",
       "4      193.0          1"
      ]
     },
     "execution_count": 39,
     "metadata": {},
     "output_type": "execute_result"
    }
   ],
   "source": [
    "df_check_token_balanced.head()"
   ]
  },
  {
   "cell_type": "code",
   "execution_count": 40,
   "id": "7a3aab7e-b68a-4969-bc62-7810ce1ea623",
   "metadata": {},
   "outputs": [
    {
     "data": {
      "text/plain": [
       "<AxesSubplot:xlabel='sentiment', ylabel='sum_token'>"
      ]
     },
     "execution_count": 40,
     "metadata": {},
     "output_type": "execute_result"
    },
    {
     "data": {
      "image/png": "[encoded data removed]",
      "text/plain": [
       "<Figure size 432x288 with 1 Axes>"
      ]
     },
     "metadata": {
      "needs_background": "light"
     },
     "output_type": "display_data"
    }
   ],
   "source": [
    "sns.barplot(data = df_check_token_balanced, x = \"sentiment\" , y =\"sum_token\")"
   ]
  },
  {
   "cell_type": "code",
   "execution_count": 41,
   "id": "7c66c27d-5ad5-47e3-8d79-06e7bdff328e",
   "metadata": {},
   "outputs": [
    {
     "data": {
      "text/plain": [
       "<AxesSubplot:xlabel='sentiment', ylabel='sum_token'>"
      ]
     },
     "execution_count": 41,
     "metadata": {},
     "output_type": "execute_result"
    },
    {
     "data": {
      "image/png": "[encoded data removed]",
      "text/plain": [
       "<Figure size 432x288 with 1 Axes>"
      ]
     },
     "metadata": {
      "needs_background": "light"
     },
     "output_type": "display_data"
    }
   ],
   "source": [
    "sns.scatterplot(data = df_check_token_balanced, x = \"sentiment\" , y =\"sum_token\")"
   ]
  },
  {
   "cell_type": "code",
   "execution_count": 42,
   "id": "b0e0fc0b-4071-4aaf-b33a-281a4f917685",
   "metadata": {},
   "outputs": [],
   "source": [
    "# this line takes 5mins+ and may use up all memories\n",
    "# df_preprocessed.to_csv('data_processed.csv', header=0)"
   ]
  },
  {
   "cell_type": "code",
   "execution_count": 43,
   "id": "91a1ac80-d25e-44a7-856e-6dfff5f5f33c",
   "metadata": {},
   "outputs": [
    {
     "data": {
      "text/plain": [
       "0"
      ]
     },
     "execution_count": 43,
     "metadata": {},
     "output_type": "execute_result"
    }
   ],
   "source": [
    "del df_check_token_balanced\n",
    "gc.collect()"
   ]
  },
  {
   "cell_type": "markdown",
   "id": "bff4162a-210c-4107-8e93-68fc81cb5b9a",
   "metadata": {
    "tags": []
   },
   "source": [
    "# Declaring observations and targets"
   ]
  },
  {
   "cell_type": "code",
   "execution_count": 44,
   "id": "cb488d81-0983-4af4-9684-0191e28c9120",
   "metadata": {},
   "outputs": [
    {
     "data": {
      "text/plain": [
       "(50000, 5001)"
      ]
     },
     "execution_count": 44,
     "metadata": {},
     "output_type": "execute_result"
    }
   ],
   "source": [
    "df_preprocessed.shape"
   ]
  },
  {
   "cell_type": "code",
   "execution_count": 45,
   "id": "f1277479-7f8d-43a8-b7ae-6f7335f8de78",
   "metadata": {},
   "outputs": [],
   "source": [
    "df_preprocessed = df_preprocessed.astype('float32')"
   ]
  },
  {
   "cell_type": "code",
   "execution_count": 46,
   "id": "7c718fbe-2172-44ad-9c9a-1ec189e02657",
   "metadata": {},
   "outputs": [],
   "source": [
    "#df_preprocessed.iloc[-1]"
   ]
  },
  {
   "cell_type": "code",
   "execution_count": 47,
   "id": "52cb13fc-1f93-4942-a468-3f153bd8dee7",
   "metadata": {},
   "outputs": [],
   "source": [
    "X = df_preprocessed.iloc[:, :5000]"
   ]
  },
  {
   "cell_type": "code",
   "execution_count": 48,
   "id": "61875c42-5449-4960-9e8a-47b36c1d0dfb",
   "metadata": {},
   "outputs": [],
   "source": [
    "y = df_preprocessed.iloc[:, -1].copy()"
   ]
  },
  {
   "cell_type": "code",
   "execution_count": 49,
   "id": "27710501-6256-45c8-8919-2cb4b44c9ca3",
   "metadata": {},
   "outputs": [
    {
     "data": {
      "text/html": [
       "<div>\n",
       "<style scoped>\n",
       "    .dataframe tbody tr th:only-of-type {\n",
       "        vertical-align: middle;\n",
       "    }\n",
       "\n",
       "    .dataframe tbody tr th {\n",
       "        vertical-align: top;\n",
       "    }\n",
       "\n",
       "    .dataframe thead th {\n",
       "        text-align: right;\n",
       "    }\n",
       "</style>\n",
       "<table border=\"1\" class=\"dataframe\">\n",
       "  <thead>\n",
       "    <tr style=\"text-align: right;\">\n",
       "      <th></th>\n",
       "      <th>0</th>\n",
       "      <th>1</th>\n",
       "      <th>2</th>\n",
       "      <th>3</th>\n",
       "      <th>4</th>\n",
       "      <th>5</th>\n",
       "      <th>6</th>\n",
       "      <th>7</th>\n",
       "      <th>8</th>\n",
       "      <th>9</th>\n",
       "      <th>...</th>\n",
       "      <th>4990</th>\n",
       "      <th>4991</th>\n",
       "      <th>4992</th>\n",
       "      <th>4993</th>\n",
       "      <th>4994</th>\n",
       "      <th>4995</th>\n",
       "      <th>4996</th>\n",
       "      <th>4997</th>\n",
       "      <th>4998</th>\n",
       "      <th>4999</th>\n",
       "    </tr>\n",
       "  </thead>\n",
       "  <tbody>\n",
       "    <tr>\n",
       "      <th>0</th>\n",
       "      <td>3.0</td>\n",
       "      <td>1.0</td>\n",
       "      <td>1.0</td>\n",
       "      <td>1.0</td>\n",
       "      <td>1.0</td>\n",
       "      <td>3.0</td>\n",
       "      <td>1.0</td>\n",
       "      <td>1.0</td>\n",
       "      <td>1.0</td>\n",
       "      <td>1.0</td>\n",
       "      <td>...</td>\n",
       "      <td>0.0</td>\n",
       "      <td>0.0</td>\n",
       "      <td>0.0</td>\n",
       "      <td>0.0</td>\n",
       "      <td>0.0</td>\n",
       "      <td>0.0</td>\n",
       "      <td>0.0</td>\n",
       "      <td>0.0</td>\n",
       "      <td>0.0</td>\n",
       "      <td>0.0</td>\n",
       "    </tr>\n",
       "    <tr>\n",
       "      <th>1</th>\n",
       "      <td>3.0</td>\n",
       "      <td>0.0</td>\n",
       "      <td>0.0</td>\n",
       "      <td>3.0</td>\n",
       "      <td>0.0</td>\n",
       "      <td>4.0</td>\n",
       "      <td>1.0</td>\n",
       "      <td>0.0</td>\n",
       "      <td>2.0</td>\n",
       "      <td>0.0</td>\n",
       "      <td>...</td>\n",
       "      <td>0.0</td>\n",
       "      <td>0.0</td>\n",
       "      <td>0.0</td>\n",
       "      <td>0.0</td>\n",
       "      <td>0.0</td>\n",
       "      <td>0.0</td>\n",
       "      <td>0.0</td>\n",
       "      <td>0.0</td>\n",
       "      <td>0.0</td>\n",
       "      <td>0.0</td>\n",
       "    </tr>\n",
       "  </tbody>\n",
       "</table>\n",
       "<p>2 rows × 5000 columns</p>\n",
       "</div>"
      ],
      "text/plain": [
       "   0     1     2     3     4     5     6     7     8     9     ...  4990  \\\n",
       "0   3.0   1.0   1.0   1.0   1.0   3.0   1.0   1.0   1.0   1.0  ...   0.0   \n",
       "1   3.0   0.0   0.0   3.0   0.0   4.0   1.0   0.0   2.0   0.0  ...   0.0   \n",
       "\n",
       "   4991  4992  4993  4994  4995  4996  4997  4998  4999  \n",
       "0   0.0   0.0   0.0   0.0   0.0   0.0   0.0   0.0   0.0  \n",
       "1   0.0   0.0   0.0   0.0   0.0   0.0   0.0   0.0   0.0  \n",
       "\n",
       "[2 rows x 5000 columns]"
      ]
     },
     "execution_count": 49,
     "metadata": {},
     "output_type": "execute_result"
    }
   ],
   "source": [
    "X.head(2)"
   ]
  },
  {
   "cell_type": "code",
   "execution_count": 50,
   "id": "e762c5cb-5ec6-43eb-aa7d-959cfe741d28",
   "metadata": {},
   "outputs": [
    {
     "data": {
      "text/plain": [
       "0    1.0\n",
       "1    1.0\n",
       "Name: sentiment, dtype: float32"
      ]
     },
     "execution_count": 50,
     "metadata": {},
     "output_type": "execute_result"
    }
   ],
   "source": [
    "y.head(2)"
   ]
  },
  {
   "cell_type": "code",
   "execution_count": 51,
   "id": "a67fd670-df44-4331-81a3-8aed7e72ca22",
   "metadata": {},
   "outputs": [
    {
     "data": {
      "text/plain": [
       "0"
      ]
     },
     "execution_count": 51,
     "metadata": {},
     "output_type": "execute_result"
    }
   ],
   "source": [
    "del df_preprocessed\n",
    "gc.collect()"
   ]
  },
  {
   "cell_type": "markdown",
   "id": "5cf67809-0231-4c28-8221-2893eda011fa",
   "metadata": {},
   "source": [
    "# Standardize X"
   ]
  },
  {
   "cell_type": "code",
   "execution_count": 52,
   "id": "f0208464-68f0-46f0-80b9-b776285b06b9",
   "metadata": {},
   "outputs": [],
   "source": [
    "scaler = StandardScaler()\n",
    "X_scaled = scaler.fit_transform(X)"
   ]
  },
  {
   "cell_type": "markdown",
   "id": "30392b7b-3696-4f46-823d-c8ea057667fb",
   "metadata": {},
   "source": [
    "# Train test split"
   ]
  },
  {
   "cell_type": "code",
   "execution_count": 53,
   "id": "c2a3cfab-aee8-43ea-a98a-a30e3f7fff9d",
   "metadata": {},
   "outputs": [],
   "source": [
    "X_train, X_test, y_train, y_test = train_test_split(X_scaled,y, test_size= 0.2, random_state = 42)"
   ]
  },
  {
   "cell_type": "code",
   "execution_count": 54,
   "id": "d1d46ba0-6020-4bd6-b6a2-877db2deacc9",
   "metadata": {},
   "outputs": [],
   "source": [
    "#y_train.info()"
   ]
  },
  {
   "cell_type": "code",
   "execution_count": 55,
   "id": "89d8ccd4-67d1-4c1e-a5b1-7cac47401ea2",
   "metadata": {},
   "outputs": [],
   "source": [
    "y_train = y_train.astype('float32')\n",
    "y_test = y_test.astype('float32')"
   ]
  },
  {
   "cell_type": "code",
   "execution_count": 56,
   "id": "ddccf032-d1df-4132-89bf-95df7554005a",
   "metadata": {},
   "outputs": [
    {
     "name": "stdout",
     "output_type": "stream",
     "text": [
      "(40000, 5000)\n",
      "(10000, 5000)\n",
      "(40000,)\n",
      "(10000,)\n"
     ]
    }
   ],
   "source": [
    "print(X_train.shape)\n",
    "print(X_test.shape)\n",
    "print(y_train.shape)\n",
    "print(y_test.shape)"
   ]
  },
  {
   "cell_type": "code",
   "execution_count": 57,
   "id": "e16d9018-88c2-4d80-8ebd-c9a205425ccc",
   "metadata": {},
   "outputs": [
    {
     "data": {
      "text/plain": [
       "0"
      ]
     },
     "execution_count": 57,
     "metadata": {},
     "output_type": "execute_result"
    }
   ],
   "source": [
    "del X_scaled,y\n",
    "gc.collect()"
   ]
  },
  {
   "cell_type": "markdown",
   "id": "b29ab2bb-5cfa-4977-8ab1-1f68e34c45bb",
   "metadata": {},
   "source": [
    "# Network functions"
   ]
  },
  {
   "cell_type": "code",
   "execution_count": 58,
   "id": "7d6d6043-d86f-43dc-a7a9-d3b216bc3fc6",
   "metadata": {},
   "outputs": [],
   "source": [
    "BATCH_SIZE = 500\n",
    "STEPS_PER_EPOCH = 40000/BATCH_SIZE"
   ]
  },
  {
   "cell_type": "code",
   "execution_count": 59,
   "id": "fe05b1c0-4130-43a7-81bd-3a8af9cd5e25",
   "metadata": {},
   "outputs": [],
   "source": [
    "lr_schedule = tf.keras.optimizers.schedules.InverseTimeDecay(\n",
    "  0.001,\n",
    "  decay_steps=STEPS_PER_EPOCH*1000,\n",
    "  decay_rate=1,\n",
    "  staircase=False)"
   ]
  },
  {
   "cell_type": "code",
   "execution_count": 60,
   "id": "2719b2a4-9905-4e81-a405-a685ee2c51ce",
   "metadata": {},
   "outputs": [],
   "source": [
    "def get_optimizer():\n",
    "    return tf.keras.optimizers.Adam(lr_schedule)"
   ]
  },
  {
   "cell_type": "code",
   "execution_count": 61,
   "id": "c5d1dfdf-b251-4f9c-8f96-3b0581ad2225",
   "metadata": {},
   "outputs": [],
   "source": [
    "def get_callbacks(name):\n",
    "    return [\n",
    "        tfdocs.modeling.EpochDots(),\n",
    "        tf.keras.callbacks.EarlyStopping(monitor='val_binary_crossentropy', patience=150),\n",
    "        tf.keras.callbacks.TensorBoard(logdir/name),\n",
    "  ]"
   ]
  },
  {
   "cell_type": "code",
   "execution_count": 62,
   "id": "e5fe8a22-03a3-4df2-803e-51349f940520",
   "metadata": {
    "tags": []
   },
   "outputs": [],
   "source": [
    "def compile_and_fit(model, name, f_xtrain, f_ytrain, f_xval, f_yval, optimizer=None, max_epochs=10000):\n",
    "\n",
    "    if optimizer is None:\n",
    "        optimizer = get_optimizer()\n",
    "    \n",
    "    model.compile(optimizer=optimizer,\n",
    "                    loss=tf.keras.losses.BinaryCrossentropy(),\n",
    "                    metrics=[tf.keras.metrics.BinaryCrossentropy(\n",
    "                              name='binary_crossentropy'),\n",
    "                              'accuracy'])\n",
    "\n",
    "    history = model.fit(\n",
    "        x = X_train,\n",
    "        y = y_train,\n",
    "        steps_per_epoch = STEPS_PER_EPOCH,\n",
    "        epochs=max_epochs,\n",
    "        validation_data=(X_val, y_val) ,\n",
    "        callbacks=get_callbacks(name),\n",
    "        verbose=2)\n",
    "    \n",
    "    return history"
   ]
  },
  {
   "cell_type": "markdown",
   "id": "57ac3f92-594b-4129-ad6d-80ce92a5c4d5",
   "metadata": {},
   "source": [
    "# Model performance"
   ]
  },
  {
   "cell_type": "code",
   "execution_count": 63,
   "id": "e28a1a75-8eda-473f-aec1-ccd192c21202",
   "metadata": {
    "tags": []
   },
   "outputs": [],
   "source": [
    "model_1 = tf.keras.Sequential([\n",
    "    tf.keras.layers.Dense(units=16, activation='relu',input_shape=(5000,)),\n",
    "    tf.keras.layers.Dense(units=16, activation='relu'),\n",
    "    tf.keras.layers.Dropout(0.2),\n",
    "    tf.keras.layers.Dense(units=1,activation='sigmoid')\n",
    "])"
   ]
  },
  {
   "cell_type": "code",
   "execution_count": 64,
   "id": "2c5f87c8-ff34-4a84-85ab-a14d44bc03d6",
   "metadata": {},
   "outputs": [],
   "source": [
    "dict_histories = {}"
   ]
  },
  {
   "cell_type": "code",
   "execution_count": 65,
   "id": "b0b4730c-b24d-4361-8269-706025274d7c",
   "metadata": {},
   "outputs": [],
   "source": [
    "X_train_1 = X_train[3000:]\n",
    "X_val = X_train[:3000]\n",
    "y_train_1 = y_train[3000:]\n",
    "y_val = y_train[:3000]"
   ]
  },
  {
   "cell_type": "code",
   "execution_count": 66,
   "id": "774fe262-e814-4367-b204-1a033f98ac05",
   "metadata": {
    "tags": []
   },
   "outputs": [
    {
     "name": "stdout",
     "output_type": "stream",
     "text": [
      "Epoch 1/10000\n",
      "\n",
      "Epoch: 0, accuracy:0.7762,  binary_crossentropy:0.4628,  loss:0.4628,  val_accuracy:0.9147,  val_binary_crossentropy:0.2340,  val_loss:0.2340,  \n",
      ".80/80 - 7s - loss: 0.4628 - binary_crossentropy: 0.4628 - accuracy: 0.7762 - val_loss: 0.2340 - val_binary_crossentropy: 0.2340 - val_accuracy: 0.9147 - 7s/epoch - 92ms/step\n",
      "Epoch 2/10000\n",
      ".80/80 - 1s - loss: 0.2457 - binary_crossentropy: 0.2457 - accuracy: 0.9053 - val_loss: 0.1552 - val_binary_crossentropy: 0.1552 - val_accuracy: 0.9513 - 746ms/epoch - 9ms/step\n",
      "Epoch 3/10000\n",
      ".80/80 - 1s - loss: 0.1755 - binary_crossentropy: 0.1755 - accuracy: 0.9377 - val_loss: 0.1120 - val_binary_crossentropy: 0.1120 - val_accuracy: 0.9697 - 747ms/epoch - 9ms/step\n",
      "Epoch 4/10000\n",
      ".80/80 - 1s - loss: 0.1289 - binary_crossentropy: 0.1289 - accuracy: 0.9564 - val_loss: 0.0767 - val_binary_crossentropy: 0.0767 - val_accuracy: 0.9800 - 745ms/epoch - 9ms/step\n",
      "Epoch 5/10000\n",
      ".80/80 - 1s - loss: 0.0938 - binary_crossentropy: 0.0938 - accuracy: 0.9689 - val_loss: 0.0546 - val_binary_crossentropy: 0.0546 - val_accuracy: 0.9887 - 753ms/epoch - 9ms/step\n",
      "Epoch 6/10000\n",
      ".80/80 - 1s - loss: 0.0713 - binary_crossentropy: 0.0713 - accuracy: 0.9772 - val_loss: 0.0406 - val_binary_crossentropy: 0.0406 - val_accuracy: 0.9907 - 744ms/epoch - 9ms/step\n",
      "Epoch 7/10000\n",
      ".80/80 - 1s - loss: 0.0564 - binary_crossentropy: 0.0564 - accuracy: 0.9818 - val_loss: 0.0306 - val_binary_crossentropy: 0.0306 - val_accuracy: 0.9933 - 750ms/epoch - 9ms/step\n",
      "Epoch 8/10000\n",
      ".80/80 - 1s - loss: 0.0449 - binary_crossentropy: 0.0449 - accuracy: 0.9866 - val_loss: 0.0259 - val_binary_crossentropy: 0.0259 - val_accuracy: 0.9940 - 770ms/epoch - 10ms/step\n",
      "Epoch 9/10000\n",
      ".80/80 - 1s - loss: 0.0401 - binary_crossentropy: 0.0401 - accuracy: 0.9866 - val_loss: 0.0196 - val_binary_crossentropy: 0.0196 - val_accuracy: 0.9953 - 738ms/epoch - 9ms/step\n",
      "Epoch 10/10000\n",
      ".80/80 - 1s - loss: 0.0353 - binary_crossentropy: 0.0353 - accuracy: 0.9892 - val_loss: 0.0212 - val_binary_crossentropy: 0.0212 - val_accuracy: 0.9950 - 776ms/epoch - 10ms/step\n",
      "Epoch 11/10000\n",
      ".80/80 - 1s - loss: 0.0321 - binary_crossentropy: 0.0321 - accuracy: 0.9895 - val_loss: 0.0168 - val_binary_crossentropy: 0.0168 - val_accuracy: 0.9953 - 740ms/epoch - 9ms/step\n",
      "Epoch 12/10000\n",
      ".80/80 - 1s - loss: 0.0268 - binary_crossentropy: 0.0268 - accuracy: 0.9919 - val_loss: 0.0158 - val_binary_crossentropy: 0.0158 - val_accuracy: 0.9960 - 746ms/epoch - 9ms/step\n",
      "Epoch 13/10000\n",
      ".80/80 - 1s - loss: 0.0236 - binary_crossentropy: 0.0236 - accuracy: 0.9927 - val_loss: 0.0135 - val_binary_crossentropy: 0.0135 - val_accuracy: 0.9960 - 754ms/epoch - 9ms/step\n",
      "Epoch 14/10000\n",
      ".80/80 - 1s - loss: 0.0213 - binary_crossentropy: 0.0213 - accuracy: 0.9929 - val_loss: 0.0088 - val_binary_crossentropy: 0.0088 - val_accuracy: 0.9983 - 865ms/epoch - 11ms/step\n",
      "Epoch 15/10000\n",
      ".80/80 - 1s - loss: 0.0196 - binary_crossentropy: 0.0196 - accuracy: 0.9940 - val_loss: 0.0098 - val_binary_crossentropy: 0.0098 - val_accuracy: 0.9977 - 820ms/epoch - 10ms/step\n",
      "Epoch 16/10000\n",
      ".80/80 - 1s - loss: 0.0177 - binary_crossentropy: 0.0177 - accuracy: 0.9939 - val_loss: 0.0091 - val_binary_crossentropy: 0.0091 - val_accuracy: 0.9983 - 846ms/epoch - 11ms/step\n",
      "Epoch 17/10000\n",
      ".80/80 - 1s - loss: 0.0171 - binary_crossentropy: 0.0171 - accuracy: 0.9949 - val_loss: 0.0105 - val_binary_crossentropy: 0.0105 - val_accuracy: 0.9977 - 823ms/epoch - 10ms/step\n",
      "Epoch 18/10000\n",
      ".80/80 - 1s - loss: 0.0147 - binary_crossentropy: 0.0147 - accuracy: 0.9952 - val_loss: 0.0084 - val_binary_crossentropy: 0.0084 - val_accuracy: 0.9983 - 857ms/epoch - 11ms/step\n",
      "Epoch 19/10000\n",
      ".80/80 - 1s - loss: 0.0127 - binary_crossentropy: 0.0127 - accuracy: 0.9956 - val_loss: 0.0072 - val_binary_crossentropy: 0.0072 - val_accuracy: 0.9980 - 827ms/epoch - 10ms/step\n",
      "Epoch 20/10000\n",
      ".80/80 - 1s - loss: 0.0093 - binary_crossentropy: 0.0093 - accuracy: 0.9969 - val_loss: 0.0059 - val_binary_crossentropy: 0.0059 - val_accuracy: 0.9987 - 844ms/epoch - 11ms/step\n",
      "Epoch 21/10000\n",
      ".80/80 - 1s - loss: 0.0071 - binary_crossentropy: 0.0071 - accuracy: 0.9978 - val_loss: 0.0058 - val_binary_crossentropy: 0.0058 - val_accuracy: 0.9983 - 922ms/epoch - 12ms/step\n",
      "Epoch 22/10000\n",
      ".80/80 - 1s - loss: 0.0055 - binary_crossentropy: 0.0055 - accuracy: 0.9982 - val_loss: 0.0062 - val_binary_crossentropy: 0.0062 - val_accuracy: 0.9983 - 793ms/epoch - 10ms/step\n",
      "Epoch 23/10000\n",
      ".80/80 - 1s - loss: 0.0044 - binary_crossentropy: 0.0044 - accuracy: 0.9987 - val_loss: 0.0044 - val_binary_crossentropy: 0.0044 - val_accuracy: 0.9987 - 756ms/epoch - 9ms/step\n",
      "Epoch 24/10000\n",
      ".80/80 - 1s - loss: 0.0038 - binary_crossentropy: 0.0038 - accuracy: 0.9986 - val_loss: 0.0061 - val_binary_crossentropy: 0.0061 - val_accuracy: 0.9983 - 752ms/epoch - 9ms/step\n",
      "Epoch 25/10000\n",
      ".80/80 - 1s - loss: 0.0043 - binary_crossentropy: 0.0043 - accuracy: 0.9984 - val_loss: 0.0037 - val_binary_crossentropy: 0.0037 - val_accuracy: 0.9987 - 744ms/epoch - 9ms/step\n",
      "Epoch 26/10000\n",
      ".80/80 - 1s - loss: 0.0054 - binary_crossentropy: 0.0054 - accuracy: 0.9981 - val_loss: 0.0040 - val_binary_crossentropy: 0.0040 - val_accuracy: 0.9987 - 776ms/epoch - 10ms/step\n",
      "Epoch 27/10000\n",
      ".80/80 - 1s - loss: 0.0081 - binary_crossentropy: 0.0081 - accuracy: 0.9970 - val_loss: 0.0081 - val_binary_crossentropy: 0.0081 - val_accuracy: 0.9970 - 748ms/epoch - 9ms/step\n",
      "Epoch 28/10000\n",
      ".80/80 - 1s - loss: 0.0187 - binary_crossentropy: 0.0187 - accuracy: 0.9943 - val_loss: 0.0168 - val_binary_crossentropy: 0.0168 - val_accuracy: 0.9937 - 757ms/epoch - 9ms/step\n",
      "Epoch 29/10000\n",
      ".80/80 - 1s - loss: 0.0427 - binary_crossentropy: 0.0427 - accuracy: 0.9868 - val_loss: 0.0157 - val_binary_crossentropy: 0.0157 - val_accuracy: 0.9940 - 740ms/epoch - 9ms/step\n",
      "Epoch 30/10000\n",
      ".80/80 - 1s - loss: 0.0254 - binary_crossentropy: 0.0254 - accuracy: 0.9916 - val_loss: 0.0066 - val_binary_crossentropy: 0.0066 - val_accuracy: 0.9980 - 740ms/epoch - 9ms/step\n",
      "Epoch 31/10000\n",
      ".80/80 - 1s - loss: 0.0102 - binary_crossentropy: 0.0102 - accuracy: 0.9966 - val_loss: 0.0034 - val_binary_crossentropy: 0.0034 - val_accuracy: 0.9990 - 753ms/epoch - 9ms/step\n",
      "Epoch 32/10000\n",
      ".80/80 - 1s - loss: 0.0046 - binary_crossentropy: 0.0046 - accuracy: 0.9987 - val_loss: 0.0027 - val_binary_crossentropy: 0.0027 - val_accuracy: 0.9990 - 757ms/epoch - 9ms/step\n",
      "Epoch 33/10000\n",
      ".80/80 - 1s - loss: 0.0030 - binary_crossentropy: 0.0030 - accuracy: 0.9990 - val_loss: 0.0022 - val_binary_crossentropy: 0.0022 - val_accuracy: 0.9990 - 788ms/epoch - 10ms/step\n",
      "Epoch 34/10000\n",
      ".80/80 - 1s - loss: 0.0024 - binary_crossentropy: 0.0024 - accuracy: 0.9990 - val_loss: 0.0018 - val_binary_crossentropy: 0.0018 - val_accuracy: 0.9990 - 760ms/epoch - 10ms/step\n",
      "Epoch 35/10000\n",
      ".80/80 - 1s - loss: 0.0022 - binary_crossentropy: 0.0022 - accuracy: 0.9990 - val_loss: 0.0015 - val_binary_crossentropy: 0.0015 - val_accuracy: 0.9990 - 758ms/epoch - 9ms/step\n",
      "Epoch 36/10000\n",
      ".80/80 - 1s - loss: 0.0019 - binary_crossentropy: 0.0019 - accuracy: 0.9992 - val_loss: 0.0012 - val_binary_crossentropy: 0.0012 - val_accuracy: 0.9990 - 755ms/epoch - 9ms/step\n",
      "Epoch 37/10000\n",
      ".80/80 - 1s - loss: 0.0017 - binary_crossentropy: 0.0017 - accuracy: 0.9992 - val_loss: 0.0011 - val_binary_crossentropy: 0.0011 - val_accuracy: 0.9990 - 871ms/epoch - 11ms/step\n",
      "Epoch 38/10000\n",
      ".80/80 - 1s - loss: 0.0017 - binary_crossentropy: 0.0017 - accuracy: 0.9992 - val_loss: 0.0010 - val_binary_crossentropy: 0.0010 - val_accuracy: 0.9997 - 850ms/epoch - 11ms/step\n",
      "Epoch 39/10000\n",
      ".80/80 - 1s - loss: 0.0016 - binary_crossentropy: 0.0016 - accuracy: 0.9992 - val_loss: 0.0010 - val_binary_crossentropy: 0.0010 - val_accuracy: 0.9993 - 824ms/epoch - 10ms/step\n",
      "Epoch 40/10000\n",
      ".80/80 - 1s - loss: 0.0015 - binary_crossentropy: 0.0015 - accuracy: 0.9992 - val_loss: 9.8562e-04 - val_binary_crossentropy: 9.8562e-04 - val_accuracy: 0.9997 - 849ms/epoch - 11ms/step\n",
      "Epoch 41/10000\n",
      ".80/80 - 1s - loss: 0.0015 - binary_crossentropy: 0.0015 - accuracy: 0.9992 - val_loss: 9.8019e-04 - val_binary_crossentropy: 9.8019e-04 - val_accuracy: 0.9997 - 838ms/epoch - 10ms/step\n",
      "Epoch 42/10000\n",
      ".80/80 - 1s - loss: 0.0015 - binary_crossentropy: 0.0015 - accuracy: 0.9992 - val_loss: 9.6111e-04 - val_binary_crossentropy: 9.6111e-04 - val_accuracy: 0.9997 - 787ms/epoch - 10ms/step\n",
      "Epoch 43/10000\n",
      ".80/80 - 1s - loss: 0.0014 - binary_crossentropy: 0.0014 - accuracy: 0.9995 - val_loss: 9.3258e-04 - val_binary_crossentropy: 9.3258e-04 - val_accuracy: 0.9997 - 844ms/epoch - 11ms/step\n",
      "Epoch 44/10000\n",
      ".80/80 - 1s - loss: 0.0014 - binary_crossentropy: 0.0014 - accuracy: 0.9993 - val_loss: 9.1893e-04 - val_binary_crossentropy: 9.1893e-04 - val_accuracy: 0.9997 - 812ms/epoch - 10ms/step\n",
      "Epoch 45/10000\n",
      ".80/80 - 1s - loss: 0.0014 - binary_crossentropy: 0.0014 - accuracy: 0.9993 - val_loss: 9.0527e-04 - val_binary_crossentropy: 9.0527e-04 - val_accuracy: 0.9997 - 784ms/epoch - 10ms/step\n",
      "Epoch 46/10000\n",
      ".80/80 - 1s - loss: 0.0014 - binary_crossentropy: 0.0014 - accuracy: 0.9992 - val_loss: 8.9673e-04 - val_binary_crossentropy: 8.9673e-04 - val_accuracy: 0.9997 - 798ms/epoch - 10ms/step\n",
      "Epoch 47/10000\n",
      ".80/80 - 1s - loss: 0.0013 - binary_crossentropy: 0.0013 - accuracy: 0.9993 - val_loss: 8.8433e-04 - val_binary_crossentropy: 8.8433e-04 - val_accuracy: 0.9997 - 783ms/epoch - 10ms/step\n",
      "Epoch 48/10000\n",
      ".80/80 - 1s - loss: 0.0013 - binary_crossentropy: 0.0013 - accuracy: 0.9995 - val_loss: 8.7866e-04 - val_binary_crossentropy: 8.7866e-04 - val_accuracy: 0.9997 - 790ms/epoch - 10ms/step\n",
      "Epoch 49/10000\n",
      ".80/80 - 1s - loss: 0.0012 - binary_crossentropy: 0.0012 - accuracy: 0.9995 - val_loss: 8.6579e-04 - val_binary_crossentropy: 8.6579e-04 - val_accuracy: 0.9997 - 769ms/epoch - 10ms/step\n",
      "Epoch 50/10000\n",
      ".80/80 - 1s - loss: 0.0013 - binary_crossentropy: 0.0013 - accuracy: 0.9995 - val_loss: 8.6440e-04 - val_binary_crossentropy: 8.6440e-04 - val_accuracy: 0.9997 - 775ms/epoch - 10ms/step\n",
      "Epoch 51/10000\n",
      ".80/80 - 1s - loss: 0.0012 - binary_crossentropy: 0.0012 - accuracy: 0.9995 - val_loss: 8.5513e-04 - val_binary_crossentropy: 8.5513e-04 - val_accuracy: 0.9997 - 777ms/epoch - 10ms/step\n",
      "Epoch 52/10000\n",
      ".80/80 - 1s - loss: 0.0012 - binary_crossentropy: 0.0012 - accuracy: 0.9994 - val_loss: 8.6076e-04 - val_binary_crossentropy: 8.6076e-04 - val_accuracy: 0.9997 - 706ms/epoch - 9ms/step\n",
      "Epoch 53/10000\n",
      ".80/80 - 1s - loss: 0.0012 - binary_crossentropy: 0.0012 - accuracy: 0.9994 - val_loss: 8.4831e-04 - val_binary_crossentropy: 8.4831e-04 - val_accuracy: 0.9997 - 713ms/epoch - 9ms/step\n",
      "Epoch 54/10000\n",
      ".80/80 - 1s - loss: 0.0013 - binary_crossentropy: 0.0013 - accuracy: 0.9994 - val_loss: 8.4243e-04 - val_binary_crossentropy: 8.4243e-04 - val_accuracy: 0.9997 - 690ms/epoch - 9ms/step\n",
      "Epoch 55/10000\n",
      ".80/80 - 1s - loss: 0.0013 - binary_crossentropy: 0.0013 - accuracy: 0.9994 - val_loss: 8.4389e-04 - val_binary_crossentropy: 8.4389e-04 - val_accuracy: 0.9997 - 983ms/epoch - 12ms/step\n",
      "Epoch 56/10000\n",
      ".80/80 - 1s - loss: 0.0012 - binary_crossentropy: 0.0012 - accuracy: 0.9994 - val_loss: 8.3529e-04 - val_binary_crossentropy: 8.3529e-04 - val_accuracy: 0.9997 - 699ms/epoch - 9ms/step\n",
      "Epoch 57/10000\n",
      ".80/80 - 1s - loss: 0.0012 - binary_crossentropy: 0.0012 - accuracy: 0.9994 - val_loss: 8.3468e-04 - val_binary_crossentropy: 8.3468e-04 - val_accuracy: 0.9997 - 682ms/epoch - 9ms/step\n",
      "Epoch 58/10000\n",
      ".80/80 - 1s - loss: 0.0012 - binary_crossentropy: 0.0012 - accuracy: 0.9993 - val_loss: 8.3136e-04 - val_binary_crossentropy: 8.3136e-04 - val_accuracy: 0.9997 - 697ms/epoch - 9ms/step\n",
      "Epoch 59/10000\n",
      ".80/80 - 1s - loss: 0.0012 - binary_crossentropy: 0.0012 - accuracy: 0.9992 - val_loss: 8.3416e-04 - val_binary_crossentropy: 8.3416e-04 - val_accuracy: 0.9997 - 695ms/epoch - 9ms/step\n",
      "Epoch 60/10000\n",
      ".80/80 - 1s - loss: 0.0012 - binary_crossentropy: 0.0012 - accuracy: 0.9993 - val_loss: 8.2810e-04 - val_binary_crossentropy: 8.2810e-04 - val_accuracy: 0.9997 - 714ms/epoch - 9ms/step\n",
      "Epoch 61/10000\n",
      ".80/80 - 1s - loss: 0.0012 - binary_crossentropy: 0.0012 - accuracy: 0.9992 - val_loss: 8.2414e-04 - val_binary_crossentropy: 8.2414e-04 - val_accuracy: 0.9997 - 715ms/epoch - 9ms/step\n",
      "Epoch 62/10000\n",
      ".80/80 - 1s - loss: 0.0013 - binary_crossentropy: 0.0013 - accuracy: 0.9992 - val_loss: 8.2280e-04 - val_binary_crossentropy: 8.2280e-04 - val_accuracy: 0.9997 - 722ms/epoch - 9ms/step\n",
      "Epoch 63/10000\n",
      ".80/80 - 1s - loss: 0.0012 - binary_crossentropy: 0.0012 - accuracy: 0.9993 - val_loss: 8.1931e-04 - val_binary_crossentropy: 8.1931e-04 - val_accuracy: 0.9997 - 712ms/epoch - 9ms/step\n",
      "Epoch 64/10000\n",
      ".80/80 - 1s - loss: 0.0011 - binary_crossentropy: 0.0011 - accuracy: 0.9994 - val_loss: 8.2372e-04 - val_binary_crossentropy: 8.2372e-04 - val_accuracy: 0.9997 - 702ms/epoch - 9ms/step\n",
      "Epoch 65/10000\n",
      ".80/80 - 1s - loss: 0.0015 - binary_crossentropy: 0.0015 - accuracy: 0.9991 - val_loss: 0.0011 - val_binary_crossentropy: 0.0011 - val_accuracy: 0.9993 - 713ms/epoch - 9ms/step\n",
      "Epoch 66/10000\n",
      ".80/80 - 1s - loss: 0.0243 - binary_crossentropy: 0.0243 - accuracy: 0.9945 - val_loss: 0.0835 - val_binary_crossentropy: 0.0835 - val_accuracy: 0.9847 - 709ms/epoch - 9ms/step\n",
      "Epoch 67/10000\n",
      ".80/80 - 1s - loss: 0.1112 - binary_crossentropy: 0.1112 - accuracy: 0.9640 - val_loss: 0.0360 - val_binary_crossentropy: 0.0360 - val_accuracy: 0.9907 - 722ms/epoch - 9ms/step\n",
      "Epoch 68/10000\n",
      ".80/80 - 1s - loss: 0.0315 - binary_crossentropy: 0.0315 - accuracy: 0.9897 - val_loss: 0.0059 - val_binary_crossentropy: 0.0059 - val_accuracy: 0.9990 - 708ms/epoch - 9ms/step\n",
      "Epoch 69/10000\n",
      ".80/80 - 1s - loss: 0.0079 - binary_crossentropy: 0.0079 - accuracy: 0.9980 - val_loss: 0.0027 - val_binary_crossentropy: 0.0027 - val_accuracy: 0.9993 - 738ms/epoch - 9ms/step\n",
      "Epoch 70/10000\n",
      ".80/80 - 1s - loss: 0.0031 - binary_crossentropy: 0.0031 - accuracy: 0.9994 - val_loss: 0.0018 - val_binary_crossentropy: 0.0018 - val_accuracy: 0.9993 - 795ms/epoch - 10ms/step\n",
      "Epoch 71/10000\n",
      ".80/80 - 1s - loss: 0.0023 - binary_crossentropy: 0.0023 - accuracy: 0.9992 - val_loss: 0.0012 - val_binary_crossentropy: 0.0012 - val_accuracy: 0.9997 - 718ms/epoch - 9ms/step\n",
      "Epoch 72/10000\n",
      ".80/80 - 1s - loss: 0.0020 - binary_crossentropy: 0.0020 - accuracy: 0.9994 - val_loss: 0.0012 - val_binary_crossentropy: 0.0012 - val_accuracy: 0.9993 - 710ms/epoch - 9ms/step\n",
      "Epoch 73/10000\n",
      ".80/80 - 1s - loss: 0.0016 - binary_crossentropy: 0.0016 - accuracy: 0.9995 - val_loss: 0.0010 - val_binary_crossentropy: 0.0010 - val_accuracy: 0.9997 - 720ms/epoch - 9ms/step\n",
      "Epoch 74/10000\n",
      ".80/80 - 1s - loss: 0.0015 - binary_crossentropy: 0.0015 - accuracy: 0.9995 - val_loss: 9.5711e-04 - val_binary_crossentropy: 9.5711e-04 - val_accuracy: 0.9997 - 704ms/epoch - 9ms/step\n",
      "Epoch 75/10000\n",
      ".80/80 - 1s - loss: 0.0015 - binary_crossentropy: 0.0015 - accuracy: 0.9994 - val_loss: 9.2102e-04 - val_binary_crossentropy: 9.2102e-04 - val_accuracy: 0.9997 - 717ms/epoch - 9ms/step\n",
      "Epoch 76/10000\n",
      ".80/80 - 1s - loss: 0.0014 - binary_crossentropy: 0.0014 - accuracy: 0.9995 - val_loss: 8.9739e-04 - val_binary_crossentropy: 8.9739e-04 - val_accuracy: 0.9997 - 718ms/epoch - 9ms/step\n",
      "Epoch 77/10000\n",
      ".80/80 - 1s - loss: 0.0012 - binary_crossentropy: 0.0012 - accuracy: 0.9995 - val_loss: 8.7692e-04 - val_binary_crossentropy: 8.7692e-04 - val_accuracy: 0.9997 - 719ms/epoch - 9ms/step\n",
      "Epoch 78/10000\n",
      ".80/80 - 1s - loss: 0.0012 - binary_crossentropy: 0.0012 - accuracy: 0.9995 - val_loss: 8.6588e-04 - val_binary_crossentropy: 8.6588e-04 - val_accuracy: 0.9997 - 719ms/epoch - 9ms/step\n",
      "Epoch 79/10000\n",
      ".80/80 - 1s - loss: 0.0012 - binary_crossentropy: 0.0012 - accuracy: 0.9994 - val_loss: 8.5351e-04 - val_binary_crossentropy: 8.5351e-04 - val_accuracy: 0.9997 - 715ms/epoch - 9ms/step\n",
      "Epoch 80/10000\n",
      ".80/80 - 1s - loss: 0.0012 - binary_crossentropy: 0.0012 - accuracy: 0.9994 - val_loss: 8.4153e-04 - val_binary_crossentropy: 8.4153e-04 - val_accuracy: 0.9997 - 694ms/epoch - 9ms/step\n",
      "Epoch 81/10000\n",
      ".80/80 - 1s - loss: 0.0011 - binary_crossentropy: 0.0011 - accuracy: 0.9996 - val_loss: 8.3742e-04 - val_binary_crossentropy: 8.3742e-04 - val_accuracy: 0.9997 - 715ms/epoch - 9ms/step\n",
      "Epoch 82/10000\n",
      ".80/80 - 1s - loss: 0.0012 - binary_crossentropy: 0.0012 - accuracy: 0.9994 - val_loss: 8.3042e-04 - val_binary_crossentropy: 8.3042e-04 - val_accuracy: 0.9997 - 700ms/epoch - 9ms/step\n",
      "Epoch 83/10000\n",
      ".80/80 - 1s - loss: 0.0011 - binary_crossentropy: 0.0011 - accuracy: 0.9994 - val_loss: 8.2562e-04 - val_binary_crossentropy: 8.2562e-04 - val_accuracy: 0.9997 - 697ms/epoch - 9ms/step\n",
      "Epoch 84/10000\n",
      ".80/80 - 1s - loss: 0.0012 - binary_crossentropy: 0.0012 - accuracy: 0.9995 - val_loss: 8.2324e-04 - val_binary_crossentropy: 8.2324e-04 - val_accuracy: 0.9997 - 712ms/epoch - 9ms/step\n",
      "Epoch 85/10000\n",
      ".80/80 - 1s - loss: 0.0011 - binary_crossentropy: 0.0011 - accuracy: 0.9994 - val_loss: 8.2487e-04 - val_binary_crossentropy: 8.2487e-04 - val_accuracy: 0.9997 - 716ms/epoch - 9ms/step\n",
      "Epoch 86/10000\n",
      ".80/80 - 1s - loss: 0.0011 - binary_crossentropy: 0.0011 - accuracy: 0.9995 - val_loss: 8.1805e-04 - val_binary_crossentropy: 8.1805e-04 - val_accuracy: 0.9997 - 722ms/epoch - 9ms/step\n",
      "Epoch 87/10000\n",
      ".80/80 - 1s - loss: 0.0011 - binary_crossentropy: 0.0011 - accuracy: 0.9995 - val_loss: 8.1711e-04 - val_binary_crossentropy: 8.1711e-04 - val_accuracy: 0.9997 - 701ms/epoch - 9ms/step\n",
      "Epoch 88/10000\n",
      ".80/80 - 1s - loss: 0.0011 - binary_crossentropy: 0.0011 - accuracy: 0.9995 - val_loss: 8.2002e-04 - val_binary_crossentropy: 8.2002e-04 - val_accuracy: 0.9997 - 686ms/epoch - 9ms/step\n",
      "Epoch 89/10000\n",
      ".80/80 - 1s - loss: 0.0011 - binary_crossentropy: 0.0011 - accuracy: 0.9995 - val_loss: 8.1490e-04 - val_binary_crossentropy: 8.1490e-04 - val_accuracy: 0.9997 - 723ms/epoch - 9ms/step\n",
      "Epoch 90/10000\n",
      ".80/80 - 1s - loss: 0.0011 - binary_crossentropy: 0.0011 - accuracy: 0.9995 - val_loss: 8.1502e-04 - val_binary_crossentropy: 8.1502e-04 - val_accuracy: 0.9997 - 700ms/epoch - 9ms/step\n",
      "Epoch 91/10000\n",
      ".80/80 - 1s - loss: 0.0010 - binary_crossentropy: 0.0010 - accuracy: 0.9995 - val_loss: 8.0799e-04 - val_binary_crossentropy: 8.0799e-04 - val_accuracy: 0.9997 - 708ms/epoch - 9ms/step\n",
      "Epoch 92/10000\n",
      ".80/80 - 1s - loss: 0.0011 - binary_crossentropy: 0.0011 - accuracy: 0.9994 - val_loss: 8.0840e-04 - val_binary_crossentropy: 8.0840e-04 - val_accuracy: 0.9997 - 712ms/epoch - 9ms/step\n",
      "Epoch 93/10000\n",
      ".80/80 - 1s - loss: 0.0010 - binary_crossentropy: 0.0010 - accuracy: 0.9995 - val_loss: 8.0792e-04 - val_binary_crossentropy: 8.0792e-04 - val_accuracy: 0.9997 - 719ms/epoch - 9ms/step\n",
      "Epoch 94/10000\n",
      ".80/80 - 1s - loss: 0.0010 - binary_crossentropy: 0.0010 - accuracy: 0.9995 - val_loss: 8.0913e-04 - val_binary_crossentropy: 8.0913e-04 - val_accuracy: 0.9997 - 716ms/epoch - 9ms/step\n",
      "Epoch 95/10000\n",
      ".80/80 - 1s - loss: 0.0010 - binary_crossentropy: 0.0010 - accuracy: 0.9995 - val_loss: 8.0204e-04 - val_binary_crossentropy: 8.0204e-04 - val_accuracy: 0.9997 - 724ms/epoch - 9ms/step\n",
      "Epoch 96/10000\n",
      ".80/80 - 1s - loss: 9.6056e-04 - binary_crossentropy: 9.6056e-04 - accuracy: 0.9995 - val_loss: 8.1011e-04 - val_binary_crossentropy: 8.1011e-04 - val_accuracy: 0.9997 - 715ms/epoch - 9ms/step\n",
      "Epoch 97/10000\n",
      ".80/80 - 1s - loss: 0.0010 - binary_crossentropy: 0.0010 - accuracy: 0.9994 - val_loss: 8.0451e-04 - val_binary_crossentropy: 8.0451e-04 - val_accuracy: 0.9997 - 724ms/epoch - 9ms/step\n",
      "Epoch 98/10000\n",
      ".80/80 - 1s - loss: 0.0010 - binary_crossentropy: 0.0010 - accuracy: 0.9994 - val_loss: 8.0412e-04 - val_binary_crossentropy: 8.0412e-04 - val_accuracy: 0.9997 - 719ms/epoch - 9ms/step\n",
      "Epoch 99/10000\n",
      ".80/80 - 1s - loss: 9.3680e-04 - binary_crossentropy: 9.3680e-04 - accuracy: 0.9995 - val_loss: 8.0122e-04 - val_binary_crossentropy: 8.0122e-04 - val_accuracy: 0.9997 - 702ms/epoch - 9ms/step\n",
      "Epoch 100/10000\n",
      ".80/80 - 1s - loss: 0.0010 - binary_crossentropy: 0.0010 - accuracy: 0.9995 - val_loss: 8.0679e-04 - val_binary_crossentropy: 8.0679e-04 - val_accuracy: 0.9997 - 715ms/epoch - 9ms/step\n",
      "Epoch 101/10000\n",
      "\n",
      "Epoch: 100, accuracy:0.9996,  binary_crossentropy:0.0010,  loss:0.0010,  val_accuracy:0.9997,  val_binary_crossentropy:0.0008,  val_loss:0.0008,  \n",
      ".80/80 - 1s - loss: 9.8134e-04 - binary_crossentropy: 9.8134e-04 - accuracy: 0.9996 - val_loss: 8.0438e-04 - val_binary_crossentropy: 8.0438e-04 - val_accuracy: 0.9997 - 719ms/epoch - 9ms/step\n",
      "Epoch 102/10000\n",
      ".80/80 - 1s - loss: 0.0010 - binary_crossentropy: 0.0010 - accuracy: 0.9994 - val_loss: 8.0216e-04 - val_binary_crossentropy: 8.0216e-04 - val_accuracy: 0.9997 - 714ms/epoch - 9ms/step\n",
      "Epoch 103/10000\n",
      ".80/80 - 1s - loss: 9.3205e-04 - binary_crossentropy: 9.3205e-04 - accuracy: 0.9996 - val_loss: 7.9743e-04 - val_binary_crossentropy: 7.9743e-04 - val_accuracy: 0.9997 - 717ms/epoch - 9ms/step\n",
      "Epoch 104/10000\n",
      ".80/80 - 1s - loss: 8.9138e-04 - binary_crossentropy: 8.9138e-04 - accuracy: 0.9995 - val_loss: 7.9693e-04 - val_binary_crossentropy: 7.9693e-04 - val_accuracy: 0.9997 - 702ms/epoch - 9ms/step\n",
      "Epoch 105/10000\n",
      ".80/80 - 1s - loss: 9.7412e-04 - binary_crossentropy: 9.7412e-04 - accuracy: 0.9995 - val_loss: 7.9911e-04 - val_binary_crossentropy: 7.9911e-04 - val_accuracy: 0.9997 - 717ms/epoch - 9ms/step\n",
      "Epoch 106/10000\n",
      ".80/80 - 1s - loss: 9.8785e-04 - binary_crossentropy: 9.8785e-04 - accuracy: 0.9995 - val_loss: 7.9708e-04 - val_binary_crossentropy: 7.9708e-04 - val_accuracy: 0.9997 - 691ms/epoch - 9ms/step\n",
      "Epoch 107/10000\n",
      ".80/80 - 1s - loss: 0.0011 - binary_crossentropy: 0.0011 - accuracy: 0.9995 - val_loss: 8.0333e-04 - val_binary_crossentropy: 8.0333e-04 - val_accuracy: 0.9997 - 718ms/epoch - 9ms/step\n",
      "Epoch 108/10000\n",
      ".80/80 - 1s - loss: 9.9471e-04 - binary_crossentropy: 9.9471e-04 - accuracy: 0.9995 - val_loss: 8.0268e-04 - val_binary_crossentropy: 8.0268e-04 - val_accuracy: 0.9997 - 709ms/epoch - 9ms/step\n",
      "Epoch 109/10000\n",
      ".80/80 - 1s - loss: 0.0010 - binary_crossentropy: 0.0010 - accuracy: 0.9995 - val_loss: 7.9918e-04 - val_binary_crossentropy: 7.9918e-04 - val_accuracy: 0.9997 - 715ms/epoch - 9ms/step\n",
      "Epoch 110/10000\n",
      ".80/80 - 1s - loss: 0.0011 - binary_crossentropy: 0.0011 - accuracy: 0.9994 - val_loss: 8.0678e-04 - val_binary_crossentropy: 8.0678e-04 - val_accuracy: 0.9997 - 703ms/epoch - 9ms/step\n",
      "Epoch 111/10000\n",
      ".80/80 - 1s - loss: 0.0011 - binary_crossentropy: 0.0011 - accuracy: 0.9994 - val_loss: 8.0954e-04 - val_binary_crossentropy: 8.0954e-04 - val_accuracy: 0.9997 - 718ms/epoch - 9ms/step\n",
      "Epoch 112/10000\n",
      ".80/80 - 1s - loss: 9.9577e-04 - binary_crossentropy: 9.9577e-04 - accuracy: 0.9995 - val_loss: 8.0303e-04 - val_binary_crossentropy: 8.0303e-04 - val_accuracy: 0.9997 - 724ms/epoch - 9ms/step\n",
      "Epoch 113/10000\n",
      ".80/80 - 1s - loss: 9.8774e-04 - binary_crossentropy: 9.8774e-04 - accuracy: 0.9995 - val_loss: 8.0068e-04 - val_binary_crossentropy: 8.0068e-04 - val_accuracy: 0.9997 - 702ms/epoch - 9ms/step\n",
      "Epoch 114/10000\n",
      ".80/80 - 1s - loss: 0.0017 - binary_crossentropy: 0.0017 - accuracy: 0.9992 - val_loss: 0.0019 - val_binary_crossentropy: 0.0019 - val_accuracy: 0.9990 - 707ms/epoch - 9ms/step\n",
      "Epoch 115/10000\n",
      ".80/80 - 1s - loss: 0.0660 - binary_crossentropy: 0.0660 - accuracy: 0.9837 - val_loss: 0.0465 - val_binary_crossentropy: 0.0465 - val_accuracy: 0.9877 - 691ms/epoch - 9ms/step\n",
      "Epoch 116/10000\n",
      ".80/80 - 1s - loss: 0.0570 - binary_crossentropy: 0.0570 - accuracy: 0.9797 - val_loss: 0.0130 - val_binary_crossentropy: 0.0130 - val_accuracy: 0.9960 - 720ms/epoch - 9ms/step\n",
      "Epoch 117/10000\n",
      ".80/80 - 1s - loss: 0.0115 - binary_crossentropy: 0.0115 - accuracy: 0.9971 - val_loss: 0.0030 - val_binary_crossentropy: 0.0030 - val_accuracy: 0.9993 - 717ms/epoch - 9ms/step\n",
      "Epoch 118/10000\n",
      ".80/80 - 1s - loss: 0.0034 - binary_crossentropy: 0.0034 - accuracy: 0.9990 - val_loss: 0.0012 - val_binary_crossentropy: 0.0012 - val_accuracy: 0.9997 - 698ms/epoch - 9ms/step\n",
      "Epoch 119/10000\n",
      ".80/80 - 1s - loss: 0.0021 - binary_crossentropy: 0.0021 - accuracy: 0.9994 - val_loss: 9.9556e-04 - val_binary_crossentropy: 9.9556e-04 - val_accuracy: 0.9997 - 723ms/epoch - 9ms/step\n",
      "Epoch 120/10000\n",
      ".80/80 - 1s - loss: 0.0017 - binary_crossentropy: 0.0017 - accuracy: 0.9994 - val_loss: 8.4431e-04 - val_binary_crossentropy: 8.4431e-04 - val_accuracy: 0.9997 - 717ms/epoch - 9ms/step\n",
      "Epoch 121/10000\n",
      ".80/80 - 1s - loss: 0.0016 - binary_crossentropy: 0.0016 - accuracy: 0.9994 - val_loss: 7.8684e-04 - val_binary_crossentropy: 7.8684e-04 - val_accuracy: 0.9997 - 716ms/epoch - 9ms/step\n",
      "Epoch 122/10000\n",
      ".80/80 - 1s - loss: 0.0014 - binary_crossentropy: 0.0014 - accuracy: 0.9994 - val_loss: 7.4732e-04 - val_binary_crossentropy: 7.4732e-04 - val_accuracy: 0.9997 - 711ms/epoch - 9ms/step\n",
      "Epoch 123/10000\n",
      ".80/80 - 1s - loss: 0.0012 - binary_crossentropy: 0.0012 - accuracy: 0.9995 - val_loss: 7.2362e-04 - val_binary_crossentropy: 7.2362e-04 - val_accuracy: 0.9997 - 731ms/epoch - 9ms/step\n",
      "Epoch 124/10000\n",
      ".80/80 - 1s - loss: 0.0013 - binary_crossentropy: 0.0013 - accuracy: 0.9995 - val_loss: 7.0857e-04 - val_binary_crossentropy: 7.0857e-04 - val_accuracy: 0.9997 - 719ms/epoch - 9ms/step\n",
      "Epoch 125/10000\n",
      ".80/80 - 1s - loss: 0.0012 - binary_crossentropy: 0.0012 - accuracy: 0.9995 - val_loss: 6.9665e-04 - val_binary_crossentropy: 6.9665e-04 - val_accuracy: 0.9997 - 708ms/epoch - 9ms/step\n",
      "Epoch 126/10000\n",
      ".80/80 - 1s - loss: 0.0012 - binary_crossentropy: 0.0012 - accuracy: 0.9994 - val_loss: 6.8928e-04 - val_binary_crossentropy: 6.8928e-04 - val_accuracy: 0.9997 - 702ms/epoch - 9ms/step\n",
      "Epoch 127/10000\n",
      ".80/80 - 1s - loss: 0.0012 - binary_crossentropy: 0.0012 - accuracy: 0.9995 - val_loss: 6.7971e-04 - val_binary_crossentropy: 6.7971e-04 - val_accuracy: 0.9997 - 706ms/epoch - 9ms/step\n",
      "Epoch 128/10000\n",
      ".80/80 - 1s - loss: 0.0012 - binary_crossentropy: 0.0012 - accuracy: 0.9996 - val_loss: 6.7572e-04 - val_binary_crossentropy: 6.7572e-04 - val_accuracy: 0.9997 - 735ms/epoch - 9ms/step\n",
      "Epoch 129/10000\n",
      ".80/80 - 1s - loss: 0.0012 - binary_crossentropy: 0.0012 - accuracy: 0.9995 - val_loss: 6.7351e-04 - val_binary_crossentropy: 6.7351e-04 - val_accuracy: 0.9997 - 707ms/epoch - 9ms/step\n",
      "Epoch 130/10000\n",
      ".80/80 - 1s - loss: 0.0011 - binary_crossentropy: 0.0011 - accuracy: 0.9994 - val_loss: 6.6891e-04 - val_binary_crossentropy: 6.6891e-04 - val_accuracy: 0.9997 - 714ms/epoch - 9ms/step\n",
      "Epoch 131/10000\n",
      ".80/80 - 1s - loss: 0.0011 - binary_crossentropy: 0.0011 - accuracy: 0.9995 - val_loss: 6.7660e-04 - val_binary_crossentropy: 6.7660e-04 - val_accuracy: 0.9997 - 710ms/epoch - 9ms/step\n",
      "Epoch 132/10000\n",
      ".80/80 - 1s - loss: 0.0011 - binary_crossentropy: 0.0011 - accuracy: 0.9995 - val_loss: 6.6242e-04 - val_binary_crossentropy: 6.6242e-04 - val_accuracy: 0.9997 - 714ms/epoch - 9ms/step\n",
      "Epoch 133/10000\n",
      ".80/80 - 1s - loss: 9.9857e-04 - binary_crossentropy: 9.9857e-04 - accuracy: 0.9995 - val_loss: 6.5823e-04 - val_binary_crossentropy: 6.5823e-04 - val_accuracy: 0.9997 - 700ms/epoch - 9ms/step\n",
      "Epoch 134/10000\n",
      ".80/80 - 1s - loss: 0.0011 - binary_crossentropy: 0.0011 - accuracy: 0.9994 - val_loss: 6.5583e-04 - val_binary_crossentropy: 6.5583e-04 - val_accuracy: 0.9997 - 710ms/epoch - 9ms/step\n",
      "Epoch 135/10000\n",
      ".80/80 - 1s - loss: 9.6673e-04 - binary_crossentropy: 9.6673e-04 - accuracy: 0.9995 - val_loss: 6.5408e-04 - val_binary_crossentropy: 6.5408e-04 - val_accuracy: 0.9997 - 726ms/epoch - 9ms/step\n",
      "Epoch 136/10000\n",
      ".80/80 - 1s - loss: 9.7941e-04 - binary_crossentropy: 9.7941e-04 - accuracy: 0.9995 - val_loss: 6.5224e-04 - val_binary_crossentropy: 6.5224e-04 - val_accuracy: 0.9997 - 723ms/epoch - 9ms/step\n",
      "Epoch 137/10000\n",
      ".80/80 - 1s - loss: 0.0010 - binary_crossentropy: 0.0010 - accuracy: 0.9995 - val_loss: 6.5088e-04 - val_binary_crossentropy: 6.5088e-04 - val_accuracy: 0.9997 - 741ms/epoch - 9ms/step\n",
      "Epoch 138/10000\n",
      ".80/80 - 1s - loss: 0.0011 - binary_crossentropy: 0.0011 - accuracy: 0.9994 - val_loss: 6.5131e-04 - val_binary_crossentropy: 6.5131e-04 - val_accuracy: 0.9997 - 717ms/epoch - 9ms/step\n",
      "Epoch 139/10000\n",
      ".80/80 - 1s - loss: 9.2175e-04 - binary_crossentropy: 9.2175e-04 - accuracy: 0.9995 - val_loss: 6.5048e-04 - val_binary_crossentropy: 6.5048e-04 - val_accuracy: 0.9997 - 708ms/epoch - 9ms/step\n",
      "Epoch 140/10000\n",
      ".80/80 - 1s - loss: 9.6662e-04 - binary_crossentropy: 9.6662e-04 - accuracy: 0.9995 - val_loss: 6.4791e-04 - val_binary_crossentropy: 6.4791e-04 - val_accuracy: 0.9997 - 753ms/epoch - 9ms/step\n",
      "Epoch 141/10000\n",
      ".80/80 - 1s - loss: 9.8192e-04 - binary_crossentropy: 9.8192e-04 - accuracy: 0.9995 - val_loss: 6.4847e-04 - val_binary_crossentropy: 6.4847e-04 - val_accuracy: 0.9997 - 728ms/epoch - 9ms/step\n",
      "Epoch 142/10000\n",
      ".80/80 - 1s - loss: 0.0010 - binary_crossentropy: 0.0010 - accuracy: 0.9995 - val_loss: 6.5005e-04 - val_binary_crossentropy: 6.5005e-04 - val_accuracy: 0.9997 - 741ms/epoch - 9ms/step\n",
      "Epoch 143/10000\n",
      ".80/80 - 1s - loss: 0.0010 - binary_crossentropy: 0.0010 - accuracy: 0.9993 - val_loss: 6.4850e-04 - val_binary_crossentropy: 6.4850e-04 - val_accuracy: 0.9997 - 721ms/epoch - 9ms/step\n",
      "Epoch 144/10000\n",
      ".80/80 - 1s - loss: 9.5001e-04 - binary_crossentropy: 9.5001e-04 - accuracy: 0.9995 - val_loss: 6.4827e-04 - val_binary_crossentropy: 6.4827e-04 - val_accuracy: 0.9997 - 737ms/epoch - 9ms/step\n",
      "Epoch 145/10000\n",
      ".80/80 - 1s - loss: 9.7466e-04 - binary_crossentropy: 9.7466e-04 - accuracy: 0.9994 - val_loss: 6.4617e-04 - val_binary_crossentropy: 6.4617e-04 - val_accuracy: 0.9997 - 758ms/epoch - 9ms/step\n",
      "Epoch 146/10000\n",
      ".80/80 - 1s - loss: 9.2238e-04 - binary_crossentropy: 9.2238e-04 - accuracy: 0.9995 - val_loss: 6.4452e-04 - val_binary_crossentropy: 6.4452e-04 - val_accuracy: 0.9997 - 741ms/epoch - 9ms/step\n",
      "Epoch 147/10000\n",
      ".80/80 - 1s - loss: 9.8864e-04 - binary_crossentropy: 9.8864e-04 - accuracy: 0.9994 - val_loss: 6.4300e-04 - val_binary_crossentropy: 6.4300e-04 - val_accuracy: 0.9997 - 741ms/epoch - 9ms/step\n",
      "Epoch 148/10000\n",
      ".80/80 - 1s - loss: 0.0010 - binary_crossentropy: 0.0010 - accuracy: 0.9995 - val_loss: 6.4255e-04 - val_binary_crossentropy: 6.4255e-04 - val_accuracy: 0.9997 - 745ms/epoch - 9ms/step\n",
      "Epoch 149/10000\n",
      ".80/80 - 1s - loss: 0.0010 - binary_crossentropy: 0.0010 - accuracy: 0.9995 - val_loss: 6.4277e-04 - val_binary_crossentropy: 6.4277e-04 - val_accuracy: 0.9997 - 740ms/epoch - 9ms/step\n",
      "Epoch 150/10000\n",
      ".80/80 - 1s - loss: 9.3952e-04 - binary_crossentropy: 9.3952e-04 - accuracy: 0.9995 - val_loss: 6.4215e-04 - val_binary_crossentropy: 6.4215e-04 - val_accuracy: 0.9997 - 762ms/epoch - 10ms/step\n",
      "Epoch 151/10000\n",
      ".80/80 - 1s - loss: 9.4821e-04 - binary_crossentropy: 9.4821e-04 - accuracy: 0.9995 - val_loss: 6.4227e-04 - val_binary_crossentropy: 6.4227e-04 - val_accuracy: 0.9997 - 720ms/epoch - 9ms/step\n",
      "Epoch 152/10000\n",
      ".80/80 - 1s - loss: 0.0010 - binary_crossentropy: 0.0010 - accuracy: 0.9995 - val_loss: 6.4167e-04 - val_binary_crossentropy: 6.4167e-04 - val_accuracy: 0.9997 - 710ms/epoch - 9ms/step\n",
      "Epoch 153/10000\n",
      ".80/80 - 1s - loss: 9.3384e-04 - binary_crossentropy: 9.3384e-04 - accuracy: 0.9995 - val_loss: 6.4177e-04 - val_binary_crossentropy: 6.4177e-04 - val_accuracy: 0.9997 - 732ms/epoch - 9ms/step\n",
      "Epoch 154/10000\n",
      ".80/80 - 1s - loss: 9.2699e-04 - binary_crossentropy: 9.2699e-04 - accuracy: 0.9995 - val_loss: 6.4131e-04 - val_binary_crossentropy: 6.4131e-04 - val_accuracy: 0.9997 - 736ms/epoch - 9ms/step\n",
      "Epoch 155/10000\n",
      ".80/80 - 1s - loss: 9.2546e-04 - binary_crossentropy: 9.2546e-04 - accuracy: 0.9995 - val_loss: 6.4187e-04 - val_binary_crossentropy: 6.4187e-04 - val_accuracy: 0.9997 - 724ms/epoch - 9ms/step\n",
      "Epoch 156/10000\n",
      ".80/80 - 1s - loss: 9.4608e-04 - binary_crossentropy: 9.4608e-04 - accuracy: 0.9995 - val_loss: 6.4220e-04 - val_binary_crossentropy: 6.4220e-04 - val_accuracy: 0.9997 - 717ms/epoch - 9ms/step\n",
      "Epoch 157/10000\n",
      ".80/80 - 1s - loss: 9.6052e-04 - binary_crossentropy: 9.6052e-04 - accuracy: 0.9995 - val_loss: 6.4147e-04 - val_binary_crossentropy: 6.4147e-04 - val_accuracy: 0.9997 - 719ms/epoch - 9ms/step\n",
      "Epoch 158/10000\n",
      ".80/80 - 1s - loss: 9.1087e-04 - binary_crossentropy: 9.1087e-04 - accuracy: 0.9995 - val_loss: 6.4142e-04 - val_binary_crossentropy: 6.4142e-04 - val_accuracy: 0.9997 - 719ms/epoch - 9ms/step\n",
      "Epoch 159/10000\n",
      ".80/80 - 1s - loss: 9.0929e-04 - binary_crossentropy: 9.0929e-04 - accuracy: 0.9995 - val_loss: 6.4111e-04 - val_binary_crossentropy: 6.4111e-04 - val_accuracy: 0.9997 - 722ms/epoch - 9ms/step\n",
      "Epoch 160/10000\n",
      ".80/80 - 1s - loss: 8.7158e-04 - binary_crossentropy: 8.7158e-04 - accuracy: 0.9995 - val_loss: 6.4024e-04 - val_binary_crossentropy: 6.4024e-04 - val_accuracy: 0.9997 - 704ms/epoch - 9ms/step\n",
      "Epoch 161/10000\n",
      ".80/80 - 1s - loss: 9.3701e-04 - binary_crossentropy: 9.3701e-04 - accuracy: 0.9995 - val_loss: 6.4087e-04 - val_binary_crossentropy: 6.4087e-04 - val_accuracy: 0.9997 - 717ms/epoch - 9ms/step\n",
      "Epoch 162/10000\n",
      ".80/80 - 1s - loss: 9.0313e-04 - binary_crossentropy: 9.0313e-04 - accuracy: 0.9995 - val_loss: 6.3954e-04 - val_binary_crossentropy: 6.3954e-04 - val_accuracy: 0.9997 - 714ms/epoch - 9ms/step\n",
      "Epoch 163/10000\n",
      ".80/80 - 1s - loss: 9.4360e-04 - binary_crossentropy: 9.4360e-04 - accuracy: 0.9994 - val_loss: 6.4092e-04 - val_binary_crossentropy: 6.4092e-04 - val_accuracy: 0.9997 - 719ms/epoch - 9ms/step\n",
      "Epoch 164/10000\n",
      ".80/80 - 1s - loss: 9.8524e-04 - binary_crossentropy: 9.8524e-04 - accuracy: 0.9995 - val_loss: 6.4057e-04 - val_binary_crossentropy: 6.4057e-04 - val_accuracy: 0.9997 - 712ms/epoch - 9ms/step\n",
      "Epoch 165/10000\n",
      ".80/80 - 1s - loss: 9.2877e-04 - binary_crossentropy: 9.2877e-04 - accuracy: 0.9995 - val_loss: 6.4072e-04 - val_binary_crossentropy: 6.4072e-04 - val_accuracy: 0.9997 - 729ms/epoch - 9ms/step\n",
      "Epoch 166/10000\n",
      ".80/80 - 1s - loss: 9.6753e-04 - binary_crossentropy: 9.6753e-04 - accuracy: 0.9995 - val_loss: 6.4179e-04 - val_binary_crossentropy: 6.4179e-04 - val_accuracy: 0.9997 - 707ms/epoch - 9ms/step\n",
      "Epoch 167/10000\n",
      ".80/80 - 1s - loss: 8.5146e-04 - binary_crossentropy: 8.5146e-04 - accuracy: 0.9995 - val_loss: 6.4010e-04 - val_binary_crossentropy: 6.4010e-04 - val_accuracy: 0.9997 - 733ms/epoch - 9ms/step\n",
      "Epoch 168/10000\n",
      ".80/80 - 1s - loss: 8.9584e-04 - binary_crossentropy: 8.9584e-04 - accuracy: 0.9995 - val_loss: 6.3904e-04 - val_binary_crossentropy: 6.3904e-04 - val_accuracy: 0.9997 - 704ms/epoch - 9ms/step\n",
      "Epoch 169/10000\n",
      ".80/80 - 1s - loss: 0.0013 - binary_crossentropy: 0.0013 - accuracy: 0.9993 - val_loss: 6.8480e-04 - val_binary_crossentropy: 6.8480e-04 - val_accuracy: 0.9997 - 716ms/epoch - 9ms/step\n",
      "Epoch 170/10000\n",
      ".80/80 - 1s - loss: 0.0105 - binary_crossentropy: 0.0105 - accuracy: 0.9973 - val_loss: 0.0264 - val_binary_crossentropy: 0.0264 - val_accuracy: 0.9933 - 719ms/epoch - 9ms/step\n",
      "Epoch 171/10000\n",
      ".80/80 - 1s - loss: 0.0576 - binary_crossentropy: 0.0576 - accuracy: 0.9836 - val_loss: 0.0258 - val_binary_crossentropy: 0.0258 - val_accuracy: 0.9917 - 706ms/epoch - 9ms/step\n",
      "Epoch 172/10000\n",
      ".80/80 - 1s - loss: 0.0224 - binary_crossentropy: 0.0224 - accuracy: 0.9927 - val_loss: 0.0037 - val_binary_crossentropy: 0.0037 - val_accuracy: 0.9997 - 702ms/epoch - 9ms/step\n",
      "Epoch 173/10000\n",
      ".80/80 - 1s - loss: 0.0047 - binary_crossentropy: 0.0047 - accuracy: 0.9986 - val_loss: 0.0019 - val_binary_crossentropy: 0.0019 - val_accuracy: 0.9993 - 700ms/epoch - 9ms/step\n",
      "Epoch 174/10000\n",
      ".80/80 - 1s - loss: 0.0025 - binary_crossentropy: 0.0025 - accuracy: 0.9992 - val_loss: 0.0011 - val_binary_crossentropy: 0.0011 - val_accuracy: 0.9997 - 719ms/epoch - 9ms/step\n",
      "Epoch 175/10000\n",
      ".80/80 - 1s - loss: 0.0019 - binary_crossentropy: 0.0019 - accuracy: 0.9992 - val_loss: 9.9537e-04 - val_binary_crossentropy: 9.9537e-04 - val_accuracy: 0.9997 - 689ms/epoch - 9ms/step\n",
      "Epoch 176/10000\n",
      ".80/80 - 1s - loss: 0.0016 - binary_crossentropy: 0.0016 - accuracy: 0.9994 - val_loss: 9.4220e-04 - val_binary_crossentropy: 9.4220e-04 - val_accuracy: 0.9997 - 683ms/epoch - 9ms/step\n",
      "Epoch 177/10000\n",
      ".80/80 - 1s - loss: 0.0015 - binary_crossentropy: 0.0015 - accuracy: 0.9994 - val_loss: 9.2913e-04 - val_binary_crossentropy: 9.2913e-04 - val_accuracy: 0.9997 - 742ms/epoch - 9ms/step\n",
      "Epoch 178/10000\n",
      ".80/80 - 1s - loss: 0.0014 - binary_crossentropy: 0.0014 - accuracy: 0.9993 - val_loss: 9.2143e-04 - val_binary_crossentropy: 9.2143e-04 - val_accuracy: 0.9997 - 713ms/epoch - 9ms/step\n",
      "Epoch 179/10000\n",
      ".80/80 - 1s - loss: 0.0014 - binary_crossentropy: 0.0014 - accuracy: 0.9993 - val_loss: 8.7772e-04 - val_binary_crossentropy: 8.7772e-04 - val_accuracy: 0.9997 - 729ms/epoch - 9ms/step\n",
      "Epoch 180/10000\n",
      ".80/80 - 1s - loss: 0.0012 - binary_crossentropy: 0.0012 - accuracy: 0.9995 - val_loss: 8.5906e-04 - val_binary_crossentropy: 8.5906e-04 - val_accuracy: 0.9997 - 714ms/epoch - 9ms/step\n",
      "Epoch 181/10000\n",
      ".80/80 - 1s - loss: 0.0011 - binary_crossentropy: 0.0011 - accuracy: 0.9995 - val_loss: 8.5030e-04 - val_binary_crossentropy: 8.5030e-04 - val_accuracy: 0.9997 - 768ms/epoch - 10ms/step\n",
      "Epoch 182/10000\n",
      ".80/80 - 1s - loss: 0.0011 - binary_crossentropy: 0.0011 - accuracy: 0.9995 - val_loss: 8.3170e-04 - val_binary_crossentropy: 8.3170e-04 - val_accuracy: 0.9997 - 737ms/epoch - 9ms/step\n",
      "Epoch 183/10000\n",
      ".80/80 - 1s - loss: 0.0011 - binary_crossentropy: 0.0011 - accuracy: 0.9995 - val_loss: 8.2253e-04 - val_binary_crossentropy: 8.2253e-04 - val_accuracy: 0.9997 - 701ms/epoch - 9ms/step\n",
      "Epoch 184/10000\n",
      ".80/80 - 1s - loss: 0.0011 - binary_crossentropy: 0.0011 - accuracy: 0.9994 - val_loss: 8.2436e-04 - val_binary_crossentropy: 8.2436e-04 - val_accuracy: 0.9997 - 722ms/epoch - 9ms/step\n",
      "Epoch 185/10000\n",
      ".80/80 - 1s - loss: 0.0010 - binary_crossentropy: 0.0010 - accuracy: 0.9996 - val_loss: 8.1289e-04 - val_binary_crossentropy: 8.1289e-04 - val_accuracy: 0.9997 - 747ms/epoch - 9ms/step\n",
      "Epoch 186/10000\n",
      ".80/80 - 1s - loss: 0.0012 - binary_crossentropy: 0.0012 - accuracy: 0.9994 - val_loss: 8.1218e-04 - val_binary_crossentropy: 8.1218e-04 - val_accuracy: 0.9997 - 770ms/epoch - 10ms/step\n",
      "Epoch 187/10000\n",
      ".80/80 - 1s - loss: 0.0011 - binary_crossentropy: 0.0011 - accuracy: 0.9995 - val_loss: 8.0732e-04 - val_binary_crossentropy: 8.0732e-04 - val_accuracy: 0.9997 - 805ms/epoch - 10ms/step\n",
      "Epoch 188/10000\n",
      ".80/80 - 1s - loss: 0.0011 - binary_crossentropy: 0.0011 - accuracy: 0.9994 - val_loss: 8.0613e-04 - val_binary_crossentropy: 8.0613e-04 - val_accuracy: 0.9997 - 729ms/epoch - 9ms/step\n",
      "Epoch 189/10000\n",
      ".80/80 - 1s - loss: 9.8352e-04 - binary_crossentropy: 9.8352e-04 - accuracy: 0.9995 - val_loss: 8.0478e-04 - val_binary_crossentropy: 8.0478e-04 - val_accuracy: 0.9997 - 729ms/epoch - 9ms/step\n",
      "Epoch 190/10000\n",
      ".80/80 - 1s - loss: 0.0011 - binary_crossentropy: 0.0011 - accuracy: 0.9994 - val_loss: 8.0359e-04 - val_binary_crossentropy: 8.0359e-04 - val_accuracy: 0.9997 - 758ms/epoch - 9ms/step\n",
      "Epoch 191/10000\n",
      ".80/80 - 1s - loss: 9.8109e-04 - binary_crossentropy: 9.8109e-04 - accuracy: 0.9995 - val_loss: 8.0536e-04 - val_binary_crossentropy: 8.0536e-04 - val_accuracy: 0.9997 - 731ms/epoch - 9ms/step\n",
      "Epoch 192/10000\n",
      ".80/80 - 1s - loss: 0.0011 - binary_crossentropy: 0.0011 - accuracy: 0.9995 - val_loss: 8.0780e-04 - val_binary_crossentropy: 8.0780e-04 - val_accuracy: 0.9997 - 743ms/epoch - 9ms/step\n",
      "Epoch 193/10000\n",
      ".80/80 - 1s - loss: 9.5870e-04 - binary_crossentropy: 9.5870e-04 - accuracy: 0.9995 - val_loss: 8.0587e-04 - val_binary_crossentropy: 8.0587e-04 - val_accuracy: 0.9997 - 707ms/epoch - 9ms/step\n",
      "Epoch 194/10000\n",
      ".80/80 - 1s - loss: 9.8363e-04 - binary_crossentropy: 9.8363e-04 - accuracy: 0.9995 - val_loss: 8.0679e-04 - val_binary_crossentropy: 8.0679e-04 - val_accuracy: 0.9997 - 698ms/epoch - 9ms/step\n",
      "Epoch 195/10000\n",
      ".80/80 - 1s - loss: 9.8796e-04 - binary_crossentropy: 9.8796e-04 - accuracy: 0.9994 - val_loss: 8.0438e-04 - val_binary_crossentropy: 8.0438e-04 - val_accuracy: 0.9997 - 696ms/epoch - 9ms/step\n",
      "Epoch 196/10000\n",
      ".80/80 - 1s - loss: 9.4698e-04 - binary_crossentropy: 9.4698e-04 - accuracy: 0.9995 - val_loss: 8.0194e-04 - val_binary_crossentropy: 8.0194e-04 - val_accuracy: 0.9997 - 707ms/epoch - 9ms/step\n",
      "Epoch 197/10000\n",
      ".80/80 - 1s - loss: 9.6648e-04 - binary_crossentropy: 9.6648e-04 - accuracy: 0.9995 - val_loss: 8.0593e-04 - val_binary_crossentropy: 8.0593e-04 - val_accuracy: 0.9997 - 713ms/epoch - 9ms/step\n",
      "Epoch 198/10000\n",
      ".80/80 - 1s - loss: 9.5190e-04 - binary_crossentropy: 9.5190e-04 - accuracy: 0.9995 - val_loss: 8.0939e-04 - val_binary_crossentropy: 8.0939e-04 - val_accuracy: 0.9997 - 695ms/epoch - 9ms/step\n",
      "Epoch 199/10000\n",
      ".80/80 - 1s - loss: 0.0010 - binary_crossentropy: 0.0010 - accuracy: 0.9994 - val_loss: 8.1273e-04 - val_binary_crossentropy: 8.1273e-04 - val_accuracy: 0.9997 - 693ms/epoch - 9ms/step\n",
      "Epoch 200/10000\n",
      ".80/80 - 1s - loss: 9.0922e-04 - binary_crossentropy: 9.0922e-04 - accuracy: 0.9995 - val_loss: 8.1078e-04 - val_binary_crossentropy: 8.1078e-04 - val_accuracy: 0.9997 - 689ms/epoch - 9ms/step\n",
      "Epoch 201/10000\n",
      "\n",
      "Epoch: 200, accuracy:0.9995,  binary_crossentropy:0.0009,  loss:0.0009,  val_accuracy:0.9997,  val_binary_crossentropy:0.0008,  val_loss:0.0008,  \n",
      ".80/80 - 1s - loss: 9.1580e-04 - binary_crossentropy: 9.1580e-04 - accuracy: 0.9995 - val_loss: 8.0275e-04 - val_binary_crossentropy: 8.0275e-04 - val_accuracy: 0.9997 - 723ms/epoch - 9ms/step\n",
      "Epoch 202/10000\n",
      ".80/80 - 1s - loss: 9.5732e-04 - binary_crossentropy: 9.5732e-04 - accuracy: 0.9994 - val_loss: 8.0525e-04 - val_binary_crossentropy: 8.0525e-04 - val_accuracy: 0.9997 - 709ms/epoch - 9ms/step\n",
      "Epoch 203/10000\n",
      ".80/80 - 1s - loss: 9.2367e-04 - binary_crossentropy: 9.2367e-04 - accuracy: 0.9995 - val_loss: 8.0245e-04 - val_binary_crossentropy: 8.0245e-04 - val_accuracy: 0.9997 - 692ms/epoch - 9ms/step\n",
      "Epoch 204/10000\n",
      ".80/80 - 1s - loss: 9.5745e-04 - binary_crossentropy: 9.5745e-04 - accuracy: 0.9994 - val_loss: 8.0889e-04 - val_binary_crossentropy: 8.0889e-04 - val_accuracy: 0.9997 - 695ms/epoch - 9ms/step\n",
      "Epoch 205/10000\n",
      ".80/80 - 1s - loss: 9.8866e-04 - binary_crossentropy: 9.8866e-04 - accuracy: 0.9995 - val_loss: 8.0028e-04 - val_binary_crossentropy: 8.0028e-04 - val_accuracy: 0.9997 - 704ms/epoch - 9ms/step\n",
      "Epoch 206/10000\n",
      ".80/80 - 1s - loss: 9.2099e-04 - binary_crossentropy: 9.2099e-04 - accuracy: 0.9995 - val_loss: 8.0210e-04 - val_binary_crossentropy: 8.0210e-04 - val_accuracy: 0.9997 - 706ms/epoch - 9ms/step\n",
      "Epoch 207/10000\n",
      ".80/80 - 1s - loss: 0.0010 - binary_crossentropy: 0.0010 - accuracy: 0.9995 - val_loss: 8.0176e-04 - val_binary_crossentropy: 8.0176e-04 - val_accuracy: 0.9997 - 714ms/epoch - 9ms/step\n",
      "Epoch 208/10000\n",
      ".80/80 - 1s - loss: 9.1211e-04 - binary_crossentropy: 9.1211e-04 - accuracy: 0.9995 - val_loss: 7.9791e-04 - val_binary_crossentropy: 7.9791e-04 - val_accuracy: 0.9997 - 705ms/epoch - 9ms/step\n",
      "Epoch 209/10000\n",
      ".80/80 - 1s - loss: 9.8272e-04 - binary_crossentropy: 9.8272e-04 - accuracy: 0.9995 - val_loss: 8.0028e-04 - val_binary_crossentropy: 8.0028e-04 - val_accuracy: 0.9997 - 712ms/epoch - 9ms/step\n",
      "Epoch 210/10000\n",
      ".80/80 - 1s - loss: 9.4602e-04 - binary_crossentropy: 9.4602e-04 - accuracy: 0.9994 - val_loss: 7.9872e-04 - val_binary_crossentropy: 7.9872e-04 - val_accuracy: 0.9997 - 717ms/epoch - 9ms/step\n",
      "Epoch 211/10000\n",
      ".80/80 - 1s - loss: 9.1862e-04 - binary_crossentropy: 9.1862e-04 - accuracy: 0.9995 - val_loss: 7.9734e-04 - val_binary_crossentropy: 7.9734e-04 - val_accuracy: 0.9997 - 697ms/epoch - 9ms/step\n",
      "Epoch 212/10000\n",
      ".80/80 - 1s - loss: 9.0361e-04 - binary_crossentropy: 9.0361e-04 - accuracy: 0.9995 - val_loss: 7.9319e-04 - val_binary_crossentropy: 7.9319e-04 - val_accuracy: 0.9997 - 705ms/epoch - 9ms/step\n",
      "Epoch 213/10000\n",
      ".80/80 - 1s - loss: 9.3024e-04 - binary_crossentropy: 9.3024e-04 - accuracy: 0.9995 - val_loss: 7.9751e-04 - val_binary_crossentropy: 7.9751e-04 - val_accuracy: 0.9997 - 714ms/epoch - 9ms/step\n",
      "Epoch 214/10000\n",
      ".80/80 - 1s - loss: 8.9082e-04 - binary_crossentropy: 8.9082e-04 - accuracy: 0.9995 - val_loss: 7.9259e-04 - val_binary_crossentropy: 7.9259e-04 - val_accuracy: 0.9997 - 700ms/epoch - 9ms/step\n",
      "Epoch 215/10000\n",
      ".80/80 - 1s - loss: 8.9738e-04 - binary_crossentropy: 8.9738e-04 - accuracy: 0.9996 - val_loss: 7.9497e-04 - val_binary_crossentropy: 7.9497e-04 - val_accuracy: 0.9997 - 713ms/epoch - 9ms/step\n",
      "Epoch 216/10000\n",
      ".80/80 - 1s - loss: 9.6892e-04 - binary_crossentropy: 9.6892e-04 - accuracy: 0.9995 - val_loss: 7.8605e-04 - val_binary_crossentropy: 7.8605e-04 - val_accuracy: 0.9997 - 697ms/epoch - 9ms/step\n",
      "Epoch 217/10000\n",
      ".80/80 - 1s - loss: 0.0010 - binary_crossentropy: 0.0010 - accuracy: 0.9994 - val_loss: 7.8788e-04 - val_binary_crossentropy: 7.8788e-04 - val_accuracy: 0.9997 - 699ms/epoch - 9ms/step\n",
      "Epoch 218/10000\n",
      ".80/80 - 1s - loss: 9.6386e-04 - binary_crossentropy: 9.6386e-04 - accuracy: 0.9995 - val_loss: 7.9125e-04 - val_binary_crossentropy: 7.9125e-04 - val_accuracy: 0.9997 - 715ms/epoch - 9ms/step\n",
      "Epoch 219/10000\n",
      ".80/80 - 1s - loss: 9.3049e-04 - binary_crossentropy: 9.3049e-04 - accuracy: 0.9995 - val_loss: 7.9073e-04 - val_binary_crossentropy: 7.9073e-04 - val_accuracy: 0.9997 - 693ms/epoch - 9ms/step\n",
      "Epoch 220/10000\n",
      ".80/80 - 1s - loss: 8.7918e-04 - binary_crossentropy: 8.7918e-04 - accuracy: 0.9996 - val_loss: 7.9303e-04 - val_binary_crossentropy: 7.9303e-04 - val_accuracy: 0.9997 - 699ms/epoch - 9ms/step\n",
      "Epoch 221/10000\n",
      ".80/80 - 1s - loss: 0.0012 - binary_crossentropy: 0.0012 - accuracy: 0.9995 - val_loss: 7.9283e-04 - val_binary_crossentropy: 7.9283e-04 - val_accuracy: 0.9997 - 700ms/epoch - 9ms/step\n",
      "Epoch 222/10000\n",
      ".80/80 - 1s - loss: 9.6080e-04 - binary_crossentropy: 9.6080e-04 - accuracy: 0.9995 - val_loss: 7.9431e-04 - val_binary_crossentropy: 7.9431e-04 - val_accuracy: 0.9997 - 711ms/epoch - 9ms/step\n",
      "Epoch 223/10000\n",
      ".80/80 - 1s - loss: 8.7822e-04 - binary_crossentropy: 8.7822e-04 - accuracy: 0.9995 - val_loss: 7.8837e-04 - val_binary_crossentropy: 7.8837e-04 - val_accuracy: 0.9997 - 737ms/epoch - 9ms/step\n",
      "Epoch 224/10000\n",
      ".80/80 - 1s - loss: 9.9117e-04 - binary_crossentropy: 9.9117e-04 - accuracy: 0.9994 - val_loss: 7.9200e-04 - val_binary_crossentropy: 7.9200e-04 - val_accuracy: 0.9997 - 721ms/epoch - 9ms/step\n",
      "Epoch 225/10000\n",
      ".80/80 - 1s - loss: 9.9806e-04 - binary_crossentropy: 9.9806e-04 - accuracy: 0.9995 - val_loss: 7.9155e-04 - val_binary_crossentropy: 7.9155e-04 - val_accuracy: 0.9997 - 728ms/epoch - 9ms/step\n",
      "Epoch 226/10000\n",
      ".80/80 - 1s - loss: 9.3971e-04 - binary_crossentropy: 9.3971e-04 - accuracy: 0.9995 - val_loss: 7.9169e-04 - val_binary_crossentropy: 7.9169e-04 - val_accuracy: 0.9997 - 744ms/epoch - 9ms/step\n",
      "Epoch 227/10000\n",
      ".80/80 - 1s - loss: 8.6873e-04 - binary_crossentropy: 8.6873e-04 - accuracy: 0.9995 - val_loss: 7.9419e-04 - val_binary_crossentropy: 7.9419e-04 - val_accuracy: 0.9997 - 729ms/epoch - 9ms/step\n",
      "Epoch 228/10000\n",
      ".80/80 - 1s - loss: 9.9801e-04 - binary_crossentropy: 9.9801e-04 - accuracy: 0.9995 - val_loss: 7.9521e-04 - val_binary_crossentropy: 7.9521e-04 - val_accuracy: 0.9997 - 733ms/epoch - 9ms/step\n",
      "Epoch 229/10000\n",
      ".80/80 - 1s - loss: 0.0011 - binary_crossentropy: 0.0011 - accuracy: 0.9994 - val_loss: 7.9486e-04 - val_binary_crossentropy: 7.9486e-04 - val_accuracy: 0.9997 - 734ms/epoch - 9ms/step\n",
      "Epoch 230/10000\n",
      ".80/80 - 1s - loss: 9.2515e-04 - binary_crossentropy: 9.2515e-04 - accuracy: 0.9995 - val_loss: 7.9236e-04 - val_binary_crossentropy: 7.9236e-04 - val_accuracy: 0.9997 - 731ms/epoch - 9ms/step\n",
      "Epoch 231/10000\n",
      ".80/80 - 1s - loss: 0.0010 - binary_crossentropy: 0.0010 - accuracy: 0.9995 - val_loss: 0.0014 - val_binary_crossentropy: 0.0014 - val_accuracy: 0.9990 - 744ms/epoch - 9ms/step\n",
      "Epoch 232/10000\n",
      ".80/80 - 1s - loss: 0.0233 - binary_crossentropy: 0.0233 - accuracy: 0.9952 - val_loss: 0.0412 - val_binary_crossentropy: 0.0412 - val_accuracy: 0.9913 - 715ms/epoch - 9ms/step\n",
      "Epoch 233/10000\n",
      ".80/80 - 1s - loss: 0.0490 - binary_crossentropy: 0.0490 - accuracy: 0.9847 - val_loss: 0.0104 - val_binary_crossentropy: 0.0104 - val_accuracy: 0.9970 - 732ms/epoch - 9ms/step\n",
      "Epoch 234/10000\n",
      ".80/80 - 1s - loss: 0.0123 - binary_crossentropy: 0.0123 - accuracy: 0.9956 - val_loss: 0.0024 - val_binary_crossentropy: 0.0024 - val_accuracy: 0.9993 - 704ms/epoch - 9ms/step\n",
      "Epoch 235/10000\n",
      ".80/80 - 1s - loss: 0.0035 - binary_crossentropy: 0.0035 - accuracy: 0.9987 - val_loss: 0.0015 - val_binary_crossentropy: 0.0015 - val_accuracy: 0.9993 - 719ms/epoch - 9ms/step\n",
      "Epoch 236/10000\n",
      ".80/80 - 1s - loss: 0.0022 - binary_crossentropy: 0.0022 - accuracy: 0.9992 - val_loss: 0.0011 - val_binary_crossentropy: 0.0011 - val_accuracy: 0.9993 - 732ms/epoch - 9ms/step\n",
      "Epoch 237/10000\n",
      ".80/80 - 1s - loss: 0.0015 - binary_crossentropy: 0.0015 - accuracy: 0.9995 - val_loss: 9.3550e-04 - val_binary_crossentropy: 9.3550e-04 - val_accuracy: 0.9997 - 703ms/epoch - 9ms/step\n",
      "Epoch 238/10000\n",
      ".80/80 - 1s - loss: 0.0014 - binary_crossentropy: 0.0014 - accuracy: 0.9994 - val_loss: 8.9162e-04 - val_binary_crossentropy: 8.9162e-04 - val_accuracy: 0.9997 - 686ms/epoch - 9ms/step\n",
      "Epoch 239/10000\n",
      ".80/80 - 1s - loss: 0.0014 - binary_crossentropy: 0.0014 - accuracy: 0.9993 - val_loss: 8.7025e-04 - val_binary_crossentropy: 8.7025e-04 - val_accuracy: 0.9997 - 695ms/epoch - 9ms/step\n",
      "Epoch 240/10000\n",
      ".80/80 - 1s - loss: 0.0012 - binary_crossentropy: 0.0012 - accuracy: 0.9995 - val_loss: 8.5204e-04 - val_binary_crossentropy: 8.5204e-04 - val_accuracy: 0.9997 - 702ms/epoch - 9ms/step\n",
      "Epoch 241/10000\n",
      ".80/80 - 1s - loss: 0.0012 - binary_crossentropy: 0.0012 - accuracy: 0.9995 - val_loss: 8.3796e-04 - val_binary_crossentropy: 8.3796e-04 - val_accuracy: 0.9997 - 705ms/epoch - 9ms/step\n",
      "Epoch 242/10000\n",
      ".80/80 - 1s - loss: 0.0011 - binary_crossentropy: 0.0011 - accuracy: 0.9995 - val_loss: 8.2866e-04 - val_binary_crossentropy: 8.2866e-04 - val_accuracy: 0.9997 - 694ms/epoch - 9ms/step\n",
      "Epoch 243/10000\n",
      ".80/80 - 1s - loss: 0.0011 - binary_crossentropy: 0.0011 - accuracy: 0.9995 - val_loss: 8.2639e-04 - val_binary_crossentropy: 8.2639e-04 - val_accuracy: 0.9997 - 695ms/epoch - 9ms/step\n",
      "Epoch 244/10000\n",
      ".80/80 - 1s - loss: 0.0012 - binary_crossentropy: 0.0012 - accuracy: 0.9994 - val_loss: 8.2102e-04 - val_binary_crossentropy: 8.2102e-04 - val_accuracy: 0.9997 - 706ms/epoch - 9ms/step\n",
      "Epoch 245/10000\n",
      ".80/80 - 1s - loss: 0.0011 - binary_crossentropy: 0.0011 - accuracy: 0.9995 - val_loss: 8.0850e-04 - val_binary_crossentropy: 8.0850e-04 - val_accuracy: 0.9997 - 694ms/epoch - 9ms/step\n",
      "Epoch 246/10000\n",
      ".80/80 - 1s - loss: 9.7768e-04 - binary_crossentropy: 9.7768e-04 - accuracy: 0.9997 - val_loss: 8.0432e-04 - val_binary_crossentropy: 8.0432e-04 - val_accuracy: 0.9997 - 695ms/epoch - 9ms/step\n",
      "Epoch 247/10000\n",
      ".80/80 - 1s - loss: 0.0011 - binary_crossentropy: 0.0011 - accuracy: 0.9995 - val_loss: 8.0937e-04 - val_binary_crossentropy: 8.0937e-04 - val_accuracy: 0.9997 - 694ms/epoch - 9ms/step\n",
      "Epoch 248/10000\n",
      ".80/80 - 1s - loss: 9.9722e-04 - binary_crossentropy: 9.9722e-04 - accuracy: 0.9995 - val_loss: 8.0345e-04 - val_binary_crossentropy: 8.0345e-04 - val_accuracy: 0.9997 - 695ms/epoch - 9ms/step\n",
      "Epoch 249/10000\n",
      ".80/80 - 1s - loss: 9.7118e-04 - binary_crossentropy: 9.7118e-04 - accuracy: 0.9994 - val_loss: 8.0159e-04 - val_binary_crossentropy: 8.0159e-04 - val_accuracy: 0.9997 - 710ms/epoch - 9ms/step\n",
      "Epoch 250/10000\n",
      ".80/80 - 1s - loss: 0.0010 - binary_crossentropy: 0.0010 - accuracy: 0.9995 - val_loss: 8.0182e-04 - val_binary_crossentropy: 8.0182e-04 - val_accuracy: 0.9997 - 725ms/epoch - 9ms/step\n",
      "Epoch 251/10000\n",
      ".80/80 - 1s - loss: 0.0011 - binary_crossentropy: 0.0011 - accuracy: 0.9994 - val_loss: 8.0648e-04 - val_binary_crossentropy: 8.0648e-04 - val_accuracy: 0.9997 - 736ms/epoch - 9ms/step\n",
      "Epoch 252/10000\n",
      ".80/80 - 1s - loss: 0.0010 - binary_crossentropy: 0.0010 - accuracy: 0.9995 - val_loss: 8.0714e-04 - val_binary_crossentropy: 8.0714e-04 - val_accuracy: 0.9997 - 725ms/epoch - 9ms/step\n",
      "Epoch 253/10000\n",
      ".80/80 - 1s - loss: 0.0010 - binary_crossentropy: 0.0010 - accuracy: 0.9994 - val_loss: 8.0132e-04 - val_binary_crossentropy: 8.0132e-04 - val_accuracy: 0.9997 - 742ms/epoch - 9ms/step\n",
      "Epoch 254/10000\n",
      ".80/80 - 1s - loss: 9.4898e-04 - binary_crossentropy: 9.4898e-04 - accuracy: 0.9995 - val_loss: 8.0019e-04 - val_binary_crossentropy: 8.0019e-04 - val_accuracy: 0.9997 - 696ms/epoch - 9ms/step\n",
      "Epoch 255/10000\n",
      ".80/80 - 1s - loss: 9.6858e-04 - binary_crossentropy: 9.6858e-04 - accuracy: 0.9995 - val_loss: 7.9749e-04 - val_binary_crossentropy: 7.9749e-04 - val_accuracy: 0.9997 - 860ms/epoch - 11ms/step\n",
      "Epoch 256/10000\n",
      ".80/80 - 1s - loss: 8.8828e-04 - binary_crossentropy: 8.8828e-04 - accuracy: 0.9995 - val_loss: 7.9323e-04 - val_binary_crossentropy: 7.9323e-04 - val_accuracy: 0.9997 - 884ms/epoch - 11ms/step\n",
      "Epoch 257/10000\n",
      ".80/80 - 1s - loss: 9.4579e-04 - binary_crossentropy: 9.4579e-04 - accuracy: 0.9996 - val_loss: 7.9614e-04 - val_binary_crossentropy: 7.9614e-04 - val_accuracy: 0.9997 - 855ms/epoch - 11ms/step\n",
      "Epoch 258/10000\n",
      ".80/80 - 1s - loss: 9.8945e-04 - binary_crossentropy: 9.8945e-04 - accuracy: 0.9995 - val_loss: 7.9996e-04 - val_binary_crossentropy: 7.9996e-04 - val_accuracy: 0.9997 - 893ms/epoch - 11ms/step\n",
      "Epoch 259/10000\n",
      ".80/80 - 1s - loss: 9.0376e-04 - binary_crossentropy: 9.0376e-04 - accuracy: 0.9995 - val_loss: 7.9365e-04 - val_binary_crossentropy: 7.9365e-04 - val_accuracy: 0.9997 - 842ms/epoch - 11ms/step\n",
      "Epoch 260/10000\n",
      ".80/80 - 1s - loss: 9.0295e-04 - binary_crossentropy: 9.0295e-04 - accuracy: 0.9995 - val_loss: 7.9232e-04 - val_binary_crossentropy: 7.9232e-04 - val_accuracy: 0.9997 - 870ms/epoch - 11ms/step\n",
      "Epoch 261/10000\n",
      ".80/80 - 1s - loss: 9.3473e-04 - binary_crossentropy: 9.3473e-04 - accuracy: 0.9995 - val_loss: 8.0366e-04 - val_binary_crossentropy: 8.0366e-04 - val_accuracy: 0.9997 - 870ms/epoch - 11ms/step\n",
      "Epoch 262/10000\n",
      ".80/80 - 1s - loss: 9.4117e-04 - binary_crossentropy: 9.4117e-04 - accuracy: 0.9995 - val_loss: 8.0054e-04 - val_binary_crossentropy: 8.0054e-04 - val_accuracy: 0.9997 - 903ms/epoch - 11ms/step\n",
      "Epoch 263/10000\n",
      ".80/80 - 1s - loss: 9.0029e-04 - binary_crossentropy: 9.0029e-04 - accuracy: 0.9995 - val_loss: 8.0621e-04 - val_binary_crossentropy: 8.0621e-04 - val_accuracy: 0.9997 - 970ms/epoch - 12ms/step\n",
      "Epoch 264/10000\n",
      ".80/80 - 1s - loss: 9.9967e-04 - binary_crossentropy: 9.9967e-04 - accuracy: 0.9995 - val_loss: 8.0230e-04 - val_binary_crossentropy: 8.0230e-04 - val_accuracy: 0.9997 - 977ms/epoch - 12ms/step\n",
      "Epoch 265/10000\n",
      ".80/80 - 1s - loss: 9.6558e-04 - binary_crossentropy: 9.6558e-04 - accuracy: 0.9995 - val_loss: 8.0530e-04 - val_binary_crossentropy: 8.0530e-04 - val_accuracy: 0.9997 - 917ms/epoch - 11ms/step\n",
      "Epoch 266/10000\n",
      ".80/80 - 1s - loss: 9.2534e-04 - binary_crossentropy: 9.2534e-04 - accuracy: 0.9995 - val_loss: 8.0571e-04 - val_binary_crossentropy: 8.0571e-04 - val_accuracy: 0.9997 - 897ms/epoch - 11ms/step\n",
      "Epoch 267/10000\n",
      ".80/80 - 1s - loss: 8.5495e-04 - binary_crossentropy: 8.5495e-04 - accuracy: 0.9995 - val_loss: 7.9692e-04 - val_binary_crossentropy: 7.9692e-04 - val_accuracy: 0.9997 - 909ms/epoch - 11ms/step\n",
      "Epoch 268/10000\n",
      ".80/80 - 1s - loss: 9.3250e-04 - binary_crossentropy: 9.3250e-04 - accuracy: 0.9995 - val_loss: 8.0218e-04 - val_binary_crossentropy: 8.0218e-04 - val_accuracy: 0.9997 - 886ms/epoch - 11ms/step\n",
      "Epoch 269/10000\n",
      ".80/80 - 1s - loss: 9.4438e-04 - binary_crossentropy: 9.4438e-04 - accuracy: 0.9994 - val_loss: 7.9896e-04 - val_binary_crossentropy: 7.9896e-04 - val_accuracy: 0.9997 - 704ms/epoch - 9ms/step\n",
      "Epoch 270/10000\n",
      ".80/80 - 1s - loss: 9.0399e-04 - binary_crossentropy: 9.0399e-04 - accuracy: 0.9995 - val_loss: 8.0363e-04 - val_binary_crossentropy: 8.0363e-04 - val_accuracy: 0.9997 - 687ms/epoch - 9ms/step\n",
      "Epoch 271/10000\n",
      ".80/80 - 1s - loss: 9.4006e-04 - binary_crossentropy: 9.4006e-04 - accuracy: 0.9995 - val_loss: 7.9983e-04 - val_binary_crossentropy: 7.9983e-04 - val_accuracy: 0.9997 - 702ms/epoch - 9ms/step\n",
      "Epoch 272/10000\n",
      ".80/80 - 1s - loss: 8.8326e-04 - binary_crossentropy: 8.8326e-04 - accuracy: 0.9995 - val_loss: 8.0479e-04 - val_binary_crossentropy: 8.0479e-04 - val_accuracy: 0.9997 - 680ms/epoch - 8ms/step\n",
      "Epoch 273/10000\n",
      ".80/80 - 1s - loss: 9.5485e-04 - binary_crossentropy: 9.5485e-04 - accuracy: 0.9995 - val_loss: 8.1171e-04 - val_binary_crossentropy: 8.1171e-04 - val_accuracy: 0.9997 - 698ms/epoch - 9ms/step\n",
      "Epoch 274/10000\n",
      ".80/80 - 1s - loss: 9.0711e-04 - binary_crossentropy: 9.0711e-04 - accuracy: 0.9995 - val_loss: 7.9544e-04 - val_binary_crossentropy: 7.9544e-04 - val_accuracy: 0.9997 - 693ms/epoch - 9ms/step\n",
      "Epoch 275/10000\n",
      ".80/80 - 1s - loss: 9.6350e-04 - binary_crossentropy: 9.6350e-04 - accuracy: 0.9994 - val_loss: 7.9936e-04 - val_binary_crossentropy: 7.9936e-04 - val_accuracy: 0.9997 - 694ms/epoch - 9ms/step\n",
      "Epoch 276/10000\n",
      ".80/80 - 1s - loss: 9.2023e-04 - binary_crossentropy: 9.2023e-04 - accuracy: 0.9995 - val_loss: 8.0859e-04 - val_binary_crossentropy: 8.0859e-04 - val_accuracy: 0.9997 - 689ms/epoch - 9ms/step\n",
      "Epoch 277/10000\n",
      ".80/80 - 1s - loss: 9.6811e-04 - binary_crossentropy: 9.6811e-04 - accuracy: 0.9994 - val_loss: 7.9594e-04 - val_binary_crossentropy: 7.9594e-04 - val_accuracy: 0.9997 - 709ms/epoch - 9ms/step\n",
      "Epoch 278/10000\n",
      ".80/80 - 1s - loss: 9.2540e-04 - binary_crossentropy: 9.2540e-04 - accuracy: 0.9995 - val_loss: 8.0341e-04 - val_binary_crossentropy: 8.0341e-04 - val_accuracy: 0.9997 - 699ms/epoch - 9ms/step\n",
      "Epoch 279/10000\n",
      ".80/80 - 1s - loss: 9.4028e-04 - binary_crossentropy: 9.4028e-04 - accuracy: 0.9995 - val_loss: 7.9283e-04 - val_binary_crossentropy: 7.9283e-04 - val_accuracy: 0.9997 - 686ms/epoch - 9ms/step\n",
      "Epoch 280/10000\n",
      ".80/80 - 1s - loss: 9.0318e-04 - binary_crossentropy: 9.0318e-04 - accuracy: 0.9995 - val_loss: 7.9926e-04 - val_binary_crossentropy: 7.9926e-04 - val_accuracy: 0.9997 - 698ms/epoch - 9ms/step\n",
      "Epoch 281/10000\n",
      ".80/80 - 1s - loss: 9.1718e-04 - binary_crossentropy: 9.1718e-04 - accuracy: 0.9994 - val_loss: 7.9325e-04 - val_binary_crossentropy: 7.9325e-04 - val_accuracy: 0.9997 - 683ms/epoch - 9ms/step\n",
      "Epoch 282/10000\n",
      ".80/80 - 1s - loss: 9.8121e-04 - binary_crossentropy: 9.8121e-04 - accuracy: 0.9994 - val_loss: 7.9372e-04 - val_binary_crossentropy: 7.9372e-04 - val_accuracy: 0.9997 - 691ms/epoch - 9ms/step\n",
      "Epoch 283/10000\n",
      ".80/80 - 1s - loss: 9.0972e-04 - binary_crossentropy: 9.0972e-04 - accuracy: 0.9995 - val_loss: 7.9388e-04 - val_binary_crossentropy: 7.9388e-04 - val_accuracy: 0.9997 - 732ms/epoch - 9ms/step\n",
      "Epoch 284/10000\n",
      ".80/80 - 1s - loss: 9.6909e-04 - binary_crossentropy: 9.6909e-04 - accuracy: 0.9995 - val_loss: 7.9018e-04 - val_binary_crossentropy: 7.9018e-04 - val_accuracy: 0.9997 - 717ms/epoch - 9ms/step\n",
      "Epoch 285/10000\n",
      ".80/80 - 1s - loss: 9.1064e-04 - binary_crossentropy: 9.1064e-04 - accuracy: 0.9996 - val_loss: 7.9102e-04 - val_binary_crossentropy: 7.9102e-04 - val_accuracy: 0.9997 - 724ms/epoch - 9ms/step\n",
      "Epoch 286/10000\n",
      ".80/80 - 1s - loss: 8.6023e-04 - binary_crossentropy: 8.6023e-04 - accuracy: 0.9995 - val_loss: 7.9349e-04 - val_binary_crossentropy: 7.9349e-04 - val_accuracy: 0.9997 - 716ms/epoch - 9ms/step\n",
      "Epoch 287/10000\n",
      ".80/80 - 1s - loss: 9.0750e-04 - binary_crossentropy: 9.0750e-04 - accuracy: 0.9995 - val_loss: 7.9368e-04 - val_binary_crossentropy: 7.9368e-04 - val_accuracy: 0.9997 - 724ms/epoch - 9ms/step\n",
      "Epoch 288/10000\n",
      ".80/80 - 1s - loss: 8.6683e-04 - binary_crossentropy: 8.6683e-04 - accuracy: 0.9995 - val_loss: 7.9549e-04 - val_binary_crossentropy: 7.9549e-04 - val_accuracy: 0.9997 - 763ms/epoch - 10ms/step\n",
      "Epoch 289/10000\n",
      ".80/80 - 1s - loss: 9.1146e-04 - binary_crossentropy: 9.1146e-04 - accuracy: 0.9995 - val_loss: 7.9546e-04 - val_binary_crossentropy: 7.9546e-04 - val_accuracy: 0.9997 - 729ms/epoch - 9ms/step\n",
      "Epoch 290/10000\n",
      ".80/80 - 1s - loss: 9.1308e-04 - binary_crossentropy: 9.1308e-04 - accuracy: 0.9995 - val_loss: 7.9767e-04 - val_binary_crossentropy: 7.9767e-04 - val_accuracy: 0.9997 - 729ms/epoch - 9ms/step\n",
      "Epoch 291/10000\n",
      ".80/80 - 1s - loss: 0.0011 - binary_crossentropy: 0.0011 - accuracy: 0.9995 - val_loss: 7.9453e-04 - val_binary_crossentropy: 7.9453e-04 - val_accuracy: 0.9997 - 699ms/epoch - 9ms/step\n",
      "Epoch 292/10000\n",
      ".80/80 - 1s - loss: 9.0905e-04 - binary_crossentropy: 9.0905e-04 - accuracy: 0.9994 - val_loss: 7.8919e-04 - val_binary_crossentropy: 7.8919e-04 - val_accuracy: 0.9997 - 700ms/epoch - 9ms/step\n",
      "Epoch 293/10000\n",
      ".80/80 - 1s - loss: 0.0016 - binary_crossentropy: 0.0016 - accuracy: 0.9993 - val_loss: 7.4379e-04 - val_binary_crossentropy: 7.4379e-04 - val_accuracy: 0.9997 - 705ms/epoch - 9ms/step\n",
      "Epoch 294/10000\n",
      ".80/80 - 1s - loss: 0.0013 - binary_crossentropy: 0.0013 - accuracy: 0.9992 - val_loss: 0.0013 - val_binary_crossentropy: 0.0013 - val_accuracy: 0.9990 - 725ms/epoch - 9ms/step\n",
      "Epoch 295/10000\n",
      ".80/80 - 1s - loss: 0.0092 - binary_crossentropy: 0.0092 - accuracy: 0.9975 - val_loss: 0.0142 - val_binary_crossentropy: 0.0142 - val_accuracy: 0.9957 - 711ms/epoch - 9ms/step\n",
      "Epoch 296/10000\n",
      ".80/80 - 1s - loss: 0.0183 - binary_crossentropy: 0.0183 - accuracy: 0.9950 - val_loss: 0.0060 - val_binary_crossentropy: 0.0060 - val_accuracy: 0.9970 - 703ms/epoch - 9ms/step\n",
      "Epoch 297/10000\n",
      ".80/80 - 1s - loss: 0.0121 - binary_crossentropy: 0.0121 - accuracy: 0.9963 - val_loss: 0.0026 - val_binary_crossentropy: 0.0026 - val_accuracy: 0.9993 - 720ms/epoch - 9ms/step\n",
      "Epoch 298/10000\n",
      ".80/80 - 1s - loss: 0.0045 - binary_crossentropy: 0.0045 - accuracy: 0.9984 - val_loss: 9.4331e-04 - val_binary_crossentropy: 9.4331e-04 - val_accuracy: 0.9997 - 723ms/epoch - 9ms/step\n",
      "Epoch 299/10000\n",
      ".80/80 - 1s - loss: 0.0018 - binary_crossentropy: 0.0018 - accuracy: 0.9993 - val_loss: 8.0817e-04 - val_binary_crossentropy: 8.0817e-04 - val_accuracy: 0.9997 - 713ms/epoch - 9ms/step\n",
      "Epoch 300/10000\n",
      ".80/80 - 1s - loss: 0.0014 - binary_crossentropy: 0.0014 - accuracy: 0.9994 - val_loss: 7.4659e-04 - val_binary_crossentropy: 7.4659e-04 - val_accuracy: 0.9997 - 723ms/epoch - 9ms/step\n",
      "Epoch 301/10000\n",
      "\n",
      "Epoch: 300, accuracy:0.9994,  binary_crossentropy:0.0012,  loss:0.0012,  val_accuracy:0.9997,  val_binary_crossentropy:0.0007,  val_loss:0.0007,  \n",
      ".80/80 - 1s - loss: 0.0012 - binary_crossentropy: 0.0012 - accuracy: 0.9994 - val_loss: 7.1090e-04 - val_binary_crossentropy: 7.1090e-04 - val_accuracy: 0.9997 - 705ms/epoch - 9ms/step\n",
      "Epoch 302/10000\n",
      ".80/80 - 1s - loss: 0.0011 - binary_crossentropy: 0.0011 - accuracy: 0.9995 - val_loss: 6.9593e-04 - val_binary_crossentropy: 6.9593e-04 - val_accuracy: 0.9997 - 728ms/epoch - 9ms/step\n",
      "Epoch 303/10000\n",
      ".80/80 - 1s - loss: 0.0011 - binary_crossentropy: 0.0011 - accuracy: 0.9995 - val_loss: 6.8205e-04 - val_binary_crossentropy: 6.8205e-04 - val_accuracy: 0.9997 - 712ms/epoch - 9ms/step\n",
      "Epoch 304/10000\n",
      ".80/80 - 1s - loss: 0.0011 - binary_crossentropy: 0.0011 - accuracy: 0.9995 - val_loss: 6.7630e-04 - val_binary_crossentropy: 6.7630e-04 - val_accuracy: 0.9997 - 709ms/epoch - 9ms/step\n",
      "Epoch 305/10000\n",
      ".80/80 - 1s - loss: 0.0011 - binary_crossentropy: 0.0011 - accuracy: 0.9995 - val_loss: 6.7147e-04 - val_binary_crossentropy: 6.7147e-04 - val_accuracy: 0.9997 - 725ms/epoch - 9ms/step\n",
      "Epoch 306/10000\n",
      ".80/80 - 1s - loss: 0.0010 - binary_crossentropy: 0.0010 - accuracy: 0.9995 - val_loss: 6.6390e-04 - val_binary_crossentropy: 6.6390e-04 - val_accuracy: 0.9997 - 723ms/epoch - 9ms/step\n",
      "Epoch 307/10000\n",
      ".80/80 - 1s - loss: 0.0011 - binary_crossentropy: 0.0011 - accuracy: 0.9994 - val_loss: 6.6410e-04 - val_binary_crossentropy: 6.6410e-04 - val_accuracy: 0.9997 - 724ms/epoch - 9ms/step\n",
      "Epoch 308/10000\n",
      ".80/80 - 1s - loss: 9.4804e-04 - binary_crossentropy: 9.4804e-04 - accuracy: 0.9996 - val_loss: 6.5597e-04 - val_binary_crossentropy: 6.5597e-04 - val_accuracy: 0.9997 - 720ms/epoch - 9ms/step\n",
      "Epoch 309/10000\n",
      ".80/80 - 1s - loss: 9.6051e-04 - binary_crossentropy: 9.6051e-04 - accuracy: 0.9995 - val_loss: 6.5241e-04 - val_binary_crossentropy: 6.5241e-04 - val_accuracy: 0.9997 - 722ms/epoch - 9ms/step\n",
      "Epoch 310/10000\n",
      ".80/80 - 1s - loss: 9.9365e-04 - binary_crossentropy: 9.9365e-04 - accuracy: 0.9995 - val_loss: 6.5143e-04 - val_binary_crossentropy: 6.5143e-04 - val_accuracy: 0.9997 - 727ms/epoch - 9ms/step\n",
      "Epoch 311/10000\n",
      ".80/80 - 1s - loss: 0.0010 - binary_crossentropy: 0.0010 - accuracy: 0.9995 - val_loss: 6.4895e-04 - val_binary_crossentropy: 6.4895e-04 - val_accuracy: 0.9997 - 714ms/epoch - 9ms/step\n",
      "Epoch 312/10000\n",
      ".80/80 - 1s - loss: 9.1521e-04 - binary_crossentropy: 9.1521e-04 - accuracy: 0.9995 - val_loss: 6.4812e-04 - val_binary_crossentropy: 6.4812e-04 - val_accuracy: 0.9997 - 728ms/epoch - 9ms/step\n",
      "Epoch 313/10000\n",
      ".80/80 - 1s - loss: 9.4716e-04 - binary_crossentropy: 9.4716e-04 - accuracy: 0.9995 - val_loss: 6.4665e-04 - val_binary_crossentropy: 6.4665e-04 - val_accuracy: 0.9997 - 721ms/epoch - 9ms/step\n",
      "Epoch 314/10000\n",
      ".80/80 - 1s - loss: 9.5262e-04 - binary_crossentropy: 9.5262e-04 - accuracy: 0.9996 - val_loss: 6.4637e-04 - val_binary_crossentropy: 6.4637e-04 - val_accuracy: 0.9997 - 678ms/epoch - 8ms/step\n",
      "Epoch 315/10000\n",
      ".80/80 - 1s - loss: 9.4156e-04 - binary_crossentropy: 9.4156e-04 - accuracy: 0.9995 - val_loss: 6.4658e-04 - val_binary_crossentropy: 6.4658e-04 - val_accuracy: 0.9997 - 687ms/epoch - 9ms/step\n",
      "Epoch 316/10000\n",
      ".80/80 - 1s - loss: 9.8798e-04 - binary_crossentropy: 9.8798e-04 - accuracy: 0.9995 - val_loss: 6.4473e-04 - val_binary_crossentropy: 6.4473e-04 - val_accuracy: 0.9997 - 684ms/epoch - 9ms/step\n",
      "Epoch 317/10000\n",
      ".80/80 - 1s - loss: 9.1164e-04 - binary_crossentropy: 9.1164e-04 - accuracy: 0.9995 - val_loss: 6.4437e-04 - val_binary_crossentropy: 6.4437e-04 - val_accuracy: 0.9997 - 693ms/epoch - 9ms/step\n",
      "Epoch 318/10000\n",
      ".80/80 - 1s - loss: 9.0952e-04 - binary_crossentropy: 9.0952e-04 - accuracy: 0.9995 - val_loss: 6.4522e-04 - val_binary_crossentropy: 6.4522e-04 - val_accuracy: 0.9997 - 689ms/epoch - 9ms/step\n"
     ]
    }
   ],
   "source": [
    "dict_histories['ver1'] = compile_and_fit(model = model_1, name ='ver1',\n",
    "                                         f_xtrain = X_train_1,f_ytrain = y_train_1, \n",
    "                                         f_xval = X_val, f_yval = y_val)"
   ]
  },
  {
   "cell_type": "code",
   "execution_count": 67,
   "id": "c8381acd-e0ec-4250-a965-af211d29047a",
   "metadata": {},
   "outputs": [
    {
     "data": {
      "image/png": "[encoded data removed]",
      "text/plain": [
       "<Figure size 432x288 with 1 Axes>"
      ]
     },
     "metadata": {
      "needs_background": "light"
     },
     "output_type": "display_data"
    }
   ],
   "source": [
    "plotter = tfdocs.plots.HistoryPlotter(metric = 'binary_crossentropy', smoothing_std=10)\n",
    "plotter.plot(dict_histories)"
   ]
  },
  {
   "cell_type": "code",
   "execution_count": 68,
   "id": "b0fc85c1-37b6-4325-ad8c-40ea07c19843",
   "metadata": {},
   "outputs": [
    {
     "data": {
      "text/plain": [
       "<matplotlib.legend.Legend at 0x215fdb535b0>"
      ]
     },
     "execution_count": 68,
     "metadata": {},
     "output_type": "execute_result"
    },
    {
     "data": {
      "image/png": "[encoded data removed]",
      "text/plain": [
       "<Figure size 432x288 with 1 Axes>"
      ]
     },
     "metadata": {
      "needs_background": "light"
     },
     "output_type": "display_data"
    }
   ],
   "source": [
    "plt.plot(dict_histories['ver1'].history['loss'], label='training loss')\n",
    "plt.plot(dict_histories['ver1'].history['val_loss'], label='validation loss')\n",
    "plt.xlabel('Epoch')\n",
    "plt.ylabel('Loss')\n",
    "plt.legend()"
   ]
  },
  {
   "cell_type": "code",
   "execution_count": 69,
   "id": "31032ec3-1465-4b84-b2a5-e2e491aca785",
   "metadata": {},
   "outputs": [
    {
     "name": "stdout",
     "output_type": "stream",
     "text": [
      "313/313 [==============================] - 1s 3ms/step - loss: 2.9468 - binary_crossentropy: 2.9468 - accuracy: 0.8549\n",
      "{'model': [2.946842670440674, 2.946842670440674, 0.8549000024795532]}\n"
     ]
    }
   ],
   "source": [
    "test_results = {}\n",
    "\n",
    "test_results['model'] = model_1.evaluate(\n",
    "    X_test, y_test, verbose=1)\n",
    "\n",
    "print(test_results)"
   ]
  },
  {
   "cell_type": "code",
   "execution_count": 70,
   "id": "44f9f3ce-74b2-44b7-9bca-685b786d9570",
   "metadata": {},
   "outputs": [
    {
     "name": "stdout",
     "output_type": "stream",
     "text": [
      "313/313 [==============================] - 0s 1ms/step\n"
     ]
    }
   ],
   "source": [
    "result = model_1.predict(X_test)"
   ]
  },
  {
   "cell_type": "code",
   "execution_count": 71,
   "id": "dcfc1a75-e111-41e4-ad0f-1a3bf4b44644",
   "metadata": {},
   "outputs": [],
   "source": [
    "res = tf.math.confusion_matrix(y_test, result)"
   ]
  },
  {
   "cell_type": "code",
   "execution_count": 72,
   "id": "ef14cb0b-04e9-434a-af33-6f56a3e0ee7a",
   "metadata": {},
   "outputs": [
    {
     "name": "stdout",
     "output_type": "stream",
     "text": [
      "tf.Tensor(\n",
      "[[4658  303]\n",
      " [1546 3493]], shape=(2, 2), dtype=int32)\n"
     ]
    }
   ],
   "source": [
    "print(res)"
   ]
  },
  {
   "cell_type": "code",
   "execution_count": 78,
   "id": "a93ffed3-bf88-4fe2-9668-600d4b412897",
   "metadata": {},
   "outputs": [
    {
     "data": {
      "text/plain": [
       "[[4658, 303], [1546, 3493]]"
      ]
     },
     "execution_count": 78,
     "metadata": {},
     "output_type": "execute_result"
    }
   ],
   "source": [
    "# precision\n",
    "from tensorflow.python.ops.numpy_ops import np_config \n",
    "np_config.enable_numpy_behavior()\n",
    "res.tolist()\n",
    "\n"
   ]
  },
  {
   "cell_type": "code",
   "execution_count": 83,
   "id": "364b6205-dd95-4857-b4e6-3fd49d337bcd",
   "metadata": {},
   "outputs": [
    {
     "data": {
      "text/plain": [
       "<tf.Tensor: shape=(), dtype=float64, numpy=0.6931930938678309>"
      ]
     },
     "execution_count": 83,
     "metadata": {},
     "output_type": "execute_result"
    }
   ],
   "source": [
    "# precision\n",
    "res[1,1]/(res[1,1]+res[1,0])"
   ]
  },
  {
   "cell_type": "code",
   "execution_count": 82,
   "id": "fc534398-bdd6-40dd-8b88-ca0065d97133",
   "metadata": {},
   "outputs": [
    {
     "data": {
      "text/plain": [
       "<tf.Tensor: shape=(), dtype=float64, numpy=0.9201791359325606>"
      ]
     },
     "execution_count": 82,
     "metadata": {},
     "output_type": "execute_result"
    }
   ],
   "source": [
    "#recall \n",
    "res[1,1]/(res[1,1]+res[0,1])"
   ]
  },
  {
   "cell_type": "markdown",
   "id": "c7aadb29-5ded-44c2-aeef-b9c11ff92889",
   "metadata": {},
   "source": [
    "# Discussion\n",
    "\n",
    "* The model reached >99% test and validation accuracy within first 20 epoch\n",
    "* Standardization of features reduced most of the \"Loss spikes\". Scatterplot of features vs labels shows like negative class has less info than positive class. \"Loss spikes\" still occurs per ~50 epochs but each occurence has a lower magnitude. \n",
    "* One hot encoding was used in this study so this model suffers from the curse of dimensionality. Word2Vec may further improve the model performance."
   ]
  },
  {
   "cell_type": "markdown",
   "id": "7def008e-a9bf-4545-b3d1-c29fd5e4fb78",
   "metadata": {},
   "source": [
    "# Reference\n",
    "https://www.tensorflow.org/tutorials/keras/overfit_and_underfit"
   ]
  },
  {
   "cell_type": "markdown",
   "id": "5c9fbd2f-7edf-40de-b3d1-38205b131d29",
   "metadata": {},
   "source": [
    "# Remarks\n",
    "Thank you for checking by. \n",
    "I look forward for any feedbacks :) "
   ]
  }
 ],
 "metadata": {
  "kernelspec": {
   "display_name": "Python 3 (ipykernel)",
   "language": "python",
   "name": "python3"
  },
  "language_info": {
   "codemirror_mode": {
    "name": "ipython",
    "version": 3
   },
   "file_extension": ".py",
   "mimetype": "text/x-python",
   "name": "python",
   "nbconvert_exporter": "python",
   "pygments_lexer": "ipython3",
   "version": "3.9.12"
  }
 },
 "nbformat": 4,
 "nbformat_minor": 5
}
