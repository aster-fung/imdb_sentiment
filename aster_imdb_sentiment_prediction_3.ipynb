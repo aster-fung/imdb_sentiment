{
 "cells": [
  {
   "cell_type": "code",
   "execution_count": 1,
   "id": "9ecc686e-443a-4159-830c-1339c1f9800e",
   "metadata": {},
   "outputs": [
    {
     "name": "stdout",
     "output_type": "stream",
     "text": [
      "Collecting git+https://github.com/tensorflow/docs\n",
      "  Cloning https://github.com/tensorflow/docs to c:\\users\\user\\appdata\\local\\temp\\pip-req-build-3e6axvke\n",
      "  Resolved https://github.com/tensorflow/docs to commit 881afa31a959c86c39664c1d81d00e453eddf3f2\n",
      "  Preparing metadata (setup.py): started\n",
      "  Preparing metadata (setup.py): finished with status 'done'\n",
      "Requirement already satisfied: astor in c:\\users\\user\\miniconda3\\envs\\venv2\\lib\\site-packages (from tensorflow-docs==0.0.0.dev0) (0.8.1)\n",
      "Requirement already satisfied: absl-py in c:\\users\\user\\miniconda3\\envs\\venv2\\lib\\site-packages (from tensorflow-docs==0.0.0.dev0) (1.2.0)\n",
      "Requirement already satisfied: jinja2 in c:\\users\\user\\miniconda3\\envs\\venv2\\lib\\site-packages (from tensorflow-docs==0.0.0.dev0) (3.1.2)\n",
      "Requirement already satisfied: nbformat in c:\\users\\user\\miniconda3\\envs\\venv2\\lib\\site-packages (from tensorflow-docs==0.0.0.dev0) (5.4.0)\n",
      "Requirement already satisfied: protobuf<3.20,>=3.12.0 in c:\\users\\user\\miniconda3\\envs\\venv2\\lib\\site-packages (from tensorflow-docs==0.0.0.dev0) (3.19.4)\n",
      "Requirement already satisfied: pyyaml in c:\\users\\user\\miniconda3\\envs\\venv2\\lib\\site-packages (from tensorflow-docs==0.0.0.dev0) (6.0)\n",
      "Requirement already satisfied: MarkupSafe>=2.0 in c:\\users\\user\\miniconda3\\envs\\venv2\\lib\\site-packages (from jinja2->tensorflow-docs==0.0.0.dev0) (2.1.1)\n",
      "Requirement already satisfied: jsonschema>=2.6 in c:\\users\\user\\miniconda3\\envs\\venv2\\lib\\site-packages (from nbformat->tensorflow-docs==0.0.0.dev0) (4.7.2)\n",
      "Requirement already satisfied: jupyter-core in c:\\users\\user\\miniconda3\\envs\\venv2\\lib\\site-packages (from nbformat->tensorflow-docs==0.0.0.dev0) (5.1.0)\n",
      "Requirement already satisfied: fastjsonschema in c:\\users\\user\\miniconda3\\envs\\venv2\\lib\\site-packages (from nbformat->tensorflow-docs==0.0.0.dev0) (2.16.1)\n",
      "Requirement already satisfied: traitlets>=5.1 in c:\\users\\user\\miniconda3\\envs\\venv2\\lib\\site-packages (from nbformat->tensorflow-docs==0.0.0.dev0) (5.7.1)\n",
      "Requirement already satisfied: attrs>=17.4.0 in c:\\users\\user\\miniconda3\\envs\\venv2\\lib\\site-packages (from jsonschema>=2.6->nbformat->tensorflow-docs==0.0.0.dev0) (21.4.0)\n",
      "Requirement already satisfied: pyrsistent!=0.17.0,!=0.17.1,!=0.17.2,>=0.14.0 in c:\\users\\user\\miniconda3\\envs\\venv2\\lib\\site-packages (from jsonschema>=2.6->nbformat->tensorflow-docs==0.0.0.dev0) (0.18.1)\n",
      "Requirement already satisfied: pywin32>=1.0 in c:\\users\\user\\miniconda3\\envs\\venv2\\lib\\site-packages (from jupyter-core->nbformat->tensorflow-docs==0.0.0.dev0) (304)\n",
      "Requirement already satisfied: platformdirs>=2.5 in c:\\users\\user\\miniconda3\\envs\\venv2\\lib\\site-packages (from jupyter-core->nbformat->tensorflow-docs==0.0.0.dev0) (2.6.0)\n"
     ]
    },
    {
     "name": "stderr",
     "output_type": "stream",
     "text": [
      "  Running command git clone --filter=blob:none --quiet https://github.com/tensorflow/docs 'C:\\Users\\User\\AppData\\Local\\Temp\\pip-req-build-3e6axvke'\n"
     ]
    }
   ],
   "source": [
    "!pip install git+https://github.com/tensorflow/docs"
   ]
  },
  {
   "cell_type": "code",
   "execution_count": 2,
   "id": "c183b9a3-96d2-4178-a901-6537c450ef67",
   "metadata": {},
   "outputs": [
    {
     "name": "stderr",
     "output_type": "stream",
     "text": [
      "[nltk_data] Downloading package punkt to\n",
      "[nltk_data]     C:\\Users\\User\\AppData\\Roaming\\nltk_data...\n",
      "[nltk_data]   Package punkt is already up-to-date!\n"
     ]
    },
    {
     "data": {
      "text/plain": [
       "True"
      ]
     },
     "execution_count": 2,
     "metadata": {},
     "output_type": "execute_result"
    }
   ],
   "source": [
    "import numpy as np\n",
    "import pandas as pd\n",
    "import matplotlib.pyplot as plt\n",
    "import seaborn as sns\n",
    "import nltk\n",
    "from gensim.corpora.dictionary import Dictionary as gdict\n",
    "from sklearn.preprocessing import StandardScaler\n",
    "from sklearn.model_selection import train_test_split\n",
    "import tensorflow as tf\n",
    "import tensorflow_docs as tfdocs\n",
    "import tensorflow_docs.modeling\n",
    "import tensorflow_docs.plots\n",
    "import pathlib\n",
    "import shutil\n",
    "import tempfile\n",
    "import gc\n",
    "\n",
    "nltk.download('punkt')"
   ]
  },
  {
   "cell_type": "code",
   "execution_count": 3,
   "id": "b5cf76c5-e3bb-4733-b87c-ada867ef8b68",
   "metadata": {},
   "outputs": [],
   "source": [
    "logdir = pathlib.Path(tempfile.mkdtemp())/\"tensorboard_logs\"\n",
    "shutil.rmtree(logdir, ignore_errors=True)"
   ]
  },
  {
   "cell_type": "code",
   "execution_count": 4,
   "id": "2d70f6c7-8ef7-47b8-86ff-80cd846f1678",
   "metadata": {},
   "outputs": [],
   "source": [
    "df_raw = pd.read_csv('IMDBDataset.csv')"
   ]
  },
  {
   "cell_type": "code",
   "execution_count": 5,
   "id": "0db1eed2-598b-4f94-8e9e-49492467605f",
   "metadata": {},
   "outputs": [
    {
     "data": {
      "text/plain": [
       "(50000, 2)"
      ]
     },
     "execution_count": 5,
     "metadata": {},
     "output_type": "execute_result"
    }
   ],
   "source": [
    "df_raw.shape"
   ]
  },
  {
   "cell_type": "code",
   "execution_count": 6,
   "id": "2be8139a-fceb-442f-b00d-d2942072dc5d",
   "metadata": {},
   "outputs": [
    {
     "data": {
      "text/html": [
       "<div>\n",
       "<style scoped>\n",
       "    .dataframe tbody tr th:only-of-type {\n",
       "        vertical-align: middle;\n",
       "    }\n",
       "\n",
       "    .dataframe tbody tr th {\n",
       "        vertical-align: top;\n",
       "    }\n",
       "\n",
       "    .dataframe thead th {\n",
       "        text-align: right;\n",
       "    }\n",
       "</style>\n",
       "<table border=\"1\" class=\"dataframe\">\n",
       "  <thead>\n",
       "    <tr style=\"text-align: right;\">\n",
       "      <th></th>\n",
       "      <th>review</th>\n",
       "      <th>sentiment</th>\n",
       "    </tr>\n",
       "  </thead>\n",
       "  <tbody>\n",
       "    <tr>\n",
       "      <th>0</th>\n",
       "      <td>One of the other reviewers has mentioned that ...</td>\n",
       "      <td>positive</td>\n",
       "    </tr>\n",
       "    <tr>\n",
       "      <th>1</th>\n",
       "      <td>A wonderful little production. &lt;br /&gt;&lt;br /&gt;The...</td>\n",
       "      <td>positive</td>\n",
       "    </tr>\n",
       "    <tr>\n",
       "      <th>2</th>\n",
       "      <td>I thought this was a wonderful way to spend ti...</td>\n",
       "      <td>positive</td>\n",
       "    </tr>\n",
       "    <tr>\n",
       "      <th>3</th>\n",
       "      <td>Basically there's a family where a little boy ...</td>\n",
       "      <td>negative</td>\n",
       "    </tr>\n",
       "    <tr>\n",
       "      <th>4</th>\n",
       "      <td>Petter Mattei's \"Love in the Time of Money\" is...</td>\n",
       "      <td>positive</td>\n",
       "    </tr>\n",
       "  </tbody>\n",
       "</table>\n",
       "</div>"
      ],
      "text/plain": [
       "                                              review sentiment\n",
       "0  One of the other reviewers has mentioned that ...  positive\n",
       "1  A wonderful little production. <br /><br />The...  positive\n",
       "2  I thought this was a wonderful way to spend ti...  positive\n",
       "3  Basically there's a family where a little boy ...  negative\n",
       "4  Petter Mattei's \"Love in the Time of Money\" is...  positive"
      ]
     },
     "execution_count": 6,
     "metadata": {},
     "output_type": "execute_result"
    }
   ],
   "source": [
    "df_raw.head()"
   ]
  },
  {
   "cell_type": "code",
   "execution_count": 7,
   "id": "4dab7173-3fb9-4c7b-8d20-c6d96a7da61a",
   "metadata": {},
   "outputs": [
    {
     "data": {
      "text/plain": [
       "positive    25000\n",
       "negative    25000\n",
       "Name: sentiment, dtype: int64"
      ]
     },
     "execution_count": 7,
     "metadata": {},
     "output_type": "execute_result"
    }
   ],
   "source": [
    "df_raw['sentiment'].value_counts()"
   ]
  },
  {
   "cell_type": "markdown",
   "id": "45629e10-ae7b-4ce9-99a0-687bf1279f77",
   "metadata": {},
   "source": [
    "# Data preparation"
   ]
  },
  {
   "cell_type": "code",
   "execution_count": 8,
   "id": "9fb3e840-8662-44fa-9fd2-e47f6e3dffa1",
   "metadata": {},
   "outputs": [],
   "source": [
    "df = df_raw.copy()"
   ]
  },
  {
   "cell_type": "code",
   "execution_count": 9,
   "id": "ff99cc2d-02e7-40b5-8c84-4dde389ece37",
   "metadata": {},
   "outputs": [],
   "source": [
    "# map sentiment into binary variables\n",
    "\n",
    "binary_map =  {'negative':0, 'positive': 1}\n",
    "df['sentiment'] = df['sentiment'].map(binary_map)"
   ]
  },
  {
   "cell_type": "code",
   "execution_count": 10,
   "id": "baec2d0f-3960-4dec-8de8-eb841572cc0c",
   "metadata": {},
   "outputs": [],
   "source": [
    "reviews_raw = df['review']"
   ]
  },
  {
   "cell_type": "code",
   "execution_count": 11,
   "id": "d3f51586-6237-4e66-bfd1-f00cf288e805",
   "metadata": {},
   "outputs": [
    {
     "data": {
      "text/plain": [
       "0        One of the other reviewers has mentioned that ...\n",
       "1        A wonderful little production. <br /><br />The...\n",
       "2        I thought this was a wonderful way to spend ti...\n",
       "3        Basically there's a family where a little boy ...\n",
       "4        Petter Mattei's \"Love in the Time of Money\" is...\n",
       "                               ...                        \n",
       "49995    I thought this movie did a down right good job...\n",
       "49996    Bad plot, bad dialogue, bad acting, idiotic di...\n",
       "49997    I am a Catholic taught in parochial elementary...\n",
       "49998    I'm going to have to disagree with the previou...\n",
       "49999    No one expects the Star Trek movies to be high...\n",
       "Name: review, Length: 50000, dtype: object"
      ]
     },
     "execution_count": 11,
     "metadata": {},
     "output_type": "execute_result"
    }
   ],
   "source": [
    "reviews_raw"
   ]
  },
  {
   "cell_type": "code",
   "execution_count": 12,
   "id": "1f518576-9bea-4e36-9778-d650e2205adb",
   "metadata": {},
   "outputs": [
    {
     "data": {
      "text/plain": [
       "1    25000\n",
       "0    25000\n",
       "Name: sentiment, dtype: int64"
      ]
     },
     "execution_count": 12,
     "metadata": {},
     "output_type": "execute_result"
    }
   ],
   "source": [
    "df['sentiment'].value_counts()"
   ]
  },
  {
   "cell_type": "code",
   "execution_count": 13,
   "id": "c104a302-63db-4984-b8d5-036d6eca6c5e",
   "metadata": {},
   "outputs": [],
   "source": [
    "def convert_lower(text):\n",
    "    return text.lower()"
   ]
  },
  {
   "cell_type": "code",
   "execution_count": 14,
   "id": "32e3e679-ffbb-4e68-8435-c89166aba4ab",
   "metadata": {
    "tags": []
   },
   "outputs": [],
   "source": [
    "df['review'] = df['review'].apply(convert_lower)"
   ]
  },
  {
   "cell_type": "code",
   "execution_count": 15,
   "id": "38fef91b-c2d6-4634-b5c3-862a9e618320",
   "metadata": {},
   "outputs": [
    {
     "data": {
      "text/html": [
       "<div>\n",
       "<style scoped>\n",
       "    .dataframe tbody tr th:only-of-type {\n",
       "        vertical-align: middle;\n",
       "    }\n",
       "\n",
       "    .dataframe tbody tr th {\n",
       "        vertical-align: top;\n",
       "    }\n",
       "\n",
       "    .dataframe thead th {\n",
       "        text-align: right;\n",
       "    }\n",
       "</style>\n",
       "<table border=\"1\" class=\"dataframe\">\n",
       "  <thead>\n",
       "    <tr style=\"text-align: right;\">\n",
       "      <th></th>\n",
       "      <th>review</th>\n",
       "      <th>sentiment</th>\n",
       "    </tr>\n",
       "  </thead>\n",
       "  <tbody>\n",
       "    <tr>\n",
       "      <th>0</th>\n",
       "      <td>one of the other reviewers has mentioned that ...</td>\n",
       "      <td>1</td>\n",
       "    </tr>\n",
       "    <tr>\n",
       "      <th>1</th>\n",
       "      <td>a wonderful little production. &lt;br /&gt;&lt;br /&gt;the...</td>\n",
       "      <td>1</td>\n",
       "    </tr>\n",
       "    <tr>\n",
       "      <th>2</th>\n",
       "      <td>i thought this was a wonderful way to spend ti...</td>\n",
       "      <td>1</td>\n",
       "    </tr>\n",
       "    <tr>\n",
       "      <th>3</th>\n",
       "      <td>basically there's a family where a little boy ...</td>\n",
       "      <td>0</td>\n",
       "    </tr>\n",
       "    <tr>\n",
       "      <th>4</th>\n",
       "      <td>petter mattei's \"love in the time of money\" is...</td>\n",
       "      <td>1</td>\n",
       "    </tr>\n",
       "  </tbody>\n",
       "</table>\n",
       "</div>"
      ],
      "text/plain": [
       "                                              review  sentiment\n",
       "0  one of the other reviewers has mentioned that ...          1\n",
       "1  a wonderful little production. <br /><br />the...          1\n",
       "2  i thought this was a wonderful way to spend ti...          1\n",
       "3  basically there's a family where a little boy ...          0\n",
       "4  petter mattei's \"love in the time of money\" is...          1"
      ]
     },
     "execution_count": 15,
     "metadata": {},
     "output_type": "execute_result"
    }
   ],
   "source": [
    "df.head()"
   ]
  },
  {
   "cell_type": "code",
   "execution_count": 16,
   "id": "9e22001b-1abc-4883-b6fc-e74a6617462a",
   "metadata": {},
   "outputs": [
    {
     "data": {
      "text/plain": [
       "0"
      ]
     },
     "execution_count": 16,
     "metadata": {},
     "output_type": "execute_result"
    }
   ],
   "source": [
    "del df_raw\n",
    "del reviews_raw\n",
    "gc.collect()"
   ]
  },
  {
   "cell_type": "markdown",
   "id": "aab076d7-3c14-4491-ab1b-cf25e9a75fc2",
   "metadata": {},
   "source": [
    "# Tokenize to map the words into integers"
   ]
  },
  {
   "cell_type": "code",
   "execution_count": 17,
   "id": "fdba92ee",
   "metadata": {},
   "outputs": [],
   "source": [
    "df[\"review\"] = df[\"review\"].map(lambda x: x.split(' '))"
   ]
  },
  {
   "cell_type": "code",
   "execution_count": 18,
   "id": "976d9fbf-54c8-46ac-b1e7-f48b212613ee",
   "metadata": {
    "tags": []
   },
   "outputs": [],
   "source": [
    "my_dict = gdict(df['review'])"
   ]
  },
  {
   "cell_type": "code",
   "execution_count": 19,
   "id": "2ea065fa-05f6-4012-8ad6-d9a85ff05475",
   "metadata": {},
   "outputs": [
    {
     "data": {
      "text/plain": [
       "392053"
      ]
     },
     "execution_count": 19,
     "metadata": {},
     "output_type": "execute_result"
    }
   ],
   "source": [
    "len(my_dict)"
   ]
  },
  {
   "cell_type": "code",
   "execution_count": 20,
   "id": "b2206d04-8401-4a64-816f-028540cb9186",
   "metadata": {},
   "outputs": [],
   "source": [
    "my_dict.filter_extremes(no_below=1, no_above=1, keep_n=5000)"
   ]
  },
  {
   "cell_type": "code",
   "execution_count": 21,
   "id": "9c9bf87e-44c3-437a-a6f1-1018aceca61f",
   "metadata": {},
   "outputs": [],
   "source": [
    "df[\"bow\"] = df[\"review\"].map(my_dict.doc2bow)"
   ]
  },
  {
   "cell_type": "code",
   "execution_count": 22,
   "id": "8a9d1e33-3083-4df8-a8bc-2fa8858d86a9",
   "metadata": {},
   "outputs": [
    {
     "data": {
      "text/html": [
       "<div>\n",
       "<style scoped>\n",
       "    .dataframe tbody tr th:only-of-type {\n",
       "        vertical-align: middle;\n",
       "    }\n",
       "\n",
       "    .dataframe tbody tr th {\n",
       "        vertical-align: top;\n",
       "    }\n",
       "\n",
       "    .dataframe thead th {\n",
       "        text-align: right;\n",
       "    }\n",
       "</style>\n",
       "<table border=\"1\" class=\"dataframe\">\n",
       "  <thead>\n",
       "    <tr style=\"text-align: right;\">\n",
       "      <th></th>\n",
       "      <th>review</th>\n",
       "      <th>sentiment</th>\n",
       "      <th>bow</th>\n",
       "    </tr>\n",
       "  </thead>\n",
       "  <tbody>\n",
       "    <tr>\n",
       "      <th>0</th>\n",
       "      <td>[one, of, the, other, reviewers, has, mentione...</td>\n",
       "      <td>1</td>\n",
       "      <td>[(0, 3), (1, 1), (2, 1), (3, 1), (4, 1), (5, 3...</td>\n",
       "    </tr>\n",
       "    <tr>\n",
       "      <th>1</th>\n",
       "      <td>[a, wonderful, little, production., &lt;br, /&gt;&lt;br...</td>\n",
       "      <td>1</td>\n",
       "      <td>[(0, 3), (3, 3), (5, 4), (6, 1), (8, 2), (10, ...</td>\n",
       "    </tr>\n",
       "    <tr>\n",
       "      <th>2</th>\n",
       "      <td>[i, thought, this, was, a, wonderful, way, to,...</td>\n",
       "      <td>1</td>\n",
       "      <td>[(0, 2), (5, 6), (10, 4), (12, 1), (16, 2), (1...</td>\n",
       "    </tr>\n",
       "    <tr>\n",
       "      <th>3</th>\n",
       "      <td>[basically, there's, a, family, where, a, litt...</td>\n",
       "      <td>0</td>\n",
       "      <td>[(0, 3), (5, 10), (8, 3), (10, 4), (12, 2), (1...</td>\n",
       "    </tr>\n",
       "    <tr>\n",
       "      <th>4</th>\n",
       "      <td>[petter, mattei's, \"love, in, the, time, of, m...</td>\n",
       "      <td>1</td>\n",
       "      <td>[(0, 4), (3, 2), (5, 6), (6, 2), (8, 2), (10, ...</td>\n",
       "    </tr>\n",
       "  </tbody>\n",
       "</table>\n",
       "</div>"
      ],
      "text/plain": [
       "                                              review  sentiment  \\\n",
       "0  [one, of, the, other, reviewers, has, mentione...          1   \n",
       "1  [a, wonderful, little, production., <br, /><br...          1   \n",
       "2  [i, thought, this, was, a, wonderful, way, to,...          1   \n",
       "3  [basically, there's, a, family, where, a, litt...          0   \n",
       "4  [petter, mattei's, \"love, in, the, time, of, m...          1   \n",
       "\n",
       "                                                 bow  \n",
       "0  [(0, 3), (1, 1), (2, 1), (3, 1), (4, 1), (5, 3...  \n",
       "1  [(0, 3), (3, 3), (5, 4), (6, 1), (8, 2), (10, ...  \n",
       "2  [(0, 2), (5, 6), (10, 4), (12, 1), (16, 2), (1...  \n",
       "3  [(0, 3), (5, 10), (8, 3), (10, 4), (12, 2), (1...  \n",
       "4  [(0, 4), (3, 2), (5, 6), (6, 2), (8, 2), (10, ...  "
      ]
     },
     "execution_count": 22,
     "metadata": {},
     "output_type": "execute_result"
    }
   ],
   "source": [
    "df.head()"
   ]
  },
  {
   "cell_type": "code",
   "execution_count": 23,
   "id": "3cec3b09-159a-473c-bee3-8318604b55ec",
   "metadata": {},
   "outputs": [],
   "source": [
    "df2 = pd.concat([pd.DataFrame(s).set_index(0) for s in df[\"bow\"]], axis=1).fillna(0).T.set_index(df.index)"
   ]
  },
  {
   "cell_type": "code",
   "execution_count": 24,
   "id": "9a8a69c6-2cc0-4822-9ddb-0e118a69b996",
   "metadata": {
    "tags": []
   },
   "outputs": [
    {
     "data": {
      "text/html": [
       "<div>\n",
       "<style scoped>\n",
       "    .dataframe tbody tr th:only-of-type {\n",
       "        vertical-align: middle;\n",
       "    }\n",
       "\n",
       "    .dataframe tbody tr th {\n",
       "        vertical-align: top;\n",
       "    }\n",
       "\n",
       "    .dataframe thead th {\n",
       "        text-align: right;\n",
       "    }\n",
       "</style>\n",
       "<table border=\"1\" class=\"dataframe\">\n",
       "  <thead>\n",
       "    <tr style=\"text-align: right;\">\n",
       "      <th></th>\n",
       "      <th>0</th>\n",
       "      <th>1</th>\n",
       "      <th>2</th>\n",
       "      <th>3</th>\n",
       "      <th>4</th>\n",
       "      <th>5</th>\n",
       "      <th>6</th>\n",
       "      <th>7</th>\n",
       "      <th>8</th>\n",
       "      <th>9</th>\n",
       "      <th>...</th>\n",
       "      <th>4990</th>\n",
       "      <th>4991</th>\n",
       "      <th>4992</th>\n",
       "      <th>4993</th>\n",
       "      <th>4994</th>\n",
       "      <th>4995</th>\n",
       "      <th>4996</th>\n",
       "      <th>4997</th>\n",
       "      <th>4998</th>\n",
       "      <th>4999</th>\n",
       "    </tr>\n",
       "  </thead>\n",
       "  <tbody>\n",
       "    <tr>\n",
       "      <th>0</th>\n",
       "      <td>3.0</td>\n",
       "      <td>1.0</td>\n",
       "      <td>1.0</td>\n",
       "      <td>1.0</td>\n",
       "      <td>1.0</td>\n",
       "      <td>3.0</td>\n",
       "      <td>1.0</td>\n",
       "      <td>1.0</td>\n",
       "      <td>1.0</td>\n",
       "      <td>1.0</td>\n",
       "      <td>...</td>\n",
       "      <td>0.0</td>\n",
       "      <td>0.0</td>\n",
       "      <td>0.0</td>\n",
       "      <td>0.0</td>\n",
       "      <td>0.0</td>\n",
       "      <td>0.0</td>\n",
       "      <td>0.0</td>\n",
       "      <td>0.0</td>\n",
       "      <td>0.0</td>\n",
       "      <td>0.0</td>\n",
       "    </tr>\n",
       "    <tr>\n",
       "      <th>1</th>\n",
       "      <td>3.0</td>\n",
       "      <td>0.0</td>\n",
       "      <td>0.0</td>\n",
       "      <td>3.0</td>\n",
       "      <td>0.0</td>\n",
       "      <td>4.0</td>\n",
       "      <td>1.0</td>\n",
       "      <td>0.0</td>\n",
       "      <td>2.0</td>\n",
       "      <td>0.0</td>\n",
       "      <td>...</td>\n",
       "      <td>0.0</td>\n",
       "      <td>0.0</td>\n",
       "      <td>0.0</td>\n",
       "      <td>0.0</td>\n",
       "      <td>0.0</td>\n",
       "      <td>0.0</td>\n",
       "      <td>0.0</td>\n",
       "      <td>0.0</td>\n",
       "      <td>0.0</td>\n",
       "      <td>0.0</td>\n",
       "    </tr>\n",
       "    <tr>\n",
       "      <th>2</th>\n",
       "      <td>2.0</td>\n",
       "      <td>0.0</td>\n",
       "      <td>0.0</td>\n",
       "      <td>0.0</td>\n",
       "      <td>0.0</td>\n",
       "      <td>6.0</td>\n",
       "      <td>0.0</td>\n",
       "      <td>0.0</td>\n",
       "      <td>0.0</td>\n",
       "      <td>0.0</td>\n",
       "      <td>...</td>\n",
       "      <td>0.0</td>\n",
       "      <td>0.0</td>\n",
       "      <td>0.0</td>\n",
       "      <td>0.0</td>\n",
       "      <td>0.0</td>\n",
       "      <td>0.0</td>\n",
       "      <td>0.0</td>\n",
       "      <td>0.0</td>\n",
       "      <td>0.0</td>\n",
       "      <td>0.0</td>\n",
       "    </tr>\n",
       "    <tr>\n",
       "      <th>3</th>\n",
       "      <td>3.0</td>\n",
       "      <td>0.0</td>\n",
       "      <td>0.0</td>\n",
       "      <td>0.0</td>\n",
       "      <td>0.0</td>\n",
       "      <td>10.0</td>\n",
       "      <td>0.0</td>\n",
       "      <td>0.0</td>\n",
       "      <td>3.0</td>\n",
       "      <td>0.0</td>\n",
       "      <td>...</td>\n",
       "      <td>0.0</td>\n",
       "      <td>0.0</td>\n",
       "      <td>0.0</td>\n",
       "      <td>0.0</td>\n",
       "      <td>0.0</td>\n",
       "      <td>0.0</td>\n",
       "      <td>0.0</td>\n",
       "      <td>0.0</td>\n",
       "      <td>0.0</td>\n",
       "      <td>0.0</td>\n",
       "    </tr>\n",
       "    <tr>\n",
       "      <th>4</th>\n",
       "      <td>4.0</td>\n",
       "      <td>0.0</td>\n",
       "      <td>0.0</td>\n",
       "      <td>2.0</td>\n",
       "      <td>0.0</td>\n",
       "      <td>6.0</td>\n",
       "      <td>2.0</td>\n",
       "      <td>0.0</td>\n",
       "      <td>2.0</td>\n",
       "      <td>0.0</td>\n",
       "      <td>...</td>\n",
       "      <td>0.0</td>\n",
       "      <td>0.0</td>\n",
       "      <td>0.0</td>\n",
       "      <td>0.0</td>\n",
       "      <td>0.0</td>\n",
       "      <td>0.0</td>\n",
       "      <td>0.0</td>\n",
       "      <td>0.0</td>\n",
       "      <td>0.0</td>\n",
       "      <td>0.0</td>\n",
       "    </tr>\n",
       "  </tbody>\n",
       "</table>\n",
       "<p>5 rows × 5000 columns</p>\n",
       "</div>"
      ],
      "text/plain": [
       "0  0     1     2     3     4     5     6     7     8     9     ...  4990  \\\n",
       "0   3.0   1.0   1.0   1.0   1.0   3.0   1.0   1.0   1.0   1.0  ...   0.0   \n",
       "1   3.0   0.0   0.0   3.0   0.0   4.0   1.0   0.0   2.0   0.0  ...   0.0   \n",
       "2   2.0   0.0   0.0   0.0   0.0   6.0   0.0   0.0   0.0   0.0  ...   0.0   \n",
       "3   3.0   0.0   0.0   0.0   0.0  10.0   0.0   0.0   3.0   0.0  ...   0.0   \n",
       "4   4.0   0.0   0.0   2.0   0.0   6.0   2.0   0.0   2.0   0.0  ...   0.0   \n",
       "\n",
       "0  4991  4992  4993  4994  4995  4996  4997  4998  4999  \n",
       "0   0.0   0.0   0.0   0.0   0.0   0.0   0.0   0.0   0.0  \n",
       "1   0.0   0.0   0.0   0.0   0.0   0.0   0.0   0.0   0.0  \n",
       "2   0.0   0.0   0.0   0.0   0.0   0.0   0.0   0.0   0.0  \n",
       "3   0.0   0.0   0.0   0.0   0.0   0.0   0.0   0.0   0.0  \n",
       "4   0.0   0.0   0.0   0.0   0.0   0.0   0.0   0.0   0.0  \n",
       "\n",
       "[5 rows x 5000 columns]"
      ]
     },
     "execution_count": 24,
     "metadata": {},
     "output_type": "execute_result"
    }
   ],
   "source": [
    "df2.head()"
   ]
  },
  {
   "cell_type": "code",
   "execution_count": 25,
   "id": "0d1454b0-b9e7-4085-8e5f-9ede6fe89af9",
   "metadata": {},
   "outputs": [
    {
     "data": {
      "text/html": [
       "<div>\n",
       "<style scoped>\n",
       "    .dataframe tbody tr th:only-of-type {\n",
       "        vertical-align: middle;\n",
       "    }\n",
       "\n",
       "    .dataframe tbody tr th {\n",
       "        vertical-align: top;\n",
       "    }\n",
       "\n",
       "    .dataframe thead th {\n",
       "        text-align: right;\n",
       "    }\n",
       "</style>\n",
       "<table border=\"1\" class=\"dataframe\">\n",
       "  <thead>\n",
       "    <tr style=\"text-align: right;\">\n",
       "      <th></th>\n",
       "      <th>0</th>\n",
       "      <th>1</th>\n",
       "      <th>2</th>\n",
       "      <th>3</th>\n",
       "      <th>4</th>\n",
       "      <th>5</th>\n",
       "      <th>6</th>\n",
       "      <th>7</th>\n",
       "      <th>8</th>\n",
       "      <th>9</th>\n",
       "      <th>...</th>\n",
       "      <th>4990</th>\n",
       "      <th>4991</th>\n",
       "      <th>4992</th>\n",
       "      <th>4993</th>\n",
       "      <th>4994</th>\n",
       "      <th>4995</th>\n",
       "      <th>4996</th>\n",
       "      <th>4997</th>\n",
       "      <th>4998</th>\n",
       "      <th>4999</th>\n",
       "    </tr>\n",
       "  </thead>\n",
       "  <tbody>\n",
       "    <tr>\n",
       "      <th>0</th>\n",
       "      <td>3</td>\n",
       "      <td>1</td>\n",
       "      <td>1</td>\n",
       "      <td>1</td>\n",
       "      <td>1</td>\n",
       "      <td>3</td>\n",
       "      <td>1</td>\n",
       "      <td>1</td>\n",
       "      <td>1</td>\n",
       "      <td>1</td>\n",
       "      <td>...</td>\n",
       "      <td>0</td>\n",
       "      <td>0</td>\n",
       "      <td>0</td>\n",
       "      <td>0</td>\n",
       "      <td>0</td>\n",
       "      <td>0</td>\n",
       "      <td>0</td>\n",
       "      <td>0</td>\n",
       "      <td>0</td>\n",
       "      <td>0</td>\n",
       "    </tr>\n",
       "    <tr>\n",
       "      <th>1</th>\n",
       "      <td>3</td>\n",
       "      <td>0</td>\n",
       "      <td>0</td>\n",
       "      <td>3</td>\n",
       "      <td>0</td>\n",
       "      <td>4</td>\n",
       "      <td>1</td>\n",
       "      <td>0</td>\n",
       "      <td>2</td>\n",
       "      <td>0</td>\n",
       "      <td>...</td>\n",
       "      <td>0</td>\n",
       "      <td>0</td>\n",
       "      <td>0</td>\n",
       "      <td>0</td>\n",
       "      <td>0</td>\n",
       "      <td>0</td>\n",
       "      <td>0</td>\n",
       "      <td>0</td>\n",
       "      <td>0</td>\n",
       "      <td>0</td>\n",
       "    </tr>\n",
       "    <tr>\n",
       "      <th>2</th>\n",
       "      <td>2</td>\n",
       "      <td>0</td>\n",
       "      <td>0</td>\n",
       "      <td>0</td>\n",
       "      <td>0</td>\n",
       "      <td>6</td>\n",
       "      <td>0</td>\n",
       "      <td>0</td>\n",
       "      <td>0</td>\n",
       "      <td>0</td>\n",
       "      <td>...</td>\n",
       "      <td>0</td>\n",
       "      <td>0</td>\n",
       "      <td>0</td>\n",
       "      <td>0</td>\n",
       "      <td>0</td>\n",
       "      <td>0</td>\n",
       "      <td>0</td>\n",
       "      <td>0</td>\n",
       "      <td>0</td>\n",
       "      <td>0</td>\n",
       "    </tr>\n",
       "    <tr>\n",
       "      <th>3</th>\n",
       "      <td>3</td>\n",
       "      <td>0</td>\n",
       "      <td>0</td>\n",
       "      <td>0</td>\n",
       "      <td>0</td>\n",
       "      <td>10</td>\n",
       "      <td>0</td>\n",
       "      <td>0</td>\n",
       "      <td>3</td>\n",
       "      <td>0</td>\n",
       "      <td>...</td>\n",
       "      <td>0</td>\n",
       "      <td>0</td>\n",
       "      <td>0</td>\n",
       "      <td>0</td>\n",
       "      <td>0</td>\n",
       "      <td>0</td>\n",
       "      <td>0</td>\n",
       "      <td>0</td>\n",
       "      <td>0</td>\n",
       "      <td>0</td>\n",
       "    </tr>\n",
       "    <tr>\n",
       "      <th>4</th>\n",
       "      <td>4</td>\n",
       "      <td>0</td>\n",
       "      <td>0</td>\n",
       "      <td>2</td>\n",
       "      <td>0</td>\n",
       "      <td>6</td>\n",
       "      <td>2</td>\n",
       "      <td>0</td>\n",
       "      <td>2</td>\n",
       "      <td>0</td>\n",
       "      <td>...</td>\n",
       "      <td>0</td>\n",
       "      <td>0</td>\n",
       "      <td>0</td>\n",
       "      <td>0</td>\n",
       "      <td>0</td>\n",
       "      <td>0</td>\n",
       "      <td>0</td>\n",
       "      <td>0</td>\n",
       "      <td>0</td>\n",
       "      <td>0</td>\n",
       "    </tr>\n",
       "    <tr>\n",
       "      <th>...</th>\n",
       "      <td>...</td>\n",
       "      <td>...</td>\n",
       "      <td>...</td>\n",
       "      <td>...</td>\n",
       "      <td>...</td>\n",
       "      <td>...</td>\n",
       "      <td>...</td>\n",
       "      <td>...</td>\n",
       "      <td>...</td>\n",
       "      <td>...</td>\n",
       "      <td>...</td>\n",
       "      <td>...</td>\n",
       "      <td>...</td>\n",
       "      <td>...</td>\n",
       "      <td>...</td>\n",
       "      <td>...</td>\n",
       "      <td>...</td>\n",
       "      <td>...</td>\n",
       "      <td>...</td>\n",
       "      <td>...</td>\n",
       "      <td>...</td>\n",
       "    </tr>\n",
       "    <tr>\n",
       "      <th>49995</th>\n",
       "      <td>2</td>\n",
       "      <td>0</td>\n",
       "      <td>0</td>\n",
       "      <td>0</td>\n",
       "      <td>0</td>\n",
       "      <td>5</td>\n",
       "      <td>1</td>\n",
       "      <td>0</td>\n",
       "      <td>0</td>\n",
       "      <td>0</td>\n",
       "      <td>...</td>\n",
       "      <td>0</td>\n",
       "      <td>0</td>\n",
       "      <td>0</td>\n",
       "      <td>0</td>\n",
       "      <td>0</td>\n",
       "      <td>0</td>\n",
       "      <td>0</td>\n",
       "      <td>0</td>\n",
       "      <td>0</td>\n",
       "      <td>0</td>\n",
       "    </tr>\n",
       "    <tr>\n",
       "      <th>49996</th>\n",
       "      <td>2</td>\n",
       "      <td>0</td>\n",
       "      <td>0</td>\n",
       "      <td>1</td>\n",
       "      <td>0</td>\n",
       "      <td>3</td>\n",
       "      <td>0</td>\n",
       "      <td>0</td>\n",
       "      <td>1</td>\n",
       "      <td>0</td>\n",
       "      <td>...</td>\n",
       "      <td>0</td>\n",
       "      <td>0</td>\n",
       "      <td>0</td>\n",
       "      <td>0</td>\n",
       "      <td>0</td>\n",
       "      <td>0</td>\n",
       "      <td>0</td>\n",
       "      <td>0</td>\n",
       "      <td>0</td>\n",
       "      <td>0</td>\n",
       "    </tr>\n",
       "    <tr>\n",
       "      <th>49997</th>\n",
       "      <td>2</td>\n",
       "      <td>0</td>\n",
       "      <td>0</td>\n",
       "      <td>0</td>\n",
       "      <td>0</td>\n",
       "      <td>7</td>\n",
       "      <td>0</td>\n",
       "      <td>0</td>\n",
       "      <td>1</td>\n",
       "      <td>1</td>\n",
       "      <td>...</td>\n",
       "      <td>0</td>\n",
       "      <td>0</td>\n",
       "      <td>0</td>\n",
       "      <td>0</td>\n",
       "      <td>0</td>\n",
       "      <td>0</td>\n",
       "      <td>0</td>\n",
       "      <td>0</td>\n",
       "      <td>0</td>\n",
       "      <td>0</td>\n",
       "    </tr>\n",
       "    <tr>\n",
       "      <th>49998</th>\n",
       "      <td>0</td>\n",
       "      <td>0</td>\n",
       "      <td>0</td>\n",
       "      <td>0</td>\n",
       "      <td>0</td>\n",
       "      <td>3</td>\n",
       "      <td>1</td>\n",
       "      <td>0</td>\n",
       "      <td>1</td>\n",
       "      <td>0</td>\n",
       "      <td>...</td>\n",
       "      <td>0</td>\n",
       "      <td>0</td>\n",
       "      <td>0</td>\n",
       "      <td>0</td>\n",
       "      <td>0</td>\n",
       "      <td>0</td>\n",
       "      <td>0</td>\n",
       "      <td>0</td>\n",
       "      <td>0</td>\n",
       "      <td>0</td>\n",
       "    </tr>\n",
       "    <tr>\n",
       "      <th>49999</th>\n",
       "      <td>1</td>\n",
       "      <td>1</td>\n",
       "      <td>0</td>\n",
       "      <td>0</td>\n",
       "      <td>0</td>\n",
       "      <td>3</td>\n",
       "      <td>1</td>\n",
       "      <td>0</td>\n",
       "      <td>1</td>\n",
       "      <td>0</td>\n",
       "      <td>...</td>\n",
       "      <td>0</td>\n",
       "      <td>0</td>\n",
       "      <td>0</td>\n",
       "      <td>0</td>\n",
       "      <td>0</td>\n",
       "      <td>0</td>\n",
       "      <td>0</td>\n",
       "      <td>0</td>\n",
       "      <td>0</td>\n",
       "      <td>0</td>\n",
       "    </tr>\n",
       "  </tbody>\n",
       "</table>\n",
       "<p>50000 rows × 5000 columns</p>\n",
       "</div>"
      ],
      "text/plain": [
       "0      0     1     2     3     4     5     6     7     8     9     ...  4990  \\\n",
       "0         3     1     1     1     1     3     1     1     1     1  ...     0   \n",
       "1         3     0     0     3     0     4     1     0     2     0  ...     0   \n",
       "2         2     0     0     0     0     6     0     0     0     0  ...     0   \n",
       "3         3     0     0     0     0    10     0     0     3     0  ...     0   \n",
       "4         4     0     0     2     0     6     2     0     2     0  ...     0   \n",
       "...     ...   ...   ...   ...   ...   ...   ...   ...   ...   ...  ...   ...   \n",
       "49995     2     0     0     0     0     5     1     0     0     0  ...     0   \n",
       "49996     2     0     0     1     0     3     0     0     1     0  ...     0   \n",
       "49997     2     0     0     0     0     7     0     0     1     1  ...     0   \n",
       "49998     0     0     0     0     0     3     1     0     1     0  ...     0   \n",
       "49999     1     1     0     0     0     3     1     0     1     0  ...     0   \n",
       "\n",
       "0      4991  4992  4993  4994  4995  4996  4997  4998  4999  \n",
       "0         0     0     0     0     0     0     0     0     0  \n",
       "1         0     0     0     0     0     0     0     0     0  \n",
       "2         0     0     0     0     0     0     0     0     0  \n",
       "3         0     0     0     0     0     0     0     0     0  \n",
       "4         0     0     0     0     0     0     0     0     0  \n",
       "...     ...   ...   ...   ...   ...   ...   ...   ...   ...  \n",
       "49995     0     0     0     0     0     0     0     0     0  \n",
       "49996     0     0     0     0     0     0     0     0     0  \n",
       "49997     0     0     0     0     0     0     0     0     0  \n",
       "49998     0     0     0     0     0     0     0     0     0  \n",
       "49999     0     0     0     0     0     0     0     0     0  \n",
       "\n",
       "[50000 rows x 5000 columns]"
      ]
     },
     "execution_count": 25,
     "metadata": {},
     "output_type": "execute_result"
    }
   ],
   "source": [
    "df2.astype('int32')"
   ]
  },
  {
   "cell_type": "code",
   "execution_count": 26,
   "id": "6fa2fa2d-12ba-4be0-932e-d31938b8b0ef",
   "metadata": {},
   "outputs": [
    {
     "data": {
      "text/plain": [
       "(50000, 5000)"
      ]
     },
     "execution_count": 26,
     "metadata": {},
     "output_type": "execute_result"
    }
   ],
   "source": [
    "df2.shape"
   ]
  },
  {
   "cell_type": "code",
   "execution_count": 27,
   "id": "c8b5d968-157c-40bc-8d00-cb20e9af0be9",
   "metadata": {},
   "outputs": [
    {
     "data": {
      "text/plain": [
       "0        1\n",
       "1        1\n",
       "2        1\n",
       "3        0\n",
       "4        1\n",
       "        ..\n",
       "49995    1\n",
       "49996    0\n",
       "49997    0\n",
       "49998    0\n",
       "49999    0\n",
       "Name: sentiment, Length: 50000, dtype: int64"
      ]
     },
     "execution_count": 27,
     "metadata": {},
     "output_type": "execute_result"
    }
   ],
   "source": [
    "df['sentiment']"
   ]
  },
  {
   "cell_type": "code",
   "execution_count": 28,
   "id": "37e7f718-801a-46b2-a9a8-104ca51ae322",
   "metadata": {
    "tags": []
   },
   "outputs": [],
   "source": [
    "df_preprocessed = pd.concat([df2,df['sentiment']], axis=1)"
   ]
  },
  {
   "cell_type": "code",
   "execution_count": 29,
   "id": "a25d7cd5-4a59-4a19-8520-19c28b06aad8",
   "metadata": {},
   "outputs": [
    {
     "name": "stdout",
     "output_type": "stream",
     "text": [
      "<class 'pandas.core.frame.DataFrame'>\n",
      "RangeIndex: 50000 entries, 0 to 49999\n",
      "Columns: 5001 entries, 0 to sentiment\n",
      "dtypes: float64(5000), int64(1)\n",
      "memory usage: 1.9 GB\n"
     ]
    }
   ],
   "source": [
    "df_preprocessed.info()"
   ]
  },
  {
   "cell_type": "code",
   "execution_count": 30,
   "id": "5b70f614-6ce0-4952-9ad1-452a17fd1332",
   "metadata": {},
   "outputs": [
    {
     "data": {
      "text/html": [
       "<div>\n",
       "<style scoped>\n",
       "    .dataframe tbody tr th:only-of-type {\n",
       "        vertical-align: middle;\n",
       "    }\n",
       "\n",
       "    .dataframe tbody tr th {\n",
       "        vertical-align: top;\n",
       "    }\n",
       "\n",
       "    .dataframe thead th {\n",
       "        text-align: right;\n",
       "    }\n",
       "</style>\n",
       "<table border=\"1\" class=\"dataframe\">\n",
       "  <thead>\n",
       "    <tr style=\"text-align: right;\">\n",
       "      <th></th>\n",
       "      <th>0</th>\n",
       "      <th>1</th>\n",
       "      <th>2</th>\n",
       "      <th>3</th>\n",
       "      <th>4</th>\n",
       "      <th>5</th>\n",
       "      <th>6</th>\n",
       "      <th>7</th>\n",
       "      <th>8</th>\n",
       "      <th>9</th>\n",
       "      <th>...</th>\n",
       "      <th>4991</th>\n",
       "      <th>4992</th>\n",
       "      <th>4993</th>\n",
       "      <th>4994</th>\n",
       "      <th>4995</th>\n",
       "      <th>4996</th>\n",
       "      <th>4997</th>\n",
       "      <th>4998</th>\n",
       "      <th>4999</th>\n",
       "      <th>sentiment</th>\n",
       "    </tr>\n",
       "  </thead>\n",
       "  <tbody>\n",
       "    <tr>\n",
       "      <th>0</th>\n",
       "      <td>3.0</td>\n",
       "      <td>1.0</td>\n",
       "      <td>1.0</td>\n",
       "      <td>1.0</td>\n",
       "      <td>1.0</td>\n",
       "      <td>3.0</td>\n",
       "      <td>1.0</td>\n",
       "      <td>1.0</td>\n",
       "      <td>1.0</td>\n",
       "      <td>1.0</td>\n",
       "      <td>...</td>\n",
       "      <td>0.0</td>\n",
       "      <td>0.0</td>\n",
       "      <td>0.0</td>\n",
       "      <td>0.0</td>\n",
       "      <td>0.0</td>\n",
       "      <td>0.0</td>\n",
       "      <td>0.0</td>\n",
       "      <td>0.0</td>\n",
       "      <td>0.0</td>\n",
       "      <td>1</td>\n",
       "    </tr>\n",
       "    <tr>\n",
       "      <th>1</th>\n",
       "      <td>3.0</td>\n",
       "      <td>0.0</td>\n",
       "      <td>0.0</td>\n",
       "      <td>3.0</td>\n",
       "      <td>0.0</td>\n",
       "      <td>4.0</td>\n",
       "      <td>1.0</td>\n",
       "      <td>0.0</td>\n",
       "      <td>2.0</td>\n",
       "      <td>0.0</td>\n",
       "      <td>...</td>\n",
       "      <td>0.0</td>\n",
       "      <td>0.0</td>\n",
       "      <td>0.0</td>\n",
       "      <td>0.0</td>\n",
       "      <td>0.0</td>\n",
       "      <td>0.0</td>\n",
       "      <td>0.0</td>\n",
       "      <td>0.0</td>\n",
       "      <td>0.0</td>\n",
       "      <td>1</td>\n",
       "    </tr>\n",
       "    <tr>\n",
       "      <th>2</th>\n",
       "      <td>2.0</td>\n",
       "      <td>0.0</td>\n",
       "      <td>0.0</td>\n",
       "      <td>0.0</td>\n",
       "      <td>0.0</td>\n",
       "      <td>6.0</td>\n",
       "      <td>0.0</td>\n",
       "      <td>0.0</td>\n",
       "      <td>0.0</td>\n",
       "      <td>0.0</td>\n",
       "      <td>...</td>\n",
       "      <td>0.0</td>\n",
       "      <td>0.0</td>\n",
       "      <td>0.0</td>\n",
       "      <td>0.0</td>\n",
       "      <td>0.0</td>\n",
       "      <td>0.0</td>\n",
       "      <td>0.0</td>\n",
       "      <td>0.0</td>\n",
       "      <td>0.0</td>\n",
       "      <td>1</td>\n",
       "    </tr>\n",
       "    <tr>\n",
       "      <th>3</th>\n",
       "      <td>3.0</td>\n",
       "      <td>0.0</td>\n",
       "      <td>0.0</td>\n",
       "      <td>0.0</td>\n",
       "      <td>0.0</td>\n",
       "      <td>10.0</td>\n",
       "      <td>0.0</td>\n",
       "      <td>0.0</td>\n",
       "      <td>3.0</td>\n",
       "      <td>0.0</td>\n",
       "      <td>...</td>\n",
       "      <td>0.0</td>\n",
       "      <td>0.0</td>\n",
       "      <td>0.0</td>\n",
       "      <td>0.0</td>\n",
       "      <td>0.0</td>\n",
       "      <td>0.0</td>\n",
       "      <td>0.0</td>\n",
       "      <td>0.0</td>\n",
       "      <td>0.0</td>\n",
       "      <td>0</td>\n",
       "    </tr>\n",
       "    <tr>\n",
       "      <th>4</th>\n",
       "      <td>4.0</td>\n",
       "      <td>0.0</td>\n",
       "      <td>0.0</td>\n",
       "      <td>2.0</td>\n",
       "      <td>0.0</td>\n",
       "      <td>6.0</td>\n",
       "      <td>2.0</td>\n",
       "      <td>0.0</td>\n",
       "      <td>2.0</td>\n",
       "      <td>0.0</td>\n",
       "      <td>...</td>\n",
       "      <td>0.0</td>\n",
       "      <td>0.0</td>\n",
       "      <td>0.0</td>\n",
       "      <td>0.0</td>\n",
       "      <td>0.0</td>\n",
       "      <td>0.0</td>\n",
       "      <td>0.0</td>\n",
       "      <td>0.0</td>\n",
       "      <td>0.0</td>\n",
       "      <td>1</td>\n",
       "    </tr>\n",
       "  </tbody>\n",
       "</table>\n",
       "<p>5 rows × 5001 columns</p>\n",
       "</div>"
      ],
      "text/plain": [
       "     0    1    2    3    4     5    6    7    8    9  ...  4991  4992  4993  \\\n",
       "0  3.0  1.0  1.0  1.0  1.0   3.0  1.0  1.0  1.0  1.0  ...   0.0   0.0   0.0   \n",
       "1  3.0  0.0  0.0  3.0  0.0   4.0  1.0  0.0  2.0  0.0  ...   0.0   0.0   0.0   \n",
       "2  2.0  0.0  0.0  0.0  0.0   6.0  0.0  0.0  0.0  0.0  ...   0.0   0.0   0.0   \n",
       "3  3.0  0.0  0.0  0.0  0.0  10.0  0.0  0.0  3.0  0.0  ...   0.0   0.0   0.0   \n",
       "4  4.0  0.0  0.0  2.0  0.0   6.0  2.0  0.0  2.0  0.0  ...   0.0   0.0   0.0   \n",
       "\n",
       "   4994  4995  4996  4997  4998  4999  sentiment  \n",
       "0   0.0   0.0   0.0   0.0   0.0   0.0          1  \n",
       "1   0.0   0.0   0.0   0.0   0.0   0.0          1  \n",
       "2   0.0   0.0   0.0   0.0   0.0   0.0          1  \n",
       "3   0.0   0.0   0.0   0.0   0.0   0.0          0  \n",
       "4   0.0   0.0   0.0   0.0   0.0   0.0          1  \n",
       "\n",
       "[5 rows x 5001 columns]"
      ]
     },
     "execution_count": 30,
     "metadata": {},
     "output_type": "execute_result"
    }
   ],
   "source": [
    "df_preprocessed.head()"
   ]
  },
  {
   "cell_type": "code",
   "execution_count": 31,
   "id": "b85e48c8-fd40-4511-8576-f93cee081ffd",
   "metadata": {},
   "outputs": [
    {
     "data": {
      "text/plain": [
       "0"
      ]
     },
     "execution_count": 31,
     "metadata": {},
     "output_type": "execute_result"
    }
   ],
   "source": [
    "del df\n",
    "del df2\n",
    "del my_dict\n",
    "gc.collect()"
   ]
  },
  {
   "cell_type": "markdown",
   "id": "7c99ba2b-c821-42e1-8ca0-667874990c51",
   "metadata": {},
   "source": [
    "## Check balance"
   ]
  },
  {
   "cell_type": "code",
   "execution_count": 32,
   "id": "15267e53-2587-4a97-a93f-5a15a0e4c802",
   "metadata": {
    "tags": []
   },
   "outputs": [
    {
     "data": {
      "text/plain": [
       "1    25000\n",
       "0    25000\n",
       "Name: sentiment, dtype: int64"
      ]
     },
     "execution_count": 32,
     "metadata": {},
     "output_type": "execute_result"
    }
   ],
   "source": [
    "df_preprocessed['sentiment'].value_counts()"
   ]
  },
  {
   "cell_type": "code",
   "execution_count": 33,
   "id": "b8e5f0e9-394d-459e-bb51-ba6c9b352413",
   "metadata": {},
   "outputs": [],
   "source": [
    "sum_token = df_preprocessed.iloc[:, :5000].sum(axis=1)"
   ]
  },
  {
   "cell_type": "code",
   "execution_count": 34,
   "id": "97b0dee6-25e0-449e-8811-8c349f323036",
   "metadata": {},
   "outputs": [],
   "source": [
    "df_check_token_balanced = pd.concat([sum_token, df_preprocessed['sentiment']], axis=1)"
   ]
  },
  {
   "cell_type": "code",
   "execution_count": 35,
   "id": "ee61abe2-27f1-48c3-8a10-5c5631356738",
   "metadata": {},
   "outputs": [
    {
     "data": {
      "text/plain": [
       "Index([0, 'sentiment'], dtype='object')"
      ]
     },
     "execution_count": 35,
     "metadata": {},
     "output_type": "execute_result"
    }
   ],
   "source": [
    "df_check_token_balanced.columns"
   ]
  },
  {
   "cell_type": "code",
   "execution_count": 36,
   "id": "876ab18f-db3c-4904-a112-6fd4b2f77736",
   "metadata": {},
   "outputs": [
    {
     "data": {
      "text/plain": [
       "array([116.,   0.])"
      ]
     },
     "execution_count": 36,
     "metadata": {},
     "output_type": "execute_result"
    }
   ],
   "source": [
    "df_check_token_balanced.iloc[-1].unique()"
   ]
  },
  {
   "cell_type": "code",
   "execution_count": 37,
   "id": "3988c38c-75f9-4dc3-8116-e72e72d9215b",
   "metadata": {},
   "outputs": [
    {
     "data": {
      "text/plain": [
       "0       sentiment\n",
       "117.0   1            212\n",
       "115.0   0            210\n",
       "111.0   0            207\n",
       "113.0   0            202\n",
       "119.0   0            197\n",
       "                    ... \n",
       "740.0   0              1\n",
       "741.0   1              1\n",
       "743.0   1              1\n",
       "744.0   1              1\n",
       "1909.0  1              1\n",
       "Length: 1676, dtype: int64"
      ]
     },
     "execution_count": 37,
     "metadata": {},
     "output_type": "execute_result"
    }
   ],
   "source": [
    "df_check_token_balanced.value_counts()"
   ]
  },
  {
   "cell_type": "code",
   "execution_count": 38,
   "id": "346ccbbb-bc48-4f1a-81b4-b815d53cabb1",
   "metadata": {},
   "outputs": [],
   "source": [
    "df_check_token_balanced.columns =['sum_token', 'sentiment']"
   ]
  },
  {
   "cell_type": "code",
   "execution_count": 39,
   "id": "d0a0852e-d927-4fd8-8110-864e2a48b878",
   "metadata": {},
   "outputs": [
    {
     "data": {
      "text/html": [
       "<div>\n",
       "<style scoped>\n",
       "    .dataframe tbody tr th:only-of-type {\n",
       "        vertical-align: middle;\n",
       "    }\n",
       "\n",
       "    .dataframe tbody tr th {\n",
       "        vertical-align: top;\n",
       "    }\n",
       "\n",
       "    .dataframe thead th {\n",
       "        text-align: right;\n",
       "    }\n",
       "</style>\n",
       "<table border=\"1\" class=\"dataframe\">\n",
       "  <thead>\n",
       "    <tr style=\"text-align: right;\">\n",
       "      <th></th>\n",
       "      <th>sum_token</th>\n",
       "      <th>sentiment</th>\n",
       "    </tr>\n",
       "  </thead>\n",
       "  <tbody>\n",
       "    <tr>\n",
       "      <th>0</th>\n",
       "      <td>248.0</td>\n",
       "      <td>1</td>\n",
       "    </tr>\n",
       "    <tr>\n",
       "      <th>1</th>\n",
       "      <td>133.0</td>\n",
       "      <td>1</td>\n",
       "    </tr>\n",
       "    <tr>\n",
       "      <th>2</th>\n",
       "      <td>140.0</td>\n",
       "      <td>1</td>\n",
       "    </tr>\n",
       "    <tr>\n",
       "      <th>3</th>\n",
       "      <td>117.0</td>\n",
       "      <td>0</td>\n",
       "    </tr>\n",
       "    <tr>\n",
       "      <th>4</th>\n",
       "      <td>193.0</td>\n",
       "      <td>1</td>\n",
       "    </tr>\n",
       "  </tbody>\n",
       "</table>\n",
       "</div>"
      ],
      "text/plain": [
       "   sum_token  sentiment\n",
       "0      248.0          1\n",
       "1      133.0          1\n",
       "2      140.0          1\n",
       "3      117.0          0\n",
       "4      193.0          1"
      ]
     },
     "execution_count": 39,
     "metadata": {},
     "output_type": "execute_result"
    }
   ],
   "source": [
    "df_check_token_balanced.head()"
   ]
  },
  {
   "cell_type": "code",
   "execution_count": 40,
   "id": "7a3aab7e-b68a-4969-bc62-7810ce1ea623",
   "metadata": {},
   "outputs": [
    {
     "data": {
      "text/plain": [
       "<AxesSubplot:xlabel='sentiment', ylabel='sum_token'>"
      ]
     },
     "execution_count": 40,
     "metadata": {},
     "output_type": "execute_result"
    },
    {
     "data": {
      "image/png": "[encoded data removed]",
      "text/plain": [
       "<Figure size 432x288 with 1 Axes>"
      ]
     },
     "metadata": {
      "needs_background": "light"
     },
     "output_type": "display_data"
    }
   ],
   "source": [
    "sns.barplot(data = df_check_token_balanced, x = \"sentiment\" , y =\"sum_token\")"
   ]
  },
  {
   "cell_type": "code",
   "execution_count": 41,
   "id": "7c66c27d-5ad5-47e3-8d79-06e7bdff328e",
   "metadata": {},
   "outputs": [
    {
     "data": {
      "text/plain": [
       "<AxesSubplot:xlabel='sentiment', ylabel='sum_token'>"
      ]
     },
     "execution_count": 41,
     "metadata": {},
     "output_type": "execute_result"
    },
    {
     "data": {
      "image/png": "[encoded data removed]",
      "text/plain": [
       "<Figure size 432x288 with 1 Axes>"
      ]
     },
     "metadata": {
      "needs_background": "light"
     },
     "output_type": "display_data"
    }
   ],
   "source": [
    "sns.scatterplot(data = df_check_token_balanced, x = \"sentiment\" , y =\"sum_token\")"
   ]
  },
  {
   "cell_type": "code",
   "execution_count": 42,
   "id": "b0e0fc0b-4071-4aaf-b33a-281a4f917685",
   "metadata": {},
   "outputs": [],
   "source": [
    "# this line takes 5mins+ and may use up all memories\n",
    "# df_preprocessed.to_csv('data_processed.csv', header=0)"
   ]
  },
  {
   "cell_type": "markdown",
   "id": "616d2a09-75be-4437-9bf8-043331a9b2ab",
   "metadata": {},
   "source": [
    "del df_check_token_balanced\n",
    "gc.collect()"
   ]
  },
  {
   "cell_type": "markdown",
   "id": "bff4162a-210c-4107-8e93-68fc81cb5b9a",
   "metadata": {
    "tags": []
   },
   "source": [
    "# Declaring observations and targets"
   ]
  },
  {
   "cell_type": "code",
   "execution_count": 43,
   "id": "cb488d81-0983-4af4-9684-0191e28c9120",
   "metadata": {},
   "outputs": [
    {
     "data": {
      "text/plain": [
       "(50000, 5001)"
      ]
     },
     "execution_count": 43,
     "metadata": {},
     "output_type": "execute_result"
    }
   ],
   "source": [
    "df_preprocessed.shape"
   ]
  },
  {
   "cell_type": "code",
   "execution_count": 44,
   "id": "f1277479-7f8d-43a8-b7ae-6f7335f8de78",
   "metadata": {},
   "outputs": [],
   "source": [
    "df_preprocessed = df_preprocessed.astype('float32')"
   ]
  },
  {
   "cell_type": "code",
   "execution_count": 45,
   "id": "7c718fbe-2172-44ad-9c9a-1ec189e02657",
   "metadata": {},
   "outputs": [],
   "source": [
    "#df_preprocessed.iloc[-1]"
   ]
  },
  {
   "cell_type": "code",
   "execution_count": 46,
   "id": "52cb13fc-1f93-4942-a468-3f153bd8dee7",
   "metadata": {},
   "outputs": [],
   "source": [
    "X = df_preprocessed.iloc[:, :5000]"
   ]
  },
  {
   "cell_type": "code",
   "execution_count": 47,
   "id": "61875c42-5449-4960-9e8a-47b36c1d0dfb",
   "metadata": {},
   "outputs": [],
   "source": [
    "y = df_preprocessed.iloc[:, -1].copy()"
   ]
  },
  {
   "cell_type": "code",
   "execution_count": 48,
   "id": "27710501-6256-45c8-8919-2cb4b44c9ca3",
   "metadata": {},
   "outputs": [
    {
     "data": {
      "text/html": [
       "<div>\n",
       "<style scoped>\n",
       "    .dataframe tbody tr th:only-of-type {\n",
       "        vertical-align: middle;\n",
       "    }\n",
       "\n",
       "    .dataframe tbody tr th {\n",
       "        vertical-align: top;\n",
       "    }\n",
       "\n",
       "    .dataframe thead th {\n",
       "        text-align: right;\n",
       "    }\n",
       "</style>\n",
       "<table border=\"1\" class=\"dataframe\">\n",
       "  <thead>\n",
       "    <tr style=\"text-align: right;\">\n",
       "      <th></th>\n",
       "      <th>0</th>\n",
       "      <th>1</th>\n",
       "      <th>2</th>\n",
       "      <th>3</th>\n",
       "      <th>4</th>\n",
       "      <th>5</th>\n",
       "      <th>6</th>\n",
       "      <th>7</th>\n",
       "      <th>8</th>\n",
       "      <th>9</th>\n",
       "      <th>...</th>\n",
       "      <th>4990</th>\n",
       "      <th>4991</th>\n",
       "      <th>4992</th>\n",
       "      <th>4993</th>\n",
       "      <th>4994</th>\n",
       "      <th>4995</th>\n",
       "      <th>4996</th>\n",
       "      <th>4997</th>\n",
       "      <th>4998</th>\n",
       "      <th>4999</th>\n",
       "    </tr>\n",
       "  </thead>\n",
       "  <tbody>\n",
       "    <tr>\n",
       "      <th>0</th>\n",
       "      <td>3.0</td>\n",
       "      <td>1.0</td>\n",
       "      <td>1.0</td>\n",
       "      <td>1.0</td>\n",
       "      <td>1.0</td>\n",
       "      <td>3.0</td>\n",
       "      <td>1.0</td>\n",
       "      <td>1.0</td>\n",
       "      <td>1.0</td>\n",
       "      <td>1.0</td>\n",
       "      <td>...</td>\n",
       "      <td>0.0</td>\n",
       "      <td>0.0</td>\n",
       "      <td>0.0</td>\n",
       "      <td>0.0</td>\n",
       "      <td>0.0</td>\n",
       "      <td>0.0</td>\n",
       "      <td>0.0</td>\n",
       "      <td>0.0</td>\n",
       "      <td>0.0</td>\n",
       "      <td>0.0</td>\n",
       "    </tr>\n",
       "    <tr>\n",
       "      <th>1</th>\n",
       "      <td>3.0</td>\n",
       "      <td>0.0</td>\n",
       "      <td>0.0</td>\n",
       "      <td>3.0</td>\n",
       "      <td>0.0</td>\n",
       "      <td>4.0</td>\n",
       "      <td>1.0</td>\n",
       "      <td>0.0</td>\n",
       "      <td>2.0</td>\n",
       "      <td>0.0</td>\n",
       "      <td>...</td>\n",
       "      <td>0.0</td>\n",
       "      <td>0.0</td>\n",
       "      <td>0.0</td>\n",
       "      <td>0.0</td>\n",
       "      <td>0.0</td>\n",
       "      <td>0.0</td>\n",
       "      <td>0.0</td>\n",
       "      <td>0.0</td>\n",
       "      <td>0.0</td>\n",
       "      <td>0.0</td>\n",
       "    </tr>\n",
       "  </tbody>\n",
       "</table>\n",
       "<p>2 rows × 5000 columns</p>\n",
       "</div>"
      ],
      "text/plain": [
       "   0     1     2     3     4     5     6     7     8     9     ...  4990  \\\n",
       "0   3.0   1.0   1.0   1.0   1.0   3.0   1.0   1.0   1.0   1.0  ...   0.0   \n",
       "1   3.0   0.0   0.0   3.0   0.0   4.0   1.0   0.0   2.0   0.0  ...   0.0   \n",
       "\n",
       "   4991  4992  4993  4994  4995  4996  4997  4998  4999  \n",
       "0   0.0   0.0   0.0   0.0   0.0   0.0   0.0   0.0   0.0  \n",
       "1   0.0   0.0   0.0   0.0   0.0   0.0   0.0   0.0   0.0  \n",
       "\n",
       "[2 rows x 5000 columns]"
      ]
     },
     "execution_count": 48,
     "metadata": {},
     "output_type": "execute_result"
    }
   ],
   "source": [
    "X.head(2)"
   ]
  },
  {
   "cell_type": "code",
   "execution_count": 49,
   "id": "e762c5cb-5ec6-43eb-aa7d-959cfe741d28",
   "metadata": {},
   "outputs": [
    {
     "data": {
      "text/plain": [
       "0    1.0\n",
       "1    1.0\n",
       "Name: sentiment, dtype: float32"
      ]
     },
     "execution_count": 49,
     "metadata": {},
     "output_type": "execute_result"
    }
   ],
   "source": [
    "y.head(2)"
   ]
  },
  {
   "cell_type": "code",
   "execution_count": 50,
   "id": "a67fd670-df44-4331-81a3-8aed7e72ca22",
   "metadata": {},
   "outputs": [
    {
     "data": {
      "text/plain": [
       "0"
      ]
     },
     "execution_count": 50,
     "metadata": {},
     "output_type": "execute_result"
    }
   ],
   "source": [
    "del df_preprocessed\n",
    "gc.collect()"
   ]
  },
  {
   "cell_type": "markdown",
   "id": "5cf67809-0231-4c28-8221-2893eda011fa",
   "metadata": {},
   "source": [
    "# Standardize X"
   ]
  },
  {
   "cell_type": "code",
   "execution_count": 51,
   "id": "f0208464-68f0-46f0-80b9-b776285b06b9",
   "metadata": {},
   "outputs": [],
   "source": [
    "scaler = StandardScaler()\n",
    "X_scaled = scaler.fit_transform(X)"
   ]
  },
  {
   "cell_type": "markdown",
   "id": "30392b7b-3696-4f46-823d-c8ea057667fb",
   "metadata": {},
   "source": [
    "# Train test split"
   ]
  },
  {
   "cell_type": "code",
   "execution_count": 52,
   "id": "c2a3cfab-aee8-43ea-a98a-a30e3f7fff9d",
   "metadata": {},
   "outputs": [],
   "source": [
    "X_train, X_test, y_train, y_test = train_test_split(X_scaled,y, test_size= 0.2, random_state = 42)"
   ]
  },
  {
   "cell_type": "code",
   "execution_count": 53,
   "id": "d1d46ba0-6020-4bd6-b6a2-877db2deacc9",
   "metadata": {},
   "outputs": [],
   "source": [
    "#y_train.info()"
   ]
  },
  {
   "cell_type": "code",
   "execution_count": 54,
   "id": "89d8ccd4-67d1-4c1e-a5b1-7cac47401ea2",
   "metadata": {},
   "outputs": [],
   "source": [
    "y_train = y_train.astype('float32')\n",
    "y_test = y_test.astype('float32')"
   ]
  },
  {
   "cell_type": "code",
   "execution_count": 55,
   "id": "ddccf032-d1df-4132-89bf-95df7554005a",
   "metadata": {},
   "outputs": [
    {
     "name": "stdout",
     "output_type": "stream",
     "text": [
      "(40000, 5000)\n",
      "(10000, 5000)\n",
      "(40000,)\n",
      "(10000,)\n"
     ]
    }
   ],
   "source": [
    "print(X_train.shape)\n",
    "print(X_test.shape)\n",
    "print(y_train.shape)\n",
    "print(y_test.shape)"
   ]
  },
  {
   "cell_type": "code",
   "execution_count": 56,
   "id": "e16d9018-88c2-4d80-8ebd-c9a205425ccc",
   "metadata": {},
   "outputs": [
    {
     "data": {
      "text/plain": [
       "0"
      ]
     },
     "execution_count": 56,
     "metadata": {},
     "output_type": "execute_result"
    }
   ],
   "source": [
    "del X_scaled,y\n",
    "gc.collect()"
   ]
  },
  {
   "cell_type": "markdown",
   "id": "b29ab2bb-5cfa-4977-8ab1-1f68e34c45bb",
   "metadata": {},
   "source": [
    "# Network functions"
   ]
  },
  {
   "cell_type": "code",
   "execution_count": 57,
   "id": "7d6d6043-d86f-43dc-a7a9-d3b216bc3fc6",
   "metadata": {},
   "outputs": [],
   "source": [
    "BATCH_SIZE = 500\n",
    "STEPS_PER_EPOCH = 40000/BATCH_SIZE"
   ]
  },
  {
   "cell_type": "code",
   "execution_count": 58,
   "id": "fe05b1c0-4130-43a7-81bd-3a8af9cd5e25",
   "metadata": {},
   "outputs": [],
   "source": [
    "lr_schedule = tf.keras.optimizers.schedules.InverseTimeDecay(\n",
    "  0.001,\n",
    "  decay_steps=STEPS_PER_EPOCH*1000,\n",
    "  decay_rate=1,\n",
    "  staircase=False)"
   ]
  },
  {
   "cell_type": "code",
   "execution_count": 59,
   "id": "2719b2a4-9905-4e81-a405-a685ee2c51ce",
   "metadata": {},
   "outputs": [],
   "source": [
    "def get_optimizer():\n",
    "    return tf.keras.optimizers.Adam(lr_schedule)"
   ]
  },
  {
   "cell_type": "code",
   "execution_count": 60,
   "id": "c5d1dfdf-b251-4f9c-8f96-3b0581ad2225",
   "metadata": {},
   "outputs": [],
   "source": [
    "def get_callbacks(name):\n",
    "    return [\n",
    "        tfdocs.modeling.EpochDots(),\n",
    "        tf.keras.callbacks.EarlyStopping(monitor='val_binary_crossentropy', patience=150),\n",
    "        tf.keras.callbacks.TensorBoard(logdir/name),\n",
    "  ]"
   ]
  },
  {
   "cell_type": "code",
   "execution_count": 61,
   "id": "e5fe8a22-03a3-4df2-803e-51349f940520",
   "metadata": {
    "tags": []
   },
   "outputs": [],
   "source": [
    "def compile_and_fit(model, name, f_xtrain, f_ytrain, f_xval, f_yval, optimizer=None, max_epochs=10000):\n",
    "\n",
    "    if optimizer is None:\n",
    "        optimizer = get_optimizer()\n",
    "    \n",
    "    model.compile(optimizer=optimizer,\n",
    "                    loss=tf.keras.losses.BinaryCrossentropy(),\n",
    "                    metrics=[tf.keras.metrics.BinaryCrossentropy(\n",
    "                              name='binary_crossentropy'),\n",
    "                              'accuracy'])\n",
    "\n",
    "    history = model.fit(\n",
    "        x = X_train,\n",
    "        y = y_train,\n",
    "        steps_per_epoch = STEPS_PER_EPOCH,\n",
    "        epochs=max_epochs,\n",
    "        validation_data=(X_val, y_val) ,\n",
    "        callbacks=get_callbacks(name),\n",
    "        verbose=2)\n",
    "    \n",
    "    return history"
   ]
  },
  {
   "cell_type": "markdown",
   "id": "57ac3f92-594b-4129-ad6d-80ce92a5c4d5",
   "metadata": {},
   "source": [
    "# model performance"
   ]
  },
  {
   "cell_type": "code",
   "execution_count": 62,
   "id": "e28a1a75-8eda-473f-aec1-ccd192c21202",
   "metadata": {
    "tags": []
   },
   "outputs": [],
   "source": [
    "model_1 = tf.keras.Sequential([\n",
    "    tf.keras.layers.Dense(units=16, activation='relu',input_shape=(5000,)),\n",
    "    tf.keras.layers.Dense(units=16, activation='relu'),\n",
    "    tf.keras.layers.Dropout(0.2),\n",
    "    tf.keras.layers.Dense(units=1,activation='sigmoid')\n",
    "])"
   ]
  },
  {
   "cell_type": "code",
   "execution_count": 63,
   "id": "2c5f87c8-ff34-4a84-85ab-a14d44bc03d6",
   "metadata": {},
   "outputs": [],
   "source": [
    "dict_histories = {}"
   ]
  },
  {
   "cell_type": "code",
   "execution_count": 64,
   "id": "b0b4730c-b24d-4361-8269-706025274d7c",
   "metadata": {},
   "outputs": [],
   "source": [
    "X_train_1 = X_train[3000:]\n",
    "X_val = X_train[:3000]\n",
    "y_train_1 = y_train[3000:]\n",
    "y_val = y_train[:3000]"
   ]
  },
  {
   "cell_type": "code",
   "execution_count": 65,
   "id": "774fe262-e814-4367-b204-1a033f98ac05",
   "metadata": {
    "tags": []
   },
   "outputs": [
    {
     "name": "stdout",
     "output_type": "stream",
     "text": [
      "Epoch 1/10000\n",
      "\n",
      "Epoch: 0, accuracy:0.7681,  binary_crossentropy:0.4812,  loss:0.4812,  val_accuracy:0.9097,  val_binary_crossentropy:0.2467,  val_loss:0.2467,  \n",
      ".80/80 - 2s - loss: 0.4812 - binary_crossentropy: 0.4812 - accuracy: 0.7681 - val_loss: 0.2467 - val_binary_crossentropy: 0.2467 - val_accuracy: 0.9097 - 2s/epoch - 26ms/step\n",
      "Epoch 2/10000\n",
      ".80/80 - 1s - loss: 0.2487 - binary_crossentropy: 0.2487 - accuracy: 0.9041 - val_loss: 0.1565 - val_binary_crossentropy: 0.1565 - val_accuracy: 0.9537 - 756ms/epoch - 9ms/step\n",
      "Epoch 3/10000\n",
      ".80/80 - 1s - loss: 0.1712 - binary_crossentropy: 0.1712 - accuracy: 0.9370 - val_loss: 0.1073 - val_binary_crossentropy: 0.1073 - val_accuracy: 0.9690 - 737ms/epoch - 9ms/step\n",
      "Epoch 4/10000\n",
      ".80/80 - 1s - loss: 0.1268 - binary_crossentropy: 0.1268 - accuracy: 0.9553 - val_loss: 0.0724 - val_binary_crossentropy: 0.0724 - val_accuracy: 0.9830 - 715ms/epoch - 9ms/step\n",
      "Epoch 5/10000\n",
      ".80/80 - 1s - loss: 0.0925 - binary_crossentropy: 0.0925 - accuracy: 0.9686 - val_loss: 0.0503 - val_binary_crossentropy: 0.0503 - val_accuracy: 0.9887 - 727ms/epoch - 9ms/step\n",
      "Epoch 6/10000\n",
      ".80/80 - 1s - loss: 0.0674 - binary_crossentropy: 0.0674 - accuracy: 0.9782 - val_loss: 0.0367 - val_binary_crossentropy: 0.0367 - val_accuracy: 0.9910 - 725ms/epoch - 9ms/step\n",
      "Epoch 7/10000\n",
      ".80/80 - 1s - loss: 0.0500 - binary_crossentropy: 0.0500 - accuracy: 0.9839 - val_loss: 0.0269 - val_binary_crossentropy: 0.0269 - val_accuracy: 0.9967 - 750ms/epoch - 9ms/step\n",
      "Epoch 8/10000\n",
      ".80/80 - 1s - loss: 0.0394 - binary_crossentropy: 0.0394 - accuracy: 0.9878 - val_loss: 0.0222 - val_binary_crossentropy: 0.0222 - val_accuracy: 0.9953 - 780ms/epoch - 10ms/step\n",
      "Epoch 9/10000\n",
      ".80/80 - 1s - loss: 0.0354 - binary_crossentropy: 0.0354 - accuracy: 0.9882 - val_loss: 0.0213 - val_binary_crossentropy: 0.0213 - val_accuracy: 0.9927 - 748ms/epoch - 9ms/step\n",
      "Epoch 10/10000\n",
      ".80/80 - 1s - loss: 0.0333 - binary_crossentropy: 0.0333 - accuracy: 0.9892 - val_loss: 0.0220 - val_binary_crossentropy: 0.0220 - val_accuracy: 0.9940 - 724ms/epoch - 9ms/step\n",
      "Epoch 11/10000\n",
      ".80/80 - 1s - loss: 0.0338 - binary_crossentropy: 0.0338 - accuracy: 0.9889 - val_loss: 0.0170 - val_binary_crossentropy: 0.0170 - val_accuracy: 0.9950 - 740ms/epoch - 9ms/step\n",
      "Epoch 12/10000\n",
      ".80/80 - 1s - loss: 0.0283 - binary_crossentropy: 0.0283 - accuracy: 0.9902 - val_loss: 0.0133 - val_binary_crossentropy: 0.0133 - val_accuracy: 0.9973 - 753ms/epoch - 9ms/step\n",
      "Epoch 13/10000\n",
      ".80/80 - 1s - loss: 0.0227 - binary_crossentropy: 0.0227 - accuracy: 0.9923 - val_loss: 0.0122 - val_binary_crossentropy: 0.0122 - val_accuracy: 0.9973 - 779ms/epoch - 10ms/step\n",
      "Epoch 14/10000\n",
      ".80/80 - 1s - loss: 0.0178 - binary_crossentropy: 0.0178 - accuracy: 0.9940 - val_loss: 0.0087 - val_binary_crossentropy: 0.0087 - val_accuracy: 0.9987 - 749ms/epoch - 9ms/step\n",
      "Epoch 15/10000\n",
      ".80/80 - 1s - loss: 0.0164 - binary_crossentropy: 0.0164 - accuracy: 0.9947 - val_loss: 0.0098 - val_binary_crossentropy: 0.0098 - val_accuracy: 0.9980 - 738ms/epoch - 9ms/step\n",
      "Epoch 16/10000\n",
      ".80/80 - 1s - loss: 0.0178 - binary_crossentropy: 0.0178 - accuracy: 0.9941 - val_loss: 0.0090 - val_binary_crossentropy: 0.0090 - val_accuracy: 0.9980 - 757ms/epoch - 9ms/step\n",
      "Epoch 17/10000\n",
      ".80/80 - 1s - loss: 0.0170 - binary_crossentropy: 0.0170 - accuracy: 0.9944 - val_loss: 0.0067 - val_binary_crossentropy: 0.0067 - val_accuracy: 0.9987 - 771ms/epoch - 10ms/step\n",
      "Epoch 18/10000\n",
      ".80/80 - 1s - loss: 0.0150 - binary_crossentropy: 0.0150 - accuracy: 0.9948 - val_loss: 0.0085 - val_binary_crossentropy: 0.0085 - val_accuracy: 0.9977 - 762ms/epoch - 10ms/step\n",
      "Epoch 19/10000\n",
      ".80/80 - 1s - loss: 0.0134 - binary_crossentropy: 0.0134 - accuracy: 0.9960 - val_loss: 0.0060 - val_binary_crossentropy: 0.0060 - val_accuracy: 0.9990 - 759ms/epoch - 9ms/step\n",
      "Epoch 20/10000\n",
      ".80/80 - 1s - loss: 0.0137 - binary_crossentropy: 0.0137 - accuracy: 0.9955 - val_loss: 0.0053 - val_binary_crossentropy: 0.0053 - val_accuracy: 0.9993 - 760ms/epoch - 10ms/step\n",
      "Epoch 21/10000\n",
      ".80/80 - 1s - loss: 0.0114 - binary_crossentropy: 0.0114 - accuracy: 0.9966 - val_loss: 0.0049 - val_binary_crossentropy: 0.0049 - val_accuracy: 0.9990 - 759ms/epoch - 9ms/step\n",
      "Epoch 22/10000\n",
      ".80/80 - 1s - loss: 0.0115 - binary_crossentropy: 0.0115 - accuracy: 0.9960 - val_loss: 0.0051 - val_binary_crossentropy: 0.0051 - val_accuracy: 0.9990 - 734ms/epoch - 9ms/step\n",
      "Epoch 23/10000\n",
      ".80/80 - 1s - loss: 0.0104 - binary_crossentropy: 0.0104 - accuracy: 0.9967 - val_loss: 0.0036 - val_binary_crossentropy: 0.0036 - val_accuracy: 0.9993 - 791ms/epoch - 10ms/step\n",
      "Epoch 24/10000\n",
      ".80/80 - 1s - loss: 0.0089 - binary_crossentropy: 0.0089 - accuracy: 0.9969 - val_loss: 0.0041 - val_binary_crossentropy: 0.0041 - val_accuracy: 0.9993 - 729ms/epoch - 9ms/step\n",
      "Epoch 25/10000\n",
      ".80/80 - 1s - loss: 0.0081 - binary_crossentropy: 0.0081 - accuracy: 0.9973 - val_loss: 0.0029 - val_binary_crossentropy: 0.0029 - val_accuracy: 0.9993 - 768ms/epoch - 10ms/step\n",
      "Epoch 26/10000\n",
      ".80/80 - 1s - loss: 0.0091 - binary_crossentropy: 0.0091 - accuracy: 0.9971 - val_loss: 0.0035 - val_binary_crossentropy: 0.0035 - val_accuracy: 0.9993 - 793ms/epoch - 10ms/step\n",
      "Epoch 27/10000\n",
      ".80/80 - 1s - loss: 0.0072 - binary_crossentropy: 0.0072 - accuracy: 0.9976 - val_loss: 0.0024 - val_binary_crossentropy: 0.0024 - val_accuracy: 0.9993 - 765ms/epoch - 10ms/step\n",
      "Epoch 28/10000\n",
      ".80/80 - 1s - loss: 0.0071 - binary_crossentropy: 0.0071 - accuracy: 0.9976 - val_loss: 0.0024 - val_binary_crossentropy: 0.0024 - val_accuracy: 0.9993 - 732ms/epoch - 9ms/step\n",
      "Epoch 29/10000\n",
      ".80/80 - 1s - loss: 0.0075 - binary_crossentropy: 0.0075 - accuracy: 0.9972 - val_loss: 0.0066 - val_binary_crossentropy: 0.0066 - val_accuracy: 0.9993 - 794ms/epoch - 10ms/step\n",
      "Epoch 30/10000\n",
      ".80/80 - 1s - loss: 0.0134 - binary_crossentropy: 0.0134 - accuracy: 0.9959 - val_loss: 0.0204 - val_binary_crossentropy: 0.0204 - val_accuracy: 0.9977 - 730ms/epoch - 9ms/step\n",
      "Epoch 31/10000\n",
      ".80/80 - 1s - loss: 0.0157 - binary_crossentropy: 0.0157 - accuracy: 0.9947 - val_loss: 0.0031 - val_binary_crossentropy: 0.0031 - val_accuracy: 0.9993 - 765ms/epoch - 10ms/step\n",
      "Epoch 32/10000\n",
      ".80/80 - 1s - loss: 0.0131 - binary_crossentropy: 0.0131 - accuracy: 0.9959 - val_loss: 0.0062 - val_binary_crossentropy: 0.0062 - val_accuracy: 0.9983 - 778ms/epoch - 10ms/step\n",
      "Epoch 33/10000\n",
      ".80/80 - 1s - loss: 0.0112 - binary_crossentropy: 0.0112 - accuracy: 0.9964 - val_loss: 0.0033 - val_binary_crossentropy: 0.0033 - val_accuracy: 0.9993 - 748ms/epoch - 9ms/step\n",
      "Epoch 34/10000\n",
      ".80/80 - 1s - loss: 0.0080 - binary_crossentropy: 0.0080 - accuracy: 0.9973 - val_loss: 0.0021 - val_binary_crossentropy: 0.0021 - val_accuracy: 1.0000 - 768ms/epoch - 10ms/step\n",
      "Epoch 35/10000\n",
      ".80/80 - 1s - loss: 0.0046 - binary_crossentropy: 0.0046 - accuracy: 0.9986 - val_loss: 0.0014 - val_binary_crossentropy: 0.0014 - val_accuracy: 1.0000 - 764ms/epoch - 10ms/step\n",
      "Epoch 36/10000\n",
      ".80/80 - 1s - loss: 0.0032 - binary_crossentropy: 0.0032 - accuracy: 0.9991 - val_loss: 0.0012 - val_binary_crossentropy: 0.0012 - val_accuracy: 1.0000 - 763ms/epoch - 10ms/step\n",
      "Epoch 37/10000\n",
      ".80/80 - 1s - loss: 0.0023 - binary_crossentropy: 0.0023 - accuracy: 0.9993 - val_loss: 9.9568e-04 - val_binary_crossentropy: 9.9568e-04 - val_accuracy: 1.0000 - 753ms/epoch - 9ms/step\n",
      "Epoch 38/10000\n",
      ".80/80 - 1s - loss: 0.0019 - binary_crossentropy: 0.0019 - accuracy: 0.9994 - val_loss: 8.9982e-04 - val_binary_crossentropy: 8.9982e-04 - val_accuracy: 1.0000 - 751ms/epoch - 9ms/step\n",
      "Epoch 39/10000\n",
      ".80/80 - 1s - loss: 0.0018 - binary_crossentropy: 0.0018 - accuracy: 0.9994 - val_loss: 8.4010e-04 - val_binary_crossentropy: 8.4010e-04 - val_accuracy: 1.0000 - 793ms/epoch - 10ms/step\n",
      "Epoch 40/10000\n",
      ".80/80 - 1s - loss: 0.0016 - binary_crossentropy: 0.0016 - accuracy: 0.9995 - val_loss: 8.1434e-04 - val_binary_crossentropy: 8.1434e-04 - val_accuracy: 1.0000 - 777ms/epoch - 10ms/step\n",
      "Epoch 41/10000\n",
      ".80/80 - 1s - loss: 0.0014 - binary_crossentropy: 0.0014 - accuracy: 0.9995 - val_loss: 7.9302e-04 - val_binary_crossentropy: 7.9302e-04 - val_accuracy: 1.0000 - 787ms/epoch - 10ms/step\n",
      "Epoch 42/10000\n",
      ".80/80 - 1s - loss: 0.0015 - binary_crossentropy: 0.0015 - accuracy: 0.9995 - val_loss: 7.6722e-04 - val_binary_crossentropy: 7.6722e-04 - val_accuracy: 1.0000 - 802ms/epoch - 10ms/step\n",
      "Epoch 43/10000\n",
      ".80/80 - 1s - loss: 0.0015 - binary_crossentropy: 0.0015 - accuracy: 0.9995 - val_loss: 7.5958e-04 - val_binary_crossentropy: 7.5958e-04 - val_accuracy: 1.0000 - 850ms/epoch - 11ms/step\n",
      "Epoch 44/10000\n",
      ".80/80 - 1s - loss: 0.0015 - binary_crossentropy: 0.0015 - accuracy: 0.9994 - val_loss: 7.5617e-04 - val_binary_crossentropy: 7.5617e-04 - val_accuracy: 1.0000 - 834ms/epoch - 10ms/step\n",
      "Epoch 45/10000\n",
      ".80/80 - 1s - loss: 0.0014 - binary_crossentropy: 0.0014 - accuracy: 0.9995 - val_loss: 7.4303e-04 - val_binary_crossentropy: 7.4303e-04 - val_accuracy: 1.0000 - 782ms/epoch - 10ms/step\n",
      "Epoch 46/10000\n",
      ".80/80 - 1s - loss: 0.0013 - binary_crossentropy: 0.0013 - accuracy: 0.9995 - val_loss: 7.2360e-04 - val_binary_crossentropy: 7.2360e-04 - val_accuracy: 1.0000 - 786ms/epoch - 10ms/step\n",
      "Epoch 47/10000\n",
      ".80/80 - 1s - loss: 0.0013 - binary_crossentropy: 0.0013 - accuracy: 0.9995 - val_loss: 6.9952e-04 - val_binary_crossentropy: 6.9952e-04 - val_accuracy: 1.0000 - 743ms/epoch - 9ms/step\n",
      "Epoch 48/10000\n",
      ".80/80 - 1s - loss: 0.0013 - binary_crossentropy: 0.0013 - accuracy: 0.9995 - val_loss: 6.9415e-04 - val_binary_crossentropy: 6.9415e-04 - val_accuracy: 1.0000 - 749ms/epoch - 9ms/step\n",
      "Epoch 49/10000\n",
      ".80/80 - 1s - loss: 0.0013 - binary_crossentropy: 0.0013 - accuracy: 0.9995 - val_loss: 6.9200e-04 - val_binary_crossentropy: 6.9200e-04 - val_accuracy: 1.0000 - 757ms/epoch - 9ms/step\n",
      "Epoch 50/10000\n",
      ".80/80 - 1s - loss: 0.0012 - binary_crossentropy: 0.0012 - accuracy: 0.9995 - val_loss: 7.0739e-04 - val_binary_crossentropy: 7.0739e-04 - val_accuracy: 1.0000 - 781ms/epoch - 10ms/step\n",
      "Epoch 51/10000\n",
      ".80/80 - 1s - loss: 0.0013 - binary_crossentropy: 0.0013 - accuracy: 0.9995 - val_loss: 6.8194e-04 - val_binary_crossentropy: 6.8194e-04 - val_accuracy: 1.0000 - 767ms/epoch - 10ms/step\n",
      "Epoch 52/10000\n",
      ".80/80 - 1s - loss: 0.0012 - binary_crossentropy: 0.0012 - accuracy: 0.9995 - val_loss: 6.6854e-04 - val_binary_crossentropy: 6.6854e-04 - val_accuracy: 1.0000 - 771ms/epoch - 10ms/step\n",
      "Epoch 53/10000\n",
      ".80/80 - 1s - loss: 0.0013 - binary_crossentropy: 0.0013 - accuracy: 0.9995 - val_loss: 6.4199e-04 - val_binary_crossentropy: 6.4199e-04 - val_accuracy: 1.0000 - 729ms/epoch - 9ms/step\n",
      "Epoch 54/10000\n",
      ".80/80 - 1s - loss: 0.0012 - binary_crossentropy: 0.0012 - accuracy: 0.9995 - val_loss: 6.4714e-04 - val_binary_crossentropy: 6.4714e-04 - val_accuracy: 1.0000 - 787ms/epoch - 10ms/step\n",
      "Epoch 55/10000\n",
      ".80/80 - 1s - loss: 0.0012 - binary_crossentropy: 0.0012 - accuracy: 0.9995 - val_loss: 6.4248e-04 - val_binary_crossentropy: 6.4248e-04 - val_accuracy: 1.0000 - 789ms/epoch - 10ms/step\n",
      "Epoch 56/10000\n",
      ".80/80 - 1s - loss: 0.0012 - binary_crossentropy: 0.0012 - accuracy: 0.9995 - val_loss: 6.4528e-04 - val_binary_crossentropy: 6.4528e-04 - val_accuracy: 1.0000 - 803ms/epoch - 10ms/step\n",
      "Epoch 57/10000\n",
      ".80/80 - 1s - loss: 0.0011 - binary_crossentropy: 0.0011 - accuracy: 0.9995 - val_loss: 6.6047e-04 - val_binary_crossentropy: 6.6047e-04 - val_accuracy: 1.0000 - 758ms/epoch - 9ms/step\n",
      "Epoch 58/10000\n",
      ".80/80 - 1s - loss: 0.0011 - binary_crossentropy: 0.0011 - accuracy: 0.9995 - val_loss: 6.5237e-04 - val_binary_crossentropy: 6.5237e-04 - val_accuracy: 1.0000 - 779ms/epoch - 10ms/step\n",
      "Epoch 59/10000\n",
      ".80/80 - 1s - loss: 0.0012 - binary_crossentropy: 0.0012 - accuracy: 0.9995 - val_loss: 6.4331e-04 - val_binary_crossentropy: 6.4331e-04 - val_accuracy: 1.0000 - 790ms/epoch - 10ms/step\n",
      "Epoch 60/10000\n",
      ".80/80 - 1s - loss: 0.0012 - binary_crossentropy: 0.0012 - accuracy: 0.9995 - val_loss: 6.3136e-04 - val_binary_crossentropy: 6.3136e-04 - val_accuracy: 1.0000 - 798ms/epoch - 10ms/step\n",
      "Epoch 61/10000\n",
      ".80/80 - 1s - loss: 0.0012 - binary_crossentropy: 0.0012 - accuracy: 0.9995 - val_loss: 6.4419e-04 - val_binary_crossentropy: 6.4419e-04 - val_accuracy: 1.0000 - 790ms/epoch - 10ms/step\n",
      "Epoch 62/10000\n",
      ".80/80 - 1s - loss: 0.0013 - binary_crossentropy: 0.0013 - accuracy: 0.9995 - val_loss: 6.3152e-04 - val_binary_crossentropy: 6.3152e-04 - val_accuracy: 1.0000 - 854ms/epoch - 11ms/step\n",
      "Epoch 63/10000\n",
      ".80/80 - 1s - loss: 0.0023 - binary_crossentropy: 0.0023 - accuracy: 0.9991 - val_loss: 0.0037 - val_binary_crossentropy: 0.0037 - val_accuracy: 0.9990 - 748ms/epoch - 9ms/step\n",
      "Epoch 64/10000\n",
      ".80/80 - 1s - loss: 0.0472 - binary_crossentropy: 0.0472 - accuracy: 0.9907 - val_loss: 0.0706 - val_binary_crossentropy: 0.0706 - val_accuracy: 0.9817 - 767ms/epoch - 10ms/step\n",
      "Epoch 65/10000\n",
      ".80/80 - 1s - loss: 0.0825 - binary_crossentropy: 0.0825 - accuracy: 0.9720 - val_loss: 0.0211 - val_binary_crossentropy: 0.0211 - val_accuracy: 0.9950 - 773ms/epoch - 10ms/step\n",
      "Epoch 66/10000\n",
      ".80/80 - 1s - loss: 0.0184 - binary_crossentropy: 0.0184 - accuracy: 0.9951 - val_loss: 0.0039 - val_binary_crossentropy: 0.0039 - val_accuracy: 0.9993 - 837ms/epoch - 10ms/step\n",
      "Epoch 67/10000\n",
      ".80/80 - 1s - loss: 0.0051 - binary_crossentropy: 0.0051 - accuracy: 0.9990 - val_loss: 0.0018 - val_binary_crossentropy: 0.0018 - val_accuracy: 0.9997 - 739ms/epoch - 9ms/step\n",
      "Epoch 68/10000\n",
      ".80/80 - 1s - loss: 0.0029 - binary_crossentropy: 0.0029 - accuracy: 0.9994 - val_loss: 0.0013 - val_binary_crossentropy: 0.0013 - val_accuracy: 1.0000 - 768ms/epoch - 10ms/step\n",
      "Epoch 69/10000\n",
      ".80/80 - 1s - loss: 0.0023 - binary_crossentropy: 0.0023 - accuracy: 0.9994 - val_loss: 0.0010 - val_binary_crossentropy: 0.0010 - val_accuracy: 1.0000 - 734ms/epoch - 9ms/step\n",
      "Epoch 70/10000\n",
      ".80/80 - 1s - loss: 0.0018 - binary_crossentropy: 0.0018 - accuracy: 0.9995 - val_loss: 9.1745e-04 - val_binary_crossentropy: 9.1745e-04 - val_accuracy: 1.0000 - 748ms/epoch - 9ms/step\n",
      "Epoch 71/10000\n",
      ".80/80 - 1s - loss: 0.0017 - binary_crossentropy: 0.0017 - accuracy: 0.9995 - val_loss: 8.4911e-04 - val_binary_crossentropy: 8.4911e-04 - val_accuracy: 1.0000 - 746ms/epoch - 9ms/step\n",
      "Epoch 72/10000\n",
      ".80/80 - 1s - loss: 0.0015 - binary_crossentropy: 0.0015 - accuracy: 0.9995 - val_loss: 8.0986e-04 - val_binary_crossentropy: 8.0986e-04 - val_accuracy: 1.0000 - 771ms/epoch - 10ms/step\n",
      "Epoch 73/10000\n",
      ".80/80 - 1s - loss: 0.0015 - binary_crossentropy: 0.0015 - accuracy: 0.9994 - val_loss: 7.6524e-04 - val_binary_crossentropy: 7.6524e-04 - val_accuracy: 1.0000 - 750ms/epoch - 9ms/step\n",
      "Epoch 74/10000\n",
      ".80/80 - 1s - loss: 0.0014 - binary_crossentropy: 0.0014 - accuracy: 0.9995 - val_loss: 7.5196e-04 - val_binary_crossentropy: 7.5196e-04 - val_accuracy: 1.0000 - 739ms/epoch - 9ms/step\n",
      "Epoch 75/10000\n",
      ".80/80 - 1s - loss: 0.0014 - binary_crossentropy: 0.0014 - accuracy: 0.9995 - val_loss: 7.4631e-04 - val_binary_crossentropy: 7.4631e-04 - val_accuracy: 1.0000 - 767ms/epoch - 10ms/step\n",
      "Epoch 76/10000\n",
      ".80/80 - 1s - loss: 0.0014 - binary_crossentropy: 0.0014 - accuracy: 0.9995 - val_loss: 7.0251e-04 - val_binary_crossentropy: 7.0251e-04 - val_accuracy: 1.0000 - 773ms/epoch - 10ms/step\n",
      "Epoch 77/10000\n",
      ".80/80 - 1s - loss: 0.0014 - binary_crossentropy: 0.0014 - accuracy: 0.9995 - val_loss: 6.9610e-04 - val_binary_crossentropy: 6.9610e-04 - val_accuracy: 1.0000 - 794ms/epoch - 10ms/step\n",
      "Epoch 78/10000\n",
      ".80/80 - 1s - loss: 0.0013 - binary_crossentropy: 0.0013 - accuracy: 0.9995 - val_loss: 6.8334e-04 - val_binary_crossentropy: 6.8334e-04 - val_accuracy: 1.0000 - 758ms/epoch - 9ms/step\n",
      "Epoch 79/10000\n",
      ".80/80 - 1s - loss: 0.0013 - binary_crossentropy: 0.0013 - accuracy: 0.9995 - val_loss: 6.8087e-04 - val_binary_crossentropy: 6.8087e-04 - val_accuracy: 1.0000 - 779ms/epoch - 10ms/step\n",
      "Epoch 80/10000\n",
      ".80/80 - 1s - loss: 0.0012 - binary_crossentropy: 0.0012 - accuracy: 0.9995 - val_loss: 6.6657e-04 - val_binary_crossentropy: 6.6657e-04 - val_accuracy: 1.0000 - 732ms/epoch - 9ms/step\n",
      "Epoch 81/10000\n",
      ".80/80 - 1s - loss: 0.0012 - binary_crossentropy: 0.0012 - accuracy: 0.9995 - val_loss: 6.7227e-04 - val_binary_crossentropy: 6.7227e-04 - val_accuracy: 1.0000 - 768ms/epoch - 10ms/step\n",
      "Epoch 82/10000\n",
      ".80/80 - 1s - loss: 0.0012 - binary_crossentropy: 0.0012 - accuracy: 0.9995 - val_loss: 6.3253e-04 - val_binary_crossentropy: 6.3253e-04 - val_accuracy: 1.0000 - 759ms/epoch - 9ms/step\n",
      "Epoch 83/10000\n",
      ".80/80 - 1s - loss: 0.0012 - binary_crossentropy: 0.0012 - accuracy: 0.9995 - val_loss: 6.3938e-04 - val_binary_crossentropy: 6.3938e-04 - val_accuracy: 1.0000 - 760ms/epoch - 9ms/step\n",
      "Epoch 84/10000\n",
      ".80/80 - 1s - loss: 0.0012 - binary_crossentropy: 0.0012 - accuracy: 0.9995 - val_loss: 6.3315e-04 - val_binary_crossentropy: 6.3315e-04 - val_accuracy: 1.0000 - 716ms/epoch - 9ms/step\n",
      "Epoch 85/10000\n",
      ".80/80 - 1s - loss: 0.0013 - binary_crossentropy: 0.0013 - accuracy: 0.9995 - val_loss: 6.2727e-04 - val_binary_crossentropy: 6.2727e-04 - val_accuracy: 1.0000 - 765ms/epoch - 10ms/step\n",
      "Epoch 86/10000\n",
      ".80/80 - 1s - loss: 0.0011 - binary_crossentropy: 0.0011 - accuracy: 0.9995 - val_loss: 6.2891e-04 - val_binary_crossentropy: 6.2891e-04 - val_accuracy: 1.0000 - 763ms/epoch - 10ms/step\n",
      "Epoch 87/10000\n",
      ".80/80 - 1s - loss: 0.0012 - binary_crossentropy: 0.0012 - accuracy: 0.9995 - val_loss: 6.3633e-04 - val_binary_crossentropy: 6.3633e-04 - val_accuracy: 1.0000 - 758ms/epoch - 9ms/step\n",
      "Epoch 88/10000\n",
      ".80/80 - 1s - loss: 0.0011 - binary_crossentropy: 0.0011 - accuracy: 0.9995 - val_loss: 6.3242e-04 - val_binary_crossentropy: 6.3242e-04 - val_accuracy: 1.0000 - 774ms/epoch - 10ms/step\n",
      "Epoch 89/10000\n",
      ".80/80 - 1s - loss: 0.0012 - binary_crossentropy: 0.0012 - accuracy: 0.9995 - val_loss: 6.3542e-04 - val_binary_crossentropy: 6.3542e-04 - val_accuracy: 1.0000 - 765ms/epoch - 10ms/step\n",
      "Epoch 90/10000\n",
      ".80/80 - 1s - loss: 0.0011 - binary_crossentropy: 0.0011 - accuracy: 0.9995 - val_loss: 6.3047e-04 - val_binary_crossentropy: 6.3047e-04 - val_accuracy: 1.0000 - 788ms/epoch - 10ms/step\n",
      "Epoch 91/10000\n",
      ".80/80 - 1s - loss: 0.0011 - binary_crossentropy: 0.0011 - accuracy: 0.9995 - val_loss: 6.1653e-04 - val_binary_crossentropy: 6.1653e-04 - val_accuracy: 1.0000 - 753ms/epoch - 9ms/step\n",
      "Epoch 92/10000\n",
      ".80/80 - 1s - loss: 0.0011 - binary_crossentropy: 0.0011 - accuracy: 0.9995 - val_loss: 6.1655e-04 - val_binary_crossentropy: 6.1655e-04 - val_accuracy: 1.0000 - 778ms/epoch - 10ms/step\n",
      "Epoch 93/10000\n",
      ".80/80 - 1s - loss: 0.0011 - binary_crossentropy: 0.0011 - accuracy: 0.9995 - val_loss: 6.2117e-04 - val_binary_crossentropy: 6.2117e-04 - val_accuracy: 1.0000 - 787ms/epoch - 10ms/step\n",
      "Epoch 94/10000\n",
      ".80/80 - 1s - loss: 0.0011 - binary_crossentropy: 0.0011 - accuracy: 0.9995 - val_loss: 6.2079e-04 - val_binary_crossentropy: 6.2079e-04 - val_accuracy: 1.0000 - 776ms/epoch - 10ms/step\n",
      "Epoch 95/10000\n",
      ".80/80 - 1s - loss: 0.0011 - binary_crossentropy: 0.0011 - accuracy: 0.9995 - val_loss: 6.3680e-04 - val_binary_crossentropy: 6.3680e-04 - val_accuracy: 1.0000 - 776ms/epoch - 10ms/step\n",
      "Epoch 96/10000\n",
      ".80/80 - 1s - loss: 0.0011 - binary_crossentropy: 0.0011 - accuracy: 0.9995 - val_loss: 6.2786e-04 - val_binary_crossentropy: 6.2786e-04 - val_accuracy: 1.0000 - 772ms/epoch - 10ms/step\n",
      "Epoch 97/10000\n",
      ".80/80 - 1s - loss: 0.0011 - binary_crossentropy: 0.0011 - accuracy: 0.9995 - val_loss: 6.1966e-04 - val_binary_crossentropy: 6.1966e-04 - val_accuracy: 1.0000 - 738ms/epoch - 9ms/step\n",
      "Epoch 98/10000\n",
      ".80/80 - 1s - loss: 0.0011 - binary_crossentropy: 0.0011 - accuracy: 0.9995 - val_loss: 6.1244e-04 - val_binary_crossentropy: 6.1244e-04 - val_accuracy: 1.0000 - 763ms/epoch - 10ms/step\n",
      "Epoch 99/10000\n",
      ".80/80 - 1s - loss: 0.0010 - binary_crossentropy: 0.0010 - accuracy: 0.9995 - val_loss: 6.1975e-04 - val_binary_crossentropy: 6.1975e-04 - val_accuracy: 1.0000 - 734ms/epoch - 9ms/step\n",
      "Epoch 100/10000\n",
      ".80/80 - 1s - loss: 0.0011 - binary_crossentropy: 0.0011 - accuracy: 0.9995 - val_loss: 6.0960e-04 - val_binary_crossentropy: 6.0960e-04 - val_accuracy: 1.0000 - 779ms/epoch - 10ms/step\n",
      "Epoch 101/10000\n",
      "\n",
      "Epoch: 100, accuracy:0.9995,  binary_crossentropy:0.0011,  loss:0.0011,  val_accuracy:1.0000,  val_binary_crossentropy:0.0006,  val_loss:0.0006,  \n",
      ".80/80 - 1s - loss: 0.0011 - binary_crossentropy: 0.0011 - accuracy: 0.9995 - val_loss: 5.7208e-04 - val_binary_crossentropy: 5.7208e-04 - val_accuracy: 1.0000 - 781ms/epoch - 10ms/step\n",
      "Epoch 102/10000\n",
      ".80/80 - 1s - loss: 0.0011 - binary_crossentropy: 0.0011 - accuracy: 0.9995 - val_loss: 5.8085e-04 - val_binary_crossentropy: 5.8085e-04 - val_accuracy: 1.0000 - 786ms/epoch - 10ms/step\n",
      "Epoch 103/10000\n",
      ".80/80 - 1s - loss: 0.0011 - binary_crossentropy: 0.0011 - accuracy: 0.9995 - val_loss: 5.9319e-04 - val_binary_crossentropy: 5.9319e-04 - val_accuracy: 1.0000 - 807ms/epoch - 10ms/step\n",
      "Epoch 104/10000\n",
      ".80/80 - 1s - loss: 0.0011 - binary_crossentropy: 0.0011 - accuracy: 0.9995 - val_loss: 5.9109e-04 - val_binary_crossentropy: 5.9109e-04 - val_accuracy: 1.0000 - 770ms/epoch - 10ms/step\n",
      "Epoch 105/10000\n",
      ".80/80 - 1s - loss: 9.6961e-04 - binary_crossentropy: 9.6961e-04 - accuracy: 0.9996 - val_loss: 5.8380e-04 - val_binary_crossentropy: 5.8380e-04 - val_accuracy: 1.0000 - 791ms/epoch - 10ms/step\n",
      "Epoch 106/10000\n",
      ".80/80 - 1s - loss: 0.0010 - binary_crossentropy: 0.0010 - accuracy: 0.9995 - val_loss: 5.8954e-04 - val_binary_crossentropy: 5.8954e-04 - val_accuracy: 1.0000 - 759ms/epoch - 9ms/step\n",
      "Epoch 107/10000\n",
      ".80/80 - 1s - loss: 0.0010 - binary_crossentropy: 0.0010 - accuracy: 0.9995 - val_loss: 5.7357e-04 - val_binary_crossentropy: 5.7357e-04 - val_accuracy: 1.0000 - 746ms/epoch - 9ms/step\n",
      "Epoch 108/10000\n",
      ".80/80 - 1s - loss: 9.4188e-04 - binary_crossentropy: 9.4188e-04 - accuracy: 0.9996 - val_loss: 5.7347e-04 - val_binary_crossentropy: 5.7347e-04 - val_accuracy: 1.0000 - 781ms/epoch - 10ms/step\n",
      "Epoch 109/10000\n",
      ".80/80 - 1s - loss: 0.0011 - binary_crossentropy: 0.0011 - accuracy: 0.9996 - val_loss: 6.0485e-04 - val_binary_crossentropy: 6.0485e-04 - val_accuracy: 1.0000 - 777ms/epoch - 10ms/step\n",
      "Epoch 110/10000\n",
      ".80/80 - 1s - loss: 0.0011 - binary_crossentropy: 0.0011 - accuracy: 0.9995 - val_loss: 5.5653e-04 - val_binary_crossentropy: 5.5653e-04 - val_accuracy: 1.0000 - 759ms/epoch - 9ms/step\n",
      "Epoch 111/10000\n",
      ".80/80 - 1s - loss: 0.0014 - binary_crossentropy: 0.0014 - accuracy: 0.9994 - val_loss: 7.8124e-04 - val_binary_crossentropy: 7.8124e-04 - val_accuracy: 0.9997 - 737ms/epoch - 9ms/step\n",
      "Epoch 112/10000\n",
      ".80/80 - 1s - loss: 0.0133 - binary_crossentropy: 0.0133 - accuracy: 0.9965 - val_loss: 0.0265 - val_binary_crossentropy: 0.0265 - val_accuracy: 0.9917 - 760ms/epoch - 10ms/step\n",
      "Epoch 113/10000\n",
      ".80/80 - 1s - loss: 0.0814 - binary_crossentropy: 0.0814 - accuracy: 0.9761 - val_loss: 0.0289 - val_binary_crossentropy: 0.0289 - val_accuracy: 0.9920 - 772ms/epoch - 10ms/step\n",
      "Epoch 114/10000\n",
      ".80/80 - 1s - loss: 0.0270 - binary_crossentropy: 0.0270 - accuracy: 0.9920 - val_loss: 0.0070 - val_binary_crossentropy: 0.0070 - val_accuracy: 0.9987 - 812ms/epoch - 10ms/step\n",
      "Epoch 115/10000\n",
      ".80/80 - 1s - loss: 0.0073 - binary_crossentropy: 0.0073 - accuracy: 0.9984 - val_loss: 0.0018 - val_binary_crossentropy: 0.0018 - val_accuracy: 1.0000 - 736ms/epoch - 9ms/step\n",
      "Epoch 116/10000\n",
      ".80/80 - 1s - loss: 0.0029 - binary_crossentropy: 0.0029 - accuracy: 0.9994 - val_loss: 0.0012 - val_binary_crossentropy: 0.0012 - val_accuracy: 1.0000 - 736ms/epoch - 9ms/step\n",
      "Epoch 117/10000\n",
      ".80/80 - 1s - loss: 0.0019 - binary_crossentropy: 0.0019 - accuracy: 0.9996 - val_loss: 9.1551e-04 - val_binary_crossentropy: 9.1551e-04 - val_accuracy: 1.0000 - 752ms/epoch - 9ms/step\n",
      "Epoch 118/10000\n",
      ".80/80 - 1s - loss: 0.0017 - binary_crossentropy: 0.0017 - accuracy: 0.9996 - val_loss: 8.3088e-04 - val_binary_crossentropy: 8.3088e-04 - val_accuracy: 1.0000 - 755ms/epoch - 9ms/step\n",
      "Epoch 119/10000\n",
      ".80/80 - 1s - loss: 0.0015 - binary_crossentropy: 0.0015 - accuracy: 0.9995 - val_loss: 7.6074e-04 - val_binary_crossentropy: 7.6074e-04 - val_accuracy: 1.0000 - 778ms/epoch - 10ms/step\n",
      "Epoch 120/10000\n",
      ".80/80 - 1s - loss: 0.0014 - binary_crossentropy: 0.0014 - accuracy: 0.9995 - val_loss: 7.1487e-04 - val_binary_crossentropy: 7.1487e-04 - val_accuracy: 1.0000 - 735ms/epoch - 9ms/step\n",
      "Epoch 121/10000\n",
      ".80/80 - 1s - loss: 0.0013 - binary_crossentropy: 0.0013 - accuracy: 0.9996 - val_loss: 6.8351e-04 - val_binary_crossentropy: 6.8351e-04 - val_accuracy: 1.0000 - 765ms/epoch - 10ms/step\n",
      "Epoch 122/10000\n",
      ".80/80 - 1s - loss: 0.0012 - binary_crossentropy: 0.0012 - accuracy: 0.9995 - val_loss: 6.7227e-04 - val_binary_crossentropy: 6.7227e-04 - val_accuracy: 1.0000 - 754ms/epoch - 9ms/step\n",
      "Epoch 123/10000\n",
      ".80/80 - 1s - loss: 0.0012 - binary_crossentropy: 0.0012 - accuracy: 0.9995 - val_loss: 6.6794e-04 - val_binary_crossentropy: 6.6794e-04 - val_accuracy: 1.0000 - 776ms/epoch - 10ms/step\n",
      "Epoch 124/10000\n",
      ".80/80 - 1s - loss: 0.0012 - binary_crossentropy: 0.0012 - accuracy: 0.9996 - val_loss: 6.5652e-04 - val_binary_crossentropy: 6.5652e-04 - val_accuracy: 1.0000 - 798ms/epoch - 10ms/step\n",
      "Epoch 125/10000\n",
      ".80/80 - 1s - loss: 0.0012 - binary_crossentropy: 0.0012 - accuracy: 0.9995 - val_loss: 6.3673e-04 - val_binary_crossentropy: 6.3673e-04 - val_accuracy: 1.0000 - 751ms/epoch - 9ms/step\n",
      "Epoch 126/10000\n",
      ".80/80 - 1s - loss: 0.0012 - binary_crossentropy: 0.0012 - accuracy: 0.9996 - val_loss: 6.5099e-04 - val_binary_crossentropy: 6.5099e-04 - val_accuracy: 1.0000 - 808ms/epoch - 10ms/step\n",
      "Epoch 127/10000\n",
      ".80/80 - 1s - loss: 0.0012 - binary_crossentropy: 0.0012 - accuracy: 0.9995 - val_loss: 6.4234e-04 - val_binary_crossentropy: 6.4234e-04 - val_accuracy: 1.0000 - 769ms/epoch - 10ms/step\n",
      "Epoch 128/10000\n",
      ".80/80 - 1s - loss: 0.0011 - binary_crossentropy: 0.0011 - accuracy: 0.9995 - val_loss: 6.6300e-04 - val_binary_crossentropy: 6.6300e-04 - val_accuracy: 1.0000 - 752ms/epoch - 9ms/step\n",
      "Epoch 129/10000\n",
      ".80/80 - 1s - loss: 0.0011 - binary_crossentropy: 0.0011 - accuracy: 0.9996 - val_loss: 6.5471e-04 - val_binary_crossentropy: 6.5471e-04 - val_accuracy: 1.0000 - 808ms/epoch - 10ms/step\n",
      "Epoch 130/10000\n",
      ".80/80 - 1s - loss: 0.0011 - binary_crossentropy: 0.0011 - accuracy: 0.9996 - val_loss: 6.6037e-04 - val_binary_crossentropy: 6.6037e-04 - val_accuracy: 1.0000 - 778ms/epoch - 10ms/step\n",
      "Epoch 131/10000\n",
      ".80/80 - 1s - loss: 0.0011 - binary_crossentropy: 0.0011 - accuracy: 0.9996 - val_loss: 6.6365e-04 - val_binary_crossentropy: 6.6365e-04 - val_accuracy: 1.0000 - 766ms/epoch - 10ms/step\n",
      "Epoch 132/10000\n",
      ".80/80 - 1s - loss: 0.0011 - binary_crossentropy: 0.0011 - accuracy: 0.9996 - val_loss: 6.8704e-04 - val_binary_crossentropy: 6.8704e-04 - val_accuracy: 1.0000 - 795ms/epoch - 10ms/step\n",
      "Epoch 133/10000\n",
      ".80/80 - 1s - loss: 0.0011 - binary_crossentropy: 0.0011 - accuracy: 0.9996 - val_loss: 6.8406e-04 - val_binary_crossentropy: 6.8406e-04 - val_accuracy: 1.0000 - 750ms/epoch - 9ms/step\n",
      "Epoch 134/10000\n",
      ".80/80 - 1s - loss: 0.0010 - binary_crossentropy: 0.0010 - accuracy: 0.9996 - val_loss: 6.7877e-04 - val_binary_crossentropy: 6.7877e-04 - val_accuracy: 1.0000 - 751ms/epoch - 9ms/step\n",
      "Epoch 135/10000\n",
      ".80/80 - 1s - loss: 0.0010 - binary_crossentropy: 0.0010 - accuracy: 0.9995 - val_loss: 6.7441e-04 - val_binary_crossentropy: 6.7441e-04 - val_accuracy: 1.0000 - 760ms/epoch - 10ms/step\n",
      "Epoch 136/10000\n",
      ".80/80 - 1s - loss: 0.0010 - binary_crossentropy: 0.0010 - accuracy: 0.9995 - val_loss: 6.7222e-04 - val_binary_crossentropy: 6.7222e-04 - val_accuracy: 1.0000 - 780ms/epoch - 10ms/step\n",
      "Epoch 137/10000\n",
      ".80/80 - 1s - loss: 0.0010 - binary_crossentropy: 0.0010 - accuracy: 0.9996 - val_loss: 6.7245e-04 - val_binary_crossentropy: 6.7245e-04 - val_accuracy: 1.0000 - 746ms/epoch - 9ms/step\n",
      "Epoch 138/10000\n",
      ".80/80 - 1s - loss: 0.0011 - binary_crossentropy: 0.0011 - accuracy: 0.9995 - val_loss: 6.7124e-04 - val_binary_crossentropy: 6.7124e-04 - val_accuracy: 1.0000 - 784ms/epoch - 10ms/step\n",
      "Epoch 139/10000\n",
      ".80/80 - 1s - loss: 9.9747e-04 - binary_crossentropy: 9.9747e-04 - accuracy: 0.9996 - val_loss: 6.7197e-04 - val_binary_crossentropy: 6.7197e-04 - val_accuracy: 1.0000 - 773ms/epoch - 10ms/step\n",
      "Epoch 140/10000\n",
      ".80/80 - 1s - loss: 0.0011 - binary_crossentropy: 0.0011 - accuracy: 0.9996 - val_loss: 6.5963e-04 - val_binary_crossentropy: 6.5963e-04 - val_accuracy: 1.0000 - 763ms/epoch - 10ms/step\n",
      "Epoch 141/10000\n",
      ".80/80 - 1s - loss: 0.0011 - binary_crossentropy: 0.0011 - accuracy: 0.9995 - val_loss: 6.7227e-04 - val_binary_crossentropy: 6.7227e-04 - val_accuracy: 1.0000 - 744ms/epoch - 9ms/step\n",
      "Epoch 142/10000\n",
      ".80/80 - 1s - loss: 0.0010 - binary_crossentropy: 0.0010 - accuracy: 0.9996 - val_loss: 6.7010e-04 - val_binary_crossentropy: 6.7010e-04 - val_accuracy: 1.0000 - 750ms/epoch - 9ms/step\n",
      "Epoch 143/10000\n",
      ".80/80 - 1s - loss: 0.0010 - binary_crossentropy: 0.0010 - accuracy: 0.9996 - val_loss: 6.7922e-04 - val_binary_crossentropy: 6.7922e-04 - val_accuracy: 1.0000 - 777ms/epoch - 10ms/step\n",
      "Epoch 144/10000\n",
      ".80/80 - 1s - loss: 9.9746e-04 - binary_crossentropy: 9.9746e-04 - accuracy: 0.9995 - val_loss: 6.6543e-04 - val_binary_crossentropy: 6.6543e-04 - val_accuracy: 1.0000 - 750ms/epoch - 9ms/step\n",
      "Epoch 145/10000\n",
      ".80/80 - 1s - loss: 0.0010 - binary_crossentropy: 0.0010 - accuracy: 0.9996 - val_loss: 6.3779e-04 - val_binary_crossentropy: 6.3779e-04 - val_accuracy: 1.0000 - 747ms/epoch - 9ms/step\n",
      "Epoch 146/10000\n",
      ".80/80 - 1s - loss: 0.0010 - binary_crossentropy: 0.0010 - accuracy: 0.9996 - val_loss: 6.6654e-04 - val_binary_crossentropy: 6.6654e-04 - val_accuracy: 1.0000 - 776ms/epoch - 10ms/step\n",
      "Epoch 147/10000\n",
      ".80/80 - 1s - loss: 9.5357e-04 - binary_crossentropy: 9.5357e-04 - accuracy: 0.9996 - val_loss: 6.4619e-04 - val_binary_crossentropy: 6.4619e-04 - val_accuracy: 1.0000 - 820ms/epoch - 10ms/step\n",
      "Epoch 148/10000\n",
      ".80/80 - 1s - loss: 9.7778e-04 - binary_crossentropy: 9.7778e-04 - accuracy: 0.9996 - val_loss: 6.6384e-04 - val_binary_crossentropy: 6.6384e-04 - val_accuracy: 1.0000 - 724ms/epoch - 9ms/step\n",
      "Epoch 149/10000\n",
      ".80/80 - 1s - loss: 9.2366e-04 - binary_crossentropy: 9.2366e-04 - accuracy: 0.9996 - val_loss: 6.3545e-04 - val_binary_crossentropy: 6.3545e-04 - val_accuracy: 1.0000 - 756ms/epoch - 9ms/step\n",
      "Epoch 150/10000\n",
      ".80/80 - 1s - loss: 9.6117e-04 - binary_crossentropy: 9.6117e-04 - accuracy: 0.9996 - val_loss: 6.5028e-04 - val_binary_crossentropy: 6.5028e-04 - val_accuracy: 1.0000 - 790ms/epoch - 10ms/step\n",
      "Epoch 151/10000\n",
      ".80/80 - 1s - loss: 9.4492e-04 - binary_crossentropy: 9.4492e-04 - accuracy: 0.9996 - val_loss: 6.5621e-04 - val_binary_crossentropy: 6.5621e-04 - val_accuracy: 1.0000 - 748ms/epoch - 9ms/step\n",
      "Epoch 152/10000\n",
      ".80/80 - 1s - loss: 9.9230e-04 - binary_crossentropy: 9.9230e-04 - accuracy: 0.9995 - val_loss: 6.2980e-04 - val_binary_crossentropy: 6.2980e-04 - val_accuracy: 1.0000 - 782ms/epoch - 10ms/step\n",
      "Epoch 153/10000\n",
      ".80/80 - 1s - loss: 8.9410e-04 - binary_crossentropy: 8.9410e-04 - accuracy: 0.9996 - val_loss: 6.2021e-04 - val_binary_crossentropy: 6.2021e-04 - val_accuracy: 1.0000 - 755ms/epoch - 9ms/step\n",
      "Epoch 154/10000\n",
      ".80/80 - 1s - loss: 9.3685e-04 - binary_crossentropy: 9.3685e-04 - accuracy: 0.9995 - val_loss: 6.3498e-04 - val_binary_crossentropy: 6.3498e-04 - val_accuracy: 1.0000 - 749ms/epoch - 9ms/step\n",
      "Epoch 155/10000\n",
      ".80/80 - 1s - loss: 9.0469e-04 - binary_crossentropy: 9.0469e-04 - accuracy: 0.9996 - val_loss: 6.2353e-04 - val_binary_crossentropy: 6.2353e-04 - val_accuracy: 1.0000 - 781ms/epoch - 10ms/step\n",
      "Epoch 156/10000\n",
      ".80/80 - 1s - loss: 9.5168e-04 - binary_crossentropy: 9.5168e-04 - accuracy: 0.9996 - val_loss: 6.1169e-04 - val_binary_crossentropy: 6.1169e-04 - val_accuracy: 1.0000 - 767ms/epoch - 10ms/step\n",
      "Epoch 157/10000\n",
      ".80/80 - 1s - loss: 9.8197e-04 - binary_crossentropy: 9.8197e-04 - accuracy: 0.9996 - val_loss: 6.2663e-04 - val_binary_crossentropy: 6.2663e-04 - val_accuracy: 1.0000 - 763ms/epoch - 10ms/step\n",
      "Epoch 158/10000\n",
      ".80/80 - 1s - loss: 9.4539e-04 - binary_crossentropy: 9.4539e-04 - accuracy: 0.9996 - val_loss: 5.0806e-04 - val_binary_crossentropy: 5.0806e-04 - val_accuracy: 1.0000 - 769ms/epoch - 10ms/step\n",
      "Epoch 159/10000\n",
      ".80/80 - 1s - loss: 0.0024 - binary_crossentropy: 0.0024 - accuracy: 0.9992 - val_loss: 0.0051 - val_binary_crossentropy: 0.0051 - val_accuracy: 0.9993 - 762ms/epoch - 10ms/step\n",
      "Epoch 160/10000\n",
      ".80/80 - 1s - loss: 0.0353 - binary_crossentropy: 0.0353 - accuracy: 0.9911 - val_loss: 0.0590 - val_binary_crossentropy: 0.0590 - val_accuracy: 0.9840 - 791ms/epoch - 10ms/step\n",
      "Epoch 161/10000\n",
      ".80/80 - 1s - loss: 0.0482 - binary_crossentropy: 0.0482 - accuracy: 0.9839 - val_loss: 0.0091 - val_binary_crossentropy: 0.0091 - val_accuracy: 0.9980 - 787ms/epoch - 10ms/step\n",
      "Epoch 162/10000\n",
      ".80/80 - 1s - loss: 0.0115 - binary_crossentropy: 0.0115 - accuracy: 0.9968 - val_loss: 0.0025 - val_binary_crossentropy: 0.0025 - val_accuracy: 0.9997 - 777ms/epoch - 10ms/step\n",
      "Epoch 163/10000\n",
      ".80/80 - 1s - loss: 0.0034 - binary_crossentropy: 0.0034 - accuracy: 0.9993 - val_loss: 0.0012 - val_binary_crossentropy: 0.0012 - val_accuracy: 1.0000 - 838ms/epoch - 10ms/step\n",
      "Epoch 164/10000\n",
      ".80/80 - 1s - loss: 0.0019 - binary_crossentropy: 0.0019 - accuracy: 0.9996 - val_loss: 8.0007e-04 - val_binary_crossentropy: 8.0007e-04 - val_accuracy: 1.0000 - 768ms/epoch - 10ms/step\n",
      "Epoch 165/10000\n",
      ".80/80 - 1s - loss: 0.0016 - binary_crossentropy: 0.0016 - accuracy: 0.9996 - val_loss: 7.0040e-04 - val_binary_crossentropy: 7.0040e-04 - val_accuracy: 1.0000 - 763ms/epoch - 10ms/step\n",
      "Epoch 166/10000\n",
      ".80/80 - 1s - loss: 0.0014 - binary_crossentropy: 0.0014 - accuracy: 0.9996 - val_loss: 6.5268e-04 - val_binary_crossentropy: 6.5268e-04 - val_accuracy: 1.0000 - 759ms/epoch - 9ms/step\n",
      "Epoch 167/10000\n",
      ".80/80 - 1s - loss: 0.0012 - binary_crossentropy: 0.0012 - accuracy: 0.9996 - val_loss: 6.1626e-04 - val_binary_crossentropy: 6.1626e-04 - val_accuracy: 1.0000 - 734ms/epoch - 9ms/step\n",
      "Epoch 168/10000\n",
      ".80/80 - 1s - loss: 0.0011 - binary_crossentropy: 0.0011 - accuracy: 0.9997 - val_loss: 5.7871e-04 - val_binary_crossentropy: 5.7871e-04 - val_accuracy: 1.0000 - 762ms/epoch - 10ms/step\n",
      "Epoch 169/10000\n",
      ".80/80 - 1s - loss: 0.0010 - binary_crossentropy: 0.0010 - accuracy: 0.9997 - val_loss: 5.6191e-04 - val_binary_crossentropy: 5.6191e-04 - val_accuracy: 1.0000 - 875ms/epoch - 11ms/step\n",
      "Epoch 170/10000\n",
      ".80/80 - 1s - loss: 9.7854e-04 - binary_crossentropy: 9.7854e-04 - accuracy: 0.9997 - val_loss: 5.4125e-04 - val_binary_crossentropy: 5.4125e-04 - val_accuracy: 1.0000 - 774ms/epoch - 10ms/step\n",
      "Epoch 171/10000\n",
      ".80/80 - 1s - loss: 0.0011 - binary_crossentropy: 0.0011 - accuracy: 0.9997 - val_loss: 5.3830e-04 - val_binary_crossentropy: 5.3830e-04 - val_accuracy: 1.0000 - 752ms/epoch - 9ms/step\n",
      "Epoch 172/10000\n",
      ".80/80 - 1s - loss: 9.6209e-04 - binary_crossentropy: 9.6209e-04 - accuracy: 0.9997 - val_loss: 5.2611e-04 - val_binary_crossentropy: 5.2611e-04 - val_accuracy: 1.0000 - 767ms/epoch - 10ms/step\n",
      "Epoch 173/10000\n",
      ".80/80 - 1s - loss: 9.8281e-04 - binary_crossentropy: 9.8281e-04 - accuracy: 0.9997 - val_loss: 5.0982e-04 - val_binary_crossentropy: 5.0982e-04 - val_accuracy: 1.0000 - 758ms/epoch - 9ms/step\n",
      "Epoch 174/10000\n",
      ".80/80 - 1s - loss: 9.9954e-04 - binary_crossentropy: 9.9954e-04 - accuracy: 0.9997 - val_loss: 5.0027e-04 - val_binary_crossentropy: 5.0027e-04 - val_accuracy: 1.0000 - 771ms/epoch - 10ms/step\n",
      "Epoch 175/10000\n",
      ".80/80 - 1s - loss: 9.4981e-04 - binary_crossentropy: 9.4981e-04 - accuracy: 0.9997 - val_loss: 5.0903e-04 - val_binary_crossentropy: 5.0903e-04 - val_accuracy: 1.0000 - 780ms/epoch - 10ms/step\n",
      "Epoch 176/10000\n",
      ".80/80 - 1s - loss: 8.5767e-04 - binary_crossentropy: 8.5767e-04 - accuracy: 0.9997 - val_loss: 5.0396e-04 - val_binary_crossentropy: 5.0396e-04 - val_accuracy: 1.0000 - 789ms/epoch - 10ms/step\n",
      "Epoch 177/10000\n",
      ".80/80 - 1s - loss: 9.3497e-04 - binary_crossentropy: 9.3497e-04 - accuracy: 0.9997 - val_loss: 5.0034e-04 - val_binary_crossentropy: 5.0034e-04 - val_accuracy: 1.0000 - 826ms/epoch - 10ms/step\n",
      "Epoch 178/10000\n",
      ".80/80 - 1s - loss: 9.3545e-04 - binary_crossentropy: 9.3545e-04 - accuracy: 0.9997 - val_loss: 4.9522e-04 - val_binary_crossentropy: 4.9522e-04 - val_accuracy: 1.0000 - 788ms/epoch - 10ms/step\n",
      "Epoch 179/10000\n",
      ".80/80 - 1s - loss: 8.2060e-04 - binary_crossentropy: 8.2060e-04 - accuracy: 0.9997 - val_loss: 4.9471e-04 - val_binary_crossentropy: 4.9471e-04 - val_accuracy: 1.0000 - 783ms/epoch - 10ms/step\n",
      "Epoch 180/10000\n",
      ".80/80 - 1s - loss: 8.6587e-04 - binary_crossentropy: 8.6587e-04 - accuracy: 0.9997 - val_loss: 4.9811e-04 - val_binary_crossentropy: 4.9811e-04 - val_accuracy: 1.0000 - 758ms/epoch - 9ms/step\n",
      "Epoch 181/10000\n",
      ".80/80 - 1s - loss: 8.1933e-04 - binary_crossentropy: 8.1933e-04 - accuracy: 0.9997 - val_loss: 4.9838e-04 - val_binary_crossentropy: 4.9838e-04 - val_accuracy: 1.0000 - 792ms/epoch - 10ms/step\n",
      "Epoch 182/10000\n",
      ".80/80 - 1s - loss: 8.2982e-04 - binary_crossentropy: 8.2982e-04 - accuracy: 0.9997 - val_loss: 4.9570e-04 - val_binary_crossentropy: 4.9570e-04 - val_accuracy: 1.0000 - 789ms/epoch - 10ms/step\n",
      "Epoch 183/10000\n",
      ".80/80 - 1s - loss: 8.2863e-04 - binary_crossentropy: 8.2863e-04 - accuracy: 0.9997 - val_loss: 5.0961e-04 - val_binary_crossentropy: 5.0961e-04 - val_accuracy: 1.0000 - 750ms/epoch - 9ms/step\n",
      "Epoch 184/10000\n",
      ".80/80 - 1s - loss: 8.1925e-04 - binary_crossentropy: 8.1925e-04 - accuracy: 0.9997 - val_loss: 4.9120e-04 - val_binary_crossentropy: 4.9120e-04 - val_accuracy: 1.0000 - 757ms/epoch - 9ms/step\n",
      "Epoch 185/10000\n",
      ".80/80 - 1s - loss: 8.1845e-04 - binary_crossentropy: 8.1845e-04 - accuracy: 0.9997 - val_loss: 5.0131e-04 - val_binary_crossentropy: 5.0131e-04 - val_accuracy: 1.0000 - 747ms/epoch - 9ms/step\n",
      "Epoch 186/10000\n",
      ".80/80 - 1s - loss: 8.7565e-04 - binary_crossentropy: 8.7565e-04 - accuracy: 0.9997 - val_loss: 4.9517e-04 - val_binary_crossentropy: 4.9517e-04 - val_accuracy: 1.0000 - 808ms/epoch - 10ms/step\n",
      "Epoch 187/10000\n",
      ".80/80 - 1s - loss: 8.0625e-04 - binary_crossentropy: 8.0625e-04 - accuracy: 0.9997 - val_loss: 4.9122e-04 - val_binary_crossentropy: 4.9122e-04 - val_accuracy: 1.0000 - 776ms/epoch - 10ms/step\n",
      "Epoch 188/10000\n",
      ".80/80 - 1s - loss: 8.0411e-04 - binary_crossentropy: 8.0411e-04 - accuracy: 0.9997 - val_loss: 4.8200e-04 - val_binary_crossentropy: 4.8200e-04 - val_accuracy: 1.0000 - 729ms/epoch - 9ms/step\n",
      "Epoch 189/10000\n",
      ".80/80 - 1s - loss: 7.7570e-04 - binary_crossentropy: 7.7570e-04 - accuracy: 0.9997 - val_loss: 4.8252e-04 - val_binary_crossentropy: 4.8252e-04 - val_accuracy: 1.0000 - 790ms/epoch - 10ms/step\n",
      "Epoch 190/10000\n",
      ".80/80 - 1s - loss: 8.1732e-04 - binary_crossentropy: 8.1732e-04 - accuracy: 0.9997 - val_loss: 4.8515e-04 - val_binary_crossentropy: 4.8515e-04 - val_accuracy: 1.0000 - 785ms/epoch - 10ms/step\n",
      "Epoch 191/10000\n",
      ".80/80 - 1s - loss: 8.5302e-04 - binary_crossentropy: 8.5302e-04 - accuracy: 0.9997 - val_loss: 4.7689e-04 - val_binary_crossentropy: 4.7689e-04 - val_accuracy: 1.0000 - 732ms/epoch - 9ms/step\n",
      "Epoch 192/10000\n",
      ".80/80 - 1s - loss: 8.1634e-04 - binary_crossentropy: 8.1634e-04 - accuracy: 0.9997 - val_loss: 4.9216e-04 - val_binary_crossentropy: 4.9216e-04 - val_accuracy: 1.0000 - 775ms/epoch - 10ms/step\n",
      "Epoch 193/10000\n",
      ".80/80 - 1s - loss: 7.8147e-04 - binary_crossentropy: 7.8147e-04 - accuracy: 0.9996 - val_loss: 4.9221e-04 - val_binary_crossentropy: 4.9221e-04 - val_accuracy: 1.0000 - 766ms/epoch - 10ms/step\n",
      "Epoch 194/10000\n",
      ".80/80 - 1s - loss: 8.1014e-04 - binary_crossentropy: 8.1014e-04 - accuracy: 0.9997 - val_loss: 4.8491e-04 - val_binary_crossentropy: 4.8491e-04 - val_accuracy: 1.0000 - 752ms/epoch - 9ms/step\n",
      "Epoch 195/10000\n",
      ".80/80 - 1s - loss: 7.6633e-04 - binary_crossentropy: 7.6633e-04 - accuracy: 0.9997 - val_loss: 4.9115e-04 - val_binary_crossentropy: 4.9115e-04 - val_accuracy: 1.0000 - 725ms/epoch - 9ms/step\n",
      "Epoch 196/10000\n",
      ".80/80 - 1s - loss: 8.3732e-04 - binary_crossentropy: 8.3732e-04 - accuracy: 0.9996 - val_loss: 4.7865e-04 - val_binary_crossentropy: 4.7865e-04 - val_accuracy: 1.0000 - 753ms/epoch - 9ms/step\n",
      "Epoch 197/10000\n",
      ".80/80 - 1s - loss: 7.9248e-04 - binary_crossentropy: 7.9248e-04 - accuracy: 0.9997 - val_loss: 4.8667e-04 - val_binary_crossentropy: 4.8667e-04 - val_accuracy: 1.0000 - 736ms/epoch - 9ms/step\n",
      "Epoch 198/10000\n",
      ".80/80 - 1s - loss: 7.6524e-04 - binary_crossentropy: 7.6524e-04 - accuracy: 0.9997 - val_loss: 4.7474e-04 - val_binary_crossentropy: 4.7474e-04 - val_accuracy: 1.0000 - 742ms/epoch - 9ms/step\n",
      "Epoch 199/10000\n",
      ".80/80 - 1s - loss: 8.3456e-04 - binary_crossentropy: 8.3456e-04 - accuracy: 0.9996 - val_loss: 4.7163e-04 - val_binary_crossentropy: 4.7163e-04 - val_accuracy: 1.0000 - 758ms/epoch - 9ms/step\n",
      "Epoch 200/10000\n",
      ".80/80 - 1s - loss: 7.7344e-04 - binary_crossentropy: 7.7344e-04 - accuracy: 0.9997 - val_loss: 4.9646e-04 - val_binary_crossentropy: 4.9646e-04 - val_accuracy: 1.0000 - 749ms/epoch - 9ms/step\n",
      "Epoch 201/10000\n",
      "\n",
      "Epoch: 200, accuracy:0.9996,  binary_crossentropy:0.0008,  loss:0.0008,  val_accuracy:1.0000,  val_binary_crossentropy:0.0005,  val_loss:0.0005,  \n",
      ".80/80 - 1s - loss: 8.4506e-04 - binary_crossentropy: 8.4506e-04 - accuracy: 0.9996 - val_loss: 5.0881e-04 - val_binary_crossentropy: 5.0881e-04 - val_accuracy: 1.0000 - 732ms/epoch - 9ms/step\n",
      "Epoch 202/10000\n",
      ".80/80 - 1s - loss: 8.0076e-04 - binary_crossentropy: 8.0076e-04 - accuracy: 0.9997 - val_loss: 4.9543e-04 - val_binary_crossentropy: 4.9543e-04 - val_accuracy: 1.0000 - 803ms/epoch - 10ms/step\n",
      "Epoch 203/10000\n",
      ".80/80 - 1s - loss: 8.0061e-04 - binary_crossentropy: 8.0061e-04 - accuracy: 0.9997 - val_loss: 4.9141e-04 - val_binary_crossentropy: 4.9141e-04 - val_accuracy: 1.0000 - 721ms/epoch - 9ms/step\n",
      "Epoch 204/10000\n",
      ".80/80 - 1s - loss: 8.2165e-04 - binary_crossentropy: 8.2165e-04 - accuracy: 0.9997 - val_loss: 4.6991e-04 - val_binary_crossentropy: 4.6991e-04 - val_accuracy: 1.0000 - 753ms/epoch - 9ms/step\n",
      "Epoch 205/10000\n",
      ".80/80 - 1s - loss: 8.3256e-04 - binary_crossentropy: 8.3256e-04 - accuracy: 0.9996 - val_loss: 4.7671e-04 - val_binary_crossentropy: 4.7671e-04 - val_accuracy: 1.0000 - 745ms/epoch - 9ms/step\n",
      "Epoch 206/10000\n",
      ".80/80 - 1s - loss: 7.3239e-04 - binary_crossentropy: 7.3239e-04 - accuracy: 0.9997 - val_loss: 4.7462e-04 - val_binary_crossentropy: 4.7462e-04 - val_accuracy: 1.0000 - 750ms/epoch - 9ms/step\n",
      "Epoch 207/10000\n",
      ".80/80 - 1s - loss: 7.7548e-04 - binary_crossentropy: 7.7548e-04 - accuracy: 0.9997 - val_loss: 4.9455e-04 - val_binary_crossentropy: 4.9455e-04 - val_accuracy: 1.0000 - 742ms/epoch - 9ms/step\n",
      "Epoch 208/10000\n",
      ".80/80 - 1s - loss: 7.6557e-04 - binary_crossentropy: 7.6557e-04 - accuracy: 0.9997 - val_loss: 4.8731e-04 - val_binary_crossentropy: 4.8731e-04 - val_accuracy: 1.0000 - 745ms/epoch - 9ms/step\n",
      "Epoch 209/10000\n",
      ".80/80 - 1s - loss: 7.1655e-04 - binary_crossentropy: 7.1655e-04 - accuracy: 0.9997 - val_loss: 5.0596e-04 - val_binary_crossentropy: 5.0596e-04 - val_accuracy: 1.0000 - 740ms/epoch - 9ms/step\n",
      "Epoch 210/10000\n",
      ".80/80 - 1s - loss: 7.6723e-04 - binary_crossentropy: 7.6723e-04 - accuracy: 0.9997 - val_loss: 5.0937e-04 - val_binary_crossentropy: 5.0937e-04 - val_accuracy: 1.0000 - 743ms/epoch - 9ms/step\n",
      "Epoch 211/10000\n",
      ".80/80 - 1s - loss: 8.0765e-04 - binary_crossentropy: 8.0765e-04 - accuracy: 0.9997 - val_loss: 5.0601e-04 - val_binary_crossentropy: 5.0601e-04 - val_accuracy: 1.0000 - 751ms/epoch - 9ms/step\n",
      "Epoch 212/10000\n",
      ".80/80 - 1s - loss: 7.7217e-04 - binary_crossentropy: 7.7217e-04 - accuracy: 0.9997 - val_loss: 4.8794e-04 - val_binary_crossentropy: 4.8794e-04 - val_accuracy: 1.0000 - 725ms/epoch - 9ms/step\n",
      "Epoch 213/10000\n",
      ".80/80 - 1s - loss: 7.7724e-04 - binary_crossentropy: 7.7724e-04 - accuracy: 0.9997 - val_loss: 5.0532e-04 - val_binary_crossentropy: 5.0532e-04 - val_accuracy: 1.0000 - 772ms/epoch - 10ms/step\n",
      "Epoch 214/10000\n",
      ".80/80 - 1s - loss: 7.5548e-04 - binary_crossentropy: 7.5548e-04 - accuracy: 0.9996 - val_loss: 4.8967e-04 - val_binary_crossentropy: 4.8967e-04 - val_accuracy: 1.0000 - 783ms/epoch - 10ms/step\n",
      "Epoch 215/10000\n",
      ".80/80 - 1s - loss: 8.1137e-04 - binary_crossentropy: 8.1137e-04 - accuracy: 0.9997 - val_loss: 5.0701e-04 - val_binary_crossentropy: 5.0701e-04 - val_accuracy: 1.0000 - 752ms/epoch - 9ms/step\n",
      "Epoch 216/10000\n",
      ".80/80 - 1s - loss: 7.5348e-04 - binary_crossentropy: 7.5348e-04 - accuracy: 0.9997 - val_loss: 5.0189e-04 - val_binary_crossentropy: 5.0189e-04 - val_accuracy: 1.0000 - 739ms/epoch - 9ms/step\n",
      "Epoch 217/10000\n",
      ".80/80 - 1s - loss: 7.8260e-04 - binary_crossentropy: 7.8260e-04 - accuracy: 0.9997 - val_loss: 5.1096e-04 - val_binary_crossentropy: 5.1096e-04 - val_accuracy: 1.0000 - 745ms/epoch - 9ms/step\n",
      "Epoch 218/10000\n",
      ".80/80 - 1s - loss: 7.6916e-04 - binary_crossentropy: 7.6916e-04 - accuracy: 0.9997 - val_loss: 5.0027e-04 - val_binary_crossentropy: 5.0027e-04 - val_accuracy: 1.0000 - 745ms/epoch - 9ms/step\n",
      "Epoch 219/10000\n",
      ".80/80 - 1s - loss: 7.8288e-04 - binary_crossentropy: 7.8288e-04 - accuracy: 0.9997 - val_loss: 4.8095e-04 - val_binary_crossentropy: 4.8095e-04 - val_accuracy: 1.0000 - 760ms/epoch - 9ms/step\n",
      "Epoch 220/10000\n",
      ".80/80 - 1s - loss: 7.5347e-04 - binary_crossentropy: 7.5347e-04 - accuracy: 0.9997 - val_loss: 5.1750e-04 - val_binary_crossentropy: 5.1750e-04 - val_accuracy: 1.0000 - 755ms/epoch - 9ms/step\n",
      "Epoch 221/10000\n",
      ".80/80 - 1s - loss: 7.4663e-04 - binary_crossentropy: 7.4663e-04 - accuracy: 0.9997 - val_loss: 5.2147e-04 - val_binary_crossentropy: 5.2147e-04 - val_accuracy: 1.0000 - 784ms/epoch - 10ms/step\n",
      "Epoch 222/10000\n",
      ".80/80 - 1s - loss: 7.7184e-04 - binary_crossentropy: 7.7184e-04 - accuracy: 0.9997 - val_loss: 5.2559e-04 - val_binary_crossentropy: 5.2559e-04 - val_accuracy: 1.0000 - 799ms/epoch - 10ms/step\n",
      "Epoch 223/10000\n",
      ".80/80 - 1s - loss: 7.5189e-04 - binary_crossentropy: 7.5189e-04 - accuracy: 0.9997 - val_loss: 5.0573e-04 - val_binary_crossentropy: 5.0573e-04 - val_accuracy: 1.0000 - 725ms/epoch - 9ms/step\n",
      "Epoch 224/10000\n",
      ".80/80 - 1s - loss: 7.7567e-04 - binary_crossentropy: 7.7567e-04 - accuracy: 0.9997 - val_loss: 5.2020e-04 - val_binary_crossentropy: 5.2020e-04 - val_accuracy: 1.0000 - 724ms/epoch - 9ms/step\n",
      "Epoch 225/10000\n",
      ".80/80 - 1s - loss: 7.2111e-04 - binary_crossentropy: 7.2111e-04 - accuracy: 0.9997 - val_loss: 5.3502e-04 - val_binary_crossentropy: 5.3502e-04 - val_accuracy: 1.0000 - 907ms/epoch - 11ms/step\n",
      "Epoch 226/10000\n",
      ".80/80 - 1s - loss: 8.0066e-04 - binary_crossentropy: 8.0066e-04 - accuracy: 0.9997 - val_loss: 5.2791e-04 - val_binary_crossentropy: 5.2791e-04 - val_accuracy: 1.0000 - 865ms/epoch - 11ms/step\n",
      "Epoch 227/10000\n",
      ".80/80 - 1s - loss: 7.9308e-04 - binary_crossentropy: 7.9308e-04 - accuracy: 0.9997 - val_loss: 5.2242e-04 - val_binary_crossentropy: 5.2242e-04 - val_accuracy: 1.0000 - 721ms/epoch - 9ms/step\n",
      "Epoch 228/10000\n",
      ".80/80 - 1s - loss: 9.3981e-04 - binary_crossentropy: 9.3981e-04 - accuracy: 0.9996 - val_loss: 6.0565e-04 - val_binary_crossentropy: 6.0565e-04 - val_accuracy: 1.0000 - 813ms/epoch - 10ms/step\n",
      "Epoch 229/10000\n",
      ".80/80 - 1s - loss: 0.0193 - binary_crossentropy: 0.0193 - accuracy: 0.9956 - val_loss: 0.0262 - val_binary_crossentropy: 0.0262 - val_accuracy: 0.9937 - 804ms/epoch - 10ms/step\n",
      "Epoch 230/10000\n",
      ".80/80 - 1s - loss: 0.0335 - binary_crossentropy: 0.0335 - accuracy: 0.9898 - val_loss: 0.0094 - val_binary_crossentropy: 0.0094 - val_accuracy: 0.9970 - 811ms/epoch - 10ms/step\n",
      "Epoch 231/10000\n",
      ".80/80 - 1s - loss: 0.0123 - binary_crossentropy: 0.0123 - accuracy: 0.9961 - val_loss: 0.0020 - val_binary_crossentropy: 0.0020 - val_accuracy: 0.9997 - 748ms/epoch - 9ms/step\n",
      "Epoch 232/10000\n",
      ".80/80 - 1s - loss: 0.0031 - binary_crossentropy: 0.0031 - accuracy: 0.9992 - val_loss: 0.0014 - val_binary_crossentropy: 0.0014 - val_accuracy: 0.9997 - 763ms/epoch - 10ms/step\n",
      "Epoch 233/10000\n",
      ".80/80 - 1s - loss: 0.0016 - binary_crossentropy: 0.0016 - accuracy: 0.9996 - val_loss: 0.0013 - val_binary_crossentropy: 0.0013 - val_accuracy: 0.9997 - 804ms/epoch - 10ms/step\n",
      "Epoch 234/10000\n",
      ".80/80 - 1s - loss: 0.0013 - binary_crossentropy: 0.0013 - accuracy: 0.9997 - val_loss: 0.0012 - val_binary_crossentropy: 0.0012 - val_accuracy: 0.9997 - 745ms/epoch - 9ms/step\n",
      "Epoch 235/10000\n",
      ".80/80 - 1s - loss: 0.0012 - binary_crossentropy: 0.0012 - accuracy: 0.9997 - val_loss: 0.0011 - val_binary_crossentropy: 0.0011 - val_accuracy: 0.9997 - 770ms/epoch - 10ms/step\n",
      "Epoch 236/10000\n",
      ".80/80 - 1s - loss: 0.0010 - binary_crossentropy: 0.0010 - accuracy: 0.9996 - val_loss: 0.0011 - val_binary_crossentropy: 0.0011 - val_accuracy: 0.9997 - 761ms/epoch - 10ms/step\n",
      "Epoch 237/10000\n",
      ".80/80 - 1s - loss: 0.0011 - binary_crossentropy: 0.0011 - accuracy: 0.9996 - val_loss: 0.0011 - val_binary_crossentropy: 0.0011 - val_accuracy: 0.9997 - 737ms/epoch - 9ms/step\n",
      "Epoch 238/10000\n",
      ".80/80 - 1s - loss: 0.0010 - binary_crossentropy: 0.0010 - accuracy: 0.9997 - val_loss: 0.0011 - val_binary_crossentropy: 0.0011 - val_accuracy: 0.9997 - 814ms/epoch - 10ms/step\n",
      "Epoch 239/10000\n",
      ".80/80 - 1s - loss: 9.8156e-04 - binary_crossentropy: 9.8156e-04 - accuracy: 0.9997 - val_loss: 0.0011 - val_binary_crossentropy: 0.0011 - val_accuracy: 0.9997 - 819ms/epoch - 10ms/step\n",
      "Epoch 240/10000\n",
      ".80/80 - 1s - loss: 8.6295e-04 - binary_crossentropy: 8.6295e-04 - accuracy: 0.9997 - val_loss: 0.0011 - val_binary_crossentropy: 0.0011 - val_accuracy: 0.9997 - 747ms/epoch - 9ms/step\n",
      "Epoch 241/10000\n",
      ".80/80 - 1s - loss: 8.8129e-04 - binary_crossentropy: 8.8129e-04 - accuracy: 0.9997 - val_loss: 0.0011 - val_binary_crossentropy: 0.0011 - val_accuracy: 0.9997 - 758ms/epoch - 9ms/step\n",
      "Epoch 242/10000\n",
      ".80/80 - 1s - loss: 8.9772e-04 - binary_crossentropy: 8.9772e-04 - accuracy: 0.9997 - val_loss: 0.0010 - val_binary_crossentropy: 0.0010 - val_accuracy: 0.9997 - 736ms/epoch - 9ms/step\n",
      "Epoch 243/10000\n",
      ".80/80 - 1s - loss: 8.7811e-04 - binary_crossentropy: 8.7811e-04 - accuracy: 0.9997 - val_loss: 0.0010 - val_binary_crossentropy: 0.0010 - val_accuracy: 0.9997 - 760ms/epoch - 10ms/step\n",
      "Epoch 244/10000\n",
      ".80/80 - 1s - loss: 8.4137e-04 - binary_crossentropy: 8.4137e-04 - accuracy: 0.9997 - val_loss: 0.0010 - val_binary_crossentropy: 0.0010 - val_accuracy: 0.9997 - 738ms/epoch - 9ms/step\n",
      "Epoch 245/10000\n",
      ".80/80 - 1s - loss: 8.5513e-04 - binary_crossentropy: 8.5513e-04 - accuracy: 0.9997 - val_loss: 0.0010 - val_binary_crossentropy: 0.0010 - val_accuracy: 0.9997 - 748ms/epoch - 9ms/step\n",
      "Epoch 246/10000\n",
      ".80/80 - 1s - loss: 8.7578e-04 - binary_crossentropy: 8.7578e-04 - accuracy: 0.9997 - val_loss: 0.0010 - val_binary_crossentropy: 0.0010 - val_accuracy: 0.9997 - 766ms/epoch - 10ms/step\n",
      "Epoch 247/10000\n",
      ".80/80 - 1s - loss: 8.3856e-04 - binary_crossentropy: 8.3856e-04 - accuracy: 0.9997 - val_loss: 0.0010 - val_binary_crossentropy: 0.0010 - val_accuracy: 0.9997 - 769ms/epoch - 10ms/step\n",
      "Epoch 248/10000\n",
      ".80/80 - 1s - loss: 8.1730e-04 - binary_crossentropy: 8.1730e-04 - accuracy: 0.9997 - val_loss: 0.0010 - val_binary_crossentropy: 0.0010 - val_accuracy: 0.9997 - 766ms/epoch - 10ms/step\n",
      "Epoch 249/10000\n",
      ".80/80 - 1s - loss: 8.1323e-04 - binary_crossentropy: 8.1323e-04 - accuracy: 0.9997 - val_loss: 0.0010 - val_binary_crossentropy: 0.0010 - val_accuracy: 0.9997 - 711ms/epoch - 9ms/step\n",
      "Epoch 250/10000\n",
      ".80/80 - 1s - loss: 7.8214e-04 - binary_crossentropy: 7.8214e-04 - accuracy: 0.9997 - val_loss: 0.0010 - val_binary_crossentropy: 0.0010 - val_accuracy: 0.9997 - 739ms/epoch - 9ms/step\n",
      "Epoch 251/10000\n",
      ".80/80 - 1s - loss: 8.1355e-04 - binary_crossentropy: 8.1355e-04 - accuracy: 0.9997 - val_loss: 0.0010 - val_binary_crossentropy: 0.0010 - val_accuracy: 0.9997 - 731ms/epoch - 9ms/step\n",
      "Epoch 252/10000\n",
      ".80/80 - 1s - loss: 7.8345e-04 - binary_crossentropy: 7.8345e-04 - accuracy: 0.9997 - val_loss: 0.0010 - val_binary_crossentropy: 0.0010 - val_accuracy: 0.9997 - 732ms/epoch - 9ms/step\n",
      "Epoch 253/10000\n",
      ".80/80 - 1s - loss: 7.5965e-04 - binary_crossentropy: 7.5965e-04 - accuracy: 0.9997 - val_loss: 0.0010 - val_binary_crossentropy: 0.0010 - val_accuracy: 0.9997 - 753ms/epoch - 9ms/step\n",
      "Epoch 254/10000\n",
      ".80/80 - 1s - loss: 7.8453e-04 - binary_crossentropy: 7.8453e-04 - accuracy: 0.9997 - val_loss: 0.0010 - val_binary_crossentropy: 0.0010 - val_accuracy: 0.9997 - 744ms/epoch - 9ms/step\n",
      "Epoch 255/10000\n",
      ".80/80 - 1s - loss: 7.7173e-04 - binary_crossentropy: 7.7173e-04 - accuracy: 0.9997 - val_loss: 0.0010 - val_binary_crossentropy: 0.0010 - val_accuracy: 0.9997 - 820ms/epoch - 10ms/step\n",
      "Epoch 256/10000\n",
      ".80/80 - 1s - loss: 7.3314e-04 - binary_crossentropy: 7.3314e-04 - accuracy: 0.9997 - val_loss: 0.0010 - val_binary_crossentropy: 0.0010 - val_accuracy: 0.9997 - 746ms/epoch - 9ms/step\n",
      "Epoch 257/10000\n",
      ".80/80 - 1s - loss: 7.4996e-04 - binary_crossentropy: 7.4996e-04 - accuracy: 0.9997 - val_loss: 9.9797e-04 - val_binary_crossentropy: 9.9797e-04 - val_accuracy: 0.9997 - 788ms/epoch - 10ms/step\n",
      "Epoch 258/10000\n",
      ".80/80 - 1s - loss: 8.2752e-04 - binary_crossentropy: 8.2752e-04 - accuracy: 0.9997 - val_loss: 9.9688e-04 - val_binary_crossentropy: 9.9688e-04 - val_accuracy: 0.9997 - 732ms/epoch - 9ms/step\n",
      "Epoch 259/10000\n",
      ".80/80 - 1s - loss: 7.6604e-04 - binary_crossentropy: 7.6604e-04 - accuracy: 0.9997 - val_loss: 0.0010 - val_binary_crossentropy: 0.0010 - val_accuracy: 0.9997 - 753ms/epoch - 9ms/step\n",
      "Epoch 260/10000\n",
      ".80/80 - 1s - loss: 7.2382e-04 - binary_crossentropy: 7.2382e-04 - accuracy: 0.9997 - val_loss: 9.9992e-04 - val_binary_crossentropy: 9.9992e-04 - val_accuracy: 0.9997 - 759ms/epoch - 9ms/step\n",
      "Epoch 261/10000\n",
      ".80/80 - 1s - loss: 7.3927e-04 - binary_crossentropy: 7.3927e-04 - accuracy: 0.9997 - val_loss: 0.0010 - val_binary_crossentropy: 0.0010 - val_accuracy: 0.9997 - 765ms/epoch - 10ms/step\n",
      "Epoch 262/10000\n",
      ".80/80 - 1s - loss: 7.4385e-04 - binary_crossentropy: 7.4385e-04 - accuracy: 0.9997 - val_loss: 9.9697e-04 - val_binary_crossentropy: 9.9697e-04 - val_accuracy: 0.9997 - 732ms/epoch - 9ms/step\n",
      "Epoch 263/10000\n",
      ".80/80 - 1s - loss: 7.2256e-04 - binary_crossentropy: 7.2256e-04 - accuracy: 0.9997 - val_loss: 9.9500e-04 - val_binary_crossentropy: 9.9500e-04 - val_accuracy: 0.9997 - 779ms/epoch - 10ms/step\n",
      "Epoch 264/10000\n",
      ".80/80 - 1s - loss: 7.1404e-04 - binary_crossentropy: 7.1404e-04 - accuracy: 0.9997 - val_loss: 9.9793e-04 - val_binary_crossentropy: 9.9793e-04 - val_accuracy: 0.9997 - 754ms/epoch - 9ms/step\n",
      "Epoch 265/10000\n",
      ".80/80 - 1s - loss: 7.4866e-04 - binary_crossentropy: 7.4866e-04 - accuracy: 0.9997 - val_loss: 9.9384e-04 - val_binary_crossentropy: 9.9384e-04 - val_accuracy: 0.9997 - 774ms/epoch - 10ms/step\n",
      "Epoch 266/10000\n",
      ".80/80 - 1s - loss: 7.5828e-04 - binary_crossentropy: 7.5828e-04 - accuracy: 0.9997 - val_loss: 9.9425e-04 - val_binary_crossentropy: 9.9425e-04 - val_accuracy: 0.9997 - 777ms/epoch - 10ms/step\n",
      "Epoch 267/10000\n",
      ".80/80 - 1s - loss: 8.1565e-04 - binary_crossentropy: 8.1565e-04 - accuracy: 0.9997 - val_loss: 0.0010 - val_binary_crossentropy: 0.0010 - val_accuracy: 0.9997 - 838ms/epoch - 10ms/step\n",
      "Epoch 268/10000\n",
      ".80/80 - 1s - loss: 7.7839e-04 - binary_crossentropy: 7.7839e-04 - accuracy: 0.9997 - val_loss: 0.0010 - val_binary_crossentropy: 0.0010 - val_accuracy: 0.9997 - 721ms/epoch - 9ms/step\n",
      "Epoch 269/10000\n",
      ".80/80 - 1s - loss: 8.1287e-04 - binary_crossentropy: 8.1287e-04 - accuracy: 0.9997 - val_loss: 0.0010 - val_binary_crossentropy: 0.0010 - val_accuracy: 0.9997 - 789ms/epoch - 10ms/step\n",
      "Epoch 270/10000\n",
      ".80/80 - 1s - loss: 6.8648e-04 - binary_crossentropy: 6.8648e-04 - accuracy: 0.9997 - val_loss: 9.2018e-04 - val_binary_crossentropy: 9.2018e-04 - val_accuracy: 0.9997 - 821ms/epoch - 10ms/step\n",
      "Epoch 271/10000\n",
      ".80/80 - 1s - loss: 7.4816e-04 - binary_crossentropy: 7.4816e-04 - accuracy: 0.9997 - val_loss: 4.7300e-04 - val_binary_crossentropy: 4.7300e-04 - val_accuracy: 1.0000 - 756ms/epoch - 9ms/step\n",
      "Epoch 272/10000\n",
      ".80/80 - 1s - loss: 7.0166e-04 - binary_crossentropy: 7.0166e-04 - accuracy: 0.9998 - val_loss: 4.7227e-04 - val_binary_crossentropy: 4.7227e-04 - val_accuracy: 1.0000 - 755ms/epoch - 9ms/step\n",
      "Epoch 273/10000\n",
      ".80/80 - 1s - loss: 6.9066e-04 - binary_crossentropy: 6.9066e-04 - accuracy: 0.9998 - val_loss: 4.6786e-04 - val_binary_crossentropy: 4.6786e-04 - val_accuracy: 1.0000 - 737ms/epoch - 9ms/step\n",
      "Epoch 274/10000\n",
      ".80/80 - 1s - loss: 6.4487e-04 - binary_crossentropy: 6.4487e-04 - accuracy: 0.9998 - val_loss: 4.5742e-04 - val_binary_crossentropy: 4.5742e-04 - val_accuracy: 1.0000 - 800ms/epoch - 10ms/step\n",
      "Epoch 275/10000\n",
      ".80/80 - 1s - loss: 7.0717e-04 - binary_crossentropy: 7.0717e-04 - accuracy: 0.9998 - val_loss: 4.3189e-04 - val_binary_crossentropy: 4.3189e-04 - val_accuracy: 1.0000 - 756ms/epoch - 9ms/step\n",
      "Epoch 276/10000\n",
      ".80/80 - 1s - loss: 6.6205e-04 - binary_crossentropy: 6.6205e-04 - accuracy: 0.9998 - val_loss: 4.4648e-04 - val_binary_crossentropy: 4.4648e-04 - val_accuracy: 1.0000 - 745ms/epoch - 9ms/step\n",
      "Epoch 277/10000\n",
      ".80/80 - 1s - loss: 6.1864e-04 - binary_crossentropy: 6.1864e-04 - accuracy: 0.9998 - val_loss: 4.4608e-04 - val_binary_crossentropy: 4.4608e-04 - val_accuracy: 1.0000 - 748ms/epoch - 9ms/step\n",
      "Epoch 278/10000\n",
      ".80/80 - 1s - loss: 7.1569e-04 - binary_crossentropy: 7.1569e-04 - accuracy: 0.9997 - val_loss: 4.4770e-04 - val_binary_crossentropy: 4.4770e-04 - val_accuracy: 1.0000 - 756ms/epoch - 9ms/step\n",
      "Epoch 279/10000\n",
      ".80/80 - 1s - loss: 7.6149e-04 - binary_crossentropy: 7.6149e-04 - accuracy: 0.9998 - val_loss: 4.3781e-04 - val_binary_crossentropy: 4.3781e-04 - val_accuracy: 1.0000 - 749ms/epoch - 9ms/step\n",
      "Epoch 280/10000\n",
      ".80/80 - 1s - loss: 6.8656e-04 - binary_crossentropy: 6.8656e-04 - accuracy: 0.9998 - val_loss: 4.5171e-04 - val_binary_crossentropy: 4.5171e-04 - val_accuracy: 1.0000 - 747ms/epoch - 9ms/step\n",
      "Epoch 281/10000\n",
      ".80/80 - 1s - loss: 7.0878e-04 - binary_crossentropy: 7.0878e-04 - accuracy: 0.9998 - val_loss: 4.4892e-04 - val_binary_crossentropy: 4.4892e-04 - val_accuracy: 1.0000 - 741ms/epoch - 9ms/step\n",
      "Epoch 282/10000\n",
      ".80/80 - 1s - loss: 6.5702e-04 - binary_crossentropy: 6.5702e-04 - accuracy: 0.9998 - val_loss: 4.4608e-04 - val_binary_crossentropy: 4.4608e-04 - val_accuracy: 1.0000 - 765ms/epoch - 10ms/step\n",
      "Epoch 283/10000\n",
      ".80/80 - 1s - loss: 7.2271e-04 - binary_crossentropy: 7.2271e-04 - accuracy: 0.9998 - val_loss: 4.4380e-04 - val_binary_crossentropy: 4.4380e-04 - val_accuracy: 1.0000 - 757ms/epoch - 9ms/step\n",
      "Epoch 284/10000\n",
      ".80/80 - 1s - loss: 6.5146e-04 - binary_crossentropy: 6.5146e-04 - accuracy: 0.9998 - val_loss: 4.2037e-04 - val_binary_crossentropy: 4.2037e-04 - val_accuracy: 1.0000 - 805ms/epoch - 10ms/step\n",
      "Epoch 285/10000\n",
      ".80/80 - 1s - loss: 7.2079e-04 - binary_crossentropy: 7.2079e-04 - accuracy: 0.9998 - val_loss: 4.5928e-04 - val_binary_crossentropy: 4.5928e-04 - val_accuracy: 1.0000 - 774ms/epoch - 10ms/step\n",
      "Epoch 286/10000\n",
      ".80/80 - 1s - loss: 6.5840e-04 - binary_crossentropy: 6.5840e-04 - accuracy: 0.9998 - val_loss: 4.4339e-04 - val_binary_crossentropy: 4.4339e-04 - val_accuracy: 1.0000 - 737ms/epoch - 9ms/step\n",
      "Epoch 287/10000\n",
      ".80/80 - 1s - loss: 7.3641e-04 - binary_crossentropy: 7.3641e-04 - accuracy: 0.9997 - val_loss: 4.5981e-04 - val_binary_crossentropy: 4.5981e-04 - val_accuracy: 1.0000 - 739ms/epoch - 9ms/step\n",
      "Epoch 288/10000\n",
      ".80/80 - 1s - loss: 6.5989e-04 - binary_crossentropy: 6.5989e-04 - accuracy: 0.9998 - val_loss: 4.4313e-04 - val_binary_crossentropy: 4.4313e-04 - val_accuracy: 1.0000 - 760ms/epoch - 9ms/step\n",
      "Epoch 289/10000\n",
      ".80/80 - 1s - loss: 6.5789e-04 - binary_crossentropy: 6.5789e-04 - accuracy: 0.9998 - val_loss: 4.0287e-04 - val_binary_crossentropy: 4.0287e-04 - val_accuracy: 1.0000 - 751ms/epoch - 9ms/step\n",
      "Epoch 290/10000\n",
      ".80/80 - 1s - loss: 6.6230e-04 - binary_crossentropy: 6.6230e-04 - accuracy: 0.9998 - val_loss: 3.8011e-04 - val_binary_crossentropy: 3.8011e-04 - val_accuracy: 1.0000 - 775ms/epoch - 10ms/step\n",
      "Epoch 291/10000\n",
      ".80/80 - 1s - loss: 6.7836e-04 - binary_crossentropy: 6.7836e-04 - accuracy: 0.9998 - val_loss: 3.6999e-04 - val_binary_crossentropy: 3.6999e-04 - val_accuracy: 1.0000 - 752ms/epoch - 9ms/step\n",
      "Epoch 292/10000\n",
      ".80/80 - 1s - loss: 7.0529e-04 - binary_crossentropy: 7.0529e-04 - accuracy: 0.9998 - val_loss: 3.8391e-04 - val_binary_crossentropy: 3.8391e-04 - val_accuracy: 1.0000 - 769ms/epoch - 10ms/step\n",
      "Epoch 293/10000\n",
      ".80/80 - 1s - loss: 7.3596e-04 - binary_crossentropy: 7.3596e-04 - accuracy: 0.9998 - val_loss: 3.8366e-04 - val_binary_crossentropy: 3.8366e-04 - val_accuracy: 1.0000 - 767ms/epoch - 10ms/step\n",
      "Epoch 294/10000\n",
      ".80/80 - 1s - loss: 6.5474e-04 - binary_crossentropy: 6.5474e-04 - accuracy: 0.9998 - val_loss: 3.7993e-04 - val_binary_crossentropy: 3.7993e-04 - val_accuracy: 1.0000 - 740ms/epoch - 9ms/step\n",
      "Epoch 295/10000\n",
      ".80/80 - 1s - loss: 6.5074e-04 - binary_crossentropy: 6.5074e-04 - accuracy: 0.9997 - val_loss: 3.8168e-04 - val_binary_crossentropy: 3.8168e-04 - val_accuracy: 1.0000 - 754ms/epoch - 9ms/step\n",
      "Epoch 296/10000\n",
      ".80/80 - 1s - loss: 6.1738e-04 - binary_crossentropy: 6.1738e-04 - accuracy: 0.9998 - val_loss: 3.8215e-04 - val_binary_crossentropy: 3.8215e-04 - val_accuracy: 1.0000 - 775ms/epoch - 10ms/step\n",
      "Epoch 297/10000\n",
      ".80/80 - 1s - loss: 7.3556e-04 - binary_crossentropy: 7.3556e-04 - accuracy: 0.9997 - val_loss: 3.8064e-04 - val_binary_crossentropy: 3.8064e-04 - val_accuracy: 1.0000 - 761ms/epoch - 10ms/step\n",
      "Epoch 298/10000\n",
      ".80/80 - 1s - loss: 6.9844e-04 - binary_crossentropy: 6.9844e-04 - accuracy: 0.9998 - val_loss: 3.8894e-04 - val_binary_crossentropy: 3.8894e-04 - val_accuracy: 1.0000 - 765ms/epoch - 10ms/step\n",
      "Epoch 299/10000\n",
      ".80/80 - 1s - loss: 6.6747e-04 - binary_crossentropy: 6.6747e-04 - accuracy: 0.9998 - val_loss: 3.7651e-04 - val_binary_crossentropy: 3.7651e-04 - val_accuracy: 1.0000 - 777ms/epoch - 10ms/step\n",
      "Epoch 300/10000\n",
      ".80/80 - 1s - loss: 6.2732e-04 - binary_crossentropy: 6.2732e-04 - accuracy: 0.9998 - val_loss: 3.7277e-04 - val_binary_crossentropy: 3.7277e-04 - val_accuracy: 1.0000 - 787ms/epoch - 10ms/step\n",
      "Epoch 301/10000\n",
      "\n",
      "Epoch: 300, accuracy:0.9998,  binary_crossentropy:0.0007,  loss:0.0007,  val_accuracy:1.0000,  val_binary_crossentropy:0.0004,  val_loss:0.0004,  \n",
      ".80/80 - 1s - loss: 6.9488e-04 - binary_crossentropy: 6.9488e-04 - accuracy: 0.9998 - val_loss: 3.7211e-04 - val_binary_crossentropy: 3.7211e-04 - val_accuracy: 1.0000 - 781ms/epoch - 10ms/step\n",
      "Epoch 302/10000\n",
      ".80/80 - 1s - loss: 6.8414e-04 - binary_crossentropy: 6.8414e-04 - accuracy: 0.9998 - val_loss: 3.8153e-04 - val_binary_crossentropy: 3.8153e-04 - val_accuracy: 1.0000 - 768ms/epoch - 10ms/step\n",
      "Epoch 303/10000\n",
      ".80/80 - 1s - loss: 6.4166e-04 - binary_crossentropy: 6.4166e-04 - accuracy: 0.9998 - val_loss: 3.7279e-04 - val_binary_crossentropy: 3.7279e-04 - val_accuracy: 1.0000 - 770ms/epoch - 10ms/step\n",
      "Epoch 304/10000\n",
      ".80/80 - 1s - loss: 5.7114e-04 - binary_crossentropy: 5.7114e-04 - accuracy: 0.9998 - val_loss: 3.7049e-04 - val_binary_crossentropy: 3.7049e-04 - val_accuracy: 1.0000 - 754ms/epoch - 9ms/step\n",
      "Epoch 305/10000\n",
      ".80/80 - 1s - loss: 6.7269e-04 - binary_crossentropy: 6.7269e-04 - accuracy: 0.9998 - val_loss: 3.5719e-04 - val_binary_crossentropy: 3.5719e-04 - val_accuracy: 1.0000 - 769ms/epoch - 10ms/step\n",
      "Epoch 306/10000\n",
      ".80/80 - 1s - loss: 6.4962e-04 - binary_crossentropy: 6.4962e-04 - accuracy: 0.9997 - val_loss: 3.7731e-04 - val_binary_crossentropy: 3.7731e-04 - val_accuracy: 1.0000 - 808ms/epoch - 10ms/step\n",
      "Epoch 307/10000\n",
      ".80/80 - 1s - loss: 0.0012 - binary_crossentropy: 0.0012 - accuracy: 0.9996 - val_loss: 0.0025 - val_binary_crossentropy: 0.0025 - val_accuracy: 0.9997 - 752ms/epoch - 9ms/step\n",
      "Epoch 308/10000\n",
      ".80/80 - 1s - loss: 0.0942 - binary_crossentropy: 0.0942 - accuracy: 0.9856 - val_loss: 0.0307 - val_binary_crossentropy: 0.0307 - val_accuracy: 0.9903 - 772ms/epoch - 10ms/step\n",
      "Epoch 309/10000\n",
      ".80/80 - 1s - loss: 0.0302 - binary_crossentropy: 0.0302 - accuracy: 0.9899 - val_loss: 0.0065 - val_binary_crossentropy: 0.0065 - val_accuracy: 0.9983 - 811ms/epoch - 10ms/step\n",
      "Epoch 310/10000\n",
      ".80/80 - 1s - loss: 0.0062 - binary_crossentropy: 0.0062 - accuracy: 0.9982 - val_loss: 0.0026 - val_binary_crossentropy: 0.0026 - val_accuracy: 0.9993 - 765ms/epoch - 10ms/step\n",
      "Epoch 311/10000\n",
      ".80/80 - 1s - loss: 0.0031 - binary_crossentropy: 0.0031 - accuracy: 0.9990 - val_loss: 0.0020 - val_binary_crossentropy: 0.0020 - val_accuracy: 0.9993 - 771ms/epoch - 10ms/step\n",
      "Epoch 312/10000\n",
      ".80/80 - 1s - loss: 0.0025 - binary_crossentropy: 0.0025 - accuracy: 0.9989 - val_loss: 0.0015 - val_binary_crossentropy: 0.0015 - val_accuracy: 0.9997 - 767ms/epoch - 10ms/step\n",
      "Epoch 313/10000\n",
      ".80/80 - 1s - loss: 0.0019 - binary_crossentropy: 0.0019 - accuracy: 0.9992 - val_loss: 0.0015 - val_binary_crossentropy: 0.0015 - val_accuracy: 0.9997 - 772ms/epoch - 10ms/step\n",
      "Epoch 314/10000\n",
      ".80/80 - 1s - loss: 0.0017 - binary_crossentropy: 0.0017 - accuracy: 0.9992 - val_loss: 0.0014 - val_binary_crossentropy: 0.0014 - val_accuracy: 0.9997 - 813ms/epoch - 10ms/step\n",
      "Epoch 315/10000\n",
      ".80/80 - 1s - loss: 0.0015 - binary_crossentropy: 0.0015 - accuracy: 0.9993 - val_loss: 0.0013 - val_binary_crossentropy: 0.0013 - val_accuracy: 0.9997 - 749ms/epoch - 9ms/step\n",
      "Epoch 316/10000\n",
      ".80/80 - 1s - loss: 0.0015 - binary_crossentropy: 0.0015 - accuracy: 0.9993 - val_loss: 0.0013 - val_binary_crossentropy: 0.0013 - val_accuracy: 0.9997 - 761ms/epoch - 10ms/step\n",
      "Epoch 317/10000\n",
      ".80/80 - 1s - loss: 0.0014 - binary_crossentropy: 0.0014 - accuracy: 0.9994 - val_loss: 0.0013 - val_binary_crossentropy: 0.0013 - val_accuracy: 0.9997 - 773ms/epoch - 10ms/step\n",
      "Epoch 318/10000\n",
      ".80/80 - 1s - loss: 0.0014 - binary_crossentropy: 0.0014 - accuracy: 0.9994 - val_loss: 0.0013 - val_binary_crossentropy: 0.0013 - val_accuracy: 0.9997 - 736ms/epoch - 9ms/step\n",
      "Epoch 319/10000\n",
      ".80/80 - 1s - loss: 0.0013 - binary_crossentropy: 0.0013 - accuracy: 0.9994 - val_loss: 0.0013 - val_binary_crossentropy: 0.0013 - val_accuracy: 0.9997 - 733ms/epoch - 9ms/step\n",
      "Epoch 320/10000\n",
      ".80/80 - 1s - loss: 0.0012 - binary_crossentropy: 0.0012 - accuracy: 0.9993 - val_loss: 0.0012 - val_binary_crossentropy: 0.0012 - val_accuracy: 0.9997 - 757ms/epoch - 9ms/step\n",
      "Epoch 321/10000\n",
      ".80/80 - 1s - loss: 0.0013 - binary_crossentropy: 0.0013 - accuracy: 0.9993 - val_loss: 0.0012 - val_binary_crossentropy: 0.0012 - val_accuracy: 0.9997 - 765ms/epoch - 10ms/step\n",
      "Epoch 322/10000\n",
      ".80/80 - 1s - loss: 0.0012 - binary_crossentropy: 0.0012 - accuracy: 0.9994 - val_loss: 0.0012 - val_binary_crossentropy: 0.0012 - val_accuracy: 0.9997 - 748ms/epoch - 9ms/step\n",
      "Epoch 323/10000\n",
      ".80/80 - 1s - loss: 0.0012 - binary_crossentropy: 0.0012 - accuracy: 0.9995 - val_loss: 0.0012 - val_binary_crossentropy: 0.0012 - val_accuracy: 0.9997 - 755ms/epoch - 9ms/step\n",
      "Epoch 324/10000\n",
      ".80/80 - 1s - loss: 0.0013 - binary_crossentropy: 0.0013 - accuracy: 0.9994 - val_loss: 8.7171e-04 - val_binary_crossentropy: 8.7171e-04 - val_accuracy: 1.0000 - 781ms/epoch - 10ms/step\n",
      "Epoch 325/10000\n",
      ".80/80 - 1s - loss: 0.0011 - binary_crossentropy: 0.0011 - accuracy: 0.9995 - val_loss: 8.4422e-04 - val_binary_crossentropy: 8.4422e-04 - val_accuracy: 1.0000 - 795ms/epoch - 10ms/step\n",
      "Epoch 326/10000\n",
      ".80/80 - 1s - loss: 0.0011 - binary_crossentropy: 0.0011 - accuracy: 0.9995 - val_loss: 8.2425e-04 - val_binary_crossentropy: 8.2425e-04 - val_accuracy: 1.0000 - 757ms/epoch - 9ms/step\n",
      "Epoch 327/10000\n",
      ".80/80 - 1s - loss: 0.0011 - binary_crossentropy: 0.0011 - accuracy: 0.9994 - val_loss: 8.0720e-04 - val_binary_crossentropy: 8.0720e-04 - val_accuracy: 1.0000 - 782ms/epoch - 10ms/step\n",
      "Epoch 328/10000\n",
      ".80/80 - 1s - loss: 0.0010 - binary_crossentropy: 0.0010 - accuracy: 0.9995 - val_loss: 7.9765e-04 - val_binary_crossentropy: 7.9765e-04 - val_accuracy: 1.0000 - 788ms/epoch - 10ms/step\n",
      "Epoch 329/10000\n",
      ".80/80 - 1s - loss: 0.0011 - binary_crossentropy: 0.0011 - accuracy: 0.9994 - val_loss: 8.0974e-04 - val_binary_crossentropy: 8.0974e-04 - val_accuracy: 1.0000 - 739ms/epoch - 9ms/step\n",
      "Epoch 330/10000\n",
      ".80/80 - 1s - loss: 0.0010 - binary_crossentropy: 0.0010 - accuracy: 0.9995 - val_loss: 8.1014e-04 - val_binary_crossentropy: 8.1014e-04 - val_accuracy: 1.0000 - 784ms/epoch - 10ms/step\n",
      "Epoch 331/10000\n",
      ".80/80 - 1s - loss: 0.0010 - binary_crossentropy: 0.0010 - accuracy: 0.9995 - val_loss: 7.7876e-04 - val_binary_crossentropy: 7.7876e-04 - val_accuracy: 1.0000 - 758ms/epoch - 9ms/step\n",
      "Epoch 332/10000\n",
      ".80/80 - 1s - loss: 0.0011 - binary_crossentropy: 0.0011 - accuracy: 0.9995 - val_loss: 7.9559e-04 - val_binary_crossentropy: 7.9559e-04 - val_accuracy: 1.0000 - 777ms/epoch - 10ms/step\n",
      "Epoch 333/10000\n",
      ".80/80 - 1s - loss: 0.0011 - binary_crossentropy: 0.0011 - accuracy: 0.9995 - val_loss: 7.5943e-04 - val_binary_crossentropy: 7.5943e-04 - val_accuracy: 1.0000 - 784ms/epoch - 10ms/step\n",
      "Epoch 334/10000\n",
      ".80/80 - 1s - loss: 0.0010 - binary_crossentropy: 0.0010 - accuracy: 0.9995 - val_loss: 7.9319e-04 - val_binary_crossentropy: 7.9319e-04 - val_accuracy: 1.0000 - 825ms/epoch - 10ms/step\n",
      "Epoch 335/10000\n",
      ".80/80 - 1s - loss: 0.0010 - binary_crossentropy: 0.0010 - accuracy: 0.9994 - val_loss: 7.8387e-04 - val_binary_crossentropy: 7.8387e-04 - val_accuracy: 1.0000 - 753ms/epoch - 9ms/step\n",
      "Epoch 336/10000\n",
      ".80/80 - 1s - loss: 0.0010 - binary_crossentropy: 0.0010 - accuracy: 0.9994 - val_loss: 7.7134e-04 - val_binary_crossentropy: 7.7134e-04 - val_accuracy: 1.0000 - 780ms/epoch - 10ms/step\n",
      "Epoch 337/10000\n",
      ".80/80 - 1s - loss: 0.0011 - binary_crossentropy: 0.0011 - accuracy: 0.9994 - val_loss: 7.6924e-04 - val_binary_crossentropy: 7.6924e-04 - val_accuracy: 1.0000 - 763ms/epoch - 10ms/step\n",
      "Epoch 338/10000\n",
      ".80/80 - 1s - loss: 0.0011 - binary_crossentropy: 0.0011 - accuracy: 0.9994 - val_loss: 7.7559e-04 - val_binary_crossentropy: 7.7559e-04 - val_accuracy: 1.0000 - 781ms/epoch - 10ms/step\n",
      "Epoch 339/10000\n",
      ".80/80 - 1s - loss: 0.0010 - binary_crossentropy: 0.0010 - accuracy: 0.9994 - val_loss: 7.6407e-04 - val_binary_crossentropy: 7.6407e-04 - val_accuracy: 1.0000 - 749ms/epoch - 9ms/step\n",
      "Epoch 340/10000\n",
      ".80/80 - 1s - loss: 9.9989e-04 - binary_crossentropy: 9.9989e-04 - accuracy: 0.9995 - val_loss: 7.5529e-04 - val_binary_crossentropy: 7.5529e-04 - val_accuracy: 1.0000 - 740ms/epoch - 9ms/step\n",
      "Epoch 341/10000\n",
      ".80/80 - 1s - loss: 9.9015e-04 - binary_crossentropy: 9.9015e-04 - accuracy: 0.9995 - val_loss: 7.5391e-04 - val_binary_crossentropy: 7.5391e-04 - val_accuracy: 1.0000 - 755ms/epoch - 9ms/step\n",
      "Epoch 342/10000\n",
      ".80/80 - 1s - loss: 9.6933e-04 - binary_crossentropy: 9.6933e-04 - accuracy: 0.9995 - val_loss: 7.4371e-04 - val_binary_crossentropy: 7.4371e-04 - val_accuracy: 1.0000 - 757ms/epoch - 9ms/step\n",
      "Epoch 343/10000\n",
      ".80/80 - 1s - loss: 9.7218e-04 - binary_crossentropy: 9.7218e-04 - accuracy: 0.9996 - val_loss: 7.3473e-04 - val_binary_crossentropy: 7.3473e-04 - val_accuracy: 1.0000 - 722ms/epoch - 9ms/step\n",
      "Epoch 344/10000\n",
      ".80/80 - 1s - loss: 9.5033e-04 - binary_crossentropy: 9.5033e-04 - accuracy: 0.9995 - val_loss: 7.3432e-04 - val_binary_crossentropy: 7.3432e-04 - val_accuracy: 1.0000 - 779ms/epoch - 10ms/step\n",
      "Epoch 345/10000\n",
      ".80/80 - 1s - loss: 9.8032e-04 - binary_crossentropy: 9.8032e-04 - accuracy: 0.9995 - val_loss: 7.1769e-04 - val_binary_crossentropy: 7.1769e-04 - val_accuracy: 1.0000 - 740ms/epoch - 9ms/step\n",
      "Epoch 346/10000\n",
      ".80/80 - 1s - loss: 9.2958e-04 - binary_crossentropy: 9.2958e-04 - accuracy: 0.9995 - val_loss: 7.1328e-04 - val_binary_crossentropy: 7.1328e-04 - val_accuracy: 1.0000 - 738ms/epoch - 9ms/step\n",
      "Epoch 347/10000\n",
      ".80/80 - 1s - loss: 9.6123e-04 - binary_crossentropy: 9.6123e-04 - accuracy: 0.9995 - val_loss: 7.3521e-04 - val_binary_crossentropy: 7.3521e-04 - val_accuracy: 1.0000 - 732ms/epoch - 9ms/step\n",
      "Epoch 348/10000\n",
      ".80/80 - 1s - loss: 9.7760e-04 - binary_crossentropy: 9.7760e-04 - accuracy: 0.9995 - val_loss: 7.1014e-04 - val_binary_crossentropy: 7.1014e-04 - val_accuracy: 1.0000 - 747ms/epoch - 9ms/step\n",
      "Epoch 349/10000\n",
      ".80/80 - 1s - loss: 9.2876e-04 - binary_crossentropy: 9.2876e-04 - accuracy: 0.9995 - val_loss: 6.8337e-04 - val_binary_crossentropy: 6.8337e-04 - val_accuracy: 1.0000 - 806ms/epoch - 10ms/step\n",
      "Epoch 350/10000\n",
      ".80/80 - 1s - loss: 9.3729e-04 - binary_crossentropy: 9.3729e-04 - accuracy: 0.9996 - val_loss: 6.9164e-04 - val_binary_crossentropy: 6.9164e-04 - val_accuracy: 1.0000 - 729ms/epoch - 9ms/step\n",
      "Epoch 351/10000\n",
      ".80/80 - 1s - loss: 9.4735e-04 - binary_crossentropy: 9.4735e-04 - accuracy: 0.9995 - val_loss: 7.1067e-04 - val_binary_crossentropy: 7.1067e-04 - val_accuracy: 1.0000 - 735ms/epoch - 9ms/step\n",
      "Epoch 352/10000\n",
      ".80/80 - 1s - loss: 9.2015e-04 - binary_crossentropy: 9.2015e-04 - accuracy: 0.9995 - val_loss: 7.1028e-04 - val_binary_crossentropy: 7.1028e-04 - val_accuracy: 1.0000 - 731ms/epoch - 9ms/step\n",
      "Epoch 353/10000\n",
      ".80/80 - 1s - loss: 9.0144e-04 - binary_crossentropy: 9.0144e-04 - accuracy: 0.9996 - val_loss: 6.8946e-04 - val_binary_crossentropy: 6.8946e-04 - val_accuracy: 1.0000 - 730ms/epoch - 9ms/step\n",
      "Epoch 354/10000\n",
      ".80/80 - 1s - loss: 9.5928e-04 - binary_crossentropy: 9.5928e-04 - accuracy: 0.9995 - val_loss: 6.6259e-04 - val_binary_crossentropy: 6.6259e-04 - val_accuracy: 1.0000 - 738ms/epoch - 9ms/step\n",
      "Epoch 355/10000\n",
      ".80/80 - 1s - loss: 9.4550e-04 - binary_crossentropy: 9.4550e-04 - accuracy: 0.9995 - val_loss: 6.6661e-04 - val_binary_crossentropy: 6.6661e-04 - val_accuracy: 1.0000 - 744ms/epoch - 9ms/step\n",
      "Epoch 356/10000\n",
      ".80/80 - 1s - loss: 8.8893e-04 - binary_crossentropy: 8.8893e-04 - accuracy: 0.9995 - val_loss: 6.7199e-04 - val_binary_crossentropy: 6.7199e-04 - val_accuracy: 1.0000 - 740ms/epoch - 9ms/step\n",
      "Epoch 357/10000\n",
      ".80/80 - 1s - loss: 9.2696e-04 - binary_crossentropy: 9.2696e-04 - accuracy: 0.9995 - val_loss: 6.8571e-04 - val_binary_crossentropy: 6.8571e-04 - val_accuracy: 1.0000 - 753ms/epoch - 9ms/step\n",
      "Epoch 358/10000\n",
      ".80/80 - 1s - loss: 9.5060e-04 - binary_crossentropy: 9.5060e-04 - accuracy: 0.9996 - val_loss: 6.9281e-04 - val_binary_crossentropy: 6.9281e-04 - val_accuracy: 1.0000 - 799ms/epoch - 10ms/step\n",
      "Epoch 359/10000\n",
      ".80/80 - 1s - loss: 0.0010 - binary_crossentropy: 0.0010 - accuracy: 0.9995 - val_loss: 6.9146e-04 - val_binary_crossentropy: 6.9146e-04 - val_accuracy: 1.0000 - 776ms/epoch - 10ms/step\n",
      "Epoch 360/10000\n",
      ".80/80 - 1s - loss: 9.2601e-04 - binary_crossentropy: 9.2601e-04 - accuracy: 0.9995 - val_loss: 6.7760e-04 - val_binary_crossentropy: 6.7760e-04 - val_accuracy: 1.0000 - 806ms/epoch - 10ms/step\n",
      "Epoch 361/10000\n",
      ".80/80 - 1s - loss: 9.6548e-04 - binary_crossentropy: 9.6548e-04 - accuracy: 0.9995 - val_loss: 6.8269e-04 - val_binary_crossentropy: 6.8269e-04 - val_accuracy: 1.0000 - 790ms/epoch - 10ms/step\n",
      "Epoch 362/10000\n",
      ".80/80 - 1s - loss: 8.9227e-04 - binary_crossentropy: 8.9227e-04 - accuracy: 0.9995 - val_loss: 6.7139e-04 - val_binary_crossentropy: 6.7139e-04 - val_accuracy: 1.0000 - 785ms/epoch - 10ms/step\n",
      "Epoch 363/10000\n",
      ".80/80 - 1s - loss: 9.0734e-04 - binary_crossentropy: 9.0734e-04 - accuracy: 0.9995 - val_loss: 6.6983e-04 - val_binary_crossentropy: 6.6983e-04 - val_accuracy: 1.0000 - 738ms/epoch - 9ms/step\n",
      "Epoch 364/10000\n",
      ".80/80 - 1s - loss: 8.9075e-04 - binary_crossentropy: 8.9075e-04 - accuracy: 0.9995 - val_loss: 6.7513e-04 - val_binary_crossentropy: 6.7513e-04 - val_accuracy: 1.0000 - 748ms/epoch - 9ms/step\n",
      "Epoch 365/10000\n",
      ".80/80 - 1s - loss: 9.1725e-04 - binary_crossentropy: 9.1725e-04 - accuracy: 0.9996 - val_loss: 6.8046e-04 - val_binary_crossentropy: 6.8046e-04 - val_accuracy: 1.0000 - 748ms/epoch - 9ms/step\n",
      "Epoch 366/10000\n",
      ".80/80 - 1s - loss: 0.0010 - binary_crossentropy: 0.0010 - accuracy: 0.9995 - val_loss: 6.6235e-04 - val_binary_crossentropy: 6.6235e-04 - val_accuracy: 1.0000 - 760ms/epoch - 9ms/step\n",
      "Epoch 367/10000\n",
      ".80/80 - 1s - loss: 8.7944e-04 - binary_crossentropy: 8.7944e-04 - accuracy: 0.9996 - val_loss: 6.7173e-04 - val_binary_crossentropy: 6.7173e-04 - val_accuracy: 1.0000 - 748ms/epoch - 9ms/step\n",
      "Epoch 368/10000\n",
      ".80/80 - 1s - loss: 9.0996e-04 - binary_crossentropy: 9.0996e-04 - accuracy: 0.9996 - val_loss: 6.4426e-04 - val_binary_crossentropy: 6.4426e-04 - val_accuracy: 1.0000 - 753ms/epoch - 9ms/step\n",
      "Epoch 369/10000\n",
      ".80/80 - 1s - loss: 8.8833e-04 - binary_crossentropy: 8.8833e-04 - accuracy: 0.9996 - val_loss: 6.6777e-04 - val_binary_crossentropy: 6.6777e-04 - val_accuracy: 1.0000 - 754ms/epoch - 9ms/step\n",
      "Epoch 370/10000\n",
      ".80/80 - 1s - loss: 7.6951e-04 - binary_crossentropy: 7.6951e-04 - accuracy: 0.9996 - val_loss: 6.3996e-04 - val_binary_crossentropy: 6.3996e-04 - val_accuracy: 1.0000 - 756ms/epoch - 9ms/step\n",
      "Epoch 371/10000\n",
      ".80/80 - 1s - loss: 8.7533e-04 - binary_crossentropy: 8.7533e-04 - accuracy: 0.9996 - val_loss: 6.4575e-04 - val_binary_crossentropy: 6.4575e-04 - val_accuracy: 1.0000 - 740ms/epoch - 9ms/step\n",
      "Epoch 372/10000\n",
      ".80/80 - 1s - loss: 8.6349e-04 - binary_crossentropy: 8.6349e-04 - accuracy: 0.9995 - val_loss: 6.3722e-04 - val_binary_crossentropy: 6.3722e-04 - val_accuracy: 1.0000 - 754ms/epoch - 9ms/step\n",
      "Epoch 373/10000\n",
      ".80/80 - 1s - loss: 8.8035e-04 - binary_crossentropy: 8.8035e-04 - accuracy: 0.9996 - val_loss: 6.6013e-04 - val_binary_crossentropy: 6.6013e-04 - val_accuracy: 1.0000 - 736ms/epoch - 9ms/step\n",
      "Epoch 374/10000\n",
      ".80/80 - 1s - loss: 7.7637e-04 - binary_crossentropy: 7.7637e-04 - accuracy: 0.9996 - val_loss: 6.2837e-04 - val_binary_crossentropy: 6.2837e-04 - val_accuracy: 1.0000 - 725ms/epoch - 9ms/step\n",
      "Epoch 375/10000\n",
      ".80/80 - 1s - loss: 8.6605e-04 - binary_crossentropy: 8.6605e-04 - accuracy: 0.9996 - val_loss: 6.3289e-04 - val_binary_crossentropy: 6.3289e-04 - val_accuracy: 1.0000 - 784ms/epoch - 10ms/step\n",
      "Epoch 376/10000\n",
      ".80/80 - 1s - loss: 8.7764e-04 - binary_crossentropy: 8.7764e-04 - accuracy: 0.9996 - val_loss: 6.3334e-04 - val_binary_crossentropy: 6.3334e-04 - val_accuracy: 1.0000 - 740ms/epoch - 9ms/step\n",
      "Epoch 377/10000\n",
      ".80/80 - 1s - loss: 8.2799e-04 - binary_crossentropy: 8.2799e-04 - accuracy: 0.9996 - val_loss: 6.2249e-04 - val_binary_crossentropy: 6.2249e-04 - val_accuracy: 1.0000 - 728ms/epoch - 9ms/step\n",
      "Epoch 378/10000\n",
      ".80/80 - 1s - loss: 8.8365e-04 - binary_crossentropy: 8.8365e-04 - accuracy: 0.9996 - val_loss: 6.4036e-04 - val_binary_crossentropy: 6.4036e-04 - val_accuracy: 1.0000 - 748ms/epoch - 9ms/step\n",
      "Epoch 379/10000\n",
      ".80/80 - 1s - loss: 8.5675e-04 - binary_crossentropy: 8.5675e-04 - accuracy: 0.9996 - val_loss: 6.2598e-04 - val_binary_crossentropy: 6.2598e-04 - val_accuracy: 1.0000 - 743ms/epoch - 9ms/step\n",
      "Epoch 380/10000\n",
      ".80/80 - 1s - loss: 8.2128e-04 - binary_crossentropy: 8.2128e-04 - accuracy: 0.9996 - val_loss: 6.0928e-04 - val_binary_crossentropy: 6.0928e-04 - val_accuracy: 1.0000 - 741ms/epoch - 9ms/step\n",
      "Epoch 381/10000\n",
      ".80/80 - 1s - loss: 8.2477e-04 - binary_crossentropy: 8.2477e-04 - accuracy: 0.9996 - val_loss: 5.8244e-04 - val_binary_crossentropy: 5.8244e-04 - val_accuracy: 1.0000 - 734ms/epoch - 9ms/step\n",
      "Epoch 382/10000\n",
      ".80/80 - 1s - loss: 8.5188e-04 - binary_crossentropy: 8.5188e-04 - accuracy: 0.9995 - val_loss: 6.1351e-04 - val_binary_crossentropy: 6.1351e-04 - val_accuracy: 1.0000 - 756ms/epoch - 9ms/step\n",
      "Epoch 383/10000\n",
      ".80/80 - 1s - loss: 8.1711e-04 - binary_crossentropy: 8.1711e-04 - accuracy: 0.9995 - val_loss: 6.0282e-04 - val_binary_crossentropy: 6.0282e-04 - val_accuracy: 1.0000 - 748ms/epoch - 9ms/step\n",
      "Epoch 384/10000\n",
      ".80/80 - 1s - loss: 8.1743e-04 - binary_crossentropy: 8.1743e-04 - accuracy: 0.9996 - val_loss: 5.9543e-04 - val_binary_crossentropy: 5.9543e-04 - val_accuracy: 1.0000 - 751ms/epoch - 9ms/step\n",
      "Epoch 385/10000\n",
      ".80/80 - 1s - loss: 8.0974e-04 - binary_crossentropy: 8.0974e-04 - accuracy: 0.9996 - val_loss: 5.8699e-04 - val_binary_crossentropy: 5.8699e-04 - val_accuracy: 1.0000 - 734ms/epoch - 9ms/step\n",
      "Epoch 386/10000\n",
      ".80/80 - 1s - loss: 7.5265e-04 - binary_crossentropy: 7.5265e-04 - accuracy: 0.9996 - val_loss: 5.9516e-04 - val_binary_crossentropy: 5.9516e-04 - val_accuracy: 1.0000 - 752ms/epoch - 9ms/step\n",
      "Epoch 387/10000\n",
      ".80/80 - 1s - loss: 8.5437e-04 - binary_crossentropy: 8.5437e-04 - accuracy: 0.9996 - val_loss: 5.8188e-04 - val_binary_crossentropy: 5.8188e-04 - val_accuracy: 1.0000 - 756ms/epoch - 9ms/step\n",
      "Epoch 388/10000\n",
      ".80/80 - 1s - loss: 7.9397e-04 - binary_crossentropy: 7.9397e-04 - accuracy: 0.9996 - val_loss: 5.8333e-04 - val_binary_crossentropy: 5.8333e-04 - val_accuracy: 1.0000 - 757ms/epoch - 9ms/step\n",
      "Epoch 389/10000\n",
      ".80/80 - 1s - loss: 9.0116e-04 - binary_crossentropy: 9.0116e-04 - accuracy: 0.9996 - val_loss: 6.3089e-04 - val_binary_crossentropy: 6.3089e-04 - val_accuracy: 1.0000 - 749ms/epoch - 9ms/step\n",
      "Epoch 390/10000\n",
      ".80/80 - 1s - loss: 0.0020 - binary_crossentropy: 0.0020 - accuracy: 0.9994 - val_loss: 0.0016 - val_binary_crossentropy: 0.0016 - val_accuracy: 0.9997 - 739ms/epoch - 9ms/step\n",
      "Epoch 391/10000\n",
      ".80/80 - 1s - loss: 0.0014 - binary_crossentropy: 0.0014 - accuracy: 0.9993 - val_loss: 0.0045 - val_binary_crossentropy: 0.0045 - val_accuracy: 0.9987 - 799ms/epoch - 10ms/step\n",
      "Epoch 392/10000\n",
      ".80/80 - 1s - loss: 0.0105 - binary_crossentropy: 0.0105 - accuracy: 0.9980 - val_loss: 0.0070 - val_binary_crossentropy: 0.0070 - val_accuracy: 0.9987 - 738ms/epoch - 9ms/step\n",
      "Epoch 393/10000\n",
      ".80/80 - 1s - loss: 0.0107 - binary_crossentropy: 0.0107 - accuracy: 0.9971 - val_loss: 0.0038 - val_binary_crossentropy: 0.0038 - val_accuracy: 0.9993 - 738ms/epoch - 9ms/step\n",
      "Epoch 394/10000\n",
      ".80/80 - 1s - loss: 0.0061 - binary_crossentropy: 0.0061 - accuracy: 0.9980 - val_loss: 0.0022 - val_binary_crossentropy: 0.0022 - val_accuracy: 0.9997 - 824ms/epoch - 10ms/step\n",
      "Epoch 395/10000\n",
      ".80/80 - 1s - loss: 0.0032 - binary_crossentropy: 0.0032 - accuracy: 0.9990 - val_loss: 7.2089e-04 - val_binary_crossentropy: 7.2089e-04 - val_accuracy: 1.0000 - 766ms/epoch - 10ms/step\n",
      "Epoch 396/10000\n",
      ".80/80 - 1s - loss: 0.0014 - binary_crossentropy: 0.0014 - accuracy: 0.9996 - val_loss: 6.3766e-04 - val_binary_crossentropy: 6.3766e-04 - val_accuracy: 1.0000 - 773ms/epoch - 10ms/step\n",
      "Epoch 397/10000\n",
      ".80/80 - 1s - loss: 0.0010 - binary_crossentropy: 0.0010 - accuracy: 0.9996 - val_loss: 6.0295e-04 - val_binary_crossentropy: 6.0295e-04 - val_accuracy: 1.0000 - 711ms/epoch - 9ms/step\n",
      "Epoch 398/10000\n",
      ".80/80 - 1s - loss: 9.0518e-04 - binary_crossentropy: 9.0518e-04 - accuracy: 0.9997 - val_loss: 5.9060e-04 - val_binary_crossentropy: 5.9060e-04 - val_accuracy: 1.0000 - 767ms/epoch - 10ms/step\n",
      "Epoch 399/10000\n",
      ".80/80 - 1s - loss: 8.3958e-04 - binary_crossentropy: 8.3958e-04 - accuracy: 0.9997 - val_loss: 5.7017e-04 - val_binary_crossentropy: 5.7017e-04 - val_accuracy: 1.0000 - 839ms/epoch - 10ms/step\n",
      "Epoch 400/10000\n",
      ".80/80 - 1s - loss: 8.6750e-04 - binary_crossentropy: 8.6750e-04 - accuracy: 0.9997 - val_loss: 5.6103e-04 - val_binary_crossentropy: 5.6103e-04 - val_accuracy: 1.0000 - 734ms/epoch - 9ms/step\n",
      "Epoch 401/10000\n",
      "\n",
      "Epoch: 400, accuracy:0.9997,  binary_crossentropy:0.0008,  loss:0.0008,  val_accuracy:1.0000,  val_binary_crossentropy:0.0006,  val_loss:0.0006,  \n",
      ".80/80 - 1s - loss: 7.7915e-04 - binary_crossentropy: 7.7915e-04 - accuracy: 0.9997 - val_loss: 5.5027e-04 - val_binary_crossentropy: 5.5027e-04 - val_accuracy: 1.0000 - 751ms/epoch - 9ms/step\n",
      "Epoch 402/10000\n",
      ".80/80 - 1s - loss: 7.6523e-04 - binary_crossentropy: 7.6523e-04 - accuracy: 0.9997 - val_loss: 5.4622e-04 - val_binary_crossentropy: 5.4622e-04 - val_accuracy: 1.0000 - 744ms/epoch - 9ms/step\n",
      "Epoch 403/10000\n",
      ".80/80 - 1s - loss: 8.1076e-04 - binary_crossentropy: 8.1076e-04 - accuracy: 0.9997 - val_loss: 5.3859e-04 - val_binary_crossentropy: 5.3859e-04 - val_accuracy: 1.0000 - 701ms/epoch - 9ms/step\n",
      "Epoch 404/10000\n",
      ".80/80 - 1s - loss: 8.0491e-04 - binary_crossentropy: 8.0491e-04 - accuracy: 0.9997 - val_loss: 5.4372e-04 - val_binary_crossentropy: 5.4372e-04 - val_accuracy: 1.0000 - 741ms/epoch - 9ms/step\n",
      "Epoch 405/10000\n",
      ".80/80 - 1s - loss: 7.7312e-04 - binary_crossentropy: 7.7312e-04 - accuracy: 0.9997 - val_loss: 5.2638e-04 - val_binary_crossentropy: 5.2638e-04 - val_accuracy: 1.0000 - 734ms/epoch - 9ms/step\n",
      "Epoch 406/10000\n",
      ".80/80 - 1s - loss: 6.7335e-04 - binary_crossentropy: 6.7335e-04 - accuracy: 0.9997 - val_loss: 5.1846e-04 - val_binary_crossentropy: 5.1846e-04 - val_accuracy: 1.0000 - 720ms/epoch - 9ms/step\n",
      "Epoch 407/10000\n",
      ".80/80 - 1s - loss: 7.5953e-04 - binary_crossentropy: 7.5953e-04 - accuracy: 0.9997 - val_loss: 5.1910e-04 - val_binary_crossentropy: 5.1910e-04 - val_accuracy: 1.0000 - 738ms/epoch - 9ms/step\n",
      "Epoch 408/10000\n",
      ".80/80 - 1s - loss: 7.3257e-04 - binary_crossentropy: 7.3257e-04 - accuracy: 0.9997 - val_loss: 5.2408e-04 - val_binary_crossentropy: 5.2408e-04 - val_accuracy: 1.0000 - 718ms/epoch - 9ms/step\n",
      "Epoch 409/10000\n",
      ".80/80 - 1s - loss: 7.5506e-04 - binary_crossentropy: 7.5506e-04 - accuracy: 0.9997 - val_loss: 5.2308e-04 - val_binary_crossentropy: 5.2308e-04 - val_accuracy: 1.0000 - 726ms/epoch - 9ms/step\n",
      "Epoch 410/10000\n",
      ".80/80 - 1s - loss: 7.1159e-04 - binary_crossentropy: 7.1159e-04 - accuracy: 0.9997 - val_loss: 5.3706e-04 - val_binary_crossentropy: 5.3706e-04 - val_accuracy: 1.0000 - 722ms/epoch - 9ms/step\n",
      "Epoch 411/10000\n",
      ".80/80 - 1s - loss: 6.4145e-04 - binary_crossentropy: 6.4145e-04 - accuracy: 0.9997 - val_loss: 5.1327e-04 - val_binary_crossentropy: 5.1327e-04 - val_accuracy: 1.0000 - 781ms/epoch - 10ms/step\n",
      "Epoch 412/10000\n",
      ".80/80 - 1s - loss: 7.1726e-04 - binary_crossentropy: 7.1726e-04 - accuracy: 0.9997 - val_loss: 5.0127e-04 - val_binary_crossentropy: 5.0127e-04 - val_accuracy: 1.0000 - 861ms/epoch - 11ms/step\n",
      "Epoch 413/10000\n",
      ".80/80 - 1s - loss: 7.1906e-04 - binary_crossentropy: 7.1906e-04 - accuracy: 0.9997 - val_loss: 5.2031e-04 - val_binary_crossentropy: 5.2031e-04 - val_accuracy: 1.0000 - 791ms/epoch - 10ms/step\n",
      "Epoch 414/10000\n",
      ".80/80 - 1s - loss: 7.0572e-04 - binary_crossentropy: 7.0572e-04 - accuracy: 0.9997 - val_loss: 5.2655e-04 - val_binary_crossentropy: 5.2655e-04 - val_accuracy: 1.0000 - 885ms/epoch - 11ms/step\n",
      "Epoch 415/10000\n",
      ".80/80 - 1s - loss: 7.3727e-04 - binary_crossentropy: 7.3727e-04 - accuracy: 0.9997 - val_loss: 5.2419e-04 - val_binary_crossentropy: 5.2419e-04 - val_accuracy: 1.0000 - 990ms/epoch - 12ms/step\n",
      "Epoch 416/10000\n",
      ".80/80 - 1s - loss: 7.1310e-04 - binary_crossentropy: 7.1310e-04 - accuracy: 0.9997 - val_loss: 5.2324e-04 - val_binary_crossentropy: 5.2324e-04 - val_accuracy: 1.0000 - 813ms/epoch - 10ms/step\n",
      "Epoch 417/10000\n",
      ".80/80 - 1s - loss: 6.6534e-04 - binary_crossentropy: 6.6534e-04 - accuracy: 0.9997 - val_loss: 5.1911e-04 - val_binary_crossentropy: 5.1911e-04 - val_accuracy: 1.0000 - 1s/epoch - 13ms/step\n",
      "Epoch 418/10000\n",
      ".80/80 - 1s - loss: 7.4526e-04 - binary_crossentropy: 7.4526e-04 - accuracy: 0.9997 - val_loss: 5.1006e-04 - val_binary_crossentropy: 5.1006e-04 - val_accuracy: 1.0000 - 794ms/epoch - 10ms/step\n",
      "Epoch 419/10000\n",
      ".80/80 - 1s - loss: 6.9332e-04 - binary_crossentropy: 6.9332e-04 - accuracy: 0.9997 - val_loss: 5.1252e-04 - val_binary_crossentropy: 5.1252e-04 - val_accuracy: 1.0000 - 721ms/epoch - 9ms/step\n",
      "Epoch 420/10000\n",
      ".80/80 - 1s - loss: 7.0569e-04 - binary_crossentropy: 7.0569e-04 - accuracy: 0.9997 - val_loss: 5.0877e-04 - val_binary_crossentropy: 5.0877e-04 - val_accuracy: 1.0000 - 716ms/epoch - 9ms/step\n",
      "Epoch 421/10000\n",
      ".80/80 - 1s - loss: 7.1801e-04 - binary_crossentropy: 7.1801e-04 - accuracy: 0.9997 - val_loss: 5.1030e-04 - val_binary_crossentropy: 5.1030e-04 - val_accuracy: 1.0000 - 750ms/epoch - 9ms/step\n",
      "Epoch 422/10000\n",
      ".80/80 - 1s - loss: 6.7083e-04 - binary_crossentropy: 6.7083e-04 - accuracy: 0.9997 - val_loss: 5.0449e-04 - val_binary_crossentropy: 5.0449e-04 - val_accuracy: 1.0000 - 760ms/epoch - 10ms/step\n",
      "Epoch 423/10000\n",
      ".80/80 - 1s - loss: 7.2236e-04 - binary_crossentropy: 7.2236e-04 - accuracy: 0.9997 - val_loss: 5.3649e-04 - val_binary_crossentropy: 5.3649e-04 - val_accuracy: 1.0000 - 789ms/epoch - 10ms/step\n",
      "Epoch 424/10000\n",
      ".80/80 - 1s - loss: 6.9855e-04 - binary_crossentropy: 6.9855e-04 - accuracy: 0.9997 - val_loss: 5.1887e-04 - val_binary_crossentropy: 5.1887e-04 - val_accuracy: 1.0000 - 797ms/epoch - 10ms/step\n",
      "Epoch 425/10000\n",
      ".80/80 - 1s - loss: 7.4246e-04 - binary_crossentropy: 7.4246e-04 - accuracy: 0.9997 - val_loss: 5.2290e-04 - val_binary_crossentropy: 5.2290e-04 - val_accuracy: 1.0000 - 938ms/epoch - 12ms/step\n",
      "Epoch 426/10000\n",
      ".80/80 - 1s - loss: 7.4799e-04 - binary_crossentropy: 7.4799e-04 - accuracy: 0.9997 - val_loss: 5.4259e-04 - val_binary_crossentropy: 5.4259e-04 - val_accuracy: 1.0000 - 728ms/epoch - 9ms/step\n",
      "Epoch 427/10000\n",
      ".80/80 - 1s - loss: 6.7754e-04 - binary_crossentropy: 6.7754e-04 - accuracy: 0.9997 - val_loss: 5.1937e-04 - val_binary_crossentropy: 5.1937e-04 - val_accuracy: 1.0000 - 759ms/epoch - 9ms/step\n",
      "Epoch 428/10000\n",
      ".80/80 - 1s - loss: 6.9008e-04 - binary_crossentropy: 6.9008e-04 - accuracy: 0.9997 - val_loss: 5.3307e-04 - val_binary_crossentropy: 5.3307e-04 - val_accuracy: 1.0000 - 758ms/epoch - 9ms/step\n",
      "Epoch 429/10000\n",
      ".80/80 - 1s - loss: 7.0725e-04 - binary_crossentropy: 7.0725e-04 - accuracy: 0.9997 - val_loss: 5.2843e-04 - val_binary_crossentropy: 5.2843e-04 - val_accuracy: 1.0000 - 735ms/epoch - 9ms/step\n",
      "Epoch 430/10000\n",
      ".80/80 - 1s - loss: 7.4127e-04 - binary_crossentropy: 7.4127e-04 - accuracy: 0.9997 - val_loss: 5.2602e-04 - val_binary_crossentropy: 5.2602e-04 - val_accuracy: 1.0000 - 822ms/epoch - 10ms/step\n",
      "Epoch 431/10000\n",
      ".80/80 - 1s - loss: 6.9145e-04 - binary_crossentropy: 6.9145e-04 - accuracy: 0.9997 - val_loss: 5.2223e-04 - val_binary_crossentropy: 5.2223e-04 - val_accuracy: 1.0000 - 811ms/epoch - 10ms/step\n",
      "Epoch 432/10000\n",
      ".80/80 - 1s - loss: 7.0968e-04 - binary_crossentropy: 7.0968e-04 - accuracy: 0.9997 - val_loss: 5.1154e-04 - val_binary_crossentropy: 5.1154e-04 - val_accuracy: 1.0000 - 875ms/epoch - 11ms/step\n",
      "Epoch 433/10000\n",
      ".80/80 - 1s - loss: 7.2049e-04 - binary_crossentropy: 7.2049e-04 - accuracy: 0.9997 - val_loss: 5.0568e-04 - val_binary_crossentropy: 5.0568e-04 - val_accuracy: 1.0000 - 781ms/epoch - 10ms/step\n",
      "Epoch 434/10000\n",
      ".80/80 - 1s - loss: 6.9695e-04 - binary_crossentropy: 6.9695e-04 - accuracy: 0.9997 - val_loss: 5.1713e-04 - val_binary_crossentropy: 5.1713e-04 - val_accuracy: 1.0000 - 779ms/epoch - 10ms/step\n",
      "Epoch 435/10000\n",
      ".80/80 - 1s - loss: 6.8677e-04 - binary_crossentropy: 6.8677e-04 - accuracy: 0.9997 - val_loss: 5.2708e-04 - val_binary_crossentropy: 5.2708e-04 - val_accuracy: 1.0000 - 798ms/epoch - 10ms/step\n",
      "Epoch 436/10000\n",
      ".80/80 - 1s - loss: 7.0775e-04 - binary_crossentropy: 7.0775e-04 - accuracy: 0.9997 - val_loss: 5.0942e-04 - val_binary_crossentropy: 5.0942e-04 - val_accuracy: 1.0000 - 836ms/epoch - 10ms/step\n",
      "Epoch 437/10000\n",
      ".80/80 - 1s - loss: 7.5137e-04 - binary_crossentropy: 7.5137e-04 - accuracy: 0.9997 - val_loss: 4.9232e-04 - val_binary_crossentropy: 4.9232e-04 - val_accuracy: 1.0000 - 719ms/epoch - 9ms/step\n",
      "Epoch 438/10000\n",
      ".80/80 - 1s - loss: 7.1916e-04 - binary_crossentropy: 7.1916e-04 - accuracy: 0.9997 - val_loss: 5.0188e-04 - val_binary_crossentropy: 5.0188e-04 - val_accuracy: 1.0000 - 885ms/epoch - 11ms/step\n",
      "Epoch 439/10000\n",
      ".80/80 - 1s - loss: 6.4739e-04 - binary_crossentropy: 6.4739e-04 - accuracy: 0.9997 - val_loss: 5.1278e-04 - val_binary_crossentropy: 5.1278e-04 - val_accuracy: 1.0000 - 911ms/epoch - 11ms/step\n",
      "Epoch 440/10000\n",
      ".80/80 - 1s - loss: 6.5267e-04 - binary_crossentropy: 6.5267e-04 - accuracy: 0.9997 - val_loss: 5.1085e-04 - val_binary_crossentropy: 5.1085e-04 - val_accuracy: 1.0000 - 752ms/epoch - 9ms/step\n",
      "Epoch 441/10000\n",
      ".80/80 - 1s - loss: 6.7440e-04 - binary_crossentropy: 6.7440e-04 - accuracy: 0.9997 - val_loss: 5.2207e-04 - val_binary_crossentropy: 5.2207e-04 - val_accuracy: 1.0000 - 749ms/epoch - 9ms/step\n",
      "Epoch 442/10000\n",
      ".80/80 - 1s - loss: 6.8738e-04 - binary_crossentropy: 6.8738e-04 - accuracy: 0.9997 - val_loss: 5.1972e-04 - val_binary_crossentropy: 5.1972e-04 - val_accuracy: 1.0000 - 817ms/epoch - 10ms/step\n",
      "Epoch 443/10000\n",
      ".80/80 - 1s - loss: 6.8688e-04 - binary_crossentropy: 6.8688e-04 - accuracy: 0.9997 - val_loss: 5.4421e-04 - val_binary_crossentropy: 5.4421e-04 - val_accuracy: 1.0000 - 762ms/epoch - 10ms/step\n",
      "Epoch 444/10000\n",
      ".80/80 - 1s - loss: 6.9465e-04 - binary_crossentropy: 6.9465e-04 - accuracy: 0.9997 - val_loss: 5.3163e-04 - val_binary_crossentropy: 5.3163e-04 - val_accuracy: 1.0000 - 727ms/epoch - 9ms/step\n",
      "Epoch 445/10000\n",
      ".80/80 - 1s - loss: 6.9652e-04 - binary_crossentropy: 6.9652e-04 - accuracy: 0.9997 - val_loss: 5.2952e-04 - val_binary_crossentropy: 5.2952e-04 - val_accuracy: 1.0000 - 744ms/epoch - 9ms/step\n",
      "Epoch 446/10000\n",
      ".80/80 - 1s - loss: 7.4741e-04 - binary_crossentropy: 7.4741e-04 - accuracy: 0.9997 - val_loss: 5.3215e-04 - val_binary_crossentropy: 5.3215e-04 - val_accuracy: 1.0000 - 728ms/epoch - 9ms/step\n",
      "Epoch 447/10000\n",
      ".80/80 - 1s - loss: 6.9609e-04 - binary_crossentropy: 6.9609e-04 - accuracy: 0.9997 - val_loss: 5.3470e-04 - val_binary_crossentropy: 5.3470e-04 - val_accuracy: 1.0000 - 746ms/epoch - 9ms/step\n",
      "Epoch 448/10000\n",
      ".80/80 - 1s - loss: 6.8877e-04 - binary_crossentropy: 6.8877e-04 - accuracy: 0.9997 - val_loss: 5.3860e-04 - val_binary_crossentropy: 5.3860e-04 - val_accuracy: 1.0000 - 749ms/epoch - 9ms/step\n",
      "Epoch 449/10000\n",
      ".80/80 - 1s - loss: 6.3396e-04 - binary_crossentropy: 6.3396e-04 - accuracy: 0.9997 - val_loss: 5.1857e-04 - val_binary_crossentropy: 5.1857e-04 - val_accuracy: 1.0000 - 754ms/epoch - 9ms/step\n",
      "Epoch 450/10000\n",
      ".80/80 - 1s - loss: 6.4877e-04 - binary_crossentropy: 6.4877e-04 - accuracy: 0.9997 - val_loss: 5.2842e-04 - val_binary_crossentropy: 5.2842e-04 - val_accuracy: 1.0000 - 727ms/epoch - 9ms/step\n",
      "Epoch 451/10000\n",
      ".80/80 - 1s - loss: 6.5963e-04 - binary_crossentropy: 6.5963e-04 - accuracy: 0.9997 - val_loss: 5.2285e-04 - val_binary_crossentropy: 5.2285e-04 - val_accuracy: 1.0000 - 728ms/epoch - 9ms/step\n",
      "Epoch 452/10000\n",
      ".80/80 - 1s - loss: 6.9723e-04 - binary_crossentropy: 6.9723e-04 - accuracy: 0.9997 - val_loss: 5.0736e-04 - val_binary_crossentropy: 5.0736e-04 - val_accuracy: 1.0000 - 773ms/epoch - 10ms/step\n",
      "Epoch 453/10000\n",
      ".80/80 - 1s - loss: 6.8383e-04 - binary_crossentropy: 6.8383e-04 - accuracy: 0.9997 - val_loss: 5.2623e-04 - val_binary_crossentropy: 5.2623e-04 - val_accuracy: 1.0000 - 753ms/epoch - 9ms/step\n",
      "Epoch 454/10000\n",
      ".80/80 - 1s - loss: 7.3706e-04 - binary_crossentropy: 7.3706e-04 - accuracy: 0.9997 - val_loss: 5.1475e-04 - val_binary_crossentropy: 5.1475e-04 - val_accuracy: 1.0000 - 754ms/epoch - 9ms/step\n",
      "Epoch 455/10000\n",
      ".80/80 - 1s - loss: 7.2976e-04 - binary_crossentropy: 7.2976e-04 - accuracy: 0.9997 - val_loss: 5.1390e-04 - val_binary_crossentropy: 5.1390e-04 - val_accuracy: 1.0000 - 768ms/epoch - 10ms/step\n",
      "Epoch 456/10000\n",
      ".80/80 - 1s - loss: 6.7784e-04 - binary_crossentropy: 6.7784e-04 - accuracy: 0.9997 - val_loss: 5.1848e-04 - val_binary_crossentropy: 5.1848e-04 - val_accuracy: 1.0000 - 732ms/epoch - 9ms/step\n",
      "Epoch 457/10000\n",
      ".80/80 - 1s - loss: 6.8464e-04 - binary_crossentropy: 6.8464e-04 - accuracy: 0.9997 - val_loss: 5.0396e-04 - val_binary_crossentropy: 5.0396e-04 - val_accuracy: 1.0000 - 736ms/epoch - 9ms/step\n",
      "Epoch 458/10000\n",
      ".80/80 - 1s - loss: 6.4222e-04 - binary_crossentropy: 6.4222e-04 - accuracy: 0.9997 - val_loss: 5.1695e-04 - val_binary_crossentropy: 5.1695e-04 - val_accuracy: 1.0000 - 729ms/epoch - 9ms/step\n",
      "Epoch 459/10000\n",
      ".80/80 - 1s - loss: 6.1321e-04 - binary_crossentropy: 6.1321e-04 - accuracy: 0.9997 - val_loss: 5.1571e-04 - val_binary_crossentropy: 5.1571e-04 - val_accuracy: 1.0000 - 741ms/epoch - 9ms/step\n",
      "Epoch 460/10000\n",
      ".80/80 - 1s - loss: 6.5512e-04 - binary_crossentropy: 6.5512e-04 - accuracy: 0.9997 - val_loss: 5.0325e-04 - val_binary_crossentropy: 5.0325e-04 - val_accuracy: 1.0000 - 746ms/epoch - 9ms/step\n",
      "Epoch 461/10000\n",
      ".80/80 - 1s - loss: 6.6184e-04 - binary_crossentropy: 6.6184e-04 - accuracy: 0.9997 - val_loss: 5.0183e-04 - val_binary_crossentropy: 5.0183e-04 - val_accuracy: 1.0000 - 735ms/epoch - 9ms/step\n",
      "Epoch 462/10000\n",
      ".80/80 - 1s - loss: 6.5019e-04 - binary_crossentropy: 6.5019e-04 - accuracy: 0.9997 - val_loss: 5.1025e-04 - val_binary_crossentropy: 5.1025e-04 - val_accuracy: 1.0000 - 723ms/epoch - 9ms/step\n",
      "Epoch 463/10000\n",
      ".80/80 - 1s - loss: 6.8367e-04 - binary_crossentropy: 6.8367e-04 - accuracy: 0.9997 - val_loss: 5.1754e-04 - val_binary_crossentropy: 5.1754e-04 - val_accuracy: 1.0000 - 769ms/epoch - 10ms/step\n",
      "Epoch 464/10000\n",
      ".80/80 - 1s - loss: 6.8670e-04 - binary_crossentropy: 6.8670e-04 - accuracy: 0.9997 - val_loss: 5.1259e-04 - val_binary_crossentropy: 5.1259e-04 - val_accuracy: 1.0000 - 735ms/epoch - 9ms/step\n",
      "Epoch 465/10000\n",
      ".80/80 - 1s - loss: 6.8856e-04 - binary_crossentropy: 6.8856e-04 - accuracy: 0.9997 - val_loss: 5.1426e-04 - val_binary_crossentropy: 5.1426e-04 - val_accuracy: 1.0000 - 746ms/epoch - 9ms/step\n",
      "Epoch 466/10000\n",
      ".80/80 - 1s - loss: 7.1179e-04 - binary_crossentropy: 7.1179e-04 - accuracy: 0.9997 - val_loss: 5.0688e-04 - val_binary_crossentropy: 5.0688e-04 - val_accuracy: 1.0000 - 824ms/epoch - 10ms/step\n",
      "Epoch 467/10000\n",
      ".80/80 - 1s - loss: 6.8426e-04 - binary_crossentropy: 6.8426e-04 - accuracy: 0.9997 - val_loss: 5.1974e-04 - val_binary_crossentropy: 5.1974e-04 - val_accuracy: 1.0000 - 724ms/epoch - 9ms/step\n",
      "Epoch 468/10000\n",
      ".80/80 - 1s - loss: 6.8627e-04 - binary_crossentropy: 6.8627e-04 - accuracy: 0.9997 - val_loss: 5.1867e-04 - val_binary_crossentropy: 5.1867e-04 - val_accuracy: 1.0000 - 744ms/epoch - 9ms/step\n",
      "Epoch 469/10000\n",
      ".80/80 - 1s - loss: 0.0022 - binary_crossentropy: 0.0022 - accuracy: 0.9993 - val_loss: 0.0045 - val_binary_crossentropy: 0.0045 - val_accuracy: 0.9990 - 740ms/epoch - 9ms/step\n",
      "Epoch 470/10000\n",
      ".80/80 - 1s - loss: 0.0073 - binary_crossentropy: 0.0073 - accuracy: 0.9985 - val_loss: 0.0018 - val_binary_crossentropy: 0.0018 - val_accuracy: 0.9993 - 738ms/epoch - 9ms/step\n",
      "Epoch 471/10000\n",
      ".80/80 - 1s - loss: 0.0082 - binary_crossentropy: 0.0082 - accuracy: 0.9976 - val_loss: 0.0044 - val_binary_crossentropy: 0.0044 - val_accuracy: 0.9990 - 784ms/epoch - 10ms/step\n",
      "Epoch 472/10000\n",
      ".80/80 - 1s - loss: 0.0055 - binary_crossentropy: 0.0055 - accuracy: 0.9982 - val_loss: 0.0012 - val_binary_crossentropy: 0.0012 - val_accuracy: 1.0000 - 754ms/epoch - 9ms/step\n",
      "Epoch 473/10000\n",
      ".80/80 - 1s - loss: 0.0026 - binary_crossentropy: 0.0026 - accuracy: 0.9990 - val_loss: 7.3325e-04 - val_binary_crossentropy: 7.3325e-04 - val_accuracy: 1.0000 - 878ms/epoch - 11ms/step\n",
      "Epoch 474/10000\n",
      ".80/80 - 1s - loss: 0.0016 - binary_crossentropy: 0.0016 - accuracy: 0.9996 - val_loss: 5.5183e-04 - val_binary_crossentropy: 5.5183e-04 - val_accuracy: 1.0000 - 729ms/epoch - 9ms/step\n",
      "Epoch 475/10000\n",
      ".80/80 - 1s - loss: 9.2723e-04 - binary_crossentropy: 9.2723e-04 - accuracy: 0.9996 - val_loss: 5.4193e-04 - val_binary_crossentropy: 5.4193e-04 - val_accuracy: 1.0000 - 736ms/epoch - 9ms/step\n",
      "Epoch 476/10000\n",
      ".80/80 - 1s - loss: 8.5094e-04 - binary_crossentropy: 8.5094e-04 - accuracy: 0.9996 - val_loss: 5.2073e-04 - val_binary_crossentropy: 5.2073e-04 - val_accuracy: 1.0000 - 735ms/epoch - 9ms/step\n",
      "Epoch 477/10000\n",
      ".80/80 - 1s - loss: 8.8325e-04 - binary_crossentropy: 8.8325e-04 - accuracy: 0.9997 - val_loss: 5.1988e-04 - val_binary_crossentropy: 5.1988e-04 - val_accuracy: 1.0000 - 734ms/epoch - 9ms/step\n",
      "Epoch 478/10000\n",
      ".80/80 - 1s - loss: 7.8761e-04 - binary_crossentropy: 7.8761e-04 - accuracy: 0.9997 - val_loss: 5.0660e-04 - val_binary_crossentropy: 5.0660e-04 - val_accuracy: 1.0000 - 750ms/epoch - 9ms/step\n",
      "Epoch 479/10000\n",
      ".80/80 - 1s - loss: 7.2639e-04 - binary_crossentropy: 7.2639e-04 - accuracy: 0.9997 - val_loss: 5.0231e-04 - val_binary_crossentropy: 5.0231e-04 - val_accuracy: 1.0000 - 744ms/epoch - 9ms/step\n",
      "Epoch 480/10000\n",
      ".80/80 - 1s - loss: 6.5304e-04 - binary_crossentropy: 6.5304e-04 - accuracy: 0.9997 - val_loss: 4.8310e-04 - val_binary_crossentropy: 4.8310e-04 - val_accuracy: 1.0000 - 735ms/epoch - 9ms/step\n",
      "Epoch 481/10000\n",
      ".80/80 - 1s - loss: 7.1683e-04 - binary_crossentropy: 7.1683e-04 - accuracy: 0.9997 - val_loss: 4.8178e-04 - val_binary_crossentropy: 4.8178e-04 - val_accuracy: 1.0000 - 752ms/epoch - 9ms/step\n",
      "Epoch 482/10000\n",
      ".80/80 - 1s - loss: 6.8362e-04 - binary_crossentropy: 6.8362e-04 - accuracy: 0.9997 - val_loss: 4.8645e-04 - val_binary_crossentropy: 4.8645e-04 - val_accuracy: 1.0000 - 736ms/epoch - 9ms/step\n",
      "Epoch 483/10000\n",
      ".80/80 - 1s - loss: 6.5199e-04 - binary_crossentropy: 6.5199e-04 - accuracy: 0.9997 - val_loss: 4.7768e-04 - val_binary_crossentropy: 4.7768e-04 - val_accuracy: 1.0000 - 742ms/epoch - 9ms/step\n",
      "Epoch 484/10000\n",
      ".80/80 - 1s - loss: 6.9347e-04 - binary_crossentropy: 6.9347e-04 - accuracy: 0.9997 - val_loss: 4.6548e-04 - val_binary_crossentropy: 4.6548e-04 - val_accuracy: 1.0000 - 737ms/epoch - 9ms/step\n",
      "Epoch 485/10000\n",
      ".80/80 - 1s - loss: 7.2379e-04 - binary_crossentropy: 7.2379e-04 - accuracy: 0.9997 - val_loss: 4.5684e-04 - val_binary_crossentropy: 4.5684e-04 - val_accuracy: 1.0000 - 735ms/epoch - 9ms/step\n",
      "Epoch 486/10000\n",
      ".80/80 - 1s - loss: 7.2796e-04 - binary_crossentropy: 7.2796e-04 - accuracy: 0.9997 - val_loss: 4.7463e-04 - val_binary_crossentropy: 4.7463e-04 - val_accuracy: 1.0000 - 771ms/epoch - 10ms/step\n",
      "Epoch 487/10000\n",
      ".80/80 - 1s - loss: 6.6985e-04 - binary_crossentropy: 6.6985e-04 - accuracy: 0.9997 - val_loss: 4.8986e-04 - val_binary_crossentropy: 4.8986e-04 - val_accuracy: 1.0000 - 716ms/epoch - 9ms/step\n",
      "Epoch 488/10000\n",
      ".80/80 - 1s - loss: 6.8796e-04 - binary_crossentropy: 6.8796e-04 - accuracy: 0.9997 - val_loss: 4.8529e-04 - val_binary_crossentropy: 4.8529e-04 - val_accuracy: 1.0000 - 742ms/epoch - 9ms/step\n",
      "Epoch 489/10000\n",
      ".80/80 - 1s - loss: 6.8641e-04 - binary_crossentropy: 6.8641e-04 - accuracy: 0.9997 - val_loss: 4.8193e-04 - val_binary_crossentropy: 4.8193e-04 - val_accuracy: 1.0000 - 737ms/epoch - 9ms/step\n",
      "Epoch 490/10000\n",
      ".80/80 - 1s - loss: 7.0463e-04 - binary_crossentropy: 7.0463e-04 - accuracy: 0.9997 - val_loss: 4.8765e-04 - val_binary_crossentropy: 4.8765e-04 - val_accuracy: 1.0000 - 719ms/epoch - 9ms/step\n",
      "Epoch 491/10000\n",
      ".80/80 - 1s - loss: 6.9068e-04 - binary_crossentropy: 6.9068e-04 - accuracy: 0.9997 - val_loss: 4.8871e-04 - val_binary_crossentropy: 4.8871e-04 - val_accuracy: 1.0000 - 733ms/epoch - 9ms/step\n",
      "Epoch 492/10000\n",
      ".80/80 - 1s - loss: 6.7419e-04 - binary_crossentropy: 6.7419e-04 - accuracy: 0.9997 - val_loss: 4.8824e-04 - val_binary_crossentropy: 4.8824e-04 - val_accuracy: 1.0000 - 729ms/epoch - 9ms/step\n",
      "Epoch 493/10000\n",
      ".80/80 - 1s - loss: 6.1656e-04 - binary_crossentropy: 6.1656e-04 - accuracy: 0.9997 - val_loss: 4.9374e-04 - val_binary_crossentropy: 4.9374e-04 - val_accuracy: 1.0000 - 769ms/epoch - 10ms/step\n",
      "Epoch 494/10000\n",
      ".80/80 - 1s - loss: 6.8495e-04 - binary_crossentropy: 6.8495e-04 - accuracy: 0.9997 - val_loss: 5.0006e-04 - val_binary_crossentropy: 5.0006e-04 - val_accuracy: 1.0000 - 719ms/epoch - 9ms/step\n",
      "Epoch 495/10000\n",
      ".80/80 - 1s - loss: 6.2740e-04 - binary_crossentropy: 6.2740e-04 - accuracy: 0.9997 - val_loss: 4.8643e-04 - val_binary_crossentropy: 4.8643e-04 - val_accuracy: 1.0000 - 742ms/epoch - 9ms/step\n",
      "Epoch 496/10000\n",
      ".80/80 - 1s - loss: 6.5010e-04 - binary_crossentropy: 6.5010e-04 - accuracy: 0.9997 - val_loss: 5.0393e-04 - val_binary_crossentropy: 5.0393e-04 - val_accuracy: 1.0000 - 774ms/epoch - 10ms/step\n",
      "Epoch 497/10000\n",
      ".80/80 - 1s - loss: 6.3335e-04 - binary_crossentropy: 6.3335e-04 - accuracy: 0.9997 - val_loss: 4.9690e-04 - val_binary_crossentropy: 4.9690e-04 - val_accuracy: 1.0000 - 737ms/epoch - 9ms/step\n",
      "Epoch 498/10000\n",
      ".80/80 - 1s - loss: 6.4046e-04 - binary_crossentropy: 6.4046e-04 - accuracy: 0.9997 - val_loss: 5.0505e-04 - val_binary_crossentropy: 5.0505e-04 - val_accuracy: 1.0000 - 738ms/epoch - 9ms/step\n",
      "Epoch 499/10000\n",
      ".80/80 - 1s - loss: 6.3795e-04 - binary_crossentropy: 6.3795e-04 - accuracy: 0.9997 - val_loss: 5.1082e-04 - val_binary_crossentropy: 5.1082e-04 - val_accuracy: 1.0000 - 717ms/epoch - 9ms/step\n",
      "Epoch 500/10000\n",
      ".80/80 - 1s - loss: 6.7698e-04 - binary_crossentropy: 6.7698e-04 - accuracy: 0.9997 - val_loss: 4.9992e-04 - val_binary_crossentropy: 4.9992e-04 - val_accuracy: 1.0000 - 730ms/epoch - 9ms/step\n",
      "Epoch 501/10000\n",
      "\n",
      "Epoch: 500, accuracy:0.9997,  binary_crossentropy:0.0007,  loss:0.0007,  val_accuracy:1.0000,  val_binary_crossentropy:0.0005,  val_loss:0.0005,  \n",
      ".80/80 - 1s - loss: 6.7630e-04 - binary_crossentropy: 6.7630e-04 - accuracy: 0.9997 - val_loss: 5.0335e-04 - val_binary_crossentropy: 5.0335e-04 - val_accuracy: 1.0000 - 752ms/epoch - 9ms/step\n",
      "Epoch 502/10000\n",
      ".80/80 - 1s - loss: 6.3332e-04 - binary_crossentropy: 6.3332e-04 - accuracy: 0.9997 - val_loss: 5.0540e-04 - val_binary_crossentropy: 5.0540e-04 - val_accuracy: 1.0000 - 747ms/epoch - 9ms/step\n",
      "Epoch 503/10000\n",
      ".80/80 - 1s - loss: 6.9496e-04 - binary_crossentropy: 6.9496e-04 - accuracy: 0.9997 - val_loss: 5.0500e-04 - val_binary_crossentropy: 5.0500e-04 - val_accuracy: 1.0000 - 719ms/epoch - 9ms/step\n",
      "Epoch 504/10000\n",
      ".80/80 - 1s - loss: 6.7873e-04 - binary_crossentropy: 6.7873e-04 - accuracy: 0.9997 - val_loss: 5.1879e-04 - val_binary_crossentropy: 5.1879e-04 - val_accuracy: 1.0000 - 746ms/epoch - 9ms/step\n",
      "Epoch 505/10000\n",
      ".80/80 - 1s - loss: 6.8860e-04 - binary_crossentropy: 6.8860e-04 - accuracy: 0.9997 - val_loss: 5.0550e-04 - val_binary_crossentropy: 5.0550e-04 - val_accuracy: 1.0000 - 732ms/epoch - 9ms/step\n"
     ]
    }
   ],
   "source": [
    "dict_histories['ver1'] = compile_and_fit(model = model_1, name ='ver1',\n",
    "                                         f_xtrain = X_train_1,f_ytrain = y_train_1, \n",
    "                                         f_xval = X_val, f_yval = y_val)"
   ]
  },
  {
   "cell_type": "code",
   "execution_count": 66,
   "id": "c8381acd-e0ec-4250-a965-af211d29047a",
   "metadata": {},
   "outputs": [
    {
     "data": {
      "image/png": "[encoded data removed]",
      "text/plain": [
       "<Figure size 432x288 with 1 Axes>"
      ]
     },
     "metadata": {
      "needs_background": "light"
     },
     "output_type": "display_data"
    }
   ],
   "source": [
    "plotter = tfdocs.plots.HistoryPlotter(metric = 'binary_crossentropy', smoothing_std=10)\n",
    "plotter.plot(dict_histories)"
   ]
  },
  {
   "cell_type": "code",
   "execution_count": 67,
   "id": "b0fc85c1-37b6-4325-ad8c-40ea07c19843",
   "metadata": {},
   "outputs": [
    {
     "data": {
      "text/plain": [
       "<matplotlib.legend.Legend at 0x29a08213ac0>"
      ]
     },
     "execution_count": 67,
     "metadata": {},
     "output_type": "execute_result"
    },
    {
     "data": {
      "image/png": "[encoded data removed]",
      "text/plain": [
       "<Figure size 432x288 with 1 Axes>"
      ]
     },
     "metadata": {
      "needs_background": "light"
     },
     "output_type": "display_data"
    }
   ],
   "source": [
    "plt.plot(dict_histories['ver1'].history['loss'], label='training loss')\n",
    "plt.plot(dict_histories['ver1'].history['val_loss'], label='validation loss')\n",
    "plt.xlabel('Epoch')\n",
    "plt.ylabel('Loss')\n",
    "plt.legend()"
   ]
  },
  {
   "cell_type": "code",
   "execution_count": 70,
   "id": "31032ec3-1465-4b84-b2a5-e2e491aca785",
   "metadata": {},
   "outputs": [
    {
     "name": "stdout",
     "output_type": "stream",
     "text": [
      "313/313 [==============================] - 2s 6ms/step - loss: 3.7382 - binary_crossentropy: 3.7382 - accuracy: 0.8591\n",
      "{'model': [3.738208293914795, 3.738208293914795, 0.8590999841690063]}\n"
     ]
    }
   ],
   "source": [
    "test_results = {}\n",
    "\n",
    "test_results['model'] = model_1.evaluate(\n",
    "    X_test, y_test, verbose=1)\n",
    "\n",
    "print(test_results)"
   ]
  },
  {
   "cell_type": "code",
   "execution_count": 92,
   "id": "44f9f3ce-74b2-44b7-9bca-685b786d9570",
   "metadata": {},
   "outputs": [
    {
     "name": "stdout",
     "output_type": "stream",
     "text": [
      "313/313 [==============================] - 1s 2ms/step\n"
     ]
    }
   ],
   "source": [
    "result = model_1.predict(X_test)"
   ]
  },
  {
   "cell_type": "code",
   "execution_count": 93,
   "id": "dcfc1a75-e111-41e4-ad0f-1a3bf4b44644",
   "metadata": {},
   "outputs": [],
   "source": [
    "res = tf.math.confusion_matrix(y_test, result)"
   ]
  },
  {
   "cell_type": "code",
   "execution_count": 94,
   "id": "ef14cb0b-04e9-434a-af33-6f56a3e0ee7a",
   "metadata": {},
   "outputs": [
    {
     "name": "stdout",
     "output_type": "stream",
     "text": [
      "tf.Tensor(\n",
      "[[4616  345]\n",
      " [1381 3658]], shape=(2, 2), dtype=int32)\n"
     ]
    }
   ],
   "source": [
    "print(res)"
   ]
  },
  {
   "cell_type": "code",
   "execution_count": 95,
   "id": "a93ffed3-bf88-4fe2-9668-600d4b412897",
   "metadata": {},
   "outputs": [
    {
     "data": {
      "text/plain": [
       "2.2049427365883063"
      ]
     },
     "execution_count": 95,
     "metadata": {},
     "output_type": "execute_result"
    }
   ],
   "source": [
    "# precision\n",
    "3658/(1391+268)"
   ]
  },
  {
   "cell_type": "code",
   "execution_count": 96,
   "id": "fc534398-bdd6-40dd-8b88-ca0065d97133",
   "metadata": {},
   "outputs": [
    {
     "data": {
      "text/plain": [
       "0.9138146390207345"
      ]
     },
     "execution_count": 96,
     "metadata": {},
     "output_type": "execute_result"
    }
   ],
   "source": [
    "#recall \n",
    "3658/(3658+345)"
   ]
  },
  {
   "cell_type": "code",
   "execution_count": null,
   "id": "79c796a5-fee8-4b5a-8f3c-15b307e90bc9",
   "metadata": {},
   "outputs": [],
   "source": []
  }
 ],
 "metadata": {
  "kernelspec": {
   "display_name": "Python 3 (ipykernel)",
   "language": "python",
   "name": "python3"
  },
  "language_info": {
   "codemirror_mode": {
    "name": "ipython",
    "version": 3
   },
   "file_extension": ".py",
   "mimetype": "text/x-python",
   "name": "python",
   "nbconvert_exporter": "python",
   "pygments_lexer": "ipython3",
   "version": "3.9.12"
  }
 },
 "nbformat": 4,
 "nbformat_minor": 5
}
